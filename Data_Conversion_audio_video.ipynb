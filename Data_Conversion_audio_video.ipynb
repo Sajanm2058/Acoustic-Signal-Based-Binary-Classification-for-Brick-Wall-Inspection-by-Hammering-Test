{
  "nbformat": 4,
  "nbformat_minor": 0,
  "metadata": {
    "colab": {
      "provenance": [],
      "authorship_tag": "ABX9TyNPvB72IIUfm4eMGwbpcroM",
      "include_colab_link": true
    },
    "kernelspec": {
      "name": "python3",
      "display_name": "Python 3"
    },
    "language_info": {
      "name": "python"
    }
  },
  "cells": [
    {
      "cell_type": "markdown",
      "metadata": {
        "id": "view-in-github",
        "colab_type": "text"
      },
      "source": [
        "<a href=\"https://colab.research.google.com/github/Sajanm2058/Acoustic-Signal-Based-Binary-Classification-for-Brick-Wall-Inspection-by-Hammering-Test/blob/main/Data_Conversion_audio_video.ipynb\" target=\"_parent\"><img src=\"https://colab.research.google.com/assets/colab-badge.svg\" alt=\"Open In Colab\"/></a>"
      ]
    },
    {
      "cell_type": "code",
      "execution_count": null,
      "metadata": {
        "colab": {
          "base_uri": "https://localhost:8080/"
        },
        "id": "FKGY5fxDjWr5",
        "outputId": "1d8ba13b-febf-4ea7-fde7-fd8803270102"
      },
      "outputs": [
        {
          "output_type": "stream",
          "name": "stdout",
          "text": [
            "Mounted at /content/drive\n"
          ]
        }
      ],
      "source": [
        "from google.colab import drive\n",
        "drive.mount('/content/drive')\n"
      ]
    },
    {
      "cell_type": "code",
      "source": [
        "import os\n",
        "\n",
        "base_path = '/content/drive/My Drive/Hammering_Test/Good_Data'\n",
        "\n",
        "\n",
        "# List folders and files in 'Hammering Test'\n",
        "print(\"Contents of 'Hammering Test':\")\n",
        "print(os.listdir(base_path))\n"
      ],
      "metadata": {
        "colab": {
          "base_uri": "https://localhost:8080/"
        },
        "id": "XTHyhKrelxt8",
        "outputId": "251a1a56-41f8-4265-b7e0-048f47c30a73"
      },
      "execution_count": null,
      "outputs": [
        {
          "output_type": "stream",
          "name": "stdout",
          "text": [
            "Contents of 'Hammering Test':\n",
            "['VID_20250608_155058.mp4', 'VID_20250608_155007.mp4', 'VID_20250608_155000.mp4', 'VID_20250608_154952.mp4', 'VID_20250608_154944.mp4', 'VID_20250608_154935.mp4', 'VID_20250608_154848.mp4', 'VID_20250608_154838.mp4', 'VID_20250608_154831.mp4', 'VID_20250608_154824.mp4', 'VID_20250608_154816.mp4', 'VID_20250608_154808.mp4', 'VID_20250608_142447.mp4', 'VID_20250608_142440.mp4', 'VID_20250608_142431.mp4', 'VID_20250608_142423.mp4', 'VID_20250608_142323.mp4', 'VID_20250608_142312.mp4', 'VID_20250608_142305.mp4', 'VID_20250608_142256.mp4', 'VID_20250608_142249.mp4', 'VID_20250608_142237.mp4', 'VID_20250608_142153.mp4', 'VID_20250608_142145.mp4', 'VID_20250608_142138.mp4', 'VID_20250608_142131.mp4', 'VID_20250608_142124.mp4', 'VID_20250608_142042.mp4', 'VID_20250608_142034.mp4', 'VID_20250608_142026.mp4', 'VID_20250608_142018.mp4', 'VID_20250608_142011.mp4', 'VID_20250608_141444.mp4', 'VID_20250608_141435.mp4', 'VID_20250608_141428.mp4', 'VID_20250608_141416.mp4', 'VID_20250608_141402.mp4', 'VID_20250608_141221.mp4', 'VID_20250608_141213.mp4', 'VID_20250608_141205.mp4', 'VID_20250608_141157.mp4', 'VID_20250608_141148.mp4', 'VID_20250608_141003.mp4', 'VID_20250608_140951.mp4', 'VID_20250608_140943.mp4', 'VID_20250608_140936.mp4', 'VID_20250608_140927.mp4', 'VID_20250608_140846.mp4', 'VID_20250608_140838.mp4', 'VID_20250608_140830.mp4', 'VID_20250608_140822.mp4', 'VID_20250608_140814.mp4', 'VID_20250608_124813.mp4', 'VID_20250608_124805.mp4', 'VID_20250608_124757.mp4', 'VID_20250608_124750.mp4', 'VID_20250608_124632.mp4', 'VID_20250608_124625.mp4', 'VID_20250608_124616.mp4', 'VID_20250608_124609.mp4', 'VID_20250608_124601.mp4', 'VID_20250608_124437.mp4', 'VID_20250608_124429.mp4', 'VID_20250608_124421.mp4', 'VID_20250608_124413.mp4', 'VID_20250608_124404.mp4', 'VID_20250608_124250.mp4', 'VID_20250608_124238.mp4', 'VID_20250608_124228.mp4', 'VID_20250608_124206.mp4', 'VID_20250608_124104.mp4', 'VID_20250608_124056.mp4', 'VID_20250608_124047.mp4', 'VID_20250608_124038.mp4', 'VID_20250608_123908.mp4', 'VID_20250608_123900.mp4', 'VID_20250608_123852.mp4', 'VID_20250608_123845.mp4', 'VID_20250608_123754.mp4', 'VID_20250608_123746.mp4', 'VID_20250608_123737.mp4', 'VID_20250608_123730.mp4', 'VID_20250608_123641.mp4', 'VID_20250608_123634.mp4', 'VID_20250608_123626.mp4', 'VID_20250608_122950.mp4', 'VID_20250608_122939.mp4', 'VID_20250608_122835.mp4', 'VID_20250608_122826.mp4', 'VID_20250608_122816.mp4', 'VID_20250608_121423.mp4', 'VID_20250608_123615.mp4', 'VID_20250608_123502.mp4', 'VID_20250608_123455.mp4', 'VID_20250608_123447.mp4', 'VID_20250608_123328.mp4', 'VID_20250608_123318.mp4', 'VID_20250608_123253.mp4', 'VID_20250608_123243.mp4', 'VID_20250608_123234.mp4', 'VID_20250608_123122.mp4', 'VID_20250608_123113.mp4', 'VID_20250608_123106.mp4', 'VID_20250608_123058.mp4', 'VID_20250608_122959.mp4']\n"
          ]
        }
      ]
    },
    {
      "cell_type": "code",
      "source": [
        "import os\n",
        "\n",
        "# Set your folder path here\n",
        "folder_path = '/content/drive/My Drive/Hammering_Test/Good_Data'\n",
        "\n",
        "# List all .mp4 files and sort them (optional)\n",
        "video_files = sorted([f for f in os.listdir(folder_path) if f.endswith('.mp4')])"
      ],
      "metadata": {
        "id": "qNOsz3Jjq5Jm"
      },
      "execution_count": null,
      "outputs": []
    },
    {
      "cell_type": "code",
      "source": [
        "for idx, filename in enumerate(video_files, start=1):\n",
        "    new_filename = f\"sample_{idx}.mp4\"\n",
        "    old_path = os.path.join(folder_path, filename)\n",
        "    new_path = os.path.join(folder_path, new_filename)\n",
        "    os.rename(old_path, new_path)\n",
        "    print(f\"Renamed: {filename} → {new_filename}\")"
      ],
      "metadata": {
        "colab": {
          "base_uri": "https://localhost:8080/"
        },
        "id": "s9MoC9OBrDkc",
        "outputId": "b5c4b2fa-e73a-4b31-bdeb-2d28e2d1e4fe"
      },
      "execution_count": null,
      "outputs": [
        {
          "output_type": "stream",
          "name": "stdout",
          "text": [
            "Renamed: VID_20250608_121423.mp4 → sample_1.mp4\n",
            "Renamed: VID_20250608_122816.mp4 → sample_2.mp4\n",
            "Renamed: VID_20250608_122826.mp4 → sample_3.mp4\n",
            "Renamed: VID_20250608_122835.mp4 → sample_4.mp4\n",
            "Renamed: VID_20250608_122939.mp4 → sample_5.mp4\n",
            "Renamed: VID_20250608_122950.mp4 → sample_6.mp4\n",
            "Renamed: VID_20250608_122959.mp4 → sample_7.mp4\n",
            "Renamed: VID_20250608_123058.mp4 → sample_8.mp4\n",
            "Renamed: VID_20250608_123106.mp4 → sample_9.mp4\n",
            "Renamed: VID_20250608_123113.mp4 → sample_10.mp4\n",
            "Renamed: VID_20250608_123122.mp4 → sample_11.mp4\n",
            "Renamed: VID_20250608_123234.mp4 → sample_12.mp4\n",
            "Renamed: VID_20250608_123243.mp4 → sample_13.mp4\n",
            "Renamed: VID_20250608_123253.mp4 → sample_14.mp4\n",
            "Renamed: VID_20250608_123318.mp4 → sample_15.mp4\n",
            "Renamed: VID_20250608_123328.mp4 → sample_16.mp4\n",
            "Renamed: VID_20250608_123447.mp4 → sample_17.mp4\n",
            "Renamed: VID_20250608_123455.mp4 → sample_18.mp4\n",
            "Renamed: VID_20250608_123502.mp4 → sample_19.mp4\n",
            "Renamed: VID_20250608_123615.mp4 → sample_20.mp4\n",
            "Renamed: VID_20250608_123626.mp4 → sample_21.mp4\n",
            "Renamed: VID_20250608_123634.mp4 → sample_22.mp4\n",
            "Renamed: VID_20250608_123641.mp4 → sample_23.mp4\n",
            "Renamed: VID_20250608_123730.mp4 → sample_24.mp4\n",
            "Renamed: VID_20250608_123737.mp4 → sample_25.mp4\n",
            "Renamed: VID_20250608_123746.mp4 → sample_26.mp4\n",
            "Renamed: VID_20250608_123754.mp4 → sample_27.mp4\n",
            "Renamed: VID_20250608_123845.mp4 → sample_28.mp4\n",
            "Renamed: VID_20250608_123852.mp4 → sample_29.mp4\n",
            "Renamed: VID_20250608_123900.mp4 → sample_30.mp4\n",
            "Renamed: VID_20250608_123908.mp4 → sample_31.mp4\n",
            "Renamed: VID_20250608_124038.mp4 → sample_32.mp4\n",
            "Renamed: VID_20250608_124047.mp4 → sample_33.mp4\n",
            "Renamed: VID_20250608_124056.mp4 → sample_34.mp4\n",
            "Renamed: VID_20250608_124104.mp4 → sample_35.mp4\n",
            "Renamed: VID_20250608_124206.mp4 → sample_36.mp4\n",
            "Renamed: VID_20250608_124228.mp4 → sample_37.mp4\n",
            "Renamed: VID_20250608_124238.mp4 → sample_38.mp4\n",
            "Renamed: VID_20250608_124250.mp4 → sample_39.mp4\n",
            "Renamed: VID_20250608_124404.mp4 → sample_40.mp4\n",
            "Renamed: VID_20250608_124413.mp4 → sample_41.mp4\n",
            "Renamed: VID_20250608_124421.mp4 → sample_42.mp4\n",
            "Renamed: VID_20250608_124429.mp4 → sample_43.mp4\n",
            "Renamed: VID_20250608_124437.mp4 → sample_44.mp4\n",
            "Renamed: VID_20250608_124601.mp4 → sample_45.mp4\n",
            "Renamed: VID_20250608_124609.mp4 → sample_46.mp4\n",
            "Renamed: VID_20250608_124616.mp4 → sample_47.mp4\n",
            "Renamed: VID_20250608_124625.mp4 → sample_48.mp4\n",
            "Renamed: VID_20250608_124632.mp4 → sample_49.mp4\n",
            "Renamed: VID_20250608_124750.mp4 → sample_50.mp4\n",
            "Renamed: VID_20250608_124757.mp4 → sample_51.mp4\n",
            "Renamed: VID_20250608_124805.mp4 → sample_52.mp4\n",
            "Renamed: VID_20250608_124813.mp4 → sample_53.mp4\n",
            "Renamed: VID_20250608_140814.mp4 → sample_54.mp4\n",
            "Renamed: VID_20250608_140822.mp4 → sample_55.mp4\n",
            "Renamed: VID_20250608_140830.mp4 → sample_56.mp4\n",
            "Renamed: VID_20250608_140838.mp4 → sample_57.mp4\n",
            "Renamed: VID_20250608_140846.mp4 → sample_58.mp4\n",
            "Renamed: VID_20250608_140927.mp4 → sample_59.mp4\n",
            "Renamed: VID_20250608_140936.mp4 → sample_60.mp4\n",
            "Renamed: VID_20250608_140943.mp4 → sample_61.mp4\n",
            "Renamed: VID_20250608_140951.mp4 → sample_62.mp4\n",
            "Renamed: VID_20250608_141003.mp4 → sample_63.mp4\n",
            "Renamed: VID_20250608_141148.mp4 → sample_64.mp4\n",
            "Renamed: VID_20250608_141157.mp4 → sample_65.mp4\n",
            "Renamed: VID_20250608_141205.mp4 → sample_66.mp4\n",
            "Renamed: VID_20250608_141213.mp4 → sample_67.mp4\n",
            "Renamed: VID_20250608_141221.mp4 → sample_68.mp4\n",
            "Renamed: VID_20250608_141402.mp4 → sample_69.mp4\n",
            "Renamed: VID_20250608_141416.mp4 → sample_70.mp4\n",
            "Renamed: VID_20250608_141428.mp4 → sample_71.mp4\n",
            "Renamed: VID_20250608_141435.mp4 → sample_72.mp4\n",
            "Renamed: VID_20250608_141444.mp4 → sample_73.mp4\n",
            "Renamed: VID_20250608_142011.mp4 → sample_74.mp4\n",
            "Renamed: VID_20250608_142018.mp4 → sample_75.mp4\n",
            "Renamed: VID_20250608_142026.mp4 → sample_76.mp4\n",
            "Renamed: VID_20250608_142034.mp4 → sample_77.mp4\n",
            "Renamed: VID_20250608_142042.mp4 → sample_78.mp4\n",
            "Renamed: VID_20250608_142124.mp4 → sample_79.mp4\n",
            "Renamed: VID_20250608_142131.mp4 → sample_80.mp4\n",
            "Renamed: VID_20250608_142138.mp4 → sample_81.mp4\n",
            "Renamed: VID_20250608_142145.mp4 → sample_82.mp4\n",
            "Renamed: VID_20250608_142153.mp4 → sample_83.mp4\n",
            "Renamed: VID_20250608_142237.mp4 → sample_84.mp4\n",
            "Renamed: VID_20250608_142249.mp4 → sample_85.mp4\n",
            "Renamed: VID_20250608_142256.mp4 → sample_86.mp4\n",
            "Renamed: VID_20250608_142305.mp4 → sample_87.mp4\n",
            "Renamed: VID_20250608_142312.mp4 → sample_88.mp4\n",
            "Renamed: VID_20250608_142323.mp4 → sample_89.mp4\n",
            "Renamed: VID_20250608_142423.mp4 → sample_90.mp4\n",
            "Renamed: VID_20250608_142431.mp4 → sample_91.mp4\n",
            "Renamed: VID_20250608_142440.mp4 → sample_92.mp4\n",
            "Renamed: VID_20250608_142447.mp4 → sample_93.mp4\n",
            "Renamed: VID_20250608_154808.mp4 → sample_94.mp4\n",
            "Renamed: VID_20250608_154816.mp4 → sample_95.mp4\n",
            "Renamed: VID_20250608_154824.mp4 → sample_96.mp4\n",
            "Renamed: VID_20250608_154831.mp4 → sample_97.mp4\n",
            "Renamed: VID_20250608_154838.mp4 → sample_98.mp4\n",
            "Renamed: VID_20250608_154848.mp4 → sample_99.mp4\n",
            "Renamed: VID_20250608_154935.mp4 → sample_100.mp4\n",
            "Renamed: VID_20250608_154944.mp4 → sample_101.mp4\n",
            "Renamed: VID_20250608_154952.mp4 → sample_102.mp4\n",
            "Renamed: VID_20250608_155000.mp4 → sample_103.mp4\n",
            "Renamed: VID_20250608_155007.mp4 → sample_104.mp4\n",
            "Renamed: VID_20250608_155058.mp4 → sample_105.mp4\n"
          ]
        }
      ]
    },
    {
      "cell_type": "code",
      "source": [
        "import os\n",
        "\n",
        "# Set your folder path here\n",
        "folder_path = '/content/drive/My Drive/Hammering_Test/Bad_Data'\n",
        "\n",
        "# List all .mp4 files and sort them (optional)\n",
        "video_files = sorted([f for f in os.listdir(folder_path) if f.endswith('.mp4')])"
      ],
      "metadata": {
        "id": "BR0kvX1OrbM3"
      },
      "execution_count": null,
      "outputs": []
    },
    {
      "cell_type": "code",
      "source": [
        "for idx, filename in enumerate(video_files, start=1):\n",
        "    new_filename = f\"sample_{idx}.mp4\"\n",
        "    old_path = os.path.join(folder_path, filename)\n",
        "    new_path = os.path.join(folder_path, new_filename)\n",
        "    os.rename(old_path, new_path)\n",
        "    print(f\"Renamed: {filename} → {new_filename}\")"
      ],
      "metadata": {
        "colab": {
          "base_uri": "https://localhost:8080/"
        },
        "id": "yJBeY6v-re74",
        "outputId": "96085a8f-7eec-4628-ef2a-2dc5c347cf39"
      },
      "execution_count": null,
      "outputs": [
        {
          "output_type": "stream",
          "name": "stdout",
          "text": [
            "Renamed: VID_20250608_121910.mp4 → sample_1.mp4\n",
            "Renamed: VID_20250608_125014.mp4 → sample_2.mp4\n",
            "Renamed: VID_20250608_125022.mp4 → sample_3.mp4\n",
            "Renamed: VID_20250608_125029.mp4 → sample_4.mp4\n",
            "Renamed: VID_20250608_125040.mp4 → sample_5.mp4\n",
            "Renamed: VID_20250608_125047.mp4 → sample_6.mp4\n",
            "Renamed: VID_20250608_125138.mp4 → sample_7.mp4\n",
            "Renamed: VID_20250608_125146.mp4 → sample_8.mp4\n",
            "Renamed: VID_20250608_125155.mp4 → sample_9.mp4\n",
            "Renamed: VID_20250608_125203.mp4 → sample_10.mp4\n",
            "Renamed: VID_20250608_125717.mp4 → sample_11.mp4\n",
            "Renamed: VID_20250608_125726.mp4 → sample_12.mp4\n",
            "Renamed: VID_20250608_125734.mp4 → sample_13.mp4\n",
            "Renamed: VID_20250608_125741.mp4 → sample_14.mp4\n",
            "Renamed: VID_20250608_125749.mp4 → sample_15.mp4\n",
            "Renamed: VID_20250608_125802.mp4 → sample_16.mp4\n",
            "Renamed: VID_20250608_125808.mp4 → sample_17.mp4\n",
            "Renamed: VID_20250608_125816.mp4 → sample_18.mp4\n",
            "Renamed: VID_20250608_125824.mp4 → sample_19.mp4\n",
            "Renamed: VID_20250608_125831.mp4 → sample_20.mp4\n",
            "Renamed: VID_20250608_125929.mp4 → sample_21.mp4\n",
            "Renamed: VID_20250608_125937.mp4 → sample_22.mp4\n",
            "Renamed: VID_20250608_125944.mp4 → sample_23.mp4\n",
            "Renamed: VID_20250608_125952.mp4 → sample_24.mp4\n",
            "Renamed: VID_20250608_130000.mp4 → sample_25.mp4\n",
            "Renamed: VID_20250608_130057.mp4 → sample_26.mp4\n",
            "Renamed: VID_20250608_130106.mp4 → sample_27.mp4\n",
            "Renamed: VID_20250608_130113.mp4 → sample_28.mp4\n",
            "Renamed: VID_20250608_130121.mp4 → sample_29.mp4\n",
            "Renamed: VID_20250608_130129.mp4 → sample_30.mp4\n",
            "Renamed: VID_20250608_130423.mp4 → sample_31.mp4\n",
            "Renamed: VID_20250608_130431.mp4 → sample_32.mp4\n",
            "Renamed: VID_20250608_130438.mp4 → sample_33.mp4\n",
            "Renamed: VID_20250608_130446.mp4 → sample_34.mp4\n",
            "Renamed: VID_20250608_130455.mp4 → sample_35.mp4\n",
            "Renamed: VID_20250608_130647.mp4 → sample_36.mp4\n",
            "Renamed: VID_20250608_130654.mp4 → sample_37.mp4\n",
            "Renamed: VID_20250608_130701.mp4 → sample_38.mp4\n",
            "Renamed: VID_20250608_130714.mp4 → sample_39.mp4\n",
            "Renamed: VID_20250608_130723.mp4 → sample_40.mp4\n",
            "Renamed: VID_20250608_131022.mp4 → sample_41.mp4\n",
            "Renamed: VID_20250608_131031.mp4 → sample_42.mp4\n",
            "Renamed: VID_20250608_131039.mp4 → sample_43.mp4\n",
            "Renamed: VID_20250608_131050.mp4 → sample_44.mp4\n",
            "Renamed: VID_20250608_131059.mp4 → sample_45.mp4\n",
            "Renamed: VID_20250608_131231.mp4 → sample_46.mp4\n",
            "Renamed: VID_20250608_131243.mp4 → sample_47.mp4\n",
            "Renamed: VID_20250608_131252.mp4 → sample_48.mp4\n",
            "Renamed: VID_20250608_131259.mp4 → sample_49.mp4\n",
            "Renamed: VID_20250608_131330.mp4 → sample_50.mp4\n",
            "Renamed: VID_20250608_134109.mp4 → sample_51.mp4\n",
            "Renamed: VID_20250608_134118.mp4 → sample_52.mp4\n",
            "Renamed: VID_20250608_134124.mp4 → sample_53.mp4\n",
            "Renamed: VID_20250608_134132.mp4 → sample_54.mp4\n",
            "Renamed: VID_20250608_134140.mp4 → sample_55.mp4\n",
            "Renamed: VID_20250608_134154.mp4 → sample_56.mp4\n",
            "Renamed: VID_20250608_134231.mp4 → sample_57.mp4\n",
            "Renamed: VID_20250608_134240.mp4 → sample_58.mp4\n",
            "Renamed: VID_20250608_134248.mp4 → sample_59.mp4\n",
            "Renamed: VID_20250608_134255.mp4 → sample_60.mp4\n",
            "Renamed: VID_20250608_134301.mp4 → sample_61.mp4\n",
            "Renamed: VID_20250608_135939.mp4 → sample_62.mp4\n",
            "Renamed: VID_20250608_135945.mp4 → sample_63.mp4\n",
            "Renamed: VID_20250608_135953.mp4 → sample_64.mp4\n",
            "Renamed: VID_20250608_140001.mp4 → sample_65.mp4\n",
            "Renamed: VID_20250608_140016.mp4 → sample_66.mp4\n",
            "Renamed: VID_20250608_140029.mp4 → sample_67.mp4\n",
            "Renamed: VID_20250608_140044.mp4 → sample_68.mp4\n",
            "Renamed: VID_20250608_140051.mp4 → sample_69.mp4\n",
            "Renamed: VID_20250608_140058.mp4 → sample_70.mp4\n",
            "Renamed: VID_20250608_140139.mp4 → sample_71.mp4\n",
            "Renamed: VID_20250608_140146.mp4 → sample_72.mp4\n",
            "Renamed: VID_20250608_140200.mp4 → sample_73.mp4\n",
            "Renamed: VID_20250608_140206.mp4 → sample_74.mp4\n",
            "Renamed: VID_20250608_140216.mp4 → sample_75.mp4\n",
            "Renamed: VID_20250608_140314.mp4 → sample_76.mp4\n",
            "Renamed: VID_20250608_140322.mp4 → sample_77.mp4\n",
            "Renamed: VID_20250608_140329.mp4 → sample_78.mp4\n",
            "Renamed: VID_20250608_140337.mp4 → sample_79.mp4\n",
            "Renamed: VID_20250608_140344.mp4 → sample_80.mp4\n",
            "Renamed: VID_20250608_140628.mp4 → sample_81.mp4\n",
            "Renamed: VID_20250608_140636.mp4 → sample_82.mp4\n",
            "Renamed: VID_20250608_140644.mp4 → sample_83.mp4\n",
            "Renamed: VID_20250608_140651.mp4 → sample_84.mp4\n",
            "Renamed: VID_20250608_140700.mp4 → sample_85.mp4\n",
            "Renamed: VID_20250608_141038.mp4 → sample_86.mp4\n",
            "Renamed: VID_20250608_141044.mp4 → sample_87.mp4\n",
            "Renamed: VID_20250608_141052.mp4 → sample_88.mp4\n",
            "Renamed: VID_20250608_141101.mp4 → sample_89.mp4\n",
            "Renamed: VID_20250608_141110.mp4 → sample_90.mp4\n",
            "Renamed: VID_20250608_141636.mp4 → sample_91.mp4\n",
            "Renamed: VID_20250608_141644.mp4 → sample_92.mp4\n",
            "Renamed: VID_20250608_141651.mp4 → sample_93.mp4\n",
            "Renamed: VID_20250608_141700.mp4 → sample_94.mp4\n",
            "Renamed: VID_20250608_141708.mp4 → sample_95.mp4\n",
            "Renamed: VID_20250608_141752.mp4 → sample_96.mp4\n",
            "Renamed: VID_20250608_141801.mp4 → sample_97.mp4\n",
            "Renamed: VID_20250608_141810.mp4 → sample_98.mp4\n",
            "Renamed: VID_20250608_141818.mp4 → sample_99.mp4\n",
            "Renamed: VID_20250608_141836.mp4 → sample_100.mp4\n"
          ]
        }
      ]
    },
    {
      "cell_type": "code",
      "source": [
        "!pip install moviepy\n"
      ],
      "metadata": {
        "colab": {
          "base_uri": "https://localhost:8080/"
        },
        "id": "prOR_jhutJHk",
        "outputId": "053eec59-8890-4c53-dc3b-8f2d23bd020e"
      },
      "execution_count": null,
      "outputs": [
        {
          "output_type": "stream",
          "name": "stdout",
          "text": [
            "Requirement already satisfied: moviepy in /usr/local/lib/python3.11/dist-packages (1.0.3)\n",
            "Requirement already satisfied: decorator<5.0,>=4.0.2 in /usr/local/lib/python3.11/dist-packages (from moviepy) (4.4.2)\n",
            "Requirement already satisfied: tqdm<5.0,>=4.11.2 in /usr/local/lib/python3.11/dist-packages (from moviepy) (4.67.1)\n",
            "Requirement already satisfied: requests<3.0,>=2.8.1 in /usr/local/lib/python3.11/dist-packages (from moviepy) (2.32.3)\n",
            "Requirement already satisfied: proglog<=1.0.0 in /usr/local/lib/python3.11/dist-packages (from moviepy) (0.1.12)\n",
            "Requirement already satisfied: numpy>=1.17.3 in /usr/local/lib/python3.11/dist-packages (from moviepy) (2.0.2)\n",
            "Requirement already satisfied: imageio<3.0,>=2.5 in /usr/local/lib/python3.11/dist-packages (from moviepy) (2.37.0)\n",
            "Requirement already satisfied: imageio-ffmpeg>=0.2.0 in /usr/local/lib/python3.11/dist-packages (from moviepy) (0.6.0)\n",
            "Requirement already satisfied: pillow>=8.3.2 in /usr/local/lib/python3.11/dist-packages (from imageio<3.0,>=2.5->moviepy) (11.2.1)\n",
            "Requirement already satisfied: charset-normalizer<4,>=2 in /usr/local/lib/python3.11/dist-packages (from requests<3.0,>=2.8.1->moviepy) (3.4.2)\n",
            "Requirement already satisfied: idna<4,>=2.5 in /usr/local/lib/python3.11/dist-packages (from requests<3.0,>=2.8.1->moviepy) (3.10)\n",
            "Requirement already satisfied: urllib3<3,>=1.21.1 in /usr/local/lib/python3.11/dist-packages (from requests<3.0,>=2.8.1->moviepy) (2.4.0)\n",
            "Requirement already satisfied: certifi>=2017.4.17 in /usr/local/lib/python3.11/dist-packages (from requests<3.0,>=2.8.1->moviepy) (2025.4.26)\n"
          ]
        }
      ]
    },
    {
      "cell_type": "code",
      "source": [
        "import os\n",
        "from moviepy.editor import VideoFileClip\n",
        "\n",
        "folder_path = '/content/drive/My Drive/Hammering_Test/Good_Data'\n",
        "\n",
        "# Create a new folder to save WAV files (doesn't touch originals)\n",
        "output_path = os.path.join(folder_path, 'converted_wav')\n",
        "os.makedirs(output_path, exist_ok=True)\n",
        "\n",
        "for filename in os.listdir(folder_path):\n",
        "    if filename.lower().endswith('.mp4'):\n",
        "        video_path = os.path.join(folder_path, filename)\n",
        "        wav_filename = os.path.splitext(filename)[0] + '.wav'\n",
        "        wav_path = os.path.join(output_path, wav_filename)\n",
        "\n",
        "        # Extract audio safely\n",
        "        video = VideoFileClip(video_path)\n",
        "        video.audio.write_audiofile(wav_path)\n",
        "\n",
        "        print(f\"✅ Converted {filename} → {wav_filename}\")\n"
      ],
      "metadata": {
        "colab": {
          "base_uri": "https://localhost:8080/"
        },
        "id": "sRjV-fVQtcqU",
        "outputId": "97203c5d-1ed7-439a-81f8-96abb90e8386"
      },
      "execution_count": null,
      "outputs": [
        {
          "output_type": "stream",
          "name": "stderr",
          "text": [
            "WARNING:py.warnings:/usr/local/lib/python3.11/dist-packages/moviepy/video/io/sliders.py:61: SyntaxWarning: \"is\" with a literal. Did you mean \"==\"?\n",
            "  if event.key is 'enter':\n",
            "\n"
          ]
        },
        {
          "output_type": "stream",
          "name": "stdout",
          "text": [
            "MoviePy - Writing audio in /content/drive/My Drive/Hammering_Test/Good_Data/converted_wav/sample_105.wav\n"
          ]
        },
        {
          "output_type": "stream",
          "name": "stderr",
          "text": [
            "                                                                    "
          ]
        },
        {
          "output_type": "stream",
          "name": "stdout",
          "text": [
            "MoviePy - Done.\n",
            "✅ Converted sample_105.mp4 → sample_105.wav\n"
          ]
        },
        {
          "output_type": "stream",
          "name": "stderr",
          "text": [
            "\r"
          ]
        },
        {
          "output_type": "stream",
          "name": "stdout",
          "text": [
            "MoviePy - Writing audio in /content/drive/My Drive/Hammering_Test/Good_Data/converted_wav/sample_104.wav\n"
          ]
        },
        {
          "output_type": "stream",
          "name": "stderr",
          "text": [
            "                                                        "
          ]
        },
        {
          "output_type": "stream",
          "name": "stdout",
          "text": [
            "MoviePy - Done.\n",
            "✅ Converted sample_104.mp4 → sample_104.wav\n"
          ]
        },
        {
          "output_type": "stream",
          "name": "stderr",
          "text": [
            "\r"
          ]
        },
        {
          "output_type": "stream",
          "name": "stdout",
          "text": [
            "MoviePy - Writing audio in /content/drive/My Drive/Hammering_Test/Good_Data/converted_wav/sample_103.wav\n"
          ]
        },
        {
          "output_type": "stream",
          "name": "stderr",
          "text": [
            "                                                        "
          ]
        },
        {
          "output_type": "stream",
          "name": "stdout",
          "text": [
            "MoviePy - Done.\n",
            "✅ Converted sample_103.mp4 → sample_103.wav\n"
          ]
        },
        {
          "output_type": "stream",
          "name": "stderr",
          "text": [
            "\r"
          ]
        },
        {
          "output_type": "stream",
          "name": "stdout",
          "text": [
            "MoviePy - Writing audio in /content/drive/My Drive/Hammering_Test/Good_Data/converted_wav/sample_102.wav\n"
          ]
        },
        {
          "output_type": "stream",
          "name": "stderr",
          "text": [
            "                                                                    "
          ]
        },
        {
          "output_type": "stream",
          "name": "stdout",
          "text": [
            "MoviePy - Done.\n",
            "✅ Converted sample_102.mp4 → sample_102.wav\n"
          ]
        },
        {
          "output_type": "stream",
          "name": "stderr",
          "text": [
            "\r"
          ]
        },
        {
          "output_type": "stream",
          "name": "stdout",
          "text": [
            "MoviePy - Writing audio in /content/drive/My Drive/Hammering_Test/Good_Data/converted_wav/sample_101.wav\n"
          ]
        },
        {
          "output_type": "stream",
          "name": "stderr",
          "text": [
            "                                                        "
          ]
        },
        {
          "output_type": "stream",
          "name": "stdout",
          "text": [
            "MoviePy - Done.\n",
            "✅ Converted sample_101.mp4 → sample_101.wav\n"
          ]
        },
        {
          "output_type": "stream",
          "name": "stderr",
          "text": [
            "\r"
          ]
        },
        {
          "output_type": "stream",
          "name": "stdout",
          "text": [
            "MoviePy - Writing audio in /content/drive/My Drive/Hammering_Test/Good_Data/converted_wav/sample_100.wav\n"
          ]
        },
        {
          "output_type": "stream",
          "name": "stderr",
          "text": [
            "                                                        "
          ]
        },
        {
          "output_type": "stream",
          "name": "stdout",
          "text": [
            "MoviePy - Done.\n",
            "✅ Converted sample_100.mp4 → sample_100.wav\n"
          ]
        },
        {
          "output_type": "stream",
          "name": "stderr",
          "text": [
            "\r"
          ]
        },
        {
          "output_type": "stream",
          "name": "stdout",
          "text": [
            "MoviePy - Writing audio in /content/drive/My Drive/Hammering_Test/Good_Data/converted_wav/sample_99.wav\n"
          ]
        },
        {
          "output_type": "stream",
          "name": "stderr",
          "text": []
        },
        {
          "output_type": "stream",
          "name": "stdout",
          "text": [
            "MoviePy - Done.\n",
            "✅ Converted sample_99.mp4 → sample_99.wav\n",
            "MoviePy - Writing audio in /content/drive/My Drive/Hammering_Test/Good_Data/converted_wav/sample_98.wav\n"
          ]
        },
        {
          "output_type": "stream",
          "name": "stderr",
          "text": [
            "                                                                   "
          ]
        },
        {
          "output_type": "stream",
          "name": "stdout",
          "text": [
            "MoviePy - Done.\n",
            "✅ Converted sample_98.mp4 → sample_98.wav\n"
          ]
        },
        {
          "output_type": "stream",
          "name": "stderr",
          "text": [
            "\r"
          ]
        },
        {
          "output_type": "stream",
          "name": "stdout",
          "text": [
            "MoviePy - Writing audio in /content/drive/My Drive/Hammering_Test/Good_Data/converted_wav/sample_97.wav\n"
          ]
        },
        {
          "output_type": "stream",
          "name": "stderr",
          "text": [
            "                                                                   "
          ]
        },
        {
          "output_type": "stream",
          "name": "stdout",
          "text": [
            "MoviePy - Done.\n",
            "✅ Converted sample_97.mp4 → sample_97.wav\n"
          ]
        },
        {
          "output_type": "stream",
          "name": "stderr",
          "text": [
            "\r"
          ]
        },
        {
          "output_type": "stream",
          "name": "stdout",
          "text": [
            "MoviePy - Writing audio in /content/drive/My Drive/Hammering_Test/Good_Data/converted_wav/sample_96.wav\n"
          ]
        },
        {
          "output_type": "stream",
          "name": "stderr",
          "text": []
        },
        {
          "output_type": "stream",
          "name": "stdout",
          "text": [
            "MoviePy - Done.\n",
            "✅ Converted sample_96.mp4 → sample_96.wav\n",
            "MoviePy - Writing audio in /content/drive/My Drive/Hammering_Test/Good_Data/converted_wav/sample_95.wav\n"
          ]
        },
        {
          "output_type": "stream",
          "name": "stderr",
          "text": []
        },
        {
          "output_type": "stream",
          "name": "stdout",
          "text": [
            "MoviePy - Done.\n",
            "✅ Converted sample_95.mp4 → sample_95.wav\n",
            "MoviePy - Writing audio in /content/drive/My Drive/Hammering_Test/Good_Data/converted_wav/sample_94.wav\n"
          ]
        },
        {
          "output_type": "stream",
          "name": "stderr",
          "text": [
            "                                                                    "
          ]
        },
        {
          "output_type": "stream",
          "name": "stdout",
          "text": [
            "MoviePy - Done.\n",
            "✅ Converted sample_94.mp4 → sample_94.wav\n"
          ]
        },
        {
          "output_type": "stream",
          "name": "stderr",
          "text": [
            "\r"
          ]
        },
        {
          "output_type": "stream",
          "name": "stdout",
          "text": [
            "MoviePy - Writing audio in /content/drive/My Drive/Hammering_Test/Good_Data/converted_wav/sample_93.wav\n"
          ]
        },
        {
          "output_type": "stream",
          "name": "stderr",
          "text": []
        },
        {
          "output_type": "stream",
          "name": "stdout",
          "text": [
            "MoviePy - Done.\n",
            "✅ Converted sample_93.mp4 → sample_93.wav\n",
            "MoviePy - Writing audio in /content/drive/My Drive/Hammering_Test/Good_Data/converted_wav/sample_92.wav\n"
          ]
        },
        {
          "output_type": "stream",
          "name": "stderr",
          "text": [
            "                                                                    "
          ]
        },
        {
          "output_type": "stream",
          "name": "stdout",
          "text": [
            "MoviePy - Done.\n",
            "✅ Converted sample_92.mp4 → sample_92.wav\n"
          ]
        },
        {
          "output_type": "stream",
          "name": "stderr",
          "text": [
            "\r"
          ]
        },
        {
          "output_type": "stream",
          "name": "stdout",
          "text": [
            "MoviePy - Writing audio in /content/drive/My Drive/Hammering_Test/Good_Data/converted_wav/sample_91.wav\n"
          ]
        },
        {
          "output_type": "stream",
          "name": "stderr",
          "text": []
        },
        {
          "output_type": "stream",
          "name": "stdout",
          "text": [
            "MoviePy - Done.\n",
            "✅ Converted sample_91.mp4 → sample_91.wav\n",
            "MoviePy - Writing audio in /content/drive/My Drive/Hammering_Test/Good_Data/converted_wav/sample_90.wav\n"
          ]
        },
        {
          "output_type": "stream",
          "name": "stderr",
          "text": [
            "                                                        "
          ]
        },
        {
          "output_type": "stream",
          "name": "stdout",
          "text": [
            "MoviePy - Done.\n",
            "✅ Converted sample_90.mp4 → sample_90.wav\n"
          ]
        },
        {
          "output_type": "stream",
          "name": "stderr",
          "text": [
            "\r"
          ]
        },
        {
          "output_type": "stream",
          "name": "stdout",
          "text": [
            "MoviePy - Writing audio in /content/drive/My Drive/Hammering_Test/Good_Data/converted_wav/sample_89.wav\n"
          ]
        },
        {
          "output_type": "stream",
          "name": "stderr",
          "text": [
            "                                                                    "
          ]
        },
        {
          "output_type": "stream",
          "name": "stdout",
          "text": [
            "MoviePy - Done.\n",
            "✅ Converted sample_89.mp4 → sample_89.wav\n"
          ]
        },
        {
          "output_type": "stream",
          "name": "stderr",
          "text": [
            "\r"
          ]
        },
        {
          "output_type": "stream",
          "name": "stdout",
          "text": [
            "MoviePy - Writing audio in /content/drive/My Drive/Hammering_Test/Good_Data/converted_wav/sample_88.wav\n"
          ]
        },
        {
          "output_type": "stream",
          "name": "stderr",
          "text": [
            "                                                                    "
          ]
        },
        {
          "output_type": "stream",
          "name": "stdout",
          "text": [
            "MoviePy - Done.\n",
            "✅ Converted sample_88.mp4 → sample_88.wav\n"
          ]
        },
        {
          "output_type": "stream",
          "name": "stderr",
          "text": [
            "\r"
          ]
        },
        {
          "output_type": "stream",
          "name": "stdout",
          "text": [
            "MoviePy - Writing audio in /content/drive/My Drive/Hammering_Test/Good_Data/converted_wav/sample_87.wav\n"
          ]
        },
        {
          "output_type": "stream",
          "name": "stderr",
          "text": [
            "                                                                    "
          ]
        },
        {
          "output_type": "stream",
          "name": "stdout",
          "text": [
            "MoviePy - Done.\n",
            "✅ Converted sample_87.mp4 → sample_87.wav\n"
          ]
        },
        {
          "output_type": "stream",
          "name": "stderr",
          "text": [
            "\r"
          ]
        },
        {
          "output_type": "stream",
          "name": "stdout",
          "text": [
            "MoviePy - Writing audio in /content/drive/My Drive/Hammering_Test/Good_Data/converted_wav/sample_86.wav\n"
          ]
        },
        {
          "output_type": "stream",
          "name": "stderr",
          "text": [
            "                                                        "
          ]
        },
        {
          "output_type": "stream",
          "name": "stdout",
          "text": [
            "MoviePy - Done.\n",
            "✅ Converted sample_86.mp4 → sample_86.wav\n"
          ]
        },
        {
          "output_type": "stream",
          "name": "stderr",
          "text": [
            "\r"
          ]
        },
        {
          "output_type": "stream",
          "name": "stdout",
          "text": [
            "MoviePy - Writing audio in /content/drive/My Drive/Hammering_Test/Good_Data/converted_wav/sample_85.wav\n"
          ]
        },
        {
          "output_type": "stream",
          "name": "stderr",
          "text": [
            "                                                                    "
          ]
        },
        {
          "output_type": "stream",
          "name": "stdout",
          "text": [
            "MoviePy - Done.\n",
            "✅ Converted sample_85.mp4 → sample_85.wav\n"
          ]
        },
        {
          "output_type": "stream",
          "name": "stderr",
          "text": [
            "\r"
          ]
        },
        {
          "output_type": "stream",
          "name": "stdout",
          "text": [
            "MoviePy - Writing audio in /content/drive/My Drive/Hammering_Test/Good_Data/converted_wav/sample_84.wav\n"
          ]
        },
        {
          "output_type": "stream",
          "name": "stderr",
          "text": [
            "                                                        "
          ]
        },
        {
          "output_type": "stream",
          "name": "stdout",
          "text": [
            "MoviePy - Done.\n",
            "✅ Converted sample_84.mp4 → sample_84.wav\n"
          ]
        },
        {
          "output_type": "stream",
          "name": "stderr",
          "text": [
            "\r"
          ]
        },
        {
          "output_type": "stream",
          "name": "stdout",
          "text": [
            "MoviePy - Writing audio in /content/drive/My Drive/Hammering_Test/Good_Data/converted_wav/sample_83.wav\n"
          ]
        },
        {
          "output_type": "stream",
          "name": "stderr",
          "text": [
            "                                                                    "
          ]
        },
        {
          "output_type": "stream",
          "name": "stdout",
          "text": [
            "MoviePy - Done.\n",
            "✅ Converted sample_83.mp4 → sample_83.wav\n"
          ]
        },
        {
          "output_type": "stream",
          "name": "stderr",
          "text": [
            "\r"
          ]
        },
        {
          "output_type": "stream",
          "name": "stdout",
          "text": [
            "MoviePy - Writing audio in /content/drive/My Drive/Hammering_Test/Good_Data/converted_wav/sample_82.wav\n"
          ]
        },
        {
          "output_type": "stream",
          "name": "stderr",
          "text": []
        },
        {
          "output_type": "stream",
          "name": "stdout",
          "text": [
            "MoviePy - Done.\n",
            "✅ Converted sample_82.mp4 → sample_82.wav\n",
            "MoviePy - Writing audio in /content/drive/My Drive/Hammering_Test/Good_Data/converted_wav/sample_81.wav\n"
          ]
        },
        {
          "output_type": "stream",
          "name": "stderr",
          "text": []
        },
        {
          "output_type": "stream",
          "name": "stdout",
          "text": [
            "MoviePy - Done.\n",
            "✅ Converted sample_81.mp4 → sample_81.wav\n",
            "MoviePy - Writing audio in /content/drive/My Drive/Hammering_Test/Good_Data/converted_wav/sample_80.wav\n"
          ]
        },
        {
          "output_type": "stream",
          "name": "stderr",
          "text": [
            "                                                                  "
          ]
        },
        {
          "output_type": "stream",
          "name": "stdout",
          "text": [
            "MoviePy - Done.\n",
            "✅ Converted sample_80.mp4 → sample_80.wav\n"
          ]
        },
        {
          "output_type": "stream",
          "name": "stderr",
          "text": [
            "\r"
          ]
        },
        {
          "output_type": "stream",
          "name": "stdout",
          "text": [
            "MoviePy - Writing audio in /content/drive/My Drive/Hammering_Test/Good_Data/converted_wav/sample_79.wav\n"
          ]
        },
        {
          "output_type": "stream",
          "name": "stderr",
          "text": []
        },
        {
          "output_type": "stream",
          "name": "stdout",
          "text": [
            "MoviePy - Done.\n",
            "✅ Converted sample_79.mp4 → sample_79.wav\n",
            "MoviePy - Writing audio in /content/drive/My Drive/Hammering_Test/Good_Data/converted_wav/sample_78.wav\n"
          ]
        },
        {
          "output_type": "stream",
          "name": "stderr",
          "text": []
        },
        {
          "output_type": "stream",
          "name": "stdout",
          "text": [
            "MoviePy - Done.\n",
            "✅ Converted sample_78.mp4 → sample_78.wav\n",
            "MoviePy - Writing audio in /content/drive/My Drive/Hammering_Test/Good_Data/converted_wav/sample_77.wav\n"
          ]
        },
        {
          "output_type": "stream",
          "name": "stderr",
          "text": [
            "                                                                   "
          ]
        },
        {
          "output_type": "stream",
          "name": "stdout",
          "text": [
            "MoviePy - Done.\n",
            "✅ Converted sample_77.mp4 → sample_77.wav\n"
          ]
        },
        {
          "output_type": "stream",
          "name": "stderr",
          "text": [
            "\r"
          ]
        },
        {
          "output_type": "stream",
          "name": "stdout",
          "text": [
            "MoviePy - Writing audio in /content/drive/My Drive/Hammering_Test/Good_Data/converted_wav/sample_76.wav\n"
          ]
        },
        {
          "output_type": "stream",
          "name": "stderr",
          "text": [
            "                                                                   "
          ]
        },
        {
          "output_type": "stream",
          "name": "stdout",
          "text": [
            "MoviePy - Done.\n",
            "✅ Converted sample_76.mp4 → sample_76.wav\n"
          ]
        },
        {
          "output_type": "stream",
          "name": "stderr",
          "text": [
            "\r"
          ]
        },
        {
          "output_type": "stream",
          "name": "stdout",
          "text": [
            "MoviePy - Writing audio in /content/drive/My Drive/Hammering_Test/Good_Data/converted_wav/sample_75.wav\n"
          ]
        },
        {
          "output_type": "stream",
          "name": "stderr",
          "text": [
            "                                                                  "
          ]
        },
        {
          "output_type": "stream",
          "name": "stdout",
          "text": [
            "MoviePy - Done.\n",
            "✅ Converted sample_75.mp4 → sample_75.wav\n"
          ]
        },
        {
          "output_type": "stream",
          "name": "stderr",
          "text": [
            "\r"
          ]
        },
        {
          "output_type": "stream",
          "name": "stdout",
          "text": [
            "MoviePy - Writing audio in /content/drive/My Drive/Hammering_Test/Good_Data/converted_wav/sample_74.wav\n"
          ]
        },
        {
          "output_type": "stream",
          "name": "stderr",
          "text": [
            "                                                        "
          ]
        },
        {
          "output_type": "stream",
          "name": "stdout",
          "text": [
            "MoviePy - Done.\n",
            "✅ Converted sample_74.mp4 → sample_74.wav\n"
          ]
        },
        {
          "output_type": "stream",
          "name": "stderr",
          "text": [
            "\r"
          ]
        },
        {
          "output_type": "stream",
          "name": "stdout",
          "text": [
            "MoviePy - Writing audio in /content/drive/My Drive/Hammering_Test/Good_Data/converted_wav/sample_73.wav\n"
          ]
        },
        {
          "output_type": "stream",
          "name": "stderr",
          "text": [
            "                                                        "
          ]
        },
        {
          "output_type": "stream",
          "name": "stdout",
          "text": [
            "MoviePy - Done.\n",
            "✅ Converted sample_73.mp4 → sample_73.wav\n"
          ]
        },
        {
          "output_type": "stream",
          "name": "stderr",
          "text": [
            "\r"
          ]
        },
        {
          "output_type": "stream",
          "name": "stdout",
          "text": [
            "MoviePy - Writing audio in /content/drive/My Drive/Hammering_Test/Good_Data/converted_wav/sample_72.wav\n"
          ]
        },
        {
          "output_type": "stream",
          "name": "stderr",
          "text": [
            "                                                                   "
          ]
        },
        {
          "output_type": "stream",
          "name": "stdout",
          "text": [
            "MoviePy - Done.\n",
            "✅ Converted sample_72.mp4 → sample_72.wav\n"
          ]
        },
        {
          "output_type": "stream",
          "name": "stderr",
          "text": [
            "\r"
          ]
        },
        {
          "output_type": "stream",
          "name": "stdout",
          "text": [
            "MoviePy - Writing audio in /content/drive/My Drive/Hammering_Test/Good_Data/converted_wav/sample_71.wav\n"
          ]
        },
        {
          "output_type": "stream",
          "name": "stderr",
          "text": [
            "                                                        "
          ]
        },
        {
          "output_type": "stream",
          "name": "stdout",
          "text": [
            "MoviePy - Done.\n",
            "✅ Converted sample_71.mp4 → sample_71.wav\n"
          ]
        },
        {
          "output_type": "stream",
          "name": "stderr",
          "text": [
            "\r"
          ]
        },
        {
          "output_type": "stream",
          "name": "stdout",
          "text": [
            "MoviePy - Writing audio in /content/drive/My Drive/Hammering_Test/Good_Data/converted_wav/sample_70.wav\n"
          ]
        },
        {
          "output_type": "stream",
          "name": "stderr",
          "text": [
            "                                                        "
          ]
        },
        {
          "output_type": "stream",
          "name": "stdout",
          "text": [
            "MoviePy - Done.\n",
            "✅ Converted sample_70.mp4 → sample_70.wav\n"
          ]
        },
        {
          "output_type": "stream",
          "name": "stderr",
          "text": [
            "\r"
          ]
        },
        {
          "output_type": "stream",
          "name": "stdout",
          "text": [
            "MoviePy - Writing audio in /content/drive/My Drive/Hammering_Test/Good_Data/converted_wav/sample_69.wav\n"
          ]
        },
        {
          "output_type": "stream",
          "name": "stderr",
          "text": [
            "                                                        "
          ]
        },
        {
          "output_type": "stream",
          "name": "stdout",
          "text": [
            "MoviePy - Done.\n",
            "✅ Converted sample_69.mp4 → sample_69.wav\n"
          ]
        },
        {
          "output_type": "stream",
          "name": "stderr",
          "text": [
            "\r"
          ]
        },
        {
          "output_type": "stream",
          "name": "stdout",
          "text": [
            "MoviePy - Writing audio in /content/drive/My Drive/Hammering_Test/Good_Data/converted_wav/sample_68.wav\n"
          ]
        },
        {
          "output_type": "stream",
          "name": "stderr",
          "text": [
            "                                                        "
          ]
        },
        {
          "output_type": "stream",
          "name": "stdout",
          "text": [
            "MoviePy - Done.\n",
            "✅ Converted sample_68.mp4 → sample_68.wav\n"
          ]
        },
        {
          "output_type": "stream",
          "name": "stderr",
          "text": [
            "\r"
          ]
        },
        {
          "output_type": "stream",
          "name": "stdout",
          "text": [
            "MoviePy - Writing audio in /content/drive/My Drive/Hammering_Test/Good_Data/converted_wav/sample_67.wav\n"
          ]
        },
        {
          "output_type": "stream",
          "name": "stderr",
          "text": [
            "                                                        "
          ]
        },
        {
          "output_type": "stream",
          "name": "stdout",
          "text": [
            "MoviePy - Done.\n",
            "✅ Converted sample_67.mp4 → sample_67.wav\n"
          ]
        },
        {
          "output_type": "stream",
          "name": "stderr",
          "text": [
            "\r"
          ]
        },
        {
          "output_type": "stream",
          "name": "stdout",
          "text": [
            "MoviePy - Writing audio in /content/drive/My Drive/Hammering_Test/Good_Data/converted_wav/sample_66.wav\n"
          ]
        },
        {
          "output_type": "stream",
          "name": "stderr",
          "text": [
            "                                                                    "
          ]
        },
        {
          "output_type": "stream",
          "name": "stdout",
          "text": [
            "MoviePy - Done.\n",
            "✅ Converted sample_66.mp4 → sample_66.wav\n"
          ]
        },
        {
          "output_type": "stream",
          "name": "stderr",
          "text": [
            "\r"
          ]
        },
        {
          "output_type": "stream",
          "name": "stdout",
          "text": [
            "MoviePy - Writing audio in /content/drive/My Drive/Hammering_Test/Good_Data/converted_wav/sample_65.wav\n"
          ]
        },
        {
          "output_type": "stream",
          "name": "stderr",
          "text": []
        },
        {
          "output_type": "stream",
          "name": "stdout",
          "text": [
            "MoviePy - Done.\n",
            "✅ Converted sample_65.mp4 → sample_65.wav\n",
            "MoviePy - Writing audio in /content/drive/My Drive/Hammering_Test/Good_Data/converted_wav/sample_64.wav\n"
          ]
        },
        {
          "output_type": "stream",
          "name": "stderr",
          "text": []
        },
        {
          "output_type": "stream",
          "name": "stdout",
          "text": [
            "MoviePy - Done.\n",
            "✅ Converted sample_64.mp4 → sample_64.wav\n",
            "MoviePy - Writing audio in /content/drive/My Drive/Hammering_Test/Good_Data/converted_wav/sample_63.wav\n"
          ]
        },
        {
          "output_type": "stream",
          "name": "stderr",
          "text": [
            "                                                        "
          ]
        },
        {
          "output_type": "stream",
          "name": "stdout",
          "text": [
            "MoviePy - Done.\n",
            "✅ Converted sample_63.mp4 → sample_63.wav\n"
          ]
        },
        {
          "output_type": "stream",
          "name": "stderr",
          "text": [
            "\r"
          ]
        },
        {
          "output_type": "stream",
          "name": "stdout",
          "text": [
            "MoviePy - Writing audio in /content/drive/My Drive/Hammering_Test/Good_Data/converted_wav/sample_62.wav\n"
          ]
        },
        {
          "output_type": "stream",
          "name": "stderr",
          "text": []
        },
        {
          "output_type": "stream",
          "name": "stdout",
          "text": [
            "MoviePy - Done.\n",
            "✅ Converted sample_62.mp4 → sample_62.wav\n",
            "MoviePy - Writing audio in /content/drive/My Drive/Hammering_Test/Good_Data/converted_wav/sample_61.wav\n"
          ]
        },
        {
          "output_type": "stream",
          "name": "stderr",
          "text": [
            "                                                                    "
          ]
        },
        {
          "output_type": "stream",
          "name": "stdout",
          "text": [
            "MoviePy - Done.\n",
            "✅ Converted sample_61.mp4 → sample_61.wav\n"
          ]
        },
        {
          "output_type": "stream",
          "name": "stderr",
          "text": [
            "\r"
          ]
        },
        {
          "output_type": "stream",
          "name": "stdout",
          "text": [
            "MoviePy - Writing audio in /content/drive/My Drive/Hammering_Test/Good_Data/converted_wav/sample_60.wav\n"
          ]
        },
        {
          "output_type": "stream",
          "name": "stderr",
          "text": [
            "                                                        "
          ]
        },
        {
          "output_type": "stream",
          "name": "stdout",
          "text": [
            "MoviePy - Done.\n",
            "✅ Converted sample_60.mp4 → sample_60.wav\n"
          ]
        },
        {
          "output_type": "stream",
          "name": "stderr",
          "text": [
            "\r"
          ]
        },
        {
          "output_type": "stream",
          "name": "stdout",
          "text": [
            "MoviePy - Writing audio in /content/drive/My Drive/Hammering_Test/Good_Data/converted_wav/sample_59.wav\n"
          ]
        },
        {
          "output_type": "stream",
          "name": "stderr",
          "text": [
            "                                                        "
          ]
        },
        {
          "output_type": "stream",
          "name": "stdout",
          "text": [
            "MoviePy - Done.\n",
            "✅ Converted sample_59.mp4 → sample_59.wav\n"
          ]
        },
        {
          "output_type": "stream",
          "name": "stderr",
          "text": [
            "\r"
          ]
        },
        {
          "output_type": "stream",
          "name": "stdout",
          "text": [
            "MoviePy - Writing audio in /content/drive/My Drive/Hammering_Test/Good_Data/converted_wav/sample_58.wav\n"
          ]
        },
        {
          "output_type": "stream",
          "name": "stderr",
          "text": [
            "                                                                   "
          ]
        },
        {
          "output_type": "stream",
          "name": "stdout",
          "text": [
            "MoviePy - Done.\n",
            "✅ Converted sample_58.mp4 → sample_58.wav\n"
          ]
        },
        {
          "output_type": "stream",
          "name": "stderr",
          "text": [
            "\r"
          ]
        },
        {
          "output_type": "stream",
          "name": "stdout",
          "text": [
            "MoviePy - Writing audio in /content/drive/My Drive/Hammering_Test/Good_Data/converted_wav/sample_57.wav\n"
          ]
        },
        {
          "output_type": "stream",
          "name": "stderr",
          "text": [
            "                                                                    "
          ]
        },
        {
          "output_type": "stream",
          "name": "stdout",
          "text": [
            "MoviePy - Done.\n",
            "✅ Converted sample_57.mp4 → sample_57.wav\n"
          ]
        },
        {
          "output_type": "stream",
          "name": "stderr",
          "text": [
            "\r"
          ]
        },
        {
          "output_type": "stream",
          "name": "stdout",
          "text": [
            "MoviePy - Writing audio in /content/drive/My Drive/Hammering_Test/Good_Data/converted_wav/sample_56.wav\n"
          ]
        },
        {
          "output_type": "stream",
          "name": "stderr",
          "text": [
            "                                                                    "
          ]
        },
        {
          "output_type": "stream",
          "name": "stdout",
          "text": [
            "MoviePy - Done.\n",
            "✅ Converted sample_56.mp4 → sample_56.wav\n"
          ]
        },
        {
          "output_type": "stream",
          "name": "stderr",
          "text": [
            "\r"
          ]
        },
        {
          "output_type": "stream",
          "name": "stdout",
          "text": [
            "MoviePy - Writing audio in /content/drive/My Drive/Hammering_Test/Good_Data/converted_wav/sample_55.wav\n"
          ]
        },
        {
          "output_type": "stream",
          "name": "stderr",
          "text": [
            "                                                                   "
          ]
        },
        {
          "output_type": "stream",
          "name": "stdout",
          "text": [
            "MoviePy - Done.\n",
            "✅ Converted sample_55.mp4 → sample_55.wav\n"
          ]
        },
        {
          "output_type": "stream",
          "name": "stderr",
          "text": [
            "\r"
          ]
        },
        {
          "output_type": "stream",
          "name": "stdout",
          "text": [
            "MoviePy - Writing audio in /content/drive/My Drive/Hammering_Test/Good_Data/converted_wav/sample_54.wav\n"
          ]
        },
        {
          "output_type": "stream",
          "name": "stderr",
          "text": [
            "                                                        "
          ]
        },
        {
          "output_type": "stream",
          "name": "stdout",
          "text": [
            "MoviePy - Done.\n",
            "✅ Converted sample_54.mp4 → sample_54.wav\n"
          ]
        },
        {
          "output_type": "stream",
          "name": "stderr",
          "text": [
            "\r"
          ]
        },
        {
          "output_type": "stream",
          "name": "stdout",
          "text": [
            "MoviePy - Writing audio in /content/drive/My Drive/Hammering_Test/Good_Data/converted_wav/sample_53.wav\n"
          ]
        },
        {
          "output_type": "stream",
          "name": "stderr",
          "text": [
            "                                                        "
          ]
        },
        {
          "output_type": "stream",
          "name": "stdout",
          "text": [
            "MoviePy - Done.\n",
            "✅ Converted sample_53.mp4 → sample_53.wav\n"
          ]
        },
        {
          "output_type": "stream",
          "name": "stderr",
          "text": [
            "\r"
          ]
        },
        {
          "output_type": "stream",
          "name": "stdout",
          "text": [
            "MoviePy - Writing audio in /content/drive/My Drive/Hammering_Test/Good_Data/converted_wav/sample_52.wav\n"
          ]
        },
        {
          "output_type": "stream",
          "name": "stderr",
          "text": [
            "                                                        "
          ]
        },
        {
          "output_type": "stream",
          "name": "stdout",
          "text": [
            "MoviePy - Done.\n",
            "✅ Converted sample_52.mp4 → sample_52.wav\n"
          ]
        },
        {
          "output_type": "stream",
          "name": "stderr",
          "text": [
            "\r"
          ]
        },
        {
          "output_type": "stream",
          "name": "stdout",
          "text": [
            "MoviePy - Writing audio in /content/drive/My Drive/Hammering_Test/Good_Data/converted_wav/sample_51.wav\n"
          ]
        },
        {
          "output_type": "stream",
          "name": "stderr",
          "text": [
            "                                                        "
          ]
        },
        {
          "output_type": "stream",
          "name": "stdout",
          "text": [
            "MoviePy - Done.\n",
            "✅ Converted sample_51.mp4 → sample_51.wav\n"
          ]
        },
        {
          "output_type": "stream",
          "name": "stderr",
          "text": [
            "\r"
          ]
        },
        {
          "output_type": "stream",
          "name": "stdout",
          "text": [
            "MoviePy - Writing audio in /content/drive/My Drive/Hammering_Test/Good_Data/converted_wav/sample_50.wav\n"
          ]
        },
        {
          "output_type": "stream",
          "name": "stderr",
          "text": [
            "                                                        "
          ]
        },
        {
          "output_type": "stream",
          "name": "stdout",
          "text": [
            "MoviePy - Done.\n",
            "✅ Converted sample_50.mp4 → sample_50.wav\n"
          ]
        },
        {
          "output_type": "stream",
          "name": "stderr",
          "text": [
            "\r"
          ]
        },
        {
          "output_type": "stream",
          "name": "stdout",
          "text": [
            "MoviePy - Writing audio in /content/drive/My Drive/Hammering_Test/Good_Data/converted_wav/sample_49.wav\n"
          ]
        },
        {
          "output_type": "stream",
          "name": "stderr",
          "text": []
        },
        {
          "output_type": "stream",
          "name": "stdout",
          "text": [
            "MoviePy - Done.\n",
            "✅ Converted sample_49.mp4 → sample_49.wav\n",
            "MoviePy - Writing audio in /content/drive/My Drive/Hammering_Test/Good_Data/converted_wav/sample_48.wav\n"
          ]
        },
        {
          "output_type": "stream",
          "name": "stderr",
          "text": []
        },
        {
          "output_type": "stream",
          "name": "stdout",
          "text": [
            "MoviePy - Done.\n",
            "✅ Converted sample_48.mp4 → sample_48.wav\n",
            "MoviePy - Writing audio in /content/drive/My Drive/Hammering_Test/Good_Data/converted_wav/sample_47.wav\n"
          ]
        },
        {
          "output_type": "stream",
          "name": "stderr",
          "text": []
        },
        {
          "output_type": "stream",
          "name": "stdout",
          "text": [
            "MoviePy - Done.\n",
            "✅ Converted sample_47.mp4 → sample_47.wav\n",
            "MoviePy - Writing audio in /content/drive/My Drive/Hammering_Test/Good_Data/converted_wav/sample_46.wav\n"
          ]
        },
        {
          "output_type": "stream",
          "name": "stderr",
          "text": []
        },
        {
          "output_type": "stream",
          "name": "stdout",
          "text": [
            "MoviePy - Done.\n",
            "✅ Converted sample_46.mp4 → sample_46.wav\n",
            "MoviePy - Writing audio in /content/drive/My Drive/Hammering_Test/Good_Data/converted_wav/sample_45.wav\n"
          ]
        },
        {
          "output_type": "stream",
          "name": "stderr",
          "text": []
        },
        {
          "output_type": "stream",
          "name": "stdout",
          "text": [
            "MoviePy - Done.\n",
            "✅ Converted sample_45.mp4 → sample_45.wav\n",
            "MoviePy - Writing audio in /content/drive/My Drive/Hammering_Test/Good_Data/converted_wav/sample_44.wav\n"
          ]
        },
        {
          "output_type": "stream",
          "name": "stderr",
          "text": [
            "                                                                  "
          ]
        },
        {
          "output_type": "stream",
          "name": "stdout",
          "text": [
            "MoviePy - Done.\n",
            "✅ Converted sample_44.mp4 → sample_44.wav\n"
          ]
        },
        {
          "output_type": "stream",
          "name": "stderr",
          "text": [
            "\r"
          ]
        },
        {
          "output_type": "stream",
          "name": "stdout",
          "text": [
            "MoviePy - Writing audio in /content/drive/My Drive/Hammering_Test/Good_Data/converted_wav/sample_43.wav\n"
          ]
        },
        {
          "output_type": "stream",
          "name": "stderr",
          "text": [
            "                                                        "
          ]
        },
        {
          "output_type": "stream",
          "name": "stdout",
          "text": [
            "MoviePy - Done.\n",
            "✅ Converted sample_43.mp4 → sample_43.wav\n"
          ]
        },
        {
          "output_type": "stream",
          "name": "stderr",
          "text": [
            "\r"
          ]
        },
        {
          "output_type": "stream",
          "name": "stdout",
          "text": [
            "MoviePy - Writing audio in /content/drive/My Drive/Hammering_Test/Good_Data/converted_wav/sample_42.wav\n"
          ]
        },
        {
          "output_type": "stream",
          "name": "stderr",
          "text": [
            "                                                                    "
          ]
        },
        {
          "output_type": "stream",
          "name": "stdout",
          "text": [
            "MoviePy - Done.\n",
            "✅ Converted sample_42.mp4 → sample_42.wav\n"
          ]
        },
        {
          "output_type": "stream",
          "name": "stderr",
          "text": [
            "\r"
          ]
        },
        {
          "output_type": "stream",
          "name": "stdout",
          "text": [
            "MoviePy - Writing audio in /content/drive/My Drive/Hammering_Test/Good_Data/converted_wav/sample_41.wav\n"
          ]
        },
        {
          "output_type": "stream",
          "name": "stderr",
          "text": []
        },
        {
          "output_type": "stream",
          "name": "stdout",
          "text": [
            "MoviePy - Done.\n",
            "✅ Converted sample_41.mp4 → sample_41.wav\n",
            "MoviePy - Writing audio in /content/drive/My Drive/Hammering_Test/Good_Data/converted_wav/sample_40.wav\n"
          ]
        },
        {
          "output_type": "stream",
          "name": "stderr",
          "text": [
            "                                                        "
          ]
        },
        {
          "output_type": "stream",
          "name": "stdout",
          "text": [
            "MoviePy - Done.\n",
            "✅ Converted sample_40.mp4 → sample_40.wav\n"
          ]
        },
        {
          "output_type": "stream",
          "name": "stderr",
          "text": [
            "\r"
          ]
        },
        {
          "output_type": "stream",
          "name": "stdout",
          "text": [
            "MoviePy - Writing audio in /content/drive/My Drive/Hammering_Test/Good_Data/converted_wav/sample_39.wav\n"
          ]
        },
        {
          "output_type": "stream",
          "name": "stderr",
          "text": [
            "                                                                    "
          ]
        },
        {
          "output_type": "stream",
          "name": "stdout",
          "text": [
            "MoviePy - Done.\n",
            "✅ Converted sample_39.mp4 → sample_39.wav\n"
          ]
        },
        {
          "output_type": "stream",
          "name": "stderr",
          "text": [
            "\r"
          ]
        },
        {
          "output_type": "stream",
          "name": "stdout",
          "text": [
            "MoviePy - Writing audio in /content/drive/My Drive/Hammering_Test/Good_Data/converted_wav/sample_38.wav\n"
          ]
        },
        {
          "output_type": "stream",
          "name": "stderr",
          "text": [
            "                                                                  "
          ]
        },
        {
          "output_type": "stream",
          "name": "stdout",
          "text": [
            "MoviePy - Done.\n",
            "✅ Converted sample_38.mp4 → sample_38.wav\n"
          ]
        },
        {
          "output_type": "stream",
          "name": "stderr",
          "text": [
            "\r"
          ]
        },
        {
          "output_type": "stream",
          "name": "stdout",
          "text": [
            "MoviePy - Writing audio in /content/drive/My Drive/Hammering_Test/Good_Data/converted_wav/sample_37.wav\n"
          ]
        },
        {
          "output_type": "stream",
          "name": "stderr",
          "text": []
        },
        {
          "output_type": "stream",
          "name": "stdout",
          "text": [
            "MoviePy - Done.\n",
            "✅ Converted sample_37.mp4 → sample_37.wav\n",
            "MoviePy - Writing audio in /content/drive/My Drive/Hammering_Test/Good_Data/converted_wav/sample_36.wav\n"
          ]
        },
        {
          "output_type": "stream",
          "name": "stderr",
          "text": []
        },
        {
          "output_type": "stream",
          "name": "stdout",
          "text": [
            "MoviePy - Done.\n",
            "✅ Converted sample_36.mp4 → sample_36.wav\n",
            "MoviePy - Writing audio in /content/drive/My Drive/Hammering_Test/Good_Data/converted_wav/sample_35.wav\n"
          ]
        },
        {
          "output_type": "stream",
          "name": "stderr",
          "text": []
        },
        {
          "output_type": "stream",
          "name": "stdout",
          "text": [
            "MoviePy - Done.\n",
            "✅ Converted sample_35.mp4 → sample_35.wav\n",
            "MoviePy - Writing audio in /content/drive/My Drive/Hammering_Test/Good_Data/converted_wav/sample_34.wav\n"
          ]
        },
        {
          "output_type": "stream",
          "name": "stderr",
          "text": []
        },
        {
          "output_type": "stream",
          "name": "stdout",
          "text": [
            "MoviePy - Done.\n",
            "✅ Converted sample_34.mp4 → sample_34.wav\n",
            "MoviePy - Writing audio in /content/drive/My Drive/Hammering_Test/Good_Data/converted_wav/sample_33.wav\n"
          ]
        },
        {
          "output_type": "stream",
          "name": "stderr",
          "text": []
        },
        {
          "output_type": "stream",
          "name": "stdout",
          "text": [
            "MoviePy - Done.\n",
            "✅ Converted sample_33.mp4 → sample_33.wav\n",
            "MoviePy - Writing audio in /content/drive/My Drive/Hammering_Test/Good_Data/converted_wav/sample_32.wav\n"
          ]
        },
        {
          "output_type": "stream",
          "name": "stderr",
          "text": [
            "                                                        "
          ]
        },
        {
          "output_type": "stream",
          "name": "stdout",
          "text": [
            "MoviePy - Done.\n",
            "✅ Converted sample_32.mp4 → sample_32.wav\n"
          ]
        },
        {
          "output_type": "stream",
          "name": "stderr",
          "text": [
            "\r"
          ]
        },
        {
          "output_type": "stream",
          "name": "stdout",
          "text": [
            "MoviePy - Writing audio in /content/drive/My Drive/Hammering_Test/Good_Data/converted_wav/sample_31.wav\n"
          ]
        },
        {
          "output_type": "stream",
          "name": "stderr",
          "text": [
            "                                                        "
          ]
        },
        {
          "output_type": "stream",
          "name": "stdout",
          "text": [
            "MoviePy - Done.\n",
            "✅ Converted sample_31.mp4 → sample_31.wav\n"
          ]
        },
        {
          "output_type": "stream",
          "name": "stderr",
          "text": [
            "\r"
          ]
        },
        {
          "output_type": "stream",
          "name": "stdout",
          "text": [
            "MoviePy - Writing audio in /content/drive/My Drive/Hammering_Test/Good_Data/converted_wav/sample_30.wav\n"
          ]
        },
        {
          "output_type": "stream",
          "name": "stderr",
          "text": [
            "                                                        "
          ]
        },
        {
          "output_type": "stream",
          "name": "stdout",
          "text": [
            "MoviePy - Done.\n",
            "✅ Converted sample_30.mp4 → sample_30.wav\n"
          ]
        },
        {
          "output_type": "stream",
          "name": "stderr",
          "text": [
            "\r"
          ]
        },
        {
          "output_type": "stream",
          "name": "stdout",
          "text": [
            "MoviePy - Writing audio in /content/drive/My Drive/Hammering_Test/Good_Data/converted_wav/sample_29.wav\n"
          ]
        },
        {
          "output_type": "stream",
          "name": "stderr",
          "text": [
            "                                                                    "
          ]
        },
        {
          "output_type": "stream",
          "name": "stdout",
          "text": [
            "MoviePy - Done.\n",
            "✅ Converted sample_29.mp4 → sample_29.wav\n"
          ]
        },
        {
          "output_type": "stream",
          "name": "stderr",
          "text": [
            "\r"
          ]
        },
        {
          "output_type": "stream",
          "name": "stdout",
          "text": [
            "MoviePy - Writing audio in /content/drive/My Drive/Hammering_Test/Good_Data/converted_wav/sample_28.wav\n"
          ]
        },
        {
          "output_type": "stream",
          "name": "stderr",
          "text": [
            "                                                        "
          ]
        },
        {
          "output_type": "stream",
          "name": "stdout",
          "text": [
            "MoviePy - Done.\n",
            "✅ Converted sample_28.mp4 → sample_28.wav\n"
          ]
        },
        {
          "output_type": "stream",
          "name": "stderr",
          "text": [
            "\r"
          ]
        },
        {
          "output_type": "stream",
          "name": "stdout",
          "text": [
            "MoviePy - Writing audio in /content/drive/My Drive/Hammering_Test/Good_Data/converted_wav/sample_27.wav\n"
          ]
        },
        {
          "output_type": "stream",
          "name": "stderr",
          "text": [
            "                                                        "
          ]
        },
        {
          "output_type": "stream",
          "name": "stdout",
          "text": [
            "MoviePy - Done.\n",
            "✅ Converted sample_27.mp4 → sample_27.wav\n"
          ]
        },
        {
          "output_type": "stream",
          "name": "stderr",
          "text": [
            "\r"
          ]
        },
        {
          "output_type": "stream",
          "name": "stdout",
          "text": [
            "MoviePy - Writing audio in /content/drive/My Drive/Hammering_Test/Good_Data/converted_wav/sample_26.wav\n"
          ]
        },
        {
          "output_type": "stream",
          "name": "stderr",
          "text": [
            "                                                                    "
          ]
        },
        {
          "output_type": "stream",
          "name": "stdout",
          "text": [
            "MoviePy - Done.\n",
            "✅ Converted sample_26.mp4 → sample_26.wav\n"
          ]
        },
        {
          "output_type": "stream",
          "name": "stderr",
          "text": [
            "\r"
          ]
        },
        {
          "output_type": "stream",
          "name": "stdout",
          "text": [
            "MoviePy - Writing audio in /content/drive/My Drive/Hammering_Test/Good_Data/converted_wav/sample_25.wav\n"
          ]
        },
        {
          "output_type": "stream",
          "name": "stderr",
          "text": [
            "                                                        "
          ]
        },
        {
          "output_type": "stream",
          "name": "stdout",
          "text": [
            "MoviePy - Done.\n",
            "✅ Converted sample_25.mp4 → sample_25.wav\n"
          ]
        },
        {
          "output_type": "stream",
          "name": "stderr",
          "text": [
            "\r"
          ]
        },
        {
          "output_type": "stream",
          "name": "stdout",
          "text": [
            "MoviePy - Writing audio in /content/drive/My Drive/Hammering_Test/Good_Data/converted_wav/sample_24.wav\n"
          ]
        },
        {
          "output_type": "stream",
          "name": "stderr",
          "text": [
            "                                                                    "
          ]
        },
        {
          "output_type": "stream",
          "name": "stdout",
          "text": [
            "MoviePy - Done.\n",
            "✅ Converted sample_24.mp4 → sample_24.wav\n"
          ]
        },
        {
          "output_type": "stream",
          "name": "stderr",
          "text": [
            "\r"
          ]
        },
        {
          "output_type": "stream",
          "name": "stdout",
          "text": [
            "MoviePy - Writing audio in /content/drive/My Drive/Hammering_Test/Good_Data/converted_wav/sample_23.wav\n"
          ]
        },
        {
          "output_type": "stream",
          "name": "stderr",
          "text": [
            "                                                        "
          ]
        },
        {
          "output_type": "stream",
          "name": "stdout",
          "text": [
            "MoviePy - Done.\n",
            "✅ Converted sample_23.mp4 → sample_23.wav\n"
          ]
        },
        {
          "output_type": "stream",
          "name": "stderr",
          "text": [
            "\r"
          ]
        },
        {
          "output_type": "stream",
          "name": "stdout",
          "text": [
            "MoviePy - Writing audio in /content/drive/My Drive/Hammering_Test/Good_Data/converted_wav/sample_22.wav\n"
          ]
        },
        {
          "output_type": "stream",
          "name": "stderr",
          "text": [
            "                                                                    "
          ]
        },
        {
          "output_type": "stream",
          "name": "stdout",
          "text": [
            "MoviePy - Done.\n",
            "✅ Converted sample_22.mp4 → sample_22.wav\n"
          ]
        },
        {
          "output_type": "stream",
          "name": "stderr",
          "text": [
            "\r"
          ]
        },
        {
          "output_type": "stream",
          "name": "stdout",
          "text": [
            "MoviePy - Writing audio in /content/drive/My Drive/Hammering_Test/Good_Data/converted_wav/sample_21.wav\n"
          ]
        },
        {
          "output_type": "stream",
          "name": "stderr",
          "text": [
            "                                                                   "
          ]
        },
        {
          "output_type": "stream",
          "name": "stdout",
          "text": [
            "MoviePy - Done.\n",
            "✅ Converted sample_21.mp4 → sample_21.wav\n"
          ]
        },
        {
          "output_type": "stream",
          "name": "stderr",
          "text": [
            "\r"
          ]
        },
        {
          "output_type": "stream",
          "name": "stdout",
          "text": [
            "MoviePy - Writing audio in /content/drive/My Drive/Hammering_Test/Good_Data/converted_wav/sample_6.wav\n"
          ]
        },
        {
          "output_type": "stream",
          "name": "stderr",
          "text": [
            "\rchunk:   0%|          | 0/102 [00:00<?, ?it/s, now=None]WARNING:py.warnings:/usr/local/lib/python3.11/dist-packages/moviepy/audio/io/readers.py:197: UserWarning: Error in file /content/drive/My Drive/Hammering_Test/Good_Data/sample_6.mp4, At time t=4.54-4.59 seconds, indices wanted: 99958-101942, but len(buffer)=99959\n",
            "index 99959 is out of bounds for axis 0 with size 99959\n",
            "  warnings.warn(\"Error in file %s, \"%(self.filename)+\n",
            "\n"
          ]
        },
        {
          "output_type": "stream",
          "name": "stdout",
          "text": [
            "MoviePy - Done.\n",
            "✅ Converted sample_6.mp4 → sample_6.wav\n",
            "MoviePy - Writing audio in /content/drive/My Drive/Hammering_Test/Good_Data/converted_wav/sample_5.wav\n"
          ]
        },
        {
          "output_type": "stream",
          "name": "stderr",
          "text": [
            "                                                        "
          ]
        },
        {
          "output_type": "stream",
          "name": "stdout",
          "text": [
            "MoviePy - Done.\n",
            "✅ Converted sample_5.mp4 → sample_5.wav\n"
          ]
        },
        {
          "output_type": "stream",
          "name": "stderr",
          "text": [
            "\r"
          ]
        },
        {
          "output_type": "stream",
          "name": "stdout",
          "text": [
            "MoviePy - Writing audio in /content/drive/My Drive/Hammering_Test/Good_Data/converted_wav/sample_4.wav\n"
          ]
        },
        {
          "output_type": "stream",
          "name": "stderr",
          "text": [
            "                                                        "
          ]
        },
        {
          "output_type": "stream",
          "name": "stdout",
          "text": [
            "MoviePy - Done.\n",
            "✅ Converted sample_4.mp4 → sample_4.wav\n"
          ]
        },
        {
          "output_type": "stream",
          "name": "stderr",
          "text": [
            "\r"
          ]
        },
        {
          "output_type": "stream",
          "name": "stdout",
          "text": [
            "MoviePy - Writing audio in /content/drive/My Drive/Hammering_Test/Good_Data/converted_wav/sample_3.wav\n"
          ]
        },
        {
          "output_type": "stream",
          "name": "stderr",
          "text": [
            "                                                        "
          ]
        },
        {
          "output_type": "stream",
          "name": "stdout",
          "text": [
            "MoviePy - Done.\n",
            "✅ Converted sample_3.mp4 → sample_3.wav\n"
          ]
        },
        {
          "output_type": "stream",
          "name": "stderr",
          "text": [
            "\r"
          ]
        },
        {
          "output_type": "stream",
          "name": "stdout",
          "text": [
            "MoviePy - Writing audio in /content/drive/My Drive/Hammering_Test/Good_Data/converted_wav/sample_2.wav\n"
          ]
        },
        {
          "output_type": "stream",
          "name": "stderr",
          "text": [
            "                                                        "
          ]
        },
        {
          "output_type": "stream",
          "name": "stdout",
          "text": [
            "MoviePy - Done.\n",
            "✅ Converted sample_2.mp4 → sample_2.wav\n"
          ]
        },
        {
          "output_type": "stream",
          "name": "stderr",
          "text": [
            "\r"
          ]
        },
        {
          "output_type": "stream",
          "name": "stdout",
          "text": [
            "MoviePy - Writing audio in /content/drive/My Drive/Hammering_Test/Good_Data/converted_wav/sample_1.wav\n"
          ]
        },
        {
          "output_type": "stream",
          "name": "stderr",
          "text": [
            "                                                        "
          ]
        },
        {
          "output_type": "stream",
          "name": "stdout",
          "text": [
            "MoviePy - Done.\n",
            "✅ Converted sample_1.mp4 → sample_1.wav\n"
          ]
        },
        {
          "output_type": "stream",
          "name": "stderr",
          "text": [
            "\r"
          ]
        },
        {
          "output_type": "stream",
          "name": "stdout",
          "text": [
            "MoviePy - Writing audio in /content/drive/My Drive/Hammering_Test/Good_Data/converted_wav/sample_20.wav\n"
          ]
        },
        {
          "output_type": "stream",
          "name": "stderr",
          "text": []
        },
        {
          "output_type": "stream",
          "name": "stdout",
          "text": [
            "MoviePy - Done.\n",
            "✅ Converted sample_20.mp4 → sample_20.wav\n",
            "MoviePy - Writing audio in /content/drive/My Drive/Hammering_Test/Good_Data/converted_wav/sample_19.wav\n"
          ]
        },
        {
          "output_type": "stream",
          "name": "stderr",
          "text": []
        },
        {
          "output_type": "stream",
          "name": "stdout",
          "text": [
            "MoviePy - Done.\n",
            "✅ Converted sample_19.mp4 → sample_19.wav\n",
            "MoviePy - Writing audio in /content/drive/My Drive/Hammering_Test/Good_Data/converted_wav/sample_18.wav\n"
          ]
        },
        {
          "output_type": "stream",
          "name": "stderr",
          "text": []
        },
        {
          "output_type": "stream",
          "name": "stdout",
          "text": [
            "MoviePy - Done.\n",
            "✅ Converted sample_18.mp4 → sample_18.wav\n",
            "MoviePy - Writing audio in /content/drive/My Drive/Hammering_Test/Good_Data/converted_wav/sample_17.wav\n"
          ]
        },
        {
          "output_type": "stream",
          "name": "stderr",
          "text": [
            "                                                                   "
          ]
        },
        {
          "output_type": "stream",
          "name": "stdout",
          "text": [
            "MoviePy - Done.\n",
            "✅ Converted sample_17.mp4 → sample_17.wav\n"
          ]
        },
        {
          "output_type": "stream",
          "name": "stderr",
          "text": [
            "\r"
          ]
        },
        {
          "output_type": "stream",
          "name": "stdout",
          "text": [
            "MoviePy - Writing audio in /content/drive/My Drive/Hammering_Test/Good_Data/converted_wav/sample_16.wav\n"
          ]
        },
        {
          "output_type": "stream",
          "name": "stderr",
          "text": [
            "                                                                    "
          ]
        },
        {
          "output_type": "stream",
          "name": "stdout",
          "text": [
            "MoviePy - Done.\n",
            "✅ Converted sample_16.mp4 → sample_16.wav\n"
          ]
        },
        {
          "output_type": "stream",
          "name": "stderr",
          "text": [
            "\r"
          ]
        },
        {
          "output_type": "stream",
          "name": "stdout",
          "text": [
            "MoviePy - Writing audio in /content/drive/My Drive/Hammering_Test/Good_Data/converted_wav/sample_15.wav\n"
          ]
        },
        {
          "output_type": "stream",
          "name": "stderr",
          "text": []
        },
        {
          "output_type": "stream",
          "name": "stdout",
          "text": [
            "MoviePy - Done.\n",
            "✅ Converted sample_15.mp4 → sample_15.wav\n",
            "MoviePy - Writing audio in /content/drive/My Drive/Hammering_Test/Good_Data/converted_wav/sample_14.wav\n"
          ]
        },
        {
          "output_type": "stream",
          "name": "stderr",
          "text": []
        },
        {
          "output_type": "stream",
          "name": "stdout",
          "text": [
            "MoviePy - Done.\n",
            "✅ Converted sample_14.mp4 → sample_14.wav\n",
            "MoviePy - Writing audio in /content/drive/My Drive/Hammering_Test/Good_Data/converted_wav/sample_13.wav\n"
          ]
        },
        {
          "output_type": "stream",
          "name": "stderr",
          "text": [
            "                                                        "
          ]
        },
        {
          "output_type": "stream",
          "name": "stdout",
          "text": [
            "MoviePy - Done.\n",
            "✅ Converted sample_13.mp4 → sample_13.wav\n"
          ]
        },
        {
          "output_type": "stream",
          "name": "stderr",
          "text": [
            "\r"
          ]
        },
        {
          "output_type": "stream",
          "name": "stdout",
          "text": [
            "MoviePy - Writing audio in /content/drive/My Drive/Hammering_Test/Good_Data/converted_wav/sample_12.wav\n"
          ]
        },
        {
          "output_type": "stream",
          "name": "stderr",
          "text": []
        },
        {
          "output_type": "stream",
          "name": "stdout",
          "text": [
            "MoviePy - Done.\n",
            "✅ Converted sample_12.mp4 → sample_12.wav\n",
            "MoviePy - Writing audio in /content/drive/My Drive/Hammering_Test/Good_Data/converted_wav/sample_11.wav\n"
          ]
        },
        {
          "output_type": "stream",
          "name": "stderr",
          "text": []
        },
        {
          "output_type": "stream",
          "name": "stdout",
          "text": [
            "MoviePy - Done.\n",
            "✅ Converted sample_11.mp4 → sample_11.wav\n",
            "MoviePy - Writing audio in /content/drive/My Drive/Hammering_Test/Good_Data/converted_wav/sample_10.wav\n"
          ]
        },
        {
          "output_type": "stream",
          "name": "stderr",
          "text": []
        },
        {
          "output_type": "stream",
          "name": "stdout",
          "text": [
            "MoviePy - Done.\n",
            "✅ Converted sample_10.mp4 → sample_10.wav\n",
            "MoviePy - Writing audio in /content/drive/My Drive/Hammering_Test/Good_Data/converted_wav/sample_9.wav\n"
          ]
        },
        {
          "output_type": "stream",
          "name": "stderr",
          "text": []
        },
        {
          "output_type": "stream",
          "name": "stdout",
          "text": [
            "MoviePy - Done.\n",
            "✅ Converted sample_9.mp4 → sample_9.wav\n",
            "MoviePy - Writing audio in /content/drive/My Drive/Hammering_Test/Good_Data/converted_wav/sample_8.wav\n"
          ]
        },
        {
          "output_type": "stream",
          "name": "stderr",
          "text": []
        },
        {
          "output_type": "stream",
          "name": "stdout",
          "text": [
            "MoviePy - Done.\n",
            "✅ Converted sample_8.mp4 → sample_8.wav\n",
            "MoviePy - Writing audio in /content/drive/My Drive/Hammering_Test/Good_Data/converted_wav/sample_7.wav\n"
          ]
        },
        {
          "output_type": "stream",
          "name": "stderr",
          "text": [
            "                                                        "
          ]
        },
        {
          "output_type": "stream",
          "name": "stdout",
          "text": [
            "MoviePy - Done.\n",
            "✅ Converted sample_7.mp4 → sample_7.wav\n"
          ]
        },
        {
          "output_type": "stream",
          "name": "stderr",
          "text": [
            "\r"
          ]
        }
      ]
    },
    {
      "cell_type": "code",
      "source": [
        "import os\n",
        "from moviepy.editor import VideoFileClip\n",
        "\n",
        "folder_path = '/content/drive/My Drive/Hammering_Test/Bad_Data'\n",
        "\n",
        "# Create a new folder to save WAV files (doesn't touch originals)\n",
        "output_path = os.path.join(folder_path, 'converted_wav')\n",
        "os.makedirs(output_path, exist_ok=True)\n",
        "\n",
        "for filename in os.listdir(folder_path):\n",
        "    if filename.lower().endswith('.mp4'):\n",
        "        video_path = os.path.join(folder_path, filename)\n",
        "        wav_filename = os.path.splitext(filename)[0] + '.wav'\n",
        "        wav_path = os.path.join(output_path, wav_filename)\n",
        "\n",
        "        # Extract audio safely\n",
        "        video = VideoFileClip(video_path)\n",
        "        video.audio.write_audiofile(wav_path)\n",
        "\n",
        "        print(f\"✅ Converted {filename} → {wav_filename}\")"
      ],
      "metadata": {
        "colab": {
          "base_uri": "https://localhost:8080/"
        },
        "id": "a-rZm7HHufMp",
        "outputId": "5f09387a-f79d-4790-d1b9-d05147eb14fd"
      },
      "execution_count": null,
      "outputs": [
        {
          "output_type": "stream",
          "name": "stdout",
          "text": [
            "MoviePy - Writing audio in /content/drive/My Drive/Hammering_Test/Bad_Data/converted_wav/sample_55.wav\n"
          ]
        },
        {
          "output_type": "stream",
          "name": "stderr",
          "text": []
        },
        {
          "output_type": "stream",
          "name": "stdout",
          "text": [
            "MoviePy - Done.\n",
            "✅ Converted sample_55.mp4 → sample_55.wav\n",
            "MoviePy - Writing audio in /content/drive/My Drive/Hammering_Test/Bad_Data/converted_wav/sample_53.wav\n"
          ]
        },
        {
          "output_type": "stream",
          "name": "stderr",
          "text": []
        },
        {
          "output_type": "stream",
          "name": "stdout",
          "text": [
            "MoviePy - Done.\n",
            "✅ Converted sample_53.mp4 → sample_53.wav\n",
            "MoviePy - Writing audio in /content/drive/My Drive/Hammering_Test/Bad_Data/converted_wav/sample_52.wav\n"
          ]
        },
        {
          "output_type": "stream",
          "name": "stderr",
          "text": []
        },
        {
          "output_type": "stream",
          "name": "stdout",
          "text": [
            "MoviePy - Done.\n",
            "✅ Converted sample_52.mp4 → sample_52.wav\n",
            "MoviePy - Writing audio in /content/drive/My Drive/Hammering_Test/Bad_Data/converted_wav/sample_54.wav\n"
          ]
        },
        {
          "output_type": "stream",
          "name": "stderr",
          "text": []
        },
        {
          "output_type": "stream",
          "name": "stdout",
          "text": [
            "MoviePy - Done.\n",
            "✅ Converted sample_54.mp4 → sample_54.wav\n",
            "MoviePy - Writing audio in /content/drive/My Drive/Hammering_Test/Bad_Data/converted_wav/sample_56.wav\n"
          ]
        },
        {
          "output_type": "stream",
          "name": "stderr",
          "text": []
        },
        {
          "output_type": "stream",
          "name": "stdout",
          "text": [
            "MoviePy - Done.\n",
            "✅ Converted sample_56.mp4 → sample_56.wav\n",
            "MoviePy - Writing audio in /content/drive/My Drive/Hammering_Test/Bad_Data/converted_wav/sample_57.wav\n"
          ]
        },
        {
          "output_type": "stream",
          "name": "stderr",
          "text": []
        },
        {
          "output_type": "stream",
          "name": "stdout",
          "text": [
            "MoviePy - Done.\n",
            "✅ Converted sample_57.mp4 → sample_57.wav\n",
            "MoviePy - Writing audio in /content/drive/My Drive/Hammering_Test/Bad_Data/converted_wav/sample_50.wav\n"
          ]
        },
        {
          "output_type": "stream",
          "name": "stderr",
          "text": []
        },
        {
          "output_type": "stream",
          "name": "stdout",
          "text": [
            "MoviePy - Done.\n",
            "✅ Converted sample_50.mp4 → sample_50.wav\n",
            "MoviePy - Writing audio in /content/drive/My Drive/Hammering_Test/Bad_Data/converted_wav/sample_51.wav\n"
          ]
        },
        {
          "output_type": "stream",
          "name": "stderr",
          "text": [
            "                                                                  "
          ]
        },
        {
          "output_type": "stream",
          "name": "stdout",
          "text": [
            "MoviePy - Done.\n",
            "✅ Converted sample_51.mp4 → sample_51.wav\n"
          ]
        },
        {
          "output_type": "stream",
          "name": "stderr",
          "text": [
            "\r"
          ]
        },
        {
          "output_type": "stream",
          "name": "stdout",
          "text": [
            "MoviePy - Writing audio in /content/drive/My Drive/Hammering_Test/Bad_Data/converted_wav/sample_49.wav\n"
          ]
        },
        {
          "output_type": "stream",
          "name": "stderr",
          "text": [
            "                                                        "
          ]
        },
        {
          "output_type": "stream",
          "name": "stdout",
          "text": [
            "MoviePy - Done.\n",
            "✅ Converted sample_49.mp4 → sample_49.wav\n"
          ]
        },
        {
          "output_type": "stream",
          "name": "stderr",
          "text": [
            "\r"
          ]
        },
        {
          "output_type": "stream",
          "name": "stdout",
          "text": [
            "MoviePy - Writing audio in /content/drive/My Drive/Hammering_Test/Bad_Data/converted_wav/sample_48.wav\n"
          ]
        },
        {
          "output_type": "stream",
          "name": "stderr",
          "text": [
            "                                                        "
          ]
        },
        {
          "output_type": "stream",
          "name": "stdout",
          "text": [
            "MoviePy - Done.\n",
            "✅ Converted sample_48.mp4 → sample_48.wav\n"
          ]
        },
        {
          "output_type": "stream",
          "name": "stderr",
          "text": [
            "\r"
          ]
        },
        {
          "output_type": "stream",
          "name": "stdout",
          "text": [
            "MoviePy - Writing audio in /content/drive/My Drive/Hammering_Test/Bad_Data/converted_wav/sample_47.wav\n"
          ]
        },
        {
          "output_type": "stream",
          "name": "stderr",
          "text": [
            "                                                        "
          ]
        },
        {
          "output_type": "stream",
          "name": "stdout",
          "text": [
            "MoviePy - Done.\n",
            "✅ Converted sample_47.mp4 → sample_47.wav\n"
          ]
        },
        {
          "output_type": "stream",
          "name": "stderr",
          "text": [
            "\r"
          ]
        },
        {
          "output_type": "stream",
          "name": "stdout",
          "text": [
            "MoviePy - Writing audio in /content/drive/My Drive/Hammering_Test/Bad_Data/converted_wav/sample_46.wav\n"
          ]
        },
        {
          "output_type": "stream",
          "name": "stderr",
          "text": [
            "                                                                    "
          ]
        },
        {
          "output_type": "stream",
          "name": "stdout",
          "text": [
            "MoviePy - Done.\n",
            "✅ Converted sample_46.mp4 → sample_46.wav\n"
          ]
        },
        {
          "output_type": "stream",
          "name": "stderr",
          "text": [
            "\r"
          ]
        },
        {
          "output_type": "stream",
          "name": "stdout",
          "text": [
            "MoviePy - Writing audio in /content/drive/My Drive/Hammering_Test/Bad_Data/converted_wav/sample_45.wav\n"
          ]
        },
        {
          "output_type": "stream",
          "name": "stderr",
          "text": [
            "                                                                    "
          ]
        },
        {
          "output_type": "stream",
          "name": "stdout",
          "text": [
            "MoviePy - Done.\n",
            "✅ Converted sample_45.mp4 → sample_45.wav\n"
          ]
        },
        {
          "output_type": "stream",
          "name": "stderr",
          "text": [
            "\r"
          ]
        },
        {
          "output_type": "stream",
          "name": "stdout",
          "text": [
            "MoviePy - Writing audio in /content/drive/My Drive/Hammering_Test/Bad_Data/converted_wav/sample_44.wav\n"
          ]
        },
        {
          "output_type": "stream",
          "name": "stderr",
          "text": [
            "                                                                  "
          ]
        },
        {
          "output_type": "stream",
          "name": "stdout",
          "text": [
            "MoviePy - Done.\n",
            "✅ Converted sample_44.mp4 → sample_44.wav\n"
          ]
        },
        {
          "output_type": "stream",
          "name": "stderr",
          "text": [
            "\r"
          ]
        },
        {
          "output_type": "stream",
          "name": "stdout",
          "text": [
            "MoviePy - Writing audio in /content/drive/My Drive/Hammering_Test/Bad_Data/converted_wav/sample_43.wav\n"
          ]
        },
        {
          "output_type": "stream",
          "name": "stderr",
          "text": [
            "                                                        "
          ]
        },
        {
          "output_type": "stream",
          "name": "stdout",
          "text": [
            "MoviePy - Done.\n",
            "✅ Converted sample_43.mp4 → sample_43.wav\n"
          ]
        },
        {
          "output_type": "stream",
          "name": "stderr",
          "text": [
            "\r"
          ]
        },
        {
          "output_type": "stream",
          "name": "stdout",
          "text": [
            "MoviePy - Writing audio in /content/drive/My Drive/Hammering_Test/Bad_Data/converted_wav/sample_31.wav\n"
          ]
        },
        {
          "output_type": "stream",
          "name": "stderr",
          "text": [
            "                                                                    "
          ]
        },
        {
          "output_type": "stream",
          "name": "stdout",
          "text": [
            "MoviePy - Done.\n",
            "✅ Converted sample_31.mp4 → sample_31.wav\n"
          ]
        },
        {
          "output_type": "stream",
          "name": "stderr",
          "text": [
            "\r"
          ]
        },
        {
          "output_type": "stream",
          "name": "stdout",
          "text": [
            "MoviePy - Writing audio in /content/drive/My Drive/Hammering_Test/Bad_Data/converted_wav/sample_30.wav\n"
          ]
        },
        {
          "output_type": "stream",
          "name": "stderr",
          "text": [
            "                                                                   "
          ]
        },
        {
          "output_type": "stream",
          "name": "stdout",
          "text": [
            "MoviePy - Done.\n",
            "✅ Converted sample_30.mp4 → sample_30.wav\n"
          ]
        },
        {
          "output_type": "stream",
          "name": "stderr",
          "text": [
            "\r"
          ]
        },
        {
          "output_type": "stream",
          "name": "stdout",
          "text": [
            "MoviePy - Writing audio in /content/drive/My Drive/Hammering_Test/Bad_Data/converted_wav/sample_29.wav\n"
          ]
        },
        {
          "output_type": "stream",
          "name": "stderr",
          "text": [
            "                                                                   "
          ]
        },
        {
          "output_type": "stream",
          "name": "stdout",
          "text": [
            "MoviePy - Done.\n",
            "✅ Converted sample_29.mp4 → sample_29.wav\n"
          ]
        },
        {
          "output_type": "stream",
          "name": "stderr",
          "text": [
            "\r"
          ]
        },
        {
          "output_type": "stream",
          "name": "stdout",
          "text": [
            "MoviePy - Writing audio in /content/drive/My Drive/Hammering_Test/Bad_Data/converted_wav/sample_27.wav\n"
          ]
        },
        {
          "output_type": "stream",
          "name": "stderr",
          "text": [
            "                                                        "
          ]
        },
        {
          "output_type": "stream",
          "name": "stdout",
          "text": [
            "MoviePy - Done.\n",
            "✅ Converted sample_27.mp4 → sample_27.wav\n"
          ]
        },
        {
          "output_type": "stream",
          "name": "stderr",
          "text": [
            "\r"
          ]
        },
        {
          "output_type": "stream",
          "name": "stdout",
          "text": [
            "MoviePy - Writing audio in /content/drive/My Drive/Hammering_Test/Bad_Data/converted_wav/sample_26.wav\n"
          ]
        },
        {
          "output_type": "stream",
          "name": "stderr",
          "text": [
            "                                                        "
          ]
        },
        {
          "output_type": "stream",
          "name": "stdout",
          "text": [
            "MoviePy - Done.\n",
            "✅ Converted sample_26.mp4 → sample_26.wav\n"
          ]
        },
        {
          "output_type": "stream",
          "name": "stderr",
          "text": [
            "\r"
          ]
        },
        {
          "output_type": "stream",
          "name": "stdout",
          "text": [
            "MoviePy - Writing audio in /content/drive/My Drive/Hammering_Test/Bad_Data/converted_wav/sample_24.wav\n"
          ]
        },
        {
          "output_type": "stream",
          "name": "stderr",
          "text": [
            "                                                        "
          ]
        },
        {
          "output_type": "stream",
          "name": "stdout",
          "text": [
            "MoviePy - Done.\n",
            "✅ Converted sample_24.mp4 → sample_24.wav\n"
          ]
        },
        {
          "output_type": "stream",
          "name": "stderr",
          "text": [
            "\r"
          ]
        },
        {
          "output_type": "stream",
          "name": "stdout",
          "text": [
            "MoviePy - Writing audio in /content/drive/My Drive/Hammering_Test/Bad_Data/converted_wav/sample_21.wav\n"
          ]
        },
        {
          "output_type": "stream",
          "name": "stderr",
          "text": []
        },
        {
          "output_type": "stream",
          "name": "stdout",
          "text": [
            "MoviePy - Done.\n",
            "✅ Converted sample_21.mp4 → sample_21.wav\n",
            "MoviePy - Writing audio in /content/drive/My Drive/Hammering_Test/Bad_Data/converted_wav/sample_22.wav\n"
          ]
        },
        {
          "output_type": "stream",
          "name": "stderr",
          "text": [
            "                                                        "
          ]
        },
        {
          "output_type": "stream",
          "name": "stdout",
          "text": [
            "MoviePy - Done.\n",
            "✅ Converted sample_22.mp4 → sample_22.wav\n"
          ]
        },
        {
          "output_type": "stream",
          "name": "stderr",
          "text": [
            "\r"
          ]
        },
        {
          "output_type": "stream",
          "name": "stdout",
          "text": [
            "MoviePy - Writing audio in /content/drive/My Drive/Hammering_Test/Bad_Data/converted_wav/sample_23.wav\n"
          ]
        },
        {
          "output_type": "stream",
          "name": "stderr",
          "text": [
            "                                                                    "
          ]
        },
        {
          "output_type": "stream",
          "name": "stdout",
          "text": [
            "MoviePy - Done.\n",
            "✅ Converted sample_23.mp4 → sample_23.wav\n"
          ]
        },
        {
          "output_type": "stream",
          "name": "stderr",
          "text": [
            "\r"
          ]
        },
        {
          "output_type": "stream",
          "name": "stdout",
          "text": [
            "MoviePy - Writing audio in /content/drive/My Drive/Hammering_Test/Bad_Data/converted_wav/sample_25.wav\n"
          ]
        },
        {
          "output_type": "stream",
          "name": "stderr",
          "text": [
            "                                                        "
          ]
        },
        {
          "output_type": "stream",
          "name": "stdout",
          "text": [
            "MoviePy - Done.\n",
            "✅ Converted sample_25.mp4 → sample_25.wav\n"
          ]
        },
        {
          "output_type": "stream",
          "name": "stderr",
          "text": [
            "\r"
          ]
        },
        {
          "output_type": "stream",
          "name": "stdout",
          "text": [
            "MoviePy - Writing audio in /content/drive/My Drive/Hammering_Test/Bad_Data/converted_wav/sample_20.wav\n"
          ]
        },
        {
          "output_type": "stream",
          "name": "stderr",
          "text": [
            "                                                                   "
          ]
        },
        {
          "output_type": "stream",
          "name": "stdout",
          "text": [
            "MoviePy - Done.\n",
            "✅ Converted sample_20.mp4 → sample_20.wav\n"
          ]
        },
        {
          "output_type": "stream",
          "name": "stderr",
          "text": [
            "\r"
          ]
        },
        {
          "output_type": "stream",
          "name": "stdout",
          "text": [
            "MoviePy - Writing audio in /content/drive/My Drive/Hammering_Test/Bad_Data/converted_wav/sample_17.wav\n"
          ]
        },
        {
          "output_type": "stream",
          "name": "stderr",
          "text": [
            "                                                                    "
          ]
        },
        {
          "output_type": "stream",
          "name": "stdout",
          "text": [
            "MoviePy - Done.\n",
            "✅ Converted sample_17.mp4 → sample_17.wav\n"
          ]
        },
        {
          "output_type": "stream",
          "name": "stderr",
          "text": [
            "\r"
          ]
        },
        {
          "output_type": "stream",
          "name": "stdout",
          "text": [
            "MoviePy - Writing audio in /content/drive/My Drive/Hammering_Test/Bad_Data/converted_wav/sample_18.wav\n"
          ]
        },
        {
          "output_type": "stream",
          "name": "stderr",
          "text": [
            "                                                        "
          ]
        },
        {
          "output_type": "stream",
          "name": "stdout",
          "text": [
            "MoviePy - Done.\n",
            "✅ Converted sample_18.mp4 → sample_18.wav\n"
          ]
        },
        {
          "output_type": "stream",
          "name": "stderr",
          "text": [
            "\r"
          ]
        },
        {
          "output_type": "stream",
          "name": "stdout",
          "text": [
            "MoviePy - Writing audio in /content/drive/My Drive/Hammering_Test/Bad_Data/converted_wav/sample_19.wav\n"
          ]
        },
        {
          "output_type": "stream",
          "name": "stderr",
          "text": [
            "                                                                  "
          ]
        },
        {
          "output_type": "stream",
          "name": "stdout",
          "text": [
            "MoviePy - Done.\n",
            "✅ Converted sample_19.mp4 → sample_19.wav\n"
          ]
        },
        {
          "output_type": "stream",
          "name": "stderr",
          "text": [
            "\r"
          ]
        },
        {
          "output_type": "stream",
          "name": "stdout",
          "text": [
            "MoviePy - Writing audio in /content/drive/My Drive/Hammering_Test/Bad_Data/converted_wav/sample_40.wav\n"
          ]
        },
        {
          "output_type": "stream",
          "name": "stderr",
          "text": [
            "                                                        "
          ]
        },
        {
          "output_type": "stream",
          "name": "stdout",
          "text": [
            "MoviePy - Done.\n",
            "✅ Converted sample_40.mp4 → sample_40.wav\n"
          ]
        },
        {
          "output_type": "stream",
          "name": "stderr",
          "text": [
            "\r"
          ]
        },
        {
          "output_type": "stream",
          "name": "stdout",
          "text": [
            "MoviePy - Writing audio in /content/drive/My Drive/Hammering_Test/Bad_Data/converted_wav/sample_41.wav\n"
          ]
        },
        {
          "output_type": "stream",
          "name": "stderr",
          "text": [
            "                                                                    "
          ]
        },
        {
          "output_type": "stream",
          "name": "stdout",
          "text": [
            "MoviePy - Done.\n",
            "✅ Converted sample_41.mp4 → sample_41.wav\n"
          ]
        },
        {
          "output_type": "stream",
          "name": "stderr",
          "text": [
            "\r"
          ]
        },
        {
          "output_type": "stream",
          "name": "stdout",
          "text": [
            "MoviePy - Writing audio in /content/drive/My Drive/Hammering_Test/Bad_Data/converted_wav/sample_42.wav\n"
          ]
        },
        {
          "output_type": "stream",
          "name": "stderr",
          "text": [
            "                                                        "
          ]
        },
        {
          "output_type": "stream",
          "name": "stdout",
          "text": [
            "MoviePy - Done.\n",
            "✅ Converted sample_42.mp4 → sample_42.wav\n"
          ]
        },
        {
          "output_type": "stream",
          "name": "stderr",
          "text": [
            "\r"
          ]
        },
        {
          "output_type": "stream",
          "name": "stdout",
          "text": [
            "MoviePy - Writing audio in /content/drive/My Drive/Hammering_Test/Bad_Data/converted_wav/sample_39.wav\n"
          ]
        },
        {
          "output_type": "stream",
          "name": "stderr",
          "text": [
            "                                                        "
          ]
        },
        {
          "output_type": "stream",
          "name": "stdout",
          "text": [
            "MoviePy - Done.\n",
            "✅ Converted sample_39.mp4 → sample_39.wav\n"
          ]
        },
        {
          "output_type": "stream",
          "name": "stderr",
          "text": [
            "\r"
          ]
        },
        {
          "output_type": "stream",
          "name": "stdout",
          "text": [
            "MoviePy - Writing audio in /content/drive/My Drive/Hammering_Test/Bad_Data/converted_wav/sample_36.wav\n"
          ]
        },
        {
          "output_type": "stream",
          "name": "stderr",
          "text": [
            "                                                                    "
          ]
        },
        {
          "output_type": "stream",
          "name": "stdout",
          "text": [
            "MoviePy - Done.\n",
            "✅ Converted sample_36.mp4 → sample_36.wav\n"
          ]
        },
        {
          "output_type": "stream",
          "name": "stderr",
          "text": [
            "\r"
          ]
        },
        {
          "output_type": "stream",
          "name": "stdout",
          "text": [
            "MoviePy - Writing audio in /content/drive/My Drive/Hammering_Test/Bad_Data/converted_wav/sample_37.wav\n"
          ]
        },
        {
          "output_type": "stream",
          "name": "stderr",
          "text": []
        },
        {
          "output_type": "stream",
          "name": "stdout",
          "text": [
            "MoviePy - Done.\n",
            "✅ Converted sample_37.mp4 → sample_37.wav\n",
            "MoviePy - Writing audio in /content/drive/My Drive/Hammering_Test/Bad_Data/converted_wav/sample_38.wav\n"
          ]
        },
        {
          "output_type": "stream",
          "name": "stderr",
          "text": [
            "                                                        "
          ]
        },
        {
          "output_type": "stream",
          "name": "stdout",
          "text": [
            "MoviePy - Done.\n",
            "✅ Converted sample_38.mp4 → sample_38.wav\n"
          ]
        },
        {
          "output_type": "stream",
          "name": "stderr",
          "text": [
            "\r"
          ]
        },
        {
          "output_type": "stream",
          "name": "stdout",
          "text": [
            "MoviePy - Writing audio in /content/drive/My Drive/Hammering_Test/Bad_Data/converted_wav/sample_35.wav\n"
          ]
        },
        {
          "output_type": "stream",
          "name": "stderr",
          "text": [
            "                                                                   "
          ]
        },
        {
          "output_type": "stream",
          "name": "stdout",
          "text": [
            "MoviePy - Done.\n",
            "✅ Converted sample_35.mp4 → sample_35.wav\n"
          ]
        },
        {
          "output_type": "stream",
          "name": "stderr",
          "text": [
            "\r"
          ]
        },
        {
          "output_type": "stream",
          "name": "stdout",
          "text": [
            "MoviePy - Writing audio in /content/drive/My Drive/Hammering_Test/Bad_Data/converted_wav/sample_32.wav\n"
          ]
        },
        {
          "output_type": "stream",
          "name": "stderr",
          "text": [
            "                                                                    "
          ]
        },
        {
          "output_type": "stream",
          "name": "stdout",
          "text": [
            "MoviePy - Done.\n",
            "✅ Converted sample_32.mp4 → sample_32.wav\n"
          ]
        },
        {
          "output_type": "stream",
          "name": "stderr",
          "text": [
            "\r"
          ]
        },
        {
          "output_type": "stream",
          "name": "stdout",
          "text": [
            "MoviePy - Writing audio in /content/drive/My Drive/Hammering_Test/Bad_Data/converted_wav/sample_33.wav\n"
          ]
        },
        {
          "output_type": "stream",
          "name": "stderr",
          "text": [
            "                                                        "
          ]
        },
        {
          "output_type": "stream",
          "name": "stdout",
          "text": [
            "MoviePy - Done.\n",
            "✅ Converted sample_33.mp4 → sample_33.wav\n"
          ]
        },
        {
          "output_type": "stream",
          "name": "stderr",
          "text": [
            "\r"
          ]
        },
        {
          "output_type": "stream",
          "name": "stdout",
          "text": [
            "MoviePy - Writing audio in /content/drive/My Drive/Hammering_Test/Bad_Data/converted_wav/sample_34.wav\n"
          ]
        },
        {
          "output_type": "stream",
          "name": "stderr",
          "text": [
            "                                                                    "
          ]
        },
        {
          "output_type": "stream",
          "name": "stdout",
          "text": [
            "MoviePy - Done.\n",
            "✅ Converted sample_34.mp4 → sample_34.wav\n"
          ]
        },
        {
          "output_type": "stream",
          "name": "stderr",
          "text": [
            "\r"
          ]
        },
        {
          "output_type": "stream",
          "name": "stdout",
          "text": [
            "MoviePy - Writing audio in /content/drive/My Drive/Hammering_Test/Bad_Data/converted_wav/sample_15.wav\n"
          ]
        },
        {
          "output_type": "stream",
          "name": "stderr",
          "text": [
            "                                                                   "
          ]
        },
        {
          "output_type": "stream",
          "name": "stdout",
          "text": [
            "MoviePy - Done.\n",
            "✅ Converted sample_15.mp4 → sample_15.wav\n"
          ]
        },
        {
          "output_type": "stream",
          "name": "stderr",
          "text": [
            "\r"
          ]
        },
        {
          "output_type": "stream",
          "name": "stdout",
          "text": [
            "MoviePy - Writing audio in /content/drive/My Drive/Hammering_Test/Bad_Data/converted_wav/sample_28.wav\n"
          ]
        },
        {
          "output_type": "stream",
          "name": "stderr",
          "text": [
            "                                                        "
          ]
        },
        {
          "output_type": "stream",
          "name": "stdout",
          "text": [
            "MoviePy - Done.\n",
            "✅ Converted sample_28.mp4 → sample_28.wav\n"
          ]
        },
        {
          "output_type": "stream",
          "name": "stderr",
          "text": [
            "\r"
          ]
        },
        {
          "output_type": "stream",
          "name": "stdout",
          "text": [
            "MoviePy - Writing audio in /content/drive/My Drive/Hammering_Test/Bad_Data/converted_wav/sample_16.wav\n"
          ]
        },
        {
          "output_type": "stream",
          "name": "stderr",
          "text": []
        },
        {
          "output_type": "stream",
          "name": "stdout",
          "text": [
            "MoviePy - Done.\n",
            "✅ Converted sample_16.mp4 → sample_16.wav\n",
            "MoviePy - Writing audio in /content/drive/My Drive/Hammering_Test/Bad_Data/converted_wav/sample_14.wav\n"
          ]
        },
        {
          "output_type": "stream",
          "name": "stderr",
          "text": [
            "                                                        "
          ]
        },
        {
          "output_type": "stream",
          "name": "stdout",
          "text": [
            "MoviePy - Done.\n",
            "✅ Converted sample_14.mp4 → sample_14.wav\n"
          ]
        },
        {
          "output_type": "stream",
          "name": "stderr",
          "text": [
            "\r"
          ]
        },
        {
          "output_type": "stream",
          "name": "stdout",
          "text": [
            "MoviePy - Writing audio in /content/drive/My Drive/Hammering_Test/Bad_Data/converted_wav/sample_11.wav\n"
          ]
        },
        {
          "output_type": "stream",
          "name": "stderr",
          "text": [
            "                                                                    "
          ]
        },
        {
          "output_type": "stream",
          "name": "stdout",
          "text": [
            "MoviePy - Done.\n",
            "✅ Converted sample_11.mp4 → sample_11.wav\n"
          ]
        },
        {
          "output_type": "stream",
          "name": "stderr",
          "text": [
            "\r"
          ]
        },
        {
          "output_type": "stream",
          "name": "stdout",
          "text": [
            "MoviePy - Writing audio in /content/drive/My Drive/Hammering_Test/Bad_Data/converted_wav/sample_13.wav\n"
          ]
        },
        {
          "output_type": "stream",
          "name": "stderr",
          "text": [
            "                                                                   "
          ]
        },
        {
          "output_type": "stream",
          "name": "stdout",
          "text": [
            "MoviePy - Done.\n",
            "✅ Converted sample_13.mp4 → sample_13.wav\n"
          ]
        },
        {
          "output_type": "stream",
          "name": "stderr",
          "text": [
            "\r"
          ]
        },
        {
          "output_type": "stream",
          "name": "stdout",
          "text": [
            "MoviePy - Writing audio in /content/drive/My Drive/Hammering_Test/Bad_Data/converted_wav/sample_12.wav\n"
          ]
        },
        {
          "output_type": "stream",
          "name": "stderr",
          "text": [
            "                                                        "
          ]
        },
        {
          "output_type": "stream",
          "name": "stdout",
          "text": [
            "MoviePy - Done.\n",
            "✅ Converted sample_12.mp4 → sample_12.wav\n"
          ]
        },
        {
          "output_type": "stream",
          "name": "stderr",
          "text": [
            "\r"
          ]
        },
        {
          "output_type": "stream",
          "name": "stdout",
          "text": [
            "MoviePy - Writing audio in /content/drive/My Drive/Hammering_Test/Bad_Data/converted_wav/sample_9.wav\n"
          ]
        },
        {
          "output_type": "stream",
          "name": "stderr",
          "text": []
        },
        {
          "output_type": "stream",
          "name": "stdout",
          "text": [
            "MoviePy - Done.\n",
            "✅ Converted sample_9.mp4 → sample_9.wav\n",
            "MoviePy - Writing audio in /content/drive/My Drive/Hammering_Test/Bad_Data/converted_wav/sample_7.wav\n"
          ]
        },
        {
          "output_type": "stream",
          "name": "stderr",
          "text": [
            "                                                        "
          ]
        },
        {
          "output_type": "stream",
          "name": "stdout",
          "text": [
            "MoviePy - Done.\n",
            "✅ Converted sample_7.mp4 → sample_7.wav\n"
          ]
        },
        {
          "output_type": "stream",
          "name": "stderr",
          "text": [
            "\r"
          ]
        },
        {
          "output_type": "stream",
          "name": "stdout",
          "text": [
            "MoviePy - Writing audio in /content/drive/My Drive/Hammering_Test/Bad_Data/converted_wav/sample_10.wav\n"
          ]
        },
        {
          "output_type": "stream",
          "name": "stderr",
          "text": []
        },
        {
          "output_type": "stream",
          "name": "stdout",
          "text": [
            "MoviePy - Done.\n",
            "✅ Converted sample_10.mp4 → sample_10.wav\n",
            "MoviePy - Writing audio in /content/drive/My Drive/Hammering_Test/Bad_Data/converted_wav/sample_8.wav\n"
          ]
        },
        {
          "output_type": "stream",
          "name": "stderr",
          "text": []
        },
        {
          "output_type": "stream",
          "name": "stdout",
          "text": [
            "MoviePy - Done.\n",
            "✅ Converted sample_8.mp4 → sample_8.wav\n",
            "MoviePy - Writing audio in /content/drive/My Drive/Hammering_Test/Bad_Data/converted_wav/sample_2.wav\n"
          ]
        },
        {
          "output_type": "stream",
          "name": "stderr",
          "text": []
        },
        {
          "output_type": "stream",
          "name": "stdout",
          "text": [
            "MoviePy - Done.\n",
            "✅ Converted sample_2.mp4 → sample_2.wav\n",
            "MoviePy - Writing audio in /content/drive/My Drive/Hammering_Test/Bad_Data/converted_wav/sample_5.wav\n"
          ]
        },
        {
          "output_type": "stream",
          "name": "stderr",
          "text": [
            "                                                        "
          ]
        },
        {
          "output_type": "stream",
          "name": "stdout",
          "text": [
            "MoviePy - Done.\n",
            "✅ Converted sample_5.mp4 → sample_5.wav\n"
          ]
        },
        {
          "output_type": "stream",
          "name": "stderr",
          "text": [
            "\r"
          ]
        },
        {
          "output_type": "stream",
          "name": "stdout",
          "text": [
            "MoviePy - Writing audio in /content/drive/My Drive/Hammering_Test/Bad_Data/converted_wav/sample_6.wav\n"
          ]
        },
        {
          "output_type": "stream",
          "name": "stderr",
          "text": [
            "                                                        "
          ]
        },
        {
          "output_type": "stream",
          "name": "stdout",
          "text": [
            "MoviePy - Done.\n",
            "✅ Converted sample_6.mp4 → sample_6.wav\n"
          ]
        },
        {
          "output_type": "stream",
          "name": "stderr",
          "text": [
            "\r"
          ]
        },
        {
          "output_type": "stream",
          "name": "stdout",
          "text": [
            "MoviePy - Writing audio in /content/drive/My Drive/Hammering_Test/Bad_Data/converted_wav/sample_3.wav\n"
          ]
        },
        {
          "output_type": "stream",
          "name": "stderr",
          "text": [
            "                                                                   "
          ]
        },
        {
          "output_type": "stream",
          "name": "stdout",
          "text": [
            "MoviePy - Done.\n",
            "✅ Converted sample_3.mp4 → sample_3.wav\n"
          ]
        },
        {
          "output_type": "stream",
          "name": "stderr",
          "text": [
            "\r"
          ]
        },
        {
          "output_type": "stream",
          "name": "stdout",
          "text": [
            "MoviePy - Writing audio in /content/drive/My Drive/Hammering_Test/Bad_Data/converted_wav/sample_4.wav\n"
          ]
        },
        {
          "output_type": "stream",
          "name": "stderr",
          "text": [
            "                                                        "
          ]
        },
        {
          "output_type": "stream",
          "name": "stdout",
          "text": [
            "MoviePy - Done.\n",
            "✅ Converted sample_4.mp4 → sample_4.wav\n"
          ]
        },
        {
          "output_type": "stream",
          "name": "stderr",
          "text": [
            "\r"
          ]
        },
        {
          "output_type": "stream",
          "name": "stdout",
          "text": [
            "MoviePy - Writing audio in /content/drive/My Drive/Hammering_Test/Bad_Data/converted_wav/sample_1.wav\n"
          ]
        },
        {
          "output_type": "stream",
          "name": "stderr",
          "text": [
            "                                                        "
          ]
        },
        {
          "output_type": "stream",
          "name": "stdout",
          "text": [
            "MoviePy - Done.\n",
            "✅ Converted sample_1.mp4 → sample_1.wav\n"
          ]
        },
        {
          "output_type": "stream",
          "name": "stderr",
          "text": [
            "\r"
          ]
        },
        {
          "output_type": "stream",
          "name": "stdout",
          "text": [
            "MoviePy - Writing audio in /content/drive/My Drive/Hammering_Test/Bad_Data/converted_wav/sample_100.wav\n"
          ]
        },
        {
          "output_type": "stream",
          "name": "stderr",
          "text": [
            "                                                        "
          ]
        },
        {
          "output_type": "stream",
          "name": "stdout",
          "text": [
            "MoviePy - Done.\n",
            "✅ Converted sample_100.mp4 → sample_100.wav\n"
          ]
        },
        {
          "output_type": "stream",
          "name": "stderr",
          "text": [
            "\r"
          ]
        },
        {
          "output_type": "stream",
          "name": "stdout",
          "text": [
            "MoviePy - Writing audio in /content/drive/My Drive/Hammering_Test/Bad_Data/converted_wav/sample_99.wav\n"
          ]
        },
        {
          "output_type": "stream",
          "name": "stderr",
          "text": [
            "                                                        "
          ]
        },
        {
          "output_type": "stream",
          "name": "stdout",
          "text": [
            "MoviePy - Done.\n",
            "✅ Converted sample_99.mp4 → sample_99.wav\n"
          ]
        },
        {
          "output_type": "stream",
          "name": "stderr",
          "text": [
            "\r"
          ]
        },
        {
          "output_type": "stream",
          "name": "stdout",
          "text": [
            "MoviePy - Writing audio in /content/drive/My Drive/Hammering_Test/Bad_Data/converted_wav/sample_98.wav\n"
          ]
        },
        {
          "output_type": "stream",
          "name": "stderr",
          "text": [
            "                                                        "
          ]
        },
        {
          "output_type": "stream",
          "name": "stdout",
          "text": [
            "MoviePy - Done.\n",
            "✅ Converted sample_98.mp4 → sample_98.wav\n"
          ]
        },
        {
          "output_type": "stream",
          "name": "stderr",
          "text": [
            "\r"
          ]
        },
        {
          "output_type": "stream",
          "name": "stdout",
          "text": [
            "MoviePy - Writing audio in /content/drive/My Drive/Hammering_Test/Bad_Data/converted_wav/sample_97.wav\n"
          ]
        },
        {
          "output_type": "stream",
          "name": "stderr",
          "text": [
            "                                                                   "
          ]
        },
        {
          "output_type": "stream",
          "name": "stdout",
          "text": [
            "MoviePy - Done.\n",
            "✅ Converted sample_97.mp4 → sample_97.wav\n"
          ]
        },
        {
          "output_type": "stream",
          "name": "stderr",
          "text": [
            "\r"
          ]
        },
        {
          "output_type": "stream",
          "name": "stdout",
          "text": [
            "MoviePy - Writing audio in /content/drive/My Drive/Hammering_Test/Bad_Data/converted_wav/sample_96.wav\n"
          ]
        },
        {
          "output_type": "stream",
          "name": "stderr",
          "text": [
            "                                                        "
          ]
        },
        {
          "output_type": "stream",
          "name": "stdout",
          "text": [
            "MoviePy - Done.\n",
            "✅ Converted sample_96.mp4 → sample_96.wav\n"
          ]
        },
        {
          "output_type": "stream",
          "name": "stderr",
          "text": [
            "\r"
          ]
        },
        {
          "output_type": "stream",
          "name": "stdout",
          "text": [
            "MoviePy - Writing audio in /content/drive/My Drive/Hammering_Test/Bad_Data/converted_wav/sample_95.wav\n"
          ]
        },
        {
          "output_type": "stream",
          "name": "stderr",
          "text": [
            "                                                        "
          ]
        },
        {
          "output_type": "stream",
          "name": "stdout",
          "text": [
            "MoviePy - Done.\n",
            "✅ Converted sample_95.mp4 → sample_95.wav\n"
          ]
        },
        {
          "output_type": "stream",
          "name": "stderr",
          "text": [
            "\r"
          ]
        },
        {
          "output_type": "stream",
          "name": "stdout",
          "text": [
            "MoviePy - Writing audio in /content/drive/My Drive/Hammering_Test/Bad_Data/converted_wav/sample_94.wav\n"
          ]
        },
        {
          "output_type": "stream",
          "name": "stderr",
          "text": []
        },
        {
          "output_type": "stream",
          "name": "stdout",
          "text": [
            "MoviePy - Done.\n",
            "✅ Converted sample_94.mp4 → sample_94.wav\n",
            "MoviePy - Writing audio in /content/drive/My Drive/Hammering_Test/Bad_Data/converted_wav/sample_93.wav\n"
          ]
        },
        {
          "output_type": "stream",
          "name": "stderr",
          "text": [
            "                                                        "
          ]
        },
        {
          "output_type": "stream",
          "name": "stdout",
          "text": [
            "MoviePy - Done.\n",
            "✅ Converted sample_93.mp4 → sample_93.wav\n"
          ]
        },
        {
          "output_type": "stream",
          "name": "stderr",
          "text": [
            "\r"
          ]
        },
        {
          "output_type": "stream",
          "name": "stdout",
          "text": [
            "MoviePy - Writing audio in /content/drive/My Drive/Hammering_Test/Bad_Data/converted_wav/sample_92.wav\n"
          ]
        },
        {
          "output_type": "stream",
          "name": "stderr",
          "text": [
            "                                                                    "
          ]
        },
        {
          "output_type": "stream",
          "name": "stdout",
          "text": [
            "MoviePy - Done.\n",
            "✅ Converted sample_92.mp4 → sample_92.wav\n"
          ]
        },
        {
          "output_type": "stream",
          "name": "stderr",
          "text": [
            "\r"
          ]
        },
        {
          "output_type": "stream",
          "name": "stdout",
          "text": [
            "MoviePy - Writing audio in /content/drive/My Drive/Hammering_Test/Bad_Data/converted_wav/sample_91.wav\n"
          ]
        },
        {
          "output_type": "stream",
          "name": "stderr",
          "text": [
            "                                                        "
          ]
        },
        {
          "output_type": "stream",
          "name": "stdout",
          "text": [
            "MoviePy - Done.\n",
            "✅ Converted sample_91.mp4 → sample_91.wav\n"
          ]
        },
        {
          "output_type": "stream",
          "name": "stderr",
          "text": [
            "\r"
          ]
        },
        {
          "output_type": "stream",
          "name": "stdout",
          "text": [
            "MoviePy - Writing audio in /content/drive/My Drive/Hammering_Test/Bad_Data/converted_wav/sample_90.wav\n"
          ]
        },
        {
          "output_type": "stream",
          "name": "stderr",
          "text": [
            "                                                                    "
          ]
        },
        {
          "output_type": "stream",
          "name": "stdout",
          "text": [
            "MoviePy - Done.\n",
            "✅ Converted sample_90.mp4 → sample_90.wav\n"
          ]
        },
        {
          "output_type": "stream",
          "name": "stderr",
          "text": [
            "\r"
          ]
        },
        {
          "output_type": "stream",
          "name": "stdout",
          "text": [
            "MoviePy - Writing audio in /content/drive/My Drive/Hammering_Test/Bad_Data/converted_wav/sample_89.wav\n"
          ]
        },
        {
          "output_type": "stream",
          "name": "stderr",
          "text": [
            "                                                        "
          ]
        },
        {
          "output_type": "stream",
          "name": "stdout",
          "text": [
            "MoviePy - Done.\n",
            "✅ Converted sample_89.mp4 → sample_89.wav\n"
          ]
        },
        {
          "output_type": "stream",
          "name": "stderr",
          "text": [
            "\r"
          ]
        },
        {
          "output_type": "stream",
          "name": "stdout",
          "text": [
            "MoviePy - Writing audio in /content/drive/My Drive/Hammering_Test/Bad_Data/converted_wav/sample_88.wav\n"
          ]
        },
        {
          "output_type": "stream",
          "name": "stderr",
          "text": [
            "                                                        "
          ]
        },
        {
          "output_type": "stream",
          "name": "stdout",
          "text": [
            "MoviePy - Done.\n",
            "✅ Converted sample_88.mp4 → sample_88.wav\n"
          ]
        },
        {
          "output_type": "stream",
          "name": "stderr",
          "text": [
            "\r"
          ]
        },
        {
          "output_type": "stream",
          "name": "stdout",
          "text": [
            "MoviePy - Writing audio in /content/drive/My Drive/Hammering_Test/Bad_Data/converted_wav/sample_87.wav\n"
          ]
        },
        {
          "output_type": "stream",
          "name": "stderr",
          "text": [
            "                                                                    "
          ]
        },
        {
          "output_type": "stream",
          "name": "stdout",
          "text": [
            "MoviePy - Done.\n",
            "✅ Converted sample_87.mp4 → sample_87.wav\n"
          ]
        },
        {
          "output_type": "stream",
          "name": "stderr",
          "text": [
            "\r"
          ]
        },
        {
          "output_type": "stream",
          "name": "stdout",
          "text": [
            "MoviePy - Writing audio in /content/drive/My Drive/Hammering_Test/Bad_Data/converted_wav/sample_86.wav\n"
          ]
        },
        {
          "output_type": "stream",
          "name": "stderr",
          "text": [
            "                                                        "
          ]
        },
        {
          "output_type": "stream",
          "name": "stdout",
          "text": [
            "MoviePy - Done.\n",
            "✅ Converted sample_86.mp4 → sample_86.wav\n"
          ]
        },
        {
          "output_type": "stream",
          "name": "stderr",
          "text": [
            "\r"
          ]
        },
        {
          "output_type": "stream",
          "name": "stdout",
          "text": [
            "MoviePy - Writing audio in /content/drive/My Drive/Hammering_Test/Bad_Data/converted_wav/sample_85.wav\n"
          ]
        },
        {
          "output_type": "stream",
          "name": "stderr",
          "text": []
        },
        {
          "output_type": "stream",
          "name": "stdout",
          "text": [
            "MoviePy - Done.\n",
            "✅ Converted sample_85.mp4 → sample_85.wav\n",
            "MoviePy - Writing audio in /content/drive/My Drive/Hammering_Test/Bad_Data/converted_wav/sample_84.wav\n"
          ]
        },
        {
          "output_type": "stream",
          "name": "stderr",
          "text": []
        },
        {
          "output_type": "stream",
          "name": "stdout",
          "text": [
            "MoviePy - Done.\n",
            "✅ Converted sample_84.mp4 → sample_84.wav\n",
            "MoviePy - Writing audio in /content/drive/My Drive/Hammering_Test/Bad_Data/converted_wav/sample_83.wav\n"
          ]
        },
        {
          "output_type": "stream",
          "name": "stderr",
          "text": []
        },
        {
          "output_type": "stream",
          "name": "stdout",
          "text": [
            "MoviePy - Done.\n",
            "✅ Converted sample_83.mp4 → sample_83.wav\n",
            "MoviePy - Writing audio in /content/drive/My Drive/Hammering_Test/Bad_Data/converted_wav/sample_82.wav\n"
          ]
        },
        {
          "output_type": "stream",
          "name": "stderr",
          "text": []
        },
        {
          "output_type": "stream",
          "name": "stdout",
          "text": [
            "MoviePy - Done.\n",
            "✅ Converted sample_82.mp4 → sample_82.wav\n",
            "MoviePy - Writing audio in /content/drive/My Drive/Hammering_Test/Bad_Data/converted_wav/sample_81.wav\n"
          ]
        },
        {
          "output_type": "stream",
          "name": "stderr",
          "text": []
        },
        {
          "output_type": "stream",
          "name": "stdout",
          "text": [
            "MoviePy - Done.\n",
            "✅ Converted sample_81.mp4 → sample_81.wav\n",
            "MoviePy - Writing audio in /content/drive/My Drive/Hammering_Test/Bad_Data/converted_wav/sample_80.wav\n"
          ]
        },
        {
          "output_type": "stream",
          "name": "stderr",
          "text": []
        },
        {
          "output_type": "stream",
          "name": "stdout",
          "text": [
            "MoviePy - Done.\n",
            "✅ Converted sample_80.mp4 → sample_80.wav\n",
            "MoviePy - Writing audio in /content/drive/My Drive/Hammering_Test/Bad_Data/converted_wav/sample_79.wav\n"
          ]
        },
        {
          "output_type": "stream",
          "name": "stderr",
          "text": [
            "                                                        "
          ]
        },
        {
          "output_type": "stream",
          "name": "stdout",
          "text": [
            "MoviePy - Done.\n",
            "✅ Converted sample_79.mp4 → sample_79.wav\n"
          ]
        },
        {
          "output_type": "stream",
          "name": "stderr",
          "text": [
            "\r"
          ]
        },
        {
          "output_type": "stream",
          "name": "stdout",
          "text": [
            "MoviePy - Writing audio in /content/drive/My Drive/Hammering_Test/Bad_Data/converted_wav/sample_78.wav\n"
          ]
        },
        {
          "output_type": "stream",
          "name": "stderr",
          "text": [
            "                                                                    "
          ]
        },
        {
          "output_type": "stream",
          "name": "stdout",
          "text": [
            "MoviePy - Done.\n",
            "✅ Converted sample_78.mp4 → sample_78.wav\n"
          ]
        },
        {
          "output_type": "stream",
          "name": "stderr",
          "text": [
            "\r"
          ]
        },
        {
          "output_type": "stream",
          "name": "stdout",
          "text": [
            "MoviePy - Writing audio in /content/drive/My Drive/Hammering_Test/Bad_Data/converted_wav/sample_77.wav\n"
          ]
        },
        {
          "output_type": "stream",
          "name": "stderr",
          "text": [
            "                                                        "
          ]
        },
        {
          "output_type": "stream",
          "name": "stdout",
          "text": [
            "MoviePy - Done.\n",
            "✅ Converted sample_77.mp4 → sample_77.wav\n"
          ]
        },
        {
          "output_type": "stream",
          "name": "stderr",
          "text": [
            "\r"
          ]
        },
        {
          "output_type": "stream",
          "name": "stdout",
          "text": [
            "MoviePy - Writing audio in /content/drive/My Drive/Hammering_Test/Bad_Data/converted_wav/sample_76.wav\n"
          ]
        },
        {
          "output_type": "stream",
          "name": "stderr",
          "text": [
            "                                                                    "
          ]
        },
        {
          "output_type": "stream",
          "name": "stdout",
          "text": [
            "MoviePy - Done.\n",
            "✅ Converted sample_76.mp4 → sample_76.wav\n"
          ]
        },
        {
          "output_type": "stream",
          "name": "stderr",
          "text": [
            "\r"
          ]
        },
        {
          "output_type": "stream",
          "name": "stdout",
          "text": [
            "MoviePy - Writing audio in /content/drive/My Drive/Hammering_Test/Bad_Data/converted_wav/sample_75.wav\n"
          ]
        },
        {
          "output_type": "stream",
          "name": "stderr",
          "text": [
            "                                                        "
          ]
        },
        {
          "output_type": "stream",
          "name": "stdout",
          "text": [
            "MoviePy - Done.\n",
            "✅ Converted sample_75.mp4 → sample_75.wav\n"
          ]
        },
        {
          "output_type": "stream",
          "name": "stderr",
          "text": [
            "\r"
          ]
        },
        {
          "output_type": "stream",
          "name": "stdout",
          "text": [
            "MoviePy - Writing audio in /content/drive/My Drive/Hammering_Test/Bad_Data/converted_wav/sample_74.wav\n"
          ]
        },
        {
          "output_type": "stream",
          "name": "stderr",
          "text": [
            "                                                                    "
          ]
        },
        {
          "output_type": "stream",
          "name": "stdout",
          "text": [
            "MoviePy - Done.\n",
            "✅ Converted sample_74.mp4 → sample_74.wav\n"
          ]
        },
        {
          "output_type": "stream",
          "name": "stderr",
          "text": [
            "\r"
          ]
        },
        {
          "output_type": "stream",
          "name": "stdout",
          "text": [
            "MoviePy - Writing audio in /content/drive/My Drive/Hammering_Test/Bad_Data/converted_wav/sample_73.wav\n"
          ]
        },
        {
          "output_type": "stream",
          "name": "stderr",
          "text": []
        },
        {
          "output_type": "stream",
          "name": "stdout",
          "text": [
            "MoviePy - Done.\n",
            "✅ Converted sample_73.mp4 → sample_73.wav\n",
            "MoviePy - Writing audio in /content/drive/My Drive/Hammering_Test/Bad_Data/converted_wav/sample_72.wav\n"
          ]
        },
        {
          "output_type": "stream",
          "name": "stderr",
          "text": [
            "                                                                   "
          ]
        },
        {
          "output_type": "stream",
          "name": "stdout",
          "text": [
            "MoviePy - Done.\n",
            "✅ Converted sample_72.mp4 → sample_72.wav\n"
          ]
        },
        {
          "output_type": "stream",
          "name": "stderr",
          "text": [
            "\r"
          ]
        },
        {
          "output_type": "stream",
          "name": "stdout",
          "text": [
            "MoviePy - Writing audio in /content/drive/My Drive/Hammering_Test/Bad_Data/converted_wav/sample_71.wav\n"
          ]
        },
        {
          "output_type": "stream",
          "name": "stderr",
          "text": [
            "                                                        "
          ]
        },
        {
          "output_type": "stream",
          "name": "stdout",
          "text": [
            "MoviePy - Done.\n",
            "✅ Converted sample_71.mp4 → sample_71.wav\n"
          ]
        },
        {
          "output_type": "stream",
          "name": "stderr",
          "text": [
            "\r"
          ]
        },
        {
          "output_type": "stream",
          "name": "stdout",
          "text": [
            "MoviePy - Writing audio in /content/drive/My Drive/Hammering_Test/Bad_Data/converted_wav/sample_70.wav\n"
          ]
        },
        {
          "output_type": "stream",
          "name": "stderr",
          "text": []
        },
        {
          "output_type": "stream",
          "name": "stdout",
          "text": [
            "MoviePy - Done.\n",
            "✅ Converted sample_70.mp4 → sample_70.wav\n",
            "MoviePy - Writing audio in /content/drive/My Drive/Hammering_Test/Bad_Data/converted_wav/sample_69.wav\n"
          ]
        },
        {
          "output_type": "stream",
          "name": "stderr",
          "text": []
        },
        {
          "output_type": "stream",
          "name": "stdout",
          "text": [
            "MoviePy - Done.\n",
            "✅ Converted sample_69.mp4 → sample_69.wav\n",
            "MoviePy - Writing audio in /content/drive/My Drive/Hammering_Test/Bad_Data/converted_wav/sample_68.wav\n"
          ]
        },
        {
          "output_type": "stream",
          "name": "stderr",
          "text": []
        },
        {
          "output_type": "stream",
          "name": "stdout",
          "text": [
            "MoviePy - Done.\n",
            "✅ Converted sample_68.mp4 → sample_68.wav\n",
            "MoviePy - Writing audio in /content/drive/My Drive/Hammering_Test/Bad_Data/converted_wav/sample_67.wav\n"
          ]
        },
        {
          "output_type": "stream",
          "name": "stderr",
          "text": [
            "                                                                    "
          ]
        },
        {
          "output_type": "stream",
          "name": "stdout",
          "text": [
            "MoviePy - Done.\n",
            "✅ Converted sample_67.mp4 → sample_67.wav\n"
          ]
        },
        {
          "output_type": "stream",
          "name": "stderr",
          "text": [
            "\r"
          ]
        },
        {
          "output_type": "stream",
          "name": "stdout",
          "text": [
            "MoviePy - Writing audio in /content/drive/My Drive/Hammering_Test/Bad_Data/converted_wav/sample_66.wav\n"
          ]
        },
        {
          "output_type": "stream",
          "name": "stderr",
          "text": [
            "                                                        "
          ]
        },
        {
          "output_type": "stream",
          "name": "stdout",
          "text": [
            "MoviePy - Done.\n",
            "✅ Converted sample_66.mp4 → sample_66.wav\n"
          ]
        },
        {
          "output_type": "stream",
          "name": "stderr",
          "text": [
            "\r"
          ]
        },
        {
          "output_type": "stream",
          "name": "stdout",
          "text": [
            "MoviePy - Writing audio in /content/drive/My Drive/Hammering_Test/Bad_Data/converted_wav/sample_65.wav\n"
          ]
        },
        {
          "output_type": "stream",
          "name": "stderr",
          "text": [
            "                                                                    "
          ]
        },
        {
          "output_type": "stream",
          "name": "stdout",
          "text": [
            "MoviePy - Done.\n",
            "✅ Converted sample_65.mp4 → sample_65.wav\n"
          ]
        },
        {
          "output_type": "stream",
          "name": "stderr",
          "text": [
            "\r"
          ]
        },
        {
          "output_type": "stream",
          "name": "stdout",
          "text": [
            "MoviePy - Writing audio in /content/drive/My Drive/Hammering_Test/Bad_Data/converted_wav/sample_64.wav\n"
          ]
        },
        {
          "output_type": "stream",
          "name": "stderr",
          "text": [
            "                                                        "
          ]
        },
        {
          "output_type": "stream",
          "name": "stdout",
          "text": [
            "MoviePy - Done.\n",
            "✅ Converted sample_64.mp4 → sample_64.wav\n"
          ]
        },
        {
          "output_type": "stream",
          "name": "stderr",
          "text": [
            "\r"
          ]
        },
        {
          "output_type": "stream",
          "name": "stdout",
          "text": [
            "MoviePy - Writing audio in /content/drive/My Drive/Hammering_Test/Bad_Data/converted_wav/sample_63.wav\n"
          ]
        },
        {
          "output_type": "stream",
          "name": "stderr",
          "text": [
            "                                                                   "
          ]
        },
        {
          "output_type": "stream",
          "name": "stdout",
          "text": [
            "MoviePy - Done.\n",
            "✅ Converted sample_63.mp4 → sample_63.wav\n"
          ]
        },
        {
          "output_type": "stream",
          "name": "stderr",
          "text": [
            "\r"
          ]
        },
        {
          "output_type": "stream",
          "name": "stdout",
          "text": [
            "MoviePy - Writing audio in /content/drive/My Drive/Hammering_Test/Bad_Data/converted_wav/sample_62.wav\n"
          ]
        },
        {
          "output_type": "stream",
          "name": "stderr",
          "text": [
            "                                                        "
          ]
        },
        {
          "output_type": "stream",
          "name": "stdout",
          "text": [
            "MoviePy - Done.\n",
            "✅ Converted sample_62.mp4 → sample_62.wav\n"
          ]
        },
        {
          "output_type": "stream",
          "name": "stderr",
          "text": [
            "\r"
          ]
        },
        {
          "output_type": "stream",
          "name": "stdout",
          "text": [
            "MoviePy - Writing audio in /content/drive/My Drive/Hammering_Test/Bad_Data/converted_wav/sample_61.wav\n"
          ]
        },
        {
          "output_type": "stream",
          "name": "stderr",
          "text": [
            "                                                                    "
          ]
        },
        {
          "output_type": "stream",
          "name": "stdout",
          "text": [
            "MoviePy - Done.\n",
            "✅ Converted sample_61.mp4 → sample_61.wav\n"
          ]
        },
        {
          "output_type": "stream",
          "name": "stderr",
          "text": [
            "\r"
          ]
        },
        {
          "output_type": "stream",
          "name": "stdout",
          "text": [
            "MoviePy - Writing audio in /content/drive/My Drive/Hammering_Test/Bad_Data/converted_wav/sample_60.wav\n"
          ]
        },
        {
          "output_type": "stream",
          "name": "stderr",
          "text": [
            "                                                        "
          ]
        },
        {
          "output_type": "stream",
          "name": "stdout",
          "text": [
            "MoviePy - Done.\n",
            "✅ Converted sample_60.mp4 → sample_60.wav\n"
          ]
        },
        {
          "output_type": "stream",
          "name": "stderr",
          "text": [
            "\r"
          ]
        },
        {
          "output_type": "stream",
          "name": "stdout",
          "text": [
            "MoviePy - Writing audio in /content/drive/My Drive/Hammering_Test/Bad_Data/converted_wav/sample_59.wav\n"
          ]
        },
        {
          "output_type": "stream",
          "name": "stderr",
          "text": [
            "                                                                   "
          ]
        },
        {
          "output_type": "stream",
          "name": "stdout",
          "text": [
            "MoviePy - Done.\n",
            "✅ Converted sample_59.mp4 → sample_59.wav\n"
          ]
        },
        {
          "output_type": "stream",
          "name": "stderr",
          "text": [
            "\r"
          ]
        },
        {
          "output_type": "stream",
          "name": "stdout",
          "text": [
            "MoviePy - Writing audio in /content/drive/My Drive/Hammering_Test/Bad_Data/converted_wav/sample_58.wav\n"
          ]
        },
        {
          "output_type": "stream",
          "name": "stderr",
          "text": [
            "                                                                   "
          ]
        },
        {
          "output_type": "stream",
          "name": "stdout",
          "text": [
            "MoviePy - Done.\n",
            "✅ Converted sample_58.mp4 → sample_58.wav\n"
          ]
        },
        {
          "output_type": "stream",
          "name": "stderr",
          "text": [
            "\r"
          ]
        }
      ]
    },
    {
      "cell_type": "code",
      "source": [
        "import os\n",
        "\n",
        "base_path = '/content/drive/My Drive/Hammering_Test/Good_Data_2'\n",
        "\n",
        "\n",
        "# List folders and files in 'Hammering Test'\n",
        "print(\"Contents of 'Hammering Test':\")\n",
        "print(os.listdir(base_path))"
      ],
      "metadata": {
        "colab": {
          "base_uri": "https://localhost:8080/"
        },
        "id": "yZaZQoOzZVY7",
        "outputId": "0f6b765c-986d-44b8-bbf2-a5703d2e48b7"
      },
      "execution_count": null,
      "outputs": [
        {
          "output_type": "stream",
          "name": "stdout",
          "text": [
            "Contents of 'Hammering Test':\n",
            "['sample_106.mp4', 'sample_107.mp4', 'sample_108.mp4', 'sample_109.mp4', 'sample_110.mp4', 'sample_111.mp4', 'sample_112.mp4', 'sample_113.mp4', 'sample_114.mp4', 'sample_115.mp4', 'sample_116.mp4', 'sample_117.mp4', 'sample_118.mp4', 'sample_119.mp4', 'sample_120.mp4', 'sample_121.mp4', 'sample_122.mp4', 'sample_123.mp4', 'sample_124.mp4', 'sample_125.mp4', 'sample_126.mp4', 'sample_127.mp4', 'sample_128.mp4', 'sample_129.mp4', 'sample_130.mp4', 'sample_131.mp4', 'sample_132.mp4', 'sample_133.mp4', 'sample_134.mp4', 'sample_135.mp4', 'sample_136.mp4', 'sample_137.mp4', 'sample_138.mp4', 'sample_139.mp4', 'sample_140.mp4', 'sample_141.mp4', 'sample_142.mp4', 'sample_143.mp4', 'sample_144.mp4', 'sample_145.mp4', 'sample_146.mp4', 'sample_147.mp4', 'sample_148.mp4', 'sample_149.mp4', 'sample_150.mp4', 'sample_151.mp4', 'sample_152.mp4', 'sample_153.mp4', 'sample_154.mp4', 'sample_155.mp4', 'sample_156.mp4', 'sample_157.mp4', 'sample_158.mp4', 'sample_159.mp4', 'sample_160.mp4', 'sample_161.mp4', 'sample_162.mp4', 'sample_163.mp4', 'sample_164.mp4', 'sample_165.mp4', 'sample_166.mp4', 'sample_167.mp4', 'sample_168.mp4', 'sample_169.mp4', 'sample_170.mp4', 'sample_171.mp4', 'sample_172.mp4', 'sample_173.mp4', 'sample_174.mp4', 'sample_175.mp4', 'sample_176.mp4', 'sample_177.mp4', 'sample_178.mp4', 'sample_179.mp4', 'sample_180.mp4', 'sample_181.mp4', 'sample_182.mp4', 'sample_183.mp4', 'sample_184.mp4', 'sample_185.mp4', 'sample_186.mp4', 'sample_187.mp4', 'sample_188.mp4', 'sample_189.mp4', 'sample_190.mp4', 'sample_191.mp4', 'sample_192.mp4', 'sample_193.mp4', 'sample_194.mp4', 'sample_195.mp4', 'sample_196.mp4', 'sample_197.mp4', 'sample_198.mp4', 'sample_199.mp4', 'sample_200.mp4', 'sample_201.mp4', 'sample_202.mp4', 'sample_203.mp4', 'sample_204.mp4', 'sample_205.mp4', 'sample_206.mp4', 'sample_207.mp4', 'sample_208.mp4', 'sample_209.mp4', 'sample_210.mp4', 'sample_211.mp4', 'sample_212.mp4', 'sample_213.mp4', 'sample_214.mp4', 'sample_215.mp4', 'sample_216.mp4', 'sample_217.mp4', 'sample_218.mp4', 'sample_219.mp4', 'sample_220.mp4', 'sample_221.mp4', 'sample_222.mp4', 'sample_223.mp4', 'sample_224.mp4', 'sample_225.mp4', 'sample_226.mp4', 'sample_227.mp4', 'sample_228.mp4', 'sample_229.mp4', 'sample_230.mp4', 'sample_231.mp4', 'sample_232.mp4', 'sample_233.mp4', 'sample_234.mp4', 'sample_235.mp4', 'sample_236.mp4', 'sample_237.mp4', 'sample_238.mp4', 'sample_239.mp4', 'sample_240.mp4', 'sample_241.mp4', 'sample_242.mp4', 'sample_243.mp4', 'sample_244.mp4', 'sample_245.mp4', 'sample_246.mp4', 'sample_247.mp4', 'sample_248.mp4', 'sample_249.mp4', 'sample_250.mp4', 'sample_251.mp4', 'sample_252.mp4', 'sample_253.mp4', 'sample_254.mp4', 'sample_255.mp4', 'sample_256.mp4', 'sample_257.mp4', 'sample_258.mp4', 'sample_259.mp4', 'sample_260.mp4', 'sample_261.mp4', 'sample_262.mp4', 'sample_263.mp4', 'sample_264.mp4', 'sample_265.mp4', 'sample_266.mp4', 'sample_267.mp4', 'sample_268.mp4', 'sample_269.mp4', 'sample_270.mp4', 'sample_271.mp4', 'sample_272.mp4', 'sample_273.mp4', 'sample_274.mp4', 'sample_275.mp4', 'sample_276.mp4', 'sample_277.mp4', 'sample_278.mp4', 'sample_279.mp4', 'sample_280.mp4', 'sample_281.mp4', 'sample_282.mp4', 'sample_283.mp4', 'sample_284.mp4', 'sample_285.mp4', 'sample_286.mp4', 'sample_287.mp4', 'sample_288.mp4', 'sample_289.mp4', 'sample_290.mp4', 'sample_291.mp4', 'sample_292.mp4', 'sample_293.mp4', 'sample_294.mp4', 'sample_295.mp4', 'sample_296.mp4', 'sample_297.mp4', 'sample_298.mp4', 'sample_299.mp4', 'sample_300.mp4', 'sample_301.mp4', 'sample_302.mp4', 'sample_303.mp4', 'sample_304.mp4', 'sample_305.mp4', 'sample_306.mp4', 'sample_307.mp4', 'sample_308.mp4', 'sample_309.mp4', 'sample_310.mp4', 'sample_311.mp4', 'sample_312.mp4', 'sample_313.mp4', 'sample_314.mp4', 'sample_315.mp4', 'sample_316.mp4', 'sample_317.mp4', 'sample_318.mp4', 'sample_319.mp4', 'sample_320.mp4', 'sample_321.mp4', 'sample_322.mp4', 'sample_323.mp4', 'sample_324.mp4', 'sample_325.mp4', 'sample_326.mp4', 'sample_327.mp4', 'sample_328.mp4', 'sample_329.mp4', 'sample_330.mp4', 'sample_331.mp4', 'sample_332.mp4', 'sample_333.mp4', 'sample_334.mp4', 'sample_335.mp4', 'sample_336.mp4', 'sample_337.mp4', 'sample_338.mp4', 'sample_339.mp4', 'sample_340.mp4', 'sample_341.mp4', 'sample_342.mp4', 'sample_343.mp4', 'sample_344.mp4', 'sample_345.mp4', 'sample_346.mp4', 'sample_347.mp4', 'sample_348.mp4', 'sample_349.mp4', 'sample_350.mp4', 'sample_351.mp4', 'sample_352.mp4', 'sample_353.mp4', 'sample_354.mp4', 'sample_355.mp4', 'sample_356.mp4', 'sample_357.mp4', 'sample_358.mp4', 'sample_359.mp4', 'sample_360.mp4', 'sample_361.mp4', 'sample_362.mp4', 'sample_363.mp4', 'sample_364.mp4', 'sample_365.mp4', 'sample_366.mp4', 'sample_367.mp4', 'sample_368.mp4', 'sample_369.mp4', 'sample_370.mp4', 'sample_371.mp4', 'sample_372.mp4', 'sample_373.mp4', 'sample_374.mp4', 'sample_375.mp4', 'sample_376.mp4', 'sample_377.mp4', 'sample_378.mp4', 'sample_379.mp4', 'sample_380.mp4', 'sample_381.mp4', 'sample_382.mp4', 'sample_383.mp4', 'sample_384.mp4', 'sample_385.mp4', 'sample_386.mp4', 'sample_387.mp4', 'sample_388.mp4', 'sample_389.mp4', 'sample_390.mp4', 'sample_391.mp4', 'sample_392.mp4', 'sample_393.mp4', 'sample_394.mp4', 'sample_395.mp4', 'sample_396.mp4', 'sample_397.mp4', 'sample_398.mp4', 'sample_399.mp4', 'sample_400.mp4', 'sample_401.mp4', 'sample_402.mp4', 'sample_403.mp4', 'sample_404.mp4', 'sample_405.mp4', 'sample_406.mp4', 'sample_407.mp4', 'sample_408.mp4', 'sample_409.mp4', 'sample_410.mp4', 'sample_411.mp4', 'sample_412.mp4', 'sample_413.mp4', 'sample_414.mp4', 'sample_415.mp4', 'sample_416.mp4', 'sample_417.mp4', 'sample_418.mp4', 'sample_419.mp4', 'sample_420.mp4', 'sample_421.mp4', 'sample_422.mp4', 'sample_423.mp4', 'sample_424.mp4', 'sample_425.mp4', 'sample_426.mp4', 'sample_427.mp4', 'sample_428.mp4', 'sample_429.mp4', 'sample_430.mp4', 'sample_431.mp4', 'sample_432.mp4', 'sample_433.mp4', 'sample_434.mp4', 'sample_435.mp4', 'sample_436.mp4', 'sample_437.mp4', 'sample_438.mp4', 'sample_439.mp4', 'sample_440.mp4', 'sample_441.mp4', 'sample_442.mp4', 'sample_443.mp4', 'sample_444.mp4', 'sample_445.mp4', 'sample_446.mp4', 'sample_447.mp4', 'sample_448.mp4', 'sample_449.mp4', 'sample_450.mp4', 'sample_451.mp4', 'sample_452.mp4', 'sample_453.mp4', 'sample_454.mp4', 'sample_455.mp4', 'sample_456.mp4', 'sample_457.mp4', 'sample_458.mp4', 'sample_459.mp4', 'sample_460.mp4', 'sample_461.mp4', 'sample_462.mp4', 'sample_463.mp4', 'sample_464.mp4', 'sample_465.mp4', 'sample_466.mp4', 'sample_467.mp4', 'sample_468.mp4', 'sample_469.mp4', 'sample_470.mp4', 'sample_471.mp4', 'sample_472.mp4', 'sample_473.mp4', 'sample_474.mp4', 'sample_475.mp4', 'sample_476.mp4', 'sample_477.mp4', 'sample_478.mp4', 'sample_479.mp4', 'sample_480.mp4', 'sample_481.mp4', 'sample_482.mp4', 'sample_483.mp4', 'sample_484.mp4', 'sample_485.mp4', 'sample_486.mp4', 'sample_487.mp4', 'sample_488.mp4', 'sample_489.mp4', 'sample_490.mp4', 'sample_491.mp4', 'sample_492.mp4', 'sample_493.mp4', 'sample_494.mp4', 'sample_495.mp4', 'sample_496.mp4', 'sample_497.mp4', 'sample_498.mp4', 'sample_499.mp4', 'sample_500.mp4', 'sample_501.mp4', 'sample_502.mp4', 'sample_503.mp4', 'sample_504.mp4', 'sample_505.mp4', 'sample_506.mp4', 'sample_507.mp4']\n"
          ]
        }
      ]
    },
    {
      "cell_type": "code",
      "source": [
        "import os\n",
        "\n",
        "# Set your folder path here\n",
        "folder_path = '/content/drive/My Drive/Hammering_Test/Good_Data_2'\n",
        "\n",
        "# List all .mp4 files and sort them (optional)\n",
        "video_files = sorted([f for f in os.listdir(folder_path) if f.endswith('.mp4')])"
      ],
      "metadata": {
        "id": "DLzM8JURaVAN"
      },
      "execution_count": null,
      "outputs": []
    },
    {
      "cell_type": "code",
      "source": [
        "for idx, filename in enumerate(video_files, start=106):\n",
        "    new_filename = f\"sample_{idx}.mp4\"\n",
        "    old_path = os.path.join(folder_path, filename)\n",
        "    new_path = os.path.join(folder_path, new_filename)\n",
        "    os.rename(old_path, new_path)\n",
        "    print(f\"Renamed: {filename} → {new_filename}\")"
      ],
      "metadata": {
        "colab": {
          "base_uri": "https://localhost:8080/"
        },
        "id": "mWdwdSojZeay",
        "outputId": "6cd31911-d76e-4e2c-b5ad-46dd528e1049"
      },
      "execution_count": null,
      "outputs": [
        {
          "output_type": "stream",
          "name": "stdout",
          "text": [
            "Renamed: VID_20250609_145515.mp4 → sample_106.mp4\n",
            "Renamed: VID_20250609_145524.mp4 → sample_107.mp4\n",
            "Renamed: VID_20250609_145533.mp4 → sample_108.mp4\n",
            "Renamed: VID_20250609_145540.mp4 → sample_109.mp4\n",
            "Renamed: VID_20250609_145553.mp4 → sample_110.mp4\n",
            "Renamed: VID_20250609_145613.mp4 → sample_111.mp4\n",
            "Renamed: VID_20250609_145622.mp4 → sample_112.mp4\n",
            "Renamed: VID_20250609_145631.mp4 → sample_113.mp4\n",
            "Renamed: VID_20250609_145640.mp4 → sample_114.mp4\n",
            "Renamed: VID_20250609_145648.mp4 → sample_115.mp4\n",
            "Renamed: VID_20250609_145837.mp4 → sample_116.mp4\n",
            "Renamed: VID_20250609_145845.mp4 → sample_117.mp4\n",
            "Renamed: VID_20250609_145852.mp4 → sample_118.mp4\n",
            "Renamed: VID_20250609_145900.mp4 → sample_119.mp4\n",
            "Renamed: VID_20250609_145907.mp4 → sample_120.mp4\n",
            "Renamed: VID_20250609_150017.mp4 → sample_121.mp4\n",
            "Renamed: VID_20250609_150025.mp4 → sample_122.mp4\n",
            "Renamed: VID_20250609_150040.mp4 → sample_123.mp4\n",
            "Renamed: VID_20250609_150049.mp4 → sample_124.mp4\n",
            "Renamed: VID_20250609_150057.mp4 → sample_125.mp4\n",
            "Renamed: VID_20250609_150229.mp4 → sample_126.mp4\n",
            "Renamed: VID_20250609_150237.mp4 → sample_127.mp4\n",
            "Renamed: VID_20250609_150246.mp4 → sample_128.mp4\n",
            "Renamed: VID_20250609_150253.mp4 → sample_129.mp4\n",
            "Renamed: VID_20250609_150300.mp4 → sample_130.mp4\n",
            "Renamed: VID_20250609_150314.mp4 → sample_131.mp4\n",
            "Renamed: VID_20250609_150322.mp4 → sample_132.mp4\n",
            "Renamed: VID_20250609_150330.mp4 → sample_133.mp4\n",
            "Renamed: VID_20250609_150337.mp4 → sample_134.mp4\n",
            "Renamed: VID_20250609_150345.mp4 → sample_135.mp4\n",
            "Renamed: VID_20250609_150406.mp4 → sample_136.mp4\n",
            "Renamed: VID_20250609_150414.mp4 → sample_137.mp4\n",
            "Renamed: VID_20250609_150422.mp4 → sample_138.mp4\n",
            "Renamed: VID_20250609_150431.mp4 → sample_139.mp4\n",
            "Renamed: VID_20250609_150439.mp4 → sample_140.mp4\n",
            "Renamed: VID_20250609_150504.mp4 → sample_141.mp4\n",
            "Renamed: VID_20250609_150512.mp4 → sample_142.mp4\n",
            "Renamed: VID_20250609_150520.mp4 → sample_143.mp4\n",
            "Renamed: VID_20250609_150528.mp4 → sample_144.mp4\n",
            "Renamed: VID_20250609_150535.mp4 → sample_145.mp4\n",
            "Renamed: VID_20250609_150630.mp4 → sample_146.mp4\n",
            "Renamed: VID_20250609_150638.mp4 → sample_147.mp4\n",
            "Renamed: VID_20250609_150646.mp4 → sample_148.mp4\n",
            "Renamed: VID_20250609_150654.mp4 → sample_149.mp4\n",
            "Renamed: VID_20250609_150701.mp4 → sample_150.mp4\n",
            "Renamed: VID_20250609_150711.mp4 → sample_151.mp4\n",
            "Renamed: VID_20250609_150746.mp4 → sample_152.mp4\n",
            "Renamed: VID_20250609_150803.mp4 → sample_153.mp4\n",
            "Renamed: VID_20250609_150812.mp4 → sample_154.mp4\n",
            "Renamed: VID_20250609_150819.mp4 → sample_155.mp4\n",
            "Renamed: VID_20250609_150827.mp4 → sample_156.mp4\n",
            "Renamed: VID_20250609_150955.mp4 → sample_157.mp4\n",
            "Renamed: VID_20250609_151002.mp4 → sample_158.mp4\n",
            "Renamed: VID_20250609_151010.mp4 → sample_159.mp4\n",
            "Renamed: VID_20250609_151018.mp4 → sample_160.mp4\n",
            "Renamed: VID_20250609_151138.mp4 → sample_161.mp4\n",
            "Renamed: VID_20250609_151145.mp4 → sample_162.mp4\n",
            "Renamed: VID_20250609_151152.mp4 → sample_163.mp4\n",
            "Renamed: VID_20250609_151333.mp4 → sample_164.mp4\n",
            "Renamed: VID_20250609_151342.mp4 → sample_165.mp4\n",
            "Renamed: VID_20250609_152759.mp4 → sample_166.mp4\n",
            "Renamed: VID_20250609_152810.mp4 → sample_167.mp4\n",
            "Renamed: VID_20250609_152817.mp4 → sample_168.mp4\n",
            "Renamed: VID_20250609_152825.mp4 → sample_169.mp4\n",
            "Renamed: VID_20250609_152833.mp4 → sample_170.mp4\n",
            "Renamed: VID_20250609_152848.mp4 → sample_171.mp4\n",
            "Renamed: VID_20250609_152856.mp4 → sample_172.mp4\n",
            "Renamed: VID_20250609_152904.mp4 → sample_173.mp4\n",
            "Renamed: VID_20250609_152911.mp4 → sample_174.mp4\n",
            "Renamed: VID_20250609_152920.mp4 → sample_175.mp4\n",
            "Renamed: VID_20250609_152940.mp4 → sample_176.mp4\n",
            "Renamed: VID_20250609_152947.mp4 → sample_177.mp4\n",
            "Renamed: VID_20250609_152955.mp4 → sample_178.mp4\n",
            "Renamed: VID_20250609_153002.mp4 → sample_179.mp4\n",
            "Renamed: VID_20250609_153013.mp4 → sample_180.mp4\n",
            "Renamed: VID_20250609_153028.mp4 → sample_181.mp4\n",
            "Renamed: VID_20250609_153036.mp4 → sample_182.mp4\n",
            "Renamed: VID_20250609_153043.mp4 → sample_183.mp4\n",
            "Renamed: VID_20250609_153050.mp4 → sample_184.mp4\n",
            "Renamed: VID_20250609_153058.mp4 → sample_185.mp4\n",
            "Renamed: VID_20250609_153119.mp4 → sample_186.mp4\n",
            "Renamed: VID_20250609_153126.mp4 → sample_187.mp4\n",
            "Renamed: VID_20250609_153134.mp4 → sample_188.mp4\n",
            "Renamed: VID_20250609_153141.mp4 → sample_189.mp4\n",
            "Renamed: VID_20250609_153148.mp4 → sample_190.mp4\n",
            "Renamed: VID_20250609_153156.mp4 → sample_191.mp4\n",
            "Renamed: VID_20250609_153211.mp4 → sample_192.mp4\n",
            "Renamed: VID_20250609_153218.mp4 → sample_193.mp4\n",
            "Renamed: VID_20250609_153225.mp4 → sample_194.mp4\n",
            "Renamed: VID_20250609_153232.mp4 → sample_195.mp4\n",
            "Renamed: VID_20250609_153241.mp4 → sample_196.mp4\n",
            "Renamed: VID_20250609_153248.mp4 → sample_197.mp4\n",
            "Renamed: VID_20250609_153302.mp4 → sample_198.mp4\n",
            "Renamed: VID_20250609_153310.mp4 → sample_199.mp4\n",
            "Renamed: VID_20250609_153317.mp4 → sample_200.mp4\n",
            "Renamed: VID_20250609_153325.mp4 → sample_201.mp4\n",
            "Renamed: VID_20250609_153332.mp4 → sample_202.mp4\n",
            "Renamed: VID_20250609_153345.mp4 → sample_203.mp4\n",
            "Renamed: VID_20250609_153352.mp4 → sample_204.mp4\n",
            "Renamed: VID_20250609_153359.mp4 → sample_205.mp4\n",
            "Renamed: VID_20250609_153407.mp4 → sample_206.mp4\n",
            "Renamed: VID_20250609_153417.mp4 → sample_207.mp4\n",
            "Renamed: VID_20250609_153432.mp4 → sample_208.mp4\n",
            "Renamed: VID_20250609_153439.mp4 → sample_209.mp4\n",
            "Renamed: VID_20250609_153446.mp4 → sample_210.mp4\n",
            "Renamed: VID_20250609_153454.mp4 → sample_211.mp4\n",
            "Renamed: VID_20250609_153501.mp4 → sample_212.mp4\n",
            "Renamed: VID_20250609_153517.mp4 → sample_213.mp4\n",
            "Renamed: VID_20250609_153525.mp4 → sample_214.mp4\n",
            "Renamed: VID_20250609_153532.mp4 → sample_215.mp4\n",
            "Renamed: VID_20250609_153540.mp4 → sample_216.mp4\n",
            "Renamed: VID_20250609_153549.mp4 → sample_217.mp4\n",
            "Renamed: VID_20250609_153659.mp4 → sample_218.mp4\n",
            "Renamed: VID_20250609_153708.mp4 → sample_219.mp4\n",
            "Renamed: VID_20250609_153716.mp4 → sample_220.mp4\n",
            "Renamed: VID_20250609_153728.mp4 → sample_221.mp4\n",
            "Renamed: VID_20250609_153736.mp4 → sample_222.mp4\n",
            "Renamed: VID_20250609_153743.mp4 → sample_223.mp4\n",
            "Renamed: VID_20250609_153751.mp4 → sample_224.mp4\n",
            "Renamed: VID_20250609_153804.mp4 → sample_225.mp4\n",
            "Renamed: VID_20250609_153811.mp4 → sample_226.mp4\n",
            "Renamed: VID_20250609_153818.mp4 → sample_227.mp4\n",
            "Renamed: VID_20250609_153826.mp4 → sample_228.mp4\n",
            "Renamed: VID_20250609_153854.mp4 → sample_229.mp4\n",
            "Renamed: VID_20250609_153901.mp4 → sample_230.mp4\n",
            "Renamed: VID_20250609_153925.mp4 → sample_231.mp4\n",
            "Renamed: VID_20250609_153933.mp4 → sample_232.mp4\n",
            "Renamed: VID_20250609_153941.mp4 → sample_233.mp4\n",
            "Renamed: VID_20250609_153948.mp4 → sample_234.mp4\n",
            "Renamed: VID_20250609_153957.mp4 → sample_235.mp4\n",
            "Renamed: VID_20250609_154047.mp4 → sample_236.mp4\n",
            "Renamed: VID_20250609_154055.mp4 → sample_237.mp4\n",
            "Renamed: VID_20250609_154103.mp4 → sample_238.mp4\n",
            "Renamed: VID_20250609_154111.mp4 → sample_239.mp4\n",
            "Renamed: VID_20250609_154118.mp4 → sample_240.mp4\n",
            "Renamed: VID_20250609_154130.mp4 → sample_241.mp4\n",
            "Renamed: VID_20250609_154137.mp4 → sample_242.mp4\n",
            "Renamed: VID_20250609_154145.mp4 → sample_243.mp4\n",
            "Renamed: VID_20250609_154152.mp4 → sample_244.mp4\n",
            "Renamed: VID_20250609_154207.mp4 → sample_245.mp4\n",
            "Renamed: VID_20250609_154214.mp4 → sample_246.mp4\n",
            "Renamed: VID_20250609_154222.mp4 → sample_247.mp4\n",
            "Renamed: VID_20250609_154230.mp4 → sample_248.mp4\n",
            "Renamed: VID_20250609_154238.mp4 → sample_249.mp4\n",
            "Renamed: VID_20250609_154343.mp4 → sample_250.mp4\n",
            "Renamed: VID_20250609_154351.mp4 → sample_251.mp4\n",
            "Renamed: VID_20250609_154400.mp4 → sample_252.mp4\n",
            "Renamed: VID_20250609_154407.mp4 → sample_253.mp4\n",
            "Renamed: VID_20250609_154415.mp4 → sample_254.mp4\n",
            "Renamed: VID_20250609_154423.mp4 → sample_255.mp4\n",
            "Renamed: VID_20250609_154430.mp4 → sample_256.mp4\n",
            "Renamed: VID_20250609_154445.mp4 → sample_257.mp4\n",
            "Renamed: VID_20250609_154452.mp4 → sample_258.mp4\n",
            "Renamed: VID_20250609_154515.mp4 → sample_259.mp4\n",
            "Renamed: VID_20250609_154523.mp4 → sample_260.mp4\n",
            "Renamed: VID_20250609_154911.mp4 → sample_261.mp4\n",
            "Renamed: VID_20250609_154919.mp4 → sample_262.mp4\n",
            "Renamed: VID_20250609_154927.mp4 → sample_263.mp4\n",
            "Renamed: VID_20250609_154934.mp4 → sample_264.mp4\n",
            "Renamed: VID_20250609_154941.mp4 → sample_265.mp4\n",
            "Renamed: VID_20250609_154949.mp4 → sample_266.mp4\n",
            "Renamed: VID_20250609_154956.mp4 → sample_267.mp4\n",
            "Renamed: VID_20250609_155012.mp4 → sample_268.mp4\n",
            "Renamed: VID_20250609_155019.mp4 → sample_269.mp4\n",
            "Renamed: VID_20250609_155026.mp4 → sample_270.mp4\n",
            "Renamed: VID_20250609_155035.mp4 → sample_271.mp4\n",
            "Renamed: VID_20250609_155042.mp4 → sample_272.mp4\n",
            "Renamed: VID_20250609_155049.mp4 → sample_273.mp4\n",
            "Renamed: VID_20250609_155103.mp4 → sample_274.mp4\n",
            "Renamed: VID_20250609_155110.mp4 → sample_275.mp4\n",
            "Renamed: VID_20250609_155119.mp4 → sample_276.mp4\n",
            "Renamed: VID_20250609_155127.mp4 → sample_277.mp4\n",
            "Renamed: VID_20250609_155135.mp4 → sample_278.mp4\n",
            "Renamed: VID_20250609_155143.mp4 → sample_279.mp4\n",
            "Renamed: VID_20250609_155156.mp4 → sample_280.mp4\n",
            "Renamed: VID_20250609_155205.mp4 → sample_281.mp4\n",
            "Renamed: VID_20250609_155212.mp4 → sample_282.mp4\n",
            "Renamed: VID_20250609_155219.mp4 → sample_283.mp4\n",
            "Renamed: VID_20250609_155228.mp4 → sample_284.mp4\n",
            "Renamed: VID_20250609_155247.mp4 → sample_285.mp4\n",
            "Renamed: VID_20250609_155256.mp4 → sample_286.mp4\n",
            "Renamed: VID_20250609_155304.mp4 → sample_287.mp4\n",
            "Renamed: VID_20250609_155311.mp4 → sample_288.mp4\n",
            "Renamed: VID_20250609_155319.mp4 → sample_289.mp4\n",
            "Renamed: VID_20250609_155327.mp4 → sample_290.mp4\n",
            "Renamed: VID_20250609_155347.mp4 → sample_291.mp4\n",
            "Renamed: VID_20250609_155421.mp4 → sample_292.mp4\n",
            "Renamed: VID_20250609_155435.mp4 → sample_293.mp4\n",
            "Renamed: VID_20250609_155443.mp4 → sample_294.mp4\n",
            "Renamed: VID_20250609_155451.mp4 → sample_295.mp4\n",
            "Renamed: VID_20250609_155502.mp4 → sample_296.mp4\n",
            "Renamed: VID_20250609_155529.mp4 → sample_297.mp4\n",
            "Renamed: VID_20250609_155538.mp4 → sample_298.mp4\n",
            "Renamed: VID_20250609_155546.mp4 → sample_299.mp4\n",
            "Renamed: VID_20250609_155553.mp4 → sample_300.mp4\n",
            "Renamed: VID_20250609_155601.mp4 → sample_301.mp4\n",
            "Renamed: VID_20250609_155610.mp4 → sample_302.mp4\n",
            "Renamed: VID_20250609_155738.mp4 → sample_303.mp4\n",
            "Renamed: VID_20250609_155745.mp4 → sample_304.mp4\n",
            "Renamed: VID_20250609_155753.mp4 → sample_305.mp4\n",
            "Renamed: VID_20250609_155800.mp4 → sample_306.mp4\n",
            "Renamed: VID_20250609_155807.mp4 → sample_307.mp4\n",
            "Renamed: VID_20250609_155815.mp4 → sample_308.mp4\n",
            "Renamed: VID_20250609_155843.mp4 → sample_309.mp4\n",
            "Renamed: VID_20250609_155850.mp4 → sample_310.mp4\n",
            "Renamed: VID_20250609_155858.mp4 → sample_311.mp4\n",
            "Renamed: VID_20250609_155906.mp4 → sample_312.mp4\n",
            "Renamed: VID_20250609_155913.mp4 → sample_313.mp4\n",
            "Renamed: VID_20250609_155925.mp4 → sample_314.mp4\n",
            "Renamed: VID_20250609_155932.mp4 → sample_315.mp4\n",
            "Renamed: VID_20250609_155940.mp4 → sample_316.mp4\n",
            "Renamed: VID_20250609_155947.mp4 → sample_317.mp4\n",
            "Renamed: VID_20250609_155955.mp4 → sample_318.mp4\n",
            "Renamed: VID_20250609_160036.mp4 → sample_319.mp4\n",
            "Renamed: VID_20250609_160043.mp4 → sample_320.mp4\n",
            "Renamed: VID_20250609_160052.mp4 → sample_321.mp4\n",
            "Renamed: VID_20250609_160059.mp4 → sample_322.mp4\n",
            "Renamed: VID_20250609_160107.mp4 → sample_323.mp4\n",
            "Renamed: VID_20250609_160115.mp4 → sample_324.mp4\n",
            "Renamed: VID_20250609_160127.mp4 → sample_325.mp4\n",
            "Renamed: VID_20250609_160135.mp4 → sample_326.mp4\n",
            "Renamed: VID_20250609_160143.mp4 → sample_327.mp4\n",
            "Renamed: VID_20250609_160150.mp4 → sample_328.mp4\n",
            "Renamed: VID_20250609_160158.mp4 → sample_329.mp4\n",
            "Renamed: VID_20250609_160232.mp4 → sample_330.mp4\n",
            "Renamed: VID_20250609_160240.mp4 → sample_331.mp4\n",
            "Renamed: VID_20250609_160248.mp4 → sample_332.mp4\n",
            "Renamed: VID_20250609_160255.mp4 → sample_333.mp4\n",
            "Renamed: VID_20250609_160303.mp4 → sample_334.mp4\n",
            "Renamed: VID_20250609_160315.mp4 → sample_335.mp4\n",
            "Renamed: VID_20250609_160324.mp4 → sample_336.mp4\n",
            "Renamed: VID_20250609_160332.mp4 → sample_337.mp4\n",
            "Renamed: VID_20250609_160339.mp4 → sample_338.mp4\n",
            "Renamed: VID_20250609_160347.mp4 → sample_339.mp4\n",
            "Renamed: VID_20250609_160406.mp4 → sample_340.mp4\n",
            "Renamed: VID_20250609_160414.mp4 → sample_341.mp4\n",
            "Renamed: VID_20250609_160422.mp4 → sample_342.mp4\n",
            "Renamed: VID_20250609_160429.mp4 → sample_343.mp4\n",
            "Renamed: VID_20250609_160437.mp4 → sample_344.mp4\n",
            "Renamed: VID_20250609_160445.mp4 → sample_345.mp4\n",
            "Renamed: VID_20250609_160456.mp4 → sample_346.mp4\n",
            "Renamed: VID_20250609_160503.mp4 → sample_347.mp4\n",
            "Renamed: VID_20250609_160512.mp4 → sample_348.mp4\n",
            "Renamed: VID_20250609_160519.mp4 → sample_349.mp4\n",
            "Renamed: VID_20250609_160526.mp4 → sample_350.mp4\n",
            "Renamed: VID_20250609_160538.mp4 → sample_351.mp4\n",
            "Renamed: VID_20250609_160545.mp4 → sample_352.mp4\n",
            "Renamed: VID_20250609_160553.mp4 → sample_353.mp4\n",
            "Renamed: VID_20250609_160600.mp4 → sample_354.mp4\n",
            "Renamed: VID_20250609_160613.mp4 → sample_355.mp4\n",
            "Renamed: VID_20250609_160620.mp4 → sample_356.mp4\n",
            "Renamed: VID_20250609_160628.mp4 → sample_357.mp4\n",
            "Renamed: VID_20250609_160636.mp4 → sample_358.mp4\n",
            "Renamed: VID_20250609_160645.mp4 → sample_359.mp4\n",
            "Renamed: VID_20250609_160657.mp4 → sample_360.mp4\n",
            "Renamed: VID_20250609_160704.mp4 → sample_361.mp4\n",
            "Renamed: VID_20250609_160712.mp4 → sample_362.mp4\n",
            "Renamed: VID_20250609_160720.mp4 → sample_363.mp4\n",
            "Renamed: VID_20250609_160727.mp4 → sample_364.mp4\n",
            "Renamed: VID_20250609_160737.mp4 → sample_365.mp4\n",
            "Renamed: VID_20250609_160745.mp4 → sample_366.mp4\n",
            "Renamed: VID_20250609_160752.mp4 → sample_367.mp4\n",
            "Renamed: VID_20250609_160800.mp4 → sample_368.mp4\n",
            "Renamed: VID_20250609_160808.mp4 → sample_369.mp4\n",
            "Renamed: VID_20250609_160819.mp4 → sample_370.mp4\n",
            "Renamed: VID_20250609_160831.mp4 → sample_371.mp4\n",
            "Renamed: VID_20250609_160838.mp4 → sample_372.mp4\n",
            "Renamed: VID_20250609_160846.mp4 → sample_373.mp4\n",
            "Renamed: VID_20250609_160853.mp4 → sample_374.mp4\n",
            "Renamed: VID_20250609_160901.mp4 → sample_375.mp4\n",
            "Renamed: VID_20250609_161001.mp4 → sample_376.mp4\n",
            "Renamed: VID_20250609_161008.mp4 → sample_377.mp4\n",
            "Renamed: VID_20250609_161016.mp4 → sample_378.mp4\n",
            "Renamed: VID_20250609_161024.mp4 → sample_379.mp4\n",
            "Renamed: VID_20250609_161032.mp4 → sample_380.mp4\n",
            "Renamed: VID_20250609_161040.mp4 → sample_381.mp4\n",
            "Renamed: VID_20250609_161049.mp4 → sample_382.mp4\n",
            "Renamed: VID_20250609_161056.mp4 → sample_383.mp4\n",
            "Renamed: VID_20250609_161104.mp4 → sample_384.mp4\n",
            "Renamed: VID_20250609_161111.mp4 → sample_385.mp4\n",
            "Renamed: VID_20250609_161118.mp4 → sample_386.mp4\n",
            "Renamed: VID_20250609_161127.mp4 → sample_387.mp4\n",
            "Renamed: VID_20250609_161139.mp4 → sample_388.mp4\n",
            "Renamed: VID_20250609_161147.mp4 → sample_389.mp4\n",
            "Renamed: VID_20250609_161155.mp4 → sample_390.mp4\n",
            "Renamed: VID_20250609_161202.mp4 → sample_391.mp4\n",
            "Renamed: VID_20250609_161209.mp4 → sample_392.mp4\n",
            "Renamed: VID_20250609_161251.mp4 → sample_393.mp4\n",
            "Renamed: VID_20250609_161259.mp4 → sample_394.mp4\n",
            "Renamed: VID_20250609_161307.mp4 → sample_395.mp4\n",
            "Renamed: VID_20250609_161315.mp4 → sample_396.mp4\n",
            "Renamed: VID_20250609_161323.mp4 → sample_397.mp4\n",
            "Renamed: VID_20250609_161333.mp4 → sample_398.mp4\n",
            "Renamed: VID_20250609_161342.mp4 → sample_399.mp4\n",
            "Renamed: VID_20250609_161350.mp4 → sample_400.mp4\n",
            "Renamed: VID_20250609_161357.mp4 → sample_401.mp4\n",
            "Renamed: VID_20250609_161405.mp4 → sample_402.mp4\n",
            "Renamed: VID_20250609_161414.mp4 → sample_403.mp4\n",
            "Renamed: VID_20250609_161423.mp4 → sample_404.mp4\n",
            "Renamed: VID_20250609_161431.mp4 → sample_405.mp4\n",
            "Renamed: VID_20250609_161438.mp4 → sample_406.mp4\n",
            "Renamed: VID_20250609_161446.mp4 → sample_407.mp4\n",
            "Renamed: VID_20250609_161454.mp4 → sample_408.mp4\n",
            "Renamed: VID_20250609_164335.mp4 → sample_409.mp4\n",
            "Renamed: VID_20250609_164343.mp4 → sample_410.mp4\n",
            "Renamed: VID_20250609_164350.mp4 → sample_411.mp4\n",
            "Renamed: VID_20250609_164357.mp4 → sample_412.mp4\n",
            "Renamed: VID_20250609_164405.mp4 → sample_413.mp4\n",
            "Renamed: VID_20250609_164416.mp4 → sample_414.mp4\n",
            "Renamed: VID_20250609_164425.mp4 → sample_415.mp4\n",
            "Renamed: VID_20250609_164433.mp4 → sample_416.mp4\n",
            "Renamed: VID_20250609_164441.mp4 → sample_417.mp4\n",
            "Renamed: VID_20250609_164448.mp4 → sample_418.mp4\n",
            "Renamed: VID_20250609_164459.mp4 → sample_419.mp4\n",
            "Renamed: VID_20250609_164506.mp4 → sample_420.mp4\n",
            "Renamed: VID_20250609_164513.mp4 → sample_421.mp4\n",
            "Renamed: VID_20250609_164521.mp4 → sample_422.mp4\n",
            "Renamed: VID_20250609_164528.mp4 → sample_423.mp4\n",
            "Renamed: VID_20250609_164539.mp4 → sample_424.mp4\n",
            "Renamed: VID_20250609_164546.mp4 → sample_425.mp4\n",
            "Renamed: VID_20250609_164553.mp4 → sample_426.mp4\n",
            "Renamed: VID_20250609_164601.mp4 → sample_427.mp4\n",
            "Renamed: VID_20250609_164609.mp4 → sample_428.mp4\n",
            "Renamed: VID_20250609_164618.mp4 → sample_429.mp4\n",
            "Renamed: VID_20250609_164625.mp4 → sample_430.mp4\n",
            "Renamed: VID_20250609_164633.mp4 → sample_431.mp4\n",
            "Renamed: VID_20250609_164640.mp4 → sample_432.mp4\n",
            "Renamed: VID_20250609_164647.mp4 → sample_433.mp4\n",
            "Renamed: VID_20250609_164658.mp4 → sample_434.mp4\n",
            "Renamed: VID_20250609_164706.mp4 → sample_435.mp4\n",
            "Renamed: VID_20250609_164715.mp4 → sample_436.mp4\n",
            "Renamed: VID_20250609_164721.mp4 → sample_437.mp4\n",
            "Renamed: VID_20250609_164729.mp4 → sample_438.mp4\n",
            "Renamed: VID_20250609_164737.mp4 → sample_439.mp4\n",
            "Renamed: VID_20250609_164744.mp4 → sample_440.mp4\n",
            "Renamed: VID_20250609_164751.mp4 → sample_441.mp4\n",
            "Renamed: VID_20250609_164759.mp4 → sample_442.mp4\n",
            "Renamed: VID_20250609_164806.mp4 → sample_443.mp4\n",
            "Renamed: VID_20250609_164815.mp4 → sample_444.mp4\n",
            "Renamed: VID_20250609_164822.mp4 → sample_445.mp4\n",
            "Renamed: VID_20250609_164829.mp4 → sample_446.mp4\n",
            "Renamed: VID_20250609_164836.mp4 → sample_447.mp4\n",
            "Renamed: VID_20250609_164844.mp4 → sample_448.mp4\n",
            "Renamed: VID_20250609_164853.mp4 → sample_449.mp4\n",
            "Renamed: VID_20250609_164901.mp4 → sample_450.mp4\n",
            "Renamed: VID_20250609_164908.mp4 → sample_451.mp4\n",
            "Renamed: VID_20250609_164915.mp4 → sample_452.mp4\n",
            "Renamed: VID_20250609_164922.mp4 → sample_453.mp4\n",
            "Renamed: VID_20250609_164931.mp4 → sample_454.mp4\n",
            "Renamed: VID_20250609_164938.mp4 → sample_455.mp4\n",
            "Renamed: VID_20250609_164945.mp4 → sample_456.mp4\n",
            "Renamed: VID_20250609_164953.mp4 → sample_457.mp4\n",
            "Renamed: VID_20250609_165002.mp4 → sample_458.mp4\n",
            "Renamed: VID_20250609_165023.mp4 → sample_459.mp4\n",
            "Renamed: VID_20250609_165030.mp4 → sample_460.mp4\n",
            "Renamed: VID_20250609_165038.mp4 → sample_461.mp4\n",
            "Renamed: VID_20250609_165046.mp4 → sample_462.mp4\n",
            "Renamed: VID_20250609_165053.mp4 → sample_463.mp4\n",
            "Renamed: VID_20250609_165101.mp4 → sample_464.mp4\n",
            "Renamed: VID_20250609_165109.mp4 → sample_465.mp4\n",
            "Renamed: VID_20250609_165112.mp4 → sample_466.mp4\n",
            "Renamed: VID_20250609_165120.mp4 → sample_467.mp4\n",
            "Renamed: VID_20250609_165127.mp4 → sample_468.mp4\n",
            "Renamed: VID_20250609_165135.mp4 → sample_469.mp4\n",
            "Renamed: VID_20250609_165142.mp4 → sample_470.mp4\n",
            "Renamed: VID_20250609_165152.mp4 → sample_471.mp4\n",
            "Renamed: VID_20250609_165200.mp4 → sample_472.mp4\n",
            "Renamed: VID_20250609_165207.mp4 → sample_473.mp4\n",
            "Renamed: VID_20250609_165215.mp4 → sample_474.mp4\n",
            "Renamed: VID_20250609_165223.mp4 → sample_475.mp4\n",
            "Renamed: VID_20250609_165231.mp4 → sample_476.mp4\n",
            "Renamed: VID_20250609_165246.mp4 → sample_477.mp4\n",
            "Renamed: VID_20250609_165253.mp4 → sample_478.mp4\n",
            "Renamed: VID_20250609_165300.mp4 → sample_479.mp4\n",
            "Renamed: VID_20250609_165307.mp4 → sample_480.mp4\n",
            "Renamed: VID_20250609_165314.mp4 → sample_481.mp4\n",
            "Renamed: VID_20250609_165327.mp4 → sample_482.mp4\n",
            "Renamed: VID_20250609_165334.mp4 → sample_483.mp4\n",
            "Renamed: VID_20250609_165342.mp4 → sample_484.mp4\n",
            "Renamed: VID_20250609_165349.mp4 → sample_485.mp4\n",
            "Renamed: VID_20250609_165357.mp4 → sample_486.mp4\n",
            "Renamed: VID_20250609_165406.mp4 → sample_487.mp4\n",
            "Renamed: VID_20250609_165414.mp4 → sample_488.mp4\n",
            "Renamed: VID_20250609_165421.mp4 → sample_489.mp4\n",
            "Renamed: VID_20250609_165429.mp4 → sample_490.mp4\n",
            "Renamed: VID_20250609_165436.mp4 → sample_491.mp4\n",
            "Renamed: VID_20250609_165444.mp4 → sample_492.mp4\n",
            "Renamed: VID_20250609_165605.mp4 → sample_493.mp4\n",
            "Renamed: VID_20250609_165613.mp4 → sample_494.mp4\n",
            "Renamed: VID_20250609_165621.mp4 → sample_495.mp4\n",
            "Renamed: VID_20250609_165630.mp4 → sample_496.mp4\n",
            "Renamed: VID_20250609_165638.mp4 → sample_497.mp4\n",
            "Renamed: VID_20250609_165644.mp4 → sample_498.mp4\n",
            "Renamed: VID_20250609_165654.mp4 → sample_499.mp4\n",
            "Renamed: VID_20250609_165705.mp4 → sample_500.mp4\n",
            "Renamed: VID_20250609_165712.mp4 → sample_501.mp4\n",
            "Renamed: VID_20250609_165719.mp4 → sample_502.mp4\n",
            "Renamed: VID_20250609_165727.mp4 → sample_503.mp4\n",
            "Renamed: VID_20250609_165735.mp4 → sample_504.mp4\n",
            "Renamed: VID_20250609_165748.mp4 → sample_505.mp4\n",
            "Renamed: VID_20250609_165756.mp4 → sample_506.mp4\n",
            "Renamed: VID_20250609_165804.mp4 → sample_507.mp4\n"
          ]
        }
      ]
    },
    {
      "cell_type": "code",
      "source": [
        "import os\n",
        "from moviepy.editor import VideoFileClip\n",
        "\n",
        "folder_path = '/content/drive/My Drive/Hammering_Test/Good_Data_2'\n",
        "\n",
        "# Create a new folder to save WAV files (doesn't touch originals)\n",
        "output_path = os.path.join(folder_path, 'converted_wav')\n",
        "os.makedirs(output_path, exist_ok=True)\n",
        "\n",
        "for filename in os.listdir(folder_path):\n",
        "    if filename.lower().endswith('.mp4'):\n",
        "        video_path = os.path.join(folder_path, filename)\n",
        "        wav_filename = os.path.splitext(filename)[0] + '.wav'\n",
        "        wav_path = os.path.join(output_path, wav_filename)\n",
        "\n",
        "        # Extract audio safely\n",
        "        video = VideoFileClip(video_path)\n",
        "        video.audio.write_audiofile(wav_path)\n",
        "\n",
        "        print(f\"✅ Converted {filename} → {wav_filename}\")"
      ],
      "metadata": {
        "colab": {
          "base_uri": "https://localhost:8080/"
        },
        "id": "ZU2xBfBZayvZ",
        "outputId": "ddb9a254-aacb-451e-d0b9-025f36c11291"
      },
      "execution_count": null,
      "outputs": [
        {
          "output_type": "stream",
          "name": "stderr",
          "text": [
            "WARNING:py.warnings:/usr/local/lib/python3.11/dist-packages/moviepy/video/io/sliders.py:61: SyntaxWarning: \"is\" with a literal. Did you mean \"==\"?\n",
            "  if event.key is 'enter':\n",
            "\n"
          ]
        },
        {
          "output_type": "stream",
          "name": "stdout",
          "text": [
            "MoviePy - Writing audio in /content/drive/My Drive/Hammering_Test/Good_Data_2/converted_wav/sample_106.wav\n"
          ]
        },
        {
          "output_type": "stream",
          "name": "stderr",
          "text": [
            "                                                        "
          ]
        },
        {
          "output_type": "stream",
          "name": "stdout",
          "text": [
            "MoviePy - Done.\n",
            "✅ Converted sample_106.mp4 → sample_106.wav\n"
          ]
        },
        {
          "output_type": "stream",
          "name": "stderr",
          "text": [
            "\r"
          ]
        },
        {
          "output_type": "stream",
          "name": "stdout",
          "text": [
            "MoviePy - Writing audio in /content/drive/My Drive/Hammering_Test/Good_Data_2/converted_wav/sample_107.wav\n"
          ]
        },
        {
          "output_type": "stream",
          "name": "stderr",
          "text": [
            "                                                                    "
          ]
        },
        {
          "output_type": "stream",
          "name": "stdout",
          "text": [
            "MoviePy - Done.\n",
            "✅ Converted sample_107.mp4 → sample_107.wav\n"
          ]
        },
        {
          "output_type": "stream",
          "name": "stderr",
          "text": [
            "\r"
          ]
        },
        {
          "output_type": "stream",
          "name": "stdout",
          "text": [
            "MoviePy - Writing audio in /content/drive/My Drive/Hammering_Test/Good_Data_2/converted_wav/sample_108.wav\n"
          ]
        },
        {
          "output_type": "stream",
          "name": "stderr",
          "text": [
            "                                                                   "
          ]
        },
        {
          "output_type": "stream",
          "name": "stdout",
          "text": [
            "MoviePy - Done.\n",
            "✅ Converted sample_108.mp4 → sample_108.wav\n"
          ]
        },
        {
          "output_type": "stream",
          "name": "stderr",
          "text": [
            "\r"
          ]
        },
        {
          "output_type": "stream",
          "name": "stdout",
          "text": [
            "MoviePy - Writing audio in /content/drive/My Drive/Hammering_Test/Good_Data_2/converted_wav/sample_109.wav\n"
          ]
        },
        {
          "output_type": "stream",
          "name": "stderr",
          "text": []
        },
        {
          "output_type": "stream",
          "name": "stdout",
          "text": [
            "MoviePy - Done.\n",
            "✅ Converted sample_109.mp4 → sample_109.wav\n",
            "MoviePy - Writing audio in /content/drive/My Drive/Hammering_Test/Good_Data_2/converted_wav/sample_110.wav\n"
          ]
        },
        {
          "output_type": "stream",
          "name": "stderr",
          "text": [
            "                                                                   "
          ]
        },
        {
          "output_type": "stream",
          "name": "stdout",
          "text": [
            "MoviePy - Done.\n",
            "✅ Converted sample_110.mp4 → sample_110.wav\n"
          ]
        },
        {
          "output_type": "stream",
          "name": "stderr",
          "text": [
            "\r"
          ]
        },
        {
          "output_type": "stream",
          "name": "stdout",
          "text": [
            "MoviePy - Writing audio in /content/drive/My Drive/Hammering_Test/Good_Data_2/converted_wav/sample_111.wav\n"
          ]
        },
        {
          "output_type": "stream",
          "name": "stderr",
          "text": [
            "                                                                    "
          ]
        },
        {
          "output_type": "stream",
          "name": "stdout",
          "text": [
            "MoviePy - Done.\n",
            "✅ Converted sample_111.mp4 → sample_111.wav\n"
          ]
        },
        {
          "output_type": "stream",
          "name": "stderr",
          "text": [
            "\r"
          ]
        },
        {
          "output_type": "stream",
          "name": "stdout",
          "text": [
            "MoviePy - Writing audio in /content/drive/My Drive/Hammering_Test/Good_Data_2/converted_wav/sample_112.wav\n"
          ]
        },
        {
          "output_type": "stream",
          "name": "stderr",
          "text": [
            "                                                        "
          ]
        },
        {
          "output_type": "stream",
          "name": "stdout",
          "text": [
            "MoviePy - Done.\n",
            "✅ Converted sample_112.mp4 → sample_112.wav\n"
          ]
        },
        {
          "output_type": "stream",
          "name": "stderr",
          "text": [
            "\r"
          ]
        },
        {
          "output_type": "stream",
          "name": "stdout",
          "text": [
            "MoviePy - Writing audio in /content/drive/My Drive/Hammering_Test/Good_Data_2/converted_wav/sample_113.wav\n"
          ]
        },
        {
          "output_type": "stream",
          "name": "stderr",
          "text": [
            "                                                                   "
          ]
        },
        {
          "output_type": "stream",
          "name": "stdout",
          "text": [
            "MoviePy - Done.\n",
            "✅ Converted sample_113.mp4 → sample_113.wav\n"
          ]
        },
        {
          "output_type": "stream",
          "name": "stderr",
          "text": [
            "\r"
          ]
        },
        {
          "output_type": "stream",
          "name": "stdout",
          "text": [
            "MoviePy - Writing audio in /content/drive/My Drive/Hammering_Test/Good_Data_2/converted_wav/sample_114.wav\n"
          ]
        },
        {
          "output_type": "stream",
          "name": "stderr",
          "text": [
            "                                                                    "
          ]
        },
        {
          "output_type": "stream",
          "name": "stdout",
          "text": [
            "MoviePy - Done.\n",
            "✅ Converted sample_114.mp4 → sample_114.wav\n"
          ]
        },
        {
          "output_type": "stream",
          "name": "stderr",
          "text": [
            "\r"
          ]
        },
        {
          "output_type": "stream",
          "name": "stdout",
          "text": [
            "MoviePy - Writing audio in /content/drive/My Drive/Hammering_Test/Good_Data_2/converted_wav/sample_115.wav\n"
          ]
        },
        {
          "output_type": "stream",
          "name": "stderr",
          "text": [
            "                                                        "
          ]
        },
        {
          "output_type": "stream",
          "name": "stdout",
          "text": [
            "MoviePy - Done.\n",
            "✅ Converted sample_115.mp4 → sample_115.wav\n"
          ]
        },
        {
          "output_type": "stream",
          "name": "stderr",
          "text": [
            "\r"
          ]
        },
        {
          "output_type": "stream",
          "name": "stdout",
          "text": [
            "MoviePy - Writing audio in /content/drive/My Drive/Hammering_Test/Good_Data_2/converted_wav/sample_116.wav\n"
          ]
        },
        {
          "output_type": "stream",
          "name": "stderr",
          "text": [
            "                                                        "
          ]
        },
        {
          "output_type": "stream",
          "name": "stdout",
          "text": [
            "MoviePy - Done.\n",
            "✅ Converted sample_116.mp4 → sample_116.wav\n"
          ]
        },
        {
          "output_type": "stream",
          "name": "stderr",
          "text": [
            "\r"
          ]
        },
        {
          "output_type": "stream",
          "name": "stdout",
          "text": [
            "MoviePy - Writing audio in /content/drive/My Drive/Hammering_Test/Good_Data_2/converted_wav/sample_117.wav\n"
          ]
        },
        {
          "output_type": "stream",
          "name": "stderr",
          "text": [
            "                                                        "
          ]
        },
        {
          "output_type": "stream",
          "name": "stdout",
          "text": [
            "MoviePy - Done.\n",
            "✅ Converted sample_117.mp4 → sample_117.wav\n"
          ]
        },
        {
          "output_type": "stream",
          "name": "stderr",
          "text": [
            "\r"
          ]
        },
        {
          "output_type": "stream",
          "name": "stdout",
          "text": [
            "MoviePy - Writing audio in /content/drive/My Drive/Hammering_Test/Good_Data_2/converted_wav/sample_118.wav\n"
          ]
        },
        {
          "output_type": "stream",
          "name": "stderr",
          "text": [
            "                                                        "
          ]
        },
        {
          "output_type": "stream",
          "name": "stdout",
          "text": [
            "MoviePy - Done.\n",
            "✅ Converted sample_118.mp4 → sample_118.wav\n"
          ]
        },
        {
          "output_type": "stream",
          "name": "stderr",
          "text": [
            "\r"
          ]
        },
        {
          "output_type": "stream",
          "name": "stdout",
          "text": [
            "MoviePy - Writing audio in /content/drive/My Drive/Hammering_Test/Good_Data_2/converted_wav/sample_119.wav\n"
          ]
        },
        {
          "output_type": "stream",
          "name": "stderr",
          "text": [
            "                                                        "
          ]
        },
        {
          "output_type": "stream",
          "name": "stdout",
          "text": [
            "MoviePy - Done.\n",
            "✅ Converted sample_119.mp4 → sample_119.wav\n"
          ]
        },
        {
          "output_type": "stream",
          "name": "stderr",
          "text": [
            "\r"
          ]
        },
        {
          "output_type": "stream",
          "name": "stdout",
          "text": [
            "MoviePy - Writing audio in /content/drive/My Drive/Hammering_Test/Good_Data_2/converted_wav/sample_120.wav\n"
          ]
        },
        {
          "output_type": "stream",
          "name": "stderr",
          "text": [
            "                                                        "
          ]
        },
        {
          "output_type": "stream",
          "name": "stdout",
          "text": [
            "MoviePy - Done.\n",
            "✅ Converted sample_120.mp4 → sample_120.wav\n"
          ]
        },
        {
          "output_type": "stream",
          "name": "stderr",
          "text": [
            "\r"
          ]
        },
        {
          "output_type": "stream",
          "name": "stdout",
          "text": [
            "MoviePy - Writing audio in /content/drive/My Drive/Hammering_Test/Good_Data_2/converted_wav/sample_121.wav\n"
          ]
        },
        {
          "output_type": "stream",
          "name": "stderr",
          "text": []
        },
        {
          "output_type": "stream",
          "name": "stdout",
          "text": [
            "MoviePy - Done.\n",
            "✅ Converted sample_121.mp4 → sample_121.wav\n",
            "MoviePy - Writing audio in /content/drive/My Drive/Hammering_Test/Good_Data_2/converted_wav/sample_122.wav\n"
          ]
        },
        {
          "output_type": "stream",
          "name": "stderr",
          "text": [
            "                                                                  "
          ]
        },
        {
          "output_type": "stream",
          "name": "stdout",
          "text": [
            "MoviePy - Done.\n",
            "✅ Converted sample_122.mp4 → sample_122.wav\n"
          ]
        },
        {
          "output_type": "stream",
          "name": "stderr",
          "text": [
            "\r"
          ]
        },
        {
          "output_type": "stream",
          "name": "stdout",
          "text": [
            "MoviePy - Writing audio in /content/drive/My Drive/Hammering_Test/Good_Data_2/converted_wav/sample_123.wav\n"
          ]
        },
        {
          "output_type": "stream",
          "name": "stderr",
          "text": []
        },
        {
          "output_type": "stream",
          "name": "stdout",
          "text": [
            "MoviePy - Done.\n",
            "✅ Converted sample_123.mp4 → sample_123.wav\n",
            "MoviePy - Writing audio in /content/drive/My Drive/Hammering_Test/Good_Data_2/converted_wav/sample_124.wav\n"
          ]
        },
        {
          "output_type": "stream",
          "name": "stderr",
          "text": [
            "                                                                    "
          ]
        },
        {
          "output_type": "stream",
          "name": "stdout",
          "text": [
            "MoviePy - Done.\n",
            "✅ Converted sample_124.mp4 → sample_124.wav\n"
          ]
        },
        {
          "output_type": "stream",
          "name": "stderr",
          "text": [
            "\r"
          ]
        },
        {
          "output_type": "stream",
          "name": "stdout",
          "text": [
            "MoviePy - Writing audio in /content/drive/My Drive/Hammering_Test/Good_Data_2/converted_wav/sample_125.wav\n"
          ]
        },
        {
          "output_type": "stream",
          "name": "stderr",
          "text": [
            "                                                                   "
          ]
        },
        {
          "output_type": "stream",
          "name": "stdout",
          "text": [
            "MoviePy - Done.\n",
            "✅ Converted sample_125.mp4 → sample_125.wav\n"
          ]
        },
        {
          "output_type": "stream",
          "name": "stderr",
          "text": [
            "\r"
          ]
        },
        {
          "output_type": "stream",
          "name": "stdout",
          "text": [
            "MoviePy - Writing audio in /content/drive/My Drive/Hammering_Test/Good_Data_2/converted_wav/sample_126.wav\n"
          ]
        },
        {
          "output_type": "stream",
          "name": "stderr",
          "text": [
            "                                                        "
          ]
        },
        {
          "output_type": "stream",
          "name": "stdout",
          "text": [
            "MoviePy - Done.\n",
            "✅ Converted sample_126.mp4 → sample_126.wav\n"
          ]
        },
        {
          "output_type": "stream",
          "name": "stderr",
          "text": [
            "\r"
          ]
        },
        {
          "output_type": "stream",
          "name": "stdout",
          "text": [
            "MoviePy - Writing audio in /content/drive/My Drive/Hammering_Test/Good_Data_2/converted_wav/sample_127.wav\n"
          ]
        },
        {
          "output_type": "stream",
          "name": "stderr",
          "text": [
            "                                                                    "
          ]
        },
        {
          "output_type": "stream",
          "name": "stdout",
          "text": [
            "MoviePy - Done.\n",
            "✅ Converted sample_127.mp4 → sample_127.wav\n"
          ]
        },
        {
          "output_type": "stream",
          "name": "stderr",
          "text": [
            "\r"
          ]
        },
        {
          "output_type": "stream",
          "name": "stdout",
          "text": [
            "MoviePy - Writing audio in /content/drive/My Drive/Hammering_Test/Good_Data_2/converted_wav/sample_128.wav\n"
          ]
        },
        {
          "output_type": "stream",
          "name": "stderr",
          "text": [
            "                                                        "
          ]
        },
        {
          "output_type": "stream",
          "name": "stdout",
          "text": [
            "MoviePy - Done.\n",
            "✅ Converted sample_128.mp4 → sample_128.wav\n"
          ]
        },
        {
          "output_type": "stream",
          "name": "stderr",
          "text": [
            "\r"
          ]
        },
        {
          "output_type": "stream",
          "name": "stdout",
          "text": [
            "MoviePy - Writing audio in /content/drive/My Drive/Hammering_Test/Good_Data_2/converted_wav/sample_129.wav\n"
          ]
        },
        {
          "output_type": "stream",
          "name": "stderr",
          "text": [
            "                                                        "
          ]
        },
        {
          "output_type": "stream",
          "name": "stdout",
          "text": [
            "MoviePy - Done.\n",
            "✅ Converted sample_129.mp4 → sample_129.wav\n"
          ]
        },
        {
          "output_type": "stream",
          "name": "stderr",
          "text": [
            "\r"
          ]
        },
        {
          "output_type": "stream",
          "name": "stdout",
          "text": [
            "MoviePy - Writing audio in /content/drive/My Drive/Hammering_Test/Good_Data_2/converted_wav/sample_130.wav\n"
          ]
        },
        {
          "output_type": "stream",
          "name": "stderr",
          "text": [
            "                                                        "
          ]
        },
        {
          "output_type": "stream",
          "name": "stdout",
          "text": [
            "MoviePy - Done.\n",
            "✅ Converted sample_130.mp4 → sample_130.wav\n"
          ]
        },
        {
          "output_type": "stream",
          "name": "stderr",
          "text": [
            "\r"
          ]
        },
        {
          "output_type": "stream",
          "name": "stdout",
          "text": [
            "MoviePy - Writing audio in /content/drive/My Drive/Hammering_Test/Good_Data_2/converted_wav/sample_131.wav\n"
          ]
        },
        {
          "output_type": "stream",
          "name": "stderr",
          "text": [
            "                                                                  "
          ]
        },
        {
          "output_type": "stream",
          "name": "stdout",
          "text": [
            "MoviePy - Done.\n",
            "✅ Converted sample_131.mp4 → sample_131.wav\n"
          ]
        },
        {
          "output_type": "stream",
          "name": "stderr",
          "text": [
            "\r"
          ]
        },
        {
          "output_type": "stream",
          "name": "stdout",
          "text": [
            "MoviePy - Writing audio in /content/drive/My Drive/Hammering_Test/Good_Data_2/converted_wav/sample_132.wav\n"
          ]
        },
        {
          "output_type": "stream",
          "name": "stderr",
          "text": []
        },
        {
          "output_type": "stream",
          "name": "stdout",
          "text": [
            "MoviePy - Done.\n",
            "✅ Converted sample_132.mp4 → sample_132.wav\n",
            "MoviePy - Writing audio in /content/drive/My Drive/Hammering_Test/Good_Data_2/converted_wav/sample_133.wav\n"
          ]
        },
        {
          "output_type": "stream",
          "name": "stderr",
          "text": []
        },
        {
          "output_type": "stream",
          "name": "stdout",
          "text": [
            "MoviePy - Done.\n",
            "✅ Converted sample_133.mp4 → sample_133.wav\n",
            "MoviePy - Writing audio in /content/drive/My Drive/Hammering_Test/Good_Data_2/converted_wav/sample_134.wav\n"
          ]
        },
        {
          "output_type": "stream",
          "name": "stderr",
          "text": []
        },
        {
          "output_type": "stream",
          "name": "stdout",
          "text": [
            "MoviePy - Done.\n",
            "✅ Converted sample_134.mp4 → sample_134.wav\n",
            "MoviePy - Writing audio in /content/drive/My Drive/Hammering_Test/Good_Data_2/converted_wav/sample_135.wav\n"
          ]
        },
        {
          "output_type": "stream",
          "name": "stderr",
          "text": []
        },
        {
          "output_type": "stream",
          "name": "stdout",
          "text": [
            "MoviePy - Done.\n",
            "✅ Converted sample_135.mp4 → sample_135.wav\n",
            "MoviePy - Writing audio in /content/drive/My Drive/Hammering_Test/Good_Data_2/converted_wav/sample_136.wav\n"
          ]
        },
        {
          "output_type": "stream",
          "name": "stderr",
          "text": [
            "                                                                    "
          ]
        },
        {
          "output_type": "stream",
          "name": "stdout",
          "text": [
            "MoviePy - Done.\n",
            "✅ Converted sample_136.mp4 → sample_136.wav\n"
          ]
        },
        {
          "output_type": "stream",
          "name": "stderr",
          "text": [
            "\r"
          ]
        },
        {
          "output_type": "stream",
          "name": "stdout",
          "text": [
            "MoviePy - Writing audio in /content/drive/My Drive/Hammering_Test/Good_Data_2/converted_wav/sample_137.wav\n"
          ]
        },
        {
          "output_type": "stream",
          "name": "stderr",
          "text": [
            "                                                        "
          ]
        },
        {
          "output_type": "stream",
          "name": "stdout",
          "text": [
            "MoviePy - Done.\n",
            "✅ Converted sample_137.mp4 → sample_137.wav\n"
          ]
        },
        {
          "output_type": "stream",
          "name": "stderr",
          "text": [
            "\r"
          ]
        },
        {
          "output_type": "stream",
          "name": "stdout",
          "text": [
            "MoviePy - Writing audio in /content/drive/My Drive/Hammering_Test/Good_Data_2/converted_wav/sample_138.wav\n"
          ]
        },
        {
          "output_type": "stream",
          "name": "stderr",
          "text": [
            "                                                        "
          ]
        },
        {
          "output_type": "stream",
          "name": "stdout",
          "text": [
            "MoviePy - Done.\n",
            "✅ Converted sample_138.mp4 → sample_138.wav\n"
          ]
        },
        {
          "output_type": "stream",
          "name": "stderr",
          "text": [
            "\r"
          ]
        },
        {
          "output_type": "stream",
          "name": "stdout",
          "text": [
            "MoviePy - Writing audio in /content/drive/My Drive/Hammering_Test/Good_Data_2/converted_wav/sample_139.wav\n"
          ]
        },
        {
          "output_type": "stream",
          "name": "stderr",
          "text": [
            "                                                        "
          ]
        },
        {
          "output_type": "stream",
          "name": "stdout",
          "text": [
            "MoviePy - Done.\n",
            "✅ Converted sample_139.mp4 → sample_139.wav\n"
          ]
        },
        {
          "output_type": "stream",
          "name": "stderr",
          "text": [
            "\r"
          ]
        },
        {
          "output_type": "stream",
          "name": "stdout",
          "text": [
            "MoviePy - Writing audio in /content/drive/My Drive/Hammering_Test/Good_Data_2/converted_wav/sample_140.wav\n"
          ]
        },
        {
          "output_type": "stream",
          "name": "stderr",
          "text": []
        },
        {
          "output_type": "stream",
          "name": "stdout",
          "text": [
            "MoviePy - Done.\n",
            "✅ Converted sample_140.mp4 → sample_140.wav\n",
            "MoviePy - Writing audio in /content/drive/My Drive/Hammering_Test/Good_Data_2/converted_wav/sample_141.wav\n"
          ]
        },
        {
          "output_type": "stream",
          "name": "stderr",
          "text": [
            "                                                                   "
          ]
        },
        {
          "output_type": "stream",
          "name": "stdout",
          "text": [
            "MoviePy - Done.\n",
            "✅ Converted sample_141.mp4 → sample_141.wav\n"
          ]
        },
        {
          "output_type": "stream",
          "name": "stderr",
          "text": [
            "\r"
          ]
        },
        {
          "output_type": "stream",
          "name": "stdout",
          "text": [
            "MoviePy - Writing audio in /content/drive/My Drive/Hammering_Test/Good_Data_2/converted_wav/sample_142.wav\n"
          ]
        },
        {
          "output_type": "stream",
          "name": "stderr",
          "text": [
            "                                                        "
          ]
        },
        {
          "output_type": "stream",
          "name": "stdout",
          "text": [
            "MoviePy - Done.\n",
            "✅ Converted sample_142.mp4 → sample_142.wav\n"
          ]
        },
        {
          "output_type": "stream",
          "name": "stderr",
          "text": [
            "\r"
          ]
        },
        {
          "output_type": "stream",
          "name": "stdout",
          "text": [
            "MoviePy - Writing audio in /content/drive/My Drive/Hammering_Test/Good_Data_2/converted_wav/sample_143.wav\n"
          ]
        },
        {
          "output_type": "stream",
          "name": "stderr",
          "text": [
            "                                                                    "
          ]
        },
        {
          "output_type": "stream",
          "name": "stdout",
          "text": [
            "MoviePy - Done.\n",
            "✅ Converted sample_143.mp4 → sample_143.wav\n"
          ]
        },
        {
          "output_type": "stream",
          "name": "stderr",
          "text": [
            "\r"
          ]
        },
        {
          "output_type": "stream",
          "name": "stdout",
          "text": [
            "MoviePy - Writing audio in /content/drive/My Drive/Hammering_Test/Good_Data_2/converted_wav/sample_144.wav\n"
          ]
        },
        {
          "output_type": "stream",
          "name": "stderr",
          "text": []
        },
        {
          "output_type": "stream",
          "name": "stdout",
          "text": [
            "MoviePy - Done.\n",
            "✅ Converted sample_144.mp4 → sample_144.wav\n",
            "MoviePy - Writing audio in /content/drive/My Drive/Hammering_Test/Good_Data_2/converted_wav/sample_145.wav\n"
          ]
        },
        {
          "output_type": "stream",
          "name": "stderr",
          "text": []
        },
        {
          "output_type": "stream",
          "name": "stdout",
          "text": [
            "MoviePy - Done.\n",
            "✅ Converted sample_145.mp4 → sample_145.wav\n",
            "MoviePy - Writing audio in /content/drive/My Drive/Hammering_Test/Good_Data_2/converted_wav/sample_146.wav\n"
          ]
        },
        {
          "output_type": "stream",
          "name": "stderr",
          "text": []
        },
        {
          "output_type": "stream",
          "name": "stdout",
          "text": [
            "MoviePy - Done.\n",
            "✅ Converted sample_146.mp4 → sample_146.wav\n",
            "MoviePy - Writing audio in /content/drive/My Drive/Hammering_Test/Good_Data_2/converted_wav/sample_147.wav\n"
          ]
        },
        {
          "output_type": "stream",
          "name": "stderr",
          "text": [
            "                                                                    "
          ]
        },
        {
          "output_type": "stream",
          "name": "stdout",
          "text": [
            "MoviePy - Done.\n",
            "✅ Converted sample_147.mp4 → sample_147.wav\n"
          ]
        },
        {
          "output_type": "stream",
          "name": "stderr",
          "text": [
            "\r"
          ]
        },
        {
          "output_type": "stream",
          "name": "stdout",
          "text": [
            "MoviePy - Writing audio in /content/drive/My Drive/Hammering_Test/Good_Data_2/converted_wav/sample_148.wav\n"
          ]
        },
        {
          "output_type": "stream",
          "name": "stderr",
          "text": [
            "                                                                  "
          ]
        },
        {
          "output_type": "stream",
          "name": "stdout",
          "text": [
            "MoviePy - Done.\n",
            "✅ Converted sample_148.mp4 → sample_148.wav\n"
          ]
        },
        {
          "output_type": "stream",
          "name": "stderr",
          "text": [
            "\r"
          ]
        },
        {
          "output_type": "stream",
          "name": "stdout",
          "text": [
            "MoviePy - Writing audio in /content/drive/My Drive/Hammering_Test/Good_Data_2/converted_wav/sample_149.wav\n"
          ]
        },
        {
          "output_type": "stream",
          "name": "stderr",
          "text": [
            "                                                                   "
          ]
        },
        {
          "output_type": "stream",
          "name": "stdout",
          "text": [
            "MoviePy - Done.\n",
            "✅ Converted sample_149.mp4 → sample_149.wav\n"
          ]
        },
        {
          "output_type": "stream",
          "name": "stderr",
          "text": [
            "\r"
          ]
        },
        {
          "output_type": "stream",
          "name": "stdout",
          "text": [
            "MoviePy - Writing audio in /content/drive/My Drive/Hammering_Test/Good_Data_2/converted_wav/sample_150.wav\n"
          ]
        },
        {
          "output_type": "stream",
          "name": "stderr",
          "text": [
            "                                                        "
          ]
        },
        {
          "output_type": "stream",
          "name": "stdout",
          "text": [
            "MoviePy - Done.\n",
            "✅ Converted sample_150.mp4 → sample_150.wav\n"
          ]
        },
        {
          "output_type": "stream",
          "name": "stderr",
          "text": [
            "\r"
          ]
        },
        {
          "output_type": "stream",
          "name": "stdout",
          "text": [
            "MoviePy - Writing audio in /content/drive/My Drive/Hammering_Test/Good_Data_2/converted_wav/sample_151.wav\n"
          ]
        },
        {
          "output_type": "stream",
          "name": "stderr",
          "text": [
            "                                                        "
          ]
        },
        {
          "output_type": "stream",
          "name": "stdout",
          "text": [
            "MoviePy - Done.\n",
            "✅ Converted sample_151.mp4 → sample_151.wav\n"
          ]
        },
        {
          "output_type": "stream",
          "name": "stderr",
          "text": [
            "\r"
          ]
        },
        {
          "output_type": "stream",
          "name": "stdout",
          "text": [
            "MoviePy - Writing audio in /content/drive/My Drive/Hammering_Test/Good_Data_2/converted_wav/sample_152.wav\n"
          ]
        },
        {
          "output_type": "stream",
          "name": "stderr",
          "text": [
            "                                                                    "
          ]
        },
        {
          "output_type": "stream",
          "name": "stdout",
          "text": [
            "MoviePy - Done.\n",
            "✅ Converted sample_152.mp4 → sample_152.wav\n"
          ]
        },
        {
          "output_type": "stream",
          "name": "stderr",
          "text": [
            "\r"
          ]
        },
        {
          "output_type": "stream",
          "name": "stdout",
          "text": [
            "MoviePy - Writing audio in /content/drive/My Drive/Hammering_Test/Good_Data_2/converted_wav/sample_153.wav\n"
          ]
        },
        {
          "output_type": "stream",
          "name": "stderr",
          "text": []
        },
        {
          "output_type": "stream",
          "name": "stdout",
          "text": [
            "MoviePy - Done.\n",
            "✅ Converted sample_153.mp4 → sample_153.wav\n",
            "MoviePy - Writing audio in /content/drive/My Drive/Hammering_Test/Good_Data_2/converted_wav/sample_154.wav\n"
          ]
        },
        {
          "output_type": "stream",
          "name": "stderr",
          "text": []
        },
        {
          "output_type": "stream",
          "name": "stdout",
          "text": [
            "MoviePy - Done.\n",
            "✅ Converted sample_154.mp4 → sample_154.wav\n",
            "MoviePy - Writing audio in /content/drive/My Drive/Hammering_Test/Good_Data_2/converted_wav/sample_155.wav\n"
          ]
        },
        {
          "output_type": "stream",
          "name": "stderr",
          "text": []
        },
        {
          "output_type": "stream",
          "name": "stdout",
          "text": [
            "MoviePy - Done.\n",
            "✅ Converted sample_155.mp4 → sample_155.wav\n",
            "MoviePy - Writing audio in /content/drive/My Drive/Hammering_Test/Good_Data_2/converted_wav/sample_156.wav\n"
          ]
        },
        {
          "output_type": "stream",
          "name": "stderr",
          "text": []
        },
        {
          "output_type": "stream",
          "name": "stdout",
          "text": [
            "MoviePy - Done.\n",
            "✅ Converted sample_156.mp4 → sample_156.wav\n",
            "MoviePy - Writing audio in /content/drive/My Drive/Hammering_Test/Good_Data_2/converted_wav/sample_157.wav\n"
          ]
        },
        {
          "output_type": "stream",
          "name": "stderr",
          "text": [
            "                                                        "
          ]
        },
        {
          "output_type": "stream",
          "name": "stdout",
          "text": [
            "MoviePy - Done.\n",
            "✅ Converted sample_157.mp4 → sample_157.wav\n"
          ]
        },
        {
          "output_type": "stream",
          "name": "stderr",
          "text": [
            "\r"
          ]
        },
        {
          "output_type": "stream",
          "name": "stdout",
          "text": [
            "MoviePy - Writing audio in /content/drive/My Drive/Hammering_Test/Good_Data_2/converted_wav/sample_158.wav\n"
          ]
        },
        {
          "output_type": "stream",
          "name": "stderr",
          "text": [
            "                                                        "
          ]
        },
        {
          "output_type": "stream",
          "name": "stdout",
          "text": [
            "MoviePy - Done.\n",
            "✅ Converted sample_158.mp4 → sample_158.wav\n"
          ]
        },
        {
          "output_type": "stream",
          "name": "stderr",
          "text": [
            "\r"
          ]
        },
        {
          "output_type": "stream",
          "name": "stdout",
          "text": [
            "MoviePy - Writing audio in /content/drive/My Drive/Hammering_Test/Good_Data_2/converted_wav/sample_159.wav\n"
          ]
        },
        {
          "output_type": "stream",
          "name": "stderr",
          "text": [
            "                                                        "
          ]
        },
        {
          "output_type": "stream",
          "name": "stdout",
          "text": [
            "MoviePy - Done.\n",
            "✅ Converted sample_159.mp4 → sample_159.wav\n"
          ]
        },
        {
          "output_type": "stream",
          "name": "stderr",
          "text": [
            "\r"
          ]
        },
        {
          "output_type": "stream",
          "name": "stdout",
          "text": [
            "MoviePy - Writing audio in /content/drive/My Drive/Hammering_Test/Good_Data_2/converted_wav/sample_160.wav\n"
          ]
        },
        {
          "output_type": "stream",
          "name": "stderr",
          "text": [
            "                                                        "
          ]
        },
        {
          "output_type": "stream",
          "name": "stdout",
          "text": [
            "MoviePy - Done.\n",
            "✅ Converted sample_160.mp4 → sample_160.wav\n"
          ]
        },
        {
          "output_type": "stream",
          "name": "stderr",
          "text": [
            "\r"
          ]
        },
        {
          "output_type": "stream",
          "name": "stdout",
          "text": [
            "MoviePy - Writing audio in /content/drive/My Drive/Hammering_Test/Good_Data_2/converted_wav/sample_161.wav\n"
          ]
        },
        {
          "output_type": "stream",
          "name": "stderr",
          "text": []
        },
        {
          "output_type": "stream",
          "name": "stdout",
          "text": [
            "MoviePy - Done.\n",
            "✅ Converted sample_161.mp4 → sample_161.wav\n",
            "MoviePy - Writing audio in /content/drive/My Drive/Hammering_Test/Good_Data_2/converted_wav/sample_162.wav\n"
          ]
        },
        {
          "output_type": "stream",
          "name": "stderr",
          "text": [
            "                                                                    "
          ]
        },
        {
          "output_type": "stream",
          "name": "stdout",
          "text": [
            "MoviePy - Done.\n",
            "✅ Converted sample_162.mp4 → sample_162.wav\n"
          ]
        },
        {
          "output_type": "stream",
          "name": "stderr",
          "text": [
            "\r"
          ]
        },
        {
          "output_type": "stream",
          "name": "stdout",
          "text": [
            "MoviePy - Writing audio in /content/drive/My Drive/Hammering_Test/Good_Data_2/converted_wav/sample_163.wav\n"
          ]
        },
        {
          "output_type": "stream",
          "name": "stderr",
          "text": []
        },
        {
          "output_type": "stream",
          "name": "stdout",
          "text": [
            "MoviePy - Done.\n",
            "✅ Converted sample_163.mp4 → sample_163.wav\n",
            "MoviePy - Writing audio in /content/drive/My Drive/Hammering_Test/Good_Data_2/converted_wav/sample_164.wav\n"
          ]
        },
        {
          "output_type": "stream",
          "name": "stderr",
          "text": [
            "                                                        "
          ]
        },
        {
          "output_type": "stream",
          "name": "stdout",
          "text": [
            "MoviePy - Done.\n",
            "✅ Converted sample_164.mp4 → sample_164.wav\n"
          ]
        },
        {
          "output_type": "stream",
          "name": "stderr",
          "text": [
            "\r"
          ]
        },
        {
          "output_type": "stream",
          "name": "stdout",
          "text": [
            "MoviePy - Writing audio in /content/drive/My Drive/Hammering_Test/Good_Data_2/converted_wav/sample_165.wav\n"
          ]
        },
        {
          "output_type": "stream",
          "name": "stderr",
          "text": []
        },
        {
          "output_type": "stream",
          "name": "stdout",
          "text": [
            "MoviePy - Done.\n",
            "✅ Converted sample_165.mp4 → sample_165.wav\n",
            "MoviePy - Writing audio in /content/drive/My Drive/Hammering_Test/Good_Data_2/converted_wav/sample_166.wav\n"
          ]
        },
        {
          "output_type": "stream",
          "name": "stderr",
          "text": [
            "                                                                   "
          ]
        },
        {
          "output_type": "stream",
          "name": "stdout",
          "text": [
            "MoviePy - Done.\n",
            "✅ Converted sample_166.mp4 → sample_166.wav\n"
          ]
        },
        {
          "output_type": "stream",
          "name": "stderr",
          "text": [
            "\r"
          ]
        },
        {
          "output_type": "stream",
          "name": "stdout",
          "text": [
            "MoviePy - Writing audio in /content/drive/My Drive/Hammering_Test/Good_Data_2/converted_wav/sample_167.wav\n"
          ]
        },
        {
          "output_type": "stream",
          "name": "stderr",
          "text": [
            "                                                                    "
          ]
        },
        {
          "output_type": "stream",
          "name": "stdout",
          "text": [
            "MoviePy - Done.\n",
            "✅ Converted sample_167.mp4 → sample_167.wav\n"
          ]
        },
        {
          "output_type": "stream",
          "name": "stderr",
          "text": [
            "\r"
          ]
        },
        {
          "output_type": "stream",
          "name": "stdout",
          "text": [
            "MoviePy - Writing audio in /content/drive/My Drive/Hammering_Test/Good_Data_2/converted_wav/sample_168.wav\n"
          ]
        },
        {
          "output_type": "stream",
          "name": "stderr",
          "text": [
            "                                                        "
          ]
        },
        {
          "output_type": "stream",
          "name": "stdout",
          "text": [
            "MoviePy - Done.\n",
            "✅ Converted sample_168.mp4 → sample_168.wav\n"
          ]
        },
        {
          "output_type": "stream",
          "name": "stderr",
          "text": [
            "\r"
          ]
        },
        {
          "output_type": "stream",
          "name": "stdout",
          "text": [
            "MoviePy - Writing audio in /content/drive/My Drive/Hammering_Test/Good_Data_2/converted_wav/sample_169.wav\n"
          ]
        },
        {
          "output_type": "stream",
          "name": "stderr",
          "text": [
            "                                                                    "
          ]
        },
        {
          "output_type": "stream",
          "name": "stdout",
          "text": [
            "MoviePy - Done.\n",
            "✅ Converted sample_169.mp4 → sample_169.wav\n"
          ]
        },
        {
          "output_type": "stream",
          "name": "stderr",
          "text": [
            "\r"
          ]
        },
        {
          "output_type": "stream",
          "name": "stdout",
          "text": [
            "MoviePy - Writing audio in /content/drive/My Drive/Hammering_Test/Good_Data_2/converted_wav/sample_170.wav\n"
          ]
        },
        {
          "output_type": "stream",
          "name": "stderr",
          "text": [
            "                                                                    "
          ]
        },
        {
          "output_type": "stream",
          "name": "stdout",
          "text": [
            "MoviePy - Done.\n",
            "✅ Converted sample_170.mp4 → sample_170.wav\n"
          ]
        },
        {
          "output_type": "stream",
          "name": "stderr",
          "text": [
            "\r"
          ]
        },
        {
          "output_type": "stream",
          "name": "stdout",
          "text": [
            "MoviePy - Writing audio in /content/drive/My Drive/Hammering_Test/Good_Data_2/converted_wav/sample_171.wav\n"
          ]
        },
        {
          "output_type": "stream",
          "name": "stderr",
          "text": [
            "                                                        "
          ]
        },
        {
          "output_type": "stream",
          "name": "stdout",
          "text": [
            "MoviePy - Done.\n",
            "✅ Converted sample_171.mp4 → sample_171.wav\n"
          ]
        },
        {
          "output_type": "stream",
          "name": "stderr",
          "text": [
            "\r"
          ]
        },
        {
          "output_type": "stream",
          "name": "stdout",
          "text": [
            "MoviePy - Writing audio in /content/drive/My Drive/Hammering_Test/Good_Data_2/converted_wav/sample_172.wav\n"
          ]
        },
        {
          "output_type": "stream",
          "name": "stderr",
          "text": [
            "                                                        "
          ]
        },
        {
          "output_type": "stream",
          "name": "stdout",
          "text": [
            "MoviePy - Done.\n",
            "✅ Converted sample_172.mp4 → sample_172.wav\n"
          ]
        },
        {
          "output_type": "stream",
          "name": "stderr",
          "text": [
            "\r"
          ]
        },
        {
          "output_type": "stream",
          "name": "stdout",
          "text": [
            "MoviePy - Writing audio in /content/drive/My Drive/Hammering_Test/Good_Data_2/converted_wav/sample_173.wav\n"
          ]
        },
        {
          "output_type": "stream",
          "name": "stderr",
          "text": []
        },
        {
          "output_type": "stream",
          "name": "stdout",
          "text": [
            "MoviePy - Done.\n",
            "✅ Converted sample_173.mp4 → sample_173.wav\n",
            "MoviePy - Writing audio in /content/drive/My Drive/Hammering_Test/Good_Data_2/converted_wav/sample_174.wav\n"
          ]
        },
        {
          "output_type": "stream",
          "name": "stderr",
          "text": [
            "                                                                   "
          ]
        },
        {
          "output_type": "stream",
          "name": "stdout",
          "text": [
            "MoviePy - Done.\n",
            "✅ Converted sample_174.mp4 → sample_174.wav\n"
          ]
        },
        {
          "output_type": "stream",
          "name": "stderr",
          "text": [
            "\r"
          ]
        },
        {
          "output_type": "stream",
          "name": "stdout",
          "text": [
            "MoviePy - Writing audio in /content/drive/My Drive/Hammering_Test/Good_Data_2/converted_wav/sample_175.wav\n"
          ]
        },
        {
          "output_type": "stream",
          "name": "stderr",
          "text": [
            "                                                                  "
          ]
        },
        {
          "output_type": "stream",
          "name": "stdout",
          "text": [
            "MoviePy - Done.\n",
            "✅ Converted sample_175.mp4 → sample_175.wav\n"
          ]
        },
        {
          "output_type": "stream",
          "name": "stderr",
          "text": [
            "\r"
          ]
        },
        {
          "output_type": "stream",
          "name": "stdout",
          "text": [
            "MoviePy - Writing audio in /content/drive/My Drive/Hammering_Test/Good_Data_2/converted_wav/sample_176.wav\n"
          ]
        },
        {
          "output_type": "stream",
          "name": "stderr",
          "text": []
        },
        {
          "output_type": "stream",
          "name": "stdout",
          "text": [
            "MoviePy - Done.\n",
            "✅ Converted sample_176.mp4 → sample_176.wav\n",
            "MoviePy - Writing audio in /content/drive/My Drive/Hammering_Test/Good_Data_2/converted_wav/sample_177.wav\n"
          ]
        },
        {
          "output_type": "stream",
          "name": "stderr",
          "text": [
            "                                                        "
          ]
        },
        {
          "output_type": "stream",
          "name": "stdout",
          "text": [
            "MoviePy - Done.\n",
            "✅ Converted sample_177.mp4 → sample_177.wav\n"
          ]
        },
        {
          "output_type": "stream",
          "name": "stderr",
          "text": [
            "\r"
          ]
        },
        {
          "output_type": "stream",
          "name": "stdout",
          "text": [
            "MoviePy - Writing audio in /content/drive/My Drive/Hammering_Test/Good_Data_2/converted_wav/sample_178.wav\n"
          ]
        },
        {
          "output_type": "stream",
          "name": "stderr",
          "text": [
            "                                                                    "
          ]
        },
        {
          "output_type": "stream",
          "name": "stdout",
          "text": [
            "MoviePy - Done.\n",
            "✅ Converted sample_178.mp4 → sample_178.wav\n"
          ]
        },
        {
          "output_type": "stream",
          "name": "stderr",
          "text": [
            "\r"
          ]
        },
        {
          "output_type": "stream",
          "name": "stdout",
          "text": [
            "MoviePy - Writing audio in /content/drive/My Drive/Hammering_Test/Good_Data_2/converted_wav/sample_179.wav\n"
          ]
        },
        {
          "output_type": "stream",
          "name": "stderr",
          "text": [
            "                                                        "
          ]
        },
        {
          "output_type": "stream",
          "name": "stdout",
          "text": [
            "MoviePy - Done.\n",
            "✅ Converted sample_179.mp4 → sample_179.wav\n"
          ]
        },
        {
          "output_type": "stream",
          "name": "stderr",
          "text": [
            "\r"
          ]
        },
        {
          "output_type": "stream",
          "name": "stdout",
          "text": [
            "MoviePy - Writing audio in /content/drive/My Drive/Hammering_Test/Good_Data_2/converted_wav/sample_180.wav\n"
          ]
        },
        {
          "output_type": "stream",
          "name": "stderr",
          "text": []
        },
        {
          "output_type": "stream",
          "name": "stdout",
          "text": [
            "MoviePy - Done.\n",
            "✅ Converted sample_180.mp4 → sample_180.wav\n",
            "MoviePy - Writing audio in /content/drive/My Drive/Hammering_Test/Good_Data_2/converted_wav/sample_181.wav\n"
          ]
        },
        {
          "output_type": "stream",
          "name": "stderr",
          "text": [
            "                                                                    "
          ]
        },
        {
          "output_type": "stream",
          "name": "stdout",
          "text": [
            "MoviePy - Done.\n",
            "✅ Converted sample_181.mp4 → sample_181.wav\n"
          ]
        },
        {
          "output_type": "stream",
          "name": "stderr",
          "text": [
            "\r"
          ]
        },
        {
          "output_type": "stream",
          "name": "stdout",
          "text": [
            "MoviePy - Writing audio in /content/drive/My Drive/Hammering_Test/Good_Data_2/converted_wav/sample_182.wav\n"
          ]
        },
        {
          "output_type": "stream",
          "name": "stderr",
          "text": [
            "                                                        "
          ]
        },
        {
          "output_type": "stream",
          "name": "stdout",
          "text": [
            "MoviePy - Done.\n",
            "✅ Converted sample_182.mp4 → sample_182.wav\n"
          ]
        },
        {
          "output_type": "stream",
          "name": "stderr",
          "text": [
            "\r"
          ]
        },
        {
          "output_type": "stream",
          "name": "stdout",
          "text": [
            "MoviePy - Writing audio in /content/drive/My Drive/Hammering_Test/Good_Data_2/converted_wav/sample_183.wav\n"
          ]
        },
        {
          "output_type": "stream",
          "name": "stderr",
          "text": [
            "                                                                    "
          ]
        },
        {
          "output_type": "stream",
          "name": "stdout",
          "text": [
            "MoviePy - Done.\n",
            "✅ Converted sample_183.mp4 → sample_183.wav\n"
          ]
        },
        {
          "output_type": "stream",
          "name": "stderr",
          "text": [
            "\r"
          ]
        },
        {
          "output_type": "stream",
          "name": "stdout",
          "text": [
            "MoviePy - Writing audio in /content/drive/My Drive/Hammering_Test/Good_Data_2/converted_wav/sample_184.wav\n"
          ]
        },
        {
          "output_type": "stream",
          "name": "stderr",
          "text": []
        },
        {
          "output_type": "stream",
          "name": "stdout",
          "text": [
            "MoviePy - Done.\n",
            "✅ Converted sample_184.mp4 → sample_184.wav\n",
            "MoviePy - Writing audio in /content/drive/My Drive/Hammering_Test/Good_Data_2/converted_wav/sample_185.wav\n"
          ]
        },
        {
          "output_type": "stream",
          "name": "stderr",
          "text": [
            "                                                                    "
          ]
        },
        {
          "output_type": "stream",
          "name": "stdout",
          "text": [
            "MoviePy - Done.\n",
            "✅ Converted sample_185.mp4 → sample_185.wav\n"
          ]
        },
        {
          "output_type": "stream",
          "name": "stderr",
          "text": [
            "\r"
          ]
        },
        {
          "output_type": "stream",
          "name": "stdout",
          "text": [
            "MoviePy - Writing audio in /content/drive/My Drive/Hammering_Test/Good_Data_2/converted_wav/sample_186.wav\n"
          ]
        },
        {
          "output_type": "stream",
          "name": "stderr",
          "text": []
        },
        {
          "output_type": "stream",
          "name": "stdout",
          "text": [
            "MoviePy - Done.\n",
            "✅ Converted sample_186.mp4 → sample_186.wav\n",
            "MoviePy - Writing audio in /content/drive/My Drive/Hammering_Test/Good_Data_2/converted_wav/sample_187.wav\n"
          ]
        },
        {
          "output_type": "stream",
          "name": "stderr",
          "text": []
        },
        {
          "output_type": "stream",
          "name": "stdout",
          "text": [
            "MoviePy - Done.\n",
            "✅ Converted sample_187.mp4 → sample_187.wav\n",
            "MoviePy - Writing audio in /content/drive/My Drive/Hammering_Test/Good_Data_2/converted_wav/sample_188.wav\n"
          ]
        },
        {
          "output_type": "stream",
          "name": "stderr",
          "text": [
            "                                                                   "
          ]
        },
        {
          "output_type": "stream",
          "name": "stdout",
          "text": [
            "MoviePy - Done.\n",
            "✅ Converted sample_188.mp4 → sample_188.wav\n"
          ]
        },
        {
          "output_type": "stream",
          "name": "stderr",
          "text": [
            "\r"
          ]
        },
        {
          "output_type": "stream",
          "name": "stdout",
          "text": [
            "MoviePy - Writing audio in /content/drive/My Drive/Hammering_Test/Good_Data_2/converted_wav/sample_189.wav\n"
          ]
        },
        {
          "output_type": "stream",
          "name": "stderr",
          "text": [
            "                                                                   "
          ]
        },
        {
          "output_type": "stream",
          "name": "stdout",
          "text": [
            "MoviePy - Done.\n",
            "✅ Converted sample_189.mp4 → sample_189.wav\n"
          ]
        },
        {
          "output_type": "stream",
          "name": "stderr",
          "text": [
            "\r"
          ]
        },
        {
          "output_type": "stream",
          "name": "stdout",
          "text": [
            "MoviePy - Writing audio in /content/drive/My Drive/Hammering_Test/Good_Data_2/converted_wav/sample_190.wav\n"
          ]
        },
        {
          "output_type": "stream",
          "name": "stderr",
          "text": [
            "                                                                   "
          ]
        },
        {
          "output_type": "stream",
          "name": "stdout",
          "text": [
            "MoviePy - Done.\n",
            "✅ Converted sample_190.mp4 → sample_190.wav\n"
          ]
        },
        {
          "output_type": "stream",
          "name": "stderr",
          "text": [
            "\r"
          ]
        },
        {
          "output_type": "stream",
          "name": "stdout",
          "text": [
            "MoviePy - Writing audio in /content/drive/My Drive/Hammering_Test/Good_Data_2/converted_wav/sample_191.wav\n"
          ]
        },
        {
          "output_type": "stream",
          "name": "stderr",
          "text": [
            "                                                        "
          ]
        },
        {
          "output_type": "stream",
          "name": "stdout",
          "text": [
            "MoviePy - Done.\n",
            "✅ Converted sample_191.mp4 → sample_191.wav\n"
          ]
        },
        {
          "output_type": "stream",
          "name": "stderr",
          "text": [
            "\r"
          ]
        },
        {
          "output_type": "stream",
          "name": "stdout",
          "text": [
            "MoviePy - Writing audio in /content/drive/My Drive/Hammering_Test/Good_Data_2/converted_wav/sample_192.wav\n"
          ]
        },
        {
          "output_type": "stream",
          "name": "stderr",
          "text": [
            "                                                                    "
          ]
        },
        {
          "output_type": "stream",
          "name": "stdout",
          "text": [
            "MoviePy - Done.\n",
            "✅ Converted sample_192.mp4 → sample_192.wav\n"
          ]
        },
        {
          "output_type": "stream",
          "name": "stderr",
          "text": [
            "\r"
          ]
        },
        {
          "output_type": "stream",
          "name": "stdout",
          "text": [
            "MoviePy - Writing audio in /content/drive/My Drive/Hammering_Test/Good_Data_2/converted_wav/sample_193.wav\n"
          ]
        },
        {
          "output_type": "stream",
          "name": "stderr",
          "text": [
            "                                                                    "
          ]
        },
        {
          "output_type": "stream",
          "name": "stdout",
          "text": [
            "MoviePy - Done.\n",
            "✅ Converted sample_193.mp4 → sample_193.wav\n"
          ]
        },
        {
          "output_type": "stream",
          "name": "stderr",
          "text": [
            "\r"
          ]
        },
        {
          "output_type": "stream",
          "name": "stdout",
          "text": [
            "MoviePy - Writing audio in /content/drive/My Drive/Hammering_Test/Good_Data_2/converted_wav/sample_194.wav\n"
          ]
        },
        {
          "output_type": "stream",
          "name": "stderr",
          "text": [
            "                                                        "
          ]
        },
        {
          "output_type": "stream",
          "name": "stdout",
          "text": [
            "MoviePy - Done.\n",
            "✅ Converted sample_194.mp4 → sample_194.wav\n"
          ]
        },
        {
          "output_type": "stream",
          "name": "stderr",
          "text": [
            "\r"
          ]
        },
        {
          "output_type": "stream",
          "name": "stdout",
          "text": [
            "MoviePy - Writing audio in /content/drive/My Drive/Hammering_Test/Good_Data_2/converted_wav/sample_195.wav\n"
          ]
        },
        {
          "output_type": "stream",
          "name": "stderr",
          "text": [
            "                                                                    "
          ]
        },
        {
          "output_type": "stream",
          "name": "stdout",
          "text": [
            "MoviePy - Done.\n",
            "✅ Converted sample_195.mp4 → sample_195.wav\n"
          ]
        },
        {
          "output_type": "stream",
          "name": "stderr",
          "text": [
            "\r"
          ]
        },
        {
          "output_type": "stream",
          "name": "stdout",
          "text": [
            "MoviePy - Writing audio in /content/drive/My Drive/Hammering_Test/Good_Data_2/converted_wav/sample_196.wav\n"
          ]
        },
        {
          "output_type": "stream",
          "name": "stderr",
          "text": [
            "                                                                    "
          ]
        },
        {
          "output_type": "stream",
          "name": "stdout",
          "text": [
            "MoviePy - Done.\n",
            "✅ Converted sample_196.mp4 → sample_196.wav\n"
          ]
        },
        {
          "output_type": "stream",
          "name": "stderr",
          "text": [
            "\r"
          ]
        },
        {
          "output_type": "stream",
          "name": "stdout",
          "text": [
            "MoviePy - Writing audio in /content/drive/My Drive/Hammering_Test/Good_Data_2/converted_wav/sample_197.wav\n"
          ]
        },
        {
          "output_type": "stream",
          "name": "stderr",
          "text": [
            "                                                                   "
          ]
        },
        {
          "output_type": "stream",
          "name": "stdout",
          "text": [
            "MoviePy - Done.\n",
            "✅ Converted sample_197.mp4 → sample_197.wav\n"
          ]
        },
        {
          "output_type": "stream",
          "name": "stderr",
          "text": [
            "\r"
          ]
        },
        {
          "output_type": "stream",
          "name": "stdout",
          "text": [
            "MoviePy - Writing audio in /content/drive/My Drive/Hammering_Test/Good_Data_2/converted_wav/sample_198.wav\n"
          ]
        },
        {
          "output_type": "stream",
          "name": "stderr",
          "text": [
            "                                                        "
          ]
        },
        {
          "output_type": "stream",
          "name": "stdout",
          "text": [
            "MoviePy - Done.\n",
            "✅ Converted sample_198.mp4 → sample_198.wav\n"
          ]
        },
        {
          "output_type": "stream",
          "name": "stderr",
          "text": [
            "\r"
          ]
        },
        {
          "output_type": "stream",
          "name": "stdout",
          "text": [
            "MoviePy - Writing audio in /content/drive/My Drive/Hammering_Test/Good_Data_2/converted_wav/sample_199.wav\n"
          ]
        },
        {
          "output_type": "stream",
          "name": "stderr",
          "text": [
            "                                                                  "
          ]
        },
        {
          "output_type": "stream",
          "name": "stdout",
          "text": [
            "MoviePy - Done.\n",
            "✅ Converted sample_199.mp4 → sample_199.wav\n"
          ]
        },
        {
          "output_type": "stream",
          "name": "stderr",
          "text": [
            "\r"
          ]
        },
        {
          "output_type": "stream",
          "name": "stdout",
          "text": [
            "MoviePy - Writing audio in /content/drive/My Drive/Hammering_Test/Good_Data_2/converted_wav/sample_200.wav\n"
          ]
        },
        {
          "output_type": "stream",
          "name": "stderr",
          "text": [
            "                                                                    "
          ]
        },
        {
          "output_type": "stream",
          "name": "stdout",
          "text": [
            "MoviePy - Done.\n",
            "✅ Converted sample_200.mp4 → sample_200.wav\n"
          ]
        },
        {
          "output_type": "stream",
          "name": "stderr",
          "text": [
            "\r"
          ]
        },
        {
          "output_type": "stream",
          "name": "stdout",
          "text": [
            "MoviePy - Writing audio in /content/drive/My Drive/Hammering_Test/Good_Data_2/converted_wav/sample_201.wav\n"
          ]
        },
        {
          "output_type": "stream",
          "name": "stderr",
          "text": []
        },
        {
          "output_type": "stream",
          "name": "stdout",
          "text": [
            "MoviePy - Done.\n",
            "✅ Converted sample_201.mp4 → sample_201.wav\n",
            "MoviePy - Writing audio in /content/drive/My Drive/Hammering_Test/Good_Data_2/converted_wav/sample_202.wav\n"
          ]
        },
        {
          "output_type": "stream",
          "name": "stderr",
          "text": []
        },
        {
          "output_type": "stream",
          "name": "stdout",
          "text": [
            "MoviePy - Done.\n",
            "✅ Converted sample_202.mp4 → sample_202.wav\n",
            "MoviePy - Writing audio in /content/drive/My Drive/Hammering_Test/Good_Data_2/converted_wav/sample_203.wav\n"
          ]
        },
        {
          "output_type": "stream",
          "name": "stderr",
          "text": [
            "                                                                  "
          ]
        },
        {
          "output_type": "stream",
          "name": "stdout",
          "text": [
            "MoviePy - Done.\n",
            "✅ Converted sample_203.mp4 → sample_203.wav\n"
          ]
        },
        {
          "output_type": "stream",
          "name": "stderr",
          "text": [
            "\r"
          ]
        },
        {
          "output_type": "stream",
          "name": "stdout",
          "text": [
            "MoviePy - Writing audio in /content/drive/My Drive/Hammering_Test/Good_Data_2/converted_wav/sample_204.wav\n"
          ]
        },
        {
          "output_type": "stream",
          "name": "stderr",
          "text": []
        },
        {
          "output_type": "stream",
          "name": "stdout",
          "text": [
            "MoviePy - Done.\n",
            "✅ Converted sample_204.mp4 → sample_204.wav\n",
            "MoviePy - Writing audio in /content/drive/My Drive/Hammering_Test/Good_Data_2/converted_wav/sample_205.wav\n"
          ]
        },
        {
          "output_type": "stream",
          "name": "stderr",
          "text": [
            "                                                                   "
          ]
        },
        {
          "output_type": "stream",
          "name": "stdout",
          "text": [
            "MoviePy - Done.\n",
            "✅ Converted sample_205.mp4 → sample_205.wav\n"
          ]
        },
        {
          "output_type": "stream",
          "name": "stderr",
          "text": [
            "\r"
          ]
        },
        {
          "output_type": "stream",
          "name": "stdout",
          "text": [
            "MoviePy - Writing audio in /content/drive/My Drive/Hammering_Test/Good_Data_2/converted_wav/sample_206.wav\n"
          ]
        },
        {
          "output_type": "stream",
          "name": "stderr",
          "text": []
        },
        {
          "output_type": "stream",
          "name": "stdout",
          "text": [
            "MoviePy - Done.\n",
            "✅ Converted sample_206.mp4 → sample_206.wav\n",
            "MoviePy - Writing audio in /content/drive/My Drive/Hammering_Test/Good_Data_2/converted_wav/sample_207.wav\n"
          ]
        },
        {
          "output_type": "stream",
          "name": "stderr",
          "text": []
        },
        {
          "output_type": "stream",
          "name": "stdout",
          "text": [
            "MoviePy - Done.\n",
            "✅ Converted sample_207.mp4 → sample_207.wav\n",
            "MoviePy - Writing audio in /content/drive/My Drive/Hammering_Test/Good_Data_2/converted_wav/sample_208.wav\n"
          ]
        },
        {
          "output_type": "stream",
          "name": "stderr",
          "text": [
            "                                                                   "
          ]
        },
        {
          "output_type": "stream",
          "name": "stdout",
          "text": [
            "MoviePy - Done.\n",
            "✅ Converted sample_208.mp4 → sample_208.wav\n"
          ]
        },
        {
          "output_type": "stream",
          "name": "stderr",
          "text": [
            "\r"
          ]
        },
        {
          "output_type": "stream",
          "name": "stdout",
          "text": [
            "MoviePy - Writing audio in /content/drive/My Drive/Hammering_Test/Good_Data_2/converted_wav/sample_209.wav\n"
          ]
        },
        {
          "output_type": "stream",
          "name": "stderr",
          "text": [
            "                                                        "
          ]
        },
        {
          "output_type": "stream",
          "name": "stdout",
          "text": [
            "MoviePy - Done.\n",
            "✅ Converted sample_209.mp4 → sample_209.wav\n"
          ]
        },
        {
          "output_type": "stream",
          "name": "stderr",
          "text": [
            "\r"
          ]
        },
        {
          "output_type": "stream",
          "name": "stdout",
          "text": [
            "MoviePy - Writing audio in /content/drive/My Drive/Hammering_Test/Good_Data_2/converted_wav/sample_210.wav\n"
          ]
        },
        {
          "output_type": "stream",
          "name": "stderr",
          "text": [
            "                                                        "
          ]
        },
        {
          "output_type": "stream",
          "name": "stdout",
          "text": [
            "MoviePy - Done.\n",
            "✅ Converted sample_210.mp4 → sample_210.wav\n"
          ]
        },
        {
          "output_type": "stream",
          "name": "stderr",
          "text": [
            "\r"
          ]
        },
        {
          "output_type": "stream",
          "name": "stdout",
          "text": [
            "MoviePy - Writing audio in /content/drive/My Drive/Hammering_Test/Good_Data_2/converted_wav/sample_211.wav\n"
          ]
        },
        {
          "output_type": "stream",
          "name": "stderr",
          "text": [
            "                                                                    "
          ]
        },
        {
          "output_type": "stream",
          "name": "stdout",
          "text": [
            "MoviePy - Done.\n",
            "✅ Converted sample_211.mp4 → sample_211.wav\n"
          ]
        },
        {
          "output_type": "stream",
          "name": "stderr",
          "text": [
            "\r"
          ]
        },
        {
          "output_type": "stream",
          "name": "stdout",
          "text": [
            "MoviePy - Writing audio in /content/drive/My Drive/Hammering_Test/Good_Data_2/converted_wav/sample_212.wav\n"
          ]
        },
        {
          "output_type": "stream",
          "name": "stderr",
          "text": []
        },
        {
          "output_type": "stream",
          "name": "stdout",
          "text": [
            "MoviePy - Done.\n",
            "✅ Converted sample_212.mp4 → sample_212.wav\n",
            "MoviePy - Writing audio in /content/drive/My Drive/Hammering_Test/Good_Data_2/converted_wav/sample_213.wav\n"
          ]
        },
        {
          "output_type": "stream",
          "name": "stderr",
          "text": [
            "                                                                   "
          ]
        },
        {
          "output_type": "stream",
          "name": "stdout",
          "text": [
            "MoviePy - Done.\n",
            "✅ Converted sample_213.mp4 → sample_213.wav\n"
          ]
        },
        {
          "output_type": "stream",
          "name": "stderr",
          "text": [
            "\r"
          ]
        },
        {
          "output_type": "stream",
          "name": "stdout",
          "text": [
            "MoviePy - Writing audio in /content/drive/My Drive/Hammering_Test/Good_Data_2/converted_wav/sample_214.wav\n"
          ]
        },
        {
          "output_type": "stream",
          "name": "stderr",
          "text": []
        },
        {
          "output_type": "stream",
          "name": "stdout",
          "text": [
            "MoviePy - Done.\n",
            "✅ Converted sample_214.mp4 → sample_214.wav\n",
            "MoviePy - Writing audio in /content/drive/My Drive/Hammering_Test/Good_Data_2/converted_wav/sample_215.wav\n"
          ]
        },
        {
          "output_type": "stream",
          "name": "stderr",
          "text": [
            "                                                                   "
          ]
        },
        {
          "output_type": "stream",
          "name": "stdout",
          "text": [
            "MoviePy - Done.\n",
            "✅ Converted sample_215.mp4 → sample_215.wav\n"
          ]
        },
        {
          "output_type": "stream",
          "name": "stderr",
          "text": [
            "\r"
          ]
        },
        {
          "output_type": "stream",
          "name": "stdout",
          "text": [
            "MoviePy - Writing audio in /content/drive/My Drive/Hammering_Test/Good_Data_2/converted_wav/sample_216.wav\n"
          ]
        },
        {
          "output_type": "stream",
          "name": "stderr",
          "text": []
        },
        {
          "output_type": "stream",
          "name": "stdout",
          "text": [
            "MoviePy - Done.\n",
            "✅ Converted sample_216.mp4 → sample_216.wav\n",
            "MoviePy - Writing audio in /content/drive/My Drive/Hammering_Test/Good_Data_2/converted_wav/sample_217.wav\n"
          ]
        },
        {
          "output_type": "stream",
          "name": "stderr",
          "text": []
        },
        {
          "output_type": "stream",
          "name": "stdout",
          "text": [
            "MoviePy - Done.\n",
            "✅ Converted sample_217.mp4 → sample_217.wav\n",
            "MoviePy - Writing audio in /content/drive/My Drive/Hammering_Test/Good_Data_2/converted_wav/sample_218.wav\n"
          ]
        },
        {
          "output_type": "stream",
          "name": "stderr",
          "text": []
        },
        {
          "output_type": "stream",
          "name": "stdout",
          "text": [
            "MoviePy - Done.\n",
            "✅ Converted sample_218.mp4 → sample_218.wav\n",
            "MoviePy - Writing audio in /content/drive/My Drive/Hammering_Test/Good_Data_2/converted_wav/sample_219.wav\n"
          ]
        },
        {
          "output_type": "stream",
          "name": "stderr",
          "text": []
        },
        {
          "output_type": "stream",
          "name": "stdout",
          "text": [
            "MoviePy - Done.\n",
            "✅ Converted sample_219.mp4 → sample_219.wav\n",
            "MoviePy - Writing audio in /content/drive/My Drive/Hammering_Test/Good_Data_2/converted_wav/sample_220.wav\n"
          ]
        },
        {
          "output_type": "stream",
          "name": "stderr",
          "text": [
            "                                                                    "
          ]
        },
        {
          "output_type": "stream",
          "name": "stdout",
          "text": [
            "MoviePy - Done.\n",
            "✅ Converted sample_220.mp4 → sample_220.wav\n"
          ]
        },
        {
          "output_type": "stream",
          "name": "stderr",
          "text": [
            "\r"
          ]
        },
        {
          "output_type": "stream",
          "name": "stdout",
          "text": [
            "MoviePy - Writing audio in /content/drive/My Drive/Hammering_Test/Good_Data_2/converted_wav/sample_221.wav\n"
          ]
        },
        {
          "output_type": "stream",
          "name": "stderr",
          "text": [
            "                                                                    "
          ]
        },
        {
          "output_type": "stream",
          "name": "stdout",
          "text": [
            "MoviePy - Done.\n",
            "✅ Converted sample_221.mp4 → sample_221.wav\n"
          ]
        },
        {
          "output_type": "stream",
          "name": "stderr",
          "text": [
            "\r"
          ]
        },
        {
          "output_type": "stream",
          "name": "stdout",
          "text": [
            "MoviePy - Writing audio in /content/drive/My Drive/Hammering_Test/Good_Data_2/converted_wav/sample_222.wav\n"
          ]
        },
        {
          "output_type": "stream",
          "name": "stderr",
          "text": [
            "                                                        "
          ]
        },
        {
          "output_type": "stream",
          "name": "stdout",
          "text": [
            "MoviePy - Done.\n",
            "✅ Converted sample_222.mp4 → sample_222.wav\n"
          ]
        },
        {
          "output_type": "stream",
          "name": "stderr",
          "text": [
            "\r"
          ]
        },
        {
          "output_type": "stream",
          "name": "stdout",
          "text": [
            "MoviePy - Writing audio in /content/drive/My Drive/Hammering_Test/Good_Data_2/converted_wav/sample_223.wav\n"
          ]
        },
        {
          "output_type": "stream",
          "name": "stderr",
          "text": [
            "                                                                   "
          ]
        },
        {
          "output_type": "stream",
          "name": "stdout",
          "text": [
            "MoviePy - Done.\n",
            "✅ Converted sample_223.mp4 → sample_223.wav\n"
          ]
        },
        {
          "output_type": "stream",
          "name": "stderr",
          "text": [
            "\r"
          ]
        },
        {
          "output_type": "stream",
          "name": "stdout",
          "text": [
            "MoviePy - Writing audio in /content/drive/My Drive/Hammering_Test/Good_Data_2/converted_wav/sample_224.wav\n"
          ]
        },
        {
          "output_type": "stream",
          "name": "stderr",
          "text": [
            "                                                        "
          ]
        },
        {
          "output_type": "stream",
          "name": "stdout",
          "text": [
            "MoviePy - Done.\n",
            "✅ Converted sample_224.mp4 → sample_224.wav\n"
          ]
        },
        {
          "output_type": "stream",
          "name": "stderr",
          "text": [
            "\r"
          ]
        },
        {
          "output_type": "stream",
          "name": "stdout",
          "text": [
            "MoviePy - Writing audio in /content/drive/My Drive/Hammering_Test/Good_Data_2/converted_wav/sample_225.wav\n"
          ]
        },
        {
          "output_type": "stream",
          "name": "stderr",
          "text": [
            "                                                                    "
          ]
        },
        {
          "output_type": "stream",
          "name": "stdout",
          "text": [
            "MoviePy - Done.\n",
            "✅ Converted sample_225.mp4 → sample_225.wav\n"
          ]
        },
        {
          "output_type": "stream",
          "name": "stderr",
          "text": [
            "\r"
          ]
        },
        {
          "output_type": "stream",
          "name": "stdout",
          "text": [
            "MoviePy - Writing audio in /content/drive/My Drive/Hammering_Test/Good_Data_2/converted_wav/sample_226.wav\n"
          ]
        },
        {
          "output_type": "stream",
          "name": "stderr",
          "text": [
            "                                                                  "
          ]
        },
        {
          "output_type": "stream",
          "name": "stdout",
          "text": [
            "MoviePy - Done.\n",
            "✅ Converted sample_226.mp4 → sample_226.wav\n"
          ]
        },
        {
          "output_type": "stream",
          "name": "stderr",
          "text": [
            "\r"
          ]
        },
        {
          "output_type": "stream",
          "name": "stdout",
          "text": [
            "MoviePy - Writing audio in /content/drive/My Drive/Hammering_Test/Good_Data_2/converted_wav/sample_227.wav\n"
          ]
        },
        {
          "output_type": "stream",
          "name": "stderr",
          "text": [
            "                                                                  "
          ]
        },
        {
          "output_type": "stream",
          "name": "stdout",
          "text": [
            "MoviePy - Done.\n",
            "✅ Converted sample_227.mp4 → sample_227.wav\n"
          ]
        },
        {
          "output_type": "stream",
          "name": "stderr",
          "text": [
            "\r"
          ]
        },
        {
          "output_type": "stream",
          "name": "stdout",
          "text": [
            "MoviePy - Writing audio in /content/drive/My Drive/Hammering_Test/Good_Data_2/converted_wav/sample_228.wav\n"
          ]
        },
        {
          "output_type": "stream",
          "name": "stderr",
          "text": []
        },
        {
          "output_type": "stream",
          "name": "stdout",
          "text": [
            "MoviePy - Done.\n",
            "✅ Converted sample_228.mp4 → sample_228.wav\n",
            "MoviePy - Writing audio in /content/drive/My Drive/Hammering_Test/Good_Data_2/converted_wav/sample_229.wav\n"
          ]
        },
        {
          "output_type": "stream",
          "name": "stderr",
          "text": [
            "                                                                  "
          ]
        },
        {
          "output_type": "stream",
          "name": "stdout",
          "text": [
            "MoviePy - Done.\n",
            "✅ Converted sample_229.mp4 → sample_229.wav\n"
          ]
        },
        {
          "output_type": "stream",
          "name": "stderr",
          "text": [
            "\r"
          ]
        },
        {
          "output_type": "stream",
          "name": "stdout",
          "text": [
            "MoviePy - Writing audio in /content/drive/My Drive/Hammering_Test/Good_Data_2/converted_wav/sample_230.wav\n"
          ]
        },
        {
          "output_type": "stream",
          "name": "stderr",
          "text": []
        },
        {
          "output_type": "stream",
          "name": "stdout",
          "text": [
            "MoviePy - Done.\n",
            "✅ Converted sample_230.mp4 → sample_230.wav\n",
            "MoviePy - Writing audio in /content/drive/My Drive/Hammering_Test/Good_Data_2/converted_wav/sample_231.wav\n"
          ]
        },
        {
          "output_type": "stream",
          "name": "stderr",
          "text": []
        },
        {
          "output_type": "stream",
          "name": "stdout",
          "text": [
            "MoviePy - Done.\n",
            "✅ Converted sample_231.mp4 → sample_231.wav\n",
            "MoviePy - Writing audio in /content/drive/My Drive/Hammering_Test/Good_Data_2/converted_wav/sample_232.wav\n"
          ]
        },
        {
          "output_type": "stream",
          "name": "stderr",
          "text": [
            "                                                                   "
          ]
        },
        {
          "output_type": "stream",
          "name": "stdout",
          "text": [
            "MoviePy - Done.\n",
            "✅ Converted sample_232.mp4 → sample_232.wav\n"
          ]
        },
        {
          "output_type": "stream",
          "name": "stderr",
          "text": [
            "\r"
          ]
        },
        {
          "output_type": "stream",
          "name": "stdout",
          "text": [
            "MoviePy - Writing audio in /content/drive/My Drive/Hammering_Test/Good_Data_2/converted_wav/sample_233.wav\n"
          ]
        },
        {
          "output_type": "stream",
          "name": "stderr",
          "text": [
            "                                                        "
          ]
        },
        {
          "output_type": "stream",
          "name": "stdout",
          "text": [
            "MoviePy - Done.\n",
            "✅ Converted sample_233.mp4 → sample_233.wav\n"
          ]
        },
        {
          "output_type": "stream",
          "name": "stderr",
          "text": [
            "\r"
          ]
        },
        {
          "output_type": "stream",
          "name": "stdout",
          "text": [
            "MoviePy - Writing audio in /content/drive/My Drive/Hammering_Test/Good_Data_2/converted_wav/sample_234.wav\n"
          ]
        },
        {
          "output_type": "stream",
          "name": "stderr",
          "text": [
            "                                                                    "
          ]
        },
        {
          "output_type": "stream",
          "name": "stdout",
          "text": [
            "MoviePy - Done.\n",
            "✅ Converted sample_234.mp4 → sample_234.wav\n"
          ]
        },
        {
          "output_type": "stream",
          "name": "stderr",
          "text": [
            "\r"
          ]
        },
        {
          "output_type": "stream",
          "name": "stdout",
          "text": [
            "MoviePy - Writing audio in /content/drive/My Drive/Hammering_Test/Good_Data_2/converted_wav/sample_235.wav\n"
          ]
        },
        {
          "output_type": "stream",
          "name": "stderr",
          "text": [
            "                                                                    "
          ]
        },
        {
          "output_type": "stream",
          "name": "stdout",
          "text": [
            "MoviePy - Done.\n",
            "✅ Converted sample_235.mp4 → sample_235.wav\n"
          ]
        },
        {
          "output_type": "stream",
          "name": "stderr",
          "text": [
            "\r"
          ]
        },
        {
          "output_type": "stream",
          "name": "stdout",
          "text": [
            "MoviePy - Writing audio in /content/drive/My Drive/Hammering_Test/Good_Data_2/converted_wav/sample_236.wav\n"
          ]
        },
        {
          "output_type": "stream",
          "name": "stderr",
          "text": [
            "                                                                    "
          ]
        },
        {
          "output_type": "stream",
          "name": "stdout",
          "text": [
            "MoviePy - Done.\n",
            "✅ Converted sample_236.mp4 → sample_236.wav\n"
          ]
        },
        {
          "output_type": "stream",
          "name": "stderr",
          "text": [
            "\r"
          ]
        },
        {
          "output_type": "stream",
          "name": "stdout",
          "text": [
            "MoviePy - Writing audio in /content/drive/My Drive/Hammering_Test/Good_Data_2/converted_wav/sample_237.wav\n"
          ]
        },
        {
          "output_type": "stream",
          "name": "stderr",
          "text": [
            "                                                        "
          ]
        },
        {
          "output_type": "stream",
          "name": "stdout",
          "text": [
            "MoviePy - Done.\n",
            "✅ Converted sample_237.mp4 → sample_237.wav\n"
          ]
        },
        {
          "output_type": "stream",
          "name": "stderr",
          "text": [
            "\r"
          ]
        },
        {
          "output_type": "stream",
          "name": "stdout",
          "text": [
            "MoviePy - Writing audio in /content/drive/My Drive/Hammering_Test/Good_Data_2/converted_wav/sample_238.wav\n"
          ]
        },
        {
          "output_type": "stream",
          "name": "stderr",
          "text": [
            "                                                                    "
          ]
        },
        {
          "output_type": "stream",
          "name": "stdout",
          "text": [
            "MoviePy - Done.\n",
            "✅ Converted sample_238.mp4 → sample_238.wav\n"
          ]
        },
        {
          "output_type": "stream",
          "name": "stderr",
          "text": [
            "\r"
          ]
        },
        {
          "output_type": "stream",
          "name": "stdout",
          "text": [
            "MoviePy - Writing audio in /content/drive/My Drive/Hammering_Test/Good_Data_2/converted_wav/sample_239.wav\n"
          ]
        },
        {
          "output_type": "stream",
          "name": "stderr",
          "text": [
            "                                                                    "
          ]
        },
        {
          "output_type": "stream",
          "name": "stdout",
          "text": [
            "MoviePy - Done.\n",
            "✅ Converted sample_239.mp4 → sample_239.wav\n"
          ]
        },
        {
          "output_type": "stream",
          "name": "stderr",
          "text": [
            "\r"
          ]
        },
        {
          "output_type": "stream",
          "name": "stdout",
          "text": [
            "MoviePy - Writing audio in /content/drive/My Drive/Hammering_Test/Good_Data_2/converted_wav/sample_240.wav\n"
          ]
        },
        {
          "output_type": "stream",
          "name": "stderr",
          "text": [
            "                                                        "
          ]
        },
        {
          "output_type": "stream",
          "name": "stdout",
          "text": [
            "MoviePy - Done.\n",
            "✅ Converted sample_240.mp4 → sample_240.wav\n"
          ]
        },
        {
          "output_type": "stream",
          "name": "stderr",
          "text": [
            "\r"
          ]
        },
        {
          "output_type": "stream",
          "name": "stdout",
          "text": [
            "MoviePy - Writing audio in /content/drive/My Drive/Hammering_Test/Good_Data_2/converted_wav/sample_241.wav\n"
          ]
        },
        {
          "output_type": "stream",
          "name": "stderr",
          "text": [
            "                                                        "
          ]
        },
        {
          "output_type": "stream",
          "name": "stdout",
          "text": [
            "MoviePy - Done.\n",
            "✅ Converted sample_241.mp4 → sample_241.wav\n"
          ]
        },
        {
          "output_type": "stream",
          "name": "stderr",
          "text": [
            "\r"
          ]
        },
        {
          "output_type": "stream",
          "name": "stdout",
          "text": [
            "MoviePy - Writing audio in /content/drive/My Drive/Hammering_Test/Good_Data_2/converted_wav/sample_242.wav\n"
          ]
        },
        {
          "output_type": "stream",
          "name": "stderr",
          "text": [
            "                                                        "
          ]
        },
        {
          "output_type": "stream",
          "name": "stdout",
          "text": [
            "MoviePy - Done.\n",
            "✅ Converted sample_242.mp4 → sample_242.wav\n"
          ]
        },
        {
          "output_type": "stream",
          "name": "stderr",
          "text": [
            "\r"
          ]
        },
        {
          "output_type": "stream",
          "name": "stdout",
          "text": [
            "MoviePy - Writing audio in /content/drive/My Drive/Hammering_Test/Good_Data_2/converted_wav/sample_243.wav\n"
          ]
        },
        {
          "output_type": "stream",
          "name": "stderr",
          "text": [
            "                                                                    "
          ]
        },
        {
          "output_type": "stream",
          "name": "stdout",
          "text": [
            "MoviePy - Done.\n",
            "✅ Converted sample_243.mp4 → sample_243.wav\n"
          ]
        },
        {
          "output_type": "stream",
          "name": "stderr",
          "text": [
            "\r"
          ]
        },
        {
          "output_type": "stream",
          "name": "stdout",
          "text": [
            "MoviePy - Writing audio in /content/drive/My Drive/Hammering_Test/Good_Data_2/converted_wav/sample_244.wav\n"
          ]
        },
        {
          "output_type": "stream",
          "name": "stderr",
          "text": [
            "                                                                    "
          ]
        },
        {
          "output_type": "stream",
          "name": "stdout",
          "text": [
            "MoviePy - Done.\n",
            "✅ Converted sample_244.mp4 → sample_244.wav\n"
          ]
        },
        {
          "output_type": "stream",
          "name": "stderr",
          "text": [
            "\r"
          ]
        },
        {
          "output_type": "stream",
          "name": "stdout",
          "text": [
            "MoviePy - Writing audio in /content/drive/My Drive/Hammering_Test/Good_Data_2/converted_wav/sample_245.wav\n"
          ]
        },
        {
          "output_type": "stream",
          "name": "stderr",
          "text": [
            "                                                                   "
          ]
        },
        {
          "output_type": "stream",
          "name": "stdout",
          "text": [
            "MoviePy - Done.\n",
            "✅ Converted sample_245.mp4 → sample_245.wav\n"
          ]
        },
        {
          "output_type": "stream",
          "name": "stderr",
          "text": [
            "\r"
          ]
        },
        {
          "output_type": "stream",
          "name": "stdout",
          "text": [
            "MoviePy - Writing audio in /content/drive/My Drive/Hammering_Test/Good_Data_2/converted_wav/sample_246.wav\n"
          ]
        },
        {
          "output_type": "stream",
          "name": "stderr",
          "text": [
            "                                                                  "
          ]
        },
        {
          "output_type": "stream",
          "name": "stdout",
          "text": [
            "MoviePy - Done.\n",
            "✅ Converted sample_246.mp4 → sample_246.wav\n"
          ]
        },
        {
          "output_type": "stream",
          "name": "stderr",
          "text": [
            "\r"
          ]
        },
        {
          "output_type": "stream",
          "name": "stdout",
          "text": [
            "MoviePy - Writing audio in /content/drive/My Drive/Hammering_Test/Good_Data_2/converted_wav/sample_247.wav\n"
          ]
        },
        {
          "output_type": "stream",
          "name": "stderr",
          "text": []
        },
        {
          "output_type": "stream",
          "name": "stdout",
          "text": [
            "MoviePy - Done.\n",
            "✅ Converted sample_247.mp4 → sample_247.wav\n",
            "MoviePy - Writing audio in /content/drive/My Drive/Hammering_Test/Good_Data_2/converted_wav/sample_248.wav\n"
          ]
        },
        {
          "output_type": "stream",
          "name": "stderr",
          "text": []
        },
        {
          "output_type": "stream",
          "name": "stdout",
          "text": [
            "MoviePy - Done.\n",
            "✅ Converted sample_248.mp4 → sample_248.wav\n",
            "MoviePy - Writing audio in /content/drive/My Drive/Hammering_Test/Good_Data_2/converted_wav/sample_249.wav\n"
          ]
        },
        {
          "output_type": "stream",
          "name": "stderr",
          "text": []
        },
        {
          "output_type": "stream",
          "name": "stdout",
          "text": [
            "MoviePy - Done.\n",
            "✅ Converted sample_249.mp4 → sample_249.wav\n",
            "MoviePy - Writing audio in /content/drive/My Drive/Hammering_Test/Good_Data_2/converted_wav/sample_250.wav\n"
          ]
        },
        {
          "output_type": "stream",
          "name": "stderr",
          "text": [
            "                                                        "
          ]
        },
        {
          "output_type": "stream",
          "name": "stdout",
          "text": [
            "MoviePy - Done.\n",
            "✅ Converted sample_250.mp4 → sample_250.wav\n"
          ]
        },
        {
          "output_type": "stream",
          "name": "stderr",
          "text": [
            "\r"
          ]
        },
        {
          "output_type": "stream",
          "name": "stdout",
          "text": [
            "MoviePy - Writing audio in /content/drive/My Drive/Hammering_Test/Good_Data_2/converted_wav/sample_251.wav\n"
          ]
        },
        {
          "output_type": "stream",
          "name": "stderr",
          "text": [
            "                                                                   "
          ]
        },
        {
          "output_type": "stream",
          "name": "stdout",
          "text": [
            "MoviePy - Done.\n",
            "✅ Converted sample_251.mp4 → sample_251.wav\n"
          ]
        },
        {
          "output_type": "stream",
          "name": "stderr",
          "text": [
            "\r"
          ]
        },
        {
          "output_type": "stream",
          "name": "stdout",
          "text": [
            "MoviePy - Writing audio in /content/drive/My Drive/Hammering_Test/Good_Data_2/converted_wav/sample_252.wav\n"
          ]
        },
        {
          "output_type": "stream",
          "name": "stderr",
          "text": []
        },
        {
          "output_type": "stream",
          "name": "stdout",
          "text": [
            "MoviePy - Done.\n",
            "✅ Converted sample_252.mp4 → sample_252.wav\n",
            "MoviePy - Writing audio in /content/drive/My Drive/Hammering_Test/Good_Data_2/converted_wav/sample_253.wav\n"
          ]
        },
        {
          "output_type": "stream",
          "name": "stderr",
          "text": [
            "                                                        "
          ]
        },
        {
          "output_type": "stream",
          "name": "stdout",
          "text": [
            "MoviePy - Done.\n",
            "✅ Converted sample_253.mp4 → sample_253.wav\n"
          ]
        },
        {
          "output_type": "stream",
          "name": "stderr",
          "text": [
            "\r"
          ]
        },
        {
          "output_type": "stream",
          "name": "stdout",
          "text": [
            "MoviePy - Writing audio in /content/drive/My Drive/Hammering_Test/Good_Data_2/converted_wav/sample_254.wav\n"
          ]
        },
        {
          "output_type": "stream",
          "name": "stderr",
          "text": [
            "                                                                   "
          ]
        },
        {
          "output_type": "stream",
          "name": "stdout",
          "text": [
            "MoviePy - Done.\n",
            "✅ Converted sample_254.mp4 → sample_254.wav\n"
          ]
        },
        {
          "output_type": "stream",
          "name": "stderr",
          "text": [
            "\r"
          ]
        },
        {
          "output_type": "stream",
          "name": "stdout",
          "text": [
            "MoviePy - Writing audio in /content/drive/My Drive/Hammering_Test/Good_Data_2/converted_wav/sample_255.wav\n"
          ]
        },
        {
          "output_type": "stream",
          "name": "stderr",
          "text": [
            "                                                                    "
          ]
        },
        {
          "output_type": "stream",
          "name": "stdout",
          "text": [
            "MoviePy - Done.\n",
            "✅ Converted sample_255.mp4 → sample_255.wav\n"
          ]
        },
        {
          "output_type": "stream",
          "name": "stderr",
          "text": [
            "\r"
          ]
        },
        {
          "output_type": "stream",
          "name": "stdout",
          "text": [
            "MoviePy - Writing audio in /content/drive/My Drive/Hammering_Test/Good_Data_2/converted_wav/sample_256.wav\n"
          ]
        },
        {
          "output_type": "stream",
          "name": "stderr",
          "text": [
            "                                                                  "
          ]
        },
        {
          "output_type": "stream",
          "name": "stdout",
          "text": [
            "MoviePy - Done.\n",
            "✅ Converted sample_256.mp4 → sample_256.wav\n"
          ]
        },
        {
          "output_type": "stream",
          "name": "stderr",
          "text": [
            "\r"
          ]
        },
        {
          "output_type": "stream",
          "name": "stdout",
          "text": [
            "MoviePy - Writing audio in /content/drive/My Drive/Hammering_Test/Good_Data_2/converted_wav/sample_257.wav\n"
          ]
        },
        {
          "output_type": "stream",
          "name": "stderr",
          "text": [
            "                                                        "
          ]
        },
        {
          "output_type": "stream",
          "name": "stdout",
          "text": [
            "MoviePy - Done.\n",
            "✅ Converted sample_257.mp4 → sample_257.wav\n"
          ]
        },
        {
          "output_type": "stream",
          "name": "stderr",
          "text": [
            "\r"
          ]
        },
        {
          "output_type": "stream",
          "name": "stdout",
          "text": [
            "MoviePy - Writing audio in /content/drive/My Drive/Hammering_Test/Good_Data_2/converted_wav/sample_258.wav\n"
          ]
        },
        {
          "output_type": "stream",
          "name": "stderr",
          "text": [
            "                                                                    "
          ]
        },
        {
          "output_type": "stream",
          "name": "stdout",
          "text": [
            "MoviePy - Done.\n",
            "✅ Converted sample_258.mp4 → sample_258.wav\n"
          ]
        },
        {
          "output_type": "stream",
          "name": "stderr",
          "text": [
            "\r"
          ]
        },
        {
          "output_type": "stream",
          "name": "stdout",
          "text": [
            "MoviePy - Writing audio in /content/drive/My Drive/Hammering_Test/Good_Data_2/converted_wav/sample_259.wav\n"
          ]
        },
        {
          "output_type": "stream",
          "name": "stderr",
          "text": [
            "                                                        "
          ]
        },
        {
          "output_type": "stream",
          "name": "stdout",
          "text": [
            "MoviePy - Done.\n",
            "✅ Converted sample_259.mp4 → sample_259.wav\n"
          ]
        },
        {
          "output_type": "stream",
          "name": "stderr",
          "text": [
            "\r"
          ]
        },
        {
          "output_type": "stream",
          "name": "stdout",
          "text": [
            "MoviePy - Writing audio in /content/drive/My Drive/Hammering_Test/Good_Data_2/converted_wav/sample_260.wav\n"
          ]
        },
        {
          "output_type": "stream",
          "name": "stderr",
          "text": [
            "                                                                    "
          ]
        },
        {
          "output_type": "stream",
          "name": "stdout",
          "text": [
            "MoviePy - Done.\n",
            "✅ Converted sample_260.mp4 → sample_260.wav\n"
          ]
        },
        {
          "output_type": "stream",
          "name": "stderr",
          "text": [
            "\r"
          ]
        },
        {
          "output_type": "stream",
          "name": "stdout",
          "text": [
            "MoviePy - Writing audio in /content/drive/My Drive/Hammering_Test/Good_Data_2/converted_wav/sample_261.wav\n"
          ]
        },
        {
          "output_type": "stream",
          "name": "stderr",
          "text": [
            "                                                                    "
          ]
        },
        {
          "output_type": "stream",
          "name": "stdout",
          "text": [
            "MoviePy - Done.\n",
            "✅ Converted sample_261.mp4 → sample_261.wav\n"
          ]
        },
        {
          "output_type": "stream",
          "name": "stderr",
          "text": [
            "\r"
          ]
        },
        {
          "output_type": "stream",
          "name": "stdout",
          "text": [
            "MoviePy - Writing audio in /content/drive/My Drive/Hammering_Test/Good_Data_2/converted_wav/sample_262.wav\n"
          ]
        },
        {
          "output_type": "stream",
          "name": "stderr",
          "text": []
        },
        {
          "output_type": "stream",
          "name": "stdout",
          "text": [
            "MoviePy - Done.\n",
            "✅ Converted sample_262.mp4 → sample_262.wav\n",
            "MoviePy - Writing audio in /content/drive/My Drive/Hammering_Test/Good_Data_2/converted_wav/sample_263.wav\n"
          ]
        },
        {
          "output_type": "stream",
          "name": "stderr",
          "text": [
            "                                                                  "
          ]
        },
        {
          "output_type": "stream",
          "name": "stdout",
          "text": [
            "MoviePy - Done.\n",
            "✅ Converted sample_263.mp4 → sample_263.wav\n"
          ]
        },
        {
          "output_type": "stream",
          "name": "stderr",
          "text": [
            "\r"
          ]
        },
        {
          "output_type": "stream",
          "name": "stdout",
          "text": [
            "MoviePy - Writing audio in /content/drive/My Drive/Hammering_Test/Good_Data_2/converted_wav/sample_264.wav\n"
          ]
        },
        {
          "output_type": "stream",
          "name": "stderr",
          "text": []
        },
        {
          "output_type": "stream",
          "name": "stdout",
          "text": [
            "MoviePy - Done.\n",
            "✅ Converted sample_264.mp4 → sample_264.wav\n",
            "MoviePy - Writing audio in /content/drive/My Drive/Hammering_Test/Good_Data_2/converted_wav/sample_265.wav\n"
          ]
        },
        {
          "output_type": "stream",
          "name": "stderr",
          "text": []
        },
        {
          "output_type": "stream",
          "name": "stdout",
          "text": [
            "MoviePy - Done.\n",
            "✅ Converted sample_265.mp4 → sample_265.wav\n",
            "MoviePy - Writing audio in /content/drive/My Drive/Hammering_Test/Good_Data_2/converted_wav/sample_266.wav\n"
          ]
        },
        {
          "output_type": "stream",
          "name": "stderr",
          "text": []
        },
        {
          "output_type": "stream",
          "name": "stdout",
          "text": [
            "MoviePy - Done.\n",
            "✅ Converted sample_266.mp4 → sample_266.wav\n",
            "MoviePy - Writing audio in /content/drive/My Drive/Hammering_Test/Good_Data_2/converted_wav/sample_267.wav\n"
          ]
        },
        {
          "output_type": "stream",
          "name": "stderr",
          "text": []
        },
        {
          "output_type": "stream",
          "name": "stdout",
          "text": [
            "MoviePy - Done.\n",
            "✅ Converted sample_267.mp4 → sample_267.wav\n",
            "MoviePy - Writing audio in /content/drive/My Drive/Hammering_Test/Good_Data_2/converted_wav/sample_268.wav\n"
          ]
        },
        {
          "output_type": "stream",
          "name": "stderr",
          "text": [
            "                                                                    "
          ]
        },
        {
          "output_type": "stream",
          "name": "stdout",
          "text": [
            "MoviePy - Done.\n",
            "✅ Converted sample_268.mp4 → sample_268.wav\n"
          ]
        },
        {
          "output_type": "stream",
          "name": "stderr",
          "text": [
            "\r"
          ]
        },
        {
          "output_type": "stream",
          "name": "stdout",
          "text": [
            "MoviePy - Writing audio in /content/drive/My Drive/Hammering_Test/Good_Data_2/converted_wav/sample_269.wav\n"
          ]
        },
        {
          "output_type": "stream",
          "name": "stderr",
          "text": []
        },
        {
          "output_type": "stream",
          "name": "stdout",
          "text": [
            "MoviePy - Done.\n",
            "✅ Converted sample_269.mp4 → sample_269.wav\n",
            "MoviePy - Writing audio in /content/drive/My Drive/Hammering_Test/Good_Data_2/converted_wav/sample_270.wav\n"
          ]
        },
        {
          "output_type": "stream",
          "name": "stderr",
          "text": [
            "                                                                    "
          ]
        },
        {
          "output_type": "stream",
          "name": "stdout",
          "text": [
            "MoviePy - Done.\n",
            "✅ Converted sample_270.mp4 → sample_270.wav\n"
          ]
        },
        {
          "output_type": "stream",
          "name": "stderr",
          "text": [
            "\r"
          ]
        },
        {
          "output_type": "stream",
          "name": "stdout",
          "text": [
            "MoviePy - Writing audio in /content/drive/My Drive/Hammering_Test/Good_Data_2/converted_wav/sample_271.wav\n"
          ]
        },
        {
          "output_type": "stream",
          "name": "stderr",
          "text": [
            "                                                        "
          ]
        },
        {
          "output_type": "stream",
          "name": "stdout",
          "text": [
            "MoviePy - Done.\n",
            "✅ Converted sample_271.mp4 → sample_271.wav\n"
          ]
        },
        {
          "output_type": "stream",
          "name": "stderr",
          "text": [
            "\r"
          ]
        },
        {
          "output_type": "stream",
          "name": "stdout",
          "text": [
            "MoviePy - Writing audio in /content/drive/My Drive/Hammering_Test/Good_Data_2/converted_wav/sample_272.wav\n"
          ]
        },
        {
          "output_type": "stream",
          "name": "stderr",
          "text": [
            "                                                        "
          ]
        },
        {
          "output_type": "stream",
          "name": "stdout",
          "text": [
            "MoviePy - Done.\n",
            "✅ Converted sample_272.mp4 → sample_272.wav\n"
          ]
        },
        {
          "output_type": "stream",
          "name": "stderr",
          "text": [
            "\r"
          ]
        },
        {
          "output_type": "stream",
          "name": "stdout",
          "text": [
            "MoviePy - Writing audio in /content/drive/My Drive/Hammering_Test/Good_Data_2/converted_wav/sample_273.wav\n"
          ]
        },
        {
          "output_type": "stream",
          "name": "stderr",
          "text": [
            "                                                                    "
          ]
        },
        {
          "output_type": "stream",
          "name": "stdout",
          "text": [
            "MoviePy - Done.\n",
            "✅ Converted sample_273.mp4 → sample_273.wav\n"
          ]
        },
        {
          "output_type": "stream",
          "name": "stderr",
          "text": [
            "\r"
          ]
        },
        {
          "output_type": "stream",
          "name": "stdout",
          "text": [
            "MoviePy - Writing audio in /content/drive/My Drive/Hammering_Test/Good_Data_2/converted_wav/sample_274.wav\n"
          ]
        },
        {
          "output_type": "stream",
          "name": "stderr",
          "text": [
            "                                                                    "
          ]
        },
        {
          "output_type": "stream",
          "name": "stdout",
          "text": [
            "MoviePy - Done.\n",
            "✅ Converted sample_274.mp4 → sample_274.wav\n"
          ]
        },
        {
          "output_type": "stream",
          "name": "stderr",
          "text": [
            "\r"
          ]
        },
        {
          "output_type": "stream",
          "name": "stdout",
          "text": [
            "MoviePy - Writing audio in /content/drive/My Drive/Hammering_Test/Good_Data_2/converted_wav/sample_275.wav\n"
          ]
        },
        {
          "output_type": "stream",
          "name": "stderr",
          "text": []
        },
        {
          "output_type": "stream",
          "name": "stdout",
          "text": [
            "MoviePy - Done.\n",
            "✅ Converted sample_275.mp4 → sample_275.wav\n",
            "MoviePy - Writing audio in /content/drive/My Drive/Hammering_Test/Good_Data_2/converted_wav/sample_276.wav\n"
          ]
        },
        {
          "output_type": "stream",
          "name": "stderr",
          "text": []
        },
        {
          "output_type": "stream",
          "name": "stdout",
          "text": [
            "MoviePy - Done.\n",
            "✅ Converted sample_276.mp4 → sample_276.wav\n",
            "MoviePy - Writing audio in /content/drive/My Drive/Hammering_Test/Good_Data_2/converted_wav/sample_277.wav\n"
          ]
        },
        {
          "output_type": "stream",
          "name": "stderr",
          "text": []
        },
        {
          "output_type": "stream",
          "name": "stdout",
          "text": [
            "MoviePy - Done.\n",
            "✅ Converted sample_277.mp4 → sample_277.wav\n",
            "MoviePy - Writing audio in /content/drive/My Drive/Hammering_Test/Good_Data_2/converted_wav/sample_278.wav\n"
          ]
        },
        {
          "output_type": "stream",
          "name": "stderr",
          "text": [
            "                                                                   "
          ]
        },
        {
          "output_type": "stream",
          "name": "stdout",
          "text": [
            "MoviePy - Done.\n",
            "✅ Converted sample_278.mp4 → sample_278.wav\n"
          ]
        },
        {
          "output_type": "stream",
          "name": "stderr",
          "text": [
            "\r"
          ]
        },
        {
          "output_type": "stream",
          "name": "stdout",
          "text": [
            "MoviePy - Writing audio in /content/drive/My Drive/Hammering_Test/Good_Data_2/converted_wav/sample_279.wav\n"
          ]
        },
        {
          "output_type": "stream",
          "name": "stderr",
          "text": [
            "                                                                  "
          ]
        },
        {
          "output_type": "stream",
          "name": "stdout",
          "text": [
            "MoviePy - Done.\n",
            "✅ Converted sample_279.mp4 → sample_279.wav\n"
          ]
        },
        {
          "output_type": "stream",
          "name": "stderr",
          "text": [
            "\r"
          ]
        },
        {
          "output_type": "stream",
          "name": "stdout",
          "text": [
            "MoviePy - Writing audio in /content/drive/My Drive/Hammering_Test/Good_Data_2/converted_wav/sample_280.wav\n"
          ]
        },
        {
          "output_type": "stream",
          "name": "stderr",
          "text": []
        },
        {
          "output_type": "stream",
          "name": "stdout",
          "text": [
            "MoviePy - Done.\n",
            "✅ Converted sample_280.mp4 → sample_280.wav\n",
            "MoviePy - Writing audio in /content/drive/My Drive/Hammering_Test/Good_Data_2/converted_wav/sample_281.wav\n"
          ]
        },
        {
          "output_type": "stream",
          "name": "stderr",
          "text": []
        },
        {
          "output_type": "stream",
          "name": "stdout",
          "text": [
            "MoviePy - Done.\n",
            "✅ Converted sample_281.mp4 → sample_281.wav\n",
            "MoviePy - Writing audio in /content/drive/My Drive/Hammering_Test/Good_Data_2/converted_wav/sample_282.wav\n"
          ]
        },
        {
          "output_type": "stream",
          "name": "stderr",
          "text": []
        },
        {
          "output_type": "stream",
          "name": "stdout",
          "text": [
            "MoviePy - Done.\n",
            "✅ Converted sample_282.mp4 → sample_282.wav\n",
            "MoviePy - Writing audio in /content/drive/My Drive/Hammering_Test/Good_Data_2/converted_wav/sample_283.wav\n"
          ]
        },
        {
          "output_type": "stream",
          "name": "stderr",
          "text": [
            "                                                                    "
          ]
        },
        {
          "output_type": "stream",
          "name": "stdout",
          "text": [
            "MoviePy - Done.\n",
            "✅ Converted sample_283.mp4 → sample_283.wav\n"
          ]
        },
        {
          "output_type": "stream",
          "name": "stderr",
          "text": [
            "\r"
          ]
        },
        {
          "output_type": "stream",
          "name": "stdout",
          "text": [
            "MoviePy - Writing audio in /content/drive/My Drive/Hammering_Test/Good_Data_2/converted_wav/sample_284.wav\n"
          ]
        },
        {
          "output_type": "stream",
          "name": "stderr",
          "text": [
            "                                                                   "
          ]
        },
        {
          "output_type": "stream",
          "name": "stdout",
          "text": [
            "MoviePy - Done.\n",
            "✅ Converted sample_284.mp4 → sample_284.wav\n"
          ]
        },
        {
          "output_type": "stream",
          "name": "stderr",
          "text": [
            "\r"
          ]
        },
        {
          "output_type": "stream",
          "name": "stdout",
          "text": [
            "MoviePy - Writing audio in /content/drive/My Drive/Hammering_Test/Good_Data_2/converted_wav/sample_285.wav\n"
          ]
        },
        {
          "output_type": "stream",
          "name": "stderr",
          "text": [
            "                                                                    "
          ]
        },
        {
          "output_type": "stream",
          "name": "stdout",
          "text": [
            "MoviePy - Done.\n",
            "✅ Converted sample_285.mp4 → sample_285.wav\n"
          ]
        },
        {
          "output_type": "stream",
          "name": "stderr",
          "text": [
            "\r"
          ]
        },
        {
          "output_type": "stream",
          "name": "stdout",
          "text": [
            "MoviePy - Writing audio in /content/drive/My Drive/Hammering_Test/Good_Data_2/converted_wav/sample_286.wav\n"
          ]
        },
        {
          "output_type": "stream",
          "name": "stderr",
          "text": []
        },
        {
          "output_type": "stream",
          "name": "stdout",
          "text": [
            "MoviePy - Done.\n",
            "✅ Converted sample_286.mp4 → sample_286.wav\n",
            "MoviePy - Writing audio in /content/drive/My Drive/Hammering_Test/Good_Data_2/converted_wav/sample_287.wav\n"
          ]
        },
        {
          "output_type": "stream",
          "name": "stderr",
          "text": [
            "                                                                    "
          ]
        },
        {
          "output_type": "stream",
          "name": "stdout",
          "text": [
            "MoviePy - Done.\n",
            "✅ Converted sample_287.mp4 → sample_287.wav\n"
          ]
        },
        {
          "output_type": "stream",
          "name": "stderr",
          "text": [
            "\r"
          ]
        },
        {
          "output_type": "stream",
          "name": "stdout",
          "text": [
            "MoviePy - Writing audio in /content/drive/My Drive/Hammering_Test/Good_Data_2/converted_wav/sample_288.wav\n"
          ]
        },
        {
          "output_type": "stream",
          "name": "stderr",
          "text": [
            "                                                                    "
          ]
        },
        {
          "output_type": "stream",
          "name": "stdout",
          "text": [
            "MoviePy - Done.\n",
            "✅ Converted sample_288.mp4 → sample_288.wav\n"
          ]
        },
        {
          "output_type": "stream",
          "name": "stderr",
          "text": [
            "\r"
          ]
        },
        {
          "output_type": "stream",
          "name": "stdout",
          "text": [
            "MoviePy - Writing audio in /content/drive/My Drive/Hammering_Test/Good_Data_2/converted_wav/sample_289.wav\n"
          ]
        },
        {
          "output_type": "stream",
          "name": "stderr",
          "text": [
            "                                                                   "
          ]
        },
        {
          "output_type": "stream",
          "name": "stdout",
          "text": [
            "MoviePy - Done.\n",
            "✅ Converted sample_289.mp4 → sample_289.wav\n"
          ]
        },
        {
          "output_type": "stream",
          "name": "stderr",
          "text": [
            "\r"
          ]
        },
        {
          "output_type": "stream",
          "name": "stdout",
          "text": [
            "MoviePy - Writing audio in /content/drive/My Drive/Hammering_Test/Good_Data_2/converted_wav/sample_290.wav\n"
          ]
        },
        {
          "output_type": "stream",
          "name": "stderr",
          "text": []
        },
        {
          "output_type": "stream",
          "name": "stdout",
          "text": [
            "MoviePy - Done.\n",
            "✅ Converted sample_290.mp4 → sample_290.wav\n",
            "MoviePy - Writing audio in /content/drive/My Drive/Hammering_Test/Good_Data_2/converted_wav/sample_291.wav\n"
          ]
        },
        {
          "output_type": "stream",
          "name": "stderr",
          "text": [
            "                                                                   "
          ]
        },
        {
          "output_type": "stream",
          "name": "stdout",
          "text": [
            "MoviePy - Done.\n",
            "✅ Converted sample_291.mp4 → sample_291.wav\n"
          ]
        },
        {
          "output_type": "stream",
          "name": "stderr",
          "text": [
            "\r"
          ]
        },
        {
          "output_type": "stream",
          "name": "stdout",
          "text": [
            "MoviePy - Writing audio in /content/drive/My Drive/Hammering_Test/Good_Data_2/converted_wav/sample_292.wav\n"
          ]
        },
        {
          "output_type": "stream",
          "name": "stderr",
          "text": []
        },
        {
          "output_type": "stream",
          "name": "stdout",
          "text": [
            "MoviePy - Done.\n",
            "✅ Converted sample_292.mp4 → sample_292.wav\n",
            "MoviePy - Writing audio in /content/drive/My Drive/Hammering_Test/Good_Data_2/converted_wav/sample_293.wav\n"
          ]
        },
        {
          "output_type": "stream",
          "name": "stderr",
          "text": []
        },
        {
          "output_type": "stream",
          "name": "stdout",
          "text": [
            "MoviePy - Done.\n",
            "✅ Converted sample_293.mp4 → sample_293.wav\n",
            "MoviePy - Writing audio in /content/drive/My Drive/Hammering_Test/Good_Data_2/converted_wav/sample_294.wav\n"
          ]
        },
        {
          "output_type": "stream",
          "name": "stderr",
          "text": []
        },
        {
          "output_type": "stream",
          "name": "stdout",
          "text": [
            "MoviePy - Done.\n",
            "✅ Converted sample_294.mp4 → sample_294.wav\n",
            "MoviePy - Writing audio in /content/drive/My Drive/Hammering_Test/Good_Data_2/converted_wav/sample_295.wav\n"
          ]
        },
        {
          "output_type": "stream",
          "name": "stderr",
          "text": [
            "                                                                    "
          ]
        },
        {
          "output_type": "stream",
          "name": "stdout",
          "text": [
            "MoviePy - Done.\n",
            "✅ Converted sample_295.mp4 → sample_295.wav\n"
          ]
        },
        {
          "output_type": "stream",
          "name": "stderr",
          "text": [
            "\r"
          ]
        },
        {
          "output_type": "stream",
          "name": "stdout",
          "text": [
            "MoviePy - Writing audio in /content/drive/My Drive/Hammering_Test/Good_Data_2/converted_wav/sample_296.wav\n"
          ]
        },
        {
          "output_type": "stream",
          "name": "stderr",
          "text": [
            "                                                        "
          ]
        },
        {
          "output_type": "stream",
          "name": "stdout",
          "text": [
            "MoviePy - Done.\n",
            "✅ Converted sample_296.mp4 → sample_296.wav\n"
          ]
        },
        {
          "output_type": "stream",
          "name": "stderr",
          "text": [
            "\r"
          ]
        },
        {
          "output_type": "stream",
          "name": "stdout",
          "text": [
            "MoviePy - Writing audio in /content/drive/My Drive/Hammering_Test/Good_Data_2/converted_wav/sample_297.wav\n"
          ]
        },
        {
          "output_type": "stream",
          "name": "stderr",
          "text": [
            "                                                        "
          ]
        },
        {
          "output_type": "stream",
          "name": "stdout",
          "text": [
            "MoviePy - Done.\n",
            "✅ Converted sample_297.mp4 → sample_297.wav\n"
          ]
        },
        {
          "output_type": "stream",
          "name": "stderr",
          "text": [
            "\r"
          ]
        },
        {
          "output_type": "stream",
          "name": "stdout",
          "text": [
            "MoviePy - Writing audio in /content/drive/My Drive/Hammering_Test/Good_Data_2/converted_wav/sample_298.wav\n"
          ]
        },
        {
          "output_type": "stream",
          "name": "stderr",
          "text": [
            "                                                                    "
          ]
        },
        {
          "output_type": "stream",
          "name": "stdout",
          "text": [
            "MoviePy - Done.\n",
            "✅ Converted sample_298.mp4 → sample_298.wav\n"
          ]
        },
        {
          "output_type": "stream",
          "name": "stderr",
          "text": [
            "\r"
          ]
        },
        {
          "output_type": "stream",
          "name": "stdout",
          "text": [
            "MoviePy - Writing audio in /content/drive/My Drive/Hammering_Test/Good_Data_2/converted_wav/sample_299.wav\n"
          ]
        },
        {
          "output_type": "stream",
          "name": "stderr",
          "text": [
            "                                                        "
          ]
        },
        {
          "output_type": "stream",
          "name": "stdout",
          "text": [
            "MoviePy - Done.\n",
            "✅ Converted sample_299.mp4 → sample_299.wav\n"
          ]
        },
        {
          "output_type": "stream",
          "name": "stderr",
          "text": [
            "\r"
          ]
        },
        {
          "output_type": "stream",
          "name": "stdout",
          "text": [
            "MoviePy - Writing audio in /content/drive/My Drive/Hammering_Test/Good_Data_2/converted_wav/sample_300.wav\n"
          ]
        },
        {
          "output_type": "stream",
          "name": "stderr",
          "text": [
            "                                                                   "
          ]
        },
        {
          "output_type": "stream",
          "name": "stdout",
          "text": [
            "MoviePy - Done.\n",
            "✅ Converted sample_300.mp4 → sample_300.wav\n"
          ]
        },
        {
          "output_type": "stream",
          "name": "stderr",
          "text": [
            "\r"
          ]
        },
        {
          "output_type": "stream",
          "name": "stdout",
          "text": [
            "MoviePy - Writing audio in /content/drive/My Drive/Hammering_Test/Good_Data_2/converted_wav/sample_301.wav\n"
          ]
        },
        {
          "output_type": "stream",
          "name": "stderr",
          "text": [
            "                                                                   "
          ]
        },
        {
          "output_type": "stream",
          "name": "stdout",
          "text": [
            "MoviePy - Done.\n",
            "✅ Converted sample_301.mp4 → sample_301.wav\n"
          ]
        },
        {
          "output_type": "stream",
          "name": "stderr",
          "text": [
            "\r"
          ]
        },
        {
          "output_type": "stream",
          "name": "stdout",
          "text": [
            "MoviePy - Writing audio in /content/drive/My Drive/Hammering_Test/Good_Data_2/converted_wav/sample_302.wav\n"
          ]
        },
        {
          "output_type": "stream",
          "name": "stderr",
          "text": [
            "                                                        "
          ]
        },
        {
          "output_type": "stream",
          "name": "stdout",
          "text": [
            "MoviePy - Done.\n",
            "✅ Converted sample_302.mp4 → sample_302.wav\n"
          ]
        },
        {
          "output_type": "stream",
          "name": "stderr",
          "text": [
            "\r"
          ]
        },
        {
          "output_type": "stream",
          "name": "stdout",
          "text": [
            "MoviePy - Writing audio in /content/drive/My Drive/Hammering_Test/Good_Data_2/converted_wav/sample_303.wav\n"
          ]
        },
        {
          "output_type": "stream",
          "name": "stderr",
          "text": [
            "                                                        "
          ]
        },
        {
          "output_type": "stream",
          "name": "stdout",
          "text": [
            "MoviePy - Done.\n",
            "✅ Converted sample_303.mp4 → sample_303.wav\n"
          ]
        },
        {
          "output_type": "stream",
          "name": "stderr",
          "text": [
            "\r"
          ]
        },
        {
          "output_type": "stream",
          "name": "stdout",
          "text": [
            "MoviePy - Writing audio in /content/drive/My Drive/Hammering_Test/Good_Data_2/converted_wav/sample_304.wav\n"
          ]
        },
        {
          "output_type": "stream",
          "name": "stderr",
          "text": [
            "                                                        "
          ]
        },
        {
          "output_type": "stream",
          "name": "stdout",
          "text": [
            "MoviePy - Done.\n",
            "✅ Converted sample_304.mp4 → sample_304.wav\n"
          ]
        },
        {
          "output_type": "stream",
          "name": "stderr",
          "text": [
            "\r"
          ]
        },
        {
          "output_type": "stream",
          "name": "stdout",
          "text": [
            "MoviePy - Writing audio in /content/drive/My Drive/Hammering_Test/Good_Data_2/converted_wav/sample_305.wav\n"
          ]
        },
        {
          "output_type": "stream",
          "name": "stderr",
          "text": [
            "                                                        "
          ]
        },
        {
          "output_type": "stream",
          "name": "stdout",
          "text": [
            "MoviePy - Done.\n",
            "✅ Converted sample_305.mp4 → sample_305.wav\n"
          ]
        },
        {
          "output_type": "stream",
          "name": "stderr",
          "text": [
            "\r"
          ]
        },
        {
          "output_type": "stream",
          "name": "stdout",
          "text": [
            "MoviePy - Writing audio in /content/drive/My Drive/Hammering_Test/Good_Data_2/converted_wav/sample_306.wav\n"
          ]
        },
        {
          "output_type": "stream",
          "name": "stderr",
          "text": [
            "                                                                   "
          ]
        },
        {
          "output_type": "stream",
          "name": "stdout",
          "text": [
            "MoviePy - Done.\n",
            "✅ Converted sample_306.mp4 → sample_306.wav\n"
          ]
        },
        {
          "output_type": "stream",
          "name": "stderr",
          "text": [
            "\r"
          ]
        },
        {
          "output_type": "stream",
          "name": "stdout",
          "text": [
            "MoviePy - Writing audio in /content/drive/My Drive/Hammering_Test/Good_Data_2/converted_wav/sample_307.wav\n"
          ]
        },
        {
          "output_type": "stream",
          "name": "stderr",
          "text": []
        },
        {
          "output_type": "stream",
          "name": "stdout",
          "text": [
            "MoviePy - Done.\n",
            "✅ Converted sample_307.mp4 → sample_307.wav\n",
            "MoviePy - Writing audio in /content/drive/My Drive/Hammering_Test/Good_Data_2/converted_wav/sample_308.wav\n"
          ]
        },
        {
          "output_type": "stream",
          "name": "stderr",
          "text": []
        },
        {
          "output_type": "stream",
          "name": "stdout",
          "text": [
            "MoviePy - Done.\n",
            "✅ Converted sample_308.mp4 → sample_308.wav\n",
            "MoviePy - Writing audio in /content/drive/My Drive/Hammering_Test/Good_Data_2/converted_wav/sample_309.wav\n"
          ]
        },
        {
          "output_type": "stream",
          "name": "stderr",
          "text": []
        },
        {
          "output_type": "stream",
          "name": "stdout",
          "text": [
            "MoviePy - Done.\n",
            "✅ Converted sample_309.mp4 → sample_309.wav\n",
            "MoviePy - Writing audio in /content/drive/My Drive/Hammering_Test/Good_Data_2/converted_wav/sample_310.wav\n"
          ]
        },
        {
          "output_type": "stream",
          "name": "stderr",
          "text": []
        },
        {
          "output_type": "stream",
          "name": "stdout",
          "text": [
            "MoviePy - Done.\n",
            "✅ Converted sample_310.mp4 → sample_310.wav\n",
            "MoviePy - Writing audio in /content/drive/My Drive/Hammering_Test/Good_Data_2/converted_wav/sample_311.wav\n"
          ]
        },
        {
          "output_type": "stream",
          "name": "stderr",
          "text": []
        },
        {
          "output_type": "stream",
          "name": "stdout",
          "text": [
            "MoviePy - Done.\n",
            "✅ Converted sample_311.mp4 → sample_311.wav\n",
            "MoviePy - Writing audio in /content/drive/My Drive/Hammering_Test/Good_Data_2/converted_wav/sample_312.wav\n"
          ]
        },
        {
          "output_type": "stream",
          "name": "stderr",
          "text": [
            "                                                                    "
          ]
        },
        {
          "output_type": "stream",
          "name": "stdout",
          "text": [
            "MoviePy - Done.\n",
            "✅ Converted sample_312.mp4 → sample_312.wav\n"
          ]
        },
        {
          "output_type": "stream",
          "name": "stderr",
          "text": [
            "\r"
          ]
        },
        {
          "output_type": "stream",
          "name": "stdout",
          "text": [
            "MoviePy - Writing audio in /content/drive/My Drive/Hammering_Test/Good_Data_2/converted_wav/sample_313.wav\n"
          ]
        },
        {
          "output_type": "stream",
          "name": "stderr",
          "text": [
            "                                                                   "
          ]
        },
        {
          "output_type": "stream",
          "name": "stdout",
          "text": [
            "MoviePy - Done.\n",
            "✅ Converted sample_313.mp4 → sample_313.wav\n"
          ]
        },
        {
          "output_type": "stream",
          "name": "stderr",
          "text": [
            "\r"
          ]
        },
        {
          "output_type": "stream",
          "name": "stdout",
          "text": [
            "MoviePy - Writing audio in /content/drive/My Drive/Hammering_Test/Good_Data_2/converted_wav/sample_314.wav\n"
          ]
        },
        {
          "output_type": "stream",
          "name": "stderr",
          "text": []
        },
        {
          "output_type": "stream",
          "name": "stdout",
          "text": [
            "MoviePy - Done.\n",
            "✅ Converted sample_314.mp4 → sample_314.wav\n",
            "MoviePy - Writing audio in /content/drive/My Drive/Hammering_Test/Good_Data_2/converted_wav/sample_315.wav\n"
          ]
        },
        {
          "output_type": "stream",
          "name": "stderr",
          "text": [
            "                                                                   "
          ]
        },
        {
          "output_type": "stream",
          "name": "stdout",
          "text": [
            "MoviePy - Done.\n",
            "✅ Converted sample_315.mp4 → sample_315.wav\n"
          ]
        },
        {
          "output_type": "stream",
          "name": "stderr",
          "text": [
            "\r"
          ]
        },
        {
          "output_type": "stream",
          "name": "stdout",
          "text": [
            "MoviePy - Writing audio in /content/drive/My Drive/Hammering_Test/Good_Data_2/converted_wav/sample_316.wav\n"
          ]
        },
        {
          "output_type": "stream",
          "name": "stderr",
          "text": [
            "                                                                   "
          ]
        },
        {
          "output_type": "stream",
          "name": "stdout",
          "text": [
            "MoviePy - Done.\n",
            "✅ Converted sample_316.mp4 → sample_316.wav\n"
          ]
        },
        {
          "output_type": "stream",
          "name": "stderr",
          "text": [
            "\r"
          ]
        },
        {
          "output_type": "stream",
          "name": "stdout",
          "text": [
            "MoviePy - Writing audio in /content/drive/My Drive/Hammering_Test/Good_Data_2/converted_wav/sample_317.wav\n"
          ]
        },
        {
          "output_type": "stream",
          "name": "stderr",
          "text": []
        },
        {
          "output_type": "stream",
          "name": "stdout",
          "text": [
            "MoviePy - Done.\n",
            "✅ Converted sample_317.mp4 → sample_317.wav\n",
            "MoviePy - Writing audio in /content/drive/My Drive/Hammering_Test/Good_Data_2/converted_wav/sample_318.wav\n"
          ]
        },
        {
          "output_type": "stream",
          "name": "stderr",
          "text": []
        },
        {
          "output_type": "stream",
          "name": "stdout",
          "text": [
            "MoviePy - Done.\n",
            "✅ Converted sample_318.mp4 → sample_318.wav\n",
            "MoviePy - Writing audio in /content/drive/My Drive/Hammering_Test/Good_Data_2/converted_wav/sample_319.wav\n"
          ]
        },
        {
          "output_type": "stream",
          "name": "stderr",
          "text": []
        },
        {
          "output_type": "stream",
          "name": "stdout",
          "text": [
            "MoviePy - Done.\n",
            "✅ Converted sample_319.mp4 → sample_319.wav\n",
            "MoviePy - Writing audio in /content/drive/My Drive/Hammering_Test/Good_Data_2/converted_wav/sample_320.wav\n"
          ]
        },
        {
          "output_type": "stream",
          "name": "stderr",
          "text": []
        },
        {
          "output_type": "stream",
          "name": "stdout",
          "text": [
            "MoviePy - Done.\n",
            "✅ Converted sample_320.mp4 → sample_320.wav\n",
            "MoviePy - Writing audio in /content/drive/My Drive/Hammering_Test/Good_Data_2/converted_wav/sample_321.wav\n"
          ]
        },
        {
          "output_type": "stream",
          "name": "stderr",
          "text": []
        },
        {
          "output_type": "stream",
          "name": "stdout",
          "text": [
            "MoviePy - Done.\n",
            "✅ Converted sample_321.mp4 → sample_321.wav\n",
            "MoviePy - Writing audio in /content/drive/My Drive/Hammering_Test/Good_Data_2/converted_wav/sample_322.wav\n"
          ]
        },
        {
          "output_type": "stream",
          "name": "stderr",
          "text": [
            "                                                        "
          ]
        },
        {
          "output_type": "stream",
          "name": "stdout",
          "text": [
            "MoviePy - Done.\n",
            "✅ Converted sample_322.mp4 → sample_322.wav\n"
          ]
        },
        {
          "output_type": "stream",
          "name": "stderr",
          "text": [
            "\r"
          ]
        },
        {
          "output_type": "stream",
          "name": "stdout",
          "text": [
            "MoviePy - Writing audio in /content/drive/My Drive/Hammering_Test/Good_Data_2/converted_wav/sample_323.wav\n"
          ]
        },
        {
          "output_type": "stream",
          "name": "stderr",
          "text": [
            "                                                                    "
          ]
        },
        {
          "output_type": "stream",
          "name": "stdout",
          "text": [
            "MoviePy - Done.\n",
            "✅ Converted sample_323.mp4 → sample_323.wav\n"
          ]
        },
        {
          "output_type": "stream",
          "name": "stderr",
          "text": [
            "\r"
          ]
        },
        {
          "output_type": "stream",
          "name": "stdout",
          "text": [
            "MoviePy - Writing audio in /content/drive/My Drive/Hammering_Test/Good_Data_2/converted_wav/sample_324.wav\n"
          ]
        },
        {
          "output_type": "stream",
          "name": "stderr",
          "text": [
            "                                                        "
          ]
        },
        {
          "output_type": "stream",
          "name": "stdout",
          "text": [
            "MoviePy - Done.\n",
            "✅ Converted sample_324.mp4 → sample_324.wav\n"
          ]
        },
        {
          "output_type": "stream",
          "name": "stderr",
          "text": [
            "\r"
          ]
        },
        {
          "output_type": "stream",
          "name": "stdout",
          "text": [
            "MoviePy - Writing audio in /content/drive/My Drive/Hammering_Test/Good_Data_2/converted_wav/sample_325.wav\n"
          ]
        },
        {
          "output_type": "stream",
          "name": "stderr",
          "text": [
            "                                                        "
          ]
        },
        {
          "output_type": "stream",
          "name": "stdout",
          "text": [
            "MoviePy - Done.\n",
            "✅ Converted sample_325.mp4 → sample_325.wav\n"
          ]
        },
        {
          "output_type": "stream",
          "name": "stderr",
          "text": [
            "\r"
          ]
        },
        {
          "output_type": "stream",
          "name": "stdout",
          "text": [
            "MoviePy - Writing audio in /content/drive/My Drive/Hammering_Test/Good_Data_2/converted_wav/sample_326.wav\n"
          ]
        },
        {
          "output_type": "stream",
          "name": "stderr",
          "text": [
            "                                                                    "
          ]
        },
        {
          "output_type": "stream",
          "name": "stdout",
          "text": [
            "MoviePy - Done.\n",
            "✅ Converted sample_326.mp4 → sample_326.wav\n"
          ]
        },
        {
          "output_type": "stream",
          "name": "stderr",
          "text": [
            "\r"
          ]
        },
        {
          "output_type": "stream",
          "name": "stdout",
          "text": [
            "MoviePy - Writing audio in /content/drive/My Drive/Hammering_Test/Good_Data_2/converted_wav/sample_327.wav\n"
          ]
        },
        {
          "output_type": "stream",
          "name": "stderr",
          "text": [
            "                                                                    "
          ]
        },
        {
          "output_type": "stream",
          "name": "stdout",
          "text": [
            "MoviePy - Done.\n",
            "✅ Converted sample_327.mp4 → sample_327.wav\n"
          ]
        },
        {
          "output_type": "stream",
          "name": "stderr",
          "text": [
            "\r"
          ]
        },
        {
          "output_type": "stream",
          "name": "stdout",
          "text": [
            "MoviePy - Writing audio in /content/drive/My Drive/Hammering_Test/Good_Data_2/converted_wav/sample_328.wav\n"
          ]
        },
        {
          "output_type": "stream",
          "name": "stderr",
          "text": [
            "                                                                   "
          ]
        },
        {
          "output_type": "stream",
          "name": "stdout",
          "text": [
            "MoviePy - Done.\n",
            "✅ Converted sample_328.mp4 → sample_328.wav\n"
          ]
        },
        {
          "output_type": "stream",
          "name": "stderr",
          "text": [
            "\r"
          ]
        },
        {
          "output_type": "stream",
          "name": "stdout",
          "text": [
            "MoviePy - Writing audio in /content/drive/My Drive/Hammering_Test/Good_Data_2/converted_wav/sample_329.wav\n"
          ]
        },
        {
          "output_type": "stream",
          "name": "stderr",
          "text": [
            "                                                                   "
          ]
        },
        {
          "output_type": "stream",
          "name": "stdout",
          "text": [
            "MoviePy - Done.\n",
            "✅ Converted sample_329.mp4 → sample_329.wav\n"
          ]
        },
        {
          "output_type": "stream",
          "name": "stderr",
          "text": [
            "\r"
          ]
        },
        {
          "output_type": "stream",
          "name": "stdout",
          "text": [
            "MoviePy - Writing audio in /content/drive/My Drive/Hammering_Test/Good_Data_2/converted_wav/sample_330.wav\n"
          ]
        },
        {
          "output_type": "stream",
          "name": "stderr",
          "text": [
            "                                                        "
          ]
        },
        {
          "output_type": "stream",
          "name": "stdout",
          "text": [
            "MoviePy - Done.\n",
            "✅ Converted sample_330.mp4 → sample_330.wav\n"
          ]
        },
        {
          "output_type": "stream",
          "name": "stderr",
          "text": [
            "\r"
          ]
        },
        {
          "output_type": "stream",
          "name": "stdout",
          "text": [
            "MoviePy - Writing audio in /content/drive/My Drive/Hammering_Test/Good_Data_2/converted_wav/sample_331.wav\n"
          ]
        },
        {
          "output_type": "stream",
          "name": "stderr",
          "text": [
            "                                                                   "
          ]
        },
        {
          "output_type": "stream",
          "name": "stdout",
          "text": [
            "MoviePy - Done.\n",
            "✅ Converted sample_331.mp4 → sample_331.wav\n"
          ]
        },
        {
          "output_type": "stream",
          "name": "stderr",
          "text": [
            "\r"
          ]
        },
        {
          "output_type": "stream",
          "name": "stdout",
          "text": [
            "MoviePy - Writing audio in /content/drive/My Drive/Hammering_Test/Good_Data_2/converted_wav/sample_332.wav\n"
          ]
        },
        {
          "output_type": "stream",
          "name": "stderr",
          "text": []
        },
        {
          "output_type": "stream",
          "name": "stdout",
          "text": [
            "MoviePy - Done.\n",
            "✅ Converted sample_332.mp4 → sample_332.wav\n",
            "MoviePy - Writing audio in /content/drive/My Drive/Hammering_Test/Good_Data_2/converted_wav/sample_333.wav\n"
          ]
        },
        {
          "output_type": "stream",
          "name": "stderr",
          "text": []
        },
        {
          "output_type": "stream",
          "name": "stdout",
          "text": [
            "MoviePy - Done.\n",
            "✅ Converted sample_333.mp4 → sample_333.wav\n",
            "MoviePy - Writing audio in /content/drive/My Drive/Hammering_Test/Good_Data_2/converted_wav/sample_334.wav\n"
          ]
        },
        {
          "output_type": "stream",
          "name": "stderr",
          "text": []
        },
        {
          "output_type": "stream",
          "name": "stdout",
          "text": [
            "MoviePy - Done.\n",
            "✅ Converted sample_334.mp4 → sample_334.wav\n",
            "MoviePy - Writing audio in /content/drive/My Drive/Hammering_Test/Good_Data_2/converted_wav/sample_335.wav\n"
          ]
        },
        {
          "output_type": "stream",
          "name": "stderr",
          "text": []
        },
        {
          "output_type": "stream",
          "name": "stdout",
          "text": [
            "MoviePy - Done.\n",
            "✅ Converted sample_335.mp4 → sample_335.wav\n",
            "MoviePy - Writing audio in /content/drive/My Drive/Hammering_Test/Good_Data_2/converted_wav/sample_336.wav\n"
          ]
        },
        {
          "output_type": "stream",
          "name": "stderr",
          "text": []
        },
        {
          "output_type": "stream",
          "name": "stdout",
          "text": [
            "MoviePy - Done.\n",
            "✅ Converted sample_336.mp4 → sample_336.wav\n",
            "MoviePy - Writing audio in /content/drive/My Drive/Hammering_Test/Good_Data_2/converted_wav/sample_337.wav\n"
          ]
        },
        {
          "output_type": "stream",
          "name": "stderr",
          "text": [
            "                                                                    "
          ]
        },
        {
          "output_type": "stream",
          "name": "stdout",
          "text": [
            "MoviePy - Done.\n",
            "✅ Converted sample_337.mp4 → sample_337.wav\n"
          ]
        },
        {
          "output_type": "stream",
          "name": "stderr",
          "text": [
            "\r"
          ]
        },
        {
          "output_type": "stream",
          "name": "stdout",
          "text": [
            "MoviePy - Writing audio in /content/drive/My Drive/Hammering_Test/Good_Data_2/converted_wav/sample_338.wav\n"
          ]
        },
        {
          "output_type": "stream",
          "name": "stderr",
          "text": [
            "                                                                    "
          ]
        },
        {
          "output_type": "stream",
          "name": "stdout",
          "text": [
            "MoviePy - Done.\n",
            "✅ Converted sample_338.mp4 → sample_338.wav\n"
          ]
        },
        {
          "output_type": "stream",
          "name": "stderr",
          "text": [
            "\r"
          ]
        },
        {
          "output_type": "stream",
          "name": "stdout",
          "text": [
            "MoviePy - Writing audio in /content/drive/My Drive/Hammering_Test/Good_Data_2/converted_wav/sample_339.wav\n"
          ]
        },
        {
          "output_type": "stream",
          "name": "stderr",
          "text": [
            "                                                        "
          ]
        },
        {
          "output_type": "stream",
          "name": "stdout",
          "text": [
            "MoviePy - Done.\n",
            "✅ Converted sample_339.mp4 → sample_339.wav\n"
          ]
        },
        {
          "output_type": "stream",
          "name": "stderr",
          "text": [
            "\r"
          ]
        },
        {
          "output_type": "stream",
          "name": "stdout",
          "text": [
            "MoviePy - Writing audio in /content/drive/My Drive/Hammering_Test/Good_Data_2/converted_wav/sample_340.wav\n"
          ]
        },
        {
          "output_type": "stream",
          "name": "stderr",
          "text": [
            "                                                        "
          ]
        },
        {
          "output_type": "stream",
          "name": "stdout",
          "text": [
            "MoviePy - Done.\n",
            "✅ Converted sample_340.mp4 → sample_340.wav\n"
          ]
        },
        {
          "output_type": "stream",
          "name": "stderr",
          "text": [
            "\r"
          ]
        },
        {
          "output_type": "stream",
          "name": "stdout",
          "text": [
            "MoviePy - Writing audio in /content/drive/My Drive/Hammering_Test/Good_Data_2/converted_wav/sample_341.wav\n"
          ]
        },
        {
          "output_type": "stream",
          "name": "stderr",
          "text": [
            "                                                                    "
          ]
        },
        {
          "output_type": "stream",
          "name": "stdout",
          "text": [
            "MoviePy - Done.\n",
            "✅ Converted sample_341.mp4 → sample_341.wav\n"
          ]
        },
        {
          "output_type": "stream",
          "name": "stderr",
          "text": [
            "\r"
          ]
        },
        {
          "output_type": "stream",
          "name": "stdout",
          "text": [
            "MoviePy - Writing audio in /content/drive/My Drive/Hammering_Test/Good_Data_2/converted_wav/sample_342.wav\n"
          ]
        },
        {
          "output_type": "stream",
          "name": "stderr",
          "text": [
            "                                                                   "
          ]
        },
        {
          "output_type": "stream",
          "name": "stdout",
          "text": [
            "MoviePy - Done.\n",
            "✅ Converted sample_342.mp4 → sample_342.wav\n"
          ]
        },
        {
          "output_type": "stream",
          "name": "stderr",
          "text": [
            "\r"
          ]
        },
        {
          "output_type": "stream",
          "name": "stdout",
          "text": [
            "MoviePy - Writing audio in /content/drive/My Drive/Hammering_Test/Good_Data_2/converted_wav/sample_343.wav\n"
          ]
        },
        {
          "output_type": "stream",
          "name": "stderr",
          "text": [
            "                                                        "
          ]
        },
        {
          "output_type": "stream",
          "name": "stdout",
          "text": [
            "MoviePy - Done.\n",
            "✅ Converted sample_343.mp4 → sample_343.wav\n"
          ]
        },
        {
          "output_type": "stream",
          "name": "stderr",
          "text": [
            "\r"
          ]
        },
        {
          "output_type": "stream",
          "name": "stdout",
          "text": [
            "MoviePy - Writing audio in /content/drive/My Drive/Hammering_Test/Good_Data_2/converted_wav/sample_344.wav\n"
          ]
        },
        {
          "output_type": "stream",
          "name": "stderr",
          "text": [
            "                                                                   "
          ]
        },
        {
          "output_type": "stream",
          "name": "stdout",
          "text": [
            "MoviePy - Done.\n",
            "✅ Converted sample_344.mp4 → sample_344.wav\n"
          ]
        },
        {
          "output_type": "stream",
          "name": "stderr",
          "text": [
            "\r"
          ]
        },
        {
          "output_type": "stream",
          "name": "stdout",
          "text": [
            "MoviePy - Writing audio in /content/drive/My Drive/Hammering_Test/Good_Data_2/converted_wav/sample_345.wav\n"
          ]
        },
        {
          "output_type": "stream",
          "name": "stderr",
          "text": [
            "                                                                    "
          ]
        },
        {
          "output_type": "stream",
          "name": "stdout",
          "text": [
            "MoviePy - Done.\n",
            "✅ Converted sample_345.mp4 → sample_345.wav\n"
          ]
        },
        {
          "output_type": "stream",
          "name": "stderr",
          "text": [
            "\r"
          ]
        },
        {
          "output_type": "stream",
          "name": "stdout",
          "text": [
            "MoviePy - Writing audio in /content/drive/My Drive/Hammering_Test/Good_Data_2/converted_wav/sample_346.wav\n"
          ]
        },
        {
          "output_type": "stream",
          "name": "stderr",
          "text": [
            "                                                                  "
          ]
        },
        {
          "output_type": "stream",
          "name": "stdout",
          "text": [
            "MoviePy - Done.\n",
            "✅ Converted sample_346.mp4 → sample_346.wav\n"
          ]
        },
        {
          "output_type": "stream",
          "name": "stderr",
          "text": [
            "\r"
          ]
        },
        {
          "output_type": "stream",
          "name": "stdout",
          "text": [
            "MoviePy - Writing audio in /content/drive/My Drive/Hammering_Test/Good_Data_2/converted_wav/sample_347.wav\n"
          ]
        },
        {
          "output_type": "stream",
          "name": "stderr",
          "text": [
            "                                                                    "
          ]
        },
        {
          "output_type": "stream",
          "name": "stdout",
          "text": [
            "MoviePy - Done.\n",
            "✅ Converted sample_347.mp4 → sample_347.wav\n"
          ]
        },
        {
          "output_type": "stream",
          "name": "stderr",
          "text": [
            "\r"
          ]
        },
        {
          "output_type": "stream",
          "name": "stdout",
          "text": [
            "MoviePy - Writing audio in /content/drive/My Drive/Hammering_Test/Good_Data_2/converted_wav/sample_348.wav\n"
          ]
        },
        {
          "output_type": "stream",
          "name": "stderr",
          "text": [
            "                                                        "
          ]
        },
        {
          "output_type": "stream",
          "name": "stdout",
          "text": [
            "MoviePy - Done.\n",
            "✅ Converted sample_348.mp4 → sample_348.wav\n"
          ]
        },
        {
          "output_type": "stream",
          "name": "stderr",
          "text": [
            "\r"
          ]
        },
        {
          "output_type": "stream",
          "name": "stdout",
          "text": [
            "MoviePy - Writing audio in /content/drive/My Drive/Hammering_Test/Good_Data_2/converted_wav/sample_349.wav\n"
          ]
        },
        {
          "output_type": "stream",
          "name": "stderr",
          "text": [
            "                                                        "
          ]
        },
        {
          "output_type": "stream",
          "name": "stdout",
          "text": [
            "MoviePy - Done.\n",
            "✅ Converted sample_349.mp4 → sample_349.wav\n"
          ]
        },
        {
          "output_type": "stream",
          "name": "stderr",
          "text": [
            "\r"
          ]
        },
        {
          "output_type": "stream",
          "name": "stdout",
          "text": [
            "MoviePy - Writing audio in /content/drive/My Drive/Hammering_Test/Good_Data_2/converted_wav/sample_350.wav\n"
          ]
        },
        {
          "output_type": "stream",
          "name": "stderr",
          "text": [
            "                                                                    "
          ]
        },
        {
          "output_type": "stream",
          "name": "stdout",
          "text": [
            "MoviePy - Done.\n",
            "✅ Converted sample_350.mp4 → sample_350.wav\n"
          ]
        },
        {
          "output_type": "stream",
          "name": "stderr",
          "text": [
            "\r"
          ]
        },
        {
          "output_type": "stream",
          "name": "stdout",
          "text": [
            "MoviePy - Writing audio in /content/drive/My Drive/Hammering_Test/Good_Data_2/converted_wav/sample_351.wav\n"
          ]
        },
        {
          "output_type": "stream",
          "name": "stderr",
          "text": []
        },
        {
          "output_type": "stream",
          "name": "stdout",
          "text": [
            "MoviePy - Done.\n",
            "✅ Converted sample_351.mp4 → sample_351.wav\n",
            "MoviePy - Writing audio in /content/drive/My Drive/Hammering_Test/Good_Data_2/converted_wav/sample_352.wav\n"
          ]
        },
        {
          "output_type": "stream",
          "name": "stderr",
          "text": []
        },
        {
          "output_type": "stream",
          "name": "stdout",
          "text": [
            "MoviePy - Done.\n",
            "✅ Converted sample_352.mp4 → sample_352.wav\n",
            "MoviePy - Writing audio in /content/drive/My Drive/Hammering_Test/Good_Data_2/converted_wav/sample_353.wav\n"
          ]
        },
        {
          "output_type": "stream",
          "name": "stderr",
          "text": []
        },
        {
          "output_type": "stream",
          "name": "stdout",
          "text": [
            "MoviePy - Done.\n",
            "✅ Converted sample_353.mp4 → sample_353.wav\n",
            "MoviePy - Writing audio in /content/drive/My Drive/Hammering_Test/Good_Data_2/converted_wav/sample_354.wav\n"
          ]
        },
        {
          "output_type": "stream",
          "name": "stderr",
          "text": [
            "                                                                   "
          ]
        },
        {
          "output_type": "stream",
          "name": "stdout",
          "text": [
            "MoviePy - Done.\n",
            "✅ Converted sample_354.mp4 → sample_354.wav\n"
          ]
        },
        {
          "output_type": "stream",
          "name": "stderr",
          "text": [
            "\r"
          ]
        },
        {
          "output_type": "stream",
          "name": "stdout",
          "text": [
            "MoviePy - Writing audio in /content/drive/My Drive/Hammering_Test/Good_Data_2/converted_wav/sample_355.wav\n"
          ]
        },
        {
          "output_type": "stream",
          "name": "stderr",
          "text": []
        },
        {
          "output_type": "stream",
          "name": "stdout",
          "text": [
            "MoviePy - Done.\n",
            "✅ Converted sample_355.mp4 → sample_355.wav\n",
            "MoviePy - Writing audio in /content/drive/My Drive/Hammering_Test/Good_Data_2/converted_wav/sample_356.wav\n"
          ]
        },
        {
          "output_type": "stream",
          "name": "stderr",
          "text": [
            "                                                                  "
          ]
        },
        {
          "output_type": "stream",
          "name": "stdout",
          "text": [
            "MoviePy - Done.\n",
            "✅ Converted sample_356.mp4 → sample_356.wav\n"
          ]
        },
        {
          "output_type": "stream",
          "name": "stderr",
          "text": [
            "\r"
          ]
        },
        {
          "output_type": "stream",
          "name": "stdout",
          "text": [
            "MoviePy - Writing audio in /content/drive/My Drive/Hammering_Test/Good_Data_2/converted_wav/sample_357.wav\n"
          ]
        },
        {
          "output_type": "stream",
          "name": "stderr",
          "text": [
            "                                                                    "
          ]
        },
        {
          "output_type": "stream",
          "name": "stdout",
          "text": [
            "MoviePy - Done.\n",
            "✅ Converted sample_357.mp4 → sample_357.wav\n"
          ]
        },
        {
          "output_type": "stream",
          "name": "stderr",
          "text": [
            "\r"
          ]
        },
        {
          "output_type": "stream",
          "name": "stdout",
          "text": [
            "MoviePy - Writing audio in /content/drive/My Drive/Hammering_Test/Good_Data_2/converted_wav/sample_358.wav\n"
          ]
        },
        {
          "output_type": "stream",
          "name": "stderr",
          "text": [
            "                                                                    "
          ]
        },
        {
          "output_type": "stream",
          "name": "stdout",
          "text": [
            "MoviePy - Done.\n",
            "✅ Converted sample_358.mp4 → sample_358.wav\n"
          ]
        },
        {
          "output_type": "stream",
          "name": "stderr",
          "text": [
            "\r"
          ]
        },
        {
          "output_type": "stream",
          "name": "stdout",
          "text": [
            "MoviePy - Writing audio in /content/drive/My Drive/Hammering_Test/Good_Data_2/converted_wav/sample_359.wav\n"
          ]
        },
        {
          "output_type": "stream",
          "name": "stderr",
          "text": [
            "                                                                  "
          ]
        },
        {
          "output_type": "stream",
          "name": "stdout",
          "text": [
            "MoviePy - Done."
          ]
        },
        {
          "output_type": "stream",
          "name": "stderr",
          "text": [
            "\r"
          ]
        },
        {
          "output_type": "stream",
          "name": "stdout",
          "text": [
            "\n",
            "✅ Converted sample_359.mp4 → sample_359.wav\n",
            "MoviePy - Writing audio in /content/drive/My Drive/Hammering_Test/Good_Data_2/converted_wav/sample_360.wav\n"
          ]
        },
        {
          "output_type": "stream",
          "name": "stderr",
          "text": [
            "                                                        "
          ]
        },
        {
          "output_type": "stream",
          "name": "stdout",
          "text": [
            "MoviePy - Done.\n",
            "✅ Converted sample_360.mp4 → sample_360.wav\n"
          ]
        },
        {
          "output_type": "stream",
          "name": "stderr",
          "text": [
            "\r"
          ]
        },
        {
          "output_type": "stream",
          "name": "stdout",
          "text": [
            "MoviePy - Writing audio in /content/drive/My Drive/Hammering_Test/Good_Data_2/converted_wav/sample_361.wav\n"
          ]
        },
        {
          "output_type": "stream",
          "name": "stderr",
          "text": [
            "                                                        "
          ]
        },
        {
          "output_type": "stream",
          "name": "stdout",
          "text": [
            "MoviePy - Done.\n",
            "✅ Converted sample_361.mp4 → sample_361.wav\n"
          ]
        },
        {
          "output_type": "stream",
          "name": "stderr",
          "text": [
            "\r"
          ]
        },
        {
          "output_type": "stream",
          "name": "stdout",
          "text": [
            "MoviePy - Writing audio in /content/drive/My Drive/Hammering_Test/Good_Data_2/converted_wav/sample_362.wav\n"
          ]
        },
        {
          "output_type": "stream",
          "name": "stderr",
          "text": []
        },
        {
          "output_type": "stream",
          "name": "stdout",
          "text": [
            "MoviePy - Done.\n",
            "✅ Converted sample_362.mp4 → sample_362.wav\n",
            "MoviePy - Writing audio in /content/drive/My Drive/Hammering_Test/Good_Data_2/converted_wav/sample_363.wav\n"
          ]
        },
        {
          "output_type": "stream",
          "name": "stderr",
          "text": [
            "                                                                    "
          ]
        },
        {
          "output_type": "stream",
          "name": "stdout",
          "text": [
            "MoviePy - Done.\n",
            "✅ Converted sample_363.mp4 → sample_363.wav\n"
          ]
        },
        {
          "output_type": "stream",
          "name": "stderr",
          "text": [
            "\r"
          ]
        },
        {
          "output_type": "stream",
          "name": "stdout",
          "text": [
            "MoviePy - Writing audio in /content/drive/My Drive/Hammering_Test/Good_Data_2/converted_wav/sample_364.wav\n"
          ]
        },
        {
          "output_type": "stream",
          "name": "stderr",
          "text": []
        },
        {
          "output_type": "stream",
          "name": "stdout",
          "text": [
            "MoviePy - Done.\n",
            "✅ Converted sample_364.mp4 → sample_364.wav\n",
            "MoviePy - Writing audio in /content/drive/My Drive/Hammering_Test/Good_Data_2/converted_wav/sample_365.wav\n"
          ]
        },
        {
          "output_type": "stream",
          "name": "stderr",
          "text": []
        },
        {
          "output_type": "stream",
          "name": "stdout",
          "text": [
            "MoviePy - Done.\n",
            "✅ Converted sample_365.mp4 → sample_365.wav\n",
            "MoviePy - Writing audio in /content/drive/My Drive/Hammering_Test/Good_Data_2/converted_wav/sample_366.wav\n"
          ]
        },
        {
          "output_type": "stream",
          "name": "stderr",
          "text": []
        },
        {
          "output_type": "stream",
          "name": "stdout",
          "text": [
            "MoviePy - Done.\n",
            "✅ Converted sample_366.mp4 → sample_366.wav\n",
            "MoviePy - Writing audio in /content/drive/My Drive/Hammering_Test/Good_Data_2/converted_wav/sample_367.wav\n"
          ]
        },
        {
          "output_type": "stream",
          "name": "stderr",
          "text": []
        },
        {
          "output_type": "stream",
          "name": "stdout",
          "text": [
            "MoviePy - Done.\n",
            "✅ Converted sample_367.mp4 → sample_367.wav\n",
            "MoviePy - Writing audio in /content/drive/My Drive/Hammering_Test/Good_Data_2/converted_wav/sample_368.wav\n"
          ]
        },
        {
          "output_type": "stream",
          "name": "stderr",
          "text": []
        },
        {
          "output_type": "stream",
          "name": "stdout",
          "text": [
            "MoviePy - Done.\n",
            "✅ Converted sample_368.mp4 → sample_368.wav\n",
            "MoviePy - Writing audio in /content/drive/My Drive/Hammering_Test/Good_Data_2/converted_wav/sample_369.wav\n"
          ]
        },
        {
          "output_type": "stream",
          "name": "stderr",
          "text": [
            "                                                                    "
          ]
        },
        {
          "output_type": "stream",
          "name": "stdout",
          "text": [
            "MoviePy - Done.\n",
            "✅ Converted sample_369.mp4 → sample_369.wav\n"
          ]
        },
        {
          "output_type": "stream",
          "name": "stderr",
          "text": [
            "\r"
          ]
        },
        {
          "output_type": "stream",
          "name": "stdout",
          "text": [
            "MoviePy - Writing audio in /content/drive/My Drive/Hammering_Test/Good_Data_2/converted_wav/sample_370.wav\n"
          ]
        },
        {
          "output_type": "stream",
          "name": "stderr",
          "text": [
            "                                                                  "
          ]
        },
        {
          "output_type": "stream",
          "name": "stdout",
          "text": [
            "MoviePy - Done.\n",
            "✅ Converted sample_370.mp4 → sample_370.wav\n"
          ]
        },
        {
          "output_type": "stream",
          "name": "stderr",
          "text": [
            "\r"
          ]
        },
        {
          "output_type": "stream",
          "name": "stdout",
          "text": [
            "MoviePy - Writing audio in /content/drive/My Drive/Hammering_Test/Good_Data_2/converted_wav/sample_371.wav\n"
          ]
        },
        {
          "output_type": "stream",
          "name": "stderr",
          "text": [
            "                                                                   "
          ]
        },
        {
          "output_type": "stream",
          "name": "stdout",
          "text": [
            "MoviePy - Done.\n",
            "✅ Converted sample_371.mp4 → sample_371.wav\n"
          ]
        },
        {
          "output_type": "stream",
          "name": "stderr",
          "text": [
            "\r"
          ]
        },
        {
          "output_type": "stream",
          "name": "stdout",
          "text": [
            "MoviePy - Writing audio in /content/drive/My Drive/Hammering_Test/Good_Data_2/converted_wav/sample_372.wav\n"
          ]
        },
        {
          "output_type": "stream",
          "name": "stderr",
          "text": [
            "                                                                   "
          ]
        },
        {
          "output_type": "stream",
          "name": "stdout",
          "text": [
            "MoviePy - Done.\n",
            "✅ Converted sample_372.mp4 → sample_372.wav\n"
          ]
        },
        {
          "output_type": "stream",
          "name": "stderr",
          "text": [
            "\r"
          ]
        },
        {
          "output_type": "stream",
          "name": "stdout",
          "text": [
            "MoviePy - Writing audio in /content/drive/My Drive/Hammering_Test/Good_Data_2/converted_wav/sample_373.wav\n"
          ]
        },
        {
          "output_type": "stream",
          "name": "stderr",
          "text": [
            "                                                        "
          ]
        },
        {
          "output_type": "stream",
          "name": "stdout",
          "text": [
            "MoviePy - Done.\n",
            "✅ Converted sample_373.mp4 → sample_373.wav\n"
          ]
        },
        {
          "output_type": "stream",
          "name": "stderr",
          "text": [
            "\r"
          ]
        },
        {
          "output_type": "stream",
          "name": "stdout",
          "text": [
            "MoviePy - Writing audio in /content/drive/My Drive/Hammering_Test/Good_Data_2/converted_wav/sample_374.wav\n"
          ]
        },
        {
          "output_type": "stream",
          "name": "stderr",
          "text": []
        },
        {
          "output_type": "stream",
          "name": "stdout",
          "text": [
            "MoviePy - Done.\n",
            "✅ Converted sample_374.mp4 → sample_374.wav\n",
            "MoviePy - Writing audio in /content/drive/My Drive/Hammering_Test/Good_Data_2/converted_wav/sample_375.wav\n"
          ]
        },
        {
          "output_type": "stream",
          "name": "stderr",
          "text": [
            "                                                        "
          ]
        },
        {
          "output_type": "stream",
          "name": "stdout",
          "text": [
            "MoviePy - Done.\n",
            "✅ Converted sample_375.mp4 → sample_375.wav\n"
          ]
        },
        {
          "output_type": "stream",
          "name": "stderr",
          "text": [
            "\r"
          ]
        },
        {
          "output_type": "stream",
          "name": "stdout",
          "text": [
            "MoviePy - Writing audio in /content/drive/My Drive/Hammering_Test/Good_Data_2/converted_wav/sample_376.wav\n"
          ]
        },
        {
          "output_type": "stream",
          "name": "stderr",
          "text": [
            "                                                                   "
          ]
        },
        {
          "output_type": "stream",
          "name": "stdout",
          "text": [
            "MoviePy - Done.\n",
            "✅ Converted sample_376.mp4 → sample_376.wav\n"
          ]
        },
        {
          "output_type": "stream",
          "name": "stderr",
          "text": [
            "\r"
          ]
        },
        {
          "output_type": "stream",
          "name": "stdout",
          "text": [
            "MoviePy - Writing audio in /content/drive/My Drive/Hammering_Test/Good_Data_2/converted_wav/sample_377.wav\n"
          ]
        },
        {
          "output_type": "stream",
          "name": "stderr",
          "text": [
            "                                                                    "
          ]
        },
        {
          "output_type": "stream",
          "name": "stdout",
          "text": [
            "MoviePy - Done.\n",
            "✅ Converted sample_377.mp4 → sample_377.wav\n"
          ]
        },
        {
          "output_type": "stream",
          "name": "stderr",
          "text": [
            "\r"
          ]
        },
        {
          "output_type": "stream",
          "name": "stdout",
          "text": [
            "MoviePy - Writing audio in /content/drive/My Drive/Hammering_Test/Good_Data_2/converted_wav/sample_378.wav\n"
          ]
        },
        {
          "output_type": "stream",
          "name": "stderr",
          "text": []
        },
        {
          "output_type": "stream",
          "name": "stdout",
          "text": [
            "MoviePy - Done.\n",
            "✅ Converted sample_378.mp4 → sample_378.wav\n",
            "MoviePy - Writing audio in /content/drive/My Drive/Hammering_Test/Good_Data_2/converted_wav/sample_379.wav\n"
          ]
        },
        {
          "output_type": "stream",
          "name": "stderr",
          "text": []
        },
        {
          "output_type": "stream",
          "name": "stdout",
          "text": [
            "MoviePy - Done.\n",
            "✅ Converted sample_379.mp4 → sample_379.wav\n",
            "MoviePy - Writing audio in /content/drive/My Drive/Hammering_Test/Good_Data_2/converted_wav/sample_380.wav\n"
          ]
        },
        {
          "output_type": "stream",
          "name": "stderr",
          "text": []
        },
        {
          "output_type": "stream",
          "name": "stdout",
          "text": [
            "MoviePy - Done.\n",
            "✅ Converted sample_380.mp4 → sample_380.wav\n",
            "MoviePy - Writing audio in /content/drive/My Drive/Hammering_Test/Good_Data_2/converted_wav/sample_381.wav\n"
          ]
        },
        {
          "output_type": "stream",
          "name": "stderr",
          "text": [
            "                                                                  "
          ]
        },
        {
          "output_type": "stream",
          "name": "stdout",
          "text": [
            "MoviePy - Done.\n",
            "✅ Converted sample_381.mp4 → sample_381.wav\n"
          ]
        },
        {
          "output_type": "stream",
          "name": "stderr",
          "text": [
            "\r"
          ]
        },
        {
          "output_type": "stream",
          "name": "stdout",
          "text": [
            "MoviePy - Writing audio in /content/drive/My Drive/Hammering_Test/Good_Data_2/converted_wav/sample_382.wav\n"
          ]
        },
        {
          "output_type": "stream",
          "name": "stderr",
          "text": []
        },
        {
          "output_type": "stream",
          "name": "stdout",
          "text": [
            "MoviePy - Done.\n",
            "✅ Converted sample_382.mp4 → sample_382.wav\n",
            "MoviePy - Writing audio in /content/drive/My Drive/Hammering_Test/Good_Data_2/converted_wav/sample_383.wav\n"
          ]
        },
        {
          "output_type": "stream",
          "name": "stderr",
          "text": [
            "                                                                    "
          ]
        },
        {
          "output_type": "stream",
          "name": "stdout",
          "text": [
            "MoviePy - Done.\n",
            "✅ Converted sample_383.mp4 → sample_383.wav\n"
          ]
        },
        {
          "output_type": "stream",
          "name": "stderr",
          "text": [
            "\r"
          ]
        },
        {
          "output_type": "stream",
          "name": "stdout",
          "text": [
            "MoviePy - Writing audio in /content/drive/My Drive/Hammering_Test/Good_Data_2/converted_wav/sample_384.wav\n"
          ]
        },
        {
          "output_type": "stream",
          "name": "stderr",
          "text": [
            "                                                                    "
          ]
        },
        {
          "output_type": "stream",
          "name": "stdout",
          "text": [
            "MoviePy - Done.\n",
            "✅ Converted sample_384.mp4 → sample_384.wav\n"
          ]
        },
        {
          "output_type": "stream",
          "name": "stderr",
          "text": [
            "\r"
          ]
        },
        {
          "output_type": "stream",
          "name": "stdout",
          "text": [
            "MoviePy - Writing audio in /content/drive/My Drive/Hammering_Test/Good_Data_2/converted_wav/sample_385.wav\n"
          ]
        },
        {
          "output_type": "stream",
          "name": "stderr",
          "text": [
            "                                                        "
          ]
        },
        {
          "output_type": "stream",
          "name": "stdout",
          "text": [
            "MoviePy - Done.\n",
            "✅ Converted sample_385.mp4 → sample_385.wav\n"
          ]
        },
        {
          "output_type": "stream",
          "name": "stderr",
          "text": [
            "\r"
          ]
        },
        {
          "output_type": "stream",
          "name": "stdout",
          "text": [
            "MoviePy - Writing audio in /content/drive/My Drive/Hammering_Test/Good_Data_2/converted_wav/sample_386.wav\n"
          ]
        },
        {
          "output_type": "stream",
          "name": "stderr",
          "text": [
            "                                                                    "
          ]
        },
        {
          "output_type": "stream",
          "name": "stdout",
          "text": [
            "MoviePy - Done.\n",
            "✅ Converted sample_386.mp4 → sample_386.wav\n"
          ]
        },
        {
          "output_type": "stream",
          "name": "stderr",
          "text": [
            "\r"
          ]
        },
        {
          "output_type": "stream",
          "name": "stdout",
          "text": [
            "MoviePy - Writing audio in /content/drive/My Drive/Hammering_Test/Good_Data_2/converted_wav/sample_387.wav\n"
          ]
        },
        {
          "output_type": "stream",
          "name": "stderr",
          "text": [
            "                                                        "
          ]
        },
        {
          "output_type": "stream",
          "name": "stdout",
          "text": [
            "MoviePy - Done.\n",
            "✅ Converted sample_387.mp4 → sample_387.wav\n"
          ]
        },
        {
          "output_type": "stream",
          "name": "stderr",
          "text": [
            "\r"
          ]
        },
        {
          "output_type": "stream",
          "name": "stdout",
          "text": [
            "MoviePy - Writing audio in /content/drive/My Drive/Hammering_Test/Good_Data_2/converted_wav/sample_388.wav\n"
          ]
        },
        {
          "output_type": "stream",
          "name": "stderr",
          "text": [
            "                                                        "
          ]
        },
        {
          "output_type": "stream",
          "name": "stdout",
          "text": [
            "MoviePy - Done.\n",
            "✅ Converted sample_388.mp4 → sample_388.wav\n"
          ]
        },
        {
          "output_type": "stream",
          "name": "stderr",
          "text": [
            "\r"
          ]
        },
        {
          "output_type": "stream",
          "name": "stdout",
          "text": [
            "MoviePy - Writing audio in /content/drive/My Drive/Hammering_Test/Good_Data_2/converted_wav/sample_389.wav\n"
          ]
        },
        {
          "output_type": "stream",
          "name": "stderr",
          "text": [
            "                                                        "
          ]
        },
        {
          "output_type": "stream",
          "name": "stdout",
          "text": [
            "MoviePy - Done.\n",
            "✅ Converted sample_389.mp4 → sample_389.wav\n"
          ]
        },
        {
          "output_type": "stream",
          "name": "stderr",
          "text": [
            "\r"
          ]
        },
        {
          "output_type": "stream",
          "name": "stdout",
          "text": [
            "MoviePy - Writing audio in /content/drive/My Drive/Hammering_Test/Good_Data_2/converted_wav/sample_390.wav\n"
          ]
        },
        {
          "output_type": "stream",
          "name": "stderr",
          "text": [
            "                                                        "
          ]
        },
        {
          "output_type": "stream",
          "name": "stdout",
          "text": [
            "MoviePy - Done.\n",
            "✅ Converted sample_390.mp4 → sample_390.wav\n"
          ]
        },
        {
          "output_type": "stream",
          "name": "stderr",
          "text": [
            "\r"
          ]
        },
        {
          "output_type": "stream",
          "name": "stdout",
          "text": [
            "MoviePy - Writing audio in /content/drive/My Drive/Hammering_Test/Good_Data_2/converted_wav/sample_391.wav\n"
          ]
        },
        {
          "output_type": "stream",
          "name": "stderr",
          "text": [
            "                                                        "
          ]
        },
        {
          "output_type": "stream",
          "name": "stdout",
          "text": [
            "MoviePy - Done.\n",
            "✅ Converted sample_391.mp4 → sample_391.wav\n"
          ]
        },
        {
          "output_type": "stream",
          "name": "stderr",
          "text": [
            "\r"
          ]
        },
        {
          "output_type": "stream",
          "name": "stdout",
          "text": [
            "MoviePy - Writing audio in /content/drive/My Drive/Hammering_Test/Good_Data_2/converted_wav/sample_392.wav\n"
          ]
        },
        {
          "output_type": "stream",
          "name": "stderr",
          "text": [
            "                                                        "
          ]
        },
        {
          "output_type": "stream",
          "name": "stdout",
          "text": [
            "MoviePy - Done.\n",
            "✅ Converted sample_392.mp4 → sample_392.wav\n"
          ]
        },
        {
          "output_type": "stream",
          "name": "stderr",
          "text": [
            "\r"
          ]
        },
        {
          "output_type": "stream",
          "name": "stdout",
          "text": [
            "MoviePy - Writing audio in /content/drive/My Drive/Hammering_Test/Good_Data_2/converted_wav/sample_393.wav\n"
          ]
        },
        {
          "output_type": "stream",
          "name": "stderr",
          "text": [
            "                                                        "
          ]
        },
        {
          "output_type": "stream",
          "name": "stdout",
          "text": [
            "MoviePy - Done.\n",
            "✅ Converted sample_393.mp4 → sample_393.wav\n"
          ]
        },
        {
          "output_type": "stream",
          "name": "stderr",
          "text": [
            "\r"
          ]
        },
        {
          "output_type": "stream",
          "name": "stdout",
          "text": [
            "MoviePy - Writing audio in /content/drive/My Drive/Hammering_Test/Good_Data_2/converted_wav/sample_394.wav\n"
          ]
        },
        {
          "output_type": "stream",
          "name": "stderr",
          "text": []
        },
        {
          "output_type": "stream",
          "name": "stdout",
          "text": [
            "MoviePy - Done.\n",
            "✅ Converted sample_394.mp4 → sample_394.wav\n",
            "MoviePy - Writing audio in /content/drive/My Drive/Hammering_Test/Good_Data_2/converted_wav/sample_395.wav\n"
          ]
        },
        {
          "output_type": "stream",
          "name": "stderr",
          "text": []
        },
        {
          "output_type": "stream",
          "name": "stdout",
          "text": [
            "MoviePy - Done.\n",
            "✅ Converted sample_395.mp4 → sample_395.wav\n",
            "MoviePy - Writing audio in /content/drive/My Drive/Hammering_Test/Good_Data_2/converted_wav/sample_396.wav\n"
          ]
        },
        {
          "output_type": "stream",
          "name": "stderr",
          "text": [
            "                                                        "
          ]
        },
        {
          "output_type": "stream",
          "name": "stdout",
          "text": [
            "MoviePy - Done.\n",
            "✅ Converted sample_396.mp4 → sample_396.wav\n"
          ]
        },
        {
          "output_type": "stream",
          "name": "stderr",
          "text": [
            "\r"
          ]
        },
        {
          "output_type": "stream",
          "name": "stdout",
          "text": [
            "MoviePy - Writing audio in /content/drive/My Drive/Hammering_Test/Good_Data_2/converted_wav/sample_397.wav\n"
          ]
        },
        {
          "output_type": "stream",
          "name": "stderr",
          "text": [
            "                                                        "
          ]
        },
        {
          "output_type": "stream",
          "name": "stdout",
          "text": [
            "MoviePy - Done.\n",
            "✅ Converted sample_397.mp4 → sample_397.wav\n"
          ]
        },
        {
          "output_type": "stream",
          "name": "stderr",
          "text": [
            "\r"
          ]
        },
        {
          "output_type": "stream",
          "name": "stdout",
          "text": [
            "MoviePy - Writing audio in /content/drive/My Drive/Hammering_Test/Good_Data_2/converted_wav/sample_398.wav\n"
          ]
        },
        {
          "output_type": "stream",
          "name": "stderr",
          "text": [
            "                                                                    "
          ]
        },
        {
          "output_type": "stream",
          "name": "stdout",
          "text": [
            "MoviePy - Done.\n",
            "✅ Converted sample_398.mp4 → sample_398.wav\n"
          ]
        },
        {
          "output_type": "stream",
          "name": "stderr",
          "text": [
            "\r"
          ]
        },
        {
          "output_type": "stream",
          "name": "stdout",
          "text": [
            "MoviePy - Writing audio in /content/drive/My Drive/Hammering_Test/Good_Data_2/converted_wav/sample_399.wav\n"
          ]
        },
        {
          "output_type": "stream",
          "name": "stderr",
          "text": [
            "                                                        "
          ]
        },
        {
          "output_type": "stream",
          "name": "stdout",
          "text": [
            "MoviePy - Done.\n",
            "✅ Converted sample_399.mp4 → sample_399.wav\n"
          ]
        },
        {
          "output_type": "stream",
          "name": "stderr",
          "text": [
            "\r"
          ]
        },
        {
          "output_type": "stream",
          "name": "stdout",
          "text": [
            "MoviePy - Writing audio in /content/drive/My Drive/Hammering_Test/Good_Data_2/converted_wav/sample_400.wav\n"
          ]
        },
        {
          "output_type": "stream",
          "name": "stderr",
          "text": [
            "                                                        "
          ]
        },
        {
          "output_type": "stream",
          "name": "stdout",
          "text": [
            "MoviePy - Done.\n",
            "✅ Converted sample_400.mp4 → sample_400.wav\n"
          ]
        },
        {
          "output_type": "stream",
          "name": "stderr",
          "text": [
            "\r"
          ]
        },
        {
          "output_type": "stream",
          "name": "stdout",
          "text": [
            "MoviePy - Writing audio in /content/drive/My Drive/Hammering_Test/Good_Data_2/converted_wav/sample_401.wav\n"
          ]
        },
        {
          "output_type": "stream",
          "name": "stderr",
          "text": [
            "                                                        "
          ]
        },
        {
          "output_type": "stream",
          "name": "stdout",
          "text": [
            "MoviePy - Done.\n",
            "✅ Converted sample_401.mp4 → sample_401.wav\n"
          ]
        },
        {
          "output_type": "stream",
          "name": "stderr",
          "text": [
            "\r"
          ]
        },
        {
          "output_type": "stream",
          "name": "stdout",
          "text": [
            "MoviePy - Writing audio in /content/drive/My Drive/Hammering_Test/Good_Data_2/converted_wav/sample_402.wav\n"
          ]
        },
        {
          "output_type": "stream",
          "name": "stderr",
          "text": [
            "                                                                    "
          ]
        },
        {
          "output_type": "stream",
          "name": "stdout",
          "text": [
            "MoviePy - Done.\n",
            "✅ Converted sample_402.mp4 → sample_402.wav\n"
          ]
        },
        {
          "output_type": "stream",
          "name": "stderr",
          "text": [
            "\r"
          ]
        },
        {
          "output_type": "stream",
          "name": "stdout",
          "text": [
            "MoviePy - Writing audio in /content/drive/My Drive/Hammering_Test/Good_Data_2/converted_wav/sample_403.wav\n"
          ]
        },
        {
          "output_type": "stream",
          "name": "stderr",
          "text": [
            "                                                                   "
          ]
        },
        {
          "output_type": "stream",
          "name": "stdout",
          "text": [
            "MoviePy - Done.\n",
            "✅ Converted sample_403.mp4 → sample_403.wav\n"
          ]
        },
        {
          "output_type": "stream",
          "name": "stderr",
          "text": [
            "\r"
          ]
        },
        {
          "output_type": "stream",
          "name": "stdout",
          "text": [
            "MoviePy - Writing audio in /content/drive/My Drive/Hammering_Test/Good_Data_2/converted_wav/sample_404.wav\n"
          ]
        },
        {
          "output_type": "stream",
          "name": "stderr",
          "text": [
            "                                                                   "
          ]
        },
        {
          "output_type": "stream",
          "name": "stdout",
          "text": [
            "MoviePy - Done.\n",
            "✅ Converted sample_404.mp4 → sample_404.wav\n"
          ]
        },
        {
          "output_type": "stream",
          "name": "stderr",
          "text": [
            "\r"
          ]
        },
        {
          "output_type": "stream",
          "name": "stdout",
          "text": [
            "MoviePy - Writing audio in /content/drive/My Drive/Hammering_Test/Good_Data_2/converted_wav/sample_405.wav\n"
          ]
        },
        {
          "output_type": "stream",
          "name": "stderr",
          "text": [
            "                                                        "
          ]
        },
        {
          "output_type": "stream",
          "name": "stdout",
          "text": [
            "MoviePy - Done.\n",
            "✅ Converted sample_405.mp4 → sample_405.wav\n"
          ]
        },
        {
          "output_type": "stream",
          "name": "stderr",
          "text": [
            "\r"
          ]
        },
        {
          "output_type": "stream",
          "name": "stdout",
          "text": [
            "MoviePy - Writing audio in /content/drive/My Drive/Hammering_Test/Good_Data_2/converted_wav/sample_406.wav\n"
          ]
        },
        {
          "output_type": "stream",
          "name": "stderr",
          "text": [
            "                                                        "
          ]
        },
        {
          "output_type": "stream",
          "name": "stdout",
          "text": [
            "MoviePy - Done.\n",
            "✅ Converted sample_406.mp4 → sample_406.wav\n"
          ]
        },
        {
          "output_type": "stream",
          "name": "stderr",
          "text": [
            "\r"
          ]
        },
        {
          "output_type": "stream",
          "name": "stdout",
          "text": [
            "MoviePy - Writing audio in /content/drive/My Drive/Hammering_Test/Good_Data_2/converted_wav/sample_407.wav\n"
          ]
        },
        {
          "output_type": "stream",
          "name": "stderr",
          "text": [
            "                                                                    "
          ]
        },
        {
          "output_type": "stream",
          "name": "stdout",
          "text": [
            "MoviePy - Done.\n",
            "✅ Converted sample_407.mp4 → sample_407.wav\n"
          ]
        },
        {
          "output_type": "stream",
          "name": "stderr",
          "text": [
            "\r"
          ]
        },
        {
          "output_type": "stream",
          "name": "stdout",
          "text": [
            "MoviePy - Writing audio in /content/drive/My Drive/Hammering_Test/Good_Data_2/converted_wav/sample_408.wav\n"
          ]
        },
        {
          "output_type": "stream",
          "name": "stderr",
          "text": []
        },
        {
          "output_type": "stream",
          "name": "stdout",
          "text": [
            "MoviePy - Done.\n",
            "✅ Converted sample_408.mp4 → sample_408.wav\n",
            "MoviePy - Writing audio in /content/drive/My Drive/Hammering_Test/Good_Data_2/converted_wav/sample_409.wav\n"
          ]
        },
        {
          "output_type": "stream",
          "name": "stderr",
          "text": []
        },
        {
          "output_type": "stream",
          "name": "stdout",
          "text": [
            "MoviePy - Done.\n",
            "✅ Converted sample_409.mp4 → sample_409.wav\n",
            "MoviePy - Writing audio in /content/drive/My Drive/Hammering_Test/Good_Data_2/converted_wav/sample_410.wav\n"
          ]
        },
        {
          "output_type": "stream",
          "name": "stderr",
          "text": []
        },
        {
          "output_type": "stream",
          "name": "stdout",
          "text": [
            "MoviePy - Done.\n",
            "✅ Converted sample_410.mp4 → sample_410.wav\n",
            "MoviePy - Writing audio in /content/drive/My Drive/Hammering_Test/Good_Data_2/converted_wav/sample_411.wav\n"
          ]
        },
        {
          "output_type": "stream",
          "name": "stderr",
          "text": []
        },
        {
          "output_type": "stream",
          "name": "stdout",
          "text": [
            "MoviePy - Done.\n",
            "✅ Converted sample_411.mp4 → sample_411.wav\n",
            "MoviePy - Writing audio in /content/drive/My Drive/Hammering_Test/Good_Data_2/converted_wav/sample_412.wav\n"
          ]
        },
        {
          "output_type": "stream",
          "name": "stderr",
          "text": [
            "                                                                  "
          ]
        },
        {
          "output_type": "stream",
          "name": "stdout",
          "text": [
            "MoviePy - Done.\n",
            "✅ Converted sample_412.mp4 → sample_412.wav\n"
          ]
        },
        {
          "output_type": "stream",
          "name": "stderr",
          "text": [
            "\r"
          ]
        },
        {
          "output_type": "stream",
          "name": "stdout",
          "text": [
            "MoviePy - Writing audio in /content/drive/My Drive/Hammering_Test/Good_Data_2/converted_wav/sample_413.wav\n"
          ]
        },
        {
          "output_type": "stream",
          "name": "stderr",
          "text": [
            "                                                                   "
          ]
        },
        {
          "output_type": "stream",
          "name": "stdout",
          "text": [
            "MoviePy - Done.\n",
            "✅ Converted sample_413.mp4 → sample_413.wav\n"
          ]
        },
        {
          "output_type": "stream",
          "name": "stderr",
          "text": [
            "\r"
          ]
        },
        {
          "output_type": "stream",
          "name": "stdout",
          "text": [
            "MoviePy - Writing audio in /content/drive/My Drive/Hammering_Test/Good_Data_2/converted_wav/sample_414.wav\n"
          ]
        },
        {
          "output_type": "stream",
          "name": "stderr",
          "text": [
            "                                                                   "
          ]
        },
        {
          "output_type": "stream",
          "name": "stdout",
          "text": [
            "MoviePy - Done.\n",
            "✅ Converted sample_414.mp4 → sample_414.wav\n"
          ]
        },
        {
          "output_type": "stream",
          "name": "stderr",
          "text": [
            "\r"
          ]
        },
        {
          "output_type": "stream",
          "name": "stdout",
          "text": [
            "MoviePy - Writing audio in /content/drive/My Drive/Hammering_Test/Good_Data_2/converted_wav/sample_415.wav\n"
          ]
        },
        {
          "output_type": "stream",
          "name": "stderr",
          "text": [
            "                                                                    "
          ]
        },
        {
          "output_type": "stream",
          "name": "stdout",
          "text": [
            "MoviePy - Done.\n",
            "✅ Converted sample_415.mp4 → sample_415.wav\n"
          ]
        },
        {
          "output_type": "stream",
          "name": "stderr",
          "text": [
            "\r"
          ]
        },
        {
          "output_type": "stream",
          "name": "stdout",
          "text": [
            "MoviePy - Writing audio in /content/drive/My Drive/Hammering_Test/Good_Data_2/converted_wav/sample_416.wav\n"
          ]
        },
        {
          "output_type": "stream",
          "name": "stderr",
          "text": [
            "                                                        "
          ]
        },
        {
          "output_type": "stream",
          "name": "stdout",
          "text": [
            "MoviePy - Done.\n",
            "✅ Converted sample_416.mp4 → sample_416.wav\n"
          ]
        },
        {
          "output_type": "stream",
          "name": "stderr",
          "text": [
            "\r"
          ]
        },
        {
          "output_type": "stream",
          "name": "stdout",
          "text": [
            "MoviePy - Writing audio in /content/drive/My Drive/Hammering_Test/Good_Data_2/converted_wav/sample_417.wav\n"
          ]
        },
        {
          "output_type": "stream",
          "name": "stderr",
          "text": []
        },
        {
          "output_type": "stream",
          "name": "stdout",
          "text": [
            "MoviePy - Done.\n",
            "✅ Converted sample_417.mp4 → sample_417.wav\n",
            "MoviePy - Writing audio in /content/drive/My Drive/Hammering_Test/Good_Data_2/converted_wav/sample_418.wav\n"
          ]
        },
        {
          "output_type": "stream",
          "name": "stderr",
          "text": [
            "                                                                    "
          ]
        },
        {
          "output_type": "stream",
          "name": "stdout",
          "text": [
            "MoviePy - Done.\n",
            "✅ Converted sample_418.mp4 → sample_418.wav\n"
          ]
        },
        {
          "output_type": "stream",
          "name": "stderr",
          "text": [
            "\r"
          ]
        },
        {
          "output_type": "stream",
          "name": "stdout",
          "text": [
            "MoviePy - Writing audio in /content/drive/My Drive/Hammering_Test/Good_Data_2/converted_wav/sample_419.wav\n"
          ]
        },
        {
          "output_type": "stream",
          "name": "stderr",
          "text": []
        },
        {
          "output_type": "stream",
          "name": "stdout",
          "text": [
            "MoviePy - Done.\n",
            "✅ Converted sample_419.mp4 → sample_419.wav\n",
            "MoviePy - Writing audio in /content/drive/My Drive/Hammering_Test/Good_Data_2/converted_wav/sample_420.wav\n"
          ]
        },
        {
          "output_type": "stream",
          "name": "stderr",
          "text": []
        },
        {
          "output_type": "stream",
          "name": "stdout",
          "text": [
            "MoviePy - Done.\n",
            "✅ Converted sample_420.mp4 → sample_420.wav\n",
            "MoviePy - Writing audio in /content/drive/My Drive/Hammering_Test/Good_Data_2/converted_wav/sample_421.wav\n"
          ]
        },
        {
          "output_type": "stream",
          "name": "stderr",
          "text": []
        },
        {
          "output_type": "stream",
          "name": "stdout",
          "text": [
            "MoviePy - Done.\n",
            "✅ Converted sample_421.mp4 → sample_421.wav\n",
            "MoviePy - Writing audio in /content/drive/My Drive/Hammering_Test/Good_Data_2/converted_wav/sample_422.wav\n"
          ]
        },
        {
          "output_type": "stream",
          "name": "stderr",
          "text": []
        },
        {
          "output_type": "stream",
          "name": "stdout",
          "text": [
            "MoviePy - Done.\n",
            "✅ Converted sample_422.mp4 → sample_422.wav\n",
            "MoviePy - Writing audio in /content/drive/My Drive/Hammering_Test/Good_Data_2/converted_wav/sample_423.wav\n"
          ]
        },
        {
          "output_type": "stream",
          "name": "stderr",
          "text": [
            "                                                        "
          ]
        },
        {
          "output_type": "stream",
          "name": "stdout",
          "text": [
            "MoviePy - Done.\n",
            "✅ Converted sample_423.mp4 → sample_423.wav\n"
          ]
        },
        {
          "output_type": "stream",
          "name": "stderr",
          "text": [
            "\r"
          ]
        },
        {
          "output_type": "stream",
          "name": "stdout",
          "text": [
            "MoviePy - Writing audio in /content/drive/My Drive/Hammering_Test/Good_Data_2/converted_wav/sample_424.wav\n"
          ]
        },
        {
          "output_type": "stream",
          "name": "stderr",
          "text": []
        },
        {
          "output_type": "stream",
          "name": "stdout",
          "text": [
            "MoviePy - Done.\n",
            "✅ Converted sample_424.mp4 → sample_424.wav\n",
            "MoviePy - Writing audio in /content/drive/My Drive/Hammering_Test/Good_Data_2/converted_wav/sample_425.wav\n"
          ]
        },
        {
          "output_type": "stream",
          "name": "stderr",
          "text": [
            "                                                                    "
          ]
        },
        {
          "output_type": "stream",
          "name": "stdout",
          "text": [
            "MoviePy - Done.\n",
            "✅ Converted sample_425.mp4 → sample_425.wav\n"
          ]
        },
        {
          "output_type": "stream",
          "name": "stderr",
          "text": [
            "\r"
          ]
        },
        {
          "output_type": "stream",
          "name": "stdout",
          "text": [
            "MoviePy - Writing audio in /content/drive/My Drive/Hammering_Test/Good_Data_2/converted_wav/sample_426.wav\n"
          ]
        },
        {
          "output_type": "stream",
          "name": "stderr",
          "text": [
            "                                                        "
          ]
        },
        {
          "output_type": "stream",
          "name": "stdout",
          "text": [
            "MoviePy - Done.\n",
            "✅ Converted sample_426.mp4 → sample_426.wav\n"
          ]
        },
        {
          "output_type": "stream",
          "name": "stderr",
          "text": [
            "\r"
          ]
        },
        {
          "output_type": "stream",
          "name": "stdout",
          "text": [
            "MoviePy - Writing audio in /content/drive/My Drive/Hammering_Test/Good_Data_2/converted_wav/sample_427.wav\n"
          ]
        },
        {
          "output_type": "stream",
          "name": "stderr",
          "text": [
            "                                                                   "
          ]
        },
        {
          "output_type": "stream",
          "name": "stdout",
          "text": [
            "MoviePy - Done.\n",
            "✅ Converted sample_427.mp4 → sample_427.wav\n"
          ]
        },
        {
          "output_type": "stream",
          "name": "stderr",
          "text": [
            "\r"
          ]
        },
        {
          "output_type": "stream",
          "name": "stdout",
          "text": [
            "MoviePy - Writing audio in /content/drive/My Drive/Hammering_Test/Good_Data_2/converted_wav/sample_428.wav\n"
          ]
        },
        {
          "output_type": "stream",
          "name": "stderr",
          "text": [
            "                                                                    "
          ]
        },
        {
          "output_type": "stream",
          "name": "stdout",
          "text": [
            "MoviePy - Done.\n",
            "✅ Converted sample_428.mp4 → sample_428.wav\n"
          ]
        },
        {
          "output_type": "stream",
          "name": "stderr",
          "text": [
            "\r"
          ]
        },
        {
          "output_type": "stream",
          "name": "stdout",
          "text": [
            "MoviePy - Writing audio in /content/drive/My Drive/Hammering_Test/Good_Data_2/converted_wav/sample_429.wav\n"
          ]
        },
        {
          "output_type": "stream",
          "name": "stderr",
          "text": [
            "                                                                   "
          ]
        },
        {
          "output_type": "stream",
          "name": "stdout",
          "text": [
            "MoviePy - Done.\n",
            "✅ Converted sample_429.mp4 → sample_429.wav\n"
          ]
        },
        {
          "output_type": "stream",
          "name": "stderr",
          "text": [
            "\r"
          ]
        },
        {
          "output_type": "stream",
          "name": "stdout",
          "text": [
            "MoviePy - Writing audio in /content/drive/My Drive/Hammering_Test/Good_Data_2/converted_wav/sample_430.wav\n"
          ]
        },
        {
          "output_type": "stream",
          "name": "stderr",
          "text": [
            "                                                                    "
          ]
        },
        {
          "output_type": "stream",
          "name": "stdout",
          "text": [
            "MoviePy - Done.\n",
            "✅ Converted sample_430.mp4 → sample_430.wav\n"
          ]
        },
        {
          "output_type": "stream",
          "name": "stderr",
          "text": [
            "\r"
          ]
        },
        {
          "output_type": "stream",
          "name": "stdout",
          "text": [
            "MoviePy - Writing audio in /content/drive/My Drive/Hammering_Test/Good_Data_2/converted_wav/sample_431.wav\n"
          ]
        },
        {
          "output_type": "stream",
          "name": "stderr",
          "text": [
            "                                                                    "
          ]
        },
        {
          "output_type": "stream",
          "name": "stdout",
          "text": [
            "MoviePy - Done.\n",
            "✅ Converted sample_431.mp4 → sample_431.wav\n"
          ]
        },
        {
          "output_type": "stream",
          "name": "stderr",
          "text": [
            "\r"
          ]
        },
        {
          "output_type": "stream",
          "name": "stdout",
          "text": [
            "MoviePy - Writing audio in /content/drive/My Drive/Hammering_Test/Good_Data_2/converted_wav/sample_432.wav\n"
          ]
        },
        {
          "output_type": "stream",
          "name": "stderr",
          "text": [
            "                                                                    "
          ]
        },
        {
          "output_type": "stream",
          "name": "stdout",
          "text": [
            "MoviePy - Done.\n",
            "✅ Converted sample_432.mp4 → sample_432.wav\n"
          ]
        },
        {
          "output_type": "stream",
          "name": "stderr",
          "text": [
            "\r"
          ]
        },
        {
          "output_type": "stream",
          "name": "stdout",
          "text": [
            "MoviePy - Writing audio in /content/drive/My Drive/Hammering_Test/Good_Data_2/converted_wav/sample_433.wav\n"
          ]
        },
        {
          "output_type": "stream",
          "name": "stderr",
          "text": [
            "                                                                   "
          ]
        },
        {
          "output_type": "stream",
          "name": "stdout",
          "text": [
            "MoviePy - Done.\n",
            "✅ Converted sample_433.mp4 → sample_433.wav\n"
          ]
        },
        {
          "output_type": "stream",
          "name": "stderr",
          "text": [
            "\r"
          ]
        },
        {
          "output_type": "stream",
          "name": "stdout",
          "text": [
            "MoviePy - Writing audio in /content/drive/My Drive/Hammering_Test/Good_Data_2/converted_wav/sample_434.wav\n"
          ]
        },
        {
          "output_type": "stream",
          "name": "stderr",
          "text": [
            "                                                                  "
          ]
        },
        {
          "output_type": "stream",
          "name": "stdout",
          "text": [
            "MoviePy - Done.\n",
            "✅ Converted sample_434.mp4 → sample_434.wav\n"
          ]
        },
        {
          "output_type": "stream",
          "name": "stderr",
          "text": [
            "\r"
          ]
        },
        {
          "output_type": "stream",
          "name": "stdout",
          "text": [
            "MoviePy - Writing audio in /content/drive/My Drive/Hammering_Test/Good_Data_2/converted_wav/sample_435.wav\n"
          ]
        },
        {
          "output_type": "stream",
          "name": "stderr",
          "text": [
            "                                                                    "
          ]
        },
        {
          "output_type": "stream",
          "name": "stdout",
          "text": [
            "MoviePy - Done.\n",
            "✅ Converted sample_435.mp4 → sample_435.wav\n"
          ]
        },
        {
          "output_type": "stream",
          "name": "stderr",
          "text": [
            "\r"
          ]
        },
        {
          "output_type": "stream",
          "name": "stdout",
          "text": [
            "MoviePy - Writing audio in /content/drive/My Drive/Hammering_Test/Good_Data_2/converted_wav/sample_436.wav\n"
          ]
        },
        {
          "output_type": "stream",
          "name": "stderr",
          "text": [
            "                                                                    "
          ]
        },
        {
          "output_type": "stream",
          "name": "stdout",
          "text": [
            "MoviePy - Done.\n",
            "✅ Converted sample_436.mp4 → sample_436.wav\n"
          ]
        },
        {
          "output_type": "stream",
          "name": "stderr",
          "text": [
            "\r"
          ]
        },
        {
          "output_type": "stream",
          "name": "stdout",
          "text": [
            "MoviePy - Writing audio in /content/drive/My Drive/Hammering_Test/Good_Data_2/converted_wav/sample_437.wav\n"
          ]
        },
        {
          "output_type": "stream",
          "name": "stderr",
          "text": [
            "                                                                    "
          ]
        },
        {
          "output_type": "stream",
          "name": "stdout",
          "text": [
            "MoviePy - Done.\n",
            "✅ Converted sample_437.mp4 → sample_437.wav\n"
          ]
        },
        {
          "output_type": "stream",
          "name": "stderr",
          "text": [
            "\r"
          ]
        },
        {
          "output_type": "stream",
          "name": "stdout",
          "text": [
            "MoviePy - Writing audio in /content/drive/My Drive/Hammering_Test/Good_Data_2/converted_wav/sample_438.wav\n"
          ]
        },
        {
          "output_type": "stream",
          "name": "stderr",
          "text": []
        },
        {
          "output_type": "stream",
          "name": "stdout",
          "text": [
            "MoviePy - Done.\n",
            "✅ Converted sample_438.mp4 → sample_438.wav\n",
            "MoviePy - Writing audio in /content/drive/My Drive/Hammering_Test/Good_Data_2/converted_wav/sample_439.wav\n"
          ]
        },
        {
          "output_type": "stream",
          "name": "stderr",
          "text": [
            "                                                                    "
          ]
        },
        {
          "output_type": "stream",
          "name": "stdout",
          "text": [
            "MoviePy - Done.\n",
            "✅ Converted sample_439.mp4 → sample_439.wav\n"
          ]
        },
        {
          "output_type": "stream",
          "name": "stderr",
          "text": [
            "\r"
          ]
        },
        {
          "output_type": "stream",
          "name": "stdout",
          "text": [
            "MoviePy - Writing audio in /content/drive/My Drive/Hammering_Test/Good_Data_2/converted_wav/sample_440.wav\n"
          ]
        },
        {
          "output_type": "stream",
          "name": "stderr",
          "text": []
        },
        {
          "output_type": "stream",
          "name": "stdout",
          "text": [
            "MoviePy - Done.\n",
            "✅ Converted sample_440.mp4 → sample_440.wav\n",
            "MoviePy - Writing audio in /content/drive/My Drive/Hammering_Test/Good_Data_2/converted_wav/sample_441.wav\n"
          ]
        },
        {
          "output_type": "stream",
          "name": "stderr",
          "text": []
        },
        {
          "output_type": "stream",
          "name": "stdout",
          "text": [
            "MoviePy - Done.\n",
            "✅ Converted sample_441.mp4 → sample_441.wav\n",
            "MoviePy - Writing audio in /content/drive/My Drive/Hammering_Test/Good_Data_2/converted_wav/sample_442.wav\n"
          ]
        },
        {
          "output_type": "stream",
          "name": "stderr",
          "text": []
        },
        {
          "output_type": "stream",
          "name": "stdout",
          "text": [
            "MoviePy - Done.\n",
            "✅ Converted sample_442.mp4 → sample_442.wav\n",
            "MoviePy - Writing audio in /content/drive/My Drive/Hammering_Test/Good_Data_2/converted_wav/sample_443.wav\n"
          ]
        },
        {
          "output_type": "stream",
          "name": "stderr",
          "text": [
            "                                                                   "
          ]
        },
        {
          "output_type": "stream",
          "name": "stdout",
          "text": [
            "MoviePy - Done.\n",
            "✅ Converted sample_443.mp4 → sample_443.wav\n"
          ]
        },
        {
          "output_type": "stream",
          "name": "stderr",
          "text": [
            "\r"
          ]
        },
        {
          "output_type": "stream",
          "name": "stdout",
          "text": [
            "MoviePy - Writing audio in /content/drive/My Drive/Hammering_Test/Good_Data_2/converted_wav/sample_444.wav\n"
          ]
        },
        {
          "output_type": "stream",
          "name": "stderr",
          "text": []
        },
        {
          "output_type": "stream",
          "name": "stdout",
          "text": [
            "MoviePy - Done.\n",
            "✅ Converted sample_444.mp4 → sample_444.wav\n",
            "MoviePy - Writing audio in /content/drive/My Drive/Hammering_Test/Good_Data_2/converted_wav/sample_445.wav\n"
          ]
        },
        {
          "output_type": "stream",
          "name": "stderr",
          "text": [
            "                                                        "
          ]
        },
        {
          "output_type": "stream",
          "name": "stdout",
          "text": [
            "MoviePy - Done.\n",
            "✅ Converted sample_445.mp4 → sample_445.wav\n"
          ]
        },
        {
          "output_type": "stream",
          "name": "stderr",
          "text": [
            "\r"
          ]
        },
        {
          "output_type": "stream",
          "name": "stdout",
          "text": [
            "MoviePy - Writing audio in /content/drive/My Drive/Hammering_Test/Good_Data_2/converted_wav/sample_446.wav\n"
          ]
        },
        {
          "output_type": "stream",
          "name": "stderr",
          "text": [
            "                                                                    "
          ]
        },
        {
          "output_type": "stream",
          "name": "stdout",
          "text": [
            "MoviePy - Done.\n",
            "✅ Converted sample_446.mp4 → sample_446.wav\n"
          ]
        },
        {
          "output_type": "stream",
          "name": "stderr",
          "text": [
            "\r"
          ]
        },
        {
          "output_type": "stream",
          "name": "stdout",
          "text": [
            "MoviePy - Writing audio in /content/drive/My Drive/Hammering_Test/Good_Data_2/converted_wav/sample_447.wav\n"
          ]
        },
        {
          "output_type": "stream",
          "name": "stderr",
          "text": [
            "                                                                    "
          ]
        },
        {
          "output_type": "stream",
          "name": "stdout",
          "text": [
            "MoviePy - Done.\n",
            "✅ Converted sample_447.mp4 → sample_447.wav\n"
          ]
        },
        {
          "output_type": "stream",
          "name": "stderr",
          "text": [
            "\r"
          ]
        },
        {
          "output_type": "stream",
          "name": "stdout",
          "text": [
            "MoviePy - Writing audio in /content/drive/My Drive/Hammering_Test/Good_Data_2/converted_wav/sample_448.wav\n"
          ]
        },
        {
          "output_type": "stream",
          "name": "stderr",
          "text": [
            "                                                                   "
          ]
        },
        {
          "output_type": "stream",
          "name": "stdout",
          "text": [
            "MoviePy - Done.\n",
            "✅ Converted sample_448.mp4 → sample_448.wav\n"
          ]
        },
        {
          "output_type": "stream",
          "name": "stderr",
          "text": [
            "\r"
          ]
        },
        {
          "output_type": "stream",
          "name": "stdout",
          "text": [
            "MoviePy - Writing audio in /content/drive/My Drive/Hammering_Test/Good_Data_2/converted_wav/sample_449.wav\n"
          ]
        },
        {
          "output_type": "stream",
          "name": "stderr",
          "text": [
            "                                                                   "
          ]
        },
        {
          "output_type": "stream",
          "name": "stdout",
          "text": [
            "MoviePy - Done.\n",
            "✅ Converted sample_449.mp4 → sample_449.wav\n"
          ]
        },
        {
          "output_type": "stream",
          "name": "stderr",
          "text": [
            "\r"
          ]
        },
        {
          "output_type": "stream",
          "name": "stdout",
          "text": [
            "MoviePy - Writing audio in /content/drive/My Drive/Hammering_Test/Good_Data_2/converted_wav/sample_450.wav\n"
          ]
        },
        {
          "output_type": "stream",
          "name": "stderr",
          "text": [
            "                                                                    "
          ]
        },
        {
          "output_type": "stream",
          "name": "stdout",
          "text": [
            "MoviePy - Done.\n",
            "✅ Converted sample_450.mp4 → sample_450.wav\n"
          ]
        },
        {
          "output_type": "stream",
          "name": "stderr",
          "text": [
            "\r"
          ]
        },
        {
          "output_type": "stream",
          "name": "stdout",
          "text": [
            "MoviePy - Writing audio in /content/drive/My Drive/Hammering_Test/Good_Data_2/converted_wav/sample_451.wav\n"
          ]
        },
        {
          "output_type": "stream",
          "name": "stderr",
          "text": []
        },
        {
          "output_type": "stream",
          "name": "stdout",
          "text": [
            "MoviePy - Done.\n",
            "✅ Converted sample_451.mp4 → sample_451.wav\n",
            "MoviePy - Writing audio in /content/drive/My Drive/Hammering_Test/Good_Data_2/converted_wav/sample_452.wav\n"
          ]
        },
        {
          "output_type": "stream",
          "name": "stderr",
          "text": []
        },
        {
          "output_type": "stream",
          "name": "stdout",
          "text": [
            "MoviePy - Done.\n",
            "✅ Converted sample_452.mp4 → sample_452.wav\n",
            "MoviePy - Writing audio in /content/drive/My Drive/Hammering_Test/Good_Data_2/converted_wav/sample_453.wav\n"
          ]
        },
        {
          "output_type": "stream",
          "name": "stderr",
          "text": []
        },
        {
          "output_type": "stream",
          "name": "stdout",
          "text": [
            "MoviePy - Done.\n",
            "✅ Converted sample_453.mp4 → sample_453.wav\n",
            "MoviePy - Writing audio in /content/drive/My Drive/Hammering_Test/Good_Data_2/converted_wav/sample_454.wav\n"
          ]
        },
        {
          "output_type": "stream",
          "name": "stderr",
          "text": []
        },
        {
          "output_type": "stream",
          "name": "stdout",
          "text": [
            "MoviePy - Done.\n",
            "✅ Converted sample_454.mp4 → sample_454.wav\n",
            "MoviePy - Writing audio in /content/drive/My Drive/Hammering_Test/Good_Data_2/converted_wav/sample_455.wav\n"
          ]
        },
        {
          "output_type": "stream",
          "name": "stderr",
          "text": []
        },
        {
          "output_type": "stream",
          "name": "stdout",
          "text": [
            "MoviePy - Done.\n",
            "✅ Converted sample_455.mp4 → sample_455.wav\n",
            "MoviePy - Writing audio in /content/drive/My Drive/Hammering_Test/Good_Data_2/converted_wav/sample_456.wav\n"
          ]
        },
        {
          "output_type": "stream",
          "name": "stderr",
          "text": []
        },
        {
          "output_type": "stream",
          "name": "stdout",
          "text": [
            "MoviePy - Done.\n",
            "✅ Converted sample_456.mp4 → sample_456.wav\n",
            "MoviePy - Writing audio in /content/drive/My Drive/Hammering_Test/Good_Data_2/converted_wav/sample_457.wav\n"
          ]
        },
        {
          "output_type": "stream",
          "name": "stderr",
          "text": [
            "                                                                   "
          ]
        },
        {
          "output_type": "stream",
          "name": "stdout",
          "text": [
            "MoviePy - Done.\n",
            "✅ Converted sample_457.mp4 → sample_457.wav\n"
          ]
        },
        {
          "output_type": "stream",
          "name": "stderr",
          "text": [
            "\r"
          ]
        },
        {
          "output_type": "stream",
          "name": "stdout",
          "text": [
            "MoviePy - Writing audio in /content/drive/My Drive/Hammering_Test/Good_Data_2/converted_wav/sample_458.wav\n"
          ]
        },
        {
          "output_type": "stream",
          "name": "stderr",
          "text": [
            "                                                        "
          ]
        },
        {
          "output_type": "stream",
          "name": "stdout",
          "text": [
            "MoviePy - Done.\n",
            "✅ Converted sample_458.mp4 → sample_458.wav\n"
          ]
        },
        {
          "output_type": "stream",
          "name": "stderr",
          "text": [
            "\r"
          ]
        },
        {
          "output_type": "stream",
          "name": "stdout",
          "text": [
            "MoviePy - Writing audio in /content/drive/My Drive/Hammering_Test/Good_Data_2/converted_wav/sample_459.wav\n"
          ]
        },
        {
          "output_type": "stream",
          "name": "stderr",
          "text": [
            "                                                                   "
          ]
        },
        {
          "output_type": "stream",
          "name": "stdout",
          "text": [
            "MoviePy - Done.\n",
            "✅ Converted sample_459.mp4 → sample_459.wav\n"
          ]
        },
        {
          "output_type": "stream",
          "name": "stderr",
          "text": [
            "\r"
          ]
        },
        {
          "output_type": "stream",
          "name": "stdout",
          "text": [
            "MoviePy - Writing audio in /content/drive/My Drive/Hammering_Test/Good_Data_2/converted_wav/sample_460.wav\n"
          ]
        },
        {
          "output_type": "stream",
          "name": "stderr",
          "text": [
            "                                                                   "
          ]
        },
        {
          "output_type": "stream",
          "name": "stdout",
          "text": [
            "MoviePy - Done.\n",
            "✅ Converted sample_460.mp4 → sample_460.wav\n"
          ]
        },
        {
          "output_type": "stream",
          "name": "stderr",
          "text": [
            "\r"
          ]
        },
        {
          "output_type": "stream",
          "name": "stdout",
          "text": [
            "MoviePy - Writing audio in /content/drive/My Drive/Hammering_Test/Good_Data_2/converted_wav/sample_461.wav\n"
          ]
        },
        {
          "output_type": "stream",
          "name": "stderr",
          "text": [
            "                                                                  "
          ]
        },
        {
          "output_type": "stream",
          "name": "stdout",
          "text": [
            "MoviePy - Done.\n",
            "✅ Converted sample_461.mp4 → sample_461.wav\n"
          ]
        },
        {
          "output_type": "stream",
          "name": "stderr",
          "text": [
            "\r"
          ]
        },
        {
          "output_type": "stream",
          "name": "stdout",
          "text": [
            "MoviePy - Writing audio in /content/drive/My Drive/Hammering_Test/Good_Data_2/converted_wav/sample_462.wav\n"
          ]
        },
        {
          "output_type": "stream",
          "name": "stderr",
          "text": [
            "                                                                    "
          ]
        },
        {
          "output_type": "stream",
          "name": "stdout",
          "text": [
            "MoviePy - Done.\n",
            "✅ Converted sample_462.mp4 → sample_462.wav\n"
          ]
        },
        {
          "output_type": "stream",
          "name": "stderr",
          "text": [
            "\r"
          ]
        },
        {
          "output_type": "stream",
          "name": "stdout",
          "text": [
            "MoviePy - Writing audio in /content/drive/My Drive/Hammering_Test/Good_Data_2/converted_wav/sample_463.wav\n"
          ]
        },
        {
          "output_type": "stream",
          "name": "stderr",
          "text": [
            "                                                                    "
          ]
        },
        {
          "output_type": "stream",
          "name": "stdout",
          "text": [
            "MoviePy - Done.\n",
            "✅ Converted sample_463.mp4 → sample_463.wav\n"
          ]
        },
        {
          "output_type": "stream",
          "name": "stderr",
          "text": [
            "\r"
          ]
        },
        {
          "output_type": "stream",
          "name": "stdout",
          "text": [
            "MoviePy - Writing audio in /content/drive/My Drive/Hammering_Test/Good_Data_2/converted_wav/sample_464.wav\n"
          ]
        },
        {
          "output_type": "stream",
          "name": "stderr",
          "text": [
            "                                                        "
          ]
        },
        {
          "output_type": "stream",
          "name": "stdout",
          "text": [
            "MoviePy - Done.\n",
            "✅ Converted sample_464.mp4 → sample_464.wav\n"
          ]
        },
        {
          "output_type": "stream",
          "name": "stderr",
          "text": [
            "\r"
          ]
        },
        {
          "output_type": "stream",
          "name": "stdout",
          "text": [
            "MoviePy - Writing audio in /content/drive/My Drive/Hammering_Test/Good_Data_2/converted_wav/sample_465.wav\n"
          ]
        },
        {
          "output_type": "stream",
          "name": "stderr",
          "text": []
        },
        {
          "output_type": "stream",
          "name": "stdout",
          "text": [
            "MoviePy - Done.\n",
            "✅ Converted sample_465.mp4 → sample_465.wav\n",
            "MoviePy - Writing audio in /content/drive/My Drive/Hammering_Test/Good_Data_2/converted_wav/sample_466.wav\n"
          ]
        },
        {
          "output_type": "stream",
          "name": "stderr",
          "text": []
        },
        {
          "output_type": "stream",
          "name": "stdout",
          "text": [
            "MoviePy - Done.\n",
            "✅ Converted sample_466.mp4 → sample_466.wav\n",
            "MoviePy - Writing audio in /content/drive/My Drive/Hammering_Test/Good_Data_2/converted_wav/sample_467.wav\n"
          ]
        },
        {
          "output_type": "stream",
          "name": "stderr",
          "text": []
        },
        {
          "output_type": "stream",
          "name": "stdout",
          "text": [
            "MoviePy - Done.\n",
            "✅ Converted sample_467.mp4 → sample_467.wav\n",
            "MoviePy - Writing audio in /content/drive/My Drive/Hammering_Test/Good_Data_2/converted_wav/sample_468.wav\n"
          ]
        },
        {
          "output_type": "stream",
          "name": "stderr",
          "text": [
            "                                                        "
          ]
        },
        {
          "output_type": "stream",
          "name": "stdout",
          "text": [
            "MoviePy - Done.\n",
            "✅ Converted sample_468.mp4 → sample_468.wav\n"
          ]
        },
        {
          "output_type": "stream",
          "name": "stderr",
          "text": [
            "\r"
          ]
        },
        {
          "output_type": "stream",
          "name": "stdout",
          "text": [
            "MoviePy - Writing audio in /content/drive/My Drive/Hammering_Test/Good_Data_2/converted_wav/sample_469.wav\n"
          ]
        },
        {
          "output_type": "stream",
          "name": "stderr",
          "text": [
            "                                                        "
          ]
        },
        {
          "output_type": "stream",
          "name": "stdout",
          "text": [
            "MoviePy - Done.\n",
            "✅ Converted sample_469.mp4 → sample_469.wav\n"
          ]
        },
        {
          "output_type": "stream",
          "name": "stderr",
          "text": [
            "\r"
          ]
        },
        {
          "output_type": "stream",
          "name": "stdout",
          "text": [
            "MoviePy - Writing audio in /content/drive/My Drive/Hammering_Test/Good_Data_2/converted_wav/sample_470.wav\n"
          ]
        },
        {
          "output_type": "stream",
          "name": "stderr",
          "text": [
            "                                                                    "
          ]
        },
        {
          "output_type": "stream",
          "name": "stdout",
          "text": [
            "MoviePy - Done.\n",
            "✅ Converted sample_470.mp4 → sample_470.wav\n"
          ]
        },
        {
          "output_type": "stream",
          "name": "stderr",
          "text": [
            "\r"
          ]
        },
        {
          "output_type": "stream",
          "name": "stdout",
          "text": [
            "MoviePy - Writing audio in /content/drive/My Drive/Hammering_Test/Good_Data_2/converted_wav/sample_471.wav\n"
          ]
        },
        {
          "output_type": "stream",
          "name": "stderr",
          "text": [
            "                                                                   "
          ]
        },
        {
          "output_type": "stream",
          "name": "stdout",
          "text": [
            "MoviePy - Done.\n",
            "✅ Converted sample_471.mp4 → sample_471.wav\n"
          ]
        },
        {
          "output_type": "stream",
          "name": "stderr",
          "text": [
            "\r"
          ]
        },
        {
          "output_type": "stream",
          "name": "stdout",
          "text": [
            "MoviePy - Writing audio in /content/drive/My Drive/Hammering_Test/Good_Data_2/converted_wav/sample_472.wav\n"
          ]
        },
        {
          "output_type": "stream",
          "name": "stderr",
          "text": [
            "                                                                  "
          ]
        },
        {
          "output_type": "stream",
          "name": "stdout",
          "text": [
            "MoviePy - Done.\n",
            "✅ Converted sample_472.mp4 → sample_472.wav\n"
          ]
        },
        {
          "output_type": "stream",
          "name": "stderr",
          "text": [
            "\r"
          ]
        },
        {
          "output_type": "stream",
          "name": "stdout",
          "text": [
            "MoviePy - Writing audio in /content/drive/My Drive/Hammering_Test/Good_Data_2/converted_wav/sample_473.wav\n"
          ]
        },
        {
          "output_type": "stream",
          "name": "stderr",
          "text": [
            "                                                        "
          ]
        },
        {
          "output_type": "stream",
          "name": "stdout",
          "text": [
            "MoviePy - Done.\n",
            "✅ Converted sample_473.mp4 → sample_473.wav\n"
          ]
        },
        {
          "output_type": "stream",
          "name": "stderr",
          "text": [
            "\r"
          ]
        },
        {
          "output_type": "stream",
          "name": "stdout",
          "text": [
            "MoviePy - Writing audio in /content/drive/My Drive/Hammering_Test/Good_Data_2/converted_wav/sample_474.wav\n"
          ]
        },
        {
          "output_type": "stream",
          "name": "stderr",
          "text": [
            "                                                                   "
          ]
        },
        {
          "output_type": "stream",
          "name": "stdout",
          "text": [
            "MoviePy - Done.\n",
            "✅ Converted sample_474.mp4 → sample_474.wav\n"
          ]
        },
        {
          "output_type": "stream",
          "name": "stderr",
          "text": [
            "\r"
          ]
        },
        {
          "output_type": "stream",
          "name": "stdout",
          "text": [
            "MoviePy - Writing audio in /content/drive/My Drive/Hammering_Test/Good_Data_2/converted_wav/sample_475.wav\n"
          ]
        },
        {
          "output_type": "stream",
          "name": "stderr",
          "text": [
            "                                                        "
          ]
        },
        {
          "output_type": "stream",
          "name": "stdout",
          "text": [
            "MoviePy - Done.\n",
            "✅ Converted sample_475.mp4 → sample_475.wav\n"
          ]
        },
        {
          "output_type": "stream",
          "name": "stderr",
          "text": [
            "\r"
          ]
        },
        {
          "output_type": "stream",
          "name": "stdout",
          "text": [
            "MoviePy - Writing audio in /content/drive/My Drive/Hammering_Test/Good_Data_2/converted_wav/sample_476.wav\n"
          ]
        },
        {
          "output_type": "stream",
          "name": "stderr",
          "text": []
        },
        {
          "output_type": "stream",
          "name": "stdout",
          "text": [
            "MoviePy - Done.\n",
            "✅ Converted sample_476.mp4 → sample_476.wav\n",
            "MoviePy - Writing audio in /content/drive/My Drive/Hammering_Test/Good_Data_2/converted_wav/sample_477.wav\n"
          ]
        },
        {
          "output_type": "stream",
          "name": "stderr",
          "text": [
            "                                                                    "
          ]
        },
        {
          "output_type": "stream",
          "name": "stdout",
          "text": [
            "MoviePy - Done.\n",
            "✅ Converted sample_477.mp4 → sample_477.wav\n"
          ]
        },
        {
          "output_type": "stream",
          "name": "stderr",
          "text": [
            "\r"
          ]
        },
        {
          "output_type": "stream",
          "name": "stdout",
          "text": [
            "MoviePy - Writing audio in /content/drive/My Drive/Hammering_Test/Good_Data_2/converted_wav/sample_478.wav\n"
          ]
        },
        {
          "output_type": "stream",
          "name": "stderr",
          "text": [
            "                                                                   "
          ]
        },
        {
          "output_type": "stream",
          "name": "stdout",
          "text": [
            "MoviePy - Done.\n",
            "✅ Converted sample_478.mp4 → sample_478.wav\n"
          ]
        },
        {
          "output_type": "stream",
          "name": "stderr",
          "text": [
            "\r"
          ]
        },
        {
          "output_type": "stream",
          "name": "stdout",
          "text": [
            "MoviePy - Writing audio in /content/drive/My Drive/Hammering_Test/Good_Data_2/converted_wav/sample_479.wav\n"
          ]
        },
        {
          "output_type": "stream",
          "name": "stderr",
          "text": [
            "                                                        "
          ]
        },
        {
          "output_type": "stream",
          "name": "stdout",
          "text": [
            "MoviePy - Done.\n",
            "✅ Converted sample_479.mp4 → sample_479.wav\n"
          ]
        },
        {
          "output_type": "stream",
          "name": "stderr",
          "text": [
            "\r"
          ]
        },
        {
          "output_type": "stream",
          "name": "stdout",
          "text": [
            "MoviePy - Writing audio in /content/drive/My Drive/Hammering_Test/Good_Data_2/converted_wav/sample_480.wav\n"
          ]
        },
        {
          "output_type": "stream",
          "name": "stderr",
          "text": [
            "                                                        "
          ]
        },
        {
          "output_type": "stream",
          "name": "stdout",
          "text": [
            "MoviePy - Done.\n",
            "✅ Converted sample_480.mp4 → sample_480.wav\n"
          ]
        },
        {
          "output_type": "stream",
          "name": "stderr",
          "text": [
            "\r"
          ]
        },
        {
          "output_type": "stream",
          "name": "stdout",
          "text": [
            "MoviePy - Writing audio in /content/drive/My Drive/Hammering_Test/Good_Data_2/converted_wav/sample_481.wav\n"
          ]
        },
        {
          "output_type": "stream",
          "name": "stderr",
          "text": []
        },
        {
          "output_type": "stream",
          "name": "stdout",
          "text": [
            "MoviePy - Done.\n",
            "✅ Converted sample_481.mp4 → sample_481.wav\n",
            "MoviePy - Writing audio in /content/drive/My Drive/Hammering_Test/Good_Data_2/converted_wav/sample_482.wav\n"
          ]
        },
        {
          "output_type": "stream",
          "name": "stderr",
          "text": [
            "                                                                   "
          ]
        },
        {
          "output_type": "stream",
          "name": "stdout",
          "text": [
            "MoviePy - Done.\n",
            "✅ Converted sample_482.mp4 → sample_482.wav\n"
          ]
        },
        {
          "output_type": "stream",
          "name": "stderr",
          "text": [
            "\r"
          ]
        },
        {
          "output_type": "stream",
          "name": "stdout",
          "text": [
            "MoviePy - Writing audio in /content/drive/My Drive/Hammering_Test/Good_Data_2/converted_wav/sample_483.wav\n"
          ]
        },
        {
          "output_type": "stream",
          "name": "stderr",
          "text": []
        },
        {
          "output_type": "stream",
          "name": "stdout",
          "text": [
            "MoviePy - Done.\n",
            "✅ Converted sample_483.mp4 → sample_483.wav\n",
            "MoviePy - Writing audio in /content/drive/My Drive/Hammering_Test/Good_Data_2/converted_wav/sample_484.wav\n"
          ]
        },
        {
          "output_type": "stream",
          "name": "stderr",
          "text": []
        },
        {
          "output_type": "stream",
          "name": "stdout",
          "text": [
            "MoviePy - Done.\n",
            "✅ Converted sample_484.mp4 → sample_484.wav\n",
            "MoviePy - Writing audio in /content/drive/My Drive/Hammering_Test/Good_Data_2/converted_wav/sample_485.wav\n"
          ]
        },
        {
          "output_type": "stream",
          "name": "stderr",
          "text": []
        },
        {
          "output_type": "stream",
          "name": "stdout",
          "text": [
            "MoviePy - Done.\n",
            "✅ Converted sample_485.mp4 → sample_485.wav\n",
            "MoviePy - Writing audio in /content/drive/My Drive/Hammering_Test/Good_Data_2/converted_wav/sample_486.wav\n"
          ]
        },
        {
          "output_type": "stream",
          "name": "stderr",
          "text": []
        },
        {
          "output_type": "stream",
          "name": "stdout",
          "text": [
            "MoviePy - Done.\n",
            "✅ Converted sample_486.mp4 → sample_486.wav\n",
            "MoviePy - Writing audio in /content/drive/My Drive/Hammering_Test/Good_Data_2/converted_wav/sample_487.wav\n"
          ]
        },
        {
          "output_type": "stream",
          "name": "stderr",
          "text": [
            "                                                        "
          ]
        },
        {
          "output_type": "stream",
          "name": "stdout",
          "text": [
            "MoviePy - Done.\n",
            "✅ Converted sample_487.mp4 → sample_487.wav\n"
          ]
        },
        {
          "output_type": "stream",
          "name": "stderr",
          "text": [
            "\r"
          ]
        },
        {
          "output_type": "stream",
          "name": "stdout",
          "text": [
            "MoviePy - Writing audio in /content/drive/My Drive/Hammering_Test/Good_Data_2/converted_wav/sample_488.wav\n"
          ]
        },
        {
          "output_type": "stream",
          "name": "stderr",
          "text": []
        },
        {
          "output_type": "stream",
          "name": "stdout",
          "text": [
            "MoviePy - Done.\n",
            "✅ Converted sample_488.mp4 → sample_488.wav\n",
            "MoviePy - Writing audio in /content/drive/My Drive/Hammering_Test/Good_Data_2/converted_wav/sample_489.wav\n"
          ]
        },
        {
          "output_type": "stream",
          "name": "stderr",
          "text": [
            "                                                                   "
          ]
        },
        {
          "output_type": "stream",
          "name": "stdout",
          "text": [
            "MoviePy - Done.\n",
            "✅ Converted sample_489.mp4 → sample_489.wav\n"
          ]
        },
        {
          "output_type": "stream",
          "name": "stderr",
          "text": [
            "\r"
          ]
        },
        {
          "output_type": "stream",
          "name": "stdout",
          "text": [
            "MoviePy - Writing audio in /content/drive/My Drive/Hammering_Test/Good_Data_2/converted_wav/sample_490.wav\n"
          ]
        },
        {
          "output_type": "stream",
          "name": "stderr",
          "text": []
        },
        {
          "output_type": "stream",
          "name": "stdout",
          "text": [
            "MoviePy - Done.\n",
            "✅ Converted sample_490.mp4 → sample_490.wav\n",
            "MoviePy - Writing audio in /content/drive/My Drive/Hammering_Test/Good_Data_2/converted_wav/sample_491.wav\n"
          ]
        },
        {
          "output_type": "stream",
          "name": "stderr",
          "text": [
            "                                                                  "
          ]
        },
        {
          "output_type": "stream",
          "name": "stdout",
          "text": [
            "MoviePy - Done.\n",
            "✅ Converted sample_491.mp4 → sample_491.wav\n"
          ]
        },
        {
          "output_type": "stream",
          "name": "stderr",
          "text": [
            "\r"
          ]
        },
        {
          "output_type": "stream",
          "name": "stdout",
          "text": [
            "MoviePy - Writing audio in /content/drive/My Drive/Hammering_Test/Good_Data_2/converted_wav/sample_492.wav\n"
          ]
        },
        {
          "output_type": "stream",
          "name": "stderr",
          "text": [
            "                                                        "
          ]
        },
        {
          "output_type": "stream",
          "name": "stdout",
          "text": [
            "MoviePy - Done.\n",
            "✅ Converted sample_492.mp4 → sample_492.wav\n"
          ]
        },
        {
          "output_type": "stream",
          "name": "stderr",
          "text": [
            "\r"
          ]
        },
        {
          "output_type": "stream",
          "name": "stdout",
          "text": [
            "MoviePy - Writing audio in /content/drive/My Drive/Hammering_Test/Good_Data_2/converted_wav/sample_493.wav\n"
          ]
        },
        {
          "output_type": "stream",
          "name": "stderr",
          "text": [
            "                                                        "
          ]
        },
        {
          "output_type": "stream",
          "name": "stdout",
          "text": [
            "MoviePy - Done.\n",
            "✅ Converted sample_493.mp4 → sample_493.wav\n"
          ]
        },
        {
          "output_type": "stream",
          "name": "stderr",
          "text": [
            "\r"
          ]
        },
        {
          "output_type": "stream",
          "name": "stdout",
          "text": [
            "MoviePy - Writing audio in /content/drive/My Drive/Hammering_Test/Good_Data_2/converted_wav/sample_494.wav\n"
          ]
        },
        {
          "output_type": "stream",
          "name": "stderr",
          "text": [
            "                                                        "
          ]
        },
        {
          "output_type": "stream",
          "name": "stdout",
          "text": [
            "MoviePy - Done.\n",
            "✅ Converted sample_494.mp4 → sample_494.wav\n"
          ]
        },
        {
          "output_type": "stream",
          "name": "stderr",
          "text": [
            "\r"
          ]
        },
        {
          "output_type": "stream",
          "name": "stdout",
          "text": [
            "MoviePy - Writing audio in /content/drive/My Drive/Hammering_Test/Good_Data_2/converted_wav/sample_495.wav\n"
          ]
        },
        {
          "output_type": "stream",
          "name": "stderr",
          "text": [
            "                                                                    "
          ]
        },
        {
          "output_type": "stream",
          "name": "stdout",
          "text": [
            "MoviePy - Done.\n",
            "✅ Converted sample_495.mp4 → sample_495.wav\n"
          ]
        },
        {
          "output_type": "stream",
          "name": "stderr",
          "text": [
            "\r"
          ]
        },
        {
          "output_type": "stream",
          "name": "stdout",
          "text": [
            "MoviePy - Writing audio in /content/drive/My Drive/Hammering_Test/Good_Data_2/converted_wav/sample_496.wav\n"
          ]
        },
        {
          "output_type": "stream",
          "name": "stderr",
          "text": [
            "                                                                   "
          ]
        },
        {
          "output_type": "stream",
          "name": "stdout",
          "text": [
            "MoviePy - Done.\n",
            "✅ Converted sample_496.mp4 → sample_496.wav\n"
          ]
        },
        {
          "output_type": "stream",
          "name": "stderr",
          "text": [
            "\r"
          ]
        },
        {
          "output_type": "stream",
          "name": "stdout",
          "text": [
            "MoviePy - Writing audio in /content/drive/My Drive/Hammering_Test/Good_Data_2/converted_wav/sample_497.wav\n"
          ]
        },
        {
          "output_type": "stream",
          "name": "stderr",
          "text": []
        },
        {
          "output_type": "stream",
          "name": "stdout",
          "text": [
            "MoviePy - Done.\n",
            "✅ Converted sample_497.mp4 → sample_497.wav\n",
            "MoviePy - Writing audio in /content/drive/My Drive/Hammering_Test/Good_Data_2/converted_wav/sample_498.wav\n"
          ]
        },
        {
          "output_type": "stream",
          "name": "stderr",
          "text": []
        },
        {
          "output_type": "stream",
          "name": "stdout",
          "text": [
            "MoviePy - Done.\n",
            "✅ Converted sample_498.mp4 → sample_498.wav\n",
            "MoviePy - Writing audio in /content/drive/My Drive/Hammering_Test/Good_Data_2/converted_wav/sample_499.wav\n"
          ]
        },
        {
          "output_type": "stream",
          "name": "stderr",
          "text": []
        },
        {
          "output_type": "stream",
          "name": "stdout",
          "text": [
            "MoviePy - Done.\n",
            "✅ Converted sample_499.mp4 → sample_499.wav\n",
            "MoviePy - Writing audio in /content/drive/My Drive/Hammering_Test/Good_Data_2/converted_wav/sample_500.wav\n"
          ]
        },
        {
          "output_type": "stream",
          "name": "stderr",
          "text": []
        },
        {
          "output_type": "stream",
          "name": "stdout",
          "text": [
            "MoviePy - Done.\n",
            "✅ Converted sample_500.mp4 → sample_500.wav\n",
            "MoviePy - Writing audio in /content/drive/My Drive/Hammering_Test/Good_Data_2/converted_wav/sample_501.wav\n"
          ]
        },
        {
          "output_type": "stream",
          "name": "stderr",
          "text": [
            "                                                                  "
          ]
        },
        {
          "output_type": "stream",
          "name": "stdout",
          "text": [
            "MoviePy - Done.\n",
            "✅ Converted sample_501.mp4 → sample_501.wav\n"
          ]
        },
        {
          "output_type": "stream",
          "name": "stderr",
          "text": [
            "\r"
          ]
        },
        {
          "output_type": "stream",
          "name": "stdout",
          "text": [
            "MoviePy - Writing audio in /content/drive/My Drive/Hammering_Test/Good_Data_2/converted_wav/sample_502.wav\n"
          ]
        },
        {
          "output_type": "stream",
          "name": "stderr",
          "text": [
            "                                                                    "
          ]
        },
        {
          "output_type": "stream",
          "name": "stdout",
          "text": [
            "MoviePy - Done.\n",
            "✅ Converted sample_502.mp4 → sample_502.wav\n"
          ]
        },
        {
          "output_type": "stream",
          "name": "stderr",
          "text": [
            "\r"
          ]
        },
        {
          "output_type": "stream",
          "name": "stdout",
          "text": [
            "MoviePy - Writing audio in /content/drive/My Drive/Hammering_Test/Good_Data_2/converted_wav/sample_503.wav\n"
          ]
        },
        {
          "output_type": "stream",
          "name": "stderr",
          "text": [
            "                                                                   "
          ]
        },
        {
          "output_type": "stream",
          "name": "stdout",
          "text": [
            "MoviePy - Done.\n",
            "✅ Converted sample_503.mp4 → sample_503.wav\n"
          ]
        },
        {
          "output_type": "stream",
          "name": "stderr",
          "text": [
            "\r"
          ]
        },
        {
          "output_type": "stream",
          "name": "stdout",
          "text": [
            "MoviePy - Writing audio in /content/drive/My Drive/Hammering_Test/Good_Data_2/converted_wav/sample_504.wav\n"
          ]
        },
        {
          "output_type": "stream",
          "name": "stderr",
          "text": [
            "                                                        "
          ]
        },
        {
          "output_type": "stream",
          "name": "stdout",
          "text": [
            "MoviePy - Done.\n",
            "✅ Converted sample_504.mp4 → sample_504.wav\n"
          ]
        },
        {
          "output_type": "stream",
          "name": "stderr",
          "text": [
            "\r"
          ]
        },
        {
          "output_type": "stream",
          "name": "stdout",
          "text": [
            "MoviePy - Writing audio in /content/drive/My Drive/Hammering_Test/Good_Data_2/converted_wav/sample_505.wav\n"
          ]
        },
        {
          "output_type": "stream",
          "name": "stderr",
          "text": []
        },
        {
          "output_type": "stream",
          "name": "stdout",
          "text": [
            "MoviePy - Done.\n",
            "✅ Converted sample_505.mp4 → sample_505.wav\n",
            "MoviePy - Writing audio in /content/drive/My Drive/Hammering_Test/Good_Data_2/converted_wav/sample_506.wav\n"
          ]
        },
        {
          "output_type": "stream",
          "name": "stderr",
          "text": [
            "                                                                    "
          ]
        },
        {
          "output_type": "stream",
          "name": "stdout",
          "text": [
            "MoviePy - Done.\n",
            "✅ Converted sample_506.mp4 → sample_506.wav\n"
          ]
        },
        {
          "output_type": "stream",
          "name": "stderr",
          "text": [
            "\r"
          ]
        },
        {
          "output_type": "stream",
          "name": "stdout",
          "text": [
            "MoviePy - Writing audio in /content/drive/My Drive/Hammering_Test/Good_Data_2/converted_wav/sample_507.wav\n"
          ]
        },
        {
          "output_type": "stream",
          "name": "stderr",
          "text": [
            "                                                        "
          ]
        },
        {
          "output_type": "stream",
          "name": "stdout",
          "text": [
            "MoviePy - Done.\n",
            "✅ Converted sample_507.mp4 → sample_507.wav\n"
          ]
        },
        {
          "output_type": "stream",
          "name": "stderr",
          "text": [
            "\r"
          ]
        }
      ]
    },
    {
      "cell_type": "code",
      "source": [
        "import os\n",
        "\n",
        "base_path = '/content/drive/My Drive/Hammering_Test/Bad_Data_2'\n",
        "\n",
        "\n",
        "# List folders and files in 'Hammering Test'\n",
        "print(\"Contents of 'Hammering Test':\")\n",
        "print(os.listdir(base_path))"
      ],
      "metadata": {
        "id": "zvkETAddLfJj",
        "colab": {
          "base_uri": "https://localhost:8080/"
        },
        "outputId": "a3d703a2-4e0e-4c3c-ca2c-0b7ae25dff7a"
      },
      "execution_count": null,
      "outputs": [
        {
          "output_type": "stream",
          "name": "stdout",
          "text": [
            "Contents of 'Hammering Test':\n",
            "['VID_20250609_144915.mp4', 'VID_20250609_144936.mp4', 'VID_20250609_144944.mp4', 'VID_20250609_144953.mp4', 'VID_20250609_144739.mp4', 'VID_20250609_144747.mp4', 'VID_20250609_144757.mp4', 'VID_20250609_144841.mp4', 'VID_20250609_144850.mp4', 'VID_20250609_144857.mp4', 'VID_20250609_144905.mp4', 'VID_20250609_144723.mp4', 'VID_20250609_144731.mp4', 'VID_20250609_144556.mp4', 'VID_20250609_144604.mp4', 'VID_20250609_144542.mp4', 'VID_20250609_144612.mp4', 'VID_20250609_144622.mp4', 'VID_20250609_144641.mp4', 'VID_20250609_144715.mp4', 'VID_20250609_144115.mp4', 'VID_20250609_144148.mp4', 'VID_20250609_144228.mp4', 'VID_20250609_144156.mp4', 'VID_20250609_144236.mp4', 'VID_20250609_144244.mp4', 'VID_20250609_144252.mp4', 'VID_20250609_144300.mp4', 'VID_20250609_144308.mp4', 'VID_20250609_144338.mp4', 'VID_20250609_144353.mp4', 'VID_20250609_144401.mp4', 'VID_20250609_144409.mp4', 'VID_20250609_144444.mp4', 'VID_20250609_144435.mp4', 'VID_20250609_144416.mp4', 'VID_20250609_144459.mp4', 'VID_20250609_144451.mp4', 'VID_20250609_144507.mp4', 'VID_20250609_144516.mp4', 'VID_20250609_143925.mp4', 'VID_20250609_143917.mp4', 'VID_20250609_143905.mp4', 'VID_20250609_143934.mp4', 'VID_20250609_144017.mp4', 'VID_20250609_144025.mp4', 'VID_20250609_144048.mp4', 'VID_20250609_144057.mp4', 'VID_20250609_144108.mp4', 'VID_20250609_143650.mp4', 'VID_20250609_143658.mp4', 'VID_20250609_143717.mp4', 'VID_20250609_143709.mp4', 'VID_20250609_143734.mp4', 'VID_20250609_143725.mp4', 'VID_20250609_143509.mp4', 'VID_20250609_143542.mp4', 'VID_20250609_143550.mp4', 'VID_20250609_143517.mp4', 'VID_20250609_143558.mp4', 'VID_20250609_143623.mp4', 'VID_20250609_143606.mp4', 'VID_20250609_143614.mp4', 'VID_20250609_142950.mp4', 'VID_20250609_142959.mp4', 'VID_20250609_143007.mp4', 'VID_20250609_143016.mp4', 'VID_20250609_143247.mp4', 'VID_20250609_143233.mp4', 'VID_20250609_143304.mp4', 'VID_20250609_143321.mp4', 'VID_20250609_143313.mp4', 'VID_20250609_143357.mp4', 'VID_20250609_143339.mp4', 'VID_20250609_143405.mp4', 'VID_20250609_143414.mp4', 'VID_20250609_143423.mp4', 'VID_20250609_143431.mp4', 'VID_20250609_143444.mp4', 'VID_20250609_143350.mp4', 'VID_20250609_143500.mp4', 'VID_20250609_143452.mp4', 'VID_20250609_142827.mp4', 'VID_20250609_142819.mp4', 'VID_20250609_142836.mp4', 'VID_20250609_142850.mp4', 'VID_20250609_142858.mp4', 'VID_20250609_142915.mp4', 'VID_20250609_142907.mp4', 'VID_20250609_142922.mp4', 'VID_20250609_142942.mp4', 'VID_20250609_142811.mp4', 'VID_20250609_142803.mp4', 'VID_20250609_142505.mp4', 'VID_20250609_142520.mp4', 'VID_20250609_142536.mp4', 'VID_20250609_142527.mp4', 'VID_20250609_142544.mp4', 'VID_20250609_142554.mp4', 'VID_20250609_142610.mp4', 'VID_20250609_142618.mp4', 'VID_20250609_142626.mp4', 'VID_20250609_142634.mp4', 'VID_20250609_142720.mp4', 'VID_20250609_142711.mp4', 'VID_20250609_142727.mp4', 'VID_20250609_142734.mp4', 'VID_20250609_142743.mp4', 'VID_20250609_142159.mp4', 'VID_20250609_142206.mp4', 'VID_20250609_142243.mp4', 'VID_20250609_142227.mp4', 'VID_20250609_142234.mp4', 'VID_20250609_142251.mp4', 'VID_20250609_142258.mp4', 'VID_20250609_142306.mp4', 'VID_20250609_142327.mp4', 'VID_20250609_142318.mp4', 'VID_20250609_142350.mp4', 'VID_20250609_142334.mp4', 'VID_20250609_142341.mp4', 'VID_20250609_142358.mp4', 'VID_20250609_142422.mp4', 'VID_20250609_142446.mp4', 'VID_20250609_142429.mp4', 'VID_20250609_142454.mp4', 'VID_20250609_141855.mp4', 'VID_20250609_141848.mp4', 'VID_20250609_141914.mp4', 'VID_20250609_141938.mp4', 'VID_20250609_141903.mp4', 'VID_20250609_141954.mp4', 'VID_20250609_141946.mp4', 'VID_20250609_142001.mp4', 'VID_20250609_142008.mp4', 'VID_20250609_142016.mp4', 'VID_20250609_142044.mp4', 'VID_20250609_142037.mp4', 'VID_20250609_142052.mp4', 'VID_20250609_142119.mp4', 'VID_20250609_142101.mp4', 'VID_20250609_142109.mp4', 'VID_20250609_142137.mp4', 'VID_20250609_142145.mp4', 'VID_20250609_142152.mp4', 'VID_20250609_132910.mp4', 'VID_20250609_132902.mp4', 'VID_20250609_132933.mp4', 'VID_20250609_132918.mp4', 'VID_20250609_132926.mp4', 'VID_20250609_132956.mp4', 'VID_20250609_132949.mp4', 'VID_20250609_133004.mp4', 'VID_20250609_133012.mp4', 'VID_20250609_133020.mp4', 'VID_20250609_133027.mp4', 'VID_20250609_141833.mp4', 'VID_20250609_141824.mp4', 'VID_20250609_141841.mp4', 'VID_20250609_132433.mp4', 'VID_20250609_132320.mp4', 'VID_20250609_132328.mp4', 'VID_20250609_132335.mp4', 'VID_20250609_132441.mp4', 'VID_20250609_132459.mp4', 'VID_20250609_132506.mp4', 'VID_20250609_132521.mp4', 'VID_20250609_132514.mp4', 'VID_20250609_132552.mp4', 'VID_20250609_132531.mp4', 'VID_20250609_132600.mp4', 'VID_20250609_132637.mp4', 'VID_20250609_132608.mp4', 'VID_20250609_132616.mp4', 'VID_20250609_132645.mp4', 'VID_20250609_132711.mp4', 'VID_20250609_132719.mp4', 'VID_20250609_132727.mp4', 'VID_20250609_132735.mp4', 'VID_20250609_132743.mp4', 'VID_20250609_132855.mp4', 'VID_20250609_132125.mp4', 'VID_20250609_132131.mp4', 'VID_20250609_132200.mp4', 'VID_20250609_132208.mp4', 'VID_20250609_132216.mp4', 'VID_20250609_132223.mp4', 'VID_20250609_132230.mp4', 'VID_20250609_132313.mp4', 'VID_20250609_132237.mp4', 'VID_20250609_132306.mp4', 'VID_20250609_132029.mp4', 'VID_20250609_132021.mp4', 'VID_20250609_132014.mp4', 'VID_20250609_131353.mp4', 'VID_20250609_132037.mp4', 'VID_20250609_132044.mp4', 'VID_20250609_132110.mp4', 'VID_20250609_132117.mp4', 'VID_20250609_132057.mp4', 'VID_20250609_131841.mp4', 'VID_20250609_131833.mp4', 'VID_20250609_131909.mp4', 'VID_20250609_131918.mp4', 'VID_20250609_131932.mp4', 'VID_20250609_131925.mp4', 'VID_20250609_131939.mp4', 'VID_20250609_131947.mp4', 'VID_20250609_132006.mp4', 'VID_20250609_130120.mp4', 'VID_20250609_131517.mp4', 'VID_20250609_131510.mp4', 'VID_20250609_131526.mp4', 'VID_20250609_131556.mp4', 'VID_20250609_131604.mp4', 'VID_20250609_131613.mp4', 'VID_20250609_131629.mp4', 'VID_20250609_131621.mp4', 'VID_20250609_131641.mp4', 'VID_20250609_131731.mp4', 'VID_20250609_131724.mp4', 'VID_20250609_131747.mp4', 'VID_20250609_131739.mp4', 'VID_20250609_131754.mp4', 'VID_20250609_131809.mp4', 'VID_20250609_131825.mp4', 'VID_20250609_131817.mp4', 'VID_20250609_130858.mp4', 'VID_20250609_130841.mp4', 'VID_20250609_130849.mp4', 'VID_20250609_131149.mp4', 'VID_20250609_130907.mp4', 'VID_20250609_130916.mp4', 'VID_20250609_131157.mp4', 'VID_20250609_131206.mp4', 'VID_20250609_131214.mp4', 'VID_20250609_131240.mp4', 'VID_20250609_131248.mp4', 'VID_20250609_131222.mp4', 'VID_20250609_131307.mp4', 'VID_20250609_131400.mp4', 'VID_20250609_131315.mp4', 'VID_20250609_131415.mp4', 'VID_20250609_131408.mp4', 'VID_20250609_131423.mp4', 'VID_20250609_131502.mp4', 'VID_20250609_131431.mp4', 'VID_20250609_131440.mp4', 'VID_20250609_130533.mp4', 'VID_20250609_130608.mp4', 'VID_20250609_130541.mp4', 'VID_20250609_130600.mp4', 'VID_20250609_130617.mp4', 'VID_20250609_130624.mp4', 'VID_20250609_130633.mp4', 'VID_20250609_130702.mp4', 'VID_20250609_130654.mp4', 'VID_20250609_130710.mp4', 'VID_20250609_130727.mp4', 'VID_20250609_130718.mp4', 'VID_20250609_130737.mp4', 'VID_20250609_130758.mp4', 'VID_20250609_130807.mp4', 'VID_20250609_130747.mp4', 'VID_20250609_130825.mp4', 'VID_20250609_130815.mp4', 'VID_20250609_125957.mp4', 'VID_20250609_130009.mp4', 'VID_20250609_130019.mp4', 'VID_20250609_130041.mp4', 'VID_20250609_130030.mp4', 'VID_20250609_130051.mp4', 'VID_20250609_130129.mp4', 'VID_20250609_130111.mp4', 'VID_20250609_130139.mp4', 'VID_20250609_130149.mp4', 'VID_20250609_130214.mp4', 'VID_20250609_130223.mp4', 'VID_20250609_130231.mp4', 'VID_20250609_130239.mp4', 'VID_20250609_130458.mp4', 'VID_20250609_130248.mp4', 'VID_20250609_130506.mp4', 'VID_20250609_130524.mp4', 'VID_20250609_130516.mp4', 'VID_20250609_124855.mp4', 'VID_20250609_124846.mp4', 'VID_20250609_124838.mp4', 'VID_20250609_124919.mp4', 'VID_20250609_124903.mp4', 'VID_20250609_124927.mp4', 'VID_20250609_124935.mp4', 'VID_20250609_124952.mp4', 'VID_20250609_124943.mp4', 'VID_20250609_125000.mp4', 'VID_20250609_125847.mp4', 'VID_20250609_125011.mp4', 'VID_20250609_125855.mp4', 'VID_20250609_125903.mp4', 'VID_20250609_125910.mp4', 'VID_20250609_125918.mp4', 'VID_20250609_125944.mp4', 'VID_20250609_125926.mp4', 'VID_20250609_125934.mp4', 'VID_20250609_124424.mp4', 'VID_20250609_124444.mp4', 'VID_20250609_124432.mp4', 'VID_20250609_124454.mp4', 'VID_20250609_124502.mp4', 'VID_20250609_124510.mp4', 'VID_20250609_124536.mp4', 'VID_20250609_124615.mp4', 'VID_20250609_124527.mp4', 'VID_20250609_124624.mp4', 'VID_20250609_124631.mp4', 'VID_20250609_124651.mp4', 'VID_20250609_124659.mp4', 'VID_20250609_124643.mp4', 'VID_20250609_124708.mp4', 'VID_20250609_124718.mp4', 'VID_20250609_124753.mp4', 'VID_20250609_124813.mp4', 'VID_20250609_124805.mp4', 'VID_20250609_124830.mp4', 'VID_20250609_124043.mp4', 'VID_20250609_124100.mp4', 'VID_20250609_124052.mp4', 'VID_20250609_124109.mp4', 'VID_20250609_124121.mp4', 'VID_20250609_124145.mp4', 'VID_20250609_124154.mp4', 'VID_20250609_124202.mp4', 'VID_20250609_124218.mp4', 'VID_20250609_124210.mp4', 'VID_20250609_124309.mp4', 'VID_20250609_124227.mp4', 'VID_20250609_124300.mp4', 'VID_20250609_124318.mp4', 'VID_20250609_124334.mp4', 'VID_20250609_124327.mp4', 'VID_20250609_124416.mp4', 'VID_20250609_124351.mp4', 'VID_20250609_124343.mp4', 'VID_20250609_122942.mp4', 'VID_20250609_123647.mp4', 'VID_20250609_123732.mp4', 'VID_20250609_123657.mp4', 'VID_20250609_123803.mp4', 'VID_20250609_123750.mp4', 'VID_20250609_123741.mp4', 'VID_20250609_123820.mp4', 'VID_20250609_123811.mp4', 'VID_20250609_123828.mp4', 'VID_20250609_123853.mp4', 'VID_20250609_123845.mp4', 'VID_20250609_123902.mp4', 'VID_20250609_123912.mp4', 'VID_20250609_123921.mp4', 'VID_20250609_123244.mp4', 'VID_20250609_123928.mp4', 'VID_20250609_124009.mp4', 'VID_20250609_123935.mp4', 'VID_20250609_123213.mp4', 'VID_20250609_123221.mp4', 'VID_20250609_123237.mp4', 'VID_20250609_123229.mp4', 'VID_20250609_123611.mp4', 'VID_20250609_123602.mp4', 'VID_20250609_123619.mp4', 'VID_20250609_123627.mp4', 'VID_20250609_123637.mp4', 'VID_20250609_123050.mp4', 'VID_20250609_123058.mp4', 'VID_20250609_123106.mp4', 'VID_20250609_123115.mp4', 'VID_20250609_123123.mp4', 'VID_20250609_123205.mp4', 'VID_20250609_123134.mp4', 'VID_20250609_122743.mp4', 'VID_20250609_122807.mp4', 'VID_20250609_122815.mp4', 'VID_20250609_122823.mp4', 'VID_20250609_122838.mp4', 'VID_20250609_122959.mp4', 'VID_20250609_122952.mp4', 'VID_20250609_122831.mp4', 'VID_20250609_123008.mp4', 'VID_20250609_123017.mp4', 'VID_20250609_123042.mp4', 'VID_20250609_122530.mp4', 'VID_20250609_122548.mp4', 'VID_20250609_122539.mp4', 'VID_20250609_122612.mp4', 'VID_20250609_122555.mp4', 'VID_20250609_122704.mp4', 'VID_20250609_122656.mp4', 'VID_20250609_122711.mp4', 'VID_20250609_122727.mp4', 'VID_20250609_122736.mp4', 'VID_20250609_122520.mp4']\n"
          ]
        }
      ]
    },
    {
      "cell_type": "code",
      "source": [
        "import os\n",
        "\n",
        "# Set your folder path here\n",
        "folder_path = '/content/drive/My Drive/Hammering_Test/Bad_Data_2'\n",
        "\n",
        "# List all .mp4 files and sort them (optional)\n",
        "video_files = sorted([f for f in os.listdir(folder_path) if f.endswith('.mp4')])"
      ],
      "metadata": {
        "id": "XZ4CTku7MIDF"
      },
      "execution_count": null,
      "outputs": []
    },
    {
      "cell_type": "code",
      "source": [
        "for idx, filename in enumerate(video_files, start=101):\n",
        "    new_filename = f\"sample_{idx}.mp4\"\n",
        "    old_path = os.path.join(folder_path, filename)\n",
        "    new_path = os.path.join(folder_path, new_filename)\n",
        "    os.rename(old_path, new_path)\n",
        "    print(f\"Renamed: {filename} → {new_filename}\")"
      ],
      "metadata": {
        "colab": {
          "base_uri": "https://localhost:8080/"
        },
        "id": "afgn3ZM3L6wZ",
        "outputId": "315fe6ef-c3af-4497-e946-1afc93689408"
      },
      "execution_count": null,
      "outputs": [
        {
          "output_type": "stream",
          "name": "stdout",
          "text": [
            "Renamed: VID_20250609_122520.mp4 → sample_101.mp4\n",
            "Renamed: VID_20250609_122530.mp4 → sample_102.mp4\n",
            "Renamed: VID_20250609_122539.mp4 → sample_103.mp4\n",
            "Renamed: VID_20250609_122548.mp4 → sample_104.mp4\n",
            "Renamed: VID_20250609_122555.mp4 → sample_105.mp4\n",
            "Renamed: VID_20250609_122612.mp4 → sample_106.mp4\n",
            "Renamed: VID_20250609_122656.mp4 → sample_107.mp4\n",
            "Renamed: VID_20250609_122704.mp4 → sample_108.mp4\n",
            "Renamed: VID_20250609_122711.mp4 → sample_109.mp4\n",
            "Renamed: VID_20250609_122727.mp4 → sample_110.mp4\n",
            "Renamed: VID_20250609_122736.mp4 → sample_111.mp4\n",
            "Renamed: VID_20250609_122743.mp4 → sample_112.mp4\n",
            "Renamed: VID_20250609_122807.mp4 → sample_113.mp4\n",
            "Renamed: VID_20250609_122815.mp4 → sample_114.mp4\n",
            "Renamed: VID_20250609_122823.mp4 → sample_115.mp4\n",
            "Renamed: VID_20250609_122831.mp4 → sample_116.mp4\n",
            "Renamed: VID_20250609_122838.mp4 → sample_117.mp4\n",
            "Renamed: VID_20250609_122942.mp4 → sample_118.mp4\n",
            "Renamed: VID_20250609_122952.mp4 → sample_119.mp4\n",
            "Renamed: VID_20250609_122959.mp4 → sample_120.mp4\n",
            "Renamed: VID_20250609_123008.mp4 → sample_121.mp4\n",
            "Renamed: VID_20250609_123017.mp4 → sample_122.mp4\n",
            "Renamed: VID_20250609_123042.mp4 → sample_123.mp4\n",
            "Renamed: VID_20250609_123050.mp4 → sample_124.mp4\n",
            "Renamed: VID_20250609_123058.mp4 → sample_125.mp4\n",
            "Renamed: VID_20250609_123106.mp4 → sample_126.mp4\n",
            "Renamed: VID_20250609_123115.mp4 → sample_127.mp4\n",
            "Renamed: VID_20250609_123123.mp4 → sample_128.mp4\n",
            "Renamed: VID_20250609_123134.mp4 → sample_129.mp4\n",
            "Renamed: VID_20250609_123205.mp4 → sample_130.mp4\n",
            "Renamed: VID_20250609_123213.mp4 → sample_131.mp4\n",
            "Renamed: VID_20250609_123221.mp4 → sample_132.mp4\n",
            "Renamed: VID_20250609_123229.mp4 → sample_133.mp4\n",
            "Renamed: VID_20250609_123237.mp4 → sample_134.mp4\n",
            "Renamed: VID_20250609_123244.mp4 → sample_135.mp4\n",
            "Renamed: VID_20250609_123602.mp4 → sample_136.mp4\n",
            "Renamed: VID_20250609_123611.mp4 → sample_137.mp4\n",
            "Renamed: VID_20250609_123619.mp4 → sample_138.mp4\n",
            "Renamed: VID_20250609_123627.mp4 → sample_139.mp4\n",
            "Renamed: VID_20250609_123637.mp4 → sample_140.mp4\n",
            "Renamed: VID_20250609_123647.mp4 → sample_141.mp4\n",
            "Renamed: VID_20250609_123657.mp4 → sample_142.mp4\n",
            "Renamed: VID_20250609_123732.mp4 → sample_143.mp4\n",
            "Renamed: VID_20250609_123741.mp4 → sample_144.mp4\n",
            "Renamed: VID_20250609_123750.mp4 → sample_145.mp4\n",
            "Renamed: VID_20250609_123803.mp4 → sample_146.mp4\n",
            "Renamed: VID_20250609_123811.mp4 → sample_147.mp4\n",
            "Renamed: VID_20250609_123820.mp4 → sample_148.mp4\n",
            "Renamed: VID_20250609_123828.mp4 → sample_149.mp4\n",
            "Renamed: VID_20250609_123845.mp4 → sample_150.mp4\n",
            "Renamed: VID_20250609_123853.mp4 → sample_151.mp4\n",
            "Renamed: VID_20250609_123902.mp4 → sample_152.mp4\n",
            "Renamed: VID_20250609_123912.mp4 → sample_153.mp4\n",
            "Renamed: VID_20250609_123921.mp4 → sample_154.mp4\n",
            "Renamed: VID_20250609_123928.mp4 → sample_155.mp4\n",
            "Renamed: VID_20250609_123935.mp4 → sample_156.mp4\n",
            "Renamed: VID_20250609_124009.mp4 → sample_157.mp4\n",
            "Renamed: VID_20250609_124043.mp4 → sample_158.mp4\n",
            "Renamed: VID_20250609_124052.mp4 → sample_159.mp4\n",
            "Renamed: VID_20250609_124100.mp4 → sample_160.mp4\n",
            "Renamed: VID_20250609_124109.mp4 → sample_161.mp4\n",
            "Renamed: VID_20250609_124121.mp4 → sample_162.mp4\n",
            "Renamed: VID_20250609_124145.mp4 → sample_163.mp4\n",
            "Renamed: VID_20250609_124154.mp4 → sample_164.mp4\n",
            "Renamed: VID_20250609_124202.mp4 → sample_165.mp4\n",
            "Renamed: VID_20250609_124210.mp4 → sample_166.mp4\n",
            "Renamed: VID_20250609_124218.mp4 → sample_167.mp4\n",
            "Renamed: VID_20250609_124227.mp4 → sample_168.mp4\n",
            "Renamed: VID_20250609_124300.mp4 → sample_169.mp4\n",
            "Renamed: VID_20250609_124309.mp4 → sample_170.mp4\n",
            "Renamed: VID_20250609_124318.mp4 → sample_171.mp4\n",
            "Renamed: VID_20250609_124327.mp4 → sample_172.mp4\n",
            "Renamed: VID_20250609_124334.mp4 → sample_173.mp4\n",
            "Renamed: VID_20250609_124343.mp4 → sample_174.mp4\n",
            "Renamed: VID_20250609_124351.mp4 → sample_175.mp4\n",
            "Renamed: VID_20250609_124416.mp4 → sample_176.mp4\n",
            "Renamed: VID_20250609_124424.mp4 → sample_177.mp4\n",
            "Renamed: VID_20250609_124432.mp4 → sample_178.mp4\n",
            "Renamed: VID_20250609_124444.mp4 → sample_179.mp4\n",
            "Renamed: VID_20250609_124454.mp4 → sample_180.mp4\n",
            "Renamed: VID_20250609_124502.mp4 → sample_181.mp4\n",
            "Renamed: VID_20250609_124510.mp4 → sample_182.mp4\n",
            "Renamed: VID_20250609_124527.mp4 → sample_183.mp4\n",
            "Renamed: VID_20250609_124536.mp4 → sample_184.mp4\n",
            "Renamed: VID_20250609_124615.mp4 → sample_185.mp4\n",
            "Renamed: VID_20250609_124624.mp4 → sample_186.mp4\n",
            "Renamed: VID_20250609_124631.mp4 → sample_187.mp4\n",
            "Renamed: VID_20250609_124643.mp4 → sample_188.mp4\n",
            "Renamed: VID_20250609_124651.mp4 → sample_189.mp4\n",
            "Renamed: VID_20250609_124659.mp4 → sample_190.mp4\n",
            "Renamed: VID_20250609_124708.mp4 → sample_191.mp4\n",
            "Renamed: VID_20250609_124718.mp4 → sample_192.mp4\n",
            "Renamed: VID_20250609_124753.mp4 → sample_193.mp4\n",
            "Renamed: VID_20250609_124805.mp4 → sample_194.mp4\n",
            "Renamed: VID_20250609_124813.mp4 → sample_195.mp4\n",
            "Renamed: VID_20250609_124830.mp4 → sample_196.mp4\n",
            "Renamed: VID_20250609_124838.mp4 → sample_197.mp4\n",
            "Renamed: VID_20250609_124846.mp4 → sample_198.mp4\n",
            "Renamed: VID_20250609_124855.mp4 → sample_199.mp4\n",
            "Renamed: VID_20250609_124903.mp4 → sample_200.mp4\n",
            "Renamed: VID_20250609_124919.mp4 → sample_201.mp4\n",
            "Renamed: VID_20250609_124927.mp4 → sample_202.mp4\n",
            "Renamed: VID_20250609_124935.mp4 → sample_203.mp4\n",
            "Renamed: VID_20250609_124943.mp4 → sample_204.mp4\n",
            "Renamed: VID_20250609_124952.mp4 → sample_205.mp4\n",
            "Renamed: VID_20250609_125000.mp4 → sample_206.mp4\n",
            "Renamed: VID_20250609_125011.mp4 → sample_207.mp4\n",
            "Renamed: VID_20250609_125847.mp4 → sample_208.mp4\n",
            "Renamed: VID_20250609_125855.mp4 → sample_209.mp4\n",
            "Renamed: VID_20250609_125903.mp4 → sample_210.mp4\n",
            "Renamed: VID_20250609_125910.mp4 → sample_211.mp4\n",
            "Renamed: VID_20250609_125918.mp4 → sample_212.mp4\n",
            "Renamed: VID_20250609_125926.mp4 → sample_213.mp4\n",
            "Renamed: VID_20250609_125934.mp4 → sample_214.mp4\n",
            "Renamed: VID_20250609_125944.mp4 → sample_215.mp4\n",
            "Renamed: VID_20250609_125957.mp4 → sample_216.mp4\n",
            "Renamed: VID_20250609_130009.mp4 → sample_217.mp4\n",
            "Renamed: VID_20250609_130019.mp4 → sample_218.mp4\n",
            "Renamed: VID_20250609_130030.mp4 → sample_219.mp4\n",
            "Renamed: VID_20250609_130041.mp4 → sample_220.mp4\n",
            "Renamed: VID_20250609_130051.mp4 → sample_221.mp4\n",
            "Renamed: VID_20250609_130111.mp4 → sample_222.mp4\n",
            "Renamed: VID_20250609_130120.mp4 → sample_223.mp4\n",
            "Renamed: VID_20250609_130129.mp4 → sample_224.mp4\n",
            "Renamed: VID_20250609_130139.mp4 → sample_225.mp4\n",
            "Renamed: VID_20250609_130149.mp4 → sample_226.mp4\n",
            "Renamed: VID_20250609_130214.mp4 → sample_227.mp4\n",
            "Renamed: VID_20250609_130223.mp4 → sample_228.mp4\n",
            "Renamed: VID_20250609_130231.mp4 → sample_229.mp4\n",
            "Renamed: VID_20250609_130239.mp4 → sample_230.mp4\n",
            "Renamed: VID_20250609_130248.mp4 → sample_231.mp4\n",
            "Renamed: VID_20250609_130458.mp4 → sample_232.mp4\n",
            "Renamed: VID_20250609_130506.mp4 → sample_233.mp4\n",
            "Renamed: VID_20250609_130516.mp4 → sample_234.mp4\n",
            "Renamed: VID_20250609_130524.mp4 → sample_235.mp4\n",
            "Renamed: VID_20250609_130533.mp4 → sample_236.mp4\n",
            "Renamed: VID_20250609_130541.mp4 → sample_237.mp4\n",
            "Renamed: VID_20250609_130600.mp4 → sample_238.mp4\n",
            "Renamed: VID_20250609_130608.mp4 → sample_239.mp4\n",
            "Renamed: VID_20250609_130617.mp4 → sample_240.mp4\n",
            "Renamed: VID_20250609_130624.mp4 → sample_241.mp4\n",
            "Renamed: VID_20250609_130633.mp4 → sample_242.mp4\n",
            "Renamed: VID_20250609_130654.mp4 → sample_243.mp4\n",
            "Renamed: VID_20250609_130702.mp4 → sample_244.mp4\n",
            "Renamed: VID_20250609_130710.mp4 → sample_245.mp4\n",
            "Renamed: VID_20250609_130718.mp4 → sample_246.mp4\n",
            "Renamed: VID_20250609_130727.mp4 → sample_247.mp4\n",
            "Renamed: VID_20250609_130737.mp4 → sample_248.mp4\n",
            "Renamed: VID_20250609_130747.mp4 → sample_249.mp4\n",
            "Renamed: VID_20250609_130758.mp4 → sample_250.mp4\n",
            "Renamed: VID_20250609_130807.mp4 → sample_251.mp4\n",
            "Renamed: VID_20250609_130815.mp4 → sample_252.mp4\n",
            "Renamed: VID_20250609_130825.mp4 → sample_253.mp4\n",
            "Renamed: VID_20250609_130841.mp4 → sample_254.mp4\n",
            "Renamed: VID_20250609_130849.mp4 → sample_255.mp4\n",
            "Renamed: VID_20250609_130858.mp4 → sample_256.mp4\n",
            "Renamed: VID_20250609_130907.mp4 → sample_257.mp4\n",
            "Renamed: VID_20250609_130916.mp4 → sample_258.mp4\n",
            "Renamed: VID_20250609_131149.mp4 → sample_259.mp4\n",
            "Renamed: VID_20250609_131157.mp4 → sample_260.mp4\n",
            "Renamed: VID_20250609_131206.mp4 → sample_261.mp4\n",
            "Renamed: VID_20250609_131214.mp4 → sample_262.mp4\n",
            "Renamed: VID_20250609_131222.mp4 → sample_263.mp4\n",
            "Renamed: VID_20250609_131240.mp4 → sample_264.mp4\n",
            "Renamed: VID_20250609_131248.mp4 → sample_265.mp4\n",
            "Renamed: VID_20250609_131307.mp4 → sample_266.mp4\n",
            "Renamed: VID_20250609_131315.mp4 → sample_267.mp4\n",
            "Renamed: VID_20250609_131353.mp4 → sample_268.mp4\n",
            "Renamed: VID_20250609_131400.mp4 → sample_269.mp4\n",
            "Renamed: VID_20250609_131408.mp4 → sample_270.mp4\n",
            "Renamed: VID_20250609_131415.mp4 → sample_271.mp4\n",
            "Renamed: VID_20250609_131423.mp4 → sample_272.mp4\n",
            "Renamed: VID_20250609_131431.mp4 → sample_273.mp4\n",
            "Renamed: VID_20250609_131440.mp4 → sample_274.mp4\n",
            "Renamed: VID_20250609_131502.mp4 → sample_275.mp4\n",
            "Renamed: VID_20250609_131510.mp4 → sample_276.mp4\n",
            "Renamed: VID_20250609_131517.mp4 → sample_277.mp4\n",
            "Renamed: VID_20250609_131526.mp4 → sample_278.mp4\n",
            "Renamed: VID_20250609_131556.mp4 → sample_279.mp4\n",
            "Renamed: VID_20250609_131604.mp4 → sample_280.mp4\n",
            "Renamed: VID_20250609_131613.mp4 → sample_281.mp4\n",
            "Renamed: VID_20250609_131621.mp4 → sample_282.mp4\n",
            "Renamed: VID_20250609_131629.mp4 → sample_283.mp4\n",
            "Renamed: VID_20250609_131641.mp4 → sample_284.mp4\n",
            "Renamed: VID_20250609_131724.mp4 → sample_285.mp4\n",
            "Renamed: VID_20250609_131731.mp4 → sample_286.mp4\n",
            "Renamed: VID_20250609_131739.mp4 → sample_287.mp4\n",
            "Renamed: VID_20250609_131747.mp4 → sample_288.mp4\n",
            "Renamed: VID_20250609_131754.mp4 → sample_289.mp4\n",
            "Renamed: VID_20250609_131809.mp4 → sample_290.mp4\n",
            "Renamed: VID_20250609_131817.mp4 → sample_291.mp4\n",
            "Renamed: VID_20250609_131825.mp4 → sample_292.mp4\n",
            "Renamed: VID_20250609_131833.mp4 → sample_293.mp4\n",
            "Renamed: VID_20250609_131841.mp4 → sample_294.mp4\n",
            "Renamed: VID_20250609_131909.mp4 → sample_295.mp4\n",
            "Renamed: VID_20250609_131918.mp4 → sample_296.mp4\n",
            "Renamed: VID_20250609_131925.mp4 → sample_297.mp4\n",
            "Renamed: VID_20250609_131932.mp4 → sample_298.mp4\n",
            "Renamed: VID_20250609_131939.mp4 → sample_299.mp4\n",
            "Renamed: VID_20250609_131947.mp4 → sample_300.mp4\n",
            "Renamed: VID_20250609_132006.mp4 → sample_301.mp4\n",
            "Renamed: VID_20250609_132014.mp4 → sample_302.mp4\n",
            "Renamed: VID_20250609_132021.mp4 → sample_303.mp4\n",
            "Renamed: VID_20250609_132029.mp4 → sample_304.mp4\n",
            "Renamed: VID_20250609_132037.mp4 → sample_305.mp4\n",
            "Renamed: VID_20250609_132044.mp4 → sample_306.mp4\n",
            "Renamed: VID_20250609_132057.mp4 → sample_307.mp4\n",
            "Renamed: VID_20250609_132110.mp4 → sample_308.mp4\n",
            "Renamed: VID_20250609_132117.mp4 → sample_309.mp4\n",
            "Renamed: VID_20250609_132125.mp4 → sample_310.mp4\n",
            "Renamed: VID_20250609_132131.mp4 → sample_311.mp4\n",
            "Renamed: VID_20250609_132200.mp4 → sample_312.mp4\n",
            "Renamed: VID_20250609_132208.mp4 → sample_313.mp4\n",
            "Renamed: VID_20250609_132216.mp4 → sample_314.mp4\n",
            "Renamed: VID_20250609_132223.mp4 → sample_315.mp4\n",
            "Renamed: VID_20250609_132230.mp4 → sample_316.mp4\n",
            "Renamed: VID_20250609_132237.mp4 → sample_317.mp4\n",
            "Renamed: VID_20250609_132306.mp4 → sample_318.mp4\n",
            "Renamed: VID_20250609_132313.mp4 → sample_319.mp4\n",
            "Renamed: VID_20250609_132320.mp4 → sample_320.mp4\n",
            "Renamed: VID_20250609_132328.mp4 → sample_321.mp4\n",
            "Renamed: VID_20250609_132335.mp4 → sample_322.mp4\n",
            "Renamed: VID_20250609_132433.mp4 → sample_323.mp4\n",
            "Renamed: VID_20250609_132441.mp4 → sample_324.mp4\n",
            "Renamed: VID_20250609_132459.mp4 → sample_325.mp4\n",
            "Renamed: VID_20250609_132506.mp4 → sample_326.mp4\n",
            "Renamed: VID_20250609_132514.mp4 → sample_327.mp4\n",
            "Renamed: VID_20250609_132521.mp4 → sample_328.mp4\n",
            "Renamed: VID_20250609_132531.mp4 → sample_329.mp4\n",
            "Renamed: VID_20250609_132552.mp4 → sample_330.mp4\n",
            "Renamed: VID_20250609_132600.mp4 → sample_331.mp4\n",
            "Renamed: VID_20250609_132608.mp4 → sample_332.mp4\n",
            "Renamed: VID_20250609_132616.mp4 → sample_333.mp4\n",
            "Renamed: VID_20250609_132637.mp4 → sample_334.mp4\n",
            "Renamed: VID_20250609_132645.mp4 → sample_335.mp4\n",
            "Renamed: VID_20250609_132711.mp4 → sample_336.mp4\n",
            "Renamed: VID_20250609_132719.mp4 → sample_337.mp4\n",
            "Renamed: VID_20250609_132727.mp4 → sample_338.mp4\n",
            "Renamed: VID_20250609_132735.mp4 → sample_339.mp4\n",
            "Renamed: VID_20250609_132743.mp4 → sample_340.mp4\n",
            "Renamed: VID_20250609_132855.mp4 → sample_341.mp4\n",
            "Renamed: VID_20250609_132902.mp4 → sample_342.mp4\n",
            "Renamed: VID_20250609_132910.mp4 → sample_343.mp4\n",
            "Renamed: VID_20250609_132918.mp4 → sample_344.mp4\n",
            "Renamed: VID_20250609_132926.mp4 → sample_345.mp4\n",
            "Renamed: VID_20250609_132933.mp4 → sample_346.mp4\n",
            "Renamed: VID_20250609_132949.mp4 → sample_347.mp4\n",
            "Renamed: VID_20250609_132956.mp4 → sample_348.mp4\n",
            "Renamed: VID_20250609_133004.mp4 → sample_349.mp4\n",
            "Renamed: VID_20250609_133012.mp4 → sample_350.mp4\n",
            "Renamed: VID_20250609_133020.mp4 → sample_351.mp4\n",
            "Renamed: VID_20250609_133027.mp4 → sample_352.mp4\n",
            "Renamed: VID_20250609_141824.mp4 → sample_353.mp4\n",
            "Renamed: VID_20250609_141833.mp4 → sample_354.mp4\n",
            "Renamed: VID_20250609_141841.mp4 → sample_355.mp4\n",
            "Renamed: VID_20250609_141848.mp4 → sample_356.mp4\n",
            "Renamed: VID_20250609_141855.mp4 → sample_357.mp4\n",
            "Renamed: VID_20250609_141903.mp4 → sample_358.mp4\n",
            "Renamed: VID_20250609_141914.mp4 → sample_359.mp4\n",
            "Renamed: VID_20250609_141938.mp4 → sample_360.mp4\n",
            "Renamed: VID_20250609_141946.mp4 → sample_361.mp4\n",
            "Renamed: VID_20250609_141954.mp4 → sample_362.mp4\n",
            "Renamed: VID_20250609_142001.mp4 → sample_363.mp4\n",
            "Renamed: VID_20250609_142008.mp4 → sample_364.mp4\n",
            "Renamed: VID_20250609_142016.mp4 → sample_365.mp4\n",
            "Renamed: VID_20250609_142037.mp4 → sample_366.mp4\n",
            "Renamed: VID_20250609_142044.mp4 → sample_367.mp4\n",
            "Renamed: VID_20250609_142052.mp4 → sample_368.mp4\n",
            "Renamed: VID_20250609_142101.mp4 → sample_369.mp4\n",
            "Renamed: VID_20250609_142109.mp4 → sample_370.mp4\n",
            "Renamed: VID_20250609_142119.mp4 → sample_371.mp4\n",
            "Renamed: VID_20250609_142137.mp4 → sample_372.mp4\n",
            "Renamed: VID_20250609_142145.mp4 → sample_373.mp4\n",
            "Renamed: VID_20250609_142152.mp4 → sample_374.mp4\n",
            "Renamed: VID_20250609_142159.mp4 → sample_375.mp4\n",
            "Renamed: VID_20250609_142206.mp4 → sample_376.mp4\n",
            "Renamed: VID_20250609_142227.mp4 → sample_377.mp4\n",
            "Renamed: VID_20250609_142234.mp4 → sample_378.mp4\n",
            "Renamed: VID_20250609_142243.mp4 → sample_379.mp4\n",
            "Renamed: VID_20250609_142251.mp4 → sample_380.mp4\n",
            "Renamed: VID_20250609_142258.mp4 → sample_381.mp4\n",
            "Renamed: VID_20250609_142306.mp4 → sample_382.mp4\n",
            "Renamed: VID_20250609_142318.mp4 → sample_383.mp4\n",
            "Renamed: VID_20250609_142327.mp4 → sample_384.mp4\n",
            "Renamed: VID_20250609_142334.mp4 → sample_385.mp4\n",
            "Renamed: VID_20250609_142341.mp4 → sample_386.mp4\n",
            "Renamed: VID_20250609_142350.mp4 → sample_387.mp4\n",
            "Renamed: VID_20250609_142358.mp4 → sample_388.mp4\n",
            "Renamed: VID_20250609_142422.mp4 → sample_389.mp4\n",
            "Renamed: VID_20250609_142429.mp4 → sample_390.mp4\n",
            "Renamed: VID_20250609_142446.mp4 → sample_391.mp4\n",
            "Renamed: VID_20250609_142454.mp4 → sample_392.mp4\n",
            "Renamed: VID_20250609_142505.mp4 → sample_393.mp4\n",
            "Renamed: VID_20250609_142520.mp4 → sample_394.mp4\n",
            "Renamed: VID_20250609_142527.mp4 → sample_395.mp4\n",
            "Renamed: VID_20250609_142536.mp4 → sample_396.mp4\n",
            "Renamed: VID_20250609_142544.mp4 → sample_397.mp4\n",
            "Renamed: VID_20250609_142554.mp4 → sample_398.mp4\n",
            "Renamed: VID_20250609_142610.mp4 → sample_399.mp4\n",
            "Renamed: VID_20250609_142618.mp4 → sample_400.mp4\n",
            "Renamed: VID_20250609_142626.mp4 → sample_401.mp4\n",
            "Renamed: VID_20250609_142634.mp4 → sample_402.mp4\n",
            "Renamed: VID_20250609_142711.mp4 → sample_403.mp4\n",
            "Renamed: VID_20250609_142720.mp4 → sample_404.mp4\n",
            "Renamed: VID_20250609_142727.mp4 → sample_405.mp4\n",
            "Renamed: VID_20250609_142734.mp4 → sample_406.mp4\n",
            "Renamed: VID_20250609_142743.mp4 → sample_407.mp4\n",
            "Renamed: VID_20250609_142803.mp4 → sample_408.mp4\n",
            "Renamed: VID_20250609_142811.mp4 → sample_409.mp4\n",
            "Renamed: VID_20250609_142819.mp4 → sample_410.mp4\n",
            "Renamed: VID_20250609_142827.mp4 → sample_411.mp4\n",
            "Renamed: VID_20250609_142836.mp4 → sample_412.mp4\n",
            "Renamed: VID_20250609_142850.mp4 → sample_413.mp4\n",
            "Renamed: VID_20250609_142858.mp4 → sample_414.mp4\n",
            "Renamed: VID_20250609_142907.mp4 → sample_415.mp4\n",
            "Renamed: VID_20250609_142915.mp4 → sample_416.mp4\n",
            "Renamed: VID_20250609_142922.mp4 → sample_417.mp4\n",
            "Renamed: VID_20250609_142942.mp4 → sample_418.mp4\n",
            "Renamed: VID_20250609_142950.mp4 → sample_419.mp4\n",
            "Renamed: VID_20250609_142959.mp4 → sample_420.mp4\n",
            "Renamed: VID_20250609_143007.mp4 → sample_421.mp4\n",
            "Renamed: VID_20250609_143016.mp4 → sample_422.mp4\n",
            "Renamed: VID_20250609_143233.mp4 → sample_423.mp4\n",
            "Renamed: VID_20250609_143247.mp4 → sample_424.mp4\n",
            "Renamed: VID_20250609_143304.mp4 → sample_425.mp4\n",
            "Renamed: VID_20250609_143313.mp4 → sample_426.mp4\n",
            "Renamed: VID_20250609_143321.mp4 → sample_427.mp4\n",
            "Renamed: VID_20250609_143339.mp4 → sample_428.mp4\n",
            "Renamed: VID_20250609_143350.mp4 → sample_429.mp4\n",
            "Renamed: VID_20250609_143357.mp4 → sample_430.mp4\n",
            "Renamed: VID_20250609_143405.mp4 → sample_431.mp4\n",
            "Renamed: VID_20250609_143414.mp4 → sample_432.mp4\n",
            "Renamed: VID_20250609_143423.mp4 → sample_433.mp4\n",
            "Renamed: VID_20250609_143431.mp4 → sample_434.mp4\n",
            "Renamed: VID_20250609_143444.mp4 → sample_435.mp4\n",
            "Renamed: VID_20250609_143452.mp4 → sample_436.mp4\n",
            "Renamed: VID_20250609_143500.mp4 → sample_437.mp4\n",
            "Renamed: VID_20250609_143509.mp4 → sample_438.mp4\n",
            "Renamed: VID_20250609_143517.mp4 → sample_439.mp4\n",
            "Renamed: VID_20250609_143542.mp4 → sample_440.mp4\n",
            "Renamed: VID_20250609_143550.mp4 → sample_441.mp4\n",
            "Renamed: VID_20250609_143558.mp4 → sample_442.mp4\n",
            "Renamed: VID_20250609_143606.mp4 → sample_443.mp4\n",
            "Renamed: VID_20250609_143614.mp4 → sample_444.mp4\n",
            "Renamed: VID_20250609_143623.mp4 → sample_445.mp4\n",
            "Renamed: VID_20250609_143650.mp4 → sample_446.mp4\n",
            "Renamed: VID_20250609_143658.mp4 → sample_447.mp4\n",
            "Renamed: VID_20250609_143709.mp4 → sample_448.mp4\n",
            "Renamed: VID_20250609_143717.mp4 → sample_449.mp4\n",
            "Renamed: VID_20250609_143725.mp4 → sample_450.mp4\n",
            "Renamed: VID_20250609_143734.mp4 → sample_451.mp4\n",
            "Renamed: VID_20250609_143905.mp4 → sample_452.mp4\n",
            "Renamed: VID_20250609_143917.mp4 → sample_453.mp4\n",
            "Renamed: VID_20250609_143925.mp4 → sample_454.mp4\n",
            "Renamed: VID_20250609_143934.mp4 → sample_455.mp4\n",
            "Renamed: VID_20250609_144017.mp4 → sample_456.mp4\n",
            "Renamed: VID_20250609_144025.mp4 → sample_457.mp4\n",
            "Renamed: VID_20250609_144048.mp4 → sample_458.mp4\n",
            "Renamed: VID_20250609_144057.mp4 → sample_459.mp4\n",
            "Renamed: VID_20250609_144108.mp4 → sample_460.mp4\n",
            "Renamed: VID_20250609_144115.mp4 → sample_461.mp4\n",
            "Renamed: VID_20250609_144148.mp4 → sample_462.mp4\n",
            "Renamed: VID_20250609_144156.mp4 → sample_463.mp4\n",
            "Renamed: VID_20250609_144228.mp4 → sample_464.mp4\n",
            "Renamed: VID_20250609_144236.mp4 → sample_465.mp4\n",
            "Renamed: VID_20250609_144244.mp4 → sample_466.mp4\n",
            "Renamed: VID_20250609_144252.mp4 → sample_467.mp4\n",
            "Renamed: VID_20250609_144300.mp4 → sample_468.mp4\n",
            "Renamed: VID_20250609_144308.mp4 → sample_469.mp4\n",
            "Renamed: VID_20250609_144338.mp4 → sample_470.mp4\n",
            "Renamed: VID_20250609_144353.mp4 → sample_471.mp4\n",
            "Renamed: VID_20250609_144401.mp4 → sample_472.mp4\n",
            "Renamed: VID_20250609_144409.mp4 → sample_473.mp4\n",
            "Renamed: VID_20250609_144416.mp4 → sample_474.mp4\n",
            "Renamed: VID_20250609_144435.mp4 → sample_475.mp4\n",
            "Renamed: VID_20250609_144444.mp4 → sample_476.mp4\n",
            "Renamed: VID_20250609_144451.mp4 → sample_477.mp4\n",
            "Renamed: VID_20250609_144459.mp4 → sample_478.mp4\n",
            "Renamed: VID_20250609_144507.mp4 → sample_479.mp4\n",
            "Renamed: VID_20250609_144516.mp4 → sample_480.mp4\n",
            "Renamed: VID_20250609_144542.mp4 → sample_481.mp4\n",
            "Renamed: VID_20250609_144556.mp4 → sample_482.mp4\n",
            "Renamed: VID_20250609_144604.mp4 → sample_483.mp4\n",
            "Renamed: VID_20250609_144612.mp4 → sample_484.mp4\n",
            "Renamed: VID_20250609_144622.mp4 → sample_485.mp4\n",
            "Renamed: VID_20250609_144641.mp4 → sample_486.mp4\n",
            "Renamed: VID_20250609_144715.mp4 → sample_487.mp4\n",
            "Renamed: VID_20250609_144723.mp4 → sample_488.mp4\n",
            "Renamed: VID_20250609_144731.mp4 → sample_489.mp4\n",
            "Renamed: VID_20250609_144739.mp4 → sample_490.mp4\n",
            "Renamed: VID_20250609_144747.mp4 → sample_491.mp4\n",
            "Renamed: VID_20250609_144757.mp4 → sample_492.mp4\n",
            "Renamed: VID_20250609_144841.mp4 → sample_493.mp4\n",
            "Renamed: VID_20250609_144850.mp4 → sample_494.mp4\n",
            "Renamed: VID_20250609_144857.mp4 → sample_495.mp4\n",
            "Renamed: VID_20250609_144905.mp4 → sample_496.mp4\n",
            "Renamed: VID_20250609_144915.mp4 → sample_497.mp4\n",
            "Renamed: VID_20250609_144936.mp4 → sample_498.mp4\n",
            "Renamed: VID_20250609_144944.mp4 → sample_499.mp4\n",
            "Renamed: VID_20250609_144953.mp4 → sample_500.mp4\n"
          ]
        }
      ]
    },
    {
      "cell_type": "code",
      "source": [
        "import os\n",
        "from moviepy.editor import VideoFileClip\n",
        "\n",
        "folder_path = '/content/drive/My Drive/Hammering_Test/Bad_Data_2'\n",
        "\n",
        "# Create a new folder to save WAV files (doesn't touch originals)\n",
        "output_path = os.path.join(folder_path, 'converted_wav')\n",
        "os.makedirs(output_path, exist_ok=True)\n",
        "\n",
        "for filename in os.listdir(folder_path):\n",
        "    if filename.lower().endswith('.mp4'):\n",
        "        video_path = os.path.join(folder_path, filename)\n",
        "        wav_filename = os.path.splitext(filename)[0] + '.wav'\n",
        "        wav_path = os.path.join(output_path, wav_filename)\n",
        "\n",
        "        # Extract audio safely\n",
        "        video = VideoFileClip(video_path)\n",
        "        video.audio.write_audiofile(wav_path)\n",
        "\n",
        "        print(f\"✅ Converted {filename} → {wav_filename}\")"
      ],
      "metadata": {
        "colab": {
          "base_uri": "https://localhost:8080/",
          "height": 1000
        },
        "id": "EonMxAS_MPeF",
        "outputId": "bac52098-0300-4c26-e966-ffcef32f90b0"
      },
      "execution_count": null,
      "outputs": [
        {
          "output_type": "stream",
          "name": "stdout",
          "text": [
            "MoviePy - Writing audio in /content/drive/My Drive/Hammering_Test/Bad_Data_2/converted_wav/sample_497.wav\n"
          ]
        },
        {
          "output_type": "stream",
          "name": "stderr",
          "text": [
            "                                                                    "
          ]
        },
        {
          "output_type": "stream",
          "name": "stdout",
          "text": [
            "MoviePy - Done.\n",
            "✅ Converted sample_497.mp4 → sample_497.wav\n"
          ]
        },
        {
          "output_type": "stream",
          "name": "stderr",
          "text": [
            "\r"
          ]
        },
        {
          "output_type": "stream",
          "name": "stdout",
          "text": [
            "MoviePy - Writing audio in /content/drive/My Drive/Hammering_Test/Bad_Data_2/converted_wav/sample_498.wav\n"
          ]
        },
        {
          "output_type": "stream",
          "name": "stderr",
          "text": [
            "                                                        "
          ]
        },
        {
          "output_type": "stream",
          "name": "stdout",
          "text": [
            "MoviePy - Done.\n",
            "✅ Converted sample_498.mp4 → sample_498.wav\n"
          ]
        },
        {
          "output_type": "stream",
          "name": "stderr",
          "text": [
            "\r"
          ]
        },
        {
          "output_type": "stream",
          "name": "stdout",
          "text": [
            "MoviePy - Writing audio in /content/drive/My Drive/Hammering_Test/Bad_Data_2/converted_wav/sample_499.wav\n"
          ]
        },
        {
          "output_type": "stream",
          "name": "stderr",
          "text": [
            "                                                        "
          ]
        },
        {
          "output_type": "stream",
          "name": "stdout",
          "text": [
            "MoviePy - Done.\n",
            "✅ Converted sample_499.mp4 → sample_499.wav\n"
          ]
        },
        {
          "output_type": "stream",
          "name": "stderr",
          "text": [
            "\r"
          ]
        },
        {
          "output_type": "stream",
          "name": "stdout",
          "text": [
            "MoviePy - Writing audio in /content/drive/My Drive/Hammering_Test/Bad_Data_2/converted_wav/sample_500.wav\n"
          ]
        },
        {
          "output_type": "stream",
          "name": "stderr",
          "text": [
            "                                                                    "
          ]
        },
        {
          "output_type": "stream",
          "name": "stdout",
          "text": [
            "MoviePy - Done.\n",
            "✅ Converted sample_500.mp4 → sample_500.wav\n"
          ]
        },
        {
          "output_type": "stream",
          "name": "stderr",
          "text": [
            "\r"
          ]
        },
        {
          "output_type": "error",
          "ename": "OSError",
          "evalue": "MoviePy error: failed to read the duration of file /content/drive/My Drive/Hammering_Test/Bad_Data_2/sample_490.mp4.\nHere are the file infos returned by ffmpeg:\n\nffmpeg version 7.0.2-static https://johnvansickle.com/ffmpeg/  Copyright (c) 2000-2024 the FFmpeg developers\n  built with gcc 8 (Debian 8.3.0-6)\n  configuration: --enable-gpl --enable-version3 --enable-static --disable-debug --disable-ffplay --disable-indev=sndio --disable-outdev=sndio --cc=gcc --enable-fontconfig --enable-frei0r --enable-gnutls --enable-gmp --enable-libgme --enable-gray --enable-libaom --enable-libfribidi --enable-libass --enable-libvmaf --enable-libfreetype --enable-libmp3lame --enable-libopencore-amrnb --enable-libopencore-amrwb --enable-libopenjpeg --enable-librubberband --enable-libsoxr --enable-libspeex --enable-libsrt --enable-libvorbis --enable-libopus --enable-libtheora --enable-libvidstab --enable-libvo-amrwbenc --enable-libvpx --enable-libwebp --enable-libx264 --enable-libx265 --enable-libxml2 --enable-libdav1d --enable-libxvid --enable-libzvbi --enable-libzimg\n  libavutil      59.  8.100 / 59.  8.100\n  libavcodec     61.  3.100 / 61.  3.100\n  libavformat    61.  1.100 / 61.  1.100\n  libavdevice    61.  1.100 / 61.  1.100\n  libavfilter    10.  1.100 / 10.  1.100\n  libswscale      8.  1.100 /  8.  1.100\n  libswresample   5.  1.100 /  5.  1.100\n  libpostproc    58.  1.100 / 58.  1.100\n[mov,mp4,m4a,3gp,3g2,mj2 @ 0x32b03d40] moov atom not found\n[in#0 @ 0x32b03a40] Error opening input: Invalid data found when processing input\nError opening input file /content/drive/My Drive/Hammering_Test/Bad_Data_2/sample_490.mp4.\nError opening input files: Invalid data found when processing input\n",
          "traceback": [
            "\u001b[0;31m---------------------------------------------------------------------------\u001b[0m",
            "\u001b[0;31mIndexError\u001b[0m                                Traceback (most recent call last)",
            "\u001b[0;32m/usr/local/lib/python3.11/dist-packages/moviepy/video/io/ffmpeg_reader.py\u001b[0m in \u001b[0;36mffmpeg_parse_infos\u001b[0;34m(filename, print_infos, check_duration, fps_source)\u001b[0m\n\u001b[1;32m    284\u001b[0m             \u001b[0mindex\u001b[0m \u001b[0;34m=\u001b[0m \u001b[0;34m-\u001b[0m\u001b[0;36m1\u001b[0m \u001b[0;32mif\u001b[0m \u001b[0mis_GIF\u001b[0m \u001b[0;32melse\u001b[0m \u001b[0;36m0\u001b[0m\u001b[0;34m\u001b[0m\u001b[0;34m\u001b[0m\u001b[0m\n\u001b[0;32m--> 285\u001b[0;31m             \u001b[0mline\u001b[0m \u001b[0;34m=\u001b[0m \u001b[0;34m[\u001b[0m\u001b[0ml\u001b[0m \u001b[0;32mfor\u001b[0m \u001b[0ml\u001b[0m \u001b[0;32min\u001b[0m \u001b[0mlines\u001b[0m \u001b[0;32mif\u001b[0m \u001b[0mkeyword\u001b[0m \u001b[0;32min\u001b[0m \u001b[0ml\u001b[0m\u001b[0;34m]\u001b[0m\u001b[0;34m[\u001b[0m\u001b[0mindex\u001b[0m\u001b[0;34m]\u001b[0m\u001b[0;34m\u001b[0m\u001b[0;34m\u001b[0m\u001b[0m\n\u001b[0m\u001b[1;32m    286\u001b[0m             \u001b[0mmatch\u001b[0m \u001b[0;34m=\u001b[0m \u001b[0mre\u001b[0m\u001b[0;34m.\u001b[0m\u001b[0mfindall\u001b[0m\u001b[0;34m(\u001b[0m\u001b[0;34m\"([0-9][0-9]:[0-9][0-9]:[0-9][0-9].[0-9][0-9])\"\u001b[0m\u001b[0;34m,\u001b[0m \u001b[0mline\u001b[0m\u001b[0;34m)\u001b[0m\u001b[0;34m[\u001b[0m\u001b[0;36m0\u001b[0m\u001b[0;34m]\u001b[0m\u001b[0;34m\u001b[0m\u001b[0;34m\u001b[0m\u001b[0m\n",
            "\u001b[0;31mIndexError\u001b[0m: list index out of range",
            "\nDuring handling of the above exception, another exception occurred:\n",
            "\u001b[0;31mOSError\u001b[0m                                   Traceback (most recent call last)",
            "\u001b[0;32m<ipython-input-14-e717384f1da3>\u001b[0m in \u001b[0;36m<cell line: 0>\u001b[0;34m()\u001b[0m\n\u001b[1;32m     15\u001b[0m \u001b[0;34m\u001b[0m\u001b[0m\n\u001b[1;32m     16\u001b[0m         \u001b[0;31m# Extract audio safely\u001b[0m\u001b[0;34m\u001b[0m\u001b[0;34m\u001b[0m\u001b[0m\n\u001b[0;32m---> 17\u001b[0;31m         \u001b[0mvideo\u001b[0m \u001b[0;34m=\u001b[0m \u001b[0mVideoFileClip\u001b[0m\u001b[0;34m(\u001b[0m\u001b[0mvideo_path\u001b[0m\u001b[0;34m)\u001b[0m\u001b[0;34m\u001b[0m\u001b[0;34m\u001b[0m\u001b[0m\n\u001b[0m\u001b[1;32m     18\u001b[0m         \u001b[0mvideo\u001b[0m\u001b[0;34m.\u001b[0m\u001b[0maudio\u001b[0m\u001b[0;34m.\u001b[0m\u001b[0mwrite_audiofile\u001b[0m\u001b[0;34m(\u001b[0m\u001b[0mwav_path\u001b[0m\u001b[0;34m)\u001b[0m\u001b[0;34m\u001b[0m\u001b[0;34m\u001b[0m\u001b[0m\n\u001b[1;32m     19\u001b[0m \u001b[0;34m\u001b[0m\u001b[0m\n",
            "\u001b[0;32m/usr/local/lib/python3.11/dist-packages/moviepy/video/io/VideoFileClip.py\u001b[0m in \u001b[0;36m__init__\u001b[0;34m(self, filename, has_mask, audio, audio_buffersize, target_resolution, resize_algorithm, audio_fps, audio_nbytes, verbose, fps_source)\u001b[0m\n\u001b[1;32m     86\u001b[0m         \u001b[0;31m# Make a reader\u001b[0m\u001b[0;34m\u001b[0m\u001b[0;34m\u001b[0m\u001b[0m\n\u001b[1;32m     87\u001b[0m         \u001b[0mpix_fmt\u001b[0m \u001b[0;34m=\u001b[0m \u001b[0;34m\"rgba\"\u001b[0m \u001b[0;32mif\u001b[0m \u001b[0mhas_mask\u001b[0m \u001b[0;32melse\u001b[0m \u001b[0;34m\"rgb24\"\u001b[0m\u001b[0;34m\u001b[0m\u001b[0;34m\u001b[0m\u001b[0m\n\u001b[0;32m---> 88\u001b[0;31m         self.reader = FFMPEG_VideoReader(filename, pix_fmt=pix_fmt,\n\u001b[0m\u001b[1;32m     89\u001b[0m                                          \u001b[0mtarget_resolution\u001b[0m\u001b[0;34m=\u001b[0m\u001b[0mtarget_resolution\u001b[0m\u001b[0;34m,\u001b[0m\u001b[0;34m\u001b[0m\u001b[0;34m\u001b[0m\u001b[0m\n\u001b[1;32m     90\u001b[0m                                          \u001b[0mresize_algo\u001b[0m\u001b[0;34m=\u001b[0m\u001b[0mresize_algorithm\u001b[0m\u001b[0;34m,\u001b[0m\u001b[0;34m\u001b[0m\u001b[0;34m\u001b[0m\u001b[0m\n",
            "\u001b[0;32m/usr/local/lib/python3.11/dist-packages/moviepy/video/io/ffmpeg_reader.py\u001b[0m in \u001b[0;36m__init__\u001b[0;34m(self, filename, print_infos, bufsize, pix_fmt, check_duration, target_resolution, resize_algo, fps_source)\u001b[0m\n\u001b[1;32m     33\u001b[0m         \u001b[0mself\u001b[0m\u001b[0;34m.\u001b[0m\u001b[0mfilename\u001b[0m \u001b[0;34m=\u001b[0m \u001b[0mfilename\u001b[0m\u001b[0;34m\u001b[0m\u001b[0;34m\u001b[0m\u001b[0m\n\u001b[1;32m     34\u001b[0m         \u001b[0mself\u001b[0m\u001b[0;34m.\u001b[0m\u001b[0mproc\u001b[0m \u001b[0;34m=\u001b[0m \u001b[0;32mNone\u001b[0m\u001b[0;34m\u001b[0m\u001b[0;34m\u001b[0m\u001b[0m\n\u001b[0;32m---> 35\u001b[0;31m         infos = ffmpeg_parse_infos(filename, print_infos, check_duration,\n\u001b[0m\u001b[1;32m     36\u001b[0m                                    fps_source)\n\u001b[1;32m     37\u001b[0m         \u001b[0mself\u001b[0m\u001b[0;34m.\u001b[0m\u001b[0mfps\u001b[0m \u001b[0;34m=\u001b[0m \u001b[0minfos\u001b[0m\u001b[0;34m[\u001b[0m\u001b[0;34m'video_fps'\u001b[0m\u001b[0;34m]\u001b[0m\u001b[0;34m\u001b[0m\u001b[0;34m\u001b[0m\u001b[0m\n",
            "\u001b[0;32m/usr/local/lib/python3.11/dist-packages/moviepy/video/io/ffmpeg_reader.py\u001b[0m in \u001b[0;36mffmpeg_parse_infos\u001b[0;34m(filename, print_infos, check_duration, fps_source)\u001b[0m\n\u001b[1;32m    287\u001b[0m             \u001b[0mresult\u001b[0m\u001b[0;34m[\u001b[0m\u001b[0;34m'duration'\u001b[0m\u001b[0;34m]\u001b[0m \u001b[0;34m=\u001b[0m \u001b[0mcvsecs\u001b[0m\u001b[0;34m(\u001b[0m\u001b[0mmatch\u001b[0m\u001b[0;34m)\u001b[0m\u001b[0;34m\u001b[0m\u001b[0;34m\u001b[0m\u001b[0m\n\u001b[1;32m    288\u001b[0m         \u001b[0;32mexcept\u001b[0m\u001b[0;34m:\u001b[0m\u001b[0;34m\u001b[0m\u001b[0;34m\u001b[0m\u001b[0m\n\u001b[0;32m--> 289\u001b[0;31m             raise IOError((\"MoviePy error: failed to read the duration of file %s.\\n\"\n\u001b[0m\u001b[1;32m    290\u001b[0m                            \u001b[0;34m\"Here are the file infos returned by ffmpeg:\\n\\n%s\"\u001b[0m\u001b[0;34m)\u001b[0m\u001b[0;34m%\u001b[0m\u001b[0;34m(\u001b[0m\u001b[0;34m\u001b[0m\u001b[0;34m\u001b[0m\u001b[0m\n\u001b[1;32m    291\u001b[0m                               filename, infos))\n",
            "\u001b[0;31mOSError\u001b[0m: MoviePy error: failed to read the duration of file /content/drive/My Drive/Hammering_Test/Bad_Data_2/sample_490.mp4.\nHere are the file infos returned by ffmpeg:\n\nffmpeg version 7.0.2-static https://johnvansickle.com/ffmpeg/  Copyright (c) 2000-2024 the FFmpeg developers\n  built with gcc 8 (Debian 8.3.0-6)\n  configuration: --enable-gpl --enable-version3 --enable-static --disable-debug --disable-ffplay --disable-indev=sndio --disable-outdev=sndio --cc=gcc --enable-fontconfig --enable-frei0r --enable-gnutls --enable-gmp --enable-libgme --enable-gray --enable-libaom --enable-libfribidi --enable-libass --enable-libvmaf --enable-libfreetype --enable-libmp3lame --enable-libopencore-amrnb --enable-libopencore-amrwb --enable-libopenjpeg --enable-librubberband --enable-libsoxr --enable-libspeex --enable-libsrt --enable-libvorbis --enable-libopus --enable-libtheora --enable-libvidstab --enable-libvo-amrwbenc --enable-libvpx --enable-libwebp --enable-libx264 --enable-libx265 --enable-libxml2 --enable-libdav1d --enable-libxvid --enable-libzvbi --enable-libzimg\n  libavutil      59.  8.100 / 59.  8.100\n  libavcodec     61.  3.100 / 61.  3.100\n  libavformat    61.  1.100 / 61.  1.100\n  libavdevice    61.  1.100 / 61.  1.100\n  libavfilter    10.  1.100 / 10.  1.100\n  libswscale      8.  1.100 /  8.  1.100\n  libswresample   5.  1.100 /  5.  1.100\n  libpostproc    58.  1.100 / 58.  1.100\n[mov,mp4,m4a,3gp,3g2,mj2 @ 0x32b03d40] moov atom not found\n[in#0 @ 0x32b03a40] Error opening input: Invalid data found when processing input\nError opening input file /content/drive/My Drive/Hammering_Test/Bad_Data_2/sample_490.mp4.\nError opening input files: Invalid data found when processing input\n"
          ]
        }
      ]
    },
    {
      "cell_type": "code",
      "source": [
        "!pip install noisereduce"
      ],
      "metadata": {
        "colab": {
          "base_uri": "https://localhost:8080/"
        },
        "id": "Za5BAMVr-q0U",
        "outputId": "8b146e67-74e4-4299-e352-72a0836528a8"
      },
      "execution_count": null,
      "outputs": [
        {
          "output_type": "stream",
          "name": "stdout",
          "text": [
            "Collecting noisereduce\n",
            "  Downloading noisereduce-3.0.3-py3-none-any.whl.metadata (14 kB)\n",
            "Requirement already satisfied: scipy in /usr/local/lib/python3.11/dist-packages (from noisereduce) (1.15.3)\n",
            "Requirement already satisfied: matplotlib in /usr/local/lib/python3.11/dist-packages (from noisereduce) (3.10.0)\n",
            "Requirement already satisfied: numpy in /usr/local/lib/python3.11/dist-packages (from noisereduce) (2.0.2)\n",
            "Requirement already satisfied: tqdm in /usr/local/lib/python3.11/dist-packages (from noisereduce) (4.67.1)\n",
            "Requirement already satisfied: joblib in /usr/local/lib/python3.11/dist-packages (from noisereduce) (1.5.1)\n",
            "Requirement already satisfied: contourpy>=1.0.1 in /usr/local/lib/python3.11/dist-packages (from matplotlib->noisereduce) (1.3.2)\n",
            "Requirement already satisfied: cycler>=0.10 in /usr/local/lib/python3.11/dist-packages (from matplotlib->noisereduce) (0.12.1)\n",
            "Requirement already satisfied: fonttools>=4.22.0 in /usr/local/lib/python3.11/dist-packages (from matplotlib->noisereduce) (4.58.1)\n",
            "Requirement already satisfied: kiwisolver>=1.3.1 in /usr/local/lib/python3.11/dist-packages (from matplotlib->noisereduce) (1.4.8)\n",
            "Requirement already satisfied: packaging>=20.0 in /usr/local/lib/python3.11/dist-packages (from matplotlib->noisereduce) (24.2)\n",
            "Requirement already satisfied: pillow>=8 in /usr/local/lib/python3.11/dist-packages (from matplotlib->noisereduce) (11.2.1)\n",
            "Requirement already satisfied: pyparsing>=2.3.1 in /usr/local/lib/python3.11/dist-packages (from matplotlib->noisereduce) (3.2.3)\n",
            "Requirement already satisfied: python-dateutil>=2.7 in /usr/local/lib/python3.11/dist-packages (from matplotlib->noisereduce) (2.9.0.post0)\n",
            "Requirement already satisfied: six>=1.5 in /usr/local/lib/python3.11/dist-packages (from python-dateutil>=2.7->matplotlib->noisereduce) (1.17.0)\n",
            "Downloading noisereduce-3.0.3-py3-none-any.whl (22 kB)\n",
            "Installing collected packages: noisereduce\n",
            "Successfully installed noisereduce-3.0.3\n"
          ]
        }
      ]
    },
    {
      "cell_type": "code",
      "source": [
        "import noisereduce as nr\n",
        "import librosa\n",
        "import soundfile as sf\n",
        "\n",
        "# Load audio\n",
        "input_path = 'sample_1.wav'\n",
        "y, sr = librosa.load(input_path, sr=None)\n",
        "\n",
        "# Perform noise reduction\n",
        "reduced_noise = nr.reduce_noise(y=y, sr=sr)\n",
        "\n",
        "# Save the denoised audio\n",
        "output_path = 'sample_1_denoised.wav'\n",
        "sf.write(output_path, reduced_noise, sr)\n",
        "\n",
        "print(\"Denoised audio saved to:\", output_path)\n"
      ],
      "metadata": {
        "colab": {
          "base_uri": "https://localhost:8080/"
        },
        "id": "cWd2J5Un-hNg",
        "outputId": "03e41ff0-2419-463c-a54a-bcb49f0908fa"
      },
      "execution_count": null,
      "outputs": [
        {
          "output_type": "stream",
          "name": "stdout",
          "text": [
            "Denoised audio saved to: sample_1_denoised.wav\n"
          ]
        }
      ]
    },
    {
      "cell_type": "code",
      "source": [
        "from IPython.display import Audio\n",
        "\n",
        "# Play the audio file\n",
        "Audio(\"sample_1_denoised.wav\")"
      ],
      "metadata": {
        "colab": {
          "base_uri": "https://localhost:8080/",
          "height": 75
        },
        "id": "0ww1kqzI_JMF",
        "outputId": "f3fe8b53-5971-462f-cac5-e4a6a98dfbcf"
      },
      "execution_count": null,
      "outputs": [
        {
          "output_type": "execute_result",
          "data": {
            "text/plain": [
              "<IPython.lib.display.Audio object>"
            ],
            "text/html": [
              "\n",
              "                <audio  controls=\"controls\" >\n",
              "                    <source src=\"data:audio/x-wav;base64,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\" type=\"audio/x-wav\" />\n",
              "                    Your browser does not support the audio element.\n",
              "                </audio>\n",
              "              "
            ]
          },
          "metadata": {},
          "execution_count": 6
        }
      ]
    },
    {
      "cell_type": "code",
      "source": [
        "from IPython.display import Audio\n",
        "\n",
        "# Play the audio file\n",
        "Audio(\"sample_1.wav\")"
      ],
      "metadata": {
        "colab": {
          "base_uri": "https://localhost:8080/",
          "height": 75
        },
        "id": "ZeZFhyxL_NsW",
        "outputId": "fbb91e1f-a4e3-401d-cddb-2173a3d60f5a"
      },
      "execution_count": null,
      "outputs": [
        {
          "output_type": "execute_result",
          "data": {
            "text/plain": [
              "<IPython.lib.display.Audio object>"
            ],
            "text/html": [
              "\n",
              "                <audio  controls=\"controls\" >\n",
              "                    <source src=\"data:audio/x-wav;base64,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\" type=\"audio/x-wav\" />\n",
              "                    Your browser does not support the audio element.\n",
              "                </audio>\n",
              "              "
            ]
          },
          "metadata": {},
          "execution_count": 7
        }
      ]
    },
    {
      "cell_type": "code",
      "source": [
        "import librosa\n",
        "import noisereduce as nr\n",
        "import soundfile as sf\n",
        "\n",
        "# Load audio\n",
        "input_path = 'sample_1.wav'\n",
        "y, sr = librosa.load(input_path, sr=None)\n",
        "\n",
        "# Manually select a segment with only background noise (e.g., first 1 second)\n",
        "noise_sample = y[0:int(sr * 1)]  # Adjust the duration if needed\n",
        "\n",
        "# Apply aggressive noise reduction using the noise profile\n",
        "y_denoised = nr.reduce_noise(y=y, y_noise=noise_sample, sr=sr, prop_decrease=1.0, stationary=False)\n",
        "\n",
        "# Save the output\n",
        "output_path = 'sample_1_clean.wav'\n",
        "sf.write(output_path, y_denoised, sr)\n",
        "\n",
        "print(\"Cleaned audio saved to:\", output_path)\n"
      ],
      "metadata": {
        "colab": {
          "base_uri": "https://localhost:8080/"
        },
        "id": "XGrbCugk_l9X",
        "outputId": "ae1ce36b-1c05-4c44-9f30-6f8de60c5ba7"
      },
      "execution_count": null,
      "outputs": [
        {
          "output_type": "stream",
          "name": "stdout",
          "text": [
            "Cleaned audio saved to: sample_1_clean.wav\n"
          ]
        }
      ]
    },
    {
      "cell_type": "code",
      "source": [
        "from IPython.display import Audio\n",
        "\n",
        "# Play the audio file\n",
        "Audio(\"sample_1.wav\")"
      ],
      "metadata": {
        "id": "FfUDBW6i_puJ"
      },
      "execution_count": null,
      "outputs": []
    }
  ]
}