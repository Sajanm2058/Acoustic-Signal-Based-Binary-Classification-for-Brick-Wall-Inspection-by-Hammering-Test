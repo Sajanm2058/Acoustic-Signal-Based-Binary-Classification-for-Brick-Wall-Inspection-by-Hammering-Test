{
  "nbformat": 4,
  "nbformat_minor": 0,
  "metadata": {
    "colab": {
      "provenance": []
    },
    "kernelspec": {
      "name": "python3",
      "display_name": "Python 3"
    },
    "language_info": {
      "name": "python"
    }
  },
  "cells": [
    {
      "cell_type": "code",
      "execution_count": null,
      "metadata": {
        "colab": {
          "base_uri": "https://localhost:8080/"
        },
        "id": "MEnkPaDCcmhw",
        "outputId": "a7d47cd4-34b0-4c50-913b-60975231a002"
      },
      "outputs": [
        {
          "output_type": "stream",
          "name": "stdout",
          "text": [
            "Mounted at /content/drive\n"
          ]
        }
      ],
      "source": [
        "# STEP 1: Mount Google Drive\n",
        "from google.colab import drive\n",
        "drive.mount('/content/drive')"
      ]
    },
    {
      "cell_type": "code",
      "source": [
        "import os\n",
        "import numpy as np\n",
        "import librosa\n",
        "import scipy.stats\n",
        "from scipy.fft import fft\n",
        "import pandas as pd\n",
        "\n",
        "# Paths to hit data\n",
        "parent_folder = '/content/drive/MyDrive/Hammering_Test/s01'\n",
        "g_hit_path = os.path.join(parent_folder, 'Good_result', 'G_hit')\n",
        "b_hit_path = os.path.join(parent_folder, 'Bad_result', 'B_hit')\n",
        "\n",
        "# Output folder for hit features\n",
        "output_folder = os.path.join(parent_folder, 'Hit_Feature_Result')\n",
        "os.makedirs(output_folder, exist_ok=True)\n",
        "\n",
        "# Feature extraction config\n",
        "num_fft_coeffs = 10\n",
        "num_mfcc = 13\n",
        "\n",
        "time_feature_list = []\n",
        "freq_feature_list = []\n",
        "\n",
        "# Spectral entropy function\n",
        "def spectral_entropy(signal):\n",
        "    fft_vals = np.abs(np.fft.fft(signal))**2\n",
        "    total_energy = np.sum(fft_vals)\n",
        "    if total_energy == 0:\n",
        "        return 0\n",
        "    energy = fft_vals[:len(fft_vals)//2]\n",
        "    energy /= total_energy\n",
        "    entropy = -np.sum(energy * np.log2(energy + 1e-12))\n",
        "    return entropy\n",
        "\n",
        "# Feature extraction function\n",
        "def process_hit_folder(folder_path, label):\n",
        "    for file in os.listdir(folder_path):\n",
        "        if file.endswith('.wav'):\n",
        "            filepath = os.path.join(folder_path, file)\n",
        "            y, sr = librosa.load(filepath, sr=None)\n",
        "\n",
        "            if len(y) < 32:\n",
        "                continue  # Skip very short files\n",
        "\n",
        "            N = len(y)\n",
        "            yf = fft(y)\n",
        "            magnitude = 2.0 / N * np.abs(yf[:N // 2])\n",
        "\n",
        "            # ==== Time-Domain Features ====\n",
        "            time_features = {\n",
        "                \"File\": file,\n",
        "                \"Label\": label,\n",
        "                \"Mean\": np.mean(y),\n",
        "                \"RMS\": np.sqrt(np.mean(y**2)),\n",
        "                \"Variance\": np.var(y),\n",
        "                \"Skewness\": scipy.stats.skew(y),\n",
        "                \"Kurtosis\": scipy.stats.kurtosis(y),\n",
        "                \"Crest Factor\": np.max(np.abs(y)) / (np.sqrt(np.mean(y**2)) + 1e-10)\n",
        "            }\n",
        "            time_feature_list.append(time_features)\n",
        "\n",
        "            # ==== Frequency-Domain Features ====\n",
        "            n_fft_val = min(2048, len(y))  # adjust if short\n",
        "            spectral_centroid = librosa.feature.spectral_centroid(y=y, sr=sr, n_fft=n_fft_val)[0].mean()\n",
        "            entropy_val = spectral_entropy(y)\n",
        "\n",
        "            fft_coeffs = magnitude[:num_fft_coeffs]\n",
        "            fft_dict = {f\"FFT_Coeff_{i+1}\": fft_coeffs[i] for i in range(len(fft_coeffs))}\n",
        "\n",
        "            mfccs = librosa.feature.mfcc(y=y, sr=sr, n_mfcc=num_mfcc)\n",
        "            mfcc_means = mfccs.mean(axis=1)\n",
        "            mfcc_dict = {f\"MFCC_{i+1}\": mfcc_means[i] for i in range(len(mfcc_means))}\n",
        "\n",
        "            freq_features = {\n",
        "                \"File\": file,\n",
        "                \"Label\": label,\n",
        "                \"Spectral Centroid\": spectral_centroid,\n",
        "                \"Spectral Entropy\": entropy_val\n",
        "            }\n",
        "            freq_features.update(fft_dict)\n",
        "            freq_features.update(mfcc_dict)\n",
        "            freq_feature_list.append(freq_features)\n",
        "\n",
        "# Process Good and Bad hit samples\n",
        "process_hit_folder(g_hit_path, label=\"Good\")\n",
        "process_hit_folder(b_hit_path, label=\"Bad\")\n",
        "\n",
        "# Convert to DataFrames\n",
        "time_df = pd.DataFrame(time_feature_list)\n",
        "freq_df = pd.DataFrame(freq_feature_list)\n",
        "\n",
        "# Merge and save\n",
        "combined_df = pd.merge(time_df, freq_df, on=[\"File\", \"Label\"])\n",
        "combined_df.to_csv(os.path.join(output_folder, \"combined_all_features_hit_1.csv\"), index=False)\n",
        "\n",
        "print(\"\\n✅ Feature extraction complete!\")\n",
        "print(f\"📁 Combined feature CSV saved at: {output_folder}/combined_all_features_hit_1.csv\")\n"
      ],
      "metadata": {
        "colab": {
          "base_uri": "https://localhost:8080/"
        },
        "id": "2Km5Rpiun63r",
        "outputId": "dc244242-eb6b-4f95-8cae-3572e4981a39"
      },
      "execution_count": null,
      "outputs": [
        {
          "output_type": "stream",
          "name": "stderr",
          "text": [
            "/usr/local/lib/python3.11/dist-packages/librosa/core/spectrum.py:266: UserWarning: n_fft=2048 is too large for input signal of length=882\n",
            "  warnings.warn(\n",
            "/usr/local/lib/python3.11/dist-packages/librosa/core/spectrum.py:266: UserWarning: n_fft=2048 is too large for input signal of length=882\n",
            "  warnings.warn(\n",
            "/usr/local/lib/python3.11/dist-packages/librosa/core/spectrum.py:266: UserWarning: n_fft=2048 is too large for input signal of length=882\n",
            "  warnings.warn(\n",
            "/usr/local/lib/python3.11/dist-packages/librosa/core/spectrum.py:266: UserWarning: n_fft=2048 is too large for input signal of length=882\n",
            "  warnings.warn(\n",
            "/usr/local/lib/python3.11/dist-packages/librosa/core/spectrum.py:266: UserWarning: n_fft=2048 is too large for input signal of length=882\n",
            "  warnings.warn(\n",
            "/usr/local/lib/python3.11/dist-packages/librosa/core/spectrum.py:266: UserWarning: n_fft=2048 is too large for input signal of length=882\n",
            "  warnings.warn(\n",
            "/usr/local/lib/python3.11/dist-packages/librosa/core/spectrum.py:266: UserWarning: n_fft=2048 is too large for input signal of length=882\n",
            "  warnings.warn(\n",
            "/usr/local/lib/python3.11/dist-packages/librosa/core/spectrum.py:266: UserWarning: n_fft=2048 is too large for input signal of length=882\n",
            "  warnings.warn(\n",
            "/usr/local/lib/python3.11/dist-packages/librosa/core/spectrum.py:266: UserWarning: n_fft=2048 is too large for input signal of length=882\n",
            "  warnings.warn(\n",
            "/usr/local/lib/python3.11/dist-packages/librosa/core/spectrum.py:266: UserWarning: n_fft=2048 is too large for input signal of length=882\n",
            "  warnings.warn(\n",
            "/usr/local/lib/python3.11/dist-packages/librosa/core/spectrum.py:266: UserWarning: n_fft=2048 is too large for input signal of length=882\n",
            "  warnings.warn(\n",
            "/usr/local/lib/python3.11/dist-packages/librosa/core/spectrum.py:266: UserWarning: n_fft=2048 is too large for input signal of length=882\n",
            "  warnings.warn(\n",
            "/usr/local/lib/python3.11/dist-packages/librosa/core/spectrum.py:266: UserWarning: n_fft=2048 is too large for input signal of length=882\n",
            "  warnings.warn(\n",
            "/usr/local/lib/python3.11/dist-packages/librosa/core/spectrum.py:266: UserWarning: n_fft=2048 is too large for input signal of length=882\n",
            "  warnings.warn(\n",
            "/usr/local/lib/python3.11/dist-packages/librosa/core/spectrum.py:266: UserWarning: n_fft=2048 is too large for input signal of length=882\n",
            "  warnings.warn(\n",
            "/usr/local/lib/python3.11/dist-packages/librosa/core/spectrum.py:266: UserWarning: n_fft=2048 is too large for input signal of length=882\n",
            "  warnings.warn(\n",
            "/usr/local/lib/python3.11/dist-packages/librosa/core/spectrum.py:266: UserWarning: n_fft=2048 is too large for input signal of length=882\n",
            "  warnings.warn(\n",
            "/usr/local/lib/python3.11/dist-packages/librosa/core/spectrum.py:266: UserWarning: n_fft=2048 is too large for input signal of length=882\n",
            "  warnings.warn(\n",
            "/usr/local/lib/python3.11/dist-packages/librosa/core/spectrum.py:266: UserWarning: n_fft=2048 is too large for input signal of length=882\n",
            "  warnings.warn(\n",
            "/usr/local/lib/python3.11/dist-packages/librosa/core/spectrum.py:266: UserWarning: n_fft=2048 is too large for input signal of length=882\n",
            "  warnings.warn(\n",
            "/usr/local/lib/python3.11/dist-packages/librosa/core/spectrum.py:266: UserWarning: n_fft=2048 is too large for input signal of length=882\n",
            "  warnings.warn(\n",
            "/usr/local/lib/python3.11/dist-packages/librosa/core/spectrum.py:266: UserWarning: n_fft=2048 is too large for input signal of length=882\n",
            "  warnings.warn(\n",
            "/usr/local/lib/python3.11/dist-packages/librosa/core/spectrum.py:266: UserWarning: n_fft=2048 is too large for input signal of length=882\n",
            "  warnings.warn(\n",
            "/usr/local/lib/python3.11/dist-packages/librosa/core/spectrum.py:266: UserWarning: n_fft=2048 is too large for input signal of length=882\n",
            "  warnings.warn(\n",
            "/usr/local/lib/python3.11/dist-packages/librosa/core/spectrum.py:266: UserWarning: n_fft=2048 is too large for input signal of length=882\n",
            "  warnings.warn(\n",
            "/usr/local/lib/python3.11/dist-packages/librosa/core/spectrum.py:266: UserWarning: n_fft=2048 is too large for input signal of length=882\n",
            "  warnings.warn(\n",
            "/usr/local/lib/python3.11/dist-packages/librosa/core/spectrum.py:266: UserWarning: n_fft=2048 is too large for input signal of length=882\n",
            "  warnings.warn(\n",
            "/usr/local/lib/python3.11/dist-packages/librosa/core/spectrum.py:266: UserWarning: n_fft=2048 is too large for input signal of length=882\n",
            "  warnings.warn(\n",
            "/usr/local/lib/python3.11/dist-packages/librosa/core/spectrum.py:266: UserWarning: n_fft=2048 is too large for input signal of length=882\n",
            "  warnings.warn(\n",
            "/usr/local/lib/python3.11/dist-packages/librosa/core/spectrum.py:266: UserWarning: n_fft=2048 is too large for input signal of length=882\n",
            "  warnings.warn(\n",
            "/usr/local/lib/python3.11/dist-packages/librosa/core/spectrum.py:266: UserWarning: n_fft=2048 is too large for input signal of length=882\n",
            "  warnings.warn(\n",
            "/usr/local/lib/python3.11/dist-packages/librosa/core/spectrum.py:266: UserWarning: n_fft=2048 is too large for input signal of length=882\n",
            "  warnings.warn(\n",
            "/usr/local/lib/python3.11/dist-packages/librosa/core/spectrum.py:266: UserWarning: n_fft=2048 is too large for input signal of length=882\n",
            "  warnings.warn(\n",
            "/usr/local/lib/python3.11/dist-packages/librosa/core/spectrum.py:266: UserWarning: n_fft=2048 is too large for input signal of length=882\n",
            "  warnings.warn(\n",
            "/usr/local/lib/python3.11/dist-packages/librosa/core/spectrum.py:266: UserWarning: n_fft=2048 is too large for input signal of length=882\n",
            "  warnings.warn(\n",
            "/usr/local/lib/python3.11/dist-packages/librosa/core/spectrum.py:266: UserWarning: n_fft=2048 is too large for input signal of length=882\n",
            "  warnings.warn(\n",
            "/usr/local/lib/python3.11/dist-packages/librosa/core/spectrum.py:266: UserWarning: n_fft=2048 is too large for input signal of length=882\n",
            "  warnings.warn(\n",
            "/usr/local/lib/python3.11/dist-packages/librosa/core/spectrum.py:266: UserWarning: n_fft=2048 is too large for input signal of length=882\n",
            "  warnings.warn(\n",
            "/usr/local/lib/python3.11/dist-packages/librosa/core/spectrum.py:266: UserWarning: n_fft=2048 is too large for input signal of length=882\n",
            "  warnings.warn(\n",
            "/usr/local/lib/python3.11/dist-packages/librosa/core/spectrum.py:266: UserWarning: n_fft=2048 is too large for input signal of length=882\n",
            "  warnings.warn(\n",
            "/usr/local/lib/python3.11/dist-packages/librosa/core/spectrum.py:266: UserWarning: n_fft=2048 is too large for input signal of length=882\n",
            "  warnings.warn(\n",
            "/usr/local/lib/python3.11/dist-packages/librosa/core/spectrum.py:266: UserWarning: n_fft=2048 is too large for input signal of length=882\n",
            "  warnings.warn(\n",
            "/usr/local/lib/python3.11/dist-packages/librosa/core/spectrum.py:266: UserWarning: n_fft=2048 is too large for input signal of length=882\n",
            "  warnings.warn(\n",
            "/usr/local/lib/python3.11/dist-packages/librosa/core/spectrum.py:266: UserWarning: n_fft=2048 is too large for input signal of length=882\n",
            "  warnings.warn(\n",
            "/usr/local/lib/python3.11/dist-packages/librosa/core/spectrum.py:266: UserWarning: n_fft=2048 is too large for input signal of length=882\n",
            "  warnings.warn(\n",
            "/usr/local/lib/python3.11/dist-packages/librosa/core/spectrum.py:266: UserWarning: n_fft=2048 is too large for input signal of length=882\n",
            "  warnings.warn(\n",
            "/usr/local/lib/python3.11/dist-packages/librosa/core/spectrum.py:266: UserWarning: n_fft=2048 is too large for input signal of length=882\n",
            "  warnings.warn(\n",
            "/usr/local/lib/python3.11/dist-packages/librosa/core/spectrum.py:266: UserWarning: n_fft=2048 is too large for input signal of length=882\n",
            "  warnings.warn(\n",
            "/usr/local/lib/python3.11/dist-packages/librosa/core/spectrum.py:266: UserWarning: n_fft=2048 is too large for input signal of length=882\n",
            "  warnings.warn(\n",
            "/usr/local/lib/python3.11/dist-packages/librosa/core/spectrum.py:266: UserWarning: n_fft=2048 is too large for input signal of length=882\n",
            "  warnings.warn(\n",
            "/usr/local/lib/python3.11/dist-packages/librosa/core/spectrum.py:266: UserWarning: n_fft=2048 is too large for input signal of length=882\n",
            "  warnings.warn(\n",
            "/usr/local/lib/python3.11/dist-packages/librosa/core/spectrum.py:266: UserWarning: n_fft=2048 is too large for input signal of length=882\n",
            "  warnings.warn(\n",
            "/usr/local/lib/python3.11/dist-packages/librosa/core/spectrum.py:266: UserWarning: n_fft=2048 is too large for input signal of length=882\n",
            "  warnings.warn(\n",
            "/usr/local/lib/python3.11/dist-packages/librosa/core/spectrum.py:266: UserWarning: n_fft=2048 is too large for input signal of length=882\n",
            "  warnings.warn(\n",
            "/usr/local/lib/python3.11/dist-packages/librosa/core/spectrum.py:266: UserWarning: n_fft=2048 is too large for input signal of length=882\n",
            "  warnings.warn(\n",
            "/usr/local/lib/python3.11/dist-packages/librosa/core/spectrum.py:266: UserWarning: n_fft=2048 is too large for input signal of length=882\n",
            "  warnings.warn(\n",
            "/usr/local/lib/python3.11/dist-packages/librosa/core/spectrum.py:266: UserWarning: n_fft=2048 is too large for input signal of length=882\n",
            "  warnings.warn(\n",
            "/usr/local/lib/python3.11/dist-packages/librosa/core/spectrum.py:266: UserWarning: n_fft=2048 is too large for input signal of length=882\n",
            "  warnings.warn(\n",
            "/usr/local/lib/python3.11/dist-packages/librosa/core/spectrum.py:266: UserWarning: n_fft=2048 is too large for input signal of length=882\n",
            "  warnings.warn(\n",
            "/usr/local/lib/python3.11/dist-packages/librosa/core/spectrum.py:266: UserWarning: n_fft=2048 is too large for input signal of length=882\n",
            "  warnings.warn(\n",
            "/usr/local/lib/python3.11/dist-packages/librosa/core/spectrum.py:266: UserWarning: n_fft=2048 is too large for input signal of length=882\n",
            "  warnings.warn(\n",
            "/usr/local/lib/python3.11/dist-packages/librosa/core/spectrum.py:266: UserWarning: n_fft=2048 is too large for input signal of length=882\n",
            "  warnings.warn(\n",
            "/usr/local/lib/python3.11/dist-packages/librosa/core/spectrum.py:266: UserWarning: n_fft=2048 is too large for input signal of length=882\n",
            "  warnings.warn(\n",
            "/usr/local/lib/python3.11/dist-packages/librosa/core/spectrum.py:266: UserWarning: n_fft=2048 is too large for input signal of length=882\n",
            "  warnings.warn(\n",
            "/usr/local/lib/python3.11/dist-packages/librosa/core/spectrum.py:266: UserWarning: n_fft=2048 is too large for input signal of length=882\n",
            "  warnings.warn(\n",
            "/usr/local/lib/python3.11/dist-packages/librosa/core/spectrum.py:266: UserWarning: n_fft=2048 is too large for input signal of length=882\n",
            "  warnings.warn(\n",
            "/usr/local/lib/python3.11/dist-packages/librosa/core/spectrum.py:266: UserWarning: n_fft=2048 is too large for input signal of length=882\n",
            "  warnings.warn(\n",
            "/usr/local/lib/python3.11/dist-packages/librosa/core/spectrum.py:266: UserWarning: n_fft=2048 is too large for input signal of length=882\n",
            "  warnings.warn(\n",
            "/usr/local/lib/python3.11/dist-packages/librosa/core/spectrum.py:266: UserWarning: n_fft=2048 is too large for input signal of length=882\n",
            "  warnings.warn(\n",
            "/usr/local/lib/python3.11/dist-packages/librosa/core/spectrum.py:266: UserWarning: n_fft=2048 is too large for input signal of length=882\n",
            "  warnings.warn(\n",
            "/usr/local/lib/python3.11/dist-packages/librosa/core/spectrum.py:266: UserWarning: n_fft=2048 is too large for input signal of length=882\n",
            "  warnings.warn(\n",
            "/usr/local/lib/python3.11/dist-packages/librosa/core/spectrum.py:266: UserWarning: n_fft=2048 is too large for input signal of length=882\n",
            "  warnings.warn(\n",
            "/usr/local/lib/python3.11/dist-packages/librosa/core/spectrum.py:266: UserWarning: n_fft=2048 is too large for input signal of length=882\n",
            "  warnings.warn(\n",
            "/usr/local/lib/python3.11/dist-packages/librosa/core/spectrum.py:266: UserWarning: n_fft=2048 is too large for input signal of length=882\n",
            "  warnings.warn(\n",
            "/usr/local/lib/python3.11/dist-packages/librosa/core/spectrum.py:266: UserWarning: n_fft=2048 is too large for input signal of length=882\n",
            "  warnings.warn(\n",
            "/usr/local/lib/python3.11/dist-packages/librosa/core/spectrum.py:266: UserWarning: n_fft=2048 is too large for input signal of length=882\n",
            "  warnings.warn(\n",
            "/usr/local/lib/python3.11/dist-packages/librosa/core/spectrum.py:266: UserWarning: n_fft=2048 is too large for input signal of length=882\n",
            "  warnings.warn(\n",
            "/usr/local/lib/python3.11/dist-packages/librosa/core/spectrum.py:266: UserWarning: n_fft=2048 is too large for input signal of length=882\n",
            "  warnings.warn(\n",
            "/usr/local/lib/python3.11/dist-packages/librosa/core/spectrum.py:266: UserWarning: n_fft=2048 is too large for input signal of length=882\n",
            "  warnings.warn(\n",
            "/usr/local/lib/python3.11/dist-packages/librosa/core/spectrum.py:266: UserWarning: n_fft=2048 is too large for input signal of length=882\n",
            "  warnings.warn(\n",
            "/usr/local/lib/python3.11/dist-packages/librosa/core/spectrum.py:266: UserWarning: n_fft=2048 is too large for input signal of length=882\n",
            "  warnings.warn(\n",
            "/usr/local/lib/python3.11/dist-packages/librosa/core/spectrum.py:266: UserWarning: n_fft=2048 is too large for input signal of length=882\n",
            "  warnings.warn(\n",
            "/usr/local/lib/python3.11/dist-packages/librosa/core/spectrum.py:266: UserWarning: n_fft=2048 is too large for input signal of length=882\n",
            "  warnings.warn(\n",
            "/usr/local/lib/python3.11/dist-packages/librosa/core/spectrum.py:266: UserWarning: n_fft=2048 is too large for input signal of length=882\n",
            "  warnings.warn(\n",
            "/usr/local/lib/python3.11/dist-packages/librosa/core/spectrum.py:266: UserWarning: n_fft=2048 is too large for input signal of length=882\n",
            "  warnings.warn(\n",
            "/usr/local/lib/python3.11/dist-packages/librosa/core/spectrum.py:266: UserWarning: n_fft=2048 is too large for input signal of length=882\n",
            "  warnings.warn(\n",
            "/usr/local/lib/python3.11/dist-packages/librosa/core/spectrum.py:266: UserWarning: n_fft=2048 is too large for input signal of length=882\n",
            "  warnings.warn(\n",
            "/usr/local/lib/python3.11/dist-packages/librosa/core/spectrum.py:266: UserWarning: n_fft=2048 is too large for input signal of length=882\n",
            "  warnings.warn(\n",
            "/usr/local/lib/python3.11/dist-packages/librosa/core/spectrum.py:266: UserWarning: n_fft=2048 is too large for input signal of length=882\n",
            "  warnings.warn(\n",
            "/usr/local/lib/python3.11/dist-packages/librosa/core/spectrum.py:266: UserWarning: n_fft=2048 is too large for input signal of length=882\n",
            "  warnings.warn(\n",
            "/usr/local/lib/python3.11/dist-packages/librosa/core/spectrum.py:266: UserWarning: n_fft=2048 is too large for input signal of length=882\n",
            "  warnings.warn(\n",
            "/usr/local/lib/python3.11/dist-packages/librosa/core/spectrum.py:266: UserWarning: n_fft=2048 is too large for input signal of length=882\n",
            "  warnings.warn(\n",
            "/usr/local/lib/python3.11/dist-packages/librosa/core/spectrum.py:266: UserWarning: n_fft=2048 is too large for input signal of length=882\n",
            "  warnings.warn(\n",
            "/usr/local/lib/python3.11/dist-packages/librosa/core/spectrum.py:266: UserWarning: n_fft=2048 is too large for input signal of length=882\n",
            "  warnings.warn(\n",
            "/usr/local/lib/python3.11/dist-packages/librosa/core/spectrum.py:266: UserWarning: n_fft=2048 is too large for input signal of length=882\n",
            "  warnings.warn(\n",
            "/usr/local/lib/python3.11/dist-packages/librosa/core/spectrum.py:266: UserWarning: n_fft=2048 is too large for input signal of length=882\n",
            "  warnings.warn(\n",
            "/usr/local/lib/python3.11/dist-packages/librosa/core/spectrum.py:266: UserWarning: n_fft=2048 is too large for input signal of length=882\n",
            "  warnings.warn(\n",
            "/usr/local/lib/python3.11/dist-packages/librosa/core/spectrum.py:266: UserWarning: n_fft=2048 is too large for input signal of length=882\n",
            "  warnings.warn(\n",
            "/usr/local/lib/python3.11/dist-packages/librosa/core/spectrum.py:266: UserWarning: n_fft=2048 is too large for input signal of length=882\n",
            "  warnings.warn(\n"
          ]
        },
        {
          "output_type": "stream",
          "name": "stdout",
          "text": [
            "\n",
            "✅ Feature extraction complete!\n",
            "📁 Combined feature CSV saved at: /content/drive/MyDrive/Hammering_Test/s01/Hit_Feature_Result/combined_all_features_hit_1.csv\n"
          ]
        }
      ]
    },
    {
      "cell_type": "code",
      "source": [
        "import os\n",
        "import numpy as np\n",
        "import librosa\n",
        "import scipy.stats\n",
        "from scipy.fft import fft\n",
        "import pandas as pd\n",
        "\n",
        "# Paths\n",
        "parent_folder = '/content/drive/MyDrive/Hammering_Test/s01'\n",
        "g_hit_path = os.path.join(parent_folder, 'Good_result', 'G_hit')\n",
        "b_hit_path = os.path.join(parent_folder, 'Bad_result', 'B_hit')\n",
        "\n",
        "# Output folder\n",
        "output_folder = os.path.join(parent_folder, 'Hit_Feature_Result')\n",
        "os.makedirs(output_folder, exist_ok=True)\n",
        "\n",
        "# Config\n",
        "num_fft_coeffs = 10\n",
        "num_mfcc = 13\n",
        "\n",
        "feature_list = []\n",
        "\n",
        "# Spectral entropy function\n",
        "def spectral_entropy(signal):\n",
        "    fft_vals = np.abs(np.fft.fft(signal))**2\n",
        "    total_energy = np.sum(fft_vals)\n",
        "    if total_energy == 0:\n",
        "        return 0\n",
        "    energy = fft_vals[:len(fft_vals)//2]\n",
        "    energy /= total_energy\n",
        "    entropy = -np.sum(energy * np.log2(energy + 1e-12))\n",
        "    return entropy\n",
        "\n",
        "# Dominant frequency function\n",
        "def dominant_freq(y, sr):\n",
        "    yf = np.abs(fft(y))\n",
        "    xf = np.fft.fftfreq(len(y), 1 / sr)\n",
        "    positive_freqs = xf[:len(xf)//2]\n",
        "    positive_mags = yf[:len(yf)//2]\n",
        "    return positive_freqs[np.argmax(positive_mags)]\n",
        "\n",
        "# Harmonics (approximate using librosa.harmonic)\n",
        "def harmonic_energy(y):\n",
        "    y_harmonic, _ = librosa.effects.hpss(y)\n",
        "    return np.mean(np.abs(y_harmonic))\n",
        "\n",
        "# Feature extraction function\n",
        "def process_hit_folder(folder_path, label):\n",
        "    for file in os.listdir(folder_path):\n",
        "        if file.endswith('.wav'):\n",
        "            filepath = os.path.join(folder_path, file)\n",
        "            y, sr = librosa.load(filepath, sr=None)\n",
        "\n",
        "            if len(y) < 32:\n",
        "                continue\n",
        "\n",
        "            N = len(y)\n",
        "            yf = fft(y)\n",
        "            magnitude = 2.0 / N * np.abs(yf[:N // 2])\n",
        "\n",
        "            # Time-Domain Features\n",
        "            time_features = {\n",
        "                \"File\": file,\n",
        "                \"Label\": label,\n",
        "                \"Mean\": np.mean(y),\n",
        "                \"RMS\": np.sqrt(np.mean(y**2)),\n",
        "                \"Variance\": np.var(y),\n",
        "                \"Skewness\": scipy.stats.skew(y),\n",
        "                \"Kurtosis\": scipy.stats.kurtosis(y),\n",
        "                \"Crest Factor\": np.max(np.abs(y)) / (np.sqrt(np.mean(y**2)) + 1e-10),\n",
        "                \"Zero Crossing Rate\": librosa.feature.zero_crossing_rate(y)[0].mean()\n",
        "            }\n",
        "\n",
        "            # Frequency-Domain Features\n",
        "            n_fft_val = min(2048, len(y))\n",
        "            spectral_centroid = librosa.feature.spectral_centroid(y=y, sr=sr, n_fft=n_fft_val)[0].mean()\n",
        "            entropy_val = spectral_entropy(y)\n",
        "            spectral_energy = np.sum(np.square(magnitude))\n",
        "            dominant = dominant_freq(y, sr)\n",
        "            harmonic = harmonic_energy(y)\n",
        "\n",
        "            # FFT Coefficients\n",
        "            fft_coeffs = magnitude[:num_fft_coeffs]\n",
        "            fft_dict = {f\"FFT_Coeff_{i+1}\": fft_coeffs[i] for i in range(len(fft_coeffs))}\n",
        "            peak_fft_val = np.max(fft_coeffs)\n",
        "            peak_fft_idx = np.argmax(fft_coeffs) + 1  # 1-based index\n",
        "\n",
        "            # Chroma\n",
        "            chroma = librosa.feature.chroma_stft(y=y, sr=sr)\n",
        "            chroma_mean = chroma.mean(axis=1)\n",
        "            chroma_dict = {f\"Chroma_{i+1}\": chroma_mean[i] for i in range(len(chroma_mean))}\n",
        "            peak_chroma_val = np.max(chroma_mean)\n",
        "            peak_chroma_idx = np.argmax(chroma_mean) + 1\n",
        "\n",
        "            # MFCCs\n",
        "            mfccs = librosa.feature.mfcc(y=y, sr=sr, n_mfcc=num_mfcc)\n",
        "            mfcc_dict = {f\"MFCC_{i+1}\": mfccs.mean(axis=1)[i] for i in range(num_mfcc)}\n",
        "\n",
        "            # Combine all features\n",
        "            all_features = {\n",
        "                **time_features,\n",
        "                \"Spectral Centroid\": spectral_centroid,\n",
        "                \"Spectral Entropy\": entropy_val,\n",
        "                \"Spectral Energy\": spectral_energy,\n",
        "                \"Dominant Frequency\": dominant,\n",
        "                \"Harmonics\": harmonic,\n",
        "                \"Peak FFT Value\": peak_fft_val,\n",
        "                \"Peak FFT Index\": peak_fft_idx,\n",
        "                \"Peak Chroma Value\": peak_chroma_val,\n",
        "                \"Peak Chroma Index\": peak_chroma_idx,\n",
        "                **fft_dict,\n",
        "                **mfcc_dict,\n",
        "                **chroma_dict\n",
        "            }\n",
        "\n",
        "            feature_list.append(all_features)\n",
        "\n",
        "# Process Good and Bad hits\n",
        "process_hit_folder(g_hit_path, label=\"Good\")\n",
        "process_hit_folder(b_hit_path, label=\"Bad\")\n",
        "\n",
        "# Save all features to one CSV\n",
        "df = pd.DataFrame(feature_list)\n",
        "df.to_csv(os.path.join(output_folder, \"combined_all_features_hit_final_2.csv\"), index=False)\n",
        "\n",
        "print(\"\\n✅ Final feature extraction complete!\")\n",
        "print(f\"📁 CSV saved at: {output_folder}/combined_all_features_hit_final_2.csv\")\n"
      ],
      "metadata": {
        "colab": {
          "base_uri": "https://localhost:8080/"
        },
        "id": "BnHwekfSWZL4",
        "outputId": "210b1398-315f-4d75-9eac-86dd30c14ca6"
      },
      "execution_count": null,
      "outputs": [
        {
          "output_type": "stream",
          "name": "stderr",
          "text": [
            "/usr/local/lib/python3.11/dist-packages/librosa/core/spectrum.py:266: UserWarning: n_fft=2048 is too large for input signal of length=882\n",
            "  warnings.warn(\n",
            "/usr/local/lib/python3.11/dist-packages/librosa/core/spectrum.py:266: UserWarning: n_fft=2048 is too large for input signal of length=882\n",
            "  warnings.warn(\n",
            "/usr/local/lib/python3.11/dist-packages/librosa/core/pitch.py:103: UserWarning: Trying to estimate tuning from empty frequency set.\n",
            "  return pitch_tuning(\n"
          ]
        },
        {
          "output_type": "stream",
          "name": "stdout",
          "text": [
            "\n",
            "✅ Final feature extraction complete!\n",
            "📁 CSV saved at: /content/drive/MyDrive/Hammering_Test/s01/Hit_Feature_Result/combined_all_features_hit_final_2.csv\n"
          ]
        }
      ]
    },
    {
      "cell_type": "code",
      "source": [
        "import os\n",
        "import numpy as np\n",
        "import librosa\n",
        "import scipy.stats\n",
        "from scipy.fft import fft\n",
        "import pandas as pd\n",
        "\n",
        "# Paths\n",
        "parent_folder = '/content/drive/MyDrive/Hammering_Test/s01'\n",
        "g_hit_path = os.path.join(parent_folder, 'Good_result', 'G_hit')\n",
        "b_hit_path = os.path.join(parent_folder, 'Bad_result', 'B_hit')\n",
        "\n",
        "# Output folder\n",
        "output_folder = os.path.join(parent_folder, 'Hit_Feature_Result')\n",
        "os.makedirs(output_folder, exist_ok=True)\n",
        "\n",
        "# Config\n",
        "num_fft_coeffs = 10\n",
        "num_mfcc = 13\n",
        "feature_list = []\n",
        "\n",
        "# Spectral entropy function\n",
        "def spectral_entropy(signal):\n",
        "    fft_vals = np.abs(np.fft.fft(signal))**2\n",
        "    total_energy = np.sum(fft_vals)\n",
        "    if total_energy == 0:\n",
        "        return 0\n",
        "    energy = fft_vals[:len(fft_vals)//2]\n",
        "    energy /= total_energy\n",
        "    entropy = -np.sum(energy * np.log2(energy + 1e-12))\n",
        "    return entropy\n",
        "\n",
        "# Dominant frequency\n",
        "def dominant_freq(y, sr):\n",
        "    yf = np.abs(fft(y))\n",
        "    xf = np.fft.fftfreq(len(y), 1 / sr)\n",
        "    positive_freqs = xf[:len(xf)//2]\n",
        "    positive_mags = yf[:len(yf)//2]\n",
        "    return positive_freqs[np.argmax(positive_mags)]\n",
        "\n",
        "# Feature extraction\n",
        "def process_hit_folder(folder_path, label):\n",
        "    for file in sorted(os.listdir(folder_path)):\n",
        "        if file.endswith('.wav'):\n",
        "            filepath = os.path.join(folder_path, file)\n",
        "            y, sr = librosa.load(filepath, sr=None)\n",
        "\n",
        "            if len(y) < 32:\n",
        "                continue\n",
        "\n",
        "            N = len(y)\n",
        "            yf = fft(y)\n",
        "            magnitude = 2.0 / N * np.abs(yf[:N // 2])\n",
        "\n",
        "            # Time-Domain Features\n",
        "            time_features = {\n",
        "                \"File\": file,\n",
        "                \"Label\": 1 if label == \"Good\" else 0,\n",
        "                \"Mean\": np.mean(y),\n",
        "                \"RMS\": np.sqrt(np.mean(y**2)),\n",
        "                \"Variance\": np.var(y),\n",
        "                \"Skewness\": scipy.stats.skew(y),\n",
        "                \"Kurtosis\": scipy.stats.kurtosis(y),\n",
        "                \"Crest Factor\": np.max(np.abs(y)) / (np.sqrt(np.mean(y**2)) + 1e-10),\n",
        "                \"Zero Crossing Rate\": librosa.feature.zero_crossing_rate(y)[0].mean()\n",
        "            }\n",
        "\n",
        "            # Frequency-Domain Features\n",
        "            n_fft_val = min(2048, len(y))\n",
        "            spectral_centroid = librosa.feature.spectral_centroid(y=y, sr=sr, n_fft=n_fft_val)[0].mean()\n",
        "            entropy_val = spectral_entropy(y)\n",
        "            spectral_energy = np.sum(np.square(magnitude))\n",
        "            dominant = dominant_freq(y, sr)\n",
        "\n",
        "            fft_coeffs = magnitude[:num_fft_coeffs]\n",
        "            fft_dict = {f\"FFT_Coeff_{i+1}\": fft_coeffs[i] for i in range(len(fft_coeffs))}\n",
        "            peak_fft_val = np.max(fft_coeffs)\n",
        "            peak_fft_idx = np.argmax(fft_coeffs) + 1\n",
        "\n",
        "            mfccs = librosa.feature.mfcc(y=y, sr=sr, n_mfcc=num_mfcc)\n",
        "            mfcc_dict = {f\"MFCC_{i+1}\": mfccs.mean(axis=1)[i] for i in range(num_mfcc)}\n",
        "\n",
        "            chroma = librosa.feature.chroma_stft(y=y, sr=sr)\n",
        "            chroma_mean = chroma.mean(axis=1)\n",
        "            chroma_dict = {f\"Chroma_{i+1}\": chroma_mean[i] for i in range(len(chroma_mean))}\n",
        "            peak_chroma_val = np.max(chroma_mean)\n",
        "            peak_chroma_idx = np.argmax(chroma_mean) + 1\n",
        "\n",
        "            # Combine all features\n",
        "            all_features = {\n",
        "                **time_features,\n",
        "                \"Spectral Centroid\": spectral_centroid,\n",
        "                \"Spectral Entropy\": entropy_val,\n",
        "                \"Spectral Energy\": spectral_energy,\n",
        "                \"Dominant Frequency\": dominant,\n",
        "                \"Peak FFT Value\": peak_fft_val,\n",
        "                \"Peak FFT Index\": peak_fft_idx,\n",
        "                \"Peak Chroma Value\": peak_chroma_val,\n",
        "                \"Peak Chroma Index\": peak_chroma_idx,\n",
        "                **fft_dict,\n",
        "                **mfcc_dict,\n",
        "                **chroma_dict\n",
        "            }\n",
        "\n",
        "            feature_list.append(all_features)\n",
        "\n",
        "# Process both folders\n",
        "process_hit_folder(g_hit_path, label=\"Good\")\n",
        "process_hit_folder(b_hit_path, label=\"Bad\")\n",
        "\n",
        "# Save to CSV\n",
        "df = pd.DataFrame(feature_list)\n",
        "df = df.sort_values(by=\"File\")  # ensure files are in serial order\n",
        "df.to_csv(os.path.join(output_folder, \"hit_features_final.csv\"), index=False)\n",
        "\n",
        "print(\"\\n✅ Final feature extraction complete!\")\n",
        "print(f\"📁 CSV saved at: {output_folder}/hit_features_final.csv\")\n"
      ],
      "metadata": {
        "colab": {
          "base_uri": "https://localhost:8080/"
        },
        "id": "jpE_rcFGaL9f",
        "outputId": "388a6a21-9418-47d4-f02b-08ff469b547f"
      },
      "execution_count": null,
      "outputs": [
        {
          "output_type": "stream",
          "name": "stdout",
          "text": [
            "\n",
            "✅ Final feature extraction complete!\n",
            "📁 CSV saved at: /content/drive/MyDrive/Hammering_Test/s01/Hit_Feature_Result/hit_features_final.csv\n"
          ]
        }
      ]
    },
    {
      "cell_type": "code",
      "source": [],
      "metadata": {
        "id": "_zxR5DRJi7TP"
      },
      "execution_count": null,
      "outputs": []
    },
    {
      "cell_type": "markdown",
      "source": [
        "# Hit Calculations"
      ],
      "metadata": {
        "id": "yZ0Xvr3Hi8ht"
      }
    },
    {
      "cell_type": "code",
      "source": [
        "import os\n",
        "import numpy as np\n",
        "import librosa\n",
        "import scipy.stats\n",
        "from scipy.fft import fft\n",
        "import pandas as pd\n",
        "\n",
        "# Paths\n",
        "parent_folder = '/content/drive/MyDrive/Hammering_Test/s01'\n",
        "g_hit_path = os.path.join(parent_folder, 'Good_result', 'G_hit')\n",
        "b_hit_path = os.path.join(parent_folder, 'Bad_result', 'B_hit')\n",
        "\n",
        "# Output folder\n",
        "output_folder = os.path.join(parent_folder, 'Hit_Feature_Result')\n",
        "os.makedirs(output_folder, exist_ok=True)\n",
        "\n",
        "# Config\n",
        "num_fft_coeffs = 10\n",
        "num_mfcc = 13\n",
        "feature_list = []\n",
        "\n",
        "# Spectral entropy function\n",
        "def spectral_entropy(signal):\n",
        "    fft_vals = np.abs(np.fft.fft(signal))**2\n",
        "    total_energy = np.sum(fft_vals)\n",
        "    if total_energy == 0:\n",
        "        return 0\n",
        "    energy = fft_vals[:len(fft_vals)//2]\n",
        "    energy /= total_energy\n",
        "    entropy = -np.sum(energy * np.log2(energy + 1e-12))\n",
        "    return entropy\n",
        "\n",
        "# Dominant frequency\n",
        "def dominant_freq(y, sr):\n",
        "    yf = np.abs(fft(y))\n",
        "    xf = np.fft.fftfreq(len(y), 1 / sr)\n",
        "    positive_freqs = xf[:len(xf)//2]\n",
        "    positive_mags = yf[:len(yf)//2]\n",
        "    return positive_freqs[np.argmax(positive_mags)]\n",
        "\n",
        "# Feature extraction function\n",
        "def process_hit_folder(folder_path, label):\n",
        "    for file in sorted(os.listdir(folder_path)):\n",
        "        if file.endswith('.wav'):\n",
        "            filepath = os.path.join(folder_path, file)\n",
        "            y, sr = librosa.load(filepath, sr=None)\n",
        "\n",
        "            if len(y) < 32:\n",
        "                continue\n",
        "\n",
        "            N = len(y)\n",
        "            yf = fft(y)\n",
        "            magnitude = 2.0 / N * np.abs(yf[:N // 2])\n",
        "\n",
        "            # Time-Domain Features\n",
        "            time_features = {\n",
        "                \"File\": file,\n",
        "                \"Label\": 1 if label == \"Good\" else 0,\n",
        "                \"Mean\": np.mean(y),\n",
        "                \"RMS\": np.sqrt(np.mean(y**2)),\n",
        "                \"Variance\": np.var(y),\n",
        "                \"Skewness\": scipy.stats.skew(y),\n",
        "                \"Kurtosis\": scipy.stats.kurtosis(y),\n",
        "                \"Crest Factor\": np.max(np.abs(y)) / (np.sqrt(np.mean(y**2)) + 1e-10),\n",
        "                \"Zero Crossing Rate\": librosa.feature.zero_crossing_rate(y)[0].mean()\n",
        "            }\n",
        "\n",
        "            # Frequency-Domain Features\n",
        "            n_fft_val = min(2048, len(y))\n",
        "            spectral_centroid = librosa.feature.spectral_centroid(y=y, sr=sr, n_fft=n_fft_val)[0].mean()\n",
        "            entropy_val = spectral_entropy(y)\n",
        "            spectral_energy = np.sum(np.square(magnitude))\n",
        "            dominant = dominant_freq(y, sr)\n",
        "\n",
        "            fft_coeffs = magnitude[:num_fft_coeffs]\n",
        "            fft_dict = {f\"FFT_Coeff_{i+1}\": fft_coeffs[i] for i in range(len(fft_coeffs))}\n",
        "            peak_fft_val = np.max(fft_coeffs)\n",
        "\n",
        "            mfccs = librosa.feature.mfcc(y=y, sr=sr, n_mfcc=num_mfcc)\n",
        "            mfcc_dict = {f\"MFCC_{i+1}\": mfccs.mean(axis=1)[i] for i in range(num_mfcc)}\n",
        "\n",
        "            chroma = librosa.feature.chroma_stft(y=y, sr=sr)\n",
        "            chroma_mean = chroma.mean(axis=1)\n",
        "            chroma_dict = {f\"Chroma_{i+1}\": chroma_mean[i] for i in range(len(chroma_mean))}\n",
        "            peak_chroma_val = np.max(chroma_mean)\n",
        "\n",
        "            # Combine all features\n",
        "            all_features = {\n",
        "                **time_features,\n",
        "                \"Spectral Centroid\": spectral_centroid,\n",
        "                \"Spectral Entropy\": entropy_val,\n",
        "                \"Spectral Energy\": spectral_energy,\n",
        "                \"Dominant Frequency\": dominant,\n",
        "                \"Peak FFT Value\": peak_fft_val,\n",
        "                \"Peak Chroma Value\": peak_chroma_val,\n",
        "                **fft_dict,\n",
        "                **mfcc_dict,\n",
        "                **chroma_dict\n",
        "            }\n",
        "\n",
        "            feature_list.append(all_features)\n",
        "\n",
        "# Process both folders (Good first, then Bad)\n",
        "process_hit_folder(g_hit_path, label=\"Good\")\n",
        "process_hit_folder(b_hit_path, label=\"Bad\")\n",
        "\n",
        "# Save to CSV\n",
        "df = pd.DataFrame(feature_list)\n",
        "\n",
        "# Sort by label: 1 (Good) first, then 0 (Bad), and then by File name\n",
        "df = df.sort_values(by=[\"Label\", \"File\"], ascending=[False, True])\n",
        "\n",
        "# Save to CSV\n",
        "csv_path = os.path.join(output_folder, \"hit_features_final.csv\")\n",
        "df.to_csv(csv_path, index=False)\n",
        "\n",
        "print(\"\\n✅ Final feature extraction complete!\")\n",
        "print(f\"📁 CSV saved at: {csv_path}\")\n"
      ],
      "metadata": {
        "colab": {
          "base_uri": "https://localhost:8080/"
        },
        "id": "nWf-2zUmfOAi",
        "outputId": "16e4809b-5dfe-4702-b1ee-0a32a9ea0995"
      },
      "execution_count": null,
      "outputs": [
        {
          "output_type": "stream",
          "name": "stdout",
          "text": [
            "\n",
            "✅ Final feature extraction complete!\n",
            "📁 CSV saved at: /content/drive/MyDrive/Hammering_Test/s01/Hit_Feature_Result/hit_features_final.csv\n"
          ]
        }
      ]
    },
    {
      "cell_type": "code",
      "source": [
        "import os\n",
        "\n",
        "# Define paths\n",
        "parent_folder = '/content/drive/MyDrive/Hammering_Test/s01'\n",
        "g_hit_path = os.path.join(parent_folder, 'Good_result', 'G_hit')\n",
        "b_hit_path = os.path.join(parent_folder, 'Bad_result', 'B_hit')\n",
        "\n",
        "# Count .wav files\n",
        "count_g_hit = len([f for f in os.listdir(g_hit_path) if f.endswith('.wav')])\n",
        "count_b_hit = len([f for f in os.listdir(b_hit_path) if f.endswith('.wav')])\n",
        "total = count_g_hit + count_b_hit\n",
        "\n",
        "# Print results\n",
        "print(f\"✅ G_hit samples: {count_g_hit}\")\n",
        "print(f\"✅ B_hit samples: {count_b_hit}\")\n",
        "print(f\"📊 Total .wav samples: {total}\")\n"
      ],
      "metadata": {
        "colab": {
          "base_uri": "https://localhost:8080/"
        },
        "id": "xO0TJBZDeGld",
        "outputId": "a52fa857-04bf-4e91-c7b1-c66896560e12"
      },
      "execution_count": null,
      "outputs": [
        {
          "output_type": "stream",
          "name": "stdout",
          "text": [
            "✅ G_hit samples: 3111\n",
            "✅ B_hit samples: 3190\n",
            "📊 Total .wav samples: 6301\n"
          ]
        }
      ]
    },
    {
      "cell_type": "code",
      "source": [
        "import os\n",
        "\n",
        "# Define paths\n",
        "parent_folder = '/content/drive/MyDrive/Hammering_Test/s01'\n",
        "g_hit_path = os.path.join(parent_folder, 'Good_result', 'G_vib')\n",
        "b_hit_path = os.path.join(parent_folder, 'Bad_result', 'B_vib')\n",
        "\n",
        "# Count .wav files\n",
        "count_g_hit = len([f for f in os.listdir(g_hit_path) if f.endswith('.wav')])\n",
        "count_b_hit = len([f for f in os.listdir(b_hit_path) if f.endswith('.wav')])\n",
        "total = count_g_hit + count_b_hit\n",
        "\n",
        "# Print results\n",
        "print(f\"✅ G_vib samples: {count_g_hit}\")\n",
        "print(f\"✅ B_vib samples: {count_b_hit}\")\n",
        "print(f\"📊 Total .wav samples: {total}\")"
      ],
      "metadata": {
        "colab": {
          "base_uri": "https://localhost:8080/"
        },
        "id": "KwwaqelF0Bai",
        "outputId": "5d75ce69-7a01-402b-c30c-e831769a6380"
      },
      "execution_count": null,
      "outputs": [
        {
          "output_type": "stream",
          "name": "stdout",
          "text": [
            "✅ G_vib samples: 3111\n",
            "✅ B_vib samples: 3190\n",
            "📊 Total .wav samples: 6301\n"
          ]
        }
      ]
    },
    {
      "cell_type": "markdown",
      "source": [
        "# Vibration Calculation"
      ],
      "metadata": {
        "id": "eBXkLkrTjBUo"
      }
    },
    {
      "cell_type": "code",
      "source": [
        "import os\n",
        "import numpy as np\n",
        "import librosa\n",
        "import scipy.stats\n",
        "from scipy.fft import fft\n",
        "import pandas as pd\n",
        "\n",
        "# Paths\n",
        "parent_folder = '/content/drive/MyDrive/Hammering_Test/s01'\n",
        "g_vib_path = os.path.join(parent_folder, 'Good_result', 'G_vib')\n",
        "b_vib_path = os.path.join(parent_folder, 'Bad_result', 'B_vib')\n",
        "\n",
        "# Output folder\n",
        "output_folder = os.path.join(parent_folder, 'Vibration_Feature_Result')\n",
        "os.makedirs(output_folder, exist_ok=True)\n",
        "\n",
        "# Config\n",
        "num_fft_coeffs = 10\n",
        "num_mfcc = 13\n",
        "feature_list = []\n",
        "\n",
        "# Spectral entropy function\n",
        "def spectral_entropy(signal):\n",
        "    fft_vals = np.abs(np.fft.fft(signal))**2\n",
        "    total_energy = np.sum(fft_vals)\n",
        "    if total_energy == 0:\n",
        "        return 0\n",
        "    energy = fft_vals[:len(fft_vals)//2]\n",
        "    energy /= total_energy\n",
        "    entropy = -np.sum(energy * np.log2(energy + 1e-12))\n",
        "    return entropy\n",
        "\n",
        "# Dominant frequency\n",
        "def dominant_freq(y, sr):\n",
        "    yf = np.abs(fft(y))\n",
        "    xf = np.fft.fftfreq(len(y), 1 / sr)\n",
        "    positive_freqs = xf[:len(xf)//2]\n",
        "    positive_mags = yf[:len(yf)//2]\n",
        "    return positive_freqs[np.argmax(positive_mags)]\n",
        "\n",
        "# Feature extraction function\n",
        "def process_vibration_folder(folder_path, label):\n",
        "    for file in sorted(os.listdir(folder_path)):\n",
        "        if file.endswith('.wav'):\n",
        "            filepath = os.path.join(folder_path, file)\n",
        "            y, sr = librosa.load(filepath, sr=None)\n",
        "\n",
        "            if len(y) < 32:\n",
        "                continue\n",
        "\n",
        "            N = len(y)\n",
        "            yf = fft(y)\n",
        "            magnitude = 2.0 / N * np.abs(yf[:N // 2])\n",
        "\n",
        "            # Time-Domain Features\n",
        "            time_features = {\n",
        "                \"File\": file,\n",
        "                \"Label\": 1 if label == \"Good\" else 0,\n",
        "                \"Mean\": np.mean(y),\n",
        "                \"RMS\": np.sqrt(np.mean(y**2)),\n",
        "                \"Variance\": np.var(y),\n",
        "                \"Skewness\": scipy.stats.skew(y),\n",
        "                \"Kurtosis\": scipy.stats.kurtosis(y),\n",
        "                \"Crest Factor\": np.max(np.abs(y)) / (np.sqrt(np.mean(y**2)) + 1e-10),\n",
        "                \"Zero Crossing Rate\": librosa.feature.zero_crossing_rate(y)[0].mean()\n",
        "            }\n",
        "\n",
        "            # Frequency-Domain Features\n",
        "            n_fft_val = min(2048, len(y))\n",
        "            spectral_centroid = librosa.feature.spectral_centroid(y=y, sr=sr, n_fft=n_fft_val)[0].mean()\n",
        "            entropy_val = spectral_entropy(y)\n",
        "            spectral_energy = np.sum(np.square(magnitude))\n",
        "            dominant = dominant_freq(y, sr)\n",
        "\n",
        "            fft_coeffs = magnitude[:num_fft_coeffs]\n",
        "            fft_dict = {f\"FFT_Coeff_{i+1}\": fft_coeffs[i] for i in range(len(fft_coeffs))}\n",
        "            peak_fft_val = np.max(fft_coeffs)\n",
        "\n",
        "            mfccs = librosa.feature.mfcc(y=y, sr=sr, n_mfcc=num_mfcc)\n",
        "            mfcc_dict = {f\"MFCC_{i+1}\": mfccs.mean(axis=1)[i] for i in range(num_mfcc)}\n",
        "\n",
        "            chroma = librosa.feature.chroma_stft(y=y, sr=sr)\n",
        "            chroma_mean = chroma.mean(axis=1)\n",
        "            chroma_dict = {f\"Chroma_{i+1}\": chroma_mean[i] for i in range(len(chroma_mean))}\n",
        "            peak_chroma_val = np.max(chroma_mean)\n",
        "\n",
        "            # Combine all features\n",
        "            all_features = {\n",
        "                **time_features,\n",
        "                \"Spectral Centroid\": spectral_centroid,\n",
        "                \"Spectral Entropy\": entropy_val,\n",
        "                \"Spectral Energy\": spectral_energy,\n",
        "                \"Dominant Frequency\": dominant,\n",
        "                \"Peak FFT Value\": peak_fft_val,\n",
        "                \"Peak Chroma Value\": peak_chroma_val,\n",
        "                **fft_dict,\n",
        "                **mfcc_dict,\n",
        "                **chroma_dict\n",
        "            }\n",
        "\n",
        "            feature_list.append(all_features)\n",
        "\n",
        "# Process both folders (Good first, then Bad)\n",
        "process_vibration_folder(g_vib_path, label=\"Good\")\n",
        "process_vibration_folder(b_vib_path, label=\"Bad\")\n",
        "\n",
        "# Save to CSV\n",
        "df = pd.DataFrame(feature_list)\n",
        "\n",
        "# Sort: Good (1) first, then Bad (0), then by file name\n",
        "df = df.sort_values(by=[\"Label\", \"File\"], ascending=[False, True])\n",
        "\n",
        "# Save to CSV\n",
        "csv_path = os.path.join(output_folder, \"vibration_features_final.csv\")\n",
        "df.to_csv(csv_path, index=False)\n",
        "\n",
        "print(\"\\n✅ Vibration feature extraction complete!\")\n",
        "print(f\"📁 CSV saved at: {csv_path}\")\n"
      ],
      "metadata": {
        "colab": {
          "base_uri": "https://localhost:8080/"
        },
        "id": "joVYU0JKlNkr",
        "outputId": "26dfbe22-7906-4af5-b4cd-d7b07efe7a87"
      },
      "execution_count": null,
      "outputs": [
        {
          "output_type": "stream",
          "name": "stderr",
          "text": [
            "<ipython-input-8-3154727129>:62: RuntimeWarning: Precision loss occurred in moment calculation due to catastrophic cancellation. This occurs when the data are nearly identical. Results may be unreliable.\n",
            "  \"Skewness\": scipy.stats.skew(y),\n",
            "<ipython-input-8-3154727129>:63: RuntimeWarning: Precision loss occurred in moment calculation due to catastrophic cancellation. This occurs when the data are nearly identical. Results may be unreliable.\n",
            "  \"Kurtosis\": scipy.stats.kurtosis(y),\n"
          ]
        },
        {
          "output_type": "stream",
          "name": "stdout",
          "text": [
            "\n",
            "✅ Vibration feature extraction complete!\n",
            "📁 CSV saved at: /content/drive/MyDrive/Hammering_Test/s01/Vibration_Feature_Result/vibration_features_final.csv\n"
          ]
        }
      ]
    },
    {
      "cell_type": "markdown",
      "source": [
        "#Normalization using Z-Score Standardization"
      ],
      "metadata": {
        "id": "4uRgjGM0nf0z"
      }
    },
    {
      "cell_type": "code",
      "source": [
        "import pandas as pd\n",
        "from sklearn.preprocessing import StandardScaler\n",
        "\n",
        "# Load your dataset\n",
        "csv_path = '/content/drive/MyDrive/Hammering_Test/s01/Hit_Feature_Result/hit_features_final.csv'  # or vibration_features_final.csv\n",
        "df = pd.read_csv(csv_path)\n",
        "\n",
        "# Columns to keep untouched\n",
        "non_feature_cols = ['File', 'Label']\n",
        "\n",
        "# Extract features and apply normalization\n",
        "features = df.drop(columns=non_feature_cols)\n",
        "scaler = StandardScaler()\n",
        "features_scaled = scaler.fit_transform(features)\n",
        "\n",
        "# Rebuild normalized DataFrame\n",
        "df_normalized = pd.DataFrame(features_scaled, columns=features.columns)\n",
        "df_normalized[non_feature_cols] = df[non_feature_cols]  # Add back file and label\n",
        "\n",
        "# Reorder columns\n",
        "df_normalized = df_normalized[non_feature_cols + list(features.columns)]\n",
        "\n",
        "# Save normalized dataset\n",
        "normalized_csv_path = csv_path.replace('.csv', '_normalized.csv')\n",
        "df_normalized.to_csv(normalized_csv_path, index=False)\n",
        "\n",
        "print(\"✅ Normalization complete!\")\n",
        "print(f\"📁 Normalized file saved at: {normalized_csv_path}\")\n"
      ],
      "metadata": {
        "colab": {
          "base_uri": "https://localhost:8080/"
        },
        "id": "RqMcYXP5nfe7",
        "outputId": "697824dc-7d6e-40cf-f63b-5cccbdba18da"
      },
      "execution_count": null,
      "outputs": [
        {
          "output_type": "stream",
          "name": "stdout",
          "text": [
            "✅ Normalization complete!\n",
            "📁 Normalized file saved at: /content/drive/MyDrive/Hammering_Test/s01/Hit_Feature_Result/hit_features_final_normalized.csv\n"
          ]
        }
      ]
    },
    {
      "cell_type": "code",
      "source": [
        "import pandas as pd\n",
        "from sklearn.preprocessing import StandardScaler\n",
        "\n",
        "# Load your dataset\n",
        "csv_path = '/content/drive/MyDrive/Hammering_Test/s01/Vibration_Feature_Result/vibration_features_final.csv'  # or vibration_features_final.csv\n",
        "df = pd.read_csv(csv_path)\n",
        "\n",
        "# Columns to keep untouched\n",
        "non_feature_cols = ['File', 'Label']\n",
        "\n",
        "# Extract features and apply normalization\n",
        "features = df.drop(columns=non_feature_cols)\n",
        "scaler = StandardScaler()\n",
        "features_scaled = scaler.fit_transform(features)\n",
        "\n",
        "# Rebuild normalized DataFrame\n",
        "df_normalized = pd.DataFrame(features_scaled, columns=features.columns)\n",
        "df_normalized[non_feature_cols] = df[non_feature_cols]  # Add back file and label\n",
        "\n",
        "# Reorder columns\n",
        "df_normalized = df_normalized[non_feature_cols + list(features.columns)]\n",
        "\n",
        "# Save normalized dataset\n",
        "normalized_csv_path = csv_path.replace('.csv', '_normalized.csv')\n",
        "df_normalized.to_csv(normalized_csv_path, index=False)\n",
        "\n",
        "print(\"✅ Normalization complete!\")\n",
        "print(f\"📁 Normalized file saved at: {normalized_csv_path}\")"
      ],
      "metadata": {
        "colab": {
          "base_uri": "https://localhost:8080/"
        },
        "id": "y2xNdwKHoU_6",
        "outputId": "a0c210af-74f6-49a0-ec85-64b1fd3b4232"
      },
      "execution_count": null,
      "outputs": [
        {
          "output_type": "stream",
          "name": "stdout",
          "text": [
            "✅ Normalization complete!\n",
            "📁 Normalized file saved at: /content/drive/MyDrive/Hammering_Test/s01/Vibration_Feature_Result/vibration_features_final_normalized.csv\n"
          ]
        }
      ]
    },
    {
      "cell_type": "code",
      "source": [],
      "metadata": {
        "id": "opjZUfsT0BGq"
      },
      "execution_count": null,
      "outputs": []
    },
    {
      "cell_type": "markdown",
      "source": [
        "#Feature Selection for HIT"
      ],
      "metadata": {
        "id": "BMSgi4kg0CNg"
      }
    },
    {
      "cell_type": "code",
      "source": [
        "import pandas as pd\n",
        "from sklearn.ensemble import RandomForestClassifier\n",
        "from sklearn.preprocessing import StandardScaler\n",
        "from sklearn.feature_selection import SelectFromModel\n",
        "\n",
        "# === Step 1: Load dataset ===\n",
        "df = pd.read_csv(\"/content/drive/MyDrive/Hammering_Test/s01/Hit_Feature_Result/hit_features_final_normalized.csv\")\n",
        "\n",
        "# Separate features and labels\n",
        "features = df.drop(columns=[\"Label\", \"File\"])\n",
        "labels = df[\"Label\"]\n",
        "files = df[\"File\"]\n",
        "\n",
        "# === Step 2: Normalize the features ===\n",
        "scaler = StandardScaler()\n",
        "features_scaled = scaler.fit_transform(features)\n",
        "\n",
        "# === Step 3: Feature Selection using Random Forest ===\n",
        "clf = RandomForestClassifier(n_estimators=100, random_state=42)\n",
        "clf.fit(features_scaled, labels)\n",
        "\n",
        "# Select top features above median importance\n",
        "selector = SelectFromModel(clf, threshold='median', prefit=True)\n",
        "selected_features = selector.transform(features_scaled)\n",
        "selected_feature_names = features.columns[selector.get_support()]\n",
        "\n",
        "# === Step 4: Create DataFrame with selected features ===\n",
        "reduced_df = pd.DataFrame(selected_features, columns=selected_feature_names)\n",
        "reduced_df['Label'] = labels\n",
        "reduced_df['File'] = files\n",
        "\n",
        "# === Step 5: Save the reduced dataset ===\n",
        "output_path = \"/content/drive/MyDrive/Hammering_Test/s01/Hit_Feature_Result/hit_features_selected.csv\"\n",
        "reduced_df.to_csv(output_path, index=False)\n",
        "\n",
        "print(\"✅ Feature selection complete.\")\n",
        "print(f\"📁 Selected features saved at: {output_path}\")\n",
        "print(f\"🎯 Number of selected features: {len(selected_feature_names)}\")\n"
      ],
      "metadata": {
        "colab": {
          "base_uri": "https://localhost:8080/"
        },
        "id": "RdyBfuLKyZ6u",
        "outputId": "e35564be-6e97-4ddc-fda5-2aded4e52590"
      },
      "execution_count": null,
      "outputs": [
        {
          "output_type": "stream",
          "name": "stdout",
          "text": [
            "✅ Feature selection complete.\n",
            "📁 Selected features saved at: /content/drive/MyDrive/Hammering_Test/s01/Hit_Feature_Result/hit_features_selected.csv\n",
            "🎯 Number of selected features: 24\n"
          ]
        }
      ]
    },
    {
      "cell_type": "markdown",
      "source": [
        "#Feature selection of Vibrations"
      ],
      "metadata": {
        "id": "sQ-SCyQq0X8Z"
      }
    },
    {
      "cell_type": "code",
      "source": [
        "import pandas as pd\n",
        "from sklearn.ensemble import RandomForestClassifier\n",
        "from sklearn.preprocessing import StandardScaler\n",
        "from sklearn.feature_selection import SelectFromModel\n",
        "\n",
        "# === Step 1: Load vibration dataset ===\n",
        "df = pd.read_csv(\"/content/drive/MyDrive/Hammering_Test/s01/Vibration_Feature_Result/vibration_features_final_normalized.csv\")\n",
        "\n",
        "# Separate features and labels\n",
        "features = df.drop(columns=[\"Label\", \"File\"])\n",
        "labels = df[\"Label\"]\n",
        "files = df[\"File\"]\n",
        "\n",
        "# === Step 2: Normalize the features ===\n",
        "scaler = StandardScaler()\n",
        "features_scaled = scaler.fit_transform(features)\n",
        "\n",
        "# === Step 3: Feature Selection using Random Forest ===\n",
        "clf = RandomForestClassifier(n_estimators=100, random_state=42)\n",
        "clf.fit(features_scaled, labels)\n",
        "\n",
        "# Select top features above median importance\n",
        "selector = SelectFromModel(clf, threshold='median', prefit=True)\n",
        "selected_features = selector.transform(features_scaled)\n",
        "selected_feature_names = features.columns[selector.get_support()]\n",
        "\n",
        "# === Step 4: Create DataFrame with selected features ===\n",
        "reduced_df = pd.DataFrame(selected_features, columns=selected_feature_names)\n",
        "reduced_df['Label'] = labels\n",
        "reduced_df['File'] = files\n",
        "\n",
        "# === Step 5: Save the reduced dataset ===\n",
        "output_path = \"/content/drive/MyDrive/Hammering_Test/s01/Vibration_Feature_Result/vibration_features_selected.csv\"\n",
        "reduced_df.to_csv(output_path, index=False)\n",
        "\n",
        "print(\"✅ Feature selection for vibration data complete.\")\n",
        "print(f\"📁 Selected features saved at: {output_path}\")\n",
        "print(f\"🎯 Number of selected features: {len(selected_feature_names)}\")\n"
      ],
      "metadata": {
        "colab": {
          "base_uri": "https://localhost:8080/"
        },
        "id": "Et_JVnWF1ZLV",
        "outputId": "ecc1b823-b0f4-43a2-b65a-bd6670c3f6c9"
      },
      "execution_count": null,
      "outputs": [
        {
          "output_type": "stream",
          "name": "stdout",
          "text": [
            "✅ Feature selection for vibration data complete.\n",
            "📁 Selected features saved at: /content/drive/MyDrive/Hammering_Test/s01/Vibration_Feature_Result/vibration_features_selected.csv\n",
            "🎯 Number of selected features: 24\n"
          ]
        }
      ]
    },
    {
      "cell_type": "code",
      "source": [
        "import pandas as pd\n",
        "import matplotlib.pyplot as plt\n",
        "import seaborn as sns\n",
        "from sklearn.ensemble import RandomForestClassifier\n",
        "from sklearn.preprocessing import StandardScaler\n",
        "\n",
        "# === CONFIG ===\n",
        "TOP_N = 20\n",
        "base_path = \"/content/drive/MyDrive/Hammering_Test/s01\"\n",
        "\n",
        "# === FUNCTION TO PROCESS AND PLOT ===\n",
        "def feature_selection_plot(csv_path, dataset_name):\n",
        "    print(f\"\\n🔍 Processing: {dataset_name}\")\n",
        "\n",
        "    # Load dataset\n",
        "    df = pd.read_csv(csv_path)\n",
        "\n",
        "    # Separate features and labels\n",
        "    features = df.drop(columns=[\"Label\", \"File\"])\n",
        "    labels = df[\"Label\"]\n",
        "\n",
        "    # Normalize features\n",
        "    scaler = StandardScaler()\n",
        "    features_scaled = scaler.fit_transform(features)\n",
        "\n",
        "    # Train Random Forest\n",
        "    clf = RandomForestClassifier(n_estimators=100, random_state=42)\n",
        "    clf.fit(features_scaled, labels)\n",
        "\n",
        "    # Extract importances\n",
        "    importances = clf.feature_importances_\n",
        "    feature_names = features.columns\n",
        "\n",
        "    importance_df = pd.DataFrame({\n",
        "        \"Feature\": feature_names,\n",
        "        \"Importance\": importances\n",
        "    }).sort_values(by=\"Importance\", ascending=False)\n",
        "\n",
        "    # Plot Top N\n",
        "    plt.figure(figsize=(12, 6))\n",
        "    sns.barplot(x=\"Importance\", y=\"Feature\", data=importance_df.head(TOP_N), palette=\"coolwarm\")\n",
        "    plt.title(f\"Top {TOP_N} Important Features ({dataset_name})\")\n",
        "    plt.tight_layout()\n",
        "    plt.show()\n",
        "\n",
        "    return importance_df.head(TOP_N)\n",
        "\n",
        "# === RUN FOR HIT DATA ===\n",
        "hit_csv = f\"{base_path}/Hit_Feature_Result/hit_features_final_normalized.csv\"\n",
        "top_hit_features = feature_selection_plot(hit_csv, \"Hit Data\")\n",
        "\n",
        "# === RUN FOR VIBRATION DATA ===\n",
        "vib_csv = f\"{base_path}/Vibration_Feature_Result/vibration_features_final_normalized.csv\"\n",
        "top_vib_features = feature_selection_plot(vib_csv, \"Vibration Data\")\n"
      ],
      "metadata": {
        "colab": {
          "base_uri": "https://localhost:8080/",
          "height": 1000
        },
        "id": "WtdNh2QX0Vlp",
        "outputId": "4a6770cd-ab63-4b89-f657-59552fc59f32"
      },
      "execution_count": null,
      "outputs": [
        {
          "output_type": "stream",
          "name": "stdout",
          "text": [
            "\n",
            "🔍 Processing: Hit Data\n"
          ]
        },
        {
          "output_type": "stream",
          "name": "stderr",
          "text": [
            "<ipython-input-23-572933478>:41: FutureWarning: \n",
            "\n",
            "Passing `palette` without assigning `hue` is deprecated and will be removed in v0.14.0. Assign the `y` variable to `hue` and set `legend=False` for the same effect.\n",
            "\n",
            "  sns.barplot(x=\"Importance\", y=\"Feature\", data=importance_df.head(TOP_N), palette=\"coolwarm\")\n"
          ]
        },
        {
          "output_type": "display_data",
          "data": {
            "text/plain": [
              "<Figure size 1200x600 with 1 Axes>"
            ],
            "image/png": "[encoded data removed]"
          },
          "metadata": {}
        },
        {
          "output_type": "stream",
          "name": "stdout",
          "text": [
            "\n",
            "🔍 Processing: Vibration Data\n"
          ]
        },
        {
          "output_type": "stream",
          "name": "stderr",
          "text": [
            "<ipython-input-23-572933478>:41: FutureWarning: \n",
            "\n",
            "Passing `palette` without assigning `hue` is deprecated and will be removed in v0.14.0. Assign the `y` variable to `hue` and set `legend=False` for the same effect.\n",
            "\n",
            "  sns.barplot(x=\"Importance\", y=\"Feature\", data=importance_df.head(TOP_N), palette=\"coolwarm\")\n"
          ]
        },
        {
          "output_type": "display_data",
          "data": {
            "text/plain": [
              "<Figure size 1200x600 with 1 Axes>"
            ],
            "image/png": "[encoded data removed]"
          },
          "metadata": {}
        }
      ]
    },
    {
      "cell_type": "markdown",
      "source": [
        "#model training for Hits"
      ],
      "metadata": {
        "id": "IrvxfNOi4szG"
      }
    },
    {
      "cell_type": "code",
      "source": [
        "import pandas as pd\n",
        "import numpy as np\n",
        "from sklearn.model_selection import train_test_split\n",
        "from sklearn.preprocessing import StandardScaler\n",
        "from sklearn.impute import SimpleImputer\n",
        "from sklearn.metrics import accuracy_score, classification_report, confusion_matrix\n",
        "\n",
        "# Classifiers\n",
        "from sklearn.linear_model import LogisticRegression\n",
        "from sklearn.ensemble import RandomForestClassifier, GradientBoostingClassifier\n",
        "from sklearn.svm import SVC\n",
        "from sklearn.neighbors import KNeighborsClassifier\n",
        "from sklearn.naive_bayes import GaussianNB\n",
        "from sklearn.tree import DecisionTreeClassifier\n",
        "\n",
        "# === Step 1: Load the dataset ===\n",
        "df = pd.read_csv(\"/content/drive/MyDrive/Hammering_Test/s01/Hit_Feature_Result/hit_features_selected.csv\")\n",
        "\n",
        "# === Step 2: Separate features and labels ===\n",
        "X = df.drop(columns=[\"Label\", \"File\"])\n",
        "y = df[\"Label\"]\n",
        "\n",
        "# === Step 3: Handle Missing Values ===\n",
        "imputer = SimpleImputer(strategy='mean')\n",
        "X_imputed = imputer.fit_transform(X)\n",
        "X = pd.DataFrame(X_imputed, columns=X.columns)\n",
        "\n",
        "# === Step 4: Scale Features ===\n",
        "scaler = StandardScaler()\n",
        "X_scaled = scaler.fit_transform(X)\n",
        "\n",
        "# === Step 5: Train-Test Split ===\n",
        "X_train, X_test, y_train, y_test = train_test_split(X_scaled, y, test_size=0.2, random_state=42)\n",
        "\n",
        "# === Step 6: Define Models ===\n",
        "models = {\n",
        "    \"Logistic Regression\": LogisticRegression(max_iter=1000),\n",
        "    \"Random Forest\": RandomForestClassifier(n_estimators=100, random_state=42),\n",
        "    \"Gradient Boosting\": GradientBoostingClassifier(),\n",
        "    \"Support Vector Machine\": SVC(),\n",
        "    \"K-Nearest Neighbors\": KNeighborsClassifier(),\n",
        "    \"Naive Bayes\": GaussianNB(),\n",
        "    \"Decision Tree\": DecisionTreeClassifier()\n",
        "}\n",
        "\n",
        "# === Step 7: Train and Evaluate ===\n",
        "for name, model in models.items():\n",
        "    print(f\"\\n🔍 Evaluating: {name}\")\n",
        "    model.fit(X_train, y_train)\n",
        "    y_pred = model.predict(X_test)\n",
        "\n",
        "    print(\"✅ Accuracy:\", accuracy_score(y_test, y_pred))\n",
        "    print(\"📊 Classification Report:\\n\", classification_report(y_test, y_pred))\n",
        "    print(\"🧮 Confusion Matrix:\\n\", confusion_matrix(y_test, y_pred))"
      ],
      "metadata": {
        "colab": {
          "base_uri": "https://localhost:8080/"
        },
        "id": "fEmmWBKU4scB",
        "outputId": "7e4eb722-2b3d-42ed-db63-42882db39004"
      },
      "execution_count": null,
      "outputs": [
        {
          "output_type": "stream",
          "name": "stdout",
          "text": [
            "\n",
            "🔍 Evaluating: Logistic Regression\n",
            "✅ Accuracy: 0.9008723235527359\n",
            "📊 Classification Report:\n",
            "               precision    recall  f1-score   support\n",
            "\n",
            "           0       0.90      0.91      0.90       639\n",
            "           1       0.91      0.89      0.90       622\n",
            "\n",
            "    accuracy                           0.90      1261\n",
            "   macro avg       0.90      0.90      0.90      1261\n",
            "weighted avg       0.90      0.90      0.90      1261\n",
            "\n",
            "🧮 Confusion Matrix:\n",
            " [[582  57]\n",
            " [ 68 554]]\n",
            "\n",
            "🔍 Evaluating: Random Forest\n",
            "✅ Accuracy: 0.9429024583663759\n",
            "📊 Classification Report:\n",
            "               precision    recall  f1-score   support\n",
            "\n",
            "           0       0.95      0.94      0.94       639\n",
            "           1       0.94      0.95      0.94       622\n",
            "\n",
            "    accuracy                           0.94      1261\n",
            "   macro avg       0.94      0.94      0.94      1261\n",
            "weighted avg       0.94      0.94      0.94      1261\n",
            "\n",
            "🧮 Confusion Matrix:\n",
            " [[598  41]\n",
            " [ 31 591]]\n",
            "\n",
            "🔍 Evaluating: Gradient Boosting\n",
            "✅ Accuracy: 0.9357652656621729\n",
            "📊 Classification Report:\n",
            "               precision    recall  f1-score   support\n",
            "\n",
            "           0       0.94      0.93      0.94       639\n",
            "           1       0.93      0.94      0.94       622\n",
            "\n",
            "    accuracy                           0.94      1261\n",
            "   macro avg       0.94      0.94      0.94      1261\n",
            "weighted avg       0.94      0.94      0.94      1261\n",
            "\n",
            "🧮 Confusion Matrix:\n",
            " [[596  43]\n",
            " [ 38 584]]\n",
            "\n",
            "🔍 Evaluating: Support Vector Machine\n",
            "✅ Accuracy: 0.9579698651863601\n",
            "📊 Classification Report:\n",
            "               precision    recall  f1-score   support\n",
            "\n",
            "           0       0.97      0.95      0.96       639\n",
            "           1       0.95      0.97      0.96       622\n",
            "\n",
            "    accuracy                           0.96      1261\n",
            "   macro avg       0.96      0.96      0.96      1261\n",
            "weighted avg       0.96      0.96      0.96      1261\n",
            "\n",
            "🧮 Confusion Matrix:\n",
            " [[604  35]\n",
            " [ 18 604]]\n",
            "\n",
            "🔍 Evaluating: K-Nearest Neighbors\n",
            "✅ Accuracy: 0.9540047581284695\n",
            "📊 Classification Report:\n",
            "               precision    recall  f1-score   support\n",
            "\n",
            "           0       0.97      0.94      0.95       639\n",
            "           1       0.94      0.97      0.95       622\n",
            "\n",
            "    accuracy                           0.95      1261\n",
            "   macro avg       0.95      0.95      0.95      1261\n",
            "weighted avg       0.95      0.95      0.95      1261\n",
            "\n",
            "🧮 Confusion Matrix:\n",
            " [[602  37]\n",
            " [ 21 601]]\n",
            "\n",
            "🔍 Evaluating: Naive Bayes\n",
            "✅ Accuracy: 0.8350515463917526\n",
            "📊 Classification Report:\n",
            "               precision    recall  f1-score   support\n",
            "\n",
            "           0       0.82      0.87      0.84       639\n",
            "           1       0.86      0.80      0.83       622\n",
            "\n",
            "    accuracy                           0.84      1261\n",
            "   macro avg       0.84      0.83      0.83      1261\n",
            "weighted avg       0.84      0.84      0.83      1261\n",
            "\n",
            "🧮 Confusion Matrix:\n",
            " [[556  83]\n",
            " [125 497]]\n",
            "\n",
            "🔍 Evaluating: Decision Tree\n",
            "✅ Accuracy: 0.9008723235527359\n",
            "📊 Classification Report:\n",
            "               precision    recall  f1-score   support\n",
            "\n",
            "           0       0.90      0.90      0.90       639\n",
            "           1       0.90      0.90      0.90       622\n",
            "\n",
            "    accuracy                           0.90      1261\n",
            "   macro avg       0.90      0.90      0.90      1261\n",
            "weighted avg       0.90      0.90      0.90      1261\n",
            "\n",
            "🧮 Confusion Matrix:\n",
            " [[577  62]\n",
            " [ 63 559]]\n"
          ]
        }
      ]
    },
    {
      "cell_type": "markdown",
      "source": [
        "# model Training for vibration"
      ],
      "metadata": {
        "id": "62CrGaeZ3AqU"
      }
    },
    {
      "cell_type": "code",
      "source": [
        "import pandas as pd\n",
        "import numpy as np\n",
        "from sklearn.model_selection import train_test_split\n",
        "from sklearn.preprocessing import StandardScaler\n",
        "from sklearn.impute import SimpleImputer\n",
        "from sklearn.metrics import accuracy_score, classification_report, confusion_matrix\n",
        "\n",
        "# Classifiers\n",
        "from sklearn.linear_model import LogisticRegression\n",
        "from sklearn.ensemble import RandomForestClassifier, GradientBoostingClassifier\n",
        "from sklearn.svm import SVC\n",
        "from sklearn.neighbors import KNeighborsClassifier\n",
        "from sklearn.naive_bayes import GaussianNB\n",
        "from sklearn.tree import DecisionTreeClassifier\n",
        "\n",
        "# === Step 1: Load the dataset ===\n",
        "df = pd.read_csv(\"/content/drive/MyDrive/Hammering_Test/s01/Vibration_Feature_Result/vibration_features_selected.csv\")\n",
        "\n",
        "# === Step 2: Separate features and labels ===\n",
        "X = df.drop(columns=[\"Label\", \"File\"])\n",
        "y = df[\"Label\"]\n",
        "\n",
        "# === Step 3: Handle Missing Values ===\n",
        "imputer = SimpleImputer(strategy='mean')\n",
        "X_imputed = imputer.fit_transform(X)\n",
        "X = pd.DataFrame(X_imputed, columns=X.columns)\n",
        "\n",
        "# === Step 4: Scale Features ===\n",
        "scaler = StandardScaler()\n",
        "X_scaled = scaler.fit_transform(X)\n",
        "\n",
        "# === Step 5: Train-Test Split ===\n",
        "X_train, X_test, y_train, y_test = train_test_split(X_scaled, y, test_size=0.2, random_state=42)\n",
        "\n",
        "# === Step 6: Define Models ===\n",
        "models = {\n",
        "    \"Logistic Regression\": LogisticRegression(max_iter=1000),\n",
        "    \"Random Forest\": RandomForestClassifier(n_estimators=100, random_state=42),\n",
        "    \"Gradient Boosting\": GradientBoostingClassifier(),\n",
        "    \"Support Vector Machine\": SVC(),\n",
        "    \"K-Nearest Neighbors\": KNeighborsClassifier(),\n",
        "    \"Naive Bayes\": GaussianNB(),\n",
        "    \"Decision Tree\": DecisionTreeClassifier()\n",
        "}\n",
        "\n",
        "# === Step 7: Train and Evaluate ===\n",
        "for name, model in models.items():\n",
        "    print(f\"\\n🔍 Evaluating: {name}\")\n",
        "    model.fit(X_train, y_train)\n",
        "    y_pred = model.predict(X_test)\n",
        "\n",
        "    print(\"✅ Accuracy:\", accuracy_score(y_test, y_pred))\n",
        "    print(\"📊 Classification Report:\\n\", classification_report(y_test, y_pred))\n",
        "    print(\"🧮 Confusion Matrix:\\n\", confusion_matrix(y_test, y_pred))\n",
        "\n"
      ],
      "metadata": {
        "colab": {
          "base_uri": "https://localhost:8080/"
        },
        "id": "JV0GKiOs3ADP",
        "outputId": "d4b85ee4-a08c-4811-cb87-4297856b1ea2"
      },
      "execution_count": null,
      "outputs": [
        {
          "output_type": "stream",
          "name": "stdout",
          "text": [
            "\n",
            "🔍 Evaluating: Logistic Regression\n",
            "✅ Accuracy: 0.8810467882632831\n",
            "📊 Classification Report:\n",
            "               precision    recall  f1-score   support\n",
            "\n",
            "           0       0.87      0.90      0.88       639\n",
            "           1       0.89      0.86      0.88       622\n",
            "\n",
            "    accuracy                           0.88      1261\n",
            "   macro avg       0.88      0.88      0.88      1261\n",
            "weighted avg       0.88      0.88      0.88      1261\n",
            "\n",
            "🧮 Confusion Matrix:\n",
            " [[574  65]\n",
            " [ 85 537]]\n",
            "\n",
            "🔍 Evaluating: Random Forest\n",
            "✅ Accuracy: 0.9175257731958762\n",
            "📊 Classification Report:\n",
            "               precision    recall  f1-score   support\n",
            "\n",
            "           0       0.90      0.94      0.92       639\n",
            "           1       0.94      0.89      0.91       622\n",
            "\n",
            "    accuracy                           0.92      1261\n",
            "   macro avg       0.92      0.92      0.92      1261\n",
            "weighted avg       0.92      0.92      0.92      1261\n",
            "\n",
            "🧮 Confusion Matrix:\n",
            " [[603  36]\n",
            " [ 68 554]]\n",
            "\n",
            "🔍 Evaluating: Gradient Boosting\n",
            "✅ Accuracy: 0.9127676447264076\n",
            "📊 Classification Report:\n",
            "               precision    recall  f1-score   support\n",
            "\n",
            "           0       0.90      0.93      0.91       639\n",
            "           1       0.92      0.90      0.91       622\n",
            "\n",
            "    accuracy                           0.91      1261\n",
            "   macro avg       0.91      0.91      0.91      1261\n",
            "weighted avg       0.91      0.91      0.91      1261\n",
            "\n",
            "🧮 Confusion Matrix:\n",
            " [[592  47]\n",
            " [ 63 559]]\n",
            "\n",
            "🔍 Evaluating: Support Vector Machine\n",
            "✅ Accuracy: 0.9214908802537668\n",
            "📊 Classification Report:\n",
            "               precision    recall  f1-score   support\n",
            "\n",
            "           0       0.90      0.95      0.92       639\n",
            "           1       0.94      0.90      0.92       622\n",
            "\n",
            "    accuracy                           0.92      1261\n",
            "   macro avg       0.92      0.92      0.92      1261\n",
            "weighted avg       0.92      0.92      0.92      1261\n",
            "\n",
            "🧮 Confusion Matrix:\n",
            " [[604  35]\n",
            " [ 64 558]]\n",
            "\n",
            "🔍 Evaluating: K-Nearest Neighbors\n",
            "✅ Accuracy: 0.9214908802537668\n",
            "📊 Classification Report:\n",
            "               precision    recall  f1-score   support\n",
            "\n",
            "           0       0.92      0.92      0.92       639\n",
            "           1       0.92      0.92      0.92       622\n",
            "\n",
            "    accuracy                           0.92      1261\n",
            "   macro avg       0.92      0.92      0.92      1261\n",
            "weighted avg       0.92      0.92      0.92      1261\n",
            "\n",
            "🧮 Confusion Matrix:\n",
            " [[588  51]\n",
            " [ 48 574]]\n",
            "\n",
            "🔍 Evaluating: Naive Bayes\n",
            "✅ Accuracy: 0.796193497224425\n",
            "📊 Classification Report:\n",
            "               precision    recall  f1-score   support\n",
            "\n",
            "           0       0.76      0.88      0.81       639\n",
            "           1       0.85      0.71      0.77       622\n",
            "\n",
            "    accuracy                           0.80      1261\n",
            "   macro avg       0.81      0.80      0.79      1261\n",
            "weighted avg       0.80      0.80      0.79      1261\n",
            "\n",
            "🧮 Confusion Matrix:\n",
            " [[564  75]\n",
            " [182 440]]\n",
            "\n",
            "🔍 Evaluating: Decision Tree\n",
            "✅ Accuracy: 0.8770816812053925\n",
            "📊 Classification Report:\n",
            "               precision    recall  f1-score   support\n",
            "\n",
            "           0       0.87      0.89      0.88       639\n",
            "           1       0.88      0.87      0.87       622\n",
            "\n",
            "    accuracy                           0.88      1261\n",
            "   macro avg       0.88      0.88      0.88      1261\n",
            "weighted avg       0.88      0.88      0.88      1261\n",
            "\n",
            "🧮 Confusion Matrix:\n",
            " [[566  73]\n",
            " [ 82 540]]\n"
          ]
        }
      ]
    },
    {
      "cell_type": "code",
      "source": [],
      "metadata": {
        "id": "91w6-QLn4lKz"
      },
      "execution_count": null,
      "outputs": []
    },
    {
      "cell_type": "markdown",
      "source": [
        "#Convolutional Neural Network Training"
      ],
      "metadata": {
        "id": "8iOz0XhHvFAt"
      }
    },
    {
      "cell_type": "markdown",
      "source": [
        "**📦 1. Import Required Libraries**"
      ],
      "metadata": {
        "id": "wZTAsEYvvuAt"
      }
    },
    {
      "cell_type": "code",
      "source": [
        "import pandas as pd\n",
        "import numpy as np\n",
        "from sklearn.model_selection import train_test_split\n",
        "from sklearn.preprocessing import StandardScaler\n",
        "from sklearn.impute import SimpleImputer\n",
        "from tensorflow.keras.models import Sequential\n",
        "from tensorflow.keras.layers import Conv1D, MaxPooling1D, Flatten, Dense, Dropout, BatchNormalization\n",
        "from tensorflow.keras.utils import to_categorical\n",
        "from sklearn.metrics import classification_report, confusion_matrix\n"
      ],
      "metadata": {
        "id": "V79AuasQvJpK"
      },
      "execution_count": null,
      "outputs": []
    },
    {
      "cell_type": "markdown",
      "source": [
        "**📁 2. Load and Combine Hit + Vibration Datasets**"
      ],
      "metadata": {
        "id": "gInY67vBvy7B"
      }
    },
    {
      "cell_type": "code",
      "source": [
        "# Load the selected features from both CSVs\n",
        "hit_df = pd.read_csv(\"/content/drive/MyDrive/Hammering_Test/s01/Hit_Feature_Result/hit_features_selected.csv\")\n",
        "vib_df = pd.read_csv(\"/content/drive/MyDrive/Hammering_Test/s01/Vibration_Feature_Result/vibration_features_selected.csv\")\n",
        "\n",
        "# Sort both by File to align rows (important)\n",
        "hit_df = hit_df.sort_values(by=\"File\").reset_index(drop=True)\n",
        "vib_df = vib_df.sort_values(by=\"File\").reset_index(drop=True)\n",
        "\n",
        "# Ensure Labels match\n",
        "assert (hit_df[\"Label\"] == vib_df[\"Label\"]).all(), \"Mismatch in labels!\"\n",
        "\n",
        "# Concatenate features\n",
        "combined_features = pd.concat([hit_df.drop(columns=[\"Label\", \"File\"]),\n",
        "                               vib_df.drop(columns=[\"Label\", \"File\"])], axis=1)\n",
        "\n",
        "# Use the same Label and File columns\n",
        "labels = hit_df[\"Label\"]\n",
        "files = hit_df[\"File\"]\n"
      ],
      "metadata": {
        "id": "n9bK4nmovrM9"
      },
      "execution_count": null,
      "outputs": []
    },
    {
      "cell_type": "markdown",
      "source": [
        "**⚙️ 3. Preprocess Data**"
      ],
      "metadata": {
        "id": "BOkN-Ouuv82E"
      }
    },
    {
      "cell_type": "code",
      "source": [
        "# Impute missing values\n",
        "imputer = SimpleImputer(strategy=\"mean\")\n",
        "X_imputed = imputer.fit_transform(combined_features)\n",
        "\n",
        "# Normalize\n",
        "scaler = StandardScaler()\n",
        "X_scaled = scaler.fit_transform(X_imputed)\n",
        "\n",
        "# Reshape for CNN: [samples, features, 1]\n",
        "X_cnn = X_scaled.reshape((X_scaled.shape[0], X_scaled.shape[1], 1))\n",
        "\n",
        "# One-hot encode labels\n",
        "y = to_categorical(labels, num_classes=2)\n",
        "\n",
        "# Train-test split\n",
        "X_train, X_test, y_train, y_test = train_test_split(X_cnn, y, test_size=0.2, random_state=42)\n"
      ],
      "metadata": {
        "id": "7oBM2yb0v719"
      },
      "execution_count": null,
      "outputs": []
    },
    {
      "cell_type": "markdown",
      "source": [
        "**🧠 4. Define and Compile CNN Model**"
      ],
      "metadata": {
        "id": "k_xsT4GUwGTv"
      }
    },
    {
      "cell_type": "code",
      "source": [
        "model = Sequential([\n",
        "    Conv1D(64, kernel_size=3, activation='relu', input_shape=(X_train.shape[1], 1)),\n",
        "    BatchNormalization(),\n",
        "    MaxPooling1D(pool_size=2),\n",
        "\n",
        "    Conv1D(128, kernel_size=3, activation='relu'),\n",
        "    BatchNormalization(),\n",
        "    MaxPooling1D(pool_size=2),\n",
        "\n",
        "    Flatten(),\n",
        "    Dense(64, activation='relu'),\n",
        "    Dropout(0.3),\n",
        "    Dense(2, activation='softmax')  # Binary classification\n",
        "])\n",
        "\n",
        "model.compile(optimizer='adam', loss='categorical_crossentropy', metrics=['accuracy'])\n",
        "model.summary()\n"
      ],
      "metadata": {
        "colab": {
          "base_uri": "https://localhost:8080/",
          "height": 548
        },
        "id": "5B07Dv7jwFSY",
        "outputId": "9f087a22-f497-4a9a-9a8c-b50ed90e8f33"
      },
      "execution_count": null,
      "outputs": [
        {
          "output_type": "stream",
          "name": "stderr",
          "text": [
            "/usr/local/lib/python3.11/dist-packages/keras/src/layers/convolutional/base_conv.py:107: UserWarning: Do not pass an `input_shape`/`input_dim` argument to a layer. When using Sequential models, prefer using an `Input(shape)` object as the first layer in the model instead.\n",
            "  super().__init__(activity_regularizer=activity_regularizer, **kwargs)\n"
          ]
        },
        {
          "output_type": "display_data",
          "data": {
            "text/plain": [
              "\u001b[1mModel: \"sequential\"\u001b[0m\n"
            ],
            "text/html": [
              "<pre style=\"white-space:pre;overflow-x:auto;line-height:normal;font-family:Menlo,'DejaVu Sans Mono',consolas,'Courier New',monospace\"><span style=\"font-weight: bold\">Model: \"sequential\"</span>\n",
              "</pre>\n"
            ]
          },
          "metadata": {}
        },
        {
          "output_type": "display_data",
          "data": {
            "text/plain": [
              "┏━━━━━━━━━━━━━━━━━━━━━━━━━━━━━━━━━┳━━━━━━━━━━━━━━━━━━━━━━━━┳━━━━━━━━━━━━━━━┓\n",
              "┃\u001b[1m \u001b[0m\u001b[1mLayer (type)                   \u001b[0m\u001b[1m \u001b[0m┃\u001b[1m \u001b[0m\u001b[1mOutput Shape          \u001b[0m\u001b[1m \u001b[0m┃\u001b[1m \u001b[0m\u001b[1m      Param #\u001b[0m\u001b[1m \u001b[0m┃\n",
              "┡━━━━━━━━━━━━━━━━━━━━━━━━━━━━━━━━━╇━━━━━━━━━━━━━━━━━━━━━━━━╇━━━━━━━━━━━━━━━┩\n",
              "│ conv1d (\u001b[38;5;33mConv1D\u001b[0m)                 │ (\u001b[38;5;45mNone\u001b[0m, \u001b[38;5;34m46\u001b[0m, \u001b[38;5;34m64\u001b[0m)         │           \u001b[38;5;34m256\u001b[0m │\n",
              "├─────────────────────────────────┼────────────────────────┼───────────────┤\n",
              "│ batch_normalization             │ (\u001b[38;5;45mNone\u001b[0m, \u001b[38;5;34m46\u001b[0m, \u001b[38;5;34m64\u001b[0m)         │           \u001b[38;5;34m256\u001b[0m │\n",
              "│ (\u001b[38;5;33mBatchNormalization\u001b[0m)            │                        │               │\n",
              "├─────────────────────────────────┼────────────────────────┼───────────────┤\n",
              "│ max_pooling1d (\u001b[38;5;33mMaxPooling1D\u001b[0m)    │ (\u001b[38;5;45mNone\u001b[0m, \u001b[38;5;34m23\u001b[0m, \u001b[38;5;34m64\u001b[0m)         │             \u001b[38;5;34m0\u001b[0m │\n",
              "├─────────────────────────────────┼────────────────────────┼───────────────┤\n",
              "│ conv1d_1 (\u001b[38;5;33mConv1D\u001b[0m)               │ (\u001b[38;5;45mNone\u001b[0m, \u001b[38;5;34m21\u001b[0m, \u001b[38;5;34m128\u001b[0m)        │        \u001b[38;5;34m24,704\u001b[0m │\n",
              "├─────────────────────────────────┼────────────────────────┼───────────────┤\n",
              "│ batch_normalization_1           │ (\u001b[38;5;45mNone\u001b[0m, \u001b[38;5;34m21\u001b[0m, \u001b[38;5;34m128\u001b[0m)        │           \u001b[38;5;34m512\u001b[0m │\n",
              "│ (\u001b[38;5;33mBatchNormalization\u001b[0m)            │                        │               │\n",
              "├─────────────────────────────────┼────────────────────────┼───────────────┤\n",
              "│ max_pooling1d_1 (\u001b[38;5;33mMaxPooling1D\u001b[0m)  │ (\u001b[38;5;45mNone\u001b[0m, \u001b[38;5;34m10\u001b[0m, \u001b[38;5;34m128\u001b[0m)        │             \u001b[38;5;34m0\u001b[0m │\n",
              "├─────────────────────────────────┼────────────────────────┼───────────────┤\n",
              "│ flatten (\u001b[38;5;33mFlatten\u001b[0m)               │ (\u001b[38;5;45mNone\u001b[0m, \u001b[38;5;34m1280\u001b[0m)           │             \u001b[38;5;34m0\u001b[0m │\n",
              "├─────────────────────────────────┼────────────────────────┼───────────────┤\n",
              "│ dense (\u001b[38;5;33mDense\u001b[0m)                   │ (\u001b[38;5;45mNone\u001b[0m, \u001b[38;5;34m64\u001b[0m)             │        \u001b[38;5;34m81,984\u001b[0m │\n",
              "├─────────────────────────────────┼────────────────────────┼───────────────┤\n",
              "│ dropout (\u001b[38;5;33mDropout\u001b[0m)               │ (\u001b[38;5;45mNone\u001b[0m, \u001b[38;5;34m64\u001b[0m)             │             \u001b[38;5;34m0\u001b[0m │\n",
              "├─────────────────────────────────┼────────────────────────┼───────────────┤\n",
              "│ dense_1 (\u001b[38;5;33mDense\u001b[0m)                 │ (\u001b[38;5;45mNone\u001b[0m, \u001b[38;5;34m2\u001b[0m)              │           \u001b[38;5;34m130\u001b[0m │\n",
              "└─────────────────────────────────┴────────────────────────┴───────────────┘\n"
            ],
            "text/html": [
              "<pre style=\"white-space:pre;overflow-x:auto;line-height:normal;font-family:Menlo,'DejaVu Sans Mono',consolas,'Courier New',monospace\">┏━━━━━━━━━━━━━━━━━━━━━━━━━━━━━━━━━┳━━━━━━━━━━━━━━━━━━━━━━━━┳━━━━━━━━━━━━━━━┓\n",
              "┃<span style=\"font-weight: bold\"> Layer (type)                    </span>┃<span style=\"font-weight: bold\"> Output Shape           </span>┃<span style=\"font-weight: bold\">       Param # </span>┃\n",
              "┡━━━━━━━━━━━━━━━━━━━━━━━━━━━━━━━━━╇━━━━━━━━━━━━━━━━━━━━━━━━╇━━━━━━━━━━━━━━━┩\n",
              "│ conv1d (<span style=\"color: #0087ff; text-decoration-color: #0087ff\">Conv1D</span>)                 │ (<span style=\"color: #00d7ff; text-decoration-color: #00d7ff\">None</span>, <span style=\"color: #00af00; text-decoration-color: #00af00\">46</span>, <span style=\"color: #00af00; text-decoration-color: #00af00\">64</span>)         │           <span style=\"color: #00af00; text-decoration-color: #00af00\">256</span> │\n",
              "├─────────────────────────────────┼────────────────────────┼───────────────┤\n",
              "│ batch_normalization             │ (<span style=\"color: #00d7ff; text-decoration-color: #00d7ff\">None</span>, <span style=\"color: #00af00; text-decoration-color: #00af00\">46</span>, <span style=\"color: #00af00; text-decoration-color: #00af00\">64</span>)         │           <span style=\"color: #00af00; text-decoration-color: #00af00\">256</span> │\n",
              "│ (<span style=\"color: #0087ff; text-decoration-color: #0087ff\">BatchNormalization</span>)            │                        │               │\n",
              "├─────────────────────────────────┼────────────────────────┼───────────────┤\n",
              "│ max_pooling1d (<span style=\"color: #0087ff; text-decoration-color: #0087ff\">MaxPooling1D</span>)    │ (<span style=\"color: #00d7ff; text-decoration-color: #00d7ff\">None</span>, <span style=\"color: #00af00; text-decoration-color: #00af00\">23</span>, <span style=\"color: #00af00; text-decoration-color: #00af00\">64</span>)         │             <span style=\"color: #00af00; text-decoration-color: #00af00\">0</span> │\n",
              "├─────────────────────────────────┼────────────────────────┼───────────────┤\n",
              "│ conv1d_1 (<span style=\"color: #0087ff; text-decoration-color: #0087ff\">Conv1D</span>)               │ (<span style=\"color: #00d7ff; text-decoration-color: #00d7ff\">None</span>, <span style=\"color: #00af00; text-decoration-color: #00af00\">21</span>, <span style=\"color: #00af00; text-decoration-color: #00af00\">128</span>)        │        <span style=\"color: #00af00; text-decoration-color: #00af00\">24,704</span> │\n",
              "├─────────────────────────────────┼────────────────────────┼───────────────┤\n",
              "│ batch_normalization_1           │ (<span style=\"color: #00d7ff; text-decoration-color: #00d7ff\">None</span>, <span style=\"color: #00af00; text-decoration-color: #00af00\">21</span>, <span style=\"color: #00af00; text-decoration-color: #00af00\">128</span>)        │           <span style=\"color: #00af00; text-decoration-color: #00af00\">512</span> │\n",
              "│ (<span style=\"color: #0087ff; text-decoration-color: #0087ff\">BatchNormalization</span>)            │                        │               │\n",
              "├─────────────────────────────────┼────────────────────────┼───────────────┤\n",
              "│ max_pooling1d_1 (<span style=\"color: #0087ff; text-decoration-color: #0087ff\">MaxPooling1D</span>)  │ (<span style=\"color: #00d7ff; text-decoration-color: #00d7ff\">None</span>, <span style=\"color: #00af00; text-decoration-color: #00af00\">10</span>, <span style=\"color: #00af00; text-decoration-color: #00af00\">128</span>)        │             <span style=\"color: #00af00; text-decoration-color: #00af00\">0</span> │\n",
              "├─────────────────────────────────┼────────────────────────┼───────────────┤\n",
              "│ flatten (<span style=\"color: #0087ff; text-decoration-color: #0087ff\">Flatten</span>)               │ (<span style=\"color: #00d7ff; text-decoration-color: #00d7ff\">None</span>, <span style=\"color: #00af00; text-decoration-color: #00af00\">1280</span>)           │             <span style=\"color: #00af00; text-decoration-color: #00af00\">0</span> │\n",
              "├─────────────────────────────────┼────────────────────────┼───────────────┤\n",
              "│ dense (<span style=\"color: #0087ff; text-decoration-color: #0087ff\">Dense</span>)                   │ (<span style=\"color: #00d7ff; text-decoration-color: #00d7ff\">None</span>, <span style=\"color: #00af00; text-decoration-color: #00af00\">64</span>)             │        <span style=\"color: #00af00; text-decoration-color: #00af00\">81,984</span> │\n",
              "├─────────────────────────────────┼────────────────────────┼───────────────┤\n",
              "│ dropout (<span style=\"color: #0087ff; text-decoration-color: #0087ff\">Dropout</span>)               │ (<span style=\"color: #00d7ff; text-decoration-color: #00d7ff\">None</span>, <span style=\"color: #00af00; text-decoration-color: #00af00\">64</span>)             │             <span style=\"color: #00af00; text-decoration-color: #00af00\">0</span> │\n",
              "├─────────────────────────────────┼────────────────────────┼───────────────┤\n",
              "│ dense_1 (<span style=\"color: #0087ff; text-decoration-color: #0087ff\">Dense</span>)                 │ (<span style=\"color: #00d7ff; text-decoration-color: #00d7ff\">None</span>, <span style=\"color: #00af00; text-decoration-color: #00af00\">2</span>)              │           <span style=\"color: #00af00; text-decoration-color: #00af00\">130</span> │\n",
              "└─────────────────────────────────┴────────────────────────┴───────────────┘\n",
              "</pre>\n"
            ]
          },
          "metadata": {}
        },
        {
          "output_type": "display_data",
          "data": {
            "text/plain": [
              "\u001b[1m Total params: \u001b[0m\u001b[38;5;34m107,842\u001b[0m (421.26 KB)\n"
            ],
            "text/html": [
              "<pre style=\"white-space:pre;overflow-x:auto;line-height:normal;font-family:Menlo,'DejaVu Sans Mono',consolas,'Courier New',monospace\"><span style=\"font-weight: bold\"> Total params: </span><span style=\"color: #00af00; text-decoration-color: #00af00\">107,842</span> (421.26 KB)\n",
              "</pre>\n"
            ]
          },
          "metadata": {}
        },
        {
          "output_type": "display_data",
          "data": {
            "text/plain": [
              "\u001b[1m Trainable params: \u001b[0m\u001b[38;5;34m107,458\u001b[0m (419.76 KB)\n"
            ],
            "text/html": [
              "<pre style=\"white-space:pre;overflow-x:auto;line-height:normal;font-family:Menlo,'DejaVu Sans Mono',consolas,'Courier New',monospace\"><span style=\"font-weight: bold\"> Trainable params: </span><span style=\"color: #00af00; text-decoration-color: #00af00\">107,458</span> (419.76 KB)\n",
              "</pre>\n"
            ]
          },
          "metadata": {}
        },
        {
          "output_type": "display_data",
          "data": {
            "text/plain": [
              "\u001b[1m Non-trainable params: \u001b[0m\u001b[38;5;34m384\u001b[0m (1.50 KB)\n"
            ],
            "text/html": [
              "<pre style=\"white-space:pre;overflow-x:auto;line-height:normal;font-family:Menlo,'DejaVu Sans Mono',consolas,'Courier New',monospace\"><span style=\"font-weight: bold\"> Non-trainable params: </span><span style=\"color: #00af00; text-decoration-color: #00af00\">384</span> (1.50 KB)\n",
              "</pre>\n"
            ]
          },
          "metadata": {}
        }
      ]
    },
    {
      "cell_type": "markdown",
      "source": [
        "**🚀 5. Train the Model**"
      ],
      "metadata": {
        "id": "vFhyGM6PwODk"
      }
    },
    {
      "cell_type": "code",
      "source": [
        "from tensorflow.keras.callbacks import EarlyStopping\n",
        "\n",
        "early_stop = EarlyStopping(\n",
        "    monitor='val_loss',\n",
        "    patience=5,\n",
        "    restore_best_weights=True,\n",
        "    verbose=1\n",
        ")"
      ],
      "metadata": {
        "id": "EqK4QZ8hyVY6"
      },
      "execution_count": null,
      "outputs": []
    },
    {
      "cell_type": "code",
      "source": [
        "history = model.fit(X_train, y_train, epochs=30, batch_size=16, validation_split=0.2)\n"
      ],
      "metadata": {
        "colab": {
          "base_uri": "https://localhost:8080/"
        },
        "id": "1oEjDg6RwNeo",
        "outputId": "773154d7-ff38-4cdc-b11d-cd93f3164705"
      },
      "execution_count": null,
      "outputs": [
        {
          "output_type": "stream",
          "name": "stdout",
          "text": [
            "Epoch 1/30\n",
            "\u001b[1m252/252\u001b[0m \u001b[32m━━━━━━━━━━━━━━━━━━━━\u001b[0m\u001b[37m\u001b[0m \u001b[1m3s\u001b[0m 5ms/step - accuracy: 0.8812 - loss: 0.3702 - val_accuracy: 0.9355 - val_loss: 0.1459\n",
            "Epoch 2/30\n",
            "\u001b[1m252/252\u001b[0m \u001b[32m━━━━━━━━━━━━━━━━━━━━\u001b[0m\u001b[37m\u001b[0m \u001b[1m1s\u001b[0m 5ms/step - accuracy: 0.9487 - loss: 0.1191 - val_accuracy: 0.9603 - val_loss: 0.0895\n",
            "Epoch 3/30\n",
            "\u001b[1m252/252\u001b[0m \u001b[32m━━━━━━━━━━━━━━━━━━━━\u001b[0m\u001b[37m\u001b[0m \u001b[1m1s\u001b[0m 5ms/step - accuracy: 0.9566 - loss: 0.1068 - val_accuracy: 0.9643 - val_loss: 0.0875\n",
            "Epoch 4/30\n",
            "\u001b[1m252/252\u001b[0m \u001b[32m━━━━━━━━━━━━━━━━━━━━\u001b[0m\u001b[37m\u001b[0m \u001b[1m2s\u001b[0m 6ms/step - accuracy: 0.9654 - loss: 0.0799 - val_accuracy: 0.9633 - val_loss: 0.1017\n",
            "Epoch 5/30\n",
            "\u001b[1m252/252\u001b[0m \u001b[32m━━━━━━━━━━━━━━━━━━━━\u001b[0m\u001b[37m\u001b[0m \u001b[1m2s\u001b[0m 5ms/step - accuracy: 0.9634 - loss: 0.0899 - val_accuracy: 0.9603 - val_loss: 0.0889\n",
            "Epoch 6/30\n",
            "\u001b[1m252/252\u001b[0m \u001b[32m━━━━━━━━━━━━━━━━━━━━\u001b[0m\u001b[37m\u001b[0m \u001b[1m1s\u001b[0m 5ms/step - accuracy: 0.9650 - loss: 0.0688 - val_accuracy: 0.9702 - val_loss: 0.0779\n",
            "Epoch 7/30\n",
            "\u001b[1m252/252\u001b[0m \u001b[32m━━━━━━━━━━━━━━━━━━━━\u001b[0m\u001b[37m\u001b[0m \u001b[1m2s\u001b[0m 8ms/step - accuracy: 0.9697 - loss: 0.0652 - val_accuracy: 0.9633 - val_loss: 0.0938\n",
            "Epoch 8/30\n",
            "\u001b[1m252/252\u001b[0m \u001b[32m━━━━━━━━━━━━━━━━━━━━\u001b[0m\u001b[37m\u001b[0m \u001b[1m2s\u001b[0m 6ms/step - accuracy: 0.9735 - loss: 0.0563 - val_accuracy: 0.9692 - val_loss: 0.0823\n",
            "Epoch 9/30\n",
            "\u001b[1m252/252\u001b[0m \u001b[32m━━━━━━━━━━━━━━━━━━━━\u001b[0m\u001b[37m\u001b[0m \u001b[1m2s\u001b[0m 5ms/step - accuracy: 0.9810 - loss: 0.0403 - val_accuracy: 0.9613 - val_loss: 0.0919\n",
            "Epoch 10/30\n",
            "\u001b[1m252/252\u001b[0m \u001b[32m━━━━━━━━━━━━━━━━━━━━\u001b[0m\u001b[37m\u001b[0m \u001b[1m1s\u001b[0m 5ms/step - accuracy: 0.9766 - loss: 0.0559 - val_accuracy: 0.9673 - val_loss: 0.1072\n",
            "Epoch 11/30\n",
            "\u001b[1m252/252\u001b[0m \u001b[32m━━━━━━━━━━━━━━━━━━━━\u001b[0m\u001b[37m\u001b[0m \u001b[1m2s\u001b[0m 7ms/step - accuracy: 0.9767 - loss: 0.0491 - val_accuracy: 0.9742 - val_loss: 0.0695\n",
            "Epoch 12/30\n",
            "\u001b[1m252/252\u001b[0m \u001b[32m━━━━━━━━━━━━━━━━━━━━\u001b[0m\u001b[37m\u001b[0m \u001b[1m2s\u001b[0m 5ms/step - accuracy: 0.9869 - loss: 0.0386 - val_accuracy: 0.9692 - val_loss: 0.0851\n",
            "Epoch 13/30\n",
            "\u001b[1m252/252\u001b[0m \u001b[32m━━━━━━━━━━━━━━━━━━━━\u001b[0m\u001b[37m\u001b[0m \u001b[1m1s\u001b[0m 5ms/step - accuracy: 0.9861 - loss: 0.0336 - val_accuracy: 0.9732 - val_loss: 0.0758\n",
            "Epoch 14/30\n",
            "\u001b[1m252/252\u001b[0m \u001b[32m━━━━━━━━━━━━━━━━━━━━\u001b[0m\u001b[37m\u001b[0m \u001b[1m1s\u001b[0m 5ms/step - accuracy: 0.9820 - loss: 0.0404 - val_accuracy: 0.9653 - val_loss: 0.0917\n",
            "Epoch 15/30\n",
            "\u001b[1m252/252\u001b[0m \u001b[32m━━━━━━━━━━━━━━━━━━━━\u001b[0m\u001b[37m\u001b[0m \u001b[1m1s\u001b[0m 5ms/step - accuracy: 0.9801 - loss: 0.0476 - val_accuracy: 0.9772 - val_loss: 0.0901\n",
            "Epoch 16/30\n",
            "\u001b[1m252/252\u001b[0m \u001b[32m━━━━━━━━━━━━━━━━━━━━\u001b[0m\u001b[37m\u001b[0m \u001b[1m2s\u001b[0m 4ms/step - accuracy: 0.9839 - loss: 0.0437 - val_accuracy: 0.9772 - val_loss: 0.0919\n",
            "Epoch 17/30\n",
            "\u001b[1m252/252\u001b[0m \u001b[32m━━━━━━━━━━━━━━━━━━━━\u001b[0m\u001b[37m\u001b[0m \u001b[1m1s\u001b[0m 5ms/step - accuracy: 0.9863 - loss: 0.0349 - val_accuracy: 0.9593 - val_loss: 0.1092\n",
            "Epoch 18/30\n",
            "\u001b[1m252/252\u001b[0m \u001b[32m━━━━━━━━━━━━━━━━━━━━\u001b[0m\u001b[37m\u001b[0m \u001b[1m2s\u001b[0m 6ms/step - accuracy: 0.9868 - loss: 0.0277 - val_accuracy: 0.9702 - val_loss: 0.0922\n",
            "Epoch 19/30\n",
            "\u001b[1m252/252\u001b[0m \u001b[32m━━━━━━━━━━━━━━━━━━━━\u001b[0m\u001b[37m\u001b[0m \u001b[1m2s\u001b[0m 5ms/step - accuracy: 0.9890 - loss: 0.0243 - val_accuracy: 0.9692 - val_loss: 0.1039\n",
            "Epoch 20/30\n",
            "\u001b[1m252/252\u001b[0m \u001b[32m━━━━━━━━━━━━━━━━━━━━\u001b[0m\u001b[37m\u001b[0m \u001b[1m1s\u001b[0m 4ms/step - accuracy: 0.9886 - loss: 0.0330 - val_accuracy: 0.9623 - val_loss: 0.1399\n",
            "Epoch 21/30\n",
            "\u001b[1m252/252\u001b[0m \u001b[32m━━━━━━━━━━━━━━━━━━━━\u001b[0m\u001b[37m\u001b[0m \u001b[1m1s\u001b[0m 4ms/step - accuracy: 0.9776 - loss: 0.0656 - val_accuracy: 0.9732 - val_loss: 0.1110\n",
            "Epoch 22/30\n",
            "\u001b[1m252/252\u001b[0m \u001b[32m━━━━━━━━━━━━━━━━━━━━\u001b[0m\u001b[37m\u001b[0m \u001b[1m2s\u001b[0m 6ms/step - accuracy: 0.9891 - loss: 0.0304 - val_accuracy: 0.9722 - val_loss: 0.1115\n",
            "Epoch 23/30\n",
            "\u001b[1m252/252\u001b[0m \u001b[32m━━━━━━━━━━━━━━━━━━━━\u001b[0m\u001b[37m\u001b[0m \u001b[1m1s\u001b[0m 5ms/step - accuracy: 0.9898 - loss: 0.0217 - val_accuracy: 0.9772 - val_loss: 0.1241\n",
            "Epoch 24/30\n",
            "\u001b[1m252/252\u001b[0m \u001b[32m━━━━━━━━━━━━━━━━━━━━\u001b[0m\u001b[37m\u001b[0m \u001b[1m1s\u001b[0m 4ms/step - accuracy: 0.9910 - loss: 0.0252 - val_accuracy: 0.9633 - val_loss: 0.1231\n",
            "Epoch 25/30\n",
            "\u001b[1m252/252\u001b[0m \u001b[32m━━━━━━━━━━━━━━━━━━━━\u001b[0m\u001b[37m\u001b[0m \u001b[1m1s\u001b[0m 5ms/step - accuracy: 0.9952 - loss: 0.0154 - val_accuracy: 0.9643 - val_loss: 0.1229\n",
            "Epoch 26/30\n",
            "\u001b[1m252/252\u001b[0m \u001b[32m━━━━━━━━━━━━━━━━━━━━\u001b[0m\u001b[37m\u001b[0m \u001b[1m3s\u001b[0m 7ms/step - accuracy: 0.9911 - loss: 0.0196 - val_accuracy: 0.9732 - val_loss: 0.1199\n",
            "Epoch 27/30\n",
            "\u001b[1m252/252\u001b[0m \u001b[32m━━━━━━━━━━━━━━━━━━━━\u001b[0m\u001b[37m\u001b[0m \u001b[1m2s\u001b[0m 5ms/step - accuracy: 0.9915 - loss: 0.0172 - val_accuracy: 0.9772 - val_loss: 0.1164\n",
            "Epoch 28/30\n",
            "\u001b[1m252/252\u001b[0m \u001b[32m━━━━━━━━━━━━━━━━━━━━\u001b[0m\u001b[37m\u001b[0m \u001b[1m1s\u001b[0m 5ms/step - accuracy: 0.9919 - loss: 0.0203 - val_accuracy: 0.9663 - val_loss: 0.1417\n",
            "Epoch 29/30\n",
            "\u001b[1m252/252\u001b[0m \u001b[32m━━━━━━━━━━━━━━━━━━━━\u001b[0m\u001b[37m\u001b[0m \u001b[1m1s\u001b[0m 5ms/step - accuracy: 0.9860 - loss: 0.0606 - val_accuracy: 0.9742 - val_loss: 0.1355\n",
            "Epoch 30/30\n",
            "\u001b[1m252/252\u001b[0m \u001b[32m━━━━━━━━━━━━━━━━━━━━\u001b[0m\u001b[37m\u001b[0m \u001b[1m1s\u001b[0m 5ms/step - accuracy: 0.9928 - loss: 0.0242 - val_accuracy: 0.9683 - val_loss: 0.1557\n"
          ]
        }
      ]
    },
    {
      "cell_type": "markdown",
      "source": [
        "**📊 6. Evaluate the Model**"
      ],
      "metadata": {
        "id": "iI-_supuwVHn"
      }
    },
    {
      "cell_type": "code",
      "source": [
        "# Predict\n",
        "y_pred = model.predict(X_test)\n",
        "y_pred_classes = np.argmax(y_pred, axis=1)\n",
        "y_true = np.argmax(y_test, axis=1)\n",
        "\n",
        "# Metrics\n",
        "print(\"📊 Classification Report:\\n\", classification_report(y_true, y_pred_classes))\n",
        "print(\"🧮 Confusion Matrix:\\n\", confusion_matrix(y_true, y_pred_classes))"
      ],
      "metadata": {
        "colab": {
          "base_uri": "https://localhost:8080/"
        },
        "id": "p8SWRzYmwTlf",
        "outputId": "2e69ce10-3b16-4f6a-d093-3449236cbd8c"
      },
      "execution_count": null,
      "outputs": [
        {
          "output_type": "stream",
          "name": "stdout",
          "text": [
            "\u001b[1m40/40\u001b[0m \u001b[32m━━━━━━━━━━━━━━━━━━━━\u001b[0m\u001b[37m\u001b[0m \u001b[1m0s\u001b[0m 4ms/step\n",
            "📊 Classification Report:\n",
            "               precision    recall  f1-score   support\n",
            "\n",
            "           0       0.99      0.94      0.96       629\n",
            "           1       0.94      0.99      0.96       632\n",
            "\n",
            "    accuracy                           0.96      1261\n",
            "   macro avg       0.96      0.96      0.96      1261\n",
            "weighted avg       0.96      0.96      0.96      1261\n",
            "\n",
            "🧮 Confusion Matrix:\n",
            " [[590  39]\n",
            " [  8 624]]\n"
          ]
        }
      ]
    },
    {
      "cell_type": "code",
      "source": [
        "import matplotlib.pyplot as plt\n",
        "\n",
        "def plot_training_curves(history):\n",
        "    plt.figure(figsize=(12, 5))\n",
        "\n",
        "    # Accuracy\n",
        "    plt.subplot(1, 2, 1)\n",
        "    plt.plot(history.history['accuracy'], label='Train Accuracy', marker='o')\n",
        "    plt.plot(history.history['val_accuracy'], label='Val Accuracy', marker='o')\n",
        "    plt.title('Accuracy over Epochs')\n",
        "    plt.xlabel('Epoch')\n",
        "    plt.ylabel('Accuracy')\n",
        "    plt.legend()\n",
        "    plt.grid(True)\n",
        "\n",
        "    # Loss\n",
        "    plt.subplot(1, 2, 2)\n",
        "    plt.plot(history.history['loss'], label='Train Loss', marker='o')\n",
        "    plt.plot(history.history['val_loss'], label='Val Loss', marker='o')\n",
        "    plt.title('Loss over Epochs')\n",
        "    plt.xlabel('Epoch')\n",
        "    plt.ylabel('Loss')\n",
        "    plt.legend()\n",
        "    plt.grid(True)\n",
        "\n",
        "    plt.tight_layout()\n",
        "    plt.show()\n",
        "\n",
        "# Call after training\n",
        "plot_training_curves(history)\n",
        "\n"
      ],
      "metadata": {
        "colab": {
          "base_uri": "https://localhost:8080/",
          "height": 326
        },
        "id": "g0OUv0-rxERw",
        "outputId": "f64bc3c6-5e3d-4a8d-96e8-6236eb8d3465"
      },
      "execution_count": null,
      "outputs": [
        {
          "output_type": "display_data",
          "data": {
            "text/plain": [
              "<Figure size 1200x500 with 2 Axes>"
            ],
            "image/png": "[encoded data removed]"
          },
          "metadata": {}
        }
      ]
    },
    {
      "cell_type": "markdown",
      "source": [
        "# Second Run Test for the model improvization"
      ],
      "metadata": {
        "id": "4oGEOaIYyyQK"
      }
    },
    {
      "cell_type": "markdown",
      "source": [
        "**📦 1. Imports**"
      ],
      "metadata": {
        "id": "m9c63nmGy57R"
      }
    },
    {
      "cell_type": "code",
      "source": [
        "import pandas as pd\n",
        "import numpy as np\n",
        "from sklearn.model_selection import train_test_split\n",
        "from sklearn.preprocessing import StandardScaler\n",
        "from sklearn.impute import SimpleImputer\n",
        "from sklearn.metrics import classification_report, confusion_matrix\n",
        "import matplotlib.pyplot as plt\n",
        "import seaborn as sns\n",
        "\n",
        "from tensorflow.keras.models import Sequential, load_model\n",
        "from tensorflow.keras.layers import Conv1D, MaxPooling1D, Flatten, Dense, Dropout, BatchNormalization, Input\n",
        "from tensorflow.keras.utils import to_categorical\n",
        "from tensorflow.keras.callbacks import EarlyStopping, ReduceLROnPlateau\n",
        "from tensorflow.keras.optimizers import Adam\n"
      ],
      "metadata": {
        "id": "rh7GQle7y3oV"
      },
      "execution_count": null,
      "outputs": []
    },
    {
      "cell_type": "markdown",
      "source": [
        "**📁 2. Load and Combine Features**"
      ],
      "metadata": {
        "id": "w1XVQqlDzAKP"
      }
    },
    {
      "cell_type": "code",
      "source": [
        "# Load CSVs\n",
        "hit_df = pd.read_csv(\"/content/drive/MyDrive/Hammering_Test/s01/Hit_Feature_Result/hit_features_selected.csv\")\n",
        "vib_df = pd.read_csv(\"/content/drive/MyDrive/Hammering_Test/s01/Vibration_Feature_Result/vibration_features_selected.csv\")\n",
        "\n",
        "# Align by filename\n",
        "hit_df = hit_df.sort_values(by=\"File\").reset_index(drop=True)\n",
        "vib_df = vib_df.sort_values(by=\"File\").reset_index(drop=True)\n",
        "\n",
        "assert (hit_df[\"Label\"] == vib_df[\"Label\"]).all(), \"Mismatch in labels!\"\n",
        "\n",
        "# Concatenate features\n",
        "combined_features = pd.concat([\n",
        "    hit_df.drop(columns=[\"Label\", \"File\"]),\n",
        "    vib_df.drop(columns=[\"Label\", \"File\"])\n",
        "], axis=1)\n",
        "\n",
        "labels = hit_df[\"Label\"]\n"
      ],
      "metadata": {
        "id": "jNa34_gBzBL0"
      },
      "execution_count": null,
      "outputs": []
    },
    {
      "cell_type": "markdown",
      "source": [
        "**⚙️ 3. Preprocessing**"
      ],
      "metadata": {
        "id": "t9vkDQfgzF7J"
      }
    },
    {
      "cell_type": "code",
      "source": [
        "# Handle NaNs\n",
        "imputer = SimpleImputer(strategy=\"mean\")\n",
        "X_imputed = imputer.fit_transform(combined_features)\n",
        "\n",
        "# Scale\n",
        "scaler = StandardScaler()\n",
        "X_scaled = scaler.fit_transform(X_imputed)\n",
        "\n",
        "# Reshape for CNN\n",
        "X_cnn = X_scaled.reshape((X_scaled.shape[0], X_scaled.shape[1], 1))\n",
        "\n",
        "# One-hot encode labels\n",
        "y = to_categorical(labels, num_classes=2)\n",
        "\n",
        "# Train-test split\n",
        "X_train, X_test, y_train, y_test = train_test_split(X_cnn, y, test_size=0.2, random_state=42, stratify=labels)\n"
      ],
      "metadata": {
        "id": "Y6nKenDwzJK-"
      },
      "execution_count": null,
      "outputs": []
    },
    {
      "cell_type": "markdown",
      "source": [
        "**🧠 4. CNN Model (Improved)**"
      ],
      "metadata": {
        "id": "zh4scPVtzOPA"
      }
    },
    {
      "cell_type": "code",
      "source": [
        "model = Sequential([\n",
        "    Input(shape=(X_train.shape[1], 1)),\n",
        "    Conv1D(64, 3, activation='relu'),\n",
        "    BatchNormalization(),\n",
        "    MaxPooling1D(2),\n",
        "    Dropout(0.3),\n",
        "\n",
        "    Conv1D(128, 3, activation='relu'),\n",
        "    BatchNormalization(),\n",
        "    MaxPooling1D(2),\n",
        "    Dropout(0.3),\n",
        "\n",
        "    Flatten(),\n",
        "    Dense(64, activation='relu'),\n",
        "    BatchNormalization(),\n",
        "    Dropout(0.5),\n",
        "    Dense(2, activation='softmax')\n",
        "])\n",
        "\n",
        "model.compile(optimizer=Adam(learning_rate=1e-4), loss='categorical_crossentropy', metrics=['accuracy'])\n",
        "model.summary()\n"
      ],
      "metadata": {
        "colab": {
          "base_uri": "https://localhost:8080/",
          "height": 606
        },
        "id": "T9NLisjgzN6Y",
        "outputId": "dcba013a-183a-4327-b2c1-9446080ed201"
      },
      "execution_count": null,
      "outputs": [
        {
          "output_type": "display_data",
          "data": {
            "text/plain": [
              "\u001b[1mModel: \"sequential_1\"\u001b[0m\n"
            ],
            "text/html": [
              "<pre style=\"white-space:pre;overflow-x:auto;line-height:normal;font-family:Menlo,'DejaVu Sans Mono',consolas,'Courier New',monospace\"><span style=\"font-weight: bold\">Model: \"sequential_1\"</span>\n",
              "</pre>\n"
            ]
          },
          "metadata": {}
        },
        {
          "output_type": "display_data",
          "data": {
            "text/plain": [
              "┏━━━━━━━━━━━━━━━━━━━━━━━━━━━━━━━━━┳━━━━━━━━━━━━━━━━━━━━━━━━┳━━━━━━━━━━━━━━━┓\n",
              "┃\u001b[1m \u001b[0m\u001b[1mLayer (type)                   \u001b[0m\u001b[1m \u001b[0m┃\u001b[1m \u001b[0m\u001b[1mOutput Shape          \u001b[0m\u001b[1m \u001b[0m┃\u001b[1m \u001b[0m\u001b[1m      Param #\u001b[0m\u001b[1m \u001b[0m┃\n",
              "┡━━━━━━━━━━━━━━━━━━━━━━━━━━━━━━━━━╇━━━━━━━━━━━━━━━━━━━━━━━━╇━━━━━━━━━━━━━━━┩\n",
              "│ conv1d_2 (\u001b[38;5;33mConv1D\u001b[0m)               │ (\u001b[38;5;45mNone\u001b[0m, \u001b[38;5;34m46\u001b[0m, \u001b[38;5;34m64\u001b[0m)         │           \u001b[38;5;34m256\u001b[0m │\n",
              "├─────────────────────────────────┼────────────────────────┼───────────────┤\n",
              "│ batch_normalization_2           │ (\u001b[38;5;45mNone\u001b[0m, \u001b[38;5;34m46\u001b[0m, \u001b[38;5;34m64\u001b[0m)         │           \u001b[38;5;34m256\u001b[0m │\n",
              "│ (\u001b[38;5;33mBatchNormalization\u001b[0m)            │                        │               │\n",
              "├─────────────────────────────────┼────────────────────────┼───────────────┤\n",
              "│ max_pooling1d_2 (\u001b[38;5;33mMaxPooling1D\u001b[0m)  │ (\u001b[38;5;45mNone\u001b[0m, \u001b[38;5;34m23\u001b[0m, \u001b[38;5;34m64\u001b[0m)         │             \u001b[38;5;34m0\u001b[0m │\n",
              "├─────────────────────────────────┼────────────────────────┼───────────────┤\n",
              "│ dropout_1 (\u001b[38;5;33mDropout\u001b[0m)             │ (\u001b[38;5;45mNone\u001b[0m, \u001b[38;5;34m23\u001b[0m, \u001b[38;5;34m64\u001b[0m)         │             \u001b[38;5;34m0\u001b[0m │\n",
              "├─────────────────────────────────┼────────────────────────┼───────────────┤\n",
              "│ conv1d_3 (\u001b[38;5;33mConv1D\u001b[0m)               │ (\u001b[38;5;45mNone\u001b[0m, \u001b[38;5;34m21\u001b[0m, \u001b[38;5;34m128\u001b[0m)        │        \u001b[38;5;34m24,704\u001b[0m │\n",
              "├─────────────────────────────────┼────────────────────────┼───────────────┤\n",
              "│ batch_normalization_3           │ (\u001b[38;5;45mNone\u001b[0m, \u001b[38;5;34m21\u001b[0m, \u001b[38;5;34m128\u001b[0m)        │           \u001b[38;5;34m512\u001b[0m │\n",
              "│ (\u001b[38;5;33mBatchNormalization\u001b[0m)            │                        │               │\n",
              "├─────────────────────────────────┼────────────────────────┼───────────────┤\n",
              "│ max_pooling1d_3 (\u001b[38;5;33mMaxPooling1D\u001b[0m)  │ (\u001b[38;5;45mNone\u001b[0m, \u001b[38;5;34m10\u001b[0m, \u001b[38;5;34m128\u001b[0m)        │             \u001b[38;5;34m0\u001b[0m │\n",
              "├─────────────────────────────────┼────────────────────────┼───────────────┤\n",
              "│ dropout_2 (\u001b[38;5;33mDropout\u001b[0m)             │ (\u001b[38;5;45mNone\u001b[0m, \u001b[38;5;34m10\u001b[0m, \u001b[38;5;34m128\u001b[0m)        │             \u001b[38;5;34m0\u001b[0m │\n",
              "├─────────────────────────────────┼────────────────────────┼───────────────┤\n",
              "│ flatten_1 (\u001b[38;5;33mFlatten\u001b[0m)             │ (\u001b[38;5;45mNone\u001b[0m, \u001b[38;5;34m1280\u001b[0m)           │             \u001b[38;5;34m0\u001b[0m │\n",
              "├─────────────────────────────────┼────────────────────────┼───────────────┤\n",
              "│ dense_2 (\u001b[38;5;33mDense\u001b[0m)                 │ (\u001b[38;5;45mNone\u001b[0m, \u001b[38;5;34m64\u001b[0m)             │        \u001b[38;5;34m81,984\u001b[0m │\n",
              "├─────────────────────────────────┼────────────────────────┼───────────────┤\n",
              "│ batch_normalization_4           │ (\u001b[38;5;45mNone\u001b[0m, \u001b[38;5;34m64\u001b[0m)             │           \u001b[38;5;34m256\u001b[0m │\n",
              "│ (\u001b[38;5;33mBatchNormalization\u001b[0m)            │                        │               │\n",
              "├─────────────────────────────────┼────────────────────────┼───────────────┤\n",
              "│ dropout_3 (\u001b[38;5;33mDropout\u001b[0m)             │ (\u001b[38;5;45mNone\u001b[0m, \u001b[38;5;34m64\u001b[0m)             │             \u001b[38;5;34m0\u001b[0m │\n",
              "├─────────────────────────────────┼────────────────────────┼───────────────┤\n",
              "│ dense_3 (\u001b[38;5;33mDense\u001b[0m)                 │ (\u001b[38;5;45mNone\u001b[0m, \u001b[38;5;34m2\u001b[0m)              │           \u001b[38;5;34m130\u001b[0m │\n",
              "└─────────────────────────────────┴────────────────────────┴───────────────┘\n"
            ],
            "text/html": [
              "<pre style=\"white-space:pre;overflow-x:auto;line-height:normal;font-family:Menlo,'DejaVu Sans Mono',consolas,'Courier New',monospace\">┏━━━━━━━━━━━━━━━━━━━━━━━━━━━━━━━━━┳━━━━━━━━━━━━━━━━━━━━━━━━┳━━━━━━━━━━━━━━━┓\n",
              "┃<span style=\"font-weight: bold\"> Layer (type)                    </span>┃<span style=\"font-weight: bold\"> Output Shape           </span>┃<span style=\"font-weight: bold\">       Param # </span>┃\n",
              "┡━━━━━━━━━━━━━━━━━━━━━━━━━━━━━━━━━╇━━━━━━━━━━━━━━━━━━━━━━━━╇━━━━━━━━━━━━━━━┩\n",
              "│ conv1d_2 (<span style=\"color: #0087ff; text-decoration-color: #0087ff\">Conv1D</span>)               │ (<span style=\"color: #00d7ff; text-decoration-color: #00d7ff\">None</span>, <span style=\"color: #00af00; text-decoration-color: #00af00\">46</span>, <span style=\"color: #00af00; text-decoration-color: #00af00\">64</span>)         │           <span style=\"color: #00af00; text-decoration-color: #00af00\">256</span> │\n",
              "├─────────────────────────────────┼────────────────────────┼───────────────┤\n",
              "│ batch_normalization_2           │ (<span style=\"color: #00d7ff; text-decoration-color: #00d7ff\">None</span>, <span style=\"color: #00af00; text-decoration-color: #00af00\">46</span>, <span style=\"color: #00af00; text-decoration-color: #00af00\">64</span>)         │           <span style=\"color: #00af00; text-decoration-color: #00af00\">256</span> │\n",
              "│ (<span style=\"color: #0087ff; text-decoration-color: #0087ff\">BatchNormalization</span>)            │                        │               │\n",
              "├─────────────────────────────────┼────────────────────────┼───────────────┤\n",
              "│ max_pooling1d_2 (<span style=\"color: #0087ff; text-decoration-color: #0087ff\">MaxPooling1D</span>)  │ (<span style=\"color: #00d7ff; text-decoration-color: #00d7ff\">None</span>, <span style=\"color: #00af00; text-decoration-color: #00af00\">23</span>, <span style=\"color: #00af00; text-decoration-color: #00af00\">64</span>)         │             <span style=\"color: #00af00; text-decoration-color: #00af00\">0</span> │\n",
              "├─────────────────────────────────┼────────────────────────┼───────────────┤\n",
              "│ dropout_1 (<span style=\"color: #0087ff; text-decoration-color: #0087ff\">Dropout</span>)             │ (<span style=\"color: #00d7ff; text-decoration-color: #00d7ff\">None</span>, <span style=\"color: #00af00; text-decoration-color: #00af00\">23</span>, <span style=\"color: #00af00; text-decoration-color: #00af00\">64</span>)         │             <span style=\"color: #00af00; text-decoration-color: #00af00\">0</span> │\n",
              "├─────────────────────────────────┼────────────────────────┼───────────────┤\n",
              "│ conv1d_3 (<span style=\"color: #0087ff; text-decoration-color: #0087ff\">Conv1D</span>)               │ (<span style=\"color: #00d7ff; text-decoration-color: #00d7ff\">None</span>, <span style=\"color: #00af00; text-decoration-color: #00af00\">21</span>, <span style=\"color: #00af00; text-decoration-color: #00af00\">128</span>)        │        <span style=\"color: #00af00; text-decoration-color: #00af00\">24,704</span> │\n",
              "├─────────────────────────────────┼────────────────────────┼───────────────┤\n",
              "│ batch_normalization_3           │ (<span style=\"color: #00d7ff; text-decoration-color: #00d7ff\">None</span>, <span style=\"color: #00af00; text-decoration-color: #00af00\">21</span>, <span style=\"color: #00af00; text-decoration-color: #00af00\">128</span>)        │           <span style=\"color: #00af00; text-decoration-color: #00af00\">512</span> │\n",
              "│ (<span style=\"color: #0087ff; text-decoration-color: #0087ff\">BatchNormalization</span>)            │                        │               │\n",
              "├─────────────────────────────────┼────────────────────────┼───────────────┤\n",
              "│ max_pooling1d_3 (<span style=\"color: #0087ff; text-decoration-color: #0087ff\">MaxPooling1D</span>)  │ (<span style=\"color: #00d7ff; text-decoration-color: #00d7ff\">None</span>, <span style=\"color: #00af00; text-decoration-color: #00af00\">10</span>, <span style=\"color: #00af00; text-decoration-color: #00af00\">128</span>)        │             <span style=\"color: #00af00; text-decoration-color: #00af00\">0</span> │\n",
              "├─────────────────────────────────┼────────────────────────┼───────────────┤\n",
              "│ dropout_2 (<span style=\"color: #0087ff; text-decoration-color: #0087ff\">Dropout</span>)             │ (<span style=\"color: #00d7ff; text-decoration-color: #00d7ff\">None</span>, <span style=\"color: #00af00; text-decoration-color: #00af00\">10</span>, <span style=\"color: #00af00; text-decoration-color: #00af00\">128</span>)        │             <span style=\"color: #00af00; text-decoration-color: #00af00\">0</span> │\n",
              "├─────────────────────────────────┼────────────────────────┼───────────────┤\n",
              "│ flatten_1 (<span style=\"color: #0087ff; text-decoration-color: #0087ff\">Flatten</span>)             │ (<span style=\"color: #00d7ff; text-decoration-color: #00d7ff\">None</span>, <span style=\"color: #00af00; text-decoration-color: #00af00\">1280</span>)           │             <span style=\"color: #00af00; text-decoration-color: #00af00\">0</span> │\n",
              "├─────────────────────────────────┼────────────────────────┼───────────────┤\n",
              "│ dense_2 (<span style=\"color: #0087ff; text-decoration-color: #0087ff\">Dense</span>)                 │ (<span style=\"color: #00d7ff; text-decoration-color: #00d7ff\">None</span>, <span style=\"color: #00af00; text-decoration-color: #00af00\">64</span>)             │        <span style=\"color: #00af00; text-decoration-color: #00af00\">81,984</span> │\n",
              "├─────────────────────────────────┼────────────────────────┼───────────────┤\n",
              "│ batch_normalization_4           │ (<span style=\"color: #00d7ff; text-decoration-color: #00d7ff\">None</span>, <span style=\"color: #00af00; text-decoration-color: #00af00\">64</span>)             │           <span style=\"color: #00af00; text-decoration-color: #00af00\">256</span> │\n",
              "│ (<span style=\"color: #0087ff; text-decoration-color: #0087ff\">BatchNormalization</span>)            │                        │               │\n",
              "├─────────────────────────────────┼────────────────────────┼───────────────┤\n",
              "│ dropout_3 (<span style=\"color: #0087ff; text-decoration-color: #0087ff\">Dropout</span>)             │ (<span style=\"color: #00d7ff; text-decoration-color: #00d7ff\">None</span>, <span style=\"color: #00af00; text-decoration-color: #00af00\">64</span>)             │             <span style=\"color: #00af00; text-decoration-color: #00af00\">0</span> │\n",
              "├─────────────────────────────────┼────────────────────────┼───────────────┤\n",
              "│ dense_3 (<span style=\"color: #0087ff; text-decoration-color: #0087ff\">Dense</span>)                 │ (<span style=\"color: #00d7ff; text-decoration-color: #00d7ff\">None</span>, <span style=\"color: #00af00; text-decoration-color: #00af00\">2</span>)              │           <span style=\"color: #00af00; text-decoration-color: #00af00\">130</span> │\n",
              "└─────────────────────────────────┴────────────────────────┴───────────────┘\n",
              "</pre>\n"
            ]
          },
          "metadata": {}
        },
        {
          "output_type": "display_data",
          "data": {
            "text/plain": [
              "\u001b[1m Total params: \u001b[0m\u001b[38;5;34m108,098\u001b[0m (422.26 KB)\n"
            ],
            "text/html": [
              "<pre style=\"white-space:pre;overflow-x:auto;line-height:normal;font-family:Menlo,'DejaVu Sans Mono',consolas,'Courier New',monospace\"><span style=\"font-weight: bold\"> Total params: </span><span style=\"color: #00af00; text-decoration-color: #00af00\">108,098</span> (422.26 KB)\n",
              "</pre>\n"
            ]
          },
          "metadata": {}
        },
        {
          "output_type": "display_data",
          "data": {
            "text/plain": [
              "\u001b[1m Trainable params: \u001b[0m\u001b[38;5;34m107,586\u001b[0m (420.26 KB)\n"
            ],
            "text/html": [
              "<pre style=\"white-space:pre;overflow-x:auto;line-height:normal;font-family:Menlo,'DejaVu Sans Mono',consolas,'Courier New',monospace\"><span style=\"font-weight: bold\"> Trainable params: </span><span style=\"color: #00af00; text-decoration-color: #00af00\">107,586</span> (420.26 KB)\n",
              "</pre>\n"
            ]
          },
          "metadata": {}
        },
        {
          "output_type": "display_data",
          "data": {
            "text/plain": [
              "\u001b[1m Non-trainable params: \u001b[0m\u001b[38;5;34m512\u001b[0m (2.00 KB)\n"
            ],
            "text/html": [
              "<pre style=\"white-space:pre;overflow-x:auto;line-height:normal;font-family:Menlo,'DejaVu Sans Mono',consolas,'Courier New',monospace\"><span style=\"font-weight: bold\"> Non-trainable params: </span><span style=\"color: #00af00; text-decoration-color: #00af00\">512</span> (2.00 KB)\n",
              "</pre>\n"
            ]
          },
          "metadata": {}
        }
      ]
    },
    {
      "cell_type": "markdown",
      "source": [
        "**🚀 5. Train Model with Callbacks**"
      ],
      "metadata": {
        "id": "CE0tuD_HzU6D"
      }
    },
    {
      "cell_type": "code",
      "source": [
        "early_stop = EarlyStopping(monitor='val_loss', patience=5, restore_best_weights=True, verbose=1)\n",
        "reduce_lr = ReduceLROnPlateau(monitor='val_loss', patience=3, factor=0.5, verbose=1)\n",
        "\n",
        "history = model.fit(\n",
        "    X_train, y_train,\n",
        "    epochs=30,\n",
        "    batch_size=16,\n",
        "    validation_split=0.2,\n",
        "    callbacks=[early_stop, reduce_lr]\n",
        ")\n"
      ],
      "metadata": {
        "colab": {
          "base_uri": "https://localhost:8080/"
        },
        "id": "g4ZXzBwkzL8T",
        "outputId": "331e1412-61b7-4fa9-e9e1-044532b6fe14"
      },
      "execution_count": null,
      "outputs": [
        {
          "output_type": "stream",
          "name": "stdout",
          "text": [
            "Epoch 1/30\n",
            "\u001b[1m252/252\u001b[0m \u001b[32m━━━━━━━━━━━━━━━━━━━━\u001b[0m\u001b[37m\u001b[0m \u001b[1m6s\u001b[0m 7ms/step - accuracy: 0.7237 - loss: 0.7335 - val_accuracy: 0.8016 - val_loss: 0.4267 - learning_rate: 1.0000e-04\n",
            "Epoch 2/30\n",
            "\u001b[1m252/252\u001b[0m \u001b[32m━━━━━━━━━━━━━━━━━━━━\u001b[0m\u001b[37m\u001b[0m \u001b[1m2s\u001b[0m 9ms/step - accuracy: 0.8288 - loss: 0.5148 - val_accuracy: 0.9048 - val_loss: 0.2416 - learning_rate: 1.0000e-04\n",
            "Epoch 3/30\n",
            "\u001b[1m252/252\u001b[0m \u001b[32m━━━━━━━━━━━━━━━━━━━━\u001b[0m\u001b[37m\u001b[0m \u001b[1m2s\u001b[0m 6ms/step - accuracy: 0.8650 - loss: 0.3895 - val_accuracy: 0.9127 - val_loss: 0.2123 - learning_rate: 1.0000e-04\n",
            "Epoch 4/30\n",
            "\u001b[1m252/252\u001b[0m \u001b[32m━━━━━━━━━━━━━━━━━━━━\u001b[0m\u001b[37m\u001b[0m \u001b[1m3s\u001b[0m 6ms/step - accuracy: 0.8739 - loss: 0.3493 - val_accuracy: 0.9117 - val_loss: 0.1998 - learning_rate: 1.0000e-04\n",
            "Epoch 5/30\n",
            "\u001b[1m252/252\u001b[0m \u001b[32m━━━━━━━━━━━━━━━━━━━━\u001b[0m\u001b[37m\u001b[0m \u001b[1m3s\u001b[0m 6ms/step - accuracy: 0.8710 - loss: 0.3390 - val_accuracy: 0.9246 - val_loss: 0.1778 - learning_rate: 1.0000e-04\n",
            "Epoch 6/30\n",
            "\u001b[1m252/252\u001b[0m \u001b[32m━━━━━━━━━━━━━━━━━━━━\u001b[0m\u001b[37m\u001b[0m \u001b[1m1s\u001b[0m 5ms/step - accuracy: 0.8847 - loss: 0.3025 - val_accuracy: 0.9276 - val_loss: 0.1697 - learning_rate: 1.0000e-04\n",
            "Epoch 7/30\n",
            "\u001b[1m252/252\u001b[0m \u001b[32m━━━━━━━━━━━━━━━━━━━━\u001b[0m\u001b[37m\u001b[0m \u001b[1m3s\u001b[0m 7ms/step - accuracy: 0.8926 - loss: 0.2580 - val_accuracy: 0.9315 - val_loss: 0.1635 - learning_rate: 1.0000e-04\n",
            "Epoch 8/30\n",
            "\u001b[1m252/252\u001b[0m \u001b[32m━━━━━━━━━━━━━━━━━━━━\u001b[0m\u001b[37m\u001b[0m \u001b[1m2s\u001b[0m 5ms/step - accuracy: 0.8846 - loss: 0.2755 - val_accuracy: 0.9375 - val_loss: 0.1520 - learning_rate: 1.0000e-04\n",
            "Epoch 9/30\n",
            "\u001b[1m252/252\u001b[0m \u001b[32m━━━━━━━━━━━━━━━━━━━━\u001b[0m\u001b[37m\u001b[0m \u001b[1m1s\u001b[0m 5ms/step - accuracy: 0.9030 - loss: 0.2413 - val_accuracy: 0.9415 - val_loss: 0.1437 - learning_rate: 1.0000e-04\n",
            "Epoch 10/30\n",
            "\u001b[1m252/252\u001b[0m \u001b[32m━━━━━━━━━━━━━━━━━━━━\u001b[0m\u001b[37m\u001b[0m \u001b[1m2s\u001b[0m 5ms/step - accuracy: 0.9004 - loss: 0.2448 - val_accuracy: 0.9444 - val_loss: 0.1446 - learning_rate: 1.0000e-04\n",
            "Epoch 11/30\n",
            "\u001b[1m252/252\u001b[0m \u001b[32m━━━━━━━━━━━━━━━━━━━━\u001b[0m\u001b[37m\u001b[0m \u001b[1m2s\u001b[0m 9ms/step - accuracy: 0.9090 - loss: 0.2134 - val_accuracy: 0.9444 - val_loss: 0.1404 - learning_rate: 1.0000e-04\n",
            "Epoch 12/30\n",
            "\u001b[1m252/252\u001b[0m \u001b[32m━━━━━━━━━━━━━━━━━━━━\u001b[0m\u001b[37m\u001b[0m \u001b[1m3s\u001b[0m 10ms/step - accuracy: 0.9100 - loss: 0.2291 - val_accuracy: 0.9514 - val_loss: 0.1324 - learning_rate: 1.0000e-04\n",
            "Epoch 13/30\n",
            "\u001b[1m252/252\u001b[0m \u001b[32m━━━━━━━━━━━━━━━━━━━━\u001b[0m\u001b[37m\u001b[0m \u001b[1m3s\u001b[0m 12ms/step - accuracy: 0.9108 - loss: 0.2118 - val_accuracy: 0.9534 - val_loss: 0.1298 - learning_rate: 1.0000e-04\n",
            "Epoch 14/30\n",
            "\u001b[1m252/252\u001b[0m \u001b[32m━━━━━━━━━━━━━━━━━━━━\u001b[0m\u001b[37m\u001b[0m \u001b[1m4s\u001b[0m 6ms/step - accuracy: 0.9210 - loss: 0.2081 - val_accuracy: 0.9514 - val_loss: 0.1271 - learning_rate: 1.0000e-04\n",
            "Epoch 15/30\n",
            "\u001b[1m252/252\u001b[0m \u001b[32m━━━━━━━━━━━━━━━━━━━━\u001b[0m\u001b[37m\u001b[0m \u001b[1m3s\u001b[0m 6ms/step - accuracy: 0.9139 - loss: 0.2160 - val_accuracy: 0.9534 - val_loss: 0.1245 - learning_rate: 1.0000e-04\n",
            "Epoch 16/30\n",
            "\u001b[1m252/252\u001b[0m \u001b[32m━━━━━━━━━━━━━━━━━━━━\u001b[0m\u001b[37m\u001b[0m \u001b[1m3s\u001b[0m 6ms/step - accuracy: 0.9240 - loss: 0.1822 - val_accuracy: 0.9514 - val_loss: 0.1214 - learning_rate: 1.0000e-04\n",
            "Epoch 17/30\n",
            "\u001b[1m252/252\u001b[0m \u001b[32m━━━━━━━━━━━━━━━━━━━━\u001b[0m\u001b[37m\u001b[0m \u001b[1m3s\u001b[0m 8ms/step - accuracy: 0.9173 - loss: 0.2098 - val_accuracy: 0.9593 - val_loss: 0.1176 - learning_rate: 1.0000e-04\n",
            "Epoch 18/30\n",
            "\u001b[1m252/252\u001b[0m \u001b[32m━━━━━━━━━━━━━━━━━━━━\u001b[0m\u001b[37m\u001b[0m \u001b[1m2s\u001b[0m 5ms/step - accuracy: 0.9269 - loss: 0.1857 - val_accuracy: 0.9593 - val_loss: 0.1135 - learning_rate: 1.0000e-04\n",
            "Epoch 19/30\n",
            "\u001b[1m252/252\u001b[0m \u001b[32m━━━━━━━━━━━━━━━━━━━━\u001b[0m\u001b[37m\u001b[0m \u001b[1m1s\u001b[0m 6ms/step - accuracy: 0.9279 - loss: 0.1922 - val_accuracy: 0.9554 - val_loss: 0.1155 - learning_rate: 1.0000e-04\n",
            "Epoch 20/30\n",
            "\u001b[1m252/252\u001b[0m \u001b[32m━━━━━━━━━━━━━━━━━━━━\u001b[0m\u001b[37m\u001b[0m \u001b[1m1s\u001b[0m 6ms/step - accuracy: 0.9198 - loss: 0.1791 - val_accuracy: 0.9633 - val_loss: 0.1137 - learning_rate: 1.0000e-04\n",
            "Epoch 21/30\n",
            "\u001b[1m252/252\u001b[0m \u001b[32m━━━━━━━━━━━━━━━━━━━━\u001b[0m\u001b[37m\u001b[0m \u001b[1m3s\u001b[0m 8ms/step - accuracy: 0.9216 - loss: 0.1911 - val_accuracy: 0.9643 - val_loss: 0.1109 - learning_rate: 1.0000e-04\n",
            "Epoch 22/30\n",
            "\u001b[1m252/252\u001b[0m \u001b[32m━━━━━━━━━━━━━━━━━━━━\u001b[0m\u001b[37m\u001b[0m \u001b[1m2s\u001b[0m 8ms/step - accuracy: 0.9373 - loss: 0.1600 - val_accuracy: 0.9603 - val_loss: 0.1072 - learning_rate: 1.0000e-04\n",
            "Epoch 23/30\n",
            "\u001b[1m252/252\u001b[0m \u001b[32m━━━━━━━━━━━━━━━━━━━━\u001b[0m\u001b[37m\u001b[0m \u001b[1m2s\u001b[0m 7ms/step - accuracy: 0.9274 - loss: 0.1682 - val_accuracy: 0.9623 - val_loss: 0.1067 - learning_rate: 1.0000e-04\n",
            "Epoch 24/30\n",
            "\u001b[1m252/252\u001b[0m \u001b[32m━━━━━━━━━━━━━━━━━━━━\u001b[0m\u001b[37m\u001b[0m \u001b[1m2s\u001b[0m 6ms/step - accuracy: 0.9262 - loss: 0.1848 - val_accuracy: 0.9633 - val_loss: 0.1049 - learning_rate: 1.0000e-04\n",
            "Epoch 25/30\n",
            "\u001b[1m252/252\u001b[0m \u001b[32m━━━━━━━━━━━━━━━━━━━━\u001b[0m\u001b[37m\u001b[0m \u001b[1m1s\u001b[0m 6ms/step - accuracy: 0.9305 - loss: 0.1592 - val_accuracy: 0.9643 - val_loss: 0.1036 - learning_rate: 1.0000e-04\n",
            "Epoch 26/30\n",
            "\u001b[1m252/252\u001b[0m \u001b[32m━━━━━━━━━━━━━━━━━━━━\u001b[0m\u001b[37m\u001b[0m \u001b[1m2s\u001b[0m 6ms/step - accuracy: 0.9229 - loss: 0.1885 - val_accuracy: 0.9573 - val_loss: 0.1049 - learning_rate: 1.0000e-04\n",
            "Epoch 27/30\n",
            "\u001b[1m252/252\u001b[0m \u001b[32m━━━━━━━━━━━━━━━━━━━━\u001b[0m\u001b[37m\u001b[0m \u001b[1m2s\u001b[0m 6ms/step - accuracy: 0.9324 - loss: 0.1559 - val_accuracy: 0.9623 - val_loss: 0.1016 - learning_rate: 1.0000e-04\n",
            "Epoch 28/30\n",
            "\u001b[1m252/252\u001b[0m \u001b[32m━━━━━━━━━━━━━━━━━━━━\u001b[0m\u001b[37m\u001b[0m \u001b[1m1s\u001b[0m 6ms/step - accuracy: 0.9418 - loss: 0.1424 - val_accuracy: 0.9623 - val_loss: 0.1026 - learning_rate: 1.0000e-04\n",
            "Epoch 29/30\n",
            "\u001b[1m252/252\u001b[0m \u001b[32m━━━━━━━━━━━━━━━━━━━━\u001b[0m\u001b[37m\u001b[0m \u001b[1m2s\u001b[0m 7ms/step - accuracy: 0.9341 - loss: 0.1633 - val_accuracy: 0.9613 - val_loss: 0.0987 - learning_rate: 1.0000e-04\n",
            "Epoch 30/30\n",
            "\u001b[1m252/252\u001b[0m \u001b[32m━━━━━━━━━━━━━━━━━━━━\u001b[0m\u001b[37m\u001b[0m \u001b[1m2s\u001b[0m 6ms/step - accuracy: 0.9370 - loss: 0.1608 - val_accuracy: 0.9663 - val_loss: 0.1003 - learning_rate: 1.0000e-04\n",
            "Restoring model weights from the end of the best epoch: 29.\n"
          ]
        }
      ]
    },
    {
      "cell_type": "markdown",
      "source": [
        "**📈 6. Training Curve Visualization**"
      ],
      "metadata": {
        "id": "oWvWY4c6zeIL"
      }
    },
    {
      "cell_type": "code",
      "source": [
        "plt.plot(history.history['loss'], label='Train Loss')\n",
        "plt.plot(history.history['val_loss'], label='Val Loss')\n",
        "plt.xlabel('Epochs'); plt.ylabel('Loss')\n",
        "plt.title('Training vs Validation Loss')\n",
        "plt.legend(); plt.grid(); plt.show()\n",
        "\n",
        "plt.plot(history.history['accuracy'], label='Train Acc')\n",
        "plt.plot(history.history['val_accuracy'], label='Val Acc')\n",
        "plt.xlabel('Epochs'); plt.ylabel('Accuracy')\n",
        "plt.title('Training vs Validation Accuracy')\n",
        "plt.legend(); plt.grid(); plt.show()"
      ],
      "metadata": {
        "colab": {
          "base_uri": "https://localhost:8080/",
          "height": 927
        },
        "id": "gKqeJyzvzX6A",
        "outputId": "34cb2bcb-700e-42c7-adc0-7a48b4ec9af6"
      },
      "execution_count": null,
      "outputs": [
        {
          "output_type": "display_data",
          "data": {
            "text/plain": [
              "<Figure size 640x480 with 1 Axes>"
            ],
            "image/png": "[encoded data removed]"
          },
          "metadata": {}
        },
        {
          "output_type": "display_data",
          "data": {
            "text/plain": [
              "<Figure size 640x480 with 1 Axes>"
            ],
            "image/png": "[encoded data removed]"
          },
          "metadata": {}
        }
      ]
    },
    {
      "cell_type": "markdown",
      "source": [
        "**📊 7. Evaluation**"
      ],
      "metadata": {
        "id": "KvqHVZ9Cz2KV"
      }
    },
    {
      "cell_type": "code",
      "source": [
        "y_pred = model.predict(X_test)\n",
        "y_pred_classes = np.argmax(y_pred, axis=1)\n",
        "y_true = np.argmax(y_test, axis=1)\n",
        "\n",
        "print(\"📊 Classification Report:\\n\", classification_report(y_true, y_pred_classes))\n",
        "\n",
        "# Confusion matrix\n",
        "cm = confusion_matrix(y_true, y_pred_classes)\n",
        "sns.heatmap(cm, annot=True, fmt='d', cmap='Blues')\n",
        "plt.xlabel(\"Predicted\")\n",
        "plt.ylabel(\"True\")\n",
        "plt.title(\"Confusion Matrix\")\n",
        "plt.show()\n"
      ],
      "metadata": {
        "colab": {
          "base_uri": "https://localhost:8080/",
          "height": 673
        },
        "id": "H9Zi3qVCz5qw",
        "outputId": "41c3a7fb-373f-48dd-b179-02f0020f679e"
      },
      "execution_count": null,
      "outputs": [
        {
          "output_type": "stream",
          "name": "stdout",
          "text": [
            "\u001b[1m40/40\u001b[0m \u001b[32m━━━━━━━━━━━━━━━━━━━━\u001b[0m\u001b[37m\u001b[0m \u001b[1m0s\u001b[0m 7ms/step\n",
            "📊 Classification Report:\n",
            "               precision    recall  f1-score   support\n",
            "\n",
            "           0       0.96      0.96      0.96       638\n",
            "           1       0.96      0.96      0.96       623\n",
            "\n",
            "    accuracy                           0.96      1261\n",
            "   macro avg       0.96      0.96      0.96      1261\n",
            "weighted avg       0.96      0.96      0.96      1261\n",
            "\n"
          ]
        },
        {
          "output_type": "display_data",
          "data": {
            "text/plain": [
              "<Figure size 640x480 with 2 Axes>"
            ],
            "image/png": "[encoded data removed]"
          },
          "metadata": {}
        }
      ]
    },
    {
      "cell_type": "markdown",
      "source": [
        "** 8. Model Saving / Loading**"
      ],
      "metadata": {
        "id": "4oanP_EK0Bsh"
      }
    },
    {
      "cell_type": "code",
      "source": [
        "model.save(\"brick_cnn_model.h5\")\n",
        "\n",
        "# To load later:\n",
        "# model = load_model(\"brick_cnn_model.h5\")"
      ],
      "metadata": {
        "colab": {
          "base_uri": "https://localhost:8080/"
        },
        "id": "l2C2v9CMz8zl",
        "outputId": "fd397372-be3b-4bb6-8f5a-6336247db197"
      },
      "execution_count": null,
      "outputs": [
        {
          "output_type": "stream",
          "name": "stderr",
          "text": [
            "WARNING:absl:You are saving your model as an HDF5 file via `model.save()` or `keras.saving.save_model(model)`. This file format is considered legacy. We recommend using instead the native Keras format, e.g. `model.save('my_model.keras')` or `keras.saving.save_model(model, 'my_model.keras')`. \n"
          ]
        }
      ]
    },
    {
      "cell_type": "markdown",
      "source": [
        "# 3rd run for the CNNs model output results"
      ],
      "metadata": {
        "id": "yxLNthHCjfMm"
      }
    },
    {
      "cell_type": "markdown",
      "source": [
        "**1. Import Libraries**"
      ],
      "metadata": {
        "id": "OrB28Ckrjpvj"
      }
    },
    {
      "cell_type": "code",
      "source": [
        "import pandas as pd\n",
        "import numpy as np\n",
        "from sklearn.model_selection import train_test_split\n",
        "from sklearn.preprocessing import StandardScaler\n",
        "from sklearn.impute import SimpleImputer\n",
        "from sklearn.metrics import classification_report, confusion_matrix\n",
        "import matplotlib.pyplot as plt\n",
        "import seaborn as sns\n",
        "\n",
        "from tensorflow.keras.models import Sequential, load_model\n",
        "from tensorflow.keras.layers import Conv1D, MaxPooling1D, Flatten, Dense, Dropout, BatchNormalization, Input\n",
        "from tensorflow.keras.utils import to_categorical\n",
        "from tensorflow.keras.callbacks import EarlyStopping, ReduceLROnPlateau\n",
        "from tensorflow.keras.optimizers import Adam\n"
      ],
      "metadata": {
        "id": "flScyNlmjefx"
      },
      "execution_count": null,
      "outputs": []
    },
    {
      "cell_type": "markdown",
      "source": [
        "**📁 2. Load and Combine Hit + Vibration Features**"
      ],
      "metadata": {
        "id": "3d6wvzo9jzZ5"
      }
    },
    {
      "cell_type": "code",
      "source": [
        "# Load feature CSVs\n",
        "hit_df = pd.read_csv(\"/content/drive/MyDrive/Hammering_Test/s01/Hit_Feature_Result/hit_features_selected.csv\")\n",
        "vib_df = pd.read_csv(\"/content/drive/MyDrive/Hammering_Test/s01/Vibration_Feature_Result/vibration_features_selected.csv\")\n",
        "\n",
        "# Sort to align rows\n",
        "hit_df = hit_df.sort_values(by=\"File\").reset_index(drop=True)\n",
        "vib_df = vib_df.sort_values(by=\"File\").reset_index(drop=True)\n",
        "\n",
        "# Check labels match\n",
        "assert (hit_df[\"Label\"] == vib_df[\"Label\"]).all(), \"Mismatch in labels!\"\n",
        "\n",
        "# Combine features (drop file and label columns)\n",
        "X = pd.concat([\n",
        "    hit_df.drop(columns=[\"Label\", \"File\"]),\n",
        "    vib_df.drop(columns=[\"Label\", \"File\"])\n",
        "], axis=1)\n",
        "\n",
        "# Labels\n",
        "y = hit_df[\"Label\"]\n"
      ],
      "metadata": {
        "id": "M1_7i77u0JB-"
      },
      "execution_count": null,
      "outputs": []
    },
    {
      "cell_type": "markdown",
      "source": [
        "**⚙️ 3. Preprocess Data**"
      ],
      "metadata": {
        "id": "Q4G6alFkj94I"
      }
    },
    {
      "cell_type": "code",
      "source": [
        "# Handle NaNs\n",
        "imputer = SimpleImputer(strategy=\"mean\")\n",
        "X_imputed = imputer.fit_transform(X)\n",
        "\n",
        "# Standardize\n",
        "scaler = StandardScaler()\n",
        "X_scaled = scaler.fit_transform(X_imputed)\n",
        "\n",
        "# Reshape for CNN input\n",
        "X_cnn = X_scaled.reshape((X_scaled.shape[0], X_scaled.shape[1], 1))\n",
        "\n",
        "# One-hot encode labels\n",
        "y_cat = to_categorical(y, num_classes=2)\n",
        "\n",
        "# Stratified split\n",
        "X_train, X_test, y_train, y_test = train_test_split(\n",
        "    X_cnn, y_cat, test_size=0.2, stratify=y, random_state=42\n",
        ")\n"
      ],
      "metadata": {
        "id": "GbjpL_2jj5mr"
      },
      "execution_count": null,
      "outputs": []
    },
    {
      "cell_type": "markdown",
      "source": [
        "**🧠 4. Define CNN Model (Improved)**"
      ],
      "metadata": {
        "id": "YxT-3HvtkD0E"
      }
    },
    {
      "cell_type": "code",
      "source": [
        "model = Sequential([\n",
        "    Input(shape=(X_train.shape[1], 1)),\n",
        "\n",
        "    Conv1D(64, kernel_size=3, activation='relu'),\n",
        "    MaxPooling1D(pool_size=2),\n",
        "    Dropout(0.2),\n",
        "\n",
        "    Conv1D(128, kernel_size=3, activation='relu'),\n",
        "    MaxPooling1D(pool_size=2),\n",
        "    Dropout(0.2),\n",
        "\n",
        "    Flatten(),\n",
        "    Dense(64, activation='relu'),\n",
        "    Dropout(0.3),\n",
        "\n",
        "    Dense(2, activation='softmax')  # Binary classification\n",
        "])\n",
        "\n",
        "# Compile model\n",
        "model.compile(optimizer=Adam(learning_rate=1e-4), loss='categorical_crossentropy', metrics=['accuracy'])\n",
        "model.summary()\n"
      ],
      "metadata": {
        "colab": {
          "base_uri": "https://localhost:8080/",
          "height": 463
        },
        "id": "lQWL_6UIkBIi",
        "outputId": "09e882ce-7b81-47af-a5dc-d363548ba5ca"
      },
      "execution_count": null,
      "outputs": [
        {
          "output_type": "display_data",
          "data": {
            "text/plain": [
              "\u001b[1mModel: \"sequential\"\u001b[0m\n"
            ],
            "text/html": [
              "<pre style=\"white-space:pre;overflow-x:auto;line-height:normal;font-family:Menlo,'DejaVu Sans Mono',consolas,'Courier New',monospace\"><span style=\"font-weight: bold\">Model: \"sequential\"</span>\n",
              "</pre>\n"
            ]
          },
          "metadata": {}
        },
        {
          "output_type": "display_data",
          "data": {
            "text/plain": [
              "┏━━━━━━━━━━━━━━━━━━━━━━━━━━━━━━━━━┳━━━━━━━━━━━━━━━━━━━━━━━━┳━━━━━━━━━━━━━━━┓\n",
              "┃\u001b[1m \u001b[0m\u001b[1mLayer (type)                   \u001b[0m\u001b[1m \u001b[0m┃\u001b[1m \u001b[0m\u001b[1mOutput Shape          \u001b[0m\u001b[1m \u001b[0m┃\u001b[1m \u001b[0m\u001b[1m      Param #\u001b[0m\u001b[1m \u001b[0m┃\n",
              "┡━━━━━━━━━━━━━━━━━━━━━━━━━━━━━━━━━╇━━━━━━━━━━━━━━━━━━━━━━━━╇━━━━━━━━━━━━━━━┩\n",
              "│ conv1d (\u001b[38;5;33mConv1D\u001b[0m)                 │ (\u001b[38;5;45mNone\u001b[0m, \u001b[38;5;34m46\u001b[0m, \u001b[38;5;34m64\u001b[0m)         │           \u001b[38;5;34m256\u001b[0m │\n",
              "├─────────────────────────────────┼────────────────────────┼───────────────┤\n",
              "│ max_pooling1d (\u001b[38;5;33mMaxPooling1D\u001b[0m)    │ (\u001b[38;5;45mNone\u001b[0m, \u001b[38;5;34m23\u001b[0m, \u001b[38;5;34m64\u001b[0m)         │             \u001b[38;5;34m0\u001b[0m │\n",
              "├─────────────────────────────────┼────────────────────────┼───────────────┤\n",
              "│ dropout (\u001b[38;5;33mDropout\u001b[0m)               │ (\u001b[38;5;45mNone\u001b[0m, \u001b[38;5;34m23\u001b[0m, \u001b[38;5;34m64\u001b[0m)         │             \u001b[38;5;34m0\u001b[0m │\n",
              "├─────────────────────────────────┼────────────────────────┼───────────────┤\n",
              "│ conv1d_1 (\u001b[38;5;33mConv1D\u001b[0m)               │ (\u001b[38;5;45mNone\u001b[0m, \u001b[38;5;34m21\u001b[0m, \u001b[38;5;34m128\u001b[0m)        │        \u001b[38;5;34m24,704\u001b[0m │\n",
              "├─────────────────────────────────┼────────────────────────┼───────────────┤\n",
              "│ max_pooling1d_1 (\u001b[38;5;33mMaxPooling1D\u001b[0m)  │ (\u001b[38;5;45mNone\u001b[0m, \u001b[38;5;34m10\u001b[0m, \u001b[38;5;34m128\u001b[0m)        │             \u001b[38;5;34m0\u001b[0m │\n",
              "├─────────────────────────────────┼────────────────────────┼───────────────┤\n",
              "│ dropout_1 (\u001b[38;5;33mDropout\u001b[0m)             │ (\u001b[38;5;45mNone\u001b[0m, \u001b[38;5;34m10\u001b[0m, \u001b[38;5;34m128\u001b[0m)        │             \u001b[38;5;34m0\u001b[0m │\n",
              "├─────────────────────────────────┼────────────────────────┼───────────────┤\n",
              "│ flatten (\u001b[38;5;33mFlatten\u001b[0m)               │ (\u001b[38;5;45mNone\u001b[0m, \u001b[38;5;34m1280\u001b[0m)           │             \u001b[38;5;34m0\u001b[0m │\n",
              "├─────────────────────────────────┼────────────────────────┼───────────────┤\n",
              "│ dense (\u001b[38;5;33mDense\u001b[0m)                   │ (\u001b[38;5;45mNone\u001b[0m, \u001b[38;5;34m64\u001b[0m)             │        \u001b[38;5;34m81,984\u001b[0m │\n",
              "├─────────────────────────────────┼────────────────────────┼───────────────┤\n",
              "│ dropout_2 (\u001b[38;5;33mDropout\u001b[0m)             │ (\u001b[38;5;45mNone\u001b[0m, \u001b[38;5;34m64\u001b[0m)             │             \u001b[38;5;34m0\u001b[0m │\n",
              "├─────────────────────────────────┼────────────────────────┼───────────────┤\n",
              "│ dense_1 (\u001b[38;5;33mDense\u001b[0m)                 │ (\u001b[38;5;45mNone\u001b[0m, \u001b[38;5;34m2\u001b[0m)              │           \u001b[38;5;34m130\u001b[0m │\n",
              "└─────────────────────────────────┴────────────────────────┴───────────────┘\n"
            ],
            "text/html": [
              "<pre style=\"white-space:pre;overflow-x:auto;line-height:normal;font-family:Menlo,'DejaVu Sans Mono',consolas,'Courier New',monospace\">┏━━━━━━━━━━━━━━━━━━━━━━━━━━━━━━━━━┳━━━━━━━━━━━━━━━━━━━━━━━━┳━━━━━━━━━━━━━━━┓\n",
              "┃<span style=\"font-weight: bold\"> Layer (type)                    </span>┃<span style=\"font-weight: bold\"> Output Shape           </span>┃<span style=\"font-weight: bold\">       Param # </span>┃\n",
              "┡━━━━━━━━━━━━━━━━━━━━━━━━━━━━━━━━━╇━━━━━━━━━━━━━━━━━━━━━━━━╇━━━━━━━━━━━━━━━┩\n",
              "│ conv1d (<span style=\"color: #0087ff; text-decoration-color: #0087ff\">Conv1D</span>)                 │ (<span style=\"color: #00d7ff; text-decoration-color: #00d7ff\">None</span>, <span style=\"color: #00af00; text-decoration-color: #00af00\">46</span>, <span style=\"color: #00af00; text-decoration-color: #00af00\">64</span>)         │           <span style=\"color: #00af00; text-decoration-color: #00af00\">256</span> │\n",
              "├─────────────────────────────────┼────────────────────────┼───────────────┤\n",
              "│ max_pooling1d (<span style=\"color: #0087ff; text-decoration-color: #0087ff\">MaxPooling1D</span>)    │ (<span style=\"color: #00d7ff; text-decoration-color: #00d7ff\">None</span>, <span style=\"color: #00af00; text-decoration-color: #00af00\">23</span>, <span style=\"color: #00af00; text-decoration-color: #00af00\">64</span>)         │             <span style=\"color: #00af00; text-decoration-color: #00af00\">0</span> │\n",
              "├─────────────────────────────────┼────────────────────────┼───────────────┤\n",
              "│ dropout (<span style=\"color: #0087ff; text-decoration-color: #0087ff\">Dropout</span>)               │ (<span style=\"color: #00d7ff; text-decoration-color: #00d7ff\">None</span>, <span style=\"color: #00af00; text-decoration-color: #00af00\">23</span>, <span style=\"color: #00af00; text-decoration-color: #00af00\">64</span>)         │             <span style=\"color: #00af00; text-decoration-color: #00af00\">0</span> │\n",
              "├─────────────────────────────────┼────────────────────────┼───────────────┤\n",
              "│ conv1d_1 (<span style=\"color: #0087ff; text-decoration-color: #0087ff\">Conv1D</span>)               │ (<span style=\"color: #00d7ff; text-decoration-color: #00d7ff\">None</span>, <span style=\"color: #00af00; text-decoration-color: #00af00\">21</span>, <span style=\"color: #00af00; text-decoration-color: #00af00\">128</span>)        │        <span style=\"color: #00af00; text-decoration-color: #00af00\">24,704</span> │\n",
              "├─────────────────────────────────┼────────────────────────┼───────────────┤\n",
              "│ max_pooling1d_1 (<span style=\"color: #0087ff; text-decoration-color: #0087ff\">MaxPooling1D</span>)  │ (<span style=\"color: #00d7ff; text-decoration-color: #00d7ff\">None</span>, <span style=\"color: #00af00; text-decoration-color: #00af00\">10</span>, <span style=\"color: #00af00; text-decoration-color: #00af00\">128</span>)        │             <span style=\"color: #00af00; text-decoration-color: #00af00\">0</span> │\n",
              "├─────────────────────────────────┼────────────────────────┼───────────────┤\n",
              "│ dropout_1 (<span style=\"color: #0087ff; text-decoration-color: #0087ff\">Dropout</span>)             │ (<span style=\"color: #00d7ff; text-decoration-color: #00d7ff\">None</span>, <span style=\"color: #00af00; text-decoration-color: #00af00\">10</span>, <span style=\"color: #00af00; text-decoration-color: #00af00\">128</span>)        │             <span style=\"color: #00af00; text-decoration-color: #00af00\">0</span> │\n",
              "├─────────────────────────────────┼────────────────────────┼───────────────┤\n",
              "│ flatten (<span style=\"color: #0087ff; text-decoration-color: #0087ff\">Flatten</span>)               │ (<span style=\"color: #00d7ff; text-decoration-color: #00d7ff\">None</span>, <span style=\"color: #00af00; text-decoration-color: #00af00\">1280</span>)           │             <span style=\"color: #00af00; text-decoration-color: #00af00\">0</span> │\n",
              "├─────────────────────────────────┼────────────────────────┼───────────────┤\n",
              "│ dense (<span style=\"color: #0087ff; text-decoration-color: #0087ff\">Dense</span>)                   │ (<span style=\"color: #00d7ff; text-decoration-color: #00d7ff\">None</span>, <span style=\"color: #00af00; text-decoration-color: #00af00\">64</span>)             │        <span style=\"color: #00af00; text-decoration-color: #00af00\">81,984</span> │\n",
              "├─────────────────────────────────┼────────────────────────┼───────────────┤\n",
              "│ dropout_2 (<span style=\"color: #0087ff; text-decoration-color: #0087ff\">Dropout</span>)             │ (<span style=\"color: #00d7ff; text-decoration-color: #00d7ff\">None</span>, <span style=\"color: #00af00; text-decoration-color: #00af00\">64</span>)             │             <span style=\"color: #00af00; text-decoration-color: #00af00\">0</span> │\n",
              "├─────────────────────────────────┼────────────────────────┼───────────────┤\n",
              "│ dense_1 (<span style=\"color: #0087ff; text-decoration-color: #0087ff\">Dense</span>)                 │ (<span style=\"color: #00d7ff; text-decoration-color: #00d7ff\">None</span>, <span style=\"color: #00af00; text-decoration-color: #00af00\">2</span>)              │           <span style=\"color: #00af00; text-decoration-color: #00af00\">130</span> │\n",
              "└─────────────────────────────────┴────────────────────────┴───────────────┘\n",
              "</pre>\n"
            ]
          },
          "metadata": {}
        },
        {
          "output_type": "display_data",
          "data": {
            "text/plain": [
              "\u001b[1m Total params: \u001b[0m\u001b[38;5;34m107,074\u001b[0m (418.26 KB)\n"
            ],
            "text/html": [
              "<pre style=\"white-space:pre;overflow-x:auto;line-height:normal;font-family:Menlo,'DejaVu Sans Mono',consolas,'Courier New',monospace\"><span style=\"font-weight: bold\"> Total params: </span><span style=\"color: #00af00; text-decoration-color: #00af00\">107,074</span> (418.26 KB)\n",
              "</pre>\n"
            ]
          },
          "metadata": {}
        },
        {
          "output_type": "display_data",
          "data": {
            "text/plain": [
              "\u001b[1m Trainable params: \u001b[0m\u001b[38;5;34m107,074\u001b[0m (418.26 KB)\n"
            ],
            "text/html": [
              "<pre style=\"white-space:pre;overflow-x:auto;line-height:normal;font-family:Menlo,'DejaVu Sans Mono',consolas,'Courier New',monospace\"><span style=\"font-weight: bold\"> Trainable params: </span><span style=\"color: #00af00; text-decoration-color: #00af00\">107,074</span> (418.26 KB)\n",
              "</pre>\n"
            ]
          },
          "metadata": {}
        },
        {
          "output_type": "display_data",
          "data": {
            "text/plain": [
              "\u001b[1m Non-trainable params: \u001b[0m\u001b[38;5;34m0\u001b[0m (0.00 B)\n"
            ],
            "text/html": [
              "<pre style=\"white-space:pre;overflow-x:auto;line-height:normal;font-family:Menlo,'DejaVu Sans Mono',consolas,'Courier New',monospace\"><span style=\"font-weight: bold\"> Non-trainable params: </span><span style=\"color: #00af00; text-decoration-color: #00af00\">0</span> (0.00 B)\n",
              "</pre>\n"
            ]
          },
          "metadata": {}
        }
      ]
    },
    {
      "cell_type": "markdown",
      "source": [
        "**🚀 5. Train Model with Callbacks**"
      ],
      "metadata": {
        "id": "_0KwjYZckPPU"
      }
    },
    {
      "cell_type": "code",
      "source": [
        "early_stop = EarlyStopping(monitor='val_loss', patience=5, restore_best_weights=True, verbose=1)\n",
        "reduce_lr = ReduceLROnPlateau(monitor='val_loss', factor=0.5, patience=5, min_lr=1e-6, verbose=1)\n",
        "\n",
        "history = model.fit(\n",
        "    X_train, y_train,\n",
        "    validation_split=0.2,\n",
        "    epochs=50,\n",
        "    batch_size=32,\n",
        "    callbacks=[early_stop, reduce_lr]\n",
        ")"
      ],
      "metadata": {
        "colab": {
          "base_uri": "https://localhost:8080/"
        },
        "id": "jr-xrB7PkMHH",
        "outputId": "546dcef0-9ba3-4247-9bf6-05d38f2dc0b5"
      },
      "execution_count": null,
      "outputs": [
        {
          "output_type": "stream",
          "name": "stdout",
          "text": [
            "Epoch 1/50\n",
            "\u001b[1m126/126\u001b[0m \u001b[32m━━━━━━━━━━━━━━━━━━━━\u001b[0m\u001b[37m\u001b[0m \u001b[1m6s\u001b[0m 20ms/step - accuracy: 0.7276 - loss: 0.5847 - val_accuracy: 0.8621 - val_loss: 0.3739 - learning_rate: 1.0000e-04\n",
            "Epoch 2/50\n",
            "\u001b[1m126/126\u001b[0m \u001b[32m━━━━━━━━━━━━━━━━━━━━\u001b[0m\u001b[37m\u001b[0m \u001b[1m2s\u001b[0m 17ms/step - accuracy: 0.8693 - loss: 0.3554 - val_accuracy: 0.8780 - val_loss: 0.3158 - learning_rate: 1.0000e-04\n",
            "Epoch 3/50\n",
            "\u001b[1m126/126\u001b[0m \u001b[32m━━━━━━━━━━━━━━━━━━━━\u001b[0m\u001b[37m\u001b[0m \u001b[1m2s\u001b[0m 11ms/step - accuracy: 0.8885 - loss: 0.3115 - val_accuracy: 0.8889 - val_loss: 0.2808 - learning_rate: 1.0000e-04\n",
            "Epoch 4/50\n",
            "\u001b[1m126/126\u001b[0m \u001b[32m━━━━━━━━━━━━━━━━━━━━\u001b[0m\u001b[37m\u001b[0m \u001b[1m3s\u001b[0m 11ms/step - accuracy: 0.8875 - loss: 0.2873 - val_accuracy: 0.9008 - val_loss: 0.2588 - learning_rate: 1.0000e-04\n",
            "Epoch 5/50\n",
            "\u001b[1m126/126\u001b[0m \u001b[32m━━━━━━━━━━━━━━━━━━━━\u001b[0m\u001b[37m\u001b[0m \u001b[1m1s\u001b[0m 11ms/step - accuracy: 0.8985 - loss: 0.2544 - val_accuracy: 0.9048 - val_loss: 0.2413 - learning_rate: 1.0000e-04\n",
            "Epoch 6/50\n",
            "\u001b[1m126/126\u001b[0m \u001b[32m━━━━━━━━━━━━━━━━━━━━\u001b[0m\u001b[37m\u001b[0m \u001b[1m2s\u001b[0m 10ms/step - accuracy: 0.9031 - loss: 0.2455 - val_accuracy: 0.9087 - val_loss: 0.2208 - learning_rate: 1.0000e-04\n",
            "Epoch 7/50\n",
            "\u001b[1m126/126\u001b[0m \u001b[32m━━━━━━━━━━━━━━━━━━━━\u001b[0m\u001b[37m\u001b[0m \u001b[1m1s\u001b[0m 11ms/step - accuracy: 0.9048 - loss: 0.2288 - val_accuracy: 0.9206 - val_loss: 0.2056 - learning_rate: 1.0000e-04\n",
            "Epoch 8/50\n",
            "\u001b[1m126/126\u001b[0m \u001b[32m━━━━━━━━━━━━━━━━━━━━\u001b[0m\u001b[37m\u001b[0m \u001b[1m2s\u001b[0m 16ms/step - accuracy: 0.9113 - loss: 0.2228 - val_accuracy: 0.9226 - val_loss: 0.1918 - learning_rate: 1.0000e-04\n",
            "Epoch 9/50\n",
            "\u001b[1m126/126\u001b[0m \u001b[32m━━━━━━━━━━━━━━━━━━━━\u001b[0m\u001b[37m\u001b[0m \u001b[1m2s\u001b[0m 17ms/step - accuracy: 0.9253 - loss: 0.1994 - val_accuracy: 0.9335 - val_loss: 0.1834 - learning_rate: 1.0000e-04\n",
            "Epoch 10/50\n",
            "\u001b[1m126/126\u001b[0m \u001b[32m━━━━━━━━━━━━━━━━━━━━\u001b[0m\u001b[37m\u001b[0m \u001b[1m1s\u001b[0m 12ms/step - accuracy: 0.9257 - loss: 0.1884 - val_accuracy: 0.9246 - val_loss: 0.1781 - learning_rate: 1.0000e-04\n",
            "Epoch 11/50\n",
            "\u001b[1m126/126\u001b[0m \u001b[32m━━━━━━━━━━━━━━━━━━━━\u001b[0m\u001b[37m\u001b[0m \u001b[1m2s\u001b[0m 16ms/step - accuracy: 0.9235 - loss: 0.1839 - val_accuracy: 0.9355 - val_loss: 0.1700 - learning_rate: 1.0000e-04\n",
            "Epoch 12/50\n",
            "\u001b[1m126/126\u001b[0m \u001b[32m━━━━━━━━━━━━━━━━━━━━\u001b[0m\u001b[37m\u001b[0m \u001b[1m2s\u001b[0m 16ms/step - accuracy: 0.9253 - loss: 0.1790 - val_accuracy: 0.9425 - val_loss: 0.1606 - learning_rate: 1.0000e-04\n",
            "Epoch 13/50\n",
            "\u001b[1m126/126\u001b[0m \u001b[32m━━━━━━━━━━━━━━━━━━━━\u001b[0m\u001b[37m\u001b[0m \u001b[1m3s\u001b[0m 17ms/step - accuracy: 0.9297 - loss: 0.1729 - val_accuracy: 0.9415 - val_loss: 0.1563 - learning_rate: 1.0000e-04\n",
            "Epoch 14/50\n",
            "\u001b[1m126/126\u001b[0m \u001b[32m━━━━━━━━━━━━━━━━━━━━\u001b[0m\u001b[37m\u001b[0m \u001b[1m3s\u001b[0m 23ms/step - accuracy: 0.9277 - loss: 0.1669 - val_accuracy: 0.9415 - val_loss: 0.1505 - learning_rate: 1.0000e-04\n",
            "Epoch 15/50\n",
            "\u001b[1m126/126\u001b[0m \u001b[32m━━━━━━━━━━━━━━━━━━━━\u001b[0m\u001b[37m\u001b[0m \u001b[1m2s\u001b[0m 18ms/step - accuracy: 0.9304 - loss: 0.1614 - val_accuracy: 0.9435 - val_loss: 0.1453 - learning_rate: 1.0000e-04\n",
            "Epoch 16/50\n",
            "\u001b[1m126/126\u001b[0m \u001b[32m━━━━━━━━━━━━━━━━━━━━\u001b[0m\u001b[37m\u001b[0m \u001b[1m3s\u001b[0m 22ms/step - accuracy: 0.9310 - loss: 0.1629 - val_accuracy: 0.9474 - val_loss: 0.1425 - learning_rate: 1.0000e-04\n",
            "Epoch 17/50\n",
            "\u001b[1m126/126\u001b[0m \u001b[32m━━━━━━━━━━━━━━━━━━━━\u001b[0m\u001b[37m\u001b[0m \u001b[1m3s\u001b[0m 21ms/step - accuracy: 0.9386 - loss: 0.1472 - val_accuracy: 0.9514 - val_loss: 0.1385 - learning_rate: 1.0000e-04\n",
            "Epoch 18/50\n",
            "\u001b[1m126/126\u001b[0m \u001b[32m━━━━━━━━━━━━━━━━━━━━\u001b[0m\u001b[37m\u001b[0m \u001b[1m3s\u001b[0m 20ms/step - accuracy: 0.9303 - loss: 0.1517 - val_accuracy: 0.9514 - val_loss: 0.1349 - learning_rate: 1.0000e-04\n",
            "Epoch 19/50\n",
            "\u001b[1m126/126\u001b[0m \u001b[32m━━━━━━━━━━━━━━━━━━━━\u001b[0m\u001b[37m\u001b[0m \u001b[1m2s\u001b[0m 12ms/step - accuracy: 0.9391 - loss: 0.1448 - val_accuracy: 0.9494 - val_loss: 0.1354 - learning_rate: 1.0000e-04\n",
            "Epoch 20/50\n",
            "\u001b[1m126/126\u001b[0m \u001b[32m━━━━━━━━━━━━━━━━━━━━\u001b[0m\u001b[37m\u001b[0m \u001b[1m3s\u001b[0m 18ms/step - accuracy: 0.9433 - loss: 0.1395 - val_accuracy: 0.9435 - val_loss: 0.1333 - learning_rate: 1.0000e-04\n",
            "Epoch 21/50\n",
            "\u001b[1m126/126\u001b[0m \u001b[32m━━━━━━━━━━━━━━━━━━━━\u001b[0m\u001b[37m\u001b[0m \u001b[1m2s\u001b[0m 15ms/step - accuracy: 0.9353 - loss: 0.1372 - val_accuracy: 0.9514 - val_loss: 0.1261 - learning_rate: 1.0000e-04\n",
            "Epoch 22/50\n",
            "\u001b[1m126/126\u001b[0m \u001b[32m━━━━━━━━━━━━━━━━━━━━\u001b[0m\u001b[37m\u001b[0m \u001b[1m1s\u001b[0m 11ms/step - accuracy: 0.9367 - loss: 0.1380 - val_accuracy: 0.9563 - val_loss: 0.1246 - learning_rate: 1.0000e-04\n",
            "Epoch 23/50\n",
            "\u001b[1m126/126\u001b[0m \u001b[32m━━━━━━━━━━━━━━━━━━━━\u001b[0m\u001b[37m\u001b[0m \u001b[1m3s\u001b[0m 11ms/step - accuracy: 0.9443 - loss: 0.1274 - val_accuracy: 0.9514 - val_loss: 0.1246 - learning_rate: 1.0000e-04\n",
            "Epoch 24/50\n",
            "\u001b[1m126/126\u001b[0m \u001b[32m━━━━━━━━━━━━━━━━━━━━\u001b[0m\u001b[37m\u001b[0m \u001b[1m3s\u001b[0m 11ms/step - accuracy: 0.9456 - loss: 0.1252 - val_accuracy: 0.9514 - val_loss: 0.1222 - learning_rate: 1.0000e-04\n",
            "Epoch 25/50\n",
            "\u001b[1m126/126\u001b[0m \u001b[32m━━━━━━━━━━━━━━━━━━━━\u001b[0m\u001b[37m\u001b[0m \u001b[1m2s\u001b[0m 10ms/step - accuracy: 0.9542 - loss: 0.1138 - val_accuracy: 0.9514 - val_loss: 0.1200 - learning_rate: 1.0000e-04\n",
            "Epoch 26/50\n",
            "\u001b[1m126/126\u001b[0m \u001b[32m━━━━━━━━━━━━━━━━━━━━\u001b[0m\u001b[37m\u001b[0m \u001b[1m2s\u001b[0m 15ms/step - accuracy: 0.9468 - loss: 0.1144 - val_accuracy: 0.9563 - val_loss: 0.1178 - learning_rate: 1.0000e-04\n",
            "Epoch 27/50\n",
            "\u001b[1m126/126\u001b[0m \u001b[32m━━━━━━━━━━━━━━━━━━━━\u001b[0m\u001b[37m\u001b[0m \u001b[1m3s\u001b[0m 17ms/step - accuracy: 0.9409 - loss: 0.1332 - val_accuracy: 0.9534 - val_loss: 0.1168 - learning_rate: 1.0000e-04\n",
            "Epoch 28/50\n",
            "\u001b[1m126/126\u001b[0m \u001b[32m━━━━━━━━━━━━━━━━━━━━\u001b[0m\u001b[37m\u001b[0m \u001b[1m1s\u001b[0m 11ms/step - accuracy: 0.9464 - loss: 0.1285 - val_accuracy: 0.9573 - val_loss: 0.1132 - learning_rate: 1.0000e-04\n",
            "Epoch 29/50\n",
            "\u001b[1m126/126\u001b[0m \u001b[32m━━━━━━━━━━━━━━━━━━━━\u001b[0m\u001b[37m\u001b[0m \u001b[1m1s\u001b[0m 11ms/step - accuracy: 0.9549 - loss: 0.1115 - val_accuracy: 0.9554 - val_loss: 0.1168 - learning_rate: 1.0000e-04\n",
            "Epoch 30/50\n",
            "\u001b[1m126/126\u001b[0m \u001b[32m━━━━━━━━━━━━━━━━━━━━\u001b[0m\u001b[37m\u001b[0m \u001b[1m1s\u001b[0m 11ms/step - accuracy: 0.9522 - loss: 0.1162 - val_accuracy: 0.9573 - val_loss: 0.1122 - learning_rate: 1.0000e-04\n",
            "Epoch 31/50\n",
            "\u001b[1m126/126\u001b[0m \u001b[32m━━━━━━━━━━━━━━━━━━━━\u001b[0m\u001b[37m\u001b[0m \u001b[1m1s\u001b[0m 11ms/step - accuracy: 0.9540 - loss: 0.1115 - val_accuracy: 0.9593 - val_loss: 0.1103 - learning_rate: 1.0000e-04\n",
            "Epoch 32/50\n",
            "\u001b[1m126/126\u001b[0m \u001b[32m━━━━━━━━━━━━━━━━━━━━\u001b[0m\u001b[37m\u001b[0m \u001b[1m3s\u001b[0m 11ms/step - accuracy: 0.9488 - loss: 0.1154 - val_accuracy: 0.9613 - val_loss: 0.1075 - learning_rate: 1.0000e-04\n",
            "Epoch 33/50\n",
            "\u001b[1m126/126\u001b[0m \u001b[32m━━━━━━━━━━━━━━━━━━━━\u001b[0m\u001b[37m\u001b[0m \u001b[1m2s\u001b[0m 16ms/step - accuracy: 0.9591 - loss: 0.1080 - val_accuracy: 0.9603 - val_loss: 0.1063 - learning_rate: 1.0000e-04\n",
            "Epoch 34/50\n",
            "\u001b[1m126/126\u001b[0m \u001b[32m━━━━━━━━━━━━━━━━━━━━\u001b[0m\u001b[37m\u001b[0m \u001b[1m3s\u001b[0m 21ms/step - accuracy: 0.9631 - loss: 0.0890 - val_accuracy: 0.9603 - val_loss: 0.1060 - learning_rate: 1.0000e-04\n",
            "Epoch 35/50\n",
            "\u001b[1m126/126\u001b[0m \u001b[32m━━━━━━━━━━━━━━━━━━━━\u001b[0m\u001b[37m\u001b[0m \u001b[1m3s\u001b[0m 23ms/step - accuracy: 0.9545 - loss: 0.1046 - val_accuracy: 0.9603 - val_loss: 0.1032 - learning_rate: 1.0000e-04\n",
            "Epoch 36/50\n",
            "\u001b[1m126/126\u001b[0m \u001b[32m━━━━━━━━━━━━━━━━━━━━\u001b[0m\u001b[37m\u001b[0m \u001b[1m2s\u001b[0m 19ms/step - accuracy: 0.9581 - loss: 0.0953 - val_accuracy: 0.9613 - val_loss: 0.1028 - learning_rate: 1.0000e-04\n",
            "Epoch 37/50\n",
            "\u001b[1m126/126\u001b[0m \u001b[32m━━━━━━━━━━━━━━━━━━━━\u001b[0m\u001b[37m\u001b[0m \u001b[1m2s\u001b[0m 17ms/step - accuracy: 0.9627 - loss: 0.0973 - val_accuracy: 0.9653 - val_loss: 0.1031 - learning_rate: 1.0000e-04\n",
            "Epoch 38/50\n",
            "\u001b[1m126/126\u001b[0m \u001b[32m━━━━━━━━━━━━━━━━━━━━\u001b[0m\u001b[37m\u001b[0m \u001b[1m1s\u001b[0m 11ms/step - accuracy: 0.9657 - loss: 0.0903 - val_accuracy: 0.9613 - val_loss: 0.1017 - learning_rate: 1.0000e-04\n",
            "Epoch 39/50\n",
            "\u001b[1m126/126\u001b[0m \u001b[32m━━━━━━━━━━━━━━━━━━━━\u001b[0m\u001b[37m\u001b[0m \u001b[1m3s\u001b[0m 14ms/step - accuracy: 0.9576 - loss: 0.1010 - val_accuracy: 0.9623 - val_loss: 0.1033 - learning_rate: 1.0000e-04\n",
            "Epoch 40/50\n",
            "\u001b[1m126/126\u001b[0m \u001b[32m━━━━━━━━━━━━━━━━━━━━\u001b[0m\u001b[37m\u001b[0m \u001b[1m2s\u001b[0m 17ms/step - accuracy: 0.9552 - loss: 0.1014 - val_accuracy: 0.9633 - val_loss: 0.1013 - learning_rate: 1.0000e-04\n",
            "Epoch 41/50\n",
            "\u001b[1m126/126\u001b[0m \u001b[32m━━━━━━━━━━━━━━━━━━━━\u001b[0m\u001b[37m\u001b[0m \u001b[1m2s\u001b[0m 15ms/step - accuracy: 0.9661 - loss: 0.0852 - val_accuracy: 0.9643 - val_loss: 0.1004 - learning_rate: 1.0000e-04\n",
            "Epoch 42/50\n",
            "\u001b[1m126/126\u001b[0m \u001b[32m━━━━━━━━━━━━━━━━━━━━\u001b[0m\u001b[37m\u001b[0m \u001b[1m2s\u001b[0m 17ms/step - accuracy: 0.9624 - loss: 0.0898 - val_accuracy: 0.9613 - val_loss: 0.1008 - learning_rate: 1.0000e-04\n",
            "Epoch 43/50\n",
            "\u001b[1m126/126\u001b[0m \u001b[32m━━━━━━━━━━━━━━━━━━━━\u001b[0m\u001b[37m\u001b[0m \u001b[1m3s\u001b[0m 19ms/step - accuracy: 0.9622 - loss: 0.0977 - val_accuracy: 0.9593 - val_loss: 0.0988 - learning_rate: 1.0000e-04\n",
            "Epoch 44/50\n",
            "\u001b[1m126/126\u001b[0m \u001b[32m━━━━━━━━━━━━━━━━━━━━\u001b[0m\u001b[37m\u001b[0m \u001b[1m3s\u001b[0m 22ms/step - accuracy: 0.9624 - loss: 0.0853 - val_accuracy: 0.9573 - val_loss: 0.0998 - learning_rate: 1.0000e-04\n",
            "Epoch 45/50\n",
            "\u001b[1m126/126\u001b[0m \u001b[32m━━━━━━━━━━━━━━━━━━━━\u001b[0m\u001b[37m\u001b[0m \u001b[1m2s\u001b[0m 15ms/step - accuracy: 0.9635 - loss: 0.0889 - val_accuracy: 0.9643 - val_loss: 0.1001 - learning_rate: 1.0000e-04\n",
            "Epoch 46/50\n",
            "\u001b[1m126/126\u001b[0m \u001b[32m━━━━━━━━━━━━━━━━━━━━\u001b[0m\u001b[37m\u001b[0m \u001b[1m3s\u001b[0m 18ms/step - accuracy: 0.9630 - loss: 0.0925 - val_accuracy: 0.9593 - val_loss: 0.1012 - learning_rate: 1.0000e-04\n",
            "Epoch 47/50\n",
            "\u001b[1m126/126\u001b[0m \u001b[32m━━━━━━━━━━━━━━━━━━━━\u001b[0m\u001b[37m\u001b[0m \u001b[1m2s\u001b[0m 12ms/step - accuracy: 0.9642 - loss: 0.0876 - val_accuracy: 0.9653 - val_loss: 0.0977 - learning_rate: 1.0000e-04\n",
            "Epoch 48/50\n",
            "\u001b[1m126/126\u001b[0m \u001b[32m━━━━━━━━━━━━━━━━━━━━\u001b[0m\u001b[37m\u001b[0m \u001b[1m2s\u001b[0m 11ms/step - accuracy: 0.9606 - loss: 0.0878 - val_accuracy: 0.9573 - val_loss: 0.0996 - learning_rate: 1.0000e-04\n",
            "Epoch 49/50\n",
            "\u001b[1m126/126\u001b[0m \u001b[32m━━━━━━━━━━━━━━━━━━━━\u001b[0m\u001b[37m\u001b[0m \u001b[1m3s\u001b[0m 11ms/step - accuracy: 0.9584 - loss: 0.0909 - val_accuracy: 0.9613 - val_loss: 0.0945 - learning_rate: 1.0000e-04\n",
            "Epoch 50/50\n",
            "\u001b[1m126/126\u001b[0m \u001b[32m━━━━━━━━━━━━━━━━━━━━\u001b[0m\u001b[37m\u001b[0m \u001b[1m1s\u001b[0m 11ms/step - accuracy: 0.9629 - loss: 0.0875 - val_accuracy: 0.9613 - val_loss: 0.0960 - learning_rate: 1.0000e-04\n",
            "Restoring model weights from the end of the best epoch: 49.\n"
          ]
        }
      ]
    },
    {
      "cell_type": "markdown",
      "source": [
        "**📈 6. Visualize Training Curves**"
      ],
      "metadata": {
        "id": "r1as72-akY-x"
      }
    },
    {
      "cell_type": "code",
      "source": [
        "plt.figure(figsize=(12,5))\n",
        "\n",
        "plt.subplot(1, 2, 1)\n",
        "plt.plot(history.history['loss'], label='Train Loss')\n",
        "plt.plot(history.history['val_loss'], label='Val Loss')\n",
        "plt.xlabel('Epochs'); plt.ylabel('Loss'); plt.title('Loss Curve')\n",
        "plt.legend(); plt.grid()\n",
        "\n",
        "plt.subplot(1, 2, 2)\n",
        "plt.plot(history.history['accuracy'], label='Train Acc')\n",
        "plt.plot(history.history['val_accuracy'], label='Val Acc')\n",
        "plt.xlabel('Epochs'); plt.ylabel('Accuracy'); plt.title('Accuracy Curve')\n",
        "plt.legend(); plt.grid()\n",
        "\n",
        "plt.tight_layout()\n",
        "plt.show()\n"
      ],
      "metadata": {
        "colab": {
          "base_uri": "https://localhost:8080/",
          "height": 507
        },
        "id": "rEiT9XoxkTVm",
        "outputId": "9c669532-6720-4ca5-d7a2-1d48bae6f586"
      },
      "execution_count": null,
      "outputs": [
        {
          "output_type": "display_data",
          "data": {
            "text/plain": [
              "<Figure size 1200x500 with 2 Axes>"
            ],
            "image/png": "[encoded data removed]"
          },
          "metadata": {}
        }
      ]
    },
    {
      "cell_type": "markdown",
      "source": [
        "**📊 7. Model Evaluation**"
      ],
      "metadata": {
        "id": "f2MFk8KeklWK"
      }
    },
    {
      "cell_type": "code",
      "source": [
        "# Predict\n",
        "y_pred_probs = model.predict(X_test)\n",
        "y_pred = np.argmax(y_pred_probs, axis=1)\n",
        "y_true = np.argmax(y_test, axis=1)\n",
        "\n",
        "# Report\n",
        "print(\"📊 Classification Report:\\n\", classification_report(y_true, y_pred))\n",
        "\n",
        "# Confusion Matrix\n",
        "cm = confusion_matrix(y_true, y_pred)\n",
        "sns.heatmap(cm, annot=True, fmt='d', cmap='Blues')\n",
        "plt.xlabel(\"Predicted\")\n",
        "plt.ylabel(\"Actual\")\n",
        "plt.title(\"Confusion Matrix\")\n",
        "plt.show()"
      ],
      "metadata": {
        "colab": {
          "base_uri": "https://localhost:8080/",
          "height": 668
        },
        "id": "5WsIdRMdkmfo",
        "outputId": "a15d8e8c-a903-4c63-d348-d26528225266"
      },
      "execution_count": null,
      "outputs": [
        {
          "output_type": "stream",
          "name": "stdout",
          "text": [
            "\u001b[1m40/40\u001b[0m \u001b[32m━━━━━━━━━━━━━━━━━━━━\u001b[0m\u001b[37m\u001b[0m \u001b[1m0s\u001b[0m 8ms/step\n",
            "📊 Classification Report:\n",
            "               precision    recall  f1-score   support\n",
            "\n",
            "           0       0.96      0.96      0.96       638\n",
            "           1       0.96      0.96      0.96       623\n",
            "\n",
            "    accuracy                           0.96      1261\n",
            "   macro avg       0.96      0.96      0.96      1261\n",
            "weighted avg       0.96      0.96      0.96      1261\n",
            "\n"
          ]
        },
        {
          "output_type": "display_data",
          "data": {
            "text/plain": [
              "<Figure size 640x480 with 2 Axes>"
            ],
            "image/png": "[encoded data removed]"
          },
          "metadata": {}
        }
      ]
    },
    {
      "cell_type": "code",
      "source": [
        "model = Sequential([\n",
        "    Input(shape=(X_train.shape[1], 1)),\n",
        "\n",
        "    Conv1D(64, kernel_size=3, activation='relu'),\n",
        "    MaxPooling1D(pool_size=2),\n",
        "    Dropout(0.2),\n",
        "\n",
        "    Conv1D(128, kernel_size=3, activation='relu'),\n",
        "    MaxPooling1D(pool_size=2),\n",
        "    Dropout(0.2),\n",
        "\n",
        "    Flatten(),\n",
        "    Dense(64, activation='relu'),\n",
        "    Dropout(0.3),\n",
        "\n",
        "    Dense(2, activation='softmax')  # Binary classification\n",
        "])\n",
        "\n",
        "# Compile model\n",
        "model.compile(optimizer=Adam(learning_rate=1e-4), loss='categorical_crossentropy', metrics=['accuracy'])\n",
        "model.summary()"
      ],
      "metadata": {
        "colab": {
          "base_uri": "https://localhost:8080/",
          "height": 463
        },
        "id": "dk1AJ3aUnN72",
        "outputId": "017e473b-fa84-44cb-a9d9-bbe00ac40875"
      },
      "execution_count": null,
      "outputs": [
        {
          "output_type": "display_data",
          "data": {
            "text/plain": [
              "\u001b[1mModel: \"sequential_1\"\u001b[0m\n"
            ],
            "text/html": [
              "<pre style=\"white-space:pre;overflow-x:auto;line-height:normal;font-family:Menlo,'DejaVu Sans Mono',consolas,'Courier New',monospace\"><span style=\"font-weight: bold\">Model: \"sequential_1\"</span>\n",
              "</pre>\n"
            ]
          },
          "metadata": {}
        },
        {
          "output_type": "display_data",
          "data": {
            "text/plain": [
              "┏━━━━━━━━━━━━━━━━━━━━━━━━━━━━━━━━━┳━━━━━━━━━━━━━━━━━━━━━━━━┳━━━━━━━━━━━━━━━┓\n",
              "┃\u001b[1m \u001b[0m\u001b[1mLayer (type)                   \u001b[0m\u001b[1m \u001b[0m┃\u001b[1m \u001b[0m\u001b[1mOutput Shape          \u001b[0m\u001b[1m \u001b[0m┃\u001b[1m \u001b[0m\u001b[1m      Param #\u001b[0m\u001b[1m \u001b[0m┃\n",
              "┡━━━━━━━━━━━━━━━━━━━━━━━━━━━━━━━━━╇━━━━━━━━━━━━━━━━━━━━━━━━╇━━━━━━━━━━━━━━━┩\n",
              "│ conv1d_2 (\u001b[38;5;33mConv1D\u001b[0m)               │ (\u001b[38;5;45mNone\u001b[0m, \u001b[38;5;34m46\u001b[0m, \u001b[38;5;34m64\u001b[0m)         │           \u001b[38;5;34m256\u001b[0m │\n",
              "├─────────────────────────────────┼────────────────────────┼───────────────┤\n",
              "│ max_pooling1d_2 (\u001b[38;5;33mMaxPooling1D\u001b[0m)  │ (\u001b[38;5;45mNone\u001b[0m, \u001b[38;5;34m23\u001b[0m, \u001b[38;5;34m64\u001b[0m)         │             \u001b[38;5;34m0\u001b[0m │\n",
              "├─────────────────────────────────┼────────────────────────┼───────────────┤\n",
              "│ dropout_3 (\u001b[38;5;33mDropout\u001b[0m)             │ (\u001b[38;5;45mNone\u001b[0m, \u001b[38;5;34m23\u001b[0m, \u001b[38;5;34m64\u001b[0m)         │             \u001b[38;5;34m0\u001b[0m │\n",
              "├─────────────────────────────────┼────────────────────────┼───────────────┤\n",
              "│ conv1d_3 (\u001b[38;5;33mConv1D\u001b[0m)               │ (\u001b[38;5;45mNone\u001b[0m, \u001b[38;5;34m21\u001b[0m, \u001b[38;5;34m128\u001b[0m)        │        \u001b[38;5;34m24,704\u001b[0m │\n",
              "├─────────────────────────────────┼────────────────────────┼───────────────┤\n",
              "│ max_pooling1d_3 (\u001b[38;5;33mMaxPooling1D\u001b[0m)  │ (\u001b[38;5;45mNone\u001b[0m, \u001b[38;5;34m10\u001b[0m, \u001b[38;5;34m128\u001b[0m)        │             \u001b[38;5;34m0\u001b[0m │\n",
              "├─────────────────────────────────┼────────────────────────┼───────────────┤\n",
              "│ dropout_4 (\u001b[38;5;33mDropout\u001b[0m)             │ (\u001b[38;5;45mNone\u001b[0m, \u001b[38;5;34m10\u001b[0m, \u001b[38;5;34m128\u001b[0m)        │             \u001b[38;5;34m0\u001b[0m │\n",
              "├─────────────────────────────────┼────────────────────────┼───────────────┤\n",
              "│ flatten_1 (\u001b[38;5;33mFlatten\u001b[0m)             │ (\u001b[38;5;45mNone\u001b[0m, \u001b[38;5;34m1280\u001b[0m)           │             \u001b[38;5;34m0\u001b[0m │\n",
              "├─────────────────────────────────┼────────────────────────┼───────────────┤\n",
              "│ dense_2 (\u001b[38;5;33mDense\u001b[0m)                 │ (\u001b[38;5;45mNone\u001b[0m, \u001b[38;5;34m64\u001b[0m)             │        \u001b[38;5;34m81,984\u001b[0m │\n",
              "├─────────────────────────────────┼────────────────────────┼───────────────┤\n",
              "│ dropout_5 (\u001b[38;5;33mDropout\u001b[0m)             │ (\u001b[38;5;45mNone\u001b[0m, \u001b[38;5;34m64\u001b[0m)             │             \u001b[38;5;34m0\u001b[0m │\n",
              "├─────────────────────────────────┼────────────────────────┼───────────────┤\n",
              "│ dense_3 (\u001b[38;5;33mDense\u001b[0m)                 │ (\u001b[38;5;45mNone\u001b[0m, \u001b[38;5;34m2\u001b[0m)              │           \u001b[38;5;34m130\u001b[0m │\n",
              "└─────────────────────────────────┴────────────────────────┴───────────────┘\n"
            ],
            "text/html": [
              "<pre style=\"white-space:pre;overflow-x:auto;line-height:normal;font-family:Menlo,'DejaVu Sans Mono',consolas,'Courier New',monospace\">┏━━━━━━━━━━━━━━━━━━━━━━━━━━━━━━━━━┳━━━━━━━━━━━━━━━━━━━━━━━━┳━━━━━━━━━━━━━━━┓\n",
              "┃<span style=\"font-weight: bold\"> Layer (type)                    </span>┃<span style=\"font-weight: bold\"> Output Shape           </span>┃<span style=\"font-weight: bold\">       Param # </span>┃\n",
              "┡━━━━━━━━━━━━━━━━━━━━━━━━━━━━━━━━━╇━━━━━━━━━━━━━━━━━━━━━━━━╇━━━━━━━━━━━━━━━┩\n",
              "│ conv1d_2 (<span style=\"color: #0087ff; text-decoration-color: #0087ff\">Conv1D</span>)               │ (<span style=\"color: #00d7ff; text-decoration-color: #00d7ff\">None</span>, <span style=\"color: #00af00; text-decoration-color: #00af00\">46</span>, <span style=\"color: #00af00; text-decoration-color: #00af00\">64</span>)         │           <span style=\"color: #00af00; text-decoration-color: #00af00\">256</span> │\n",
              "├─────────────────────────────────┼────────────────────────┼───────────────┤\n",
              "│ max_pooling1d_2 (<span style=\"color: #0087ff; text-decoration-color: #0087ff\">MaxPooling1D</span>)  │ (<span style=\"color: #00d7ff; text-decoration-color: #00d7ff\">None</span>, <span style=\"color: #00af00; text-decoration-color: #00af00\">23</span>, <span style=\"color: #00af00; text-decoration-color: #00af00\">64</span>)         │             <span style=\"color: #00af00; text-decoration-color: #00af00\">0</span> │\n",
              "├─────────────────────────────────┼────────────────────────┼───────────────┤\n",
              "│ dropout_3 (<span style=\"color: #0087ff; text-decoration-color: #0087ff\">Dropout</span>)             │ (<span style=\"color: #00d7ff; text-decoration-color: #00d7ff\">None</span>, <span style=\"color: #00af00; text-decoration-color: #00af00\">23</span>, <span style=\"color: #00af00; text-decoration-color: #00af00\">64</span>)         │             <span style=\"color: #00af00; text-decoration-color: #00af00\">0</span> │\n",
              "├─────────────────────────────────┼────────────────────────┼───────────────┤\n",
              "│ conv1d_3 (<span style=\"color: #0087ff; text-decoration-color: #0087ff\">Conv1D</span>)               │ (<span style=\"color: #00d7ff; text-decoration-color: #00d7ff\">None</span>, <span style=\"color: #00af00; text-decoration-color: #00af00\">21</span>, <span style=\"color: #00af00; text-decoration-color: #00af00\">128</span>)        │        <span style=\"color: #00af00; text-decoration-color: #00af00\">24,704</span> │\n",
              "├─────────────────────────────────┼────────────────────────┼───────────────┤\n",
              "│ max_pooling1d_3 (<span style=\"color: #0087ff; text-decoration-color: #0087ff\">MaxPooling1D</span>)  │ (<span style=\"color: #00d7ff; text-decoration-color: #00d7ff\">None</span>, <span style=\"color: #00af00; text-decoration-color: #00af00\">10</span>, <span style=\"color: #00af00; text-decoration-color: #00af00\">128</span>)        │             <span style=\"color: #00af00; text-decoration-color: #00af00\">0</span> │\n",
              "├─────────────────────────────────┼────────────────────────┼───────────────┤\n",
              "│ dropout_4 (<span style=\"color: #0087ff; text-decoration-color: #0087ff\">Dropout</span>)             │ (<span style=\"color: #00d7ff; text-decoration-color: #00d7ff\">None</span>, <span style=\"color: #00af00; text-decoration-color: #00af00\">10</span>, <span style=\"color: #00af00; text-decoration-color: #00af00\">128</span>)        │             <span style=\"color: #00af00; text-decoration-color: #00af00\">0</span> │\n",
              "├─────────────────────────────────┼────────────────────────┼───────────────┤\n",
              "│ flatten_1 (<span style=\"color: #0087ff; text-decoration-color: #0087ff\">Flatten</span>)             │ (<span style=\"color: #00d7ff; text-decoration-color: #00d7ff\">None</span>, <span style=\"color: #00af00; text-decoration-color: #00af00\">1280</span>)           │             <span style=\"color: #00af00; text-decoration-color: #00af00\">0</span> │\n",
              "├─────────────────────────────────┼────────────────────────┼───────────────┤\n",
              "│ dense_2 (<span style=\"color: #0087ff; text-decoration-color: #0087ff\">Dense</span>)                 │ (<span style=\"color: #00d7ff; text-decoration-color: #00d7ff\">None</span>, <span style=\"color: #00af00; text-decoration-color: #00af00\">64</span>)             │        <span style=\"color: #00af00; text-decoration-color: #00af00\">81,984</span> │\n",
              "├─────────────────────────────────┼────────────────────────┼───────────────┤\n",
              "│ dropout_5 (<span style=\"color: #0087ff; text-decoration-color: #0087ff\">Dropout</span>)             │ (<span style=\"color: #00d7ff; text-decoration-color: #00d7ff\">None</span>, <span style=\"color: #00af00; text-decoration-color: #00af00\">64</span>)             │             <span style=\"color: #00af00; text-decoration-color: #00af00\">0</span> │\n",
              "├─────────────────────────────────┼────────────────────────┼───────────────┤\n",
              "│ dense_3 (<span style=\"color: #0087ff; text-decoration-color: #0087ff\">Dense</span>)                 │ (<span style=\"color: #00d7ff; text-decoration-color: #00d7ff\">None</span>, <span style=\"color: #00af00; text-decoration-color: #00af00\">2</span>)              │           <span style=\"color: #00af00; text-decoration-color: #00af00\">130</span> │\n",
              "└─────────────────────────────────┴────────────────────────┴───────────────┘\n",
              "</pre>\n"
            ]
          },
          "metadata": {}
        },
        {
          "output_type": "display_data",
          "data": {
            "text/plain": [
              "\u001b[1m Total params: \u001b[0m\u001b[38;5;34m107,074\u001b[0m (418.26 KB)\n"
            ],
            "text/html": [
              "<pre style=\"white-space:pre;overflow-x:auto;line-height:normal;font-family:Menlo,'DejaVu Sans Mono',consolas,'Courier New',monospace\"><span style=\"font-weight: bold\"> Total params: </span><span style=\"color: #00af00; text-decoration-color: #00af00\">107,074</span> (418.26 KB)\n",
              "</pre>\n"
            ]
          },
          "metadata": {}
        },
        {
          "output_type": "display_data",
          "data": {
            "text/plain": [
              "\u001b[1m Trainable params: \u001b[0m\u001b[38;5;34m107,074\u001b[0m (418.26 KB)\n"
            ],
            "text/html": [
              "<pre style=\"white-space:pre;overflow-x:auto;line-height:normal;font-family:Menlo,'DejaVu Sans Mono',consolas,'Courier New',monospace\"><span style=\"font-weight: bold\"> Trainable params: </span><span style=\"color: #00af00; text-decoration-color: #00af00\">107,074</span> (418.26 KB)\n",
              "</pre>\n"
            ]
          },
          "metadata": {}
        },
        {
          "output_type": "display_data",
          "data": {
            "text/plain": [
              "\u001b[1m Non-trainable params: \u001b[0m\u001b[38;5;34m0\u001b[0m (0.00 B)\n"
            ],
            "text/html": [
              "<pre style=\"white-space:pre;overflow-x:auto;line-height:normal;font-family:Menlo,'DejaVu Sans Mono',consolas,'Courier New',monospace\"><span style=\"font-weight: bold\"> Non-trainable params: </span><span style=\"color: #00af00; text-decoration-color: #00af00\">0</span> (0.00 B)\n",
              "</pre>\n"
            ]
          },
          "metadata": {}
        }
      ]
    },
    {
      "cell_type": "code",
      "source": [
        "early_stop = EarlyStopping(monitor='val_loss', patience=5, restore_best_weights=True, verbose=1)\n",
        "reduce_lr = ReduceLROnPlateau(monitor='val_loss', factor=0.5, patience=5, min_lr=1e-6, verbose=1)\n",
        "\n",
        "history = model.fit(\n",
        "    X_train, y_train,\n",
        "    validation_split=0.2,\n",
        "    epochs=100,\n",
        "    batch_size=32,\n",
        "    callbacks=[early_stop, reduce_lr]\n",
        ")"
      ],
      "metadata": {
        "colab": {
          "base_uri": "https://localhost:8080/"
        },
        "id": "2lf2SwdEnTWA",
        "outputId": "843a8bc3-cf2f-469f-af04-01474791dbe0"
      },
      "execution_count": null,
      "outputs": [
        {
          "output_type": "stream",
          "name": "stdout",
          "text": [
            "Epoch 1/100\n",
            "\u001b[1m126/126\u001b[0m \u001b[32m━━━━━━━━━━━━━━━━━━━━\u001b[0m\u001b[37m\u001b[0m \u001b[1m4s\u001b[0m 12ms/step - accuracy: 0.7450 - loss: 0.5813 - val_accuracy: 0.8661 - val_loss: 0.3620 - learning_rate: 1.0000e-04\n",
            "Epoch 2/100\n",
            "\u001b[1m126/126\u001b[0m \u001b[32m━━━━━━━━━━━━━━━━━━━━\u001b[0m\u001b[37m\u001b[0m \u001b[1m1s\u001b[0m 11ms/step - accuracy: 0.8748 - loss: 0.3476 - val_accuracy: 0.8829 - val_loss: 0.3075 - learning_rate: 1.0000e-04\n",
            "Epoch 3/100\n",
            "\u001b[1m126/126\u001b[0m \u001b[32m━━━━━━━━━━━━━━━━━━━━\u001b[0m\u001b[37m\u001b[0m \u001b[1m1s\u001b[0m 11ms/step - accuracy: 0.8721 - loss: 0.3322 - val_accuracy: 0.8919 - val_loss: 0.2793 - learning_rate: 1.0000e-04\n",
            "Epoch 4/100\n",
            "\u001b[1m126/126\u001b[0m \u001b[32m━━━━━━━━━━━━━━━━━━━━\u001b[0m\u001b[37m\u001b[0m \u001b[1m1s\u001b[0m 11ms/step - accuracy: 0.9021 - loss: 0.2805 - val_accuracy: 0.9028 - val_loss: 0.2578 - learning_rate: 1.0000e-04\n",
            "Epoch 5/100\n",
            "\u001b[1m126/126\u001b[0m \u001b[32m━━━━━━━━━━━━━━━━━━━━\u001b[0m\u001b[37m\u001b[0m \u001b[1m3s\u001b[0m 18ms/step - accuracy: 0.8910 - loss: 0.2696 - val_accuracy: 0.9087 - val_loss: 0.2354 - learning_rate: 1.0000e-04\n",
            "Epoch 6/100\n",
            "\u001b[1m126/126\u001b[0m \u001b[32m━━━━━━━━━━━━━━━━━━━━\u001b[0m\u001b[37m\u001b[0m \u001b[1m1s\u001b[0m 11ms/step - accuracy: 0.9070 - loss: 0.2361 - val_accuracy: 0.9117 - val_loss: 0.2201 - learning_rate: 1.0000e-04\n",
            "Epoch 7/100\n",
            "\u001b[1m126/126\u001b[0m \u001b[32m━━━━━━━━━━━━━━━━━━━━\u001b[0m\u001b[37m\u001b[0m \u001b[1m1s\u001b[0m 11ms/step - accuracy: 0.9090 - loss: 0.2291 - val_accuracy: 0.9157 - val_loss: 0.2044 - learning_rate: 1.0000e-04\n",
            "Epoch 8/100\n",
            "\u001b[1m126/126\u001b[0m \u001b[32m━━━━━━━━━━━━━━━━━━━━\u001b[0m\u001b[37m\u001b[0m \u001b[1m3s\u001b[0m 11ms/step - accuracy: 0.9140 - loss: 0.2157 - val_accuracy: 0.9196 - val_loss: 0.1943 - learning_rate: 1.0000e-04\n",
            "Epoch 9/100\n",
            "\u001b[1m126/126\u001b[0m \u001b[32m━━━━━━━━━━━━━━━━━━━━\u001b[0m\u001b[37m\u001b[0m \u001b[1m1s\u001b[0m 11ms/step - accuracy: 0.9222 - loss: 0.1896 - val_accuracy: 0.9216 - val_loss: 0.1916 - learning_rate: 1.0000e-04\n",
            "Epoch 10/100\n",
            "\u001b[1m126/126\u001b[0m \u001b[32m━━━━━━━━━━━━━━━━━━━━\u001b[0m\u001b[37m\u001b[0m \u001b[1m3s\u001b[0m 11ms/step - accuracy: 0.9267 - loss: 0.1846 - val_accuracy: 0.9335 - val_loss: 0.1751 - learning_rate: 1.0000e-04\n",
            "Epoch 11/100\n",
            "\u001b[1m126/126\u001b[0m \u001b[32m━━━━━━━━━━━━━━━━━━━━\u001b[0m\u001b[37m\u001b[0m \u001b[1m2s\u001b[0m 13ms/step - accuracy: 0.9208 - loss: 0.1943 - val_accuracy: 0.9345 - val_loss: 0.1693 - learning_rate: 1.0000e-04\n",
            "Epoch 12/100\n",
            "\u001b[1m126/126\u001b[0m \u001b[32m━━━━━━━━━━━━━━━━━━━━\u001b[0m\u001b[37m\u001b[0m \u001b[1m3s\u001b[0m 17ms/step - accuracy: 0.9264 - loss: 0.1786 - val_accuracy: 0.9365 - val_loss: 0.1619 - learning_rate: 1.0000e-04\n",
            "Epoch 13/100\n",
            "\u001b[1m126/126\u001b[0m \u001b[32m━━━━━━━━━━━━━━━━━━━━\u001b[0m\u001b[37m\u001b[0m \u001b[1m2s\u001b[0m 11ms/step - accuracy: 0.9296 - loss: 0.1674 - val_accuracy: 0.9385 - val_loss: 0.1568 - learning_rate: 1.0000e-04\n",
            "Epoch 14/100\n",
            "\u001b[1m126/126\u001b[0m \u001b[32m━━━━━━━━━━━━━━━━━━━━\u001b[0m\u001b[37m\u001b[0m \u001b[1m1s\u001b[0m 11ms/step - accuracy: 0.9296 - loss: 0.1629 - val_accuracy: 0.9415 - val_loss: 0.1521 - learning_rate: 1.0000e-04\n",
            "Epoch 15/100\n",
            "\u001b[1m126/126\u001b[0m \u001b[32m━━━━━━━━━━━━━━━━━━━━\u001b[0m\u001b[37m\u001b[0m \u001b[1m2s\u001b[0m 15ms/step - accuracy: 0.9234 - loss: 0.1623 - val_accuracy: 0.9415 - val_loss: 0.1452 - learning_rate: 1.0000e-04\n",
            "Epoch 16/100\n",
            "\u001b[1m126/126\u001b[0m \u001b[32m━━━━━━━━━━━━━━━━━━━━\u001b[0m\u001b[37m\u001b[0m \u001b[1m3s\u001b[0m 17ms/step - accuracy: 0.9434 - loss: 0.1420 - val_accuracy: 0.9474 - val_loss: 0.1415 - learning_rate: 1.0000e-04\n",
            "Epoch 17/100\n",
            "\u001b[1m126/126\u001b[0m \u001b[32m━━━━━━━━━━━━━━━━━━━━\u001b[0m\u001b[37m\u001b[0m \u001b[1m1s\u001b[0m 11ms/step - accuracy: 0.9403 - loss: 0.1416 - val_accuracy: 0.9435 - val_loss: 0.1443 - learning_rate: 1.0000e-04\n",
            "Epoch 18/100\n",
            "\u001b[1m126/126\u001b[0m \u001b[32m━━━━━━━━━━━━━━━━━━━━\u001b[0m\u001b[37m\u001b[0m \u001b[1m2s\u001b[0m 16ms/step - accuracy: 0.9391 - loss: 0.1397 - val_accuracy: 0.9484 - val_loss: 0.1358 - learning_rate: 1.0000e-04\n",
            "Epoch 19/100\n",
            "\u001b[1m126/126\u001b[0m \u001b[32m━━━━━━━━━━━━━━━━━━━━\u001b[0m\u001b[37m\u001b[0m \u001b[1m2s\u001b[0m 18ms/step - accuracy: 0.9390 - loss: 0.1415 - val_accuracy: 0.9514 - val_loss: 0.1322 - learning_rate: 1.0000e-04\n",
            "Epoch 20/100\n",
            "\u001b[1m126/126\u001b[0m \u001b[32m━━━━━━━━━━━━━━━━━━━━\u001b[0m\u001b[37m\u001b[0m \u001b[1m1s\u001b[0m 11ms/step - accuracy: 0.9477 - loss: 0.1309 - val_accuracy: 0.9524 - val_loss: 0.1303 - learning_rate: 1.0000e-04\n",
            "Epoch 21/100\n",
            "\u001b[1m126/126\u001b[0m \u001b[32m━━━━━━━━━━━━━━━━━━━━\u001b[0m\u001b[37m\u001b[0m \u001b[1m2s\u001b[0m 11ms/step - accuracy: 0.9424 - loss: 0.1359 - val_accuracy: 0.9524 - val_loss: 0.1272 - learning_rate: 1.0000e-04\n",
            "Epoch 22/100\n",
            "\u001b[1m126/126\u001b[0m \u001b[32m━━━━━━━━━━━━━━━━━━━━\u001b[0m\u001b[37m\u001b[0m \u001b[1m3s\u001b[0m 10ms/step - accuracy: 0.9545 - loss: 0.1194 - val_accuracy: 0.9583 - val_loss: 0.1247 - learning_rate: 1.0000e-04\n",
            "Epoch 23/100\n",
            "\u001b[1m126/126\u001b[0m \u001b[32m━━━━━━━━━━━━━━━━━━━━\u001b[0m\u001b[37m\u001b[0m \u001b[1m1s\u001b[0m 11ms/step - accuracy: 0.9541 - loss: 0.1166 - val_accuracy: 0.9554 - val_loss: 0.1229 - learning_rate: 1.0000e-04\n",
            "Epoch 24/100\n",
            "\u001b[1m126/126\u001b[0m \u001b[32m━━━━━━━━━━━━━━━━━━━━\u001b[0m\u001b[37m\u001b[0m \u001b[1m3s\u001b[0m 11ms/step - accuracy: 0.9519 - loss: 0.1168 - val_accuracy: 0.9583 - val_loss: 0.1213 - learning_rate: 1.0000e-04\n",
            "Epoch 25/100\n",
            "\u001b[1m126/126\u001b[0m \u001b[32m━━━━━━━━━━━━━━━━━━━━\u001b[0m\u001b[37m\u001b[0m \u001b[1m3s\u001b[0m 17ms/step - accuracy: 0.9442 - loss: 0.1212 - val_accuracy: 0.9544 - val_loss: 0.1201 - learning_rate: 1.0000e-04\n",
            "Epoch 26/100\n",
            "\u001b[1m126/126\u001b[0m \u001b[32m━━━━━━━━━━━━━━━━━━━━\u001b[0m\u001b[37m\u001b[0m \u001b[1m1s\u001b[0m 11ms/step - accuracy: 0.9512 - loss: 0.1234 - val_accuracy: 0.9563 - val_loss: 0.1196 - learning_rate: 1.0000e-04\n",
            "Epoch 27/100\n",
            "\u001b[1m126/126\u001b[0m \u001b[32m━━━━━━━━━━━━━━━━━━━━\u001b[0m\u001b[37m\u001b[0m \u001b[1m3s\u001b[0m 11ms/step - accuracy: 0.9436 - loss: 0.1248 - val_accuracy: 0.9573 - val_loss: 0.1140 - learning_rate: 1.0000e-04\n",
            "Epoch 28/100\n",
            "\u001b[1m126/126\u001b[0m \u001b[32m━━━━━━━━━━━━━━━━━━━━\u001b[0m\u001b[37m\u001b[0m \u001b[1m3s\u001b[0m 11ms/step - accuracy: 0.9566 - loss: 0.1111 - val_accuracy: 0.9554 - val_loss: 0.1154 - learning_rate: 1.0000e-04\n",
            "Epoch 29/100\n",
            "\u001b[1m126/126\u001b[0m \u001b[32m━━━━━━━━━━━━━━━━━━━━\u001b[0m\u001b[37m\u001b[0m \u001b[1m1s\u001b[0m 11ms/step - accuracy: 0.9560 - loss: 0.1155 - val_accuracy: 0.9583 - val_loss: 0.1117 - learning_rate: 1.0000e-04\n",
            "Epoch 30/100\n",
            "\u001b[1m126/126\u001b[0m \u001b[32m━━━━━━━━━━━━━━━━━━━━\u001b[0m\u001b[37m\u001b[0m \u001b[1m1s\u001b[0m 11ms/step - accuracy: 0.9489 - loss: 0.1147 - val_accuracy: 0.9593 - val_loss: 0.1117 - learning_rate: 1.0000e-04\n",
            "Epoch 31/100\n",
            "\u001b[1m126/126\u001b[0m \u001b[32m━━━━━━━━━━━━━━━━━━━━\u001b[0m\u001b[37m\u001b[0m \u001b[1m3s\u001b[0m 18ms/step - accuracy: 0.9598 - loss: 0.1018 - val_accuracy: 0.9603 - val_loss: 0.1095 - learning_rate: 1.0000e-04\n",
            "Epoch 32/100\n",
            "\u001b[1m126/126\u001b[0m \u001b[32m━━━━━━━━━━━━━━━━━━━━\u001b[0m\u001b[37m\u001b[0m \u001b[1m2s\u001b[0m 14ms/step - accuracy: 0.9571 - loss: 0.0997 - val_accuracy: 0.9603 - val_loss: 0.1090 - learning_rate: 1.0000e-04\n",
            "Epoch 33/100\n",
            "\u001b[1m126/126\u001b[0m \u001b[32m━━━━━━━━━━━━━━━━━━━━\u001b[0m\u001b[37m\u001b[0m \u001b[1m1s\u001b[0m 11ms/step - accuracy: 0.9593 - loss: 0.0979 - val_accuracy: 0.9593 - val_loss: 0.1083 - learning_rate: 1.0000e-04\n",
            "Epoch 34/100\n",
            "\u001b[1m126/126\u001b[0m \u001b[32m━━━━━━━━━━━━━━━━━━━━\u001b[0m\u001b[37m\u001b[0m \u001b[1m2s\u001b[0m 11ms/step - accuracy: 0.9544 - loss: 0.1164 - val_accuracy: 0.9623 - val_loss: 0.1094 - learning_rate: 1.0000e-04\n",
            "Epoch 35/100\n",
            "\u001b[1m126/126\u001b[0m \u001b[32m━━━━━━━━━━━━━━━━━━━━\u001b[0m\u001b[37m\u001b[0m \u001b[1m1s\u001b[0m 11ms/step - accuracy: 0.9546 - loss: 0.1020 - val_accuracy: 0.9643 - val_loss: 0.1052 - learning_rate: 1.0000e-04\n",
            "Epoch 36/100\n",
            "\u001b[1m126/126\u001b[0m \u001b[32m━━━━━━━━━━━━━━━━━━━━\u001b[0m\u001b[37m\u001b[0m \u001b[1m3s\u001b[0m 11ms/step - accuracy: 0.9587 - loss: 0.1026 - val_accuracy: 0.9633 - val_loss: 0.1068 - learning_rate: 1.0000e-04\n",
            "Epoch 37/100\n",
            "\u001b[1m126/126\u001b[0m \u001b[32m━━━━━━━━━━━━━━━━━━━━\u001b[0m\u001b[37m\u001b[0m \u001b[1m4s\u001b[0m 24ms/step - accuracy: 0.9485 - loss: 0.1003 - val_accuracy: 0.9643 - val_loss: 0.1057 - learning_rate: 1.0000e-04\n",
            "Epoch 38/100\n",
            "\u001b[1m126/126\u001b[0m \u001b[32m━━━━━━━━━━━━━━━━━━━━\u001b[0m\u001b[37m\u001b[0m \u001b[1m3s\u001b[0m 11ms/step - accuracy: 0.9578 - loss: 0.0960 - val_accuracy: 0.9613 - val_loss: 0.1049 - learning_rate: 1.0000e-04\n",
            "Epoch 39/100\n",
            "\u001b[1m126/126\u001b[0m \u001b[32m━━━━━━━━━━━━━━━━━━━━\u001b[0m\u001b[37m\u001b[0m \u001b[1m3s\u001b[0m 11ms/step - accuracy: 0.9617 - loss: 0.0913 - val_accuracy: 0.9643 - val_loss: 0.1049 - learning_rate: 1.0000e-04\n",
            "Epoch 40/100\n",
            "\u001b[1m126/126\u001b[0m \u001b[32m━━━━━━━━━━━━━━━━━━━━\u001b[0m\u001b[37m\u001b[0m \u001b[1m1s\u001b[0m 11ms/step - accuracy: 0.9584 - loss: 0.0963 - val_accuracy: 0.9633 - val_loss: 0.1058 - learning_rate: 1.0000e-04\n",
            "Epoch 41/100\n",
            "\u001b[1m126/126\u001b[0m \u001b[32m━━━━━━━━━━━━━━━━━━━━\u001b[0m\u001b[37m\u001b[0m \u001b[1m1s\u001b[0m 11ms/step - accuracy: 0.9571 - loss: 0.0970 - val_accuracy: 0.9563 - val_loss: 0.1027 - learning_rate: 1.0000e-04\n",
            "Epoch 42/100\n",
            "\u001b[1m126/126\u001b[0m \u001b[32m━━━━━━━━━━━━━━━━━━━━\u001b[0m\u001b[37m\u001b[0m \u001b[1m3s\u001b[0m 13ms/step - accuracy: 0.9645 - loss: 0.0847 - val_accuracy: 0.9603 - val_loss: 0.1036 - learning_rate: 1.0000e-04\n",
            "Epoch 43/100\n",
            "\u001b[1m126/126\u001b[0m \u001b[32m━━━━━━━━━━━━━━━━━━━━\u001b[0m\u001b[37m\u001b[0m \u001b[1m3s\u001b[0m 17ms/step - accuracy: 0.9693 - loss: 0.0881 - val_accuracy: 0.9643 - val_loss: 0.1012 - learning_rate: 1.0000e-04\n",
            "Epoch 44/100\n",
            "\u001b[1m126/126\u001b[0m \u001b[32m━━━━━━━━━━━━━━━━━━━━\u001b[0m\u001b[37m\u001b[0m \u001b[1m1s\u001b[0m 11ms/step - accuracy: 0.9590 - loss: 0.0987 - val_accuracy: 0.9643 - val_loss: 0.0991 - learning_rate: 1.0000e-04\n",
            "Epoch 45/100\n",
            "\u001b[1m126/126\u001b[0m \u001b[32m━━━━━━━━━━━━━━━━━━━━\u001b[0m\u001b[37m\u001b[0m \u001b[1m3s\u001b[0m 11ms/step - accuracy: 0.9598 - loss: 0.0859 - val_accuracy: 0.9623 - val_loss: 0.1008 - learning_rate: 1.0000e-04\n",
            "Epoch 46/100\n",
            "\u001b[1m126/126\u001b[0m \u001b[32m━━━━━━━━━━━━━━━━━━━━\u001b[0m\u001b[37m\u001b[0m \u001b[1m3s\u001b[0m 11ms/step - accuracy: 0.9618 - loss: 0.0886 - val_accuracy: 0.9633 - val_loss: 0.0977 - learning_rate: 1.0000e-04\n",
            "Epoch 47/100\n",
            "\u001b[1m126/126\u001b[0m \u001b[32m━━━━━━━━━━━━━━━━━━━━\u001b[0m\u001b[37m\u001b[0m \u001b[1m3s\u001b[0m 11ms/step - accuracy: 0.9678 - loss: 0.0769 - val_accuracy: 0.9613 - val_loss: 0.0973 - learning_rate: 1.0000e-04\n",
            "Epoch 48/100\n",
            "\u001b[1m126/126\u001b[0m \u001b[32m━━━━━━━━━━━━━━━━━━━━\u001b[0m\u001b[37m\u001b[0m \u001b[1m3s\u001b[0m 18ms/step - accuracy: 0.9567 - loss: 0.0885 - val_accuracy: 0.9653 - val_loss: 0.0967 - learning_rate: 1.0000e-04\n",
            "Epoch 49/100\n",
            "\u001b[1m126/126\u001b[0m \u001b[32m━━━━━━━━━━━━━━━━━━━━\u001b[0m\u001b[37m\u001b[0m \u001b[1m2s\u001b[0m 15ms/step - accuracy: 0.9672 - loss: 0.0773 - val_accuracy: 0.9603 - val_loss: 0.0963 - learning_rate: 1.0000e-04\n",
            "Epoch 50/100\n",
            "\u001b[1m126/126\u001b[0m \u001b[32m━━━━━━━━━━━━━━━━━━━━\u001b[0m\u001b[37m\u001b[0m \u001b[1m1s\u001b[0m 11ms/step - accuracy: 0.9650 - loss: 0.0851 - val_accuracy: 0.9623 - val_loss: 0.0961 - learning_rate: 1.0000e-04\n",
            "Epoch 51/100\n",
            "\u001b[1m126/126\u001b[0m \u001b[32m━━━━━━━━━━━━━━━━━━━━\u001b[0m\u001b[37m\u001b[0m \u001b[1m1s\u001b[0m 11ms/step - accuracy: 0.9627 - loss: 0.0892 - val_accuracy: 0.9633 - val_loss: 0.0969 - learning_rate: 1.0000e-04\n",
            "Epoch 52/100\n",
            "\u001b[1m126/126\u001b[0m \u001b[32m━━━━━━━━━━━━━━━━━━━━\u001b[0m\u001b[37m\u001b[0m \u001b[1m3s\u001b[0m 11ms/step - accuracy: 0.9650 - loss: 0.0822 - val_accuracy: 0.9643 - val_loss: 0.0948 - learning_rate: 1.0000e-04\n",
            "Epoch 53/100\n",
            "\u001b[1m126/126\u001b[0m \u001b[32m━━━━━━━━━━━━━━━━━━━━\u001b[0m\u001b[37m\u001b[0m \u001b[1m3s\u001b[0m 11ms/step - accuracy: 0.9648 - loss: 0.0810 - val_accuracy: 0.9633 - val_loss: 0.0961 - learning_rate: 1.0000e-04\n",
            "Epoch 54/100\n",
            "\u001b[1m126/126\u001b[0m \u001b[32m━━━━━━━━━━━━━━━━━━━━\u001b[0m\u001b[37m\u001b[0m \u001b[1m1s\u001b[0m 11ms/step - accuracy: 0.9698 - loss: 0.0723 - val_accuracy: 0.9613 - val_loss: 0.0948 - learning_rate: 1.0000e-04\n",
            "Epoch 55/100\n",
            "\u001b[1m126/126\u001b[0m \u001b[32m━━━━━━━━━━━━━━━━━━━━\u001b[0m\u001b[37m\u001b[0m \u001b[1m3s\u001b[0m 18ms/step - accuracy: 0.9723 - loss: 0.0682 - val_accuracy: 0.9623 - val_loss: 0.0995 - learning_rate: 1.0000e-04\n",
            "Epoch 56/100\n",
            "\u001b[1m126/126\u001b[0m \u001b[32m━━━━━━━━━━━━━━━━━━━━\u001b[0m\u001b[37m\u001b[0m \u001b[1m2s\u001b[0m 11ms/step - accuracy: 0.9655 - loss: 0.0803 - val_accuracy: 0.9643 - val_loss: 0.0959 - learning_rate: 1.0000e-04\n",
            "Epoch 57/100\n",
            "\u001b[1m126/126\u001b[0m \u001b[32m━━━━━━━━━━━━━━━━━━━━\u001b[0m\u001b[37m\u001b[0m \u001b[1m1s\u001b[0m 11ms/step - accuracy: 0.9702 - loss: 0.0766 - val_accuracy: 0.9603 - val_loss: 0.0934 - learning_rate: 1.0000e-04\n",
            "Epoch 58/100\n",
            "\u001b[1m126/126\u001b[0m \u001b[32m━━━━━━━━━━━━━━━━━━━━\u001b[0m\u001b[37m\u001b[0m \u001b[1m2s\u001b[0m 12ms/step - accuracy: 0.9716 - loss: 0.0719 - val_accuracy: 0.9683 - val_loss: 0.0922 - learning_rate: 1.0000e-04\n",
            "Epoch 59/100\n",
            "\u001b[1m126/126\u001b[0m \u001b[32m━━━━━━━━━━━━━━━━━━━━\u001b[0m\u001b[37m\u001b[0m \u001b[1m2s\u001b[0m 11ms/step - accuracy: 0.9648 - loss: 0.0790 - val_accuracy: 0.9623 - val_loss: 0.0929 - learning_rate: 1.0000e-04\n",
            "Epoch 60/100\n",
            "\u001b[1m126/126\u001b[0m \u001b[32m━━━━━━━━━━━━━━━━━━━━\u001b[0m\u001b[37m\u001b[0m \u001b[1m1s\u001b[0m 11ms/step - accuracy: 0.9702 - loss: 0.0717 - val_accuracy: 0.9663 - val_loss: 0.0914 - learning_rate: 1.0000e-04\n",
            "Epoch 61/100\n",
            "\u001b[1m126/126\u001b[0m \u001b[32m━━━━━━━━━━━━━━━━━━━━\u001b[0m\u001b[37m\u001b[0m \u001b[1m3s\u001b[0m 15ms/step - accuracy: 0.9740 - loss: 0.0661 - val_accuracy: 0.9653 - val_loss: 0.0915 - learning_rate: 1.0000e-04\n",
            "Epoch 62/100\n",
            "\u001b[1m126/126\u001b[0m \u001b[32m━━━━━━━━━━━━━━━━━━━━\u001b[0m\u001b[37m\u001b[0m \u001b[1m3s\u001b[0m 17ms/step - accuracy: 0.9744 - loss: 0.0701 - val_accuracy: 0.9633 - val_loss: 0.0928 - learning_rate: 1.0000e-04\n",
            "Epoch 63/100\n",
            "\u001b[1m126/126\u001b[0m \u001b[32m━━━━━━━━━━━━━━━━━━━━\u001b[0m\u001b[37m\u001b[0m \u001b[1m2s\u001b[0m 11ms/step - accuracy: 0.9647 - loss: 0.0752 - val_accuracy: 0.9623 - val_loss: 0.0925 - learning_rate: 1.0000e-04\n",
            "Epoch 64/100\n",
            "\u001b[1m126/126\u001b[0m \u001b[32m━━━━━━━━━━━━━━━━━━━━\u001b[0m\u001b[37m\u001b[0m \u001b[1m1s\u001b[0m 11ms/step - accuracy: 0.9700 - loss: 0.0721 - val_accuracy: 0.9633 - val_loss: 0.0920 - learning_rate: 1.0000e-04\n",
            "Epoch 65/100\n",
            "\u001b[1m123/126\u001b[0m \u001b[32m━━━━━━━━━━━━━━━━━━━\u001b[0m\u001b[37m━\u001b[0m \u001b[1m0s\u001b[0m 10ms/step - accuracy: 0.9720 - loss: 0.0717\n",
            "Epoch 65: ReduceLROnPlateau reducing learning rate to 4.999999873689376e-05.\n",
            "\u001b[1m126/126\u001b[0m \u001b[32m━━━━━━━━━━━━━━━━━━━━\u001b[0m\u001b[37m\u001b[0m \u001b[1m1s\u001b[0m 11ms/step - accuracy: 0.9719 - loss: 0.0717 - val_accuracy: 0.9573 - val_loss: 0.0938 - learning_rate: 1.0000e-04\n",
            "Epoch 65: early stopping\n",
            "Restoring model weights from the end of the best epoch: 60.\n"
          ]
        }
      ]
    },
    {
      "cell_type": "code",
      "source": [
        "plt.figure(figsize=(12,5))\n",
        "\n",
        "plt.subplot(1, 2, 1)\n",
        "plt.plot(history.history['loss'], label='Train Loss')\n",
        "plt.plot(history.history['val_loss'], label='Val Loss')\n",
        "plt.xlabel('Epochs'); plt.ylabel('Loss'); plt.title('Loss Curve')\n",
        "plt.legend(); plt.grid()\n",
        "\n",
        "plt.subplot(1, 2, 2)\n",
        "plt.plot(history.history['accuracy'], label='Train Acc')\n",
        "plt.plot(history.history['val_accuracy'], label='Val Acc')\n",
        "plt.xlabel('Epochs'); plt.ylabel('Accuracy'); plt.title('Accuracy Curve')\n",
        "plt.legend(); plt.grid()\n",
        "\n",
        "plt.tight_layout()\n",
        "plt.show()"
      ],
      "metadata": {
        "colab": {
          "base_uri": "https://localhost:8080/",
          "height": 507
        },
        "id": "5J4x3907oB9r",
        "outputId": "fc7a5f92-bb45-4327-892e-36f4a8d5e14f"
      },
      "execution_count": null,
      "outputs": [
        {
          "output_type": "display_data",
          "data": {
            "text/plain": [
              "<Figure size 1200x500 with 2 Axes>"
            ],
            "image/png": "[encoded data removed]"
          },
          "metadata": {}
        }
      ]
    },
    {
      "cell_type": "code",
      "source": [
        "# Predict\n",
        "y_pred_probs = model.predict(X_test)\n",
        "y_pred = np.argmax(y_pred_probs, axis=1)\n",
        "y_true = np.argmax(y_test, axis=1)\n",
        "\n",
        "# Report\n",
        "print(\"📊 Classification Report:\\n\", classification_report(y_true, y_pred))\n",
        "\n",
        "# Confusion Matrix\n",
        "cm = confusion_matrix(y_true, y_pred)\n",
        "sns.heatmap(cm, annot=True, fmt='d', cmap='Blues')\n",
        "plt.xlabel(\"Predicted\")\n",
        "plt.ylabel(\"Actual\")\n",
        "plt.title(\"Confusion Matrix\")\n",
        "plt.show()"
      ],
      "metadata": {
        "colab": {
          "base_uri": "https://localhost:8080/",
          "height": 668
        },
        "id": "vNN-CCthoM0a",
        "outputId": "b644ea07-72e7-4283-9944-9eb71e892e44"
      },
      "execution_count": null,
      "outputs": [
        {
          "output_type": "stream",
          "name": "stdout",
          "text": [
            "\u001b[1m40/40\u001b[0m \u001b[32m━━━━━━━━━━━━━━━━━━━━\u001b[0m\u001b[37m\u001b[0m \u001b[1m0s\u001b[0m 5ms/step\n",
            "📊 Classification Report:\n",
            "               precision    recall  f1-score   support\n",
            "\n",
            "           0       0.95      0.96      0.96       638\n",
            "           1       0.96      0.95      0.95       623\n",
            "\n",
            "    accuracy                           0.96      1261\n",
            "   macro avg       0.96      0.96      0.96      1261\n",
            "weighted avg       0.96      0.96      0.96      1261\n",
            "\n"
          ]
        },
        {
          "output_type": "display_data",
          "data": {
            "text/plain": [
              "<Figure size 640x480 with 2 Axes>"
            ],
            "image/png": "[encoded data removed]"
          },
          "metadata": {}
        }
      ]
    }
  ]
}