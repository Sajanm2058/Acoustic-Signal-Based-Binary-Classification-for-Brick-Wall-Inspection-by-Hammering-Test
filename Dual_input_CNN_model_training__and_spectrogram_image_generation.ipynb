{
  "nbformat": 4,
  "nbformat_minor": 0,
  "metadata": {
    "colab": {
      "provenance": [],
      "gpuType": "V28",
      "mount_file_id": "1RotxCQr1IhAkhas940GVV0nY-FAVRU80",
      "authorship_tag": "ABX9TyOn+/aY6GrUEFY4XbHe59TF",
      "include_colab_link": true
    },
    "kernelspec": {
      "name": "python3",
      "display_name": "Python 3"
    },
    "language_info": {
      "name": "python"
    },
    "accelerator": "TPU"
  },
  "cells": [
    {
      "cell_type": "markdown",
      "metadata": {
        "id": "view-in-github",
        "colab_type": "text"
      },
      "source": [
        "<a href=\"https://colab.research.google.com/github/Sajanm2058/Acoustic-Signal-Based-Binary-Classification-for-Brick-Wall-Inspection-by-Hammering-Test/blob/main/Dual_input_CNN_model_training__and_spectrogram_image_generation.ipynb\" target=\"_parent\"><img src=\"https://colab.research.google.com/assets/colab-badge.svg\" alt=\"Open In Colab\"/></a>"
      ]
    },
    {
      "cell_type": "code",
      "execution_count": null,
      "metadata": {
        "colab": {
          "base_uri": "https://localhost:8080/"
        },
        "id": "yEK4aAjNeZSC",
        "outputId": "f94bb508-ca01-47ae-a31d-22981f12f470"
      },
      "outputs": [
        {
          "output_type": "stream",
          "name": "stderr",
          "text": [
            "Processing G_hit:   0%|          | 0/3111 [00:00<?, ?it/s]/usr/local/lib/python3.11/dist-packages/librosa/core/spectrum.py:266: UserWarning: n_fft=2048 is too large for input signal of length=882\n",
            "  warnings.warn(\n",
            "Processing G_hit:   0%|          | 3/3111 [00:00<02:21, 21.93it/s]/usr/local/lib/python3.11/dist-packages/librosa/core/spectrum.py:266: UserWarning: n_fft=2048 is too large for input signal of length=882\n",
            "  warnings.warn(\n",
            "Processing G_hit:   2%|▏         | 51/3111 [00:03<04:04, 12.54it/s]/usr/local/lib/python3.11/dist-packages/librosa/core/spectrum.py:266: UserWarning: n_fft=2048 is too large for input signal of length=882\n",
            "  warnings.warn(\n",
            "Processing G_hit:   2%|▏         | 67/3111 [00:03<03:01, 16.76it/s]/usr/local/lib/python3.11/dist-packages/librosa/core/spectrum.py:266: UserWarning: n_fft=2048 is too large for input signal of length=882\n",
            "  warnings.warn(\n",
            "Processing G_hit:   3%|▎         | 89/3111 [00:05<02:52, 17.56it/s]/usr/local/lib/python3.11/dist-packages/librosa/core/spectrum.py:266: UserWarning: n_fft=2048 is too large for input signal of length=882\n",
            "  warnings.warn(\n",
            "Processing G_hit:   3%|▎         | 105/3111 [00:06<03:08, 15.97it/s]/usr/local/lib/python3.11/dist-packages/librosa/core/spectrum.py:266: UserWarning: n_fft=2048 is too large for input signal of length=882\n",
            "  warnings.warn(\n",
            "Processing G_hit:   4%|▍         | 123/3111 [00:07<02:26, 20.42it/s]/usr/local/lib/python3.11/dist-packages/librosa/core/spectrum.py:266: UserWarning: n_fft=2048 is too large for input signal of length=882\n",
            "  warnings.warn(\n",
            "Processing G_hit:   5%|▌         | 159/3111 [00:08<02:23, 20.54it/s]/usr/local/lib/python3.11/dist-packages/librosa/core/spectrum.py:266: UserWarning: n_fft=2048 is too large for input signal of length=882\n",
            "  warnings.warn(\n",
            "Processing G_hit:   5%|▌         | 168/3111 [00:09<02:17, 21.42it/s]/usr/local/lib/python3.11/dist-packages/librosa/core/spectrum.py:266: UserWarning: n_fft=2048 is too large for input signal of length=882\n",
            "  warnings.warn(\n",
            "Processing G_hit:   6%|▌         | 186/3111 [00:10<02:17, 21.23it/s]/usr/local/lib/python3.11/dist-packages/librosa/core/spectrum.py:266: UserWarning: n_fft=2048 is too large for input signal of length=882\n",
            "  warnings.warn(\n",
            "Processing G_hit:   7%|▋         | 222/3111 [00:15<02:38, 18.18it/s]/usr/local/lib/python3.11/dist-packages/librosa/core/spectrum.py:266: UserWarning: n_fft=2048 is too large for input signal of length=882\n",
            "  warnings.warn(\n",
            "Processing G_hit:   8%|▊         | 243/3111 [00:16<02:30, 19.11it/s]/usr/local/lib/python3.11/dist-packages/librosa/core/spectrum.py:266: UserWarning: n_fft=2048 is too large for input signal of length=882\n",
            "  warnings.warn(\n",
            "Processing G_hit:   8%|▊         | 259/3111 [00:17<02:41, 17.67it/s]/usr/local/lib/python3.11/dist-packages/librosa/core/spectrum.py:266: UserWarning: n_fft=2048 is too large for input signal of length=882\n",
            "  warnings.warn(\n",
            "Processing G_hit:   9%|▉         | 289/3111 [00:20<04:53,  9.62it/s]/usr/local/lib/python3.11/dist-packages/librosa/core/spectrum.py:266: UserWarning: n_fft=2048 is too large for input signal of length=882\n",
            "  warnings.warn(\n",
            "Processing G_hit:  10%|▉         | 307/3111 [00:22<04:34, 10.22it/s]/usr/local/lib/python3.11/dist-packages/librosa/core/spectrum.py:266: UserWarning: n_fft=2048 is too large for input signal of length=882\n",
            "  warnings.warn(\n",
            "Processing G_hit:  11%|█         | 328/3111 [00:23<02:18, 20.03it/s]/usr/local/lib/python3.11/dist-packages/librosa/core/spectrum.py:266: UserWarning: n_fft=2048 is too large for input signal of length=882\n",
            "  warnings.warn(\n",
            "Processing G_hit:  11%|█         | 349/3111 [00:24<02:11, 20.95it/s]/usr/local/lib/python3.11/dist-packages/librosa/core/spectrum.py:266: UserWarning: n_fft=2048 is too large for input signal of length=882\n",
            "  warnings.warn(\n",
            "Processing G_hit:  12%|█▏        | 385/3111 [00:25<02:01, 22.46it/s]/usr/local/lib/python3.11/dist-packages/librosa/core/spectrum.py:266: UserWarning: n_fft=2048 is too large for input signal of length=882\n",
            "  warnings.warn(\n",
            "Processing G_hit:  13%|█▎        | 394/3111 [00:26<02:00, 22.62it/s]/usr/local/lib/python3.11/dist-packages/librosa/core/spectrum.py:266: UserWarning: n_fft=2048 is too large for input signal of length=882\n",
            "  warnings.warn(\n",
            "Processing G_hit:  14%|█▎        | 427/3111 [00:27<02:15, 19.85it/s]/usr/local/lib/python3.11/dist-packages/librosa/core/spectrum.py:266: UserWarning: n_fft=2048 is too large for input signal of length=882\n",
            "  warnings.warn(\n",
            "Processing G_hit:  14%|█▍        | 445/3111 [00:28<02:06, 21.05it/s]/usr/local/lib/python3.11/dist-packages/librosa/core/spectrum.py:266: UserWarning: n_fft=2048 is too large for input signal of length=882\n",
            "  warnings.warn(\n",
            "Processing G_hit:  14%|█▍        | 451/3111 [00:29<02:01, 21.83it/s]/usr/local/lib/python3.11/dist-packages/librosa/core/spectrum.py:266: UserWarning: n_fft=2048 is too large for input signal of length=882\n",
            "  warnings.warn(\n",
            "Processing G_hit:  15%|█▌        | 469/3111 [00:29<02:03, 21.39it/s]/usr/local/lib/python3.11/dist-packages/librosa/core/spectrum.py:266: UserWarning: n_fft=2048 is too large for input signal of length=882\n",
            "  warnings.warn(\n",
            "Processing G_hit:  16%|█▌        | 493/3111 [00:31<02:00, 21.67it/s]/usr/local/lib/python3.11/dist-packages/librosa/core/spectrum.py:266: UserWarning: n_fft=2048 is too large for input signal of length=882\n",
            "  warnings.warn(\n",
            "Processing G_hit:  16%|█▋        | 513/3111 [00:32<02:33, 16.92it/s]/usr/local/lib/python3.11/dist-packages/librosa/core/spectrum.py:266: UserWarning: n_fft=2048 is too large for input signal of length=882\n",
            "  warnings.warn(\n",
            "Processing G_hit:  17%|█▋        | 539/3111 [00:33<02:34, 16.61it/s]/usr/local/lib/python3.11/dist-packages/librosa/core/spectrum.py:266: UserWarning: n_fft=2048 is too large for input signal of length=882\n",
            "  warnings.warn(\n",
            "Processing G_hit:  18%|█▊        | 545/3111 [00:35<13:59,  3.06it/s]/usr/local/lib/python3.11/dist-packages/librosa/core/spectrum.py:266: UserWarning: n_fft=2048 is too large for input signal of length=882\n",
            "  warnings.warn(\n",
            "Processing G_hit:  18%|█▊        | 565/3111 [00:36<02:40, 15.89it/s]/usr/local/lib/python3.11/dist-packages/librosa/core/spectrum.py:266: UserWarning: n_fft=2048 is too large for input signal of length=882\n",
            "  warnings.warn(\n",
            "Processing G_hit:  19%|█▊        | 583/3111 [00:37<01:55, 21.91it/s]/usr/local/lib/python3.11/dist-packages/librosa/core/spectrum.py:266: UserWarning: n_fft=2048 is too large for input signal of length=882\n",
            "  warnings.warn(\n",
            "Processing G_hit:  19%|█▉        | 592/3111 [00:38<02:02, 20.62it/s]/usr/local/lib/python3.11/dist-packages/librosa/core/spectrum.py:266: UserWarning: n_fft=2048 is too large for input signal of length=882\n",
            "  warnings.warn(\n",
            "Processing G_hit:  20%|█▉        | 613/3111 [00:39<01:53, 22.06it/s]/usr/local/lib/python3.11/dist-packages/librosa/core/spectrum.py:266: UserWarning: n_fft=2048 is too large for input signal of length=882\n",
            "  warnings.warn(\n",
            "Processing G_hit:  20%|██        | 637/3111 [00:40<01:54, 21.63it/s]/usr/local/lib/python3.11/dist-packages/librosa/core/spectrum.py:266: UserWarning: n_fft=2048 is too large for input signal of length=882\n",
            "  warnings.warn(\n",
            "Processing G_hit:  21%|██        | 655/3111 [00:40<01:50, 22.27it/s]/usr/local/lib/python3.11/dist-packages/librosa/core/spectrum.py:266: UserWarning: n_fft=2048 is too large for input signal of length=882\n",
            "  warnings.warn(\n",
            "Processing G_hit:  22%|██▏       | 697/3111 [00:42<01:44, 23.01it/s]/usr/local/lib/python3.11/dist-packages/librosa/core/spectrum.py:266: UserWarning: n_fft=2048 is too large for input signal of length=882\n",
            "  warnings.warn(\n",
            "Processing G_hit:  23%|██▎       | 706/3111 [00:43<01:47, 22.41it/s]/usr/local/lib/python3.11/dist-packages/librosa/core/spectrum.py:266: UserWarning: n_fft=2048 is too large for input signal of length=882\n",
            "  warnings.warn(\n",
            "Processing G_hit:  23%|██▎       | 724/3111 [00:44<01:50, 21.55it/s]/usr/local/lib/python3.11/dist-packages/librosa/core/spectrum.py:266: UserWarning: n_fft=2048 is too large for input signal of length=882\n",
            "  warnings.warn(\n",
            "Processing G_hit:  25%|██▍       | 765/3111 [00:46<02:17, 17.02it/s]/usr/local/lib/python3.11/dist-packages/librosa/core/spectrum.py:266: UserWarning: n_fft=2048 is too large for input signal of length=882\n",
            "  warnings.warn(\n",
            "Processing G_hit:  25%|██▌       | 779/3111 [00:47<02:23, 16.22it/s]/usr/local/lib/python3.11/dist-packages/librosa/core/spectrum.py:266: UserWarning: n_fft=2048 is too large for input signal of length=882\n",
            "  warnings.warn(\n",
            "Processing G_hit:  25%|██▌       | 785/3111 [00:48<02:16, 17.08it/s]/usr/local/lib/python3.11/dist-packages/librosa/core/spectrum.py:266: UserWarning: n_fft=2048 is too large for input signal of length=882\n",
            "  warnings.warn(\n",
            "Processing G_hit:  26%|██▌       | 803/3111 [00:49<02:27, 15.61it/s]/usr/local/lib/python3.11/dist-packages/librosa/core/spectrum.py:266: UserWarning: n_fft=2048 is too large for input signal of length=882\n",
            "  warnings.warn(\n",
            "Processing G_hit:  27%|██▋       | 833/3111 [00:50<01:44, 21.74it/s]/usr/local/lib/python3.11/dist-packages/librosa/core/spectrum.py:266: UserWarning: n_fft=2048 is too large for input signal of length=882\n",
            "  warnings.warn(\n",
            "Processing G_hit:  27%|██▋       | 842/3111 [00:51<01:43, 21.92it/s]/usr/local/lib/python3.11/dist-packages/librosa/core/spectrum.py:266: UserWarning: n_fft=2048 is too large for input signal of length=882\n",
            "  warnings.warn(\n",
            "Processing G_hit:  28%|██▊       | 863/3111 [00:52<01:46, 21.09it/s]/usr/local/lib/python3.11/dist-packages/librosa/core/spectrum.py:266: UserWarning: n_fft=2048 is too large for input signal of length=882\n",
            "  warnings.warn(\n",
            "Processing G_hit:  29%|██▉       | 902/3111 [00:53<01:41, 21.86it/s]/usr/local/lib/python3.11/dist-packages/librosa/core/spectrum.py:266: UserWarning: n_fft=2048 is too large for input signal of length=882\n",
            "  warnings.warn(\n",
            "Processing G_hit:  30%|██▉       | 920/3111 [00:54<01:42, 21.45it/s]/usr/local/lib/python3.11/dist-packages/librosa/core/spectrum.py:266: UserWarning: n_fft=2048 is too large for input signal of length=882\n",
            "  warnings.warn(\n",
            "Processing G_hit:  30%|██▉       | 929/3111 [00:55<01:48, 20.19it/s]/usr/local/lib/python3.11/dist-packages/librosa/core/spectrum.py:266: UserWarning: n_fft=2048 is too large for input signal of length=882\n",
            "  warnings.warn(\n",
            "Processing G_hit:  31%|███       | 966/3111 [00:57<02:45, 12.93it/s]/usr/local/lib/python3.11/dist-packages/librosa/core/spectrum.py:266: UserWarning: n_fft=2048 is too large for input signal of length=882\n",
            "  warnings.warn(\n",
            "Processing G_hit:  32%|███▏      | 984/3111 [00:58<01:45, 20.17it/s]/usr/local/lib/python3.11/dist-packages/librosa/core/spectrum.py:266: UserWarning: n_fft=2048 is too large for input signal of length=882\n",
            "  warnings.warn(\n",
            "Processing G_hit:  32%|███▏      | 993/3111 [00:59<01:36, 22.01it/s]/usr/local/lib/python3.11/dist-packages/librosa/core/spectrum.py:266: UserWarning: n_fft=2048 is too large for input signal of length=882\n",
            "  warnings.warn(\n",
            "Processing G_hit:  33%|███▎      | 1014/3111 [01:00<01:40, 20.79it/s]/usr/local/lib/python3.11/dist-packages/librosa/core/spectrum.py:266: UserWarning: n_fft=2048 is too large for input signal of length=882\n",
            "  warnings.warn(\n",
            "Processing G_hit:  33%|███▎      | 1033/3111 [01:01<02:06, 16.37it/s]/usr/local/lib/python3.11/dist-packages/librosa/core/spectrum.py:266: UserWarning: n_fft=2048 is too large for input signal of length=882\n",
            "  warnings.warn(\n",
            "Processing G_hit:  34%|███▎      | 1049/3111 [01:02<01:56, 17.66it/s]/usr/local/lib/python3.11/dist-packages/librosa/core/spectrum.py:266: UserWarning: n_fft=2048 is too large for input signal of length=882\n",
            "  warnings.warn(\n",
            "Processing G_hit:  34%|███▍      | 1065/3111 [01:03<02:02, 16.68it/s]/usr/local/lib/python3.11/dist-packages/librosa/core/spectrum.py:266: UserWarning: n_fft=2048 is too large for input signal of length=882\n",
            "  warnings.warn(\n",
            "Processing G_hit:  35%|███▍      | 1081/3111 [01:04<02:06, 15.99it/s]/usr/local/lib/python3.11/dist-packages/librosa/core/spectrum.py:266: UserWarning: n_fft=2048 is too large for input signal of length=882\n",
            "  warnings.warn(\n",
            "Processing G_hit:  36%|███▌      | 1119/3111 [01:05<01:28, 22.53it/s]/usr/local/lib/python3.11/dist-packages/librosa/core/spectrum.py:266: UserWarning: n_fft=2048 is too large for input signal of length=882\n",
            "  warnings.warn(\n",
            "Processing G_hit:  37%|███▋      | 1143/3111 [01:06<01:27, 22.40it/s]/usr/local/lib/python3.11/dist-packages/librosa/core/spectrum.py:266: UserWarning: n_fft=2048 is too large for input signal of length=882\n",
            "  warnings.warn(\n",
            "Processing G_hit:  37%|███▋      | 1149/3111 [01:07<01:26, 22.76it/s]/usr/local/lib/python3.11/dist-packages/librosa/core/spectrum.py:266: UserWarning: n_fft=2048 is too large for input signal of length=882\n",
            "  warnings.warn(\n",
            "Processing G_hit:  38%|███▊      | 1170/3111 [01:08<01:30, 21.39it/s]/usr/local/lib/python3.11/dist-packages/librosa/core/spectrum.py:266: UserWarning: n_fft=2048 is too large for input signal of length=882\n",
            "  warnings.warn(\n",
            "Processing G_hit:  39%|███▉      | 1209/3111 [01:09<01:26, 22.09it/s]/usr/local/lib/python3.11/dist-packages/librosa/core/spectrum.py:266: UserWarning: n_fft=2048 is too large for input signal of length=882\n",
            "  warnings.warn(\n",
            "Processing G_hit:  39%|███▉      | 1218/3111 [01:10<01:21, 23.21it/s]/usr/local/lib/python3.11/dist-packages/librosa/core/spectrum.py:266: UserWarning: n_fft=2048 is too large for input signal of length=882\n",
            "  warnings.warn(\n",
            "Processing G_hit:  40%|███▉      | 1236/3111 [01:10<01:26, 21.61it/s]/usr/local/lib/python3.11/dist-packages/librosa/core/spectrum.py:266: UserWarning: n_fft=2048 is too large for input signal of length=882\n",
            "  warnings.warn(\n",
            "Processing G_hit:  40%|████      | 1257/3111 [01:12<01:58, 15.62it/s]/usr/local/lib/python3.11/dist-packages/librosa/core/spectrum.py:266: UserWarning: n_fft=2048 is too large for input signal of length=882\n",
            "  warnings.warn(\n",
            "Processing G_hit:  41%|████      | 1275/3111 [01:13<01:25, 21.47it/s]/usr/local/lib/python3.11/dist-packages/librosa/core/spectrum.py:266: UserWarning: n_fft=2048 is too large for input signal of length=882\n",
            "  warnings.warn(\n",
            "Processing G_hit:  41%|████▏     | 1284/3111 [01:14<01:28, 20.72it/s]/usr/local/lib/python3.11/dist-packages/librosa/core/spectrum.py:266: UserWarning: n_fft=2048 is too large for input signal of length=882\n",
            "  warnings.warn(\n",
            "Processing G_hit:  42%|████▏     | 1299/3111 [01:15<01:55, 15.72it/s]/usr/local/lib/python3.11/dist-packages/librosa/core/spectrum.py:266: UserWarning: n_fft=2048 is too large for input signal of length=882\n",
            "  warnings.warn(\n",
            "Processing G_hit:  42%|████▏     | 1313/3111 [01:15<01:54, 15.76it/s]/usr/local/lib/python3.11/dist-packages/librosa/core/spectrum.py:266: UserWarning: n_fft=2048 is too large for input signal of length=882\n",
            "  warnings.warn(\n",
            "Processing G_hit:  43%|████▎     | 1329/3111 [01:16<01:46, 16.76it/s]/usr/local/lib/python3.11/dist-packages/librosa/core/spectrum.py:266: UserWarning: n_fft=2048 is too large for input signal of length=882\n",
            "  warnings.warn(\n",
            "Processing G_hit:  44%|████▎     | 1360/3111 [01:18<01:32, 18.85it/s]/usr/local/lib/python3.11/dist-packages/librosa/core/spectrum.py:266: UserWarning: n_fft=2048 is too large for input signal of length=882\n",
            "  warnings.warn(\n",
            "Processing G_hit:  44%|████▍     | 1368/3111 [01:19<01:25, 20.48it/s]/usr/local/lib/python3.11/dist-packages/librosa/core/spectrum.py:266: UserWarning: n_fft=2048 is too large for input signal of length=882\n",
            "  warnings.warn(\n",
            "Processing G_hit:  44%|████▍     | 1380/3111 [01:19<01:53, 15.29it/s]/usr/local/lib/python3.11/dist-packages/librosa/core/spectrum.py:266: UserWarning: n_fft=2048 is too large for input signal of length=882\n",
            "  warnings.warn(\n",
            "Processing G_hit:  46%|████▌     | 1419/3111 [01:21<01:14, 22.86it/s]/usr/local/lib/python3.11/dist-packages/librosa/core/spectrum.py:266: UserWarning: n_fft=2048 is too large for input signal of length=882\n",
            "  warnings.warn(\n",
            "Processing G_hit:  46%|████▌     | 1425/3111 [01:22<01:18, 21.45it/s]/usr/local/lib/python3.11/dist-packages/librosa/core/spectrum.py:266: UserWarning: n_fft=2048 is too large for input signal of length=882\n",
            "  warnings.warn(\n",
            "Processing G_hit:  46%|████▋     | 1446/3111 [01:22<01:17, 21.37it/s]/usr/local/lib/python3.11/dist-packages/librosa/core/spectrum.py:266: UserWarning: n_fft=2048 is too large for input signal of length=882\n",
            "  warnings.warn(\n",
            "Processing G_hit:  48%|████▊     | 1485/3111 [01:24<01:17, 20.99it/s]/usr/local/lib/python3.11/dist-packages/librosa/core/spectrum.py:266: UserWarning: n_fft=2048 is too large for input signal of length=882\n",
            "  warnings.warn(\n",
            "Processing G_hit:  48%|████▊     | 1494/3111 [01:25<01:11, 22.72it/s]/usr/local/lib/python3.11/dist-packages/librosa/core/spectrum.py:266: UserWarning: n_fft=2048 is too large for input signal of length=882\n",
            "  warnings.warn(\n",
            "Processing G_hit:  49%|████▊     | 1512/3111 [01:25<01:12, 22.08it/s]/usr/local/lib/python3.11/dist-packages/librosa/core/spectrum.py:266: UserWarning: n_fft=2048 is too large for input signal of length=882\n",
            "  warnings.warn(\n",
            "Processing G_hit:  49%|████▉     | 1533/3111 [01:26<01:10, 22.47it/s]/usr/local/lib/python3.11/dist-packages/librosa/core/spectrum.py:266: UserWarning: n_fft=2048 is too large for input signal of length=882\n",
            "  warnings.warn(\n",
            "Processing G_hit:  50%|████▉     | 1551/3111 [01:27<01:06, 23.33it/s]/usr/local/lib/python3.11/dist-packages/librosa/core/spectrum.py:266: UserWarning: n_fft=2048 is too large for input signal of length=882\n",
            "  warnings.warn(\n",
            "Processing G_hit:  51%|█████     | 1587/3111 [01:29<01:37, 15.59it/s]/usr/local/lib/python3.11/dist-packages/librosa/core/spectrum.py:266: UserWarning: n_fft=2048 is too large for input signal of length=882\n",
            "  warnings.warn(\n",
            "Processing G_hit:  51%|█████     | 1593/3111 [01:31<07:27,  3.39it/s]/usr/local/lib/python3.11/dist-packages/librosa/core/spectrum.py:266: UserWarning: n_fft=2048 is too large for input signal of length=882\n",
            "  warnings.warn(\n",
            "Processing G_hit:  53%|█████▎    | 1637/3111 [01:33<01:09, 21.32it/s]/usr/local/lib/python3.11/dist-packages/librosa/core/spectrum.py:266: UserWarning: n_fft=2048 is too large for input signal of length=882\n",
            "  warnings.warn(\n",
            "Processing G_hit:  53%|█████▎    | 1655/3111 [01:34<01:04, 22.41it/s]/usr/local/lib/python3.11/dist-packages/librosa/core/spectrum.py:266: UserWarning: n_fft=2048 is too large for input signal of length=882\n",
            "  warnings.warn(\n",
            "Processing G_hit:  53%|█████▎    | 1664/3111 [01:35<01:04, 22.41it/s]/usr/local/lib/python3.11/dist-packages/librosa/core/spectrum.py:266: UserWarning: n_fft=2048 is too large for input signal of length=882\n",
            "  warnings.warn(\n",
            "Processing G_hit:  54%|█████▍    | 1685/3111 [01:36<01:04, 21.99it/s]/usr/local/lib/python3.11/dist-packages/librosa/core/spectrum.py:266: UserWarning: n_fft=2048 is too large for input signal of length=882\n",
            "  warnings.warn(\n",
            "Processing G_hit:  55%|█████▍    | 1706/3111 [01:37<01:06, 21.07it/s]/usr/local/lib/python3.11/dist-packages/librosa/core/spectrum.py:266: UserWarning: n_fft=2048 is too large for input signal of length=882\n",
            "  warnings.warn(\n",
            "Processing G_hit:  55%|█████▌    | 1724/3111 [01:37<01:02, 22.24it/s]/usr/local/lib/python3.11/dist-packages/librosa/core/spectrum.py:266: UserWarning: n_fft=2048 is too large for input signal of length=882\n",
            "  warnings.warn(\n",
            "Processing G_hit:  56%|█████▌    | 1745/3111 [01:38<01:00, 22.55it/s]/usr/local/lib/python3.11/dist-packages/librosa/core/spectrum.py:266: UserWarning: n_fft=2048 is too large for input signal of length=882\n",
            "  warnings.warn(\n",
            "Processing G_hit:  57%|█████▋    | 1766/3111 [01:39<01:01, 21.80it/s]/usr/local/lib/python3.11/dist-packages/librosa/core/spectrum.py:266: UserWarning: n_fft=2048 is too large for input signal of length=882\n",
            "  warnings.warn(\n",
            "Processing G_hit:  58%|█████▊    | 1790/3111 [01:40<01:00, 21.78it/s]/usr/local/lib/python3.11/dist-packages/librosa/core/spectrum.py:266: UserWarning: n_fft=2048 is too large for input signal of length=882\n",
            "  warnings.warn(\n",
            "Processing G_hit:  59%|█████▊    | 1820/3111 [01:42<00:57, 22.57it/s]/usr/local/lib/python3.11/dist-packages/librosa/core/spectrum.py:266: UserWarning: n_fft=2048 is too large for input signal of length=882\n",
            "  warnings.warn(\n",
            "Processing G_hit:  59%|█████▉    | 1835/3111 [01:43<01:14, 17.12it/s]/usr/local/lib/python3.11/dist-packages/librosa/core/spectrum.py:266: UserWarning: n_fft=2048 is too large for input signal of length=882\n",
            "  warnings.warn(\n",
            "Processing G_hit:  59%|█████▉    | 1851/3111 [01:44<01:16, 16.48it/s]/usr/local/lib/python3.11/dist-packages/librosa/core/spectrum.py:266: UserWarning: n_fft=2048 is too large for input signal of length=882\n",
            "  warnings.warn(\n",
            "Processing G_hit:  60%|██████    | 1870/3111 [01:45<01:09, 17.82it/s]/usr/local/lib/python3.11/dist-packages/librosa/core/spectrum.py:266: UserWarning: n_fft=2048 is too large for input signal of length=882\n",
            "  warnings.warn(\n",
            "Processing G_hit:  61%|██████    | 1886/3111 [01:46<01:12, 16.93it/s]/usr/local/lib/python3.11/dist-packages/librosa/core/spectrum.py:266: UserWarning: n_fft=2048 is too large for input signal of length=882\n",
            "  warnings.warn(\n",
            "Processing G_hit:  61%|██████    | 1904/3111 [01:47<00:57, 20.93it/s]/usr/local/lib/python3.11/dist-packages/librosa/core/spectrum.py:266: UserWarning: n_fft=2048 is too large for input signal of length=882\n",
            "  warnings.warn(\n",
            "Processing G_hit:  62%|██████▏   | 1940/3111 [01:48<00:52, 22.37it/s]/usr/local/lib/python3.11/dist-packages/librosa/core/spectrum.py:266: UserWarning: n_fft=2048 is too large for input signal of length=882\n",
            "  warnings.warn(\n",
            "Processing G_hit:  63%|██████▎   | 1949/3111 [01:49<00:52, 22.22it/s]/usr/local/lib/python3.11/dist-packages/librosa/core/spectrum.py:266: UserWarning: n_fft=2048 is too large for input signal of length=882\n",
            "  warnings.warn(\n",
            "Processing G_hit:  64%|██████▍   | 1985/3111 [01:50<00:51, 21.77it/s]/usr/local/lib/python3.11/dist-packages/librosa/core/spectrum.py:266: UserWarning: n_fft=2048 is too large for input signal of length=882\n",
            "  warnings.warn(\n",
            "Processing G_hit:  65%|██████▍   | 2009/3111 [01:51<00:48, 22.92it/s]/usr/local/lib/python3.11/dist-packages/librosa/core/spectrum.py:266: UserWarning: n_fft=2048 is too large for input signal of length=882\n",
            "  warnings.warn(\n",
            "Processing G_hit:  65%|██████▌   | 2030/3111 [01:52<00:49, 22.00it/s]/usr/local/lib/python3.11/dist-packages/librosa/core/spectrum.py:266: UserWarning: n_fft=2048 is too large for input signal of length=882\n",
            "  warnings.warn(\n",
            "Processing G_hit:  66%|██████▌   | 2060/3111 [01:55<01:00, 17.42it/s]/usr/local/lib/python3.11/dist-packages/librosa/core/spectrum.py:266: UserWarning: n_fft=2048 is too large for input signal of length=882\n",
            "  warnings.warn(\n",
            "Processing G_hit:  68%|██████▊   | 2101/3111 [01:57<01:13, 13.83it/s]/usr/local/lib/python3.11/dist-packages/librosa/core/spectrum.py:266: UserWarning: n_fft=2048 is too large for input signal of length=882\n",
            "  warnings.warn(\n",
            "Processing G_hit:  68%|██████▊   | 2115/3111 [01:58<01:01, 16.23it/s]/usr/local/lib/python3.11/dist-packages/librosa/core/spectrum.py:266: UserWarning: n_fft=2048 is too large for input signal of length=882\n",
            "  warnings.warn(\n",
            "Processing G_hit:  68%|██████▊   | 2131/3111 [01:59<01:00, 16.23it/s]/usr/local/lib/python3.11/dist-packages/librosa/core/spectrum.py:266: UserWarning: n_fft=2048 is too large for input signal of length=882\n",
            "  warnings.warn(\n",
            "Processing G_hit:  69%|██████▊   | 2135/3111 [02:00<01:22, 11.77it/s]/usr/local/lib/python3.11/dist-packages/librosa/core/spectrum.py:266: UserWarning: n_fft=2048 is too large for input signal of length=882\n",
            "  warnings.warn(\n",
            "Processing G_hit:  69%|██████▉   | 2148/3111 [02:01<00:53, 17.98it/s]/usr/local/lib/python3.11/dist-packages/librosa/core/spectrum.py:266: UserWarning: n_fft=2048 is too large for input signal of length=882\n",
            "  warnings.warn(\n",
            "Processing G_hit:  70%|███████   | 2183/3111 [02:02<00:41, 22.46it/s]/usr/local/lib/python3.11/dist-packages/librosa/core/spectrum.py:266: UserWarning: n_fft=2048 is too large for input signal of length=882\n",
            "  warnings.warn(\n",
            "Processing G_hit:  70%|███████   | 2189/3111 [02:03<00:42, 21.84it/s]/usr/local/lib/python3.11/dist-packages/librosa/core/spectrum.py:266: UserWarning: n_fft=2048 is too large for input signal of length=882\n",
            "  warnings.warn(\n",
            "Processing G_hit:  71%|███████   | 2210/3111 [02:04<00:40, 22.05it/s]/usr/local/lib/python3.11/dist-packages/librosa/core/spectrum.py:266: UserWarning: n_fft=2048 is too large for input signal of length=882\n",
            "  warnings.warn(\n",
            "Processing G_hit:  72%|███████▏  | 2246/3111 [02:05<00:40, 21.52it/s]/usr/local/lib/python3.11/dist-packages/librosa/core/spectrum.py:266: UserWarning: n_fft=2048 is too large for input signal of length=882\n",
            "  warnings.warn(\n",
            "Processing G_hit:  72%|███████▏  | 2255/3111 [02:06<00:39, 21.95it/s]/usr/local/lib/python3.11/dist-packages/librosa/core/spectrum.py:266: UserWarning: n_fft=2048 is too large for input signal of length=882\n",
            "  warnings.warn(\n",
            "Processing G_hit:  73%|███████▎  | 2279/3111 [02:07<00:36, 22.96it/s]/usr/local/lib/python3.11/dist-packages/librosa/core/spectrum.py:266: UserWarning: n_fft=2048 is too large for input signal of length=882\n",
            "  warnings.warn(\n",
            "Processing G_hit:  74%|███████▍  | 2297/3111 [02:08<00:36, 22.01it/s]/usr/local/lib/python3.11/dist-packages/librosa/core/spectrum.py:266: UserWarning: n_fft=2048 is too large for input signal of length=882\n",
            "  warnings.warn(\n",
            "Processing G_hit:  75%|███████▌  | 2336/3111 [02:09<00:34, 22.17it/s]/usr/local/lib/python3.11/dist-packages/librosa/core/spectrum.py:266: UserWarning: n_fft=2048 is too large for input signal of length=882\n",
            "  warnings.warn(\n",
            "Processing G_hit:  76%|███████▌  | 2357/3111 [02:10<00:34, 21.75it/s]/usr/local/lib/python3.11/dist-packages/librosa/core/spectrum.py:266: UserWarning: n_fft=2048 is too large for input signal of length=882\n",
            "  warnings.warn(\n",
            "Processing G_hit:  76%|███████▌  | 2363/3111 [02:11<00:40, 18.69it/s]/usr/local/lib/python3.11/dist-packages/librosa/core/spectrum.py:266: UserWarning: n_fft=2048 is too large for input signal of length=882\n",
            "  warnings.warn(\n",
            "Processing G_hit:  76%|███████▋  | 2379/3111 [02:12<00:51, 14.25it/s]/usr/local/lib/python3.11/dist-packages/librosa/core/spectrum.py:266: UserWarning: n_fft=2048 is too large for input signal of length=882\n",
            "  warnings.warn(\n",
            "Processing G_hit:  77%|███████▋  | 2393/3111 [02:13<00:43, 16.34it/s]/usr/local/lib/python3.11/dist-packages/librosa/core/spectrum.py:266: UserWarning: n_fft=2048 is too large for input signal of length=882\n",
            "  warnings.warn(\n",
            "Processing G_hit:  78%|███████▊  | 2421/3111 [02:14<00:46, 14.95it/s]/usr/local/lib/python3.11/dist-packages/librosa/core/spectrum.py:266: UserWarning: n_fft=2048 is too large for input signal of length=882\n",
            "  warnings.warn(\n",
            "Processing G_hit:  78%|███████▊  | 2437/3111 [02:15<00:31, 21.16it/s]/usr/local/lib/python3.11/dist-packages/librosa/core/spectrum.py:266: UserWarning: n_fft=2048 is too large for input signal of length=882\n",
            "  warnings.warn(\n",
            "Processing G_hit:  79%|███████▊  | 2443/3111 [02:15<00:32, 20.29it/s]/usr/local/lib/python3.11/dist-packages/librosa/core/spectrum.py:266: UserWarning: n_fft=2048 is too large for input signal of length=882\n",
            "  warnings.warn(\n",
            "Processing G_hit:  79%|███████▉  | 2464/3111 [02:16<00:28, 22.32it/s]/usr/local/lib/python3.11/dist-packages/librosa/core/spectrum.py:266: UserWarning: n_fft=2048 is too large for input signal of length=882\n",
            "  warnings.warn(\n",
            "Processing G_hit:  80%|████████  | 2491/3111 [02:18<00:27, 22.41it/s]/usr/local/lib/python3.11/dist-packages/librosa/core/spectrum.py:266: UserWarning: n_fft=2048 is too large for input signal of length=882\n",
            "  warnings.warn(\n",
            "Processing G_hit:  81%|████████  | 2512/3111 [02:19<00:27, 22.09it/s]/usr/local/lib/python3.11/dist-packages/librosa/core/spectrum.py:266: UserWarning: n_fft=2048 is too large for input signal of length=882\n",
            "  warnings.warn(\n",
            "Processing G_hit:  81%|████████▏ | 2533/3111 [02:20<00:28, 20.19it/s]/usr/local/lib/python3.11/dist-packages/librosa/core/spectrum.py:266: UserWarning: n_fft=2048 is too large for input signal of length=882\n",
            "  warnings.warn(\n",
            "Processing G_hit:  83%|████████▎ | 2569/3111 [02:21<00:25, 21.67it/s]/usr/local/lib/python3.11/dist-packages/librosa/core/spectrum.py:266: UserWarning: n_fft=2048 is too large for input signal of length=882\n",
            "  warnings.warn(\n",
            "Processing G_hit:  83%|████████▎ | 2578/3111 [02:22<00:24, 21.48it/s]/usr/local/lib/python3.11/dist-packages/librosa/core/spectrum.py:266: UserWarning: n_fft=2048 is too large for input signal of length=882\n",
            "  warnings.warn(\n",
            "Processing G_hit:  84%|████████▍ | 2616/3111 [02:26<00:31, 15.64it/s]/usr/local/lib/python3.11/dist-packages/librosa/core/spectrum.py:266: UserWarning: n_fft=2048 is too large for input signal of length=882\n",
            "  warnings.warn(\n",
            "Processing G_hit:  85%|████████▍ | 2632/3111 [02:27<00:30, 15.56it/s]/usr/local/lib/python3.11/dist-packages/librosa/core/spectrum.py:266: UserWarning: n_fft=2048 is too large for input signal of length=882\n",
            "  warnings.warn(\n",
            "Processing G_hit:  85%|████████▍ | 2638/3111 [02:28<00:29, 15.83it/s]/usr/local/lib/python3.11/dist-packages/librosa/core/spectrum.py:266: UserWarning: n_fft=2048 is too large for input signal of length=882\n",
            "  warnings.warn(\n",
            "Processing G_hit:  85%|████████▌ | 2652/3111 [02:29<00:29, 15.54it/s]/usr/local/lib/python3.11/dist-packages/librosa/core/spectrum.py:266: UserWarning: n_fft=2048 is too large for input signal of length=882\n",
            "  warnings.warn(\n",
            "Processing G_hit:  86%|████████▋ | 2687/3111 [02:30<00:20, 20.79it/s]/usr/local/lib/python3.11/dist-packages/librosa/core/spectrum.py:266: UserWarning: n_fft=2048 is too large for input signal of length=882\n",
            "  warnings.warn(\n",
            "Processing G_hit:  87%|████████▋ | 2696/3111 [02:31<00:20, 20.66it/s]/usr/local/lib/python3.11/dist-packages/librosa/core/spectrum.py:266: UserWarning: n_fft=2048 is too large for input signal of length=882\n",
            "  warnings.warn(\n",
            "Processing G_hit:  87%|████████▋ | 2714/3111 [02:32<00:19, 20.12it/s]/usr/local/lib/python3.11/dist-packages/librosa/core/spectrum.py:266: UserWarning: n_fft=2048 is too large for input signal of length=882\n",
            "  warnings.warn(\n",
            "Processing G_hit:  88%|████████▊ | 2750/3111 [02:33<00:17, 20.43it/s]/usr/local/lib/python3.11/dist-packages/librosa/core/spectrum.py:266: UserWarning: n_fft=2048 is too large for input signal of length=882\n",
            "  warnings.warn(\n",
            "Processing G_hit:  89%|████████▉ | 2768/3111 [02:34<00:18, 18.24it/s]/usr/local/lib/python3.11/dist-packages/librosa/core/spectrum.py:266: UserWarning: n_fft=2048 is too large for input signal of length=882\n",
            "  warnings.warn(\n",
            "Processing G_hit:  89%|████████▉ | 2774/3111 [02:35<00:20, 16.42it/s]/usr/local/lib/python3.11/dist-packages/librosa/core/spectrum.py:266: UserWarning: n_fft=2048 is too large for input signal of length=882\n",
            "  warnings.warn(\n",
            "Processing G_hit:  90%|████████▉ | 2793/3111 [02:36<00:15, 20.54it/s]/usr/local/lib/python3.11/dist-packages/librosa/core/spectrum.py:266: UserWarning: n_fft=2048 is too large for input signal of length=882\n",
            "  warnings.warn(\n",
            "Processing G_hit:  91%|█████████ | 2829/3111 [02:37<00:13, 21.55it/s]/usr/local/lib/python3.11/dist-packages/librosa/core/spectrum.py:266: UserWarning: n_fft=2048 is too large for input signal of length=882\n",
            "  warnings.warn(\n",
            "Processing G_hit:  92%|█████████▏| 2850/3111 [02:38<00:11, 22.77it/s]/usr/local/lib/python3.11/dist-packages/librosa/core/spectrum.py:266: UserWarning: n_fft=2048 is too large for input signal of length=882\n",
            "  warnings.warn(\n",
            "Processing G_hit:  92%|█████████▏| 2859/3111 [02:39<00:11, 21.38it/s]/usr/local/lib/python3.11/dist-packages/librosa/core/spectrum.py:266: UserWarning: n_fft=2048 is too large for input signal of length=882\n",
            "  warnings.warn(\n",
            "Processing G_hit:  92%|█████████▏| 2874/3111 [02:39<00:14, 16.42it/s]/usr/local/lib/python3.11/dist-packages/librosa/core/spectrum.py:266: UserWarning: n_fft=2048 is too large for input signal of length=882\n",
            "  warnings.warn(\n",
            "Processing G_hit:  93%|█████████▎| 2890/3111 [02:40<00:13, 16.21it/s]/usr/local/lib/python3.11/dist-packages/librosa/core/spectrum.py:266: UserWarning: n_fft=2048 is too large for input signal of length=882\n",
            "  warnings.warn(\n",
            "Processing G_hit:  93%|█████████▎| 2906/3111 [02:42<00:14, 14.55it/s]/usr/local/lib/python3.11/dist-packages/librosa/core/spectrum.py:266: UserWarning: n_fft=2048 is too large for input signal of length=882\n",
            "  warnings.warn(\n",
            "Processing G_hit:  94%|█████████▍| 2930/3111 [02:43<00:12, 14.58it/s]/usr/local/lib/python3.11/dist-packages/librosa/core/spectrum.py:266: UserWarning: n_fft=2048 is too large for input signal of length=882\n",
            "  warnings.warn(\n",
            "Processing G_hit:  94%|█████████▍| 2938/3111 [02:44<00:09, 18.46it/s]/usr/local/lib/python3.11/dist-packages/librosa/core/spectrum.py:266: UserWarning: n_fft=2048 is too large for input signal of length=882\n",
            "  warnings.warn(\n",
            "Processing G_hit:  95%|█████████▍| 2954/3111 [02:44<00:08, 18.79it/s]/usr/local/lib/python3.11/dist-packages/librosa/core/spectrum.py:266: UserWarning: n_fft=2048 is too large for input signal of length=882\n",
            "  warnings.warn(\n",
            "Processing G_hit:  96%|█████████▌| 2987/3111 [02:46<00:05, 21.28it/s]/usr/local/lib/python3.11/dist-packages/librosa/core/spectrum.py:266: UserWarning: n_fft=2048 is too large for input signal of length=882\n",
            "  warnings.warn(\n",
            "Processing G_hit:  96%|█████████▋| 2995/3111 [02:47<00:07, 16.52it/s]/usr/local/lib/python3.11/dist-packages/librosa/core/spectrum.py:266: UserWarning: n_fft=2048 is too large for input signal of length=882\n",
            "  warnings.warn(\n",
            "Processing G_hit:  97%|█████████▋| 3012/3111 [02:47<00:04, 20.21it/s]/usr/local/lib/python3.11/dist-packages/librosa/core/spectrum.py:266: UserWarning: n_fft=2048 is too large for input signal of length=882\n",
            "  warnings.warn(\n",
            "Processing G_hit:  97%|█████████▋| 3033/3111 [02:49<00:04, 19.14it/s]/usr/local/lib/python3.11/dist-packages/librosa/core/spectrum.py:266: UserWarning: n_fft=2048 is too large for input signal of length=882\n",
            "  warnings.warn(\n",
            "Processing G_hit:  99%|█████████▊| 3066/3111 [02:50<00:02, 19.02it/s]/usr/local/lib/python3.11/dist-packages/librosa/core/spectrum.py:266: UserWarning: n_fft=2048 is too large for input signal of length=882\n",
            "  warnings.warn(\n",
            "Processing G_hit:  99%|█████████▊| 3072/3111 [02:51<00:02, 17.79it/s]/usr/local/lib/python3.11/dist-packages/librosa/core/spectrum.py:266: UserWarning: n_fft=2048 is too large for input signal of length=882\n",
            "  warnings.warn(\n",
            "Processing G_hit:  99%|█████████▉| 3091/3111 [02:52<00:00, 20.68it/s]/usr/local/lib/python3.11/dist-packages/librosa/core/spectrum.py:266: UserWarning: n_fft=2048 is too large for input signal of length=882\n",
            "  warnings.warn(\n",
            "Processing G_hit: 100%|██████████| 3111/3111 [02:53<00:00, 17.98it/s]\n",
            "Processing B_hit:   0%|          | 0/3190 [00:00<?, ?it/s]/usr/local/lib/python3.11/dist-packages/librosa/core/spectrum.py:266: UserWarning: n_fft=2048 is too large for input signal of length=882\n",
            "  warnings.warn(\n",
            "Processing B_hit:   0%|          | 2/3190 [00:00<22:09,  2.40it/s]/usr/local/lib/python3.11/dist-packages/librosa/core/spectrum.py:266: UserWarning: n_fft=2048 is too large for input signal of length=882\n",
            "  warnings.warn(\n",
            "Processing B_hit:   0%|          | 6/3190 [00:02<18:51,  2.81it/s]/usr/local/lib/python3.11/dist-packages/librosa/core/spectrum.py:266: UserWarning: n_fft=2048 is too large for input signal of length=882\n",
            "  warnings.warn(\n",
            "Processing B_hit:   0%|          | 7/3190 [00:02<18:48,  2.82it/s]/usr/local/lib/python3.11/dist-packages/librosa/core/spectrum.py:266: UserWarning: n_fft=2048 is too large for input signal of length=882\n",
            "  warnings.warn(\n",
            "Processing B_hit:   0%|          | 10/3190 [00:03<20:37,  2.57it/s]/usr/local/lib/python3.11/dist-packages/librosa/core/spectrum.py:266: UserWarning: n_fft=2048 is too large for input signal of length=882\n",
            "  warnings.warn(\n",
            "Processing B_hit:   0%|          | 14/3190 [00:05<22:19,  2.37it/s]/usr/local/lib/python3.11/dist-packages/librosa/core/spectrum.py:266: UserWarning: n_fft=2048 is too large for input signal of length=882\n",
            "  warnings.warn(\n",
            "Processing B_hit:   1%|          | 17/3190 [00:06<22:05,  2.39it/s]/usr/local/lib/python3.11/dist-packages/librosa/core/spectrum.py:266: UserWarning: n_fft=2048 is too large for input signal of length=882\n",
            "  warnings.warn(\n",
            "Processing B_hit:   1%|          | 21/3190 [00:08<21:49,  2.42it/s]/usr/local/lib/python3.11/dist-packages/librosa/core/spectrum.py:266: UserWarning: n_fft=2048 is too large for input signal of length=882\n",
            "  warnings.warn(\n",
            "Processing B_hit:   1%|          | 24/3190 [00:09<21:11,  2.49it/s]/usr/local/lib/python3.11/dist-packages/librosa/core/spectrum.py:266: UserWarning: n_fft=2048 is too large for input signal of length=882\n",
            "  warnings.warn(\n",
            "Processing B_hit:   1%|          | 28/3190 [00:11<24:51,  2.12it/s]/usr/local/lib/python3.11/dist-packages/librosa/core/spectrum.py:266: UserWarning: n_fft=2048 is too large for input signal of length=882\n",
            "  warnings.warn(\n",
            "Processing B_hit:   1%|          | 29/3190 [00:11<24:14,  2.17it/s]/usr/local/lib/python3.11/dist-packages/librosa/core/spectrum.py:266: UserWarning: n_fft=2048 is too large for input signal of length=882\n",
            "  warnings.warn(\n",
            "Processing B_hit:   1%|          | 31/3190 [00:12<21:50,  2.41it/s]/usr/local/lib/python3.11/dist-packages/librosa/core/spectrum.py:266: UserWarning: n_fft=2048 is too large for input signal of length=882\n",
            "  warnings.warn(\n",
            "Processing B_hit:   1%|          | 32/3190 [00:41<7:55:22,  9.03s/it]/usr/local/lib/python3.11/dist-packages/librosa/core/spectrum.py:266: UserWarning: n_fft=2048 is too large for input signal of length=882\n",
            "  warnings.warn(\n",
            "Processing B_hit:   1%|          | 33/3190 [02:07<28:13:28, 32.19s/it]/usr/local/lib/python3.11/dist-packages/librosa/core/spectrum.py:266: UserWarning: n_fft=2048 is too large for input signal of length=882\n",
            "  warnings.warn(\n",
            "Processing B_hit:   1%|          | 34/3190 [02:07<19:47:30, 22.58s/it]/usr/local/lib/python3.11/dist-packages/librosa/core/spectrum.py:266: UserWarning: n_fft=2048 is too large for input signal of length=882\n",
            "  warnings.warn(\n",
            "Processing B_hit:   1%|▏         | 44/3190 [02:08<1:02:50,  1.20s/it]/usr/local/lib/python3.11/dist-packages/librosa/core/spectrum.py:266: UserWarning: n_fft=2048 is too large for input signal of length=882\n",
            "  warnings.warn(\n",
            "Processing B_hit:   2%|▏         | 62/3190 [02:09<06:30,  8.00it/s]/usr/local/lib/python3.11/dist-packages/librosa/core/spectrum.py:266: UserWarning: n_fft=2048 is too large for input signal of length=882\n",
            "  warnings.warn(\n",
            "Processing B_hit:   3%|▎         | 101/3190 [02:11<02:30, 20.47it/s]/usr/local/lib/python3.11/dist-packages/librosa/core/spectrum.py:266: UserWarning: n_fft=2048 is too large for input signal of length=882\n",
            "  warnings.warn(\n",
            "Processing B_hit:   4%|▍         | 122/3190 [02:12<02:30, 20.45it/s]/usr/local/lib/python3.11/dist-packages/librosa/core/spectrum.py:266: UserWarning: n_fft=2048 is too large for input signal of length=882\n",
            "  warnings.warn(\n",
            "Processing B_hit:   4%|▍         | 128/3190 [02:12<02:25, 21.11it/s]/usr/local/lib/python3.11/dist-packages/librosa/core/spectrum.py:266: UserWarning: n_fft=2048 is too large for input signal of length=882\n",
            "  warnings.warn(\n",
            "Processing B_hit:   5%|▍         | 146/3190 [02:13<02:21, 21.44it/s]/usr/local/lib/python3.11/dist-packages/librosa/core/spectrum.py:266: UserWarning: n_fft=2048 is too large for input signal of length=882\n",
            "  warnings.warn(\n",
            "Processing B_hit:   6%|▌         | 184/3190 [02:17<02:52, 17.39it/s]/usr/local/lib/python3.11/dist-packages/librosa/core/spectrum.py:266: UserWarning: n_fft=2048 is too large for input signal of length=882\n",
            "  warnings.warn(\n",
            "Processing B_hit:   6%|▋         | 202/3190 [02:18<02:24, 20.65it/s]/usr/local/lib/python3.11/dist-packages/librosa/core/spectrum.py:266: UserWarning: n_fft=2048 is too large for input signal of length=882\n",
            "  warnings.warn(\n",
            "Processing B_hit:   7%|▋         | 221/3190 [02:19<02:47, 17.76it/s]/usr/local/lib/python3.11/dist-packages/librosa/core/spectrum.py:266: UserWarning: n_fft=2048 is too large for input signal of length=882\n",
            "  warnings.warn(\n",
            "Processing B_hit:   8%|▊         | 249/3190 [02:21<03:06, 15.80it/s]/usr/local/lib/python3.11/dist-packages/librosa/core/spectrum.py:266: UserWarning: n_fft=2048 is too large for input signal of length=882\n",
            "  warnings.warn(\n",
            "Processing B_hit:   8%|▊         | 255/3190 [02:21<03:15, 15.00it/s]/usr/local/lib/python3.11/dist-packages/librosa/core/spectrum.py:266: UserWarning: n_fft=2048 is too large for input signal of length=882\n",
            "  warnings.warn(\n",
            "Processing B_hit:   8%|▊         | 269/3190 [02:22<03:16, 14.85it/s]/usr/local/lib/python3.11/dist-packages/librosa/core/spectrum.py:266: UserWarning: n_fft=2048 is too large for input signal of length=882\n",
            "  warnings.warn(\n",
            "Processing B_hit:   9%|▉         | 283/3190 [02:23<03:03, 15.82it/s]/usr/local/lib/python3.11/dist-packages/librosa/core/spectrum.py:266: UserWarning: n_fft=2048 is too large for input signal of length=882\n",
            "  warnings.warn(\n",
            "Processing B_hit:  10%|▉         | 317/3190 [02:25<02:16, 20.98it/s]/usr/local/lib/python3.11/dist-packages/librosa/core/spectrum.py:266: UserWarning: n_fft=2048 is too large for input signal of length=882\n",
            "  warnings.warn(\n",
            "Processing B_hit:  10%|█         | 326/3190 [02:25<02:16, 21.06it/s]/usr/local/lib/python3.11/dist-packages/librosa/core/spectrum.py:266: UserWarning: n_fft=2048 is too large for input signal of length=882\n",
            "  warnings.warn(\n",
            "Processing B_hit:  11%|█         | 344/3190 [02:26<02:14, 21.18it/s]/usr/local/lib/python3.11/dist-packages/librosa/core/spectrum.py:266: UserWarning: n_fft=2048 is too large for input signal of length=882\n",
            "  warnings.warn(\n",
            "Processing B_hit:  12%|█▏        | 383/3190 [02:28<02:14, 20.93it/s]/usr/local/lib/python3.11/dist-packages/librosa/core/spectrum.py:266: UserWarning: n_fft=2048 is too large for input signal of length=882\n",
            "  warnings.warn(\n",
            "Processing B_hit:  12%|█▏        | 389/3190 [02:28<02:17, 20.42it/s]/usr/local/lib/python3.11/dist-packages/librosa/core/spectrum.py:266: UserWarning: n_fft=2048 is too large for input signal of length=882\n",
            "  warnings.warn(\n",
            "Processing B_hit:  13%|█▎        | 410/3190 [02:29<02:14, 20.70it/s]/usr/local/lib/python3.11/dist-packages/librosa/core/spectrum.py:266: UserWarning: n_fft=2048 is too large for input signal of length=882\n",
            "  warnings.warn(\n",
            "Processing B_hit:  14%|█▍        | 446/3190 [02:31<02:10, 20.97it/s]/usr/local/lib/python3.11/dist-packages/librosa/core/spectrum.py:266: UserWarning: n_fft=2048 is too large for input signal of length=882\n",
            "  warnings.warn(\n",
            "Processing B_hit:  15%|█▍        | 467/3190 [02:32<02:12, 20.56it/s]/usr/local/lib/python3.11/dist-packages/librosa/core/spectrum.py:266: UserWarning: n_fft=2048 is too large for input signal of length=882\n",
            "  warnings.warn(\n",
            "Processing B_hit:  15%|█▍        | 476/3190 [02:32<02:09, 20.91it/s]/usr/local/lib/python3.11/dist-packages/librosa/core/spectrum.py:266: UserWarning: n_fft=2048 is too large for input signal of length=882\n",
            "  warnings.warn(\n",
            "Processing B_hit:  15%|█▌        | 494/3190 [02:33<02:09, 20.77it/s]/usr/local/lib/python3.11/dist-packages/librosa/core/spectrum.py:266: UserWarning: n_fft=2048 is too large for input signal of length=882\n",
            "  warnings.warn(\n",
            "Processing B_hit:  16%|█▋        | 523/3190 [02:35<02:47, 15.89it/s]/usr/local/lib/python3.11/dist-packages/librosa/core/spectrum.py:266: UserWarning: n_fft=2048 is too large for input signal of length=882\n",
            "  warnings.warn(\n",
            "Processing B_hit:  17%|█▋        | 529/3190 [02:35<02:40, 16.55it/s]/usr/local/lib/python3.11/dist-packages/librosa/core/spectrum.py:266: UserWarning: n_fft=2048 is too large for input signal of length=882\n",
            "  warnings.warn(\n",
            "Processing B_hit:  17%|█▋        | 545/3190 [02:36<02:36, 16.93it/s]/usr/local/lib/python3.11/dist-packages/librosa/core/spectrum.py:266: UserWarning: n_fft=2048 is too large for input signal of length=882\n",
            "  warnings.warn(\n",
            "Processing B_hit:  18%|█▊        | 571/3190 [02:38<02:45, 15.81it/s]/usr/local/lib/python3.11/dist-packages/librosa/core/spectrum.py:266: UserWarning: n_fft=2048 is too large for input signal of length=882\n",
            "  warnings.warn(\n",
            "Processing B_hit:  18%|█▊        | 577/3190 [02:38<02:48, 15.46it/s]/usr/local/lib/python3.11/dist-packages/librosa/core/spectrum.py:266: UserWarning: n_fft=2048 is too large for input signal of length=882\n",
            "  warnings.warn(\n",
            "Processing B_hit:  19%|█▊        | 595/3190 [02:39<02:04, 20.90it/s]/usr/local/lib/python3.11/dist-packages/librosa/core/spectrum.py:266: UserWarning: n_fft=2048 is too large for input signal of length=882\n",
            "  warnings.warn(\n",
            "Processing B_hit:  20%|█▉        | 631/3190 [02:41<01:57, 21.73it/s]/usr/local/lib/python3.11/dist-packages/librosa/core/spectrum.py:266: UserWarning: n_fft=2048 is too large for input signal of length=882\n",
            "  warnings.warn(\n",
            "Processing B_hit:  20%|██        | 640/3190 [02:41<01:56, 21.92it/s]/usr/local/lib/python3.11/dist-packages/librosa/core/spectrum.py:266: UserWarning: n_fft=2048 is too large for input signal of length=882\n",
            "  warnings.warn(\n",
            "Processing B_hit:  21%|██        | 658/3190 [02:42<02:05, 20.23it/s]/usr/local/lib/python3.11/dist-packages/librosa/core/spectrum.py:266: UserWarning: n_fft=2048 is too large for input signal of length=882\n",
            "  warnings.warn(\n",
            "Processing B_hit:  22%|██▏       | 697/3190 [02:44<01:54, 21.82it/s]/usr/local/lib/python3.11/dist-packages/librosa/core/spectrum.py:266: UserWarning: n_fft=2048 is too large for input signal of length=882\n",
            "  warnings.warn(\n",
            "Processing B_hit:  22%|██▏       | 706/3190 [02:44<01:52, 22.02it/s]/usr/local/lib/python3.11/dist-packages/librosa/core/spectrum.py:266: UserWarning: n_fft=2048 is too large for input signal of length=882\n",
            "  warnings.warn(\n",
            "Processing B_hit:  23%|██▎       | 727/3190 [02:45<01:58, 20.85it/s]/usr/local/lib/python3.11/dist-packages/librosa/core/spectrum.py:266: UserWarning: n_fft=2048 is too large for input signal of length=882\n",
            "  warnings.warn(\n",
            "Processing B_hit:  24%|██▍       | 763/3190 [02:47<01:58, 20.54it/s]/usr/local/lib/python3.11/dist-packages/librosa/core/spectrum.py:266: UserWarning: n_fft=2048 is too large for input signal of length=882\n",
            "  warnings.warn(\n",
            "Processing B_hit:  24%|██▍       | 772/3190 [02:47<01:53, 21.32it/s]/usr/local/lib/python3.11/dist-packages/librosa/core/spectrum.py:266: UserWarning: n_fft=2048 is too large for input signal of length=882\n",
            "  warnings.warn(\n",
            "Processing B_hit:  25%|██▍       | 787/3190 [02:48<01:59, 20.04it/s]/usr/local/lib/python3.11/dist-packages/librosa/core/spectrum.py:266: UserWarning: n_fft=2048 is too large for input signal of length=882\n",
            "  warnings.warn(\n",
            "Processing B_hit:  25%|██▌       | 807/3190 [02:49<02:21, 16.82it/s]/usr/local/lib/python3.11/dist-packages/librosa/core/spectrum.py:266: UserWarning: n_fft=2048 is too large for input signal of length=882\n",
            "  warnings.warn(\n",
            "Processing B_hit:  26%|██▌       | 833/3190 [02:51<02:38, 14.86it/s]/usr/local/lib/python3.11/dist-packages/librosa/core/spectrum.py:266: UserWarning: n_fft=2048 is too large for input signal of length=882\n",
            "  warnings.warn(\n",
            "Processing B_hit:  26%|██▋       | 839/3190 [02:51<02:33, 15.29it/s]/usr/local/lib/python3.11/dist-packages/librosa/core/spectrum.py:266: UserWarning: n_fft=2048 is too large for input signal of length=882\n",
            "  warnings.warn(\n",
            "Processing B_hit:  27%|██▋       | 855/3190 [02:52<02:24, 16.17it/s]/usr/local/lib/python3.11/dist-packages/librosa/core/spectrum.py:266: UserWarning: n_fft=2048 is too large for input signal of length=882\n",
            "  warnings.warn(\n",
            "Processing B_hit:  28%|██▊       | 880/3190 [02:54<02:14, 17.21it/s]/usr/local/lib/python3.11/dist-packages/librosa/core/spectrum.py:266: UserWarning: n_fft=2048 is too large for input signal of length=882\n",
            "  warnings.warn(\n",
            "Processing B_hit:  28%|██▊       | 887/3190 [02:54<01:57, 19.55it/s]/usr/local/lib/python3.11/dist-packages/librosa/core/spectrum.py:266: UserWarning: n_fft=2048 is too large for input signal of length=882\n",
            "  warnings.warn(\n",
            "Processing B_hit:  28%|██▊       | 908/3190 [02:55<01:44, 21.79it/s]/usr/local/lib/python3.11/dist-packages/librosa/core/spectrum.py:266: UserWarning: n_fft=2048 is too large for input signal of length=882\n",
            "  warnings.warn(\n",
            "Processing B_hit:  30%|██▉       | 947/3190 [02:57<01:41, 22.18it/s]/usr/local/lib/python3.11/dist-packages/librosa/core/spectrum.py:266: UserWarning: n_fft=2048 is too large for input signal of length=882\n",
            "  warnings.warn(\n",
            "Processing B_hit:  30%|██▉       | 953/3190 [02:57<01:43, 21.65it/s]/usr/local/lib/python3.11/dist-packages/librosa/core/spectrum.py:266: UserWarning: n_fft=2048 is too large for input signal of length=882\n",
            "  warnings.warn(\n",
            "Processing B_hit:  31%|███       | 974/3190 [02:58<01:43, 21.31it/s]/usr/local/lib/python3.11/dist-packages/librosa/core/spectrum.py:266: UserWarning: n_fft=2048 is too large for input signal of length=882\n",
            "  warnings.warn(\n",
            "Processing B_hit:  31%|███       | 995/3190 [02:59<01:40, 21.80it/s]/usr/local/lib/python3.11/dist-packages/librosa/core/spectrum.py:266: UserWarning: n_fft=2048 is too large for input signal of length=882\n",
            "  warnings.warn(\n",
            "Processing B_hit:  33%|███▎      | 1039/3190 [03:04<02:33, 14.02it/s]/usr/local/lib/python3.11/dist-packages/librosa/core/spectrum.py:266: UserWarning: n_fft=2048 is too large for input signal of length=882\n",
            "  warnings.warn(\n",
            "Processing B_hit:  33%|███▎      | 1055/3190 [03:05<02:25, 14.70it/s]/usr/local/lib/python3.11/dist-packages/librosa/core/spectrum.py:266: UserWarning: n_fft=2048 is too large for input signal of length=882\n",
            "  warnings.warn(\n",
            "Processing B_hit:  34%|███▍      | 1085/3190 [03:07<02:12, 15.90it/s]/usr/local/lib/python3.11/dist-packages/librosa/core/spectrum.py:266: UserWarning: n_fft=2048 is too large for input signal of length=882\n",
            "  warnings.warn(\n",
            "Processing B_hit:  35%|███▍      | 1101/3190 [03:08<02:05, 16.62it/s]/usr/local/lib/python3.11/dist-packages/librosa/core/spectrum.py:266: UserWarning: n_fft=2048 is too large for input signal of length=882\n",
            "  warnings.warn(\n",
            "Processing B_hit:  35%|███▍      | 1112/3190 [03:09<02:44, 12.63it/s]/usr/local/lib/python3.11/dist-packages/librosa/core/spectrum.py:266: UserWarning: n_fft=2048 is too large for input signal of length=882\n",
            "  warnings.warn(\n",
            "Processing B_hit:  35%|███▌      | 1120/3190 [03:09<02:10, 15.82it/s]/usr/local/lib/python3.11/dist-packages/librosa/core/spectrum.py:266: UserWarning: n_fft=2048 is too large for input signal of length=882\n",
            "  warnings.warn(\n",
            "Processing B_hit:  36%|███▌      | 1140/3190 [03:10<01:40, 20.40it/s]/usr/local/lib/python3.11/dist-packages/librosa/core/spectrum.py:266: UserWarning: n_fft=2048 is too large for input signal of length=882\n",
            "  warnings.warn(\n",
            "Processing B_hit:  37%|███▋      | 1176/3190 [03:12<01:28, 22.66it/s]/usr/local/lib/python3.11/dist-packages/librosa/core/spectrum.py:266: UserWarning: n_fft=2048 is too large for input signal of length=882\n",
            "  warnings.warn(\n",
            "Processing B_hit:  37%|███▋      | 1182/3190 [03:12<01:35, 21.12it/s]/usr/local/lib/python3.11/dist-packages/librosa/core/spectrum.py:266: UserWarning: n_fft=2048 is too large for input signal of length=882\n",
            "  warnings.warn(\n",
            "Processing B_hit:  38%|███▊      | 1203/3190 [03:13<01:32, 21.45it/s]/usr/local/lib/python3.11/dist-packages/librosa/core/spectrum.py:266: UserWarning: n_fft=2048 is too large for input signal of length=882\n",
            "  warnings.warn(\n",
            "Processing B_hit:  39%|███▉      | 1242/3190 [03:15<01:25, 22.86it/s]/usr/local/lib/python3.11/dist-packages/librosa/core/spectrum.py:266: UserWarning: n_fft=2048 is too large for input signal of length=882\n",
            "  warnings.warn(\n",
            "Processing B_hit:  39%|███▉      | 1248/3190 [03:15<01:28, 22.03it/s]/usr/local/lib/python3.11/dist-packages/librosa/core/spectrum.py:266: UserWarning: n_fft=2048 is too large for input signal of length=882\n",
            "  warnings.warn(\n",
            "Processing B_hit:  40%|███▉      | 1272/3190 [03:16<01:25, 22.37it/s]/usr/local/lib/python3.11/dist-packages/librosa/core/spectrum.py:266: UserWarning: n_fft=2048 is too large for input signal of length=882\n",
            "  warnings.warn(\n",
            "Processing B_hit:  41%|████      | 1308/3190 [03:18<01:25, 21.92it/s]/usr/local/lib/python3.11/dist-packages/librosa/core/spectrum.py:266: UserWarning: n_fft=2048 is too large for input signal of length=882\n",
            "  warnings.warn(\n",
            "Processing B_hit:  41%|████▏     | 1317/3190 [03:18<01:28, 21.12it/s]/usr/local/lib/python3.11/dist-packages/librosa/core/spectrum.py:266: UserWarning: n_fft=2048 is too large for input signal of length=882\n",
            "  warnings.warn(\n",
            "Processing B_hit:  42%|████▏     | 1333/3190 [03:19<01:46, 17.51it/s]/usr/local/lib/python3.11/dist-packages/librosa/core/spectrum.py:266: UserWarning: n_fft=2048 is too large for input signal of length=882\n",
            "  warnings.warn(\n",
            "Processing B_hit:  43%|████▎     | 1359/3190 [03:21<02:06, 14.51it/s]/usr/local/lib/python3.11/dist-packages/librosa/core/spectrum.py:266: UserWarning: n_fft=2048 is too large for input signal of length=882\n",
            "  warnings.warn(\n",
            "Processing B_hit:  43%|████▎     | 1365/3190 [03:21<01:57, 15.52it/s]/usr/local/lib/python3.11/dist-packages/librosa/core/spectrum.py:266: UserWarning: n_fft=2048 is too large for input signal of length=882\n",
            "  warnings.warn(\n",
            "Processing B_hit:  43%|████▎     | 1379/3190 [03:22<01:54, 15.81it/s]/usr/local/lib/python3.11/dist-packages/librosa/core/spectrum.py:266: UserWarning: n_fft=2048 is too large for input signal of length=882\n",
            "  warnings.warn(\n",
            "Processing B_hit:  44%|████▍     | 1414/3190 [03:24<01:21, 21.83it/s]/usr/local/lib/python3.11/dist-packages/librosa/core/spectrum.py:266: UserWarning: n_fft=2048 is too large for input signal of length=882\n",
            "  warnings.warn(\n",
            "Processing B_hit:  45%|████▍     | 1423/3190 [03:24<01:18, 22.43it/s]/usr/local/lib/python3.11/dist-packages/librosa/core/spectrum.py:266: UserWarning: n_fft=2048 is too large for input signal of length=882\n",
            "  warnings.warn(\n",
            "Processing B_hit:  45%|████▌     | 1444/3190 [03:25<01:18, 22.28it/s]/usr/local/lib/python3.11/dist-packages/librosa/core/spectrum.py:266: UserWarning: n_fft=2048 is too large for input signal of length=882\n",
            "  warnings.warn(\n",
            "Processing B_hit:  46%|████▋     | 1483/3190 [03:27<01:21, 20.90it/s]/usr/local/lib/python3.11/dist-packages/librosa/core/spectrum.py:266: UserWarning: n_fft=2048 is too large for input signal of length=882\n",
            "  warnings.warn(\n",
            "Processing B_hit:  47%|████▋     | 1504/3190 [03:28<01:18, 21.39it/s]/usr/local/lib/python3.11/dist-packages/librosa/core/spectrum.py:266: UserWarning: n_fft=2048 is too large for input signal of length=882\n",
            "  warnings.warn(\n",
            "Processing B_hit:  47%|████▋     | 1510/3190 [03:28<01:19, 21.01it/s]/usr/local/lib/python3.11/dist-packages/librosa/core/spectrum.py:266: UserWarning: n_fft=2048 is too large for input signal of length=882\n",
            "  warnings.warn(\n",
            "Processing B_hit:  48%|████▊     | 1531/3190 [03:29<01:17, 21.41it/s]/usr/local/lib/python3.11/dist-packages/librosa/core/spectrum.py:266: UserWarning: n_fft=2048 is too large for input signal of length=882\n",
            "  warnings.warn(\n",
            "Processing B_hit:  49%|████▉     | 1565/3190 [03:31<01:17, 20.87it/s]/usr/local/lib/python3.11/dist-packages/librosa/core/spectrum.py:266: UserWarning: n_fft=2048 is too large for input signal of length=882\n",
            "  warnings.warn(\n",
            "Processing B_hit:  50%|████▉     | 1586/3190 [03:32<01:10, 22.66it/s]/usr/local/lib/python3.11/dist-packages/librosa/core/spectrum.py:266: UserWarning: n_fft=2048 is too large for input signal of length=882\n",
            "  warnings.warn(\n",
            "Processing B_hit:  50%|█████     | 1595/3190 [03:32<01:13, 21.75it/s]/usr/local/lib/python3.11/dist-packages/librosa/core/spectrum.py:266: UserWarning: n_fft=2048 is too large for input signal of length=882\n",
            "  warnings.warn(\n",
            "Processing B_hit:  51%|█████     | 1611/3190 [03:33<01:39, 15.80it/s]/usr/local/lib/python3.11/dist-packages/librosa/core/spectrum.py:266: UserWarning: n_fft=2048 is too large for input signal of length=882\n",
            "  warnings.warn(\n",
            "Processing B_hit:  51%|█████     | 1627/3190 [03:34<01:35, 16.40it/s]/usr/local/lib/python3.11/dist-packages/librosa/core/spectrum.py:266: UserWarning: n_fft=2048 is too large for input signal of length=882\n",
            "  warnings.warn(\n",
            "Processing B_hit:  52%|█████▏    | 1643/3190 [03:35<01:33, 16.51it/s]/usr/local/lib/python3.11/dist-packages/librosa/core/spectrum.py:266: UserWarning: n_fft=2048 is too large for input signal of length=882\n",
            "  warnings.warn(\n",
            "Processing B_hit:  52%|█████▏    | 1669/3190 [03:37<01:39, 15.24it/s]/usr/local/lib/python3.11/dist-packages/librosa/core/spectrum.py:266: UserWarning: n_fft=2048 is too large for input signal of length=882\n",
            "  warnings.warn(\n",
            "Processing B_hit:  53%|█████▎    | 1677/3190 [03:37<01:18, 19.25it/s]/usr/local/lib/python3.11/dist-packages/librosa/core/spectrum.py:266: UserWarning: n_fft=2048 is too large for input signal of length=882\n",
            "  warnings.warn(\n",
            "Processing B_hit:  53%|█████▎    | 1698/3190 [03:38<01:07, 22.02it/s]/usr/local/lib/python3.11/dist-packages/librosa/core/spectrum.py:266: UserWarning: n_fft=2048 is too large for input signal of length=882\n",
            "  warnings.warn(\n",
            "Processing B_hit:  54%|█████▍    | 1734/3190 [03:40<01:10, 20.66it/s]/usr/local/lib/python3.11/dist-packages/librosa/core/spectrum.py:266: UserWarning: n_fft=2048 is too large for input signal of length=882\n",
            "  warnings.warn(\n",
            "Processing B_hit:  55%|█████▍    | 1743/3190 [03:40<01:05, 21.93it/s]/usr/local/lib/python3.11/dist-packages/librosa/core/spectrum.py:266: UserWarning: n_fft=2048 is too large for input signal of length=882\n",
            "  warnings.warn(\n",
            "Processing B_hit:  55%|█████▌    | 1764/3190 [03:41<01:02, 22.76it/s]/usr/local/lib/python3.11/dist-packages/librosa/core/spectrum.py:266: UserWarning: n_fft=2048 is too large for input signal of length=882\n",
            "  warnings.warn(\n",
            "Processing B_hit:  56%|█████▌    | 1785/3190 [03:42<01:03, 22.17it/s]/usr/local/lib/python3.11/dist-packages/librosa/core/spectrum.py:266: UserWarning: n_fft=2048 is too large for input signal of length=882\n",
            "  warnings.warn(\n",
            "Processing B_hit:  57%|█████▋    | 1821/3190 [03:44<01:04, 21.29it/s]/usr/local/lib/python3.11/dist-packages/librosa/core/spectrum.py:266: UserWarning: n_fft=2048 is too large for input signal of length=882\n",
            "  warnings.warn(\n",
            "Processing B_hit:  57%|█████▋    | 1830/3190 [03:44<01:04, 21.08it/s]/usr/local/lib/python3.11/dist-packages/librosa/core/spectrum.py:266: UserWarning: n_fft=2048 is too large for input signal of length=882\n",
            "  warnings.warn(\n",
            "Processing B_hit:  58%|█████▊    | 1848/3190 [03:45<01:03, 20.98it/s]/usr/local/lib/python3.11/dist-packages/librosa/core/spectrum.py:266: UserWarning: n_fft=2048 is too large for input signal of length=882\n",
            "  warnings.warn(\n",
            "Processing B_hit:  59%|█████▉    | 1884/3190 [03:47<01:02, 21.00it/s]/usr/local/lib/python3.11/dist-packages/librosa/core/spectrum.py:266: UserWarning: n_fft=2048 is too large for input signal of length=882\n",
            "  warnings.warn(\n",
            "Processing B_hit:  59%|█████▉    | 1889/3190 [03:47<01:12, 17.86it/s]/usr/local/lib/python3.11/dist-packages/librosa/core/spectrum.py:266: UserWarning: n_fft=2048 is too large for input signal of length=882\n",
            "  warnings.warn(\n",
            "Processing B_hit:  60%|█████▉    | 1905/3190 [03:48<01:19, 16.17it/s]/usr/local/lib/python3.11/dist-packages/librosa/core/spectrum.py:266: UserWarning: n_fft=2048 is too large for input signal of length=882\n",
            "  warnings.warn(\n",
            "Processing B_hit:  60%|██████    | 1929/3190 [03:50<01:19, 15.95it/s]/usr/local/lib/python3.11/dist-packages/librosa/core/spectrum.py:266: UserWarning: n_fft=2048 is too large for input signal of length=882\n",
            "  warnings.warn(\n",
            "Processing B_hit:  61%|██████    | 1935/3190 [03:50<01:24, 14.87it/s]/usr/local/lib/python3.11/dist-packages/librosa/core/spectrum.py:266: UserWarning: n_fft=2048 is too large for input signal of length=882\n",
            "  warnings.warn(\n",
            "Processing B_hit:  61%|██████    | 1949/3190 [03:51<02:05,  9.89it/s]/usr/local/lib/python3.11/dist-packages/librosa/core/spectrum.py:266: UserWarning: n_fft=2048 is too large for input signal of length=882\n",
            "  warnings.warn(\n",
            "Processing B_hit:  62%|██████▏   | 1975/3190 [03:53<01:13, 16.58it/s]/usr/local/lib/python3.11/dist-packages/librosa/core/spectrum.py:266: UserWarning: n_fft=2048 is too large for input signal of length=882\n",
            "  warnings.warn(\n",
            "Processing B_hit:  62%|██████▏   | 1985/3190 [03:53<01:01, 19.58it/s]/usr/local/lib/python3.11/dist-packages/librosa/core/spectrum.py:266: UserWarning: n_fft=2048 is too large for input signal of length=882\n",
            "  warnings.warn(\n",
            "Processing B_hit:  63%|██████▎   | 2006/3190 [03:54<00:54, 21.54it/s]/usr/local/lib/python3.11/dist-packages/librosa/core/spectrum.py:266: UserWarning: n_fft=2048 is too large for input signal of length=882\n",
            "  warnings.warn(\n",
            "Processing B_hit:  64%|██████▍   | 2042/3190 [03:56<00:52, 21.71it/s]/usr/local/lib/python3.11/dist-packages/librosa/core/spectrum.py:266: UserWarning: n_fft=2048 is too large for input signal of length=882\n",
            "  warnings.warn(\n",
            "Processing B_hit:  65%|██████▍   | 2063/3190 [03:57<00:51, 22.05it/s]/usr/local/lib/python3.11/dist-packages/librosa/core/spectrum.py:266: UserWarning: n_fft=2048 is too large for input signal of length=882\n",
            "  warnings.warn(\n",
            "Processing B_hit:  65%|██████▍   | 2072/3190 [03:57<00:51, 21.69it/s]/usr/local/lib/python3.11/dist-packages/librosa/core/spectrum.py:266: UserWarning: n_fft=2048 is too large for input signal of length=882\n",
            "  warnings.warn(\n",
            "Processing B_hit:  66%|██████▌   | 2102/3190 [04:03<01:17, 14.09it/s]/usr/local/lib/python3.11/dist-packages/librosa/core/spectrum.py:266: UserWarning: n_fft=2048 is too large for input signal of length=882\n",
            "  warnings.warn(\n",
            "Processing B_hit:  67%|██████▋   | 2126/3190 [04:04<01:06, 16.10it/s]/usr/local/lib/python3.11/dist-packages/librosa/core/spectrum.py:266: UserWarning: n_fft=2048 is too large for input signal of length=882\n",
            "  warnings.warn(\n",
            "Processing B_hit:  67%|██████▋   | 2140/3190 [04:05<01:05, 16.03it/s]/usr/local/lib/python3.11/dist-packages/librosa/core/spectrum.py:266: UserWarning: n_fft=2048 is too large for input signal of length=882\n",
            "  warnings.warn(\n",
            "Processing B_hit:  67%|██████▋   | 2144/3190 [04:05<01:11, 14.59it/s]/usr/local/lib/python3.11/dist-packages/librosa/core/spectrum.py:266: UserWarning: n_fft=2048 is too large for input signal of length=882\n",
            "  warnings.warn(\n",
            "Processing B_hit:  68%|██████▊   | 2163/3190 [04:06<00:50, 20.34it/s]/usr/local/lib/python3.11/dist-packages/librosa/core/spectrum.py:266: UserWarning: n_fft=2048 is too large for input signal of length=882\n",
            "  warnings.warn(\n",
            "Processing B_hit:  68%|██████▊   | 2184/3190 [04:07<00:44, 22.39it/s]/usr/local/lib/python3.11/dist-packages/librosa/core/spectrum.py:266: UserWarning: n_fft=2048 is too large for input signal of length=882\n",
            "  warnings.warn(\n",
            "Processing B_hit:  70%|██████▉   | 2220/3190 [04:09<00:43, 22.25it/s]/usr/local/lib/python3.11/dist-packages/librosa/core/spectrum.py:266: UserWarning: n_fft=2048 is too large for input signal of length=882\n",
            "  warnings.warn(\n",
            "Processing B_hit:  70%|██████▉   | 2226/3190 [04:09<00:45, 21.07it/s]/usr/local/lib/python3.11/dist-packages/librosa/core/spectrum.py:266: UserWarning: n_fft=2048 is too large for input signal of length=882\n",
            "  warnings.warn(\n",
            "Processing B_hit:  71%|███████   | 2250/3190 [04:10<00:45, 20.81it/s]/usr/local/lib/python3.11/dist-packages/librosa/core/spectrum.py:266: UserWarning: n_fft=2048 is too large for input signal of length=882\n",
            "  warnings.warn(\n",
            "Processing B_hit:  72%|███████▏  | 2286/3190 [04:12<00:41, 21.81it/s]/usr/local/lib/python3.11/dist-packages/librosa/core/spectrum.py:266: UserWarning: n_fft=2048 is too large for input signal of length=882\n",
            "  warnings.warn(\n",
            "Processing B_hit:  72%|███████▏  | 2295/3190 [04:12<00:43, 20.76it/s]/usr/local/lib/python3.11/dist-packages/librosa/core/spectrum.py:266: UserWarning: n_fft=2048 is too large for input signal of length=882\n",
            "  warnings.warn(\n",
            "Processing B_hit:  72%|███████▏  | 2309/3190 [04:13<00:48, 18.31it/s]/usr/local/lib/python3.11/dist-packages/librosa/core/spectrum.py:266: UserWarning: n_fft=2048 is too large for input signal of length=882\n",
            "  warnings.warn(\n",
            "Processing B_hit:  73%|███████▎  | 2344/3190 [04:15<00:38, 21.84it/s]/usr/local/lib/python3.11/dist-packages/librosa/core/spectrum.py:266: UserWarning: n_fft=2048 is too large for input signal of length=882\n",
            "  warnings.warn(\n",
            "Processing B_hit:  74%|███████▍  | 2353/3190 [04:15<00:40, 20.85it/s]/usr/local/lib/python3.11/dist-packages/librosa/core/spectrum.py:266: UserWarning: n_fft=2048 is too large for input signal of length=882\n",
            "  warnings.warn(\n",
            "Processing B_hit:  74%|███████▍  | 2370/3190 [04:16<00:48, 17.07it/s]/usr/local/lib/python3.11/dist-packages/librosa/core/spectrum.py:266: UserWarning: n_fft=2048 is too large for input signal of length=882\n",
            "  warnings.warn(\n",
            "Processing B_hit:  75%|███████▌  | 2397/3190 [04:18<00:50, 15.81it/s]/usr/local/lib/python3.11/dist-packages/librosa/core/spectrum.py:266: UserWarning: n_fft=2048 is too large for input signal of length=882\n",
            "  warnings.warn(\n",
            "Processing B_hit:  75%|███████▌  | 2403/3190 [04:18<00:47, 16.41it/s]/usr/local/lib/python3.11/dist-packages/librosa/core/spectrum.py:266: UserWarning: n_fft=2048 is too large for input signal of length=882\n",
            "  warnings.warn(\n",
            "Processing B_hit:  76%|███████▌  | 2417/3190 [04:19<00:50, 15.39it/s]/usr/local/lib/python3.11/dist-packages/librosa/core/spectrum.py:266: UserWarning: n_fft=2048 is too large for input signal of length=882\n",
            "  warnings.warn(\n",
            "Processing B_hit:  76%|███████▌  | 2431/3190 [04:20<00:47, 15.87it/s]/usr/local/lib/python3.11/dist-packages/librosa/core/spectrum.py:266: UserWarning: n_fft=2048 is too large for input signal of length=882\n",
            "  warnings.warn(\n",
            "Processing B_hit:  77%|███████▋  | 2456/3190 [04:21<00:35, 20.52it/s]/usr/local/lib/python3.11/dist-packages/librosa/core/spectrum.py:266: UserWarning: n_fft=2048 is too large for input signal of length=882\n",
            "  warnings.warn(\n",
            "Processing B_hit:  78%|███████▊  | 2474/3190 [04:22<00:33, 21.45it/s]/usr/local/lib/python3.11/dist-packages/librosa/core/spectrum.py:266: UserWarning: n_fft=2048 is too large for input signal of length=882\n",
            "  warnings.warn(\n",
            "Processing B_hit:  79%|███████▉  | 2513/3190 [04:24<00:31, 21.73it/s]/usr/local/lib/python3.11/dist-packages/librosa/core/spectrum.py:266: UserWarning: n_fft=2048 is too large for input signal of length=882\n",
            "  warnings.warn(\n",
            "Processing B_hit:  79%|███████▉  | 2531/3190 [04:25<00:31, 21.03it/s]/usr/local/lib/python3.11/dist-packages/librosa/core/spectrum.py:266: UserWarning: n_fft=2048 is too large for input signal of length=882\n",
            "  warnings.warn(\n",
            "Processing B_hit:  80%|███████▉  | 2537/3190 [04:25<00:31, 20.87it/s]/usr/local/lib/python3.11/dist-packages/librosa/core/spectrum.py:266: UserWarning: n_fft=2048 is too large for input signal of length=882\n",
            "  warnings.warn(\n",
            "Processing B_hit:  80%|████████  | 2558/3190 [04:26<00:30, 20.55it/s]/usr/local/lib/python3.11/dist-packages/librosa/core/spectrum.py:266: UserWarning: n_fft=2048 is too large for input signal of length=882\n",
            "  warnings.warn(\n",
            "Processing B_hit:  81%|████████▏ | 2597/3190 [04:28<00:26, 22.57it/s]/usr/local/lib/python3.11/dist-packages/librosa/core/spectrum.py:266: UserWarning: n_fft=2048 is too large for input signal of length=882\n",
            "  warnings.warn(\n",
            "Processing B_hit:  82%|████████▏ | 2618/3190 [04:29<00:26, 21.39it/s]/usr/local/lib/python3.11/dist-packages/librosa/core/spectrum.py:266: UserWarning: n_fft=2048 is too large for input signal of length=882\n",
            "  warnings.warn(\n",
            "Processing B_hit:  83%|████████▎ | 2639/3190 [04:30<00:26, 20.61it/s]/usr/local/lib/python3.11/dist-packages/librosa/core/spectrum.py:266: UserWarning: n_fft=2048 is too large for input signal of length=882\n",
            "  warnings.warn(\n",
            "Processing B_hit:  83%|████████▎ | 2658/3190 [04:31<00:29, 18.16it/s]/usr/local/lib/python3.11/dist-packages/librosa/core/spectrum.py:266: UserWarning: n_fft=2048 is too large for input signal of length=882\n",
            "  warnings.warn(\n",
            "Processing B_hit:  83%|████████▎ | 2662/3190 [04:31<00:34, 15.45it/s]/usr/local/lib/python3.11/dist-packages/librosa/core/spectrum.py:266: UserWarning: n_fft=2048 is too large for input signal of length=882\n",
            "  warnings.warn(\n",
            "Processing B_hit:  84%|████████▍ | 2678/3190 [04:32<00:33, 15.17it/s]/usr/local/lib/python3.11/dist-packages/librosa/core/spectrum.py:266: UserWarning: n_fft=2048 is too large for input signal of length=882\n",
            "  warnings.warn(\n",
            "Processing B_hit:  85%|████████▍ | 2708/3190 [04:34<00:30, 15.92it/s]/usr/local/lib/python3.11/dist-packages/librosa/core/spectrum.py:266: UserWarning: n_fft=2048 is too large for input signal of length=882\n",
            "  warnings.warn(\n",
            "Processing B_hit:  85%|████████▌ | 2716/3190 [04:35<00:37, 12.57it/s]/usr/local/lib/python3.11/dist-packages/librosa/core/spectrum.py:266: UserWarning: n_fft=2048 is too large for input signal of length=882\n",
            "  warnings.warn(\n",
            "Processing B_hit:  85%|████████▌ | 2721/3190 [04:35<00:30, 15.20it/s]/usr/local/lib/python3.11/dist-packages/librosa/core/spectrum.py:266: UserWarning: n_fft=2048 is too large for input signal of length=882\n",
            "  warnings.warn(\n",
            "Processing B_hit:  86%|████████▌ | 2745/3190 [04:36<00:20, 21.64it/s]/usr/local/lib/python3.11/dist-packages/librosa/core/spectrum.py:266: UserWarning: n_fft=2048 is too large for input signal of length=882\n",
            "  warnings.warn(\n",
            "Processing B_hit:  87%|████████▋ | 2781/3190 [04:38<00:18, 22.03it/s]/usr/local/lib/python3.11/dist-packages/librosa/core/spectrum.py:266: UserWarning: n_fft=2048 is too large for input signal of length=882\n",
            "  warnings.warn(\n",
            "Processing B_hit:  87%|████████▋ | 2790/3190 [04:38<00:18, 21.26it/s]/usr/local/lib/python3.11/dist-packages/librosa/core/spectrum.py:266: UserWarning: n_fft=2048 is too large for input signal of length=882\n",
            "  warnings.warn(\n",
            "Processing B_hit:  88%|████████▊ | 2808/3190 [04:39<00:17, 22.45it/s]/usr/local/lib/python3.11/dist-packages/librosa/core/spectrum.py:266: UserWarning: n_fft=2048 is too large for input signal of length=882\n",
            "  warnings.warn(\n",
            "Processing B_hit:  89%|████████▉ | 2847/3190 [04:41<00:15, 21.54it/s]/usr/local/lib/python3.11/dist-packages/librosa/core/spectrum.py:266: UserWarning: n_fft=2048 is too large for input signal of length=882\n",
            "  warnings.warn(\n",
            "Processing B_hit:  90%|████████▉ | 2856/3190 [04:41<00:16, 20.47it/s]/usr/local/lib/python3.11/dist-packages/librosa/core/spectrum.py:266: UserWarning: n_fft=2048 is too large for input signal of length=882\n",
            "  warnings.warn(\n",
            "Processing B_hit:  90%|█████████ | 2874/3190 [04:42<00:14, 22.21it/s]/usr/local/lib/python3.11/dist-packages/librosa/core/spectrum.py:266: UserWarning: n_fft=2048 is too large for input signal of length=882\n",
            "  warnings.warn(\n",
            "Processing B_hit:  91%|█████████▏| 2913/3190 [04:44<00:13, 20.80it/s]/usr/local/lib/python3.11/dist-packages/librosa/core/spectrum.py:266: UserWarning: n_fft=2048 is too large for input signal of length=882\n",
            "  warnings.warn(\n",
            "Processing B_hit:  92%|█████████▏| 2931/3190 [04:45<00:12, 21.49it/s]/usr/local/lib/python3.11/dist-packages/librosa/core/spectrum.py:266: UserWarning: n_fft=2048 is too large for input signal of length=882\n",
            "  warnings.warn(\n",
            "Processing B_hit:  92%|█████████▏| 2938/3190 [04:45<00:14, 17.24it/s]/usr/local/lib/python3.11/dist-packages/librosa/core/spectrum.py:266: UserWarning: n_fft=2048 is too large for input signal of length=882\n",
            "  warnings.warn(\n",
            "Processing B_hit:  93%|█████████▎| 2954/3190 [04:46<00:14, 15.80it/s]/usr/local/lib/python3.11/dist-packages/librosa/core/spectrum.py:266: UserWarning: n_fft=2048 is too large for input signal of length=882\n",
            "  warnings.warn(\n",
            "Processing B_hit:  93%|█████████▎| 2978/3190 [04:48<00:15, 14.10it/s]/usr/local/lib/python3.11/dist-packages/librosa/core/spectrum.py:266: UserWarning: n_fft=2048 is too large for input signal of length=882\n",
            "  warnings.warn(\n",
            "Processing B_hit:  94%|█████████▎| 2984/3190 [04:48<00:13, 14.87it/s]/usr/local/lib/python3.11/dist-packages/librosa/core/spectrum.py:266: UserWarning: n_fft=2048 is too large for input signal of length=882\n",
            "  warnings.warn(\n",
            "Processing B_hit:  94%|█████████▍| 2998/3190 [04:49<00:12, 14.81it/s]/usr/local/lib/python3.11/dist-packages/librosa/core/spectrum.py:266: UserWarning: n_fft=2048 is too large for input signal of length=882\n",
            "  warnings.warn(\n",
            "Processing B_hit:  95%|█████████▌| 3036/3190 [04:51<00:07, 21.19it/s]/usr/local/lib/python3.11/dist-packages/librosa/core/spectrum.py:266: UserWarning: n_fft=2048 is too large for input signal of length=882\n",
            "  warnings.warn(\n",
            "Processing B_hit:  95%|█████████▌| 3042/3190 [04:51<00:07, 21.10it/s]/usr/local/lib/python3.11/dist-packages/librosa/core/spectrum.py:266: UserWarning: n_fft=2048 is too large for input signal of length=882\n",
            "  warnings.warn(\n",
            "Processing B_hit:  96%|█████████▌| 3063/3190 [04:52<00:05, 22.49it/s]/usr/local/lib/python3.11/dist-packages/librosa/core/spectrum.py:266: UserWarning: n_fft=2048 is too large for input signal of length=882\n",
            "  warnings.warn(\n",
            "Processing B_hit:  97%|█████████▋| 3102/3190 [04:54<00:03, 22.14it/s]/usr/local/lib/python3.11/dist-packages/librosa/core/spectrum.py:266: UserWarning: n_fft=2048 is too large for input signal of length=882\n",
            "  warnings.warn(\n",
            "Processing B_hit:  98%|█████████▊| 3123/3190 [04:55<00:03, 21.61it/s]/usr/local/lib/python3.11/dist-packages/librosa/core/spectrum.py:266: UserWarning: n_fft=2048 is too large for input signal of length=882\n",
            "  warnings.warn(\n",
            "Processing B_hit:  98%|█████████▊| 3132/3190 [04:55<00:02, 21.44it/s]/usr/local/lib/python3.11/dist-packages/librosa/core/spectrum.py:266: UserWarning: n_fft=2048 is too large for input signal of length=882\n",
            "  warnings.warn(\n",
            "Processing B_hit:  99%|█████████▊| 3147/3190 [04:56<00:02, 14.95it/s]/usr/local/lib/python3.11/dist-packages/librosa/core/spectrum.py:266: UserWarning: n_fft=2048 is too large for input signal of length=882\n",
            "  warnings.warn(\n",
            "Processing B_hit: 100%|█████████▉| 3184/3190 [04:58<00:00, 21.38it/s]/usr/local/lib/python3.11/dist-packages/librosa/core/spectrum.py:266: UserWarning: n_fft=2048 is too large for input signal of length=882\n",
            "  warnings.warn(\n",
            "Processing B_hit: 100%|██████████| 3190/3190 [04:58<00:00, 10.68it/s]\n",
            "Processing G_vib:   5%|▌         | 166/3111 [01:21<05:29,  8.94it/s]/usr/local/lib/python3.11/dist-packages/librosa/core/spectrum.py:266: UserWarning: n_fft=2048 is too large for input signal of length=1835\n",
            "  warnings.warn(\n",
            "Processing G_vib:  16%|█▌        | 499/3111 [01:54<02:44, 15.88it/s]/usr/local/lib/python3.11/dist-packages/librosa/core/spectrum.py:266: UserWarning: n_fft=2048 is too large for input signal of length=1465\n",
            "  warnings.warn(\n",
            "Processing G_vib:  20%|█▉        | 607/3111 [02:05<04:14,  9.83it/s]/usr/local/lib/python3.11/dist-packages/librosa/core/spectrum.py:266: UserWarning: n_fft=2048 is too large for input signal of length=1719\n",
            "  warnings.warn(\n",
            "Processing G_vib:  21%|██        | 655/3111 [02:08<02:38, 15.51it/s]/usr/local/lib/python3.11/dist-packages/librosa/core/spectrum.py:266: UserWarning: n_fft=2048 is too large for input signal of length=1970\n",
            "  warnings.warn(\n",
            "Processing G_vib:  22%|██▏       | 689/3111 [02:10<02:32, 15.85it/s]/usr/local/lib/python3.11/dist-packages/librosa/core/spectrum.py:266: UserWarning: n_fft=2048 is too large for input signal of length=994\n",
            "  warnings.warn(\n",
            "Processing G_vib:  22%|██▏       | 697/3111 [02:11<02:40, 15.05it/s]/usr/local/lib/python3.11/dist-packages/librosa/core/spectrum.py:266: UserWarning: n_fft=2048 is too large for input signal of length=725\n",
            "  warnings.warn(\n",
            "Processing G_vib:  27%|██▋       | 843/3111 [02:23<02:30, 15.10it/s]/usr/local/lib/python3.11/dist-packages/librosa/core/spectrum.py:266: UserWarning: n_fft=2048 is too large for input signal of length=897\n",
            "  warnings.warn(\n",
            "Processing G_vib:  28%|██▊       | 883/3111 [02:25<03:03, 12.17it/s]/usr/local/lib/python3.11/dist-packages/librosa/core/spectrum.py:266: UserWarning: n_fft=2048 is too large for input signal of length=1551\n",
            "  warnings.warn(\n",
            "Processing G_vib:  37%|███▋      | 1146/3111 [02:46<02:44, 11.94it/s]/usr/local/lib/python3.11/dist-packages/librosa/core/spectrum.py:266: UserWarning: n_fft=2048 is too large for input signal of length=684\n",
            "  warnings.warn(\n",
            "Processing G_vib:  38%|███▊      | 1173/3111 [02:50<04:20,  7.43it/s]/usr/local/lib/python3.11/dist-packages/librosa/core/spectrum.py:266: UserWarning: n_fft=2048 is too large for input signal of length=1636\n",
            "  warnings.warn(\n",
            "Processing G_vib:  38%|███▊      | 1197/3111 [02:52<03:35,  8.88it/s]/usr/local/lib/python3.11/dist-packages/librosa/core/spectrum.py:266: UserWarning: n_fft=2048 is too large for input signal of length=2033\n",
            "  warnings.warn(\n",
            "Processing G_vib:  72%|███████▏  | 2227/3111 [04:16<00:54, 16.26it/s]/usr/local/lib/python3.11/dist-packages/librosa/core/spectrum.py:266: UserWarning: n_fft=2048 is too large for input signal of length=1293\n",
            "  warnings.warn(\n",
            "Processing G_vib:  79%|███████▊  | 2448/3111 [04:34<01:10,  9.44it/s]/usr/local/lib/python3.11/dist-packages/librosa/core/spectrum.py:266: UserWarning: n_fft=2048 is too large for input signal of length=1491\n",
            "  warnings.warn(\n",
            "Processing G_vib:  80%|███████▉  | 2480/3111 [04:38<01:00, 10.36it/s]/usr/local/lib/python3.11/dist-packages/librosa/core/spectrum.py:266: UserWarning: n_fft=2048 is too large for input signal of length=1895\n",
            "  warnings.warn(\n",
            "Processing G_vib:  84%|████████▍ | 2612/3111 [04:47<00:34, 14.49it/s]/usr/local/lib/python3.11/dist-packages/librosa/core/spectrum.py:266: UserWarning: n_fft=2048 is too large for input signal of length=1207\n",
            "  warnings.warn(\n",
            "Processing G_vib:  84%|████████▍ | 2618/3111 [04:47<00:32, 15.31it/s]/usr/local/lib/python3.11/dist-packages/librosa/core/spectrum.py:266: UserWarning: n_fft=2048 is too large for input signal of length=826\n",
            "  warnings.warn(\n",
            "Processing G_vib:  86%|████████▌ | 2676/3111 [04:54<00:31, 13.66it/s]/usr/local/lib/python3.11/dist-packages/librosa/core/spectrum.py:266: UserWarning: n_fft=2048 is too large for input signal of length=1424\n",
            "  warnings.warn(\n",
            "Processing G_vib:  98%|█████████▊| 3051/3111 [05:23<00:07,  8.14it/s]/usr/local/lib/python3.11/dist-packages/librosa/core/spectrum.py:266: UserWarning: n_fft=2048 is too large for input signal of length=1267\n",
            "  warnings.warn(\n",
            "Processing G_vib:  99%|█████████▉| 3093/3111 [05:26<00:01, 15.10it/s]/usr/local/lib/python3.11/dist-packages/librosa/core/spectrum.py:266: UserWarning: n_fft=2048 is too large for input signal of length=1409\n",
            "  warnings.warn(\n",
            "Processing G_vib: 100%|█████████▉| 3099/3111 [05:27<00:00, 14.93it/s]/usr/local/lib/python3.11/dist-packages/librosa/core/spectrum.py:266: UserWarning: n_fft=2048 is too large for input signal of length=1857\n",
            "  warnings.warn(\n",
            "Processing G_vib: 100%|██████████| 3111/3111 [05:27<00:00,  9.49it/s]\n",
            "Processing B_vib:   1%|          | 22/3190 [00:09<21:39,  2.44it/s]/usr/local/lib/python3.11/dist-packages/librosa/core/spectrum.py:266: UserWarning: n_fft=2048 is too large for input signal of length=1144\n",
            "  warnings.warn(\n",
            "Processing B_vib:   5%|▌         | 164/3190 [01:08<03:15, 15.47it/s]/usr/local/lib/python3.11/dist-packages/librosa/core/spectrum.py:266: UserWarning: n_fft=2048 is too large for input signal of length=1992\n",
            "  warnings.warn(\n",
            "Processing B_vib:   8%|▊         | 245/3190 [01:17<05:33,  8.82it/s]/usr/local/lib/python3.11/dist-packages/librosa/core/spectrum.py:266: UserWarning: n_fft=2048 is too large for input signal of length=2022\n",
            "  warnings.warn(\n",
            "Processing B_vib:  12%|█▏        | 376/3190 [01:28<03:06, 15.08it/s]/usr/local/lib/python3.11/dist-packages/librosa/core/spectrum.py:266: UserWarning: n_fft=2048 is too large for input signal of length=942\n",
            "  warnings.warn(\n",
            "Processing B_vib:  16%|█▌        | 511/3190 [01:42<05:23,  8.28it/s]/usr/local/lib/python3.11/dist-packages/librosa/core/spectrum.py:266: UserWarning: n_fft=2048 is too large for input signal of length=1039\n",
            "  warnings.warn(\n",
            "Processing B_vib:  18%|█▊        | 570/3190 [01:47<02:51, 15.32it/s]/usr/local/lib/python3.11/dist-packages/librosa/core/spectrum.py:266: UserWarning: n_fft=2048 is too large for input signal of length=1177\n",
            "  warnings.warn(\n",
            "Processing B_vib:  20%|█▉        | 630/3190 [01:51<02:43, 15.70it/s]/usr/local/lib/python3.11/dist-packages/librosa/core/spectrum.py:266: UserWarning: n_fft=2048 is too large for input signal of length=1622\n",
            "  warnings.warn(\n",
            "Processing B_vib:  21%|██▏       | 684/3190 [01:55<04:45,  8.76it/s]/usr/local/lib/python3.11/dist-packages/librosa/core/spectrum.py:266: UserWarning: n_fft=2048 is too large for input signal of length=874\n",
            "  warnings.warn(\n",
            "Processing B_vib:  23%|██▎       | 748/3190 [02:01<02:45, 14.77it/s]/usr/local/lib/python3.11/dist-packages/librosa/core/spectrum.py:266: UserWarning: n_fft=2048 is too large for input signal of length=1267\n",
            "  warnings.warn(\n",
            "Processing B_vib:  32%|███▏      | 1013/3190 [02:29<02:54, 12.44it/s]/usr/local/lib/python3.11/dist-packages/librosa/core/spectrum.py:266: UserWarning: n_fft=2048 is too large for input signal of length=912\n",
            "  warnings.warn(\n",
            "Processing B_vib:  32%|███▏      | 1033/3190 [02:30<02:12, 16.26it/s]/usr/local/lib/python3.11/dist-packages/librosa/core/spectrum.py:266: UserWarning: n_fft=2048 is too large for input signal of length=795\n",
            "  warnings.warn(\n",
            "Processing B_vib:  39%|███▉      | 1241/3190 [02:47<02:14, 14.46it/s]/usr/local/lib/python3.11/dist-packages/librosa/core/spectrum.py:266: UserWarning: n_fft=2048 is too large for input signal of length=845\n",
            "  warnings.warn(\n",
            "Processing B_vib:  45%|████▍     | 1422/3190 [03:01<01:59, 14.81it/s]/usr/local/lib/python3.11/dist-packages/librosa/core/spectrum.py:266: UserWarning: n_fft=2048 is too large for input signal of length=1648\n",
            "  warnings.warn(\n",
            "Processing B_vib:  51%|█████     | 1616/3190 [03:17<01:41, 15.49it/s]/usr/local/lib/python3.11/dist-packages/librosa/core/spectrum.py:266: UserWarning: n_fft=2048 is too large for input signal of length=1641\n",
            "  warnings.warn(\n",
            "Processing B_vib:  55%|█████▍    | 1748/3190 [03:27<03:01,  7.93it/s]/usr/local/lib/python3.11/dist-packages/librosa/core/spectrum.py:266: UserWarning: n_fft=2048 is too large for input signal of length=1245\n",
            "  warnings.warn(\n",
            "Processing B_vib:  57%|█████▋    | 1810/3190 [03:33<01:27, 15.81it/s]/usr/local/lib/python3.11/dist-packages/librosa/core/spectrum.py:266: UserWarning: n_fft=2048 is too large for input signal of length=1636\n",
            "  warnings.warn(\n",
            "Processing B_vib:  58%|█████▊    | 1862/3190 [03:36<01:30, 14.68it/s]/usr/local/lib/python3.11/dist-packages/librosa/core/spectrum.py:266: UserWarning: n_fft=2048 is too large for input signal of length=1622\n",
            "  warnings.warn(\n",
            "Processing B_vib:  67%|██████▋   | 2129/3190 [03:57<02:03,  8.57it/s]/usr/local/lib/python3.11/dist-packages/librosa/core/spectrum.py:266: UserWarning: n_fft=2048 is too large for input signal of length=1716\n",
            "  warnings.warn(\n",
            "Processing B_vib:  69%|██████▉   | 2213/3190 [04:04<01:05, 14.83it/s]/usr/local/lib/python3.11/dist-packages/librosa/core/spectrum.py:266: UserWarning: n_fft=2048 is too large for input signal of length=1110\n",
            "  warnings.warn(\n",
            "Processing B_vib:  70%|██████▉   | 2225/3190 [04:05<01:07, 14.37it/s]/usr/local/lib/python3.11/dist-packages/librosa/core/spectrum.py:266: UserWarning: n_fft=2048 is too large for input signal of length=1977\n",
            "  warnings.warn(\n",
            "Processing B_vib:  73%|███████▎  | 2330/3190 [04:14<01:30,  9.49it/s]/usr/local/lib/python3.11/dist-packages/librosa/core/spectrum.py:266: UserWarning: n_fft=2048 is too large for input signal of length=1237\n",
            "  warnings.warn(\n",
            "Processing B_vib:  76%|███████▌  | 2429/3190 [04:22<00:51, 14.86it/s]/usr/local/lib/python3.11/dist-packages/librosa/core/spectrum.py:266: UserWarning: n_fft=2048 is too large for input signal of length=1469\n",
            "  warnings.warn(\n",
            "Processing B_vib:  80%|████████  | 2552/3190 [04:33<00:44, 14.44it/s]/usr/local/lib/python3.11/dist-packages/librosa/core/spectrum.py:266: UserWarning: n_fft=2048 is too large for input signal of length=1458\n",
            "  warnings.warn(\n",
            "Processing B_vib:  84%|████████▍ | 2695/3190 [04:43<00:58,  8.40it/s]/usr/local/lib/python3.11/dist-packages/librosa/core/spectrum.py:266: UserWarning: n_fft=2048 is too large for input signal of length=1633\n",
            "  warnings.warn(\n",
            "Processing B_vib:  86%|████████▌ | 2739/3190 [04:48<00:30, 14.83it/s]/usr/local/lib/python3.11/dist-packages/librosa/core/spectrum.py:266: UserWarning: n_fft=2048 is too large for input signal of length=1323\n",
            "  warnings.warn(\n",
            "Processing B_vib:  88%|████████▊ | 2823/3190 [04:54<00:24, 15.16it/s]/usr/local/lib/python3.11/dist-packages/librosa/core/spectrum.py:266: UserWarning: n_fft=2048 is too large for input signal of length=1002\n",
            "  warnings.warn(\n",
            "Processing B_vib: 100%|██████████| 3190/3190 [05:25<00:00,  9.81it/s]\n"
          ]
        }
      ],
      "source": [
        " import os\n",
        "import librosa\n",
        "import librosa.display\n",
        "import matplotlib.pyplot as plt\n",
        "import numpy as np\n",
        "from tqdm import tqdm\n",
        "\n",
        "# Define source folders\n",
        "parent_folder = '/content/drive/MyDrive/Hammering_Test/s01'\n",
        "g_hit_path = os.path.join(parent_folder, 'Good_result', 'G_hit')\n",
        "b_hit_path = os.path.join(parent_folder, 'Bad_result', 'B_hit')\n",
        "g_vib_path = os.path.join(parent_folder, 'Good_result', 'G_vib')\n",
        "b_vib_path = os.path.join(parent_folder, 'Bad_result', 'B_vib')\n",
        "\n",
        "# Define output spectrogram folder\n",
        "spectrogram_root = '/content/drive/MyDrive/Hammering_Test/spectrograms'\n",
        "paths = {\n",
        "    'G_hit': g_hit_path,\n",
        "    'B_hit': b_hit_path,\n",
        "    'G_vib': g_vib_path,\n",
        "    'B_vib': b_vib_path\n",
        "}\n",
        "\n",
        "def create_spectrogram(audio_path, save_path):\n",
        "    y, sr = librosa.load(audio_path, sr=None)\n",
        "    S = librosa.feature.melspectrogram(y=y, sr=sr, n_mels=128)\n",
        "    S_dB = librosa.power_to_db(S, ref=np.max)\n",
        "\n",
        "    plt.figure(figsize=(3, 3))\n",
        "    librosa.display.specshow(S_dB, sr=sr, x_axis=None, y_axis=None, cmap='viridis')\n",
        "    plt.axis('off')\n",
        "    plt.tight_layout(pad=0)\n",
        "    plt.savefig(save_path, bbox_inches='tight', pad_inches=0)\n",
        "    plt.close()\n",
        "\n",
        "# Process and save all spectrograms\n",
        "for label, path in paths.items():\n",
        "    output_dir = os.path.join(spectrogram_root, label)\n",
        "    os.makedirs(output_dir, exist_ok=True)\n",
        "\n",
        "    for file in tqdm(os.listdir(path), desc=f\"Processing {label}\"):\n",
        "        if file.endswith('.wav'):\n",
        "            input_path = os.path.join(path, file)\n",
        "            output_path = os.path.join(output_dir, file.replace('.wav', '.png'))\n",
        "            create_spectrogram(input_path, output_path)\n"
      ]
    },
    {
      "cell_type": "markdown",
      "source": [
        "#🧠 CNN Classifier for Brick Quality"
      ],
      "metadata": {
        "id": "uqPG-J45qbRM"
      }
    },
    {
      "cell_type": "markdown",
      "source": [
        "*🔧 Cell 1: Import Libraries*"
      ],
      "metadata": {
        "id": "IYig9PcKqk2E"
      }
    },
    {
      "cell_type": "markdown",
      "source": [],
      "metadata": {
        "id": "nwLPCeNDu7NC"
      }
    },
    {
      "cell_type": "code",
      "source": [],
      "metadata": {
        "id": "6vebnrXnu74R"
      },
      "execution_count": null,
      "outputs": []
    },
    {
      "cell_type": "code",
      "source": [
        "import os\n",
        "import numpy as np\n",
        "import tensorflow as tf\n",
        "from tensorflow.keras import layers, models\n",
        "from sklearn.model_selection import train_test_split\n",
        "from sklearn.metrics import classification_report, confusion_matrix\n",
        "import matplotlib.pyplot as plt\n",
        "from PIL import Image\n",
        "\n",
        "# Initialize TPU\n",
        "try:\n",
        "    tpu = tf.distribute.cluster_resolver.TPUClusterResolver()  # Detect TPU\n",
        "    tf.config.experimental_connect_to_cluster(tpu)\n",
        "    tf.tpu.experimental.initialize_tpu_system(tpu)\n",
        "    strategy = tf.distribute.TPUStrategy(tpu)\n",
        "    print(\"✅ TPU initialized.\")\n",
        "except ValueError:\n",
        "    print(\"❌ TPU not found. Using default strategy (CPU/GPU).\")\n",
        "    strategy = tf.distribute.get_strategy()\n"
      ],
      "metadata": {
        "colab": {
          "base_uri": "https://localhost:8080/"
        },
        "id": "KlpHnZYuqfZm",
        "outputId": "023a83fc-cd77-4bcd-fd70-267d09d59346"
      },
      "execution_count": null,
      "outputs": [
        {
          "output_type": "stream",
          "name": "stdout",
          "text": [
            "❌ TPU not found. Using default strategy (CPU/GPU).\n"
          ]
        }
      ]
    },
    {
      "cell_type": "code",
      "source": [
        "import tensorflow as tf\n",
        "\n",
        "# Check if GPU is being used\n",
        "print(\"Num GPUs Available:\", len(tf.config.list_physical_devices('GPU')))\n",
        "print(\"GPU Device:\", tf.test.gpu_device_name())"
      ],
      "metadata": {
        "colab": {
          "base_uri": "https://localhost:8080/"
        },
        "id": "X-xU0QyjwnA-",
        "outputId": "b1649b6d-7b16-44e0-a23f-cf8b213c6bf6"
      },
      "execution_count": null,
      "outputs": [
        {
          "output_type": "stream",
          "name": "stdout",
          "text": [
            "Num GPUs Available: 0\n",
            "GPU Device: \n"
          ]
        }
      ]
    },
    {
      "cell_type": "markdown",
      "source": [
        "*📁 Cell 2: Define Paths and Labels*"
      ],
      "metadata": {
        "id": "0E8TdfPyqt48"
      }
    },
    {
      "cell_type": "code",
      "source": [
        "# Define base directory for spectrograms\n",
        "base_dir = '/content/drive/MyDrive/Hammering_Test/spectrograms'\n",
        "\n",
        "# Define mapping of folders to binary labels\n",
        "classes = {\n",
        "    'G_hit': 0,  # Good brick\n",
        "    'G_vib': 0,  # Good brick\n",
        "    'B_hit': 1,  # Bad brick\n",
        "    'B_vib': 1   # Bad brick\n",
        "}"
      ],
      "metadata": {
        "id": "R1GbTdlOqrSQ"
      },
      "execution_count": null,
      "outputs": []
    },
    {
      "cell_type": "markdown",
      "source": [
        "*🖼️ Cell 3: Load Spectrogram Images and Labels*"
      ],
      "metadata": {
        "id": "8lZbIZqjq2ax"
      }
    },
    {
      "cell_type": "code",
      "source": [
        "# Image size\n",
        "img_size = (128, 128)\n",
        "\n",
        "# Function to load and preprocess images\n",
        "def load_images_and_labels(base_dir, class_map):\n",
        "    images = []\n",
        "    labels = []\n",
        "    for class_name, label in class_map.items():\n",
        "        class_path = os.path.join(base_dir, class_name)\n",
        "        for file in os.listdir(class_path):\n",
        "            if file.endswith('.png'):\n",
        "                img_path = os.path.join(class_path, file)\n",
        "                img = Image.open(img_path).convert('RGB').resize(img_size)\n",
        "                images.append(np.array(img) / 255.0)  # Normalize pixel values\n",
        "                labels.append(label)\n",
        "    return np.array(images), np.array(labels)\n",
        "\n",
        "X, y = load_images_and_labels(base_dir, classes)\n",
        "print(\"Image data shape:\", X.shape)\n",
        "print(\"Label distribution:\", np.bincount(y))\n"
      ],
      "metadata": {
        "colab": {
          "base_uri": "https://localhost:8080/"
        },
        "id": "OB65M1TCqzBu",
        "outputId": "f2cc3841-cff3-4edf-bafc-d5371de5257b"
      },
      "execution_count": null,
      "outputs": [
        {
          "output_type": "stream",
          "name": "stdout",
          "text": [
            "Image data shape: (12602, 128, 128, 3)\n",
            "Label distribution: [6222 6380]\n"
          ]
        }
      ]
    },
    {
      "cell_type": "markdown",
      "source": [
        "*🔀 Cell 4: Train-Test Split*"
      ],
      "metadata": {
        "id": "D0xKjkvtq9uN"
      }
    },
    {
      "cell_type": "code",
      "source": [
        "# Split into training and validation sets\n",
        "X_train, X_val, y_train, y_val = train_test_split(\n",
        "    X, y, test_size=0.2, stratify=y, random_state=42)\n",
        "\n",
        "print(f\"Training samples: {len(X_train)}, Validation samples: {len(X_val)}\")\n"
      ],
      "metadata": {
        "id": "Gl5A7W_Mq6hT",
        "colab": {
          "base_uri": "https://localhost:8080/"
        },
        "outputId": "b5a7e5e3-0664-4f81-bdf3-f52259acc9a1"
      },
      "execution_count": null,
      "outputs": [
        {
          "output_type": "stream",
          "name": "stdout",
          "text": [
            "Training samples: 10081, Validation samples: 2521\n"
          ]
        }
      ]
    },
    {
      "cell_type": "markdown",
      "source": [
        "*🧠 Cell 5: Define CNN Model*"
      ],
      "metadata": {
        "id": "X-Iv3vv8rE41"
      }
    },
    {
      "cell_type": "code",
      "source": [
        "# CNN Architecture\n",
        "model = models.Sequential([\n",
        "    layers.Conv2D(32, (3, 3), activation='relu', input_shape=(img_size[0], img_size[1], 3)),\n",
        "    layers.MaxPooling2D((2, 2)),\n",
        "\n",
        "    layers.Conv2D(64, (3, 3), activation='relu'),\n",
        "    layers.MaxPooling2D((2, 2)),\n",
        "\n",
        "    layers.Conv2D(128, (3, 3), activation='relu'),\n",
        "    layers.MaxPooling2D((2, 2)),\n",
        "\n",
        "    layers.Flatten(),\n",
        "    layers.Dense(128, activation='relu'),\n",
        "    layers.Dropout(0.4),\n",
        "    layers.Dense(1, activation='sigmoid')  # Binary output\n",
        "])\n"
      ],
      "metadata": {
        "id": "x84que9UrIFN"
      },
      "execution_count": null,
      "outputs": []
    },
    {
      "cell_type": "markdown",
      "source": [
        "*⚙️ Cell 6: Compile and Train the Model*"
      ],
      "metadata": {
        "id": "LQWysPjJrPQz"
      }
    },
    {
      "cell_type": "code",
      "source": [
        "# Compile model\n",
        "model.compile(optimizer='adam',\n",
        "              loss='binary_crossentropy',\n",
        "              metrics=['accuracy'])\n",
        "\n",
        "# Early stopping\n",
        "callbacks = [tf.keras.callbacks.EarlyStopping(patience=5, restore_best_weights=True)]\n",
        "\n",
        "# Train the model\n",
        "history = model.fit(\n",
        "    X_train, y_train,\n",
        "    epochs=10,\n",
        "    batch_size=32,\n",
        "    validation_data=(X_val, y_val),\n",
        "    callbacks=callbacks\n",
        ")"
      ],
      "metadata": {
        "colab": {
          "base_uri": "https://localhost:8080/"
        },
        "id": "uThpVDJGrQZh",
        "outputId": "7ad5c66d-7b67-4142-f4dc-2a02583bae44"
      },
      "execution_count": null,
      "outputs": [
        {
          "output_type": "stream",
          "name": "stdout",
          "text": [
            "Epoch 1/10\n",
            "\u001b[1m316/316\u001b[0m \u001b[32m━━━━━━━━━━━━━━━━━━━━\u001b[0m\u001b[37m\u001b[0m \u001b[1m255s\u001b[0m 800ms/step - accuracy: 0.7843 - loss: 0.4518 - val_accuracy: 0.8917 - val_loss: 0.2608\n",
            "Epoch 2/10\n",
            "\u001b[1m316/316\u001b[0m \u001b[32m━━━━━━━━━━━━━━━━━━━━\u001b[0m\u001b[37m\u001b[0m \u001b[1m252s\u001b[0m 796ms/step - accuracy: 0.8781 - loss: 0.2926 - val_accuracy: 0.9032 - val_loss: 0.2402\n",
            "Epoch 3/10\n",
            "\u001b[1m316/316\u001b[0m \u001b[32m━━━━━━━━━━━━━━━━━━━━\u001b[0m\u001b[37m\u001b[0m \u001b[1m252s\u001b[0m 796ms/step - accuracy: 0.8921 - loss: 0.2427 - val_accuracy: 0.9080 - val_loss: 0.2187\n",
            "Epoch 4/10\n",
            "\u001b[1m316/316\u001b[0m \u001b[32m━━━━━━━━━━━━━━━━━━━━\u001b[0m\u001b[37m\u001b[0m \u001b[1m250s\u001b[0m 789ms/step - accuracy: 0.9080 - loss: 0.2162 - val_accuracy: 0.9143 - val_loss: 0.1990\n",
            "Epoch 5/10\n",
            "\u001b[1m316/316\u001b[0m \u001b[32m━━━━━━━━━━━━━━━━━━━━\u001b[0m\u001b[37m\u001b[0m \u001b[1m251s\u001b[0m 793ms/step - accuracy: 0.9204 - loss: 0.1997 - val_accuracy: 0.9199 - val_loss: 0.1909\n",
            "Epoch 6/10\n",
            "\u001b[1m316/316\u001b[0m \u001b[32m━━━━━━━━━━━━━━━━━━━━\u001b[0m\u001b[37m\u001b[0m \u001b[1m250s\u001b[0m 789ms/step - accuracy: 0.9237 - loss: 0.1886 - val_accuracy: 0.9234 - val_loss: 0.1628\n",
            "Epoch 7/10\n",
            "\u001b[1m316/316\u001b[0m \u001b[32m━━━━━━━━━━━━━━━━━━━━\u001b[0m\u001b[37m\u001b[0m \u001b[1m250s\u001b[0m 791ms/step - accuracy: 0.9320 - loss: 0.1600 - val_accuracy: 0.9223 - val_loss: 0.1762\n",
            "Epoch 8/10\n",
            "\u001b[1m316/316\u001b[0m \u001b[32m━━━━━━━━━━━━━━━━━━━━\u001b[0m\u001b[37m\u001b[0m \u001b[1m249s\u001b[0m 788ms/step - accuracy: 0.9356 - loss: 0.1559 - val_accuracy: 0.9369 - val_loss: 0.1470\n",
            "Epoch 9/10\n",
            "\u001b[1m316/316\u001b[0m \u001b[32m━━━━━━━━━━━━━━━━━━━━\u001b[0m\u001b[37m\u001b[0m \u001b[1m247s\u001b[0m 783ms/step - accuracy: 0.9375 - loss: 0.1475 - val_accuracy: 0.9298 - val_loss: 0.1545\n",
            "Epoch 10/10\n",
            "\u001b[1m316/316\u001b[0m \u001b[32m━━━━━━━━━━━━━━━━━━━━\u001b[0m\u001b[37m\u001b[0m \u001b[1m248s\u001b[0m 785ms/step - accuracy: 0.9435 - loss: 0.1312 - val_accuracy: 0.9353 - val_loss: 0.1464\n"
          ]
        }
      ]
    },
    {
      "cell_type": "markdown",
      "source": [
        "*📊 Cell 7: Evaluate Model Performance*"
      ],
      "metadata": {
        "id": "nEPBkkE-rWBF"
      }
    },
    {
      "cell_type": "code",
      "source": [
        "# Predict on validation set\n",
        "val_preds = model.predict(X_val).ravel()\n",
        "val_preds_class = (val_preds > 0.5).astype(int)\n",
        "\n",
        "# Classification report\n",
        "print(\"\\nClassification Report:\")\n",
        "print(classification_report(y_val, val_preds_class, target_names=[\"Good\", \"Bad\"]))"
      ],
      "metadata": {
        "id": "_r-J8u_CrW93",
        "colab": {
          "base_uri": "https://localhost:8080/"
        },
        "outputId": "0a2c1e1f-38ca-4dd5-f523-5e2f292d75a2"
      },
      "execution_count": null,
      "outputs": [
        {
          "output_type": "stream",
          "name": "stdout",
          "text": [
            "\u001b[1m79/79\u001b[0m \u001b[32m━━━━━━━━━━━━━━━━━━━━\u001b[0m\u001b[37m\u001b[0m \u001b[1m15s\u001b[0m 193ms/step\n",
            "\n",
            "Classification Report:\n",
            "              precision    recall  f1-score   support\n",
            "\n",
            "        Good       0.91      0.96      0.94      1245\n",
            "         Bad       0.96      0.91      0.93      1276\n",
            "\n",
            "    accuracy                           0.94      2521\n",
            "   macro avg       0.94      0.94      0.94      2521\n",
            "weighted avg       0.94      0.94      0.94      2521\n",
            "\n"
          ]
        }
      ]
    },
    {
      "cell_type": "markdown",
      "source": [
        "*🔍 Cell 8: Confusion Matrix*"
      ],
      "metadata": {
        "id": "xpoc9CI_rcB-"
      }
    },
    {
      "cell_type": "code",
      "source": [
        "# Confusion matrix\n",
        "cm = confusion_matrix(y_val, val_preds_class)\n",
        "plt.figure(figsize=(4, 4))\n",
        "plt.imshow(cm, cmap='Blues')\n",
        "plt.title(\"Confusion Matrix\")\n",
        "plt.xticks([0, 1], ['Good', 'Bad'])\n",
        "plt.yticks([0, 1], ['Good', 'Bad'])\n",
        "for i in range(2):\n",
        "    for j in range(2):\n",
        "        plt.text(j, i, cm[i, j], ha='center', va='center', color='black')\n",
        "plt.show()"
      ],
      "metadata": {
        "id": "_FvwR9izrdIh",
        "colab": {
          "base_uri": "https://localhost:8080/",
          "height": 391
        },
        "outputId": "30fbc859-bef1-4031-fa52-26e5ac768251"
      },
      "execution_count": null,
      "outputs": [
        {
          "output_type": "display_data",
          "data": {
            "text/plain": [
              "<Figure size 400x400 with 1 Axes>"
            ],
            "image/png": "[encoded data removed]"
          },
          "metadata": {}
        }
      ]
    },
    {
      "cell_type": "markdown",
      "source": [
        "*💾 Cell 9: Save Trained Model (Optional)*"
      ],
      "metadata": {
        "id": "4OdNDzmqrlPx"
      }
    },
    {
      "cell_type": "code",
      "source": [
        "# Save the trained model\n",
        "model.save('/content/drive/MyDrive/Hammering_Test/brick_quality_cnn_model.h5')"
      ],
      "metadata": {
        "id": "6dubBPgzrkgF"
      },
      "execution_count": null,
      "outputs": []
    },
    {
      "cell_type": "markdown",
      "source": [],
      "metadata": {
        "id": "h3oGYbf93bxY"
      }
    },
    {
      "cell_type": "code",
      "source": [
        "!pip install tensorflow"
      ],
      "metadata": {
        "colab": {
          "base_uri": "https://localhost:8080/"
        },
        "id": "VjWRfeqJ3chA",
        "outputId": "4f46460d-819d-4900-a092-a9ccddeb6a6d"
      },
      "execution_count": null,
      "outputs": [
        {
          "output_type": "stream",
          "name": "stdout",
          "text": [
            "Collecting tensorflow\n",
            "  Downloading tensorflow-2.19.0-cp311-cp311-manylinux_2_17_x86_64.manylinux2014_x86_64.whl.metadata (4.1 kB)\n",
            "Requirement already satisfied: absl-py>=1.0.0 in /usr/local/lib/python3.11/dist-packages (from tensorflow) (1.4.0)\n",
            "Collecting astunparse>=1.6.0 (from tensorflow)\n",
            "  Downloading astunparse-1.6.3-py2.py3-none-any.whl.metadata (4.4 kB)\n",
            "Collecting flatbuffers>=24.3.25 (from tensorflow)\n",
            "  Downloading flatbuffers-25.2.10-py2.py3-none-any.whl.metadata (875 bytes)\n",
            "Requirement already satisfied: gast!=0.5.0,!=0.5.1,!=0.5.2,>=0.2.1 in /usr/local/lib/python3.11/dist-packages (from tensorflow) (0.6.0)\n",
            "Collecting google-pasta>=0.1.1 (from tensorflow)\n",
            "  Downloading google_pasta-0.2.0-py3-none-any.whl.metadata (814 bytes)\n",
            "Collecting libclang>=13.0.0 (from tensorflow)\n",
            "  Downloading libclang-18.1.1-py2.py3-none-manylinux2010_x86_64.whl.metadata (5.2 kB)\n",
            "Requirement already satisfied: opt-einsum>=2.3.2 in /usr/local/lib/python3.11/dist-packages (from tensorflow) (3.4.0)\n",
            "Requirement already satisfied: packaging in /usr/local/lib/python3.11/dist-packages (from tensorflow) (25.0)\n",
            "Requirement already satisfied: protobuf!=4.21.0,!=4.21.1,!=4.21.2,!=4.21.3,!=4.21.4,!=4.21.5,<6.0.0dev,>=3.20.3 in /usr/local/lib/python3.11/dist-packages (from tensorflow) (5.29.5)\n",
            "Requirement already satisfied: requests<3,>=2.21.0 in /usr/local/lib/python3.11/dist-packages (from tensorflow) (2.32.3)\n",
            "Requirement already satisfied: setuptools in /usr/local/lib/python3.11/dist-packages (from tensorflow) (75.2.0)\n",
            "Requirement already satisfied: six>=1.12.0 in /usr/local/lib/python3.11/dist-packages (from tensorflow) (1.17.0)\n",
            "Requirement already satisfied: termcolor>=1.1.0 in /usr/local/lib/python3.11/dist-packages (from tensorflow) (3.1.0)\n",
            "Requirement already satisfied: typing-extensions>=3.6.6 in /usr/local/lib/python3.11/dist-packages (from tensorflow) (4.14.0)\n",
            "Requirement already satisfied: wrapt>=1.11.0 in /usr/local/lib/python3.11/dist-packages (from tensorflow) (1.17.2)\n",
            "Requirement already satisfied: grpcio<2.0,>=1.24.3 in /usr/local/lib/python3.11/dist-packages (from tensorflow) (1.73.0)\n",
            "Collecting tensorboard~=2.19.0 (from tensorflow)\n",
            "  Downloading tensorboard-2.19.0-py3-none-any.whl.metadata (1.8 kB)\n",
            "Requirement already satisfied: keras>=3.5.0 in /usr/local/lib/python3.11/dist-packages (from tensorflow) (3.8.0)\n",
            "Requirement already satisfied: numpy<2.2.0,>=1.26.0 in /usr/local/lib/python3.11/dist-packages (from tensorflow) (2.0.2)\n",
            "Requirement already satisfied: h5py>=3.11.0 in /usr/local/lib/python3.11/dist-packages (from tensorflow) (3.14.0)\n",
            "Requirement already satisfied: ml-dtypes<1.0.0,>=0.5.1 in /usr/local/lib/python3.11/dist-packages (from tensorflow) (0.5.1)\n",
            "Collecting tensorflow-io-gcs-filesystem>=0.23.1 (from tensorflow)\n",
            "  Downloading tensorflow_io_gcs_filesystem-0.37.1-cp311-cp311-manylinux_2_17_x86_64.manylinux2014_x86_64.whl.metadata (14 kB)\n",
            "Collecting wheel<1.0,>=0.23.0 (from astunparse>=1.6.0->tensorflow)\n",
            "  Downloading wheel-0.45.1-py3-none-any.whl.metadata (2.3 kB)\n",
            "Requirement already satisfied: rich in /usr/local/lib/python3.11/dist-packages (from keras>=3.5.0->tensorflow) (14.0.0)\n",
            "Requirement already satisfied: namex in /usr/local/lib/python3.11/dist-packages (from keras>=3.5.0->tensorflow) (0.1.0)\n",
            "Requirement already satisfied: optree in /usr/local/lib/python3.11/dist-packages (from keras>=3.5.0->tensorflow) (0.16.0)\n",
            "Requirement already satisfied: charset-normalizer<4,>=2 in /usr/local/lib/python3.11/dist-packages (from requests<3,>=2.21.0->tensorflow) (3.4.2)\n",
            "Requirement already satisfied: idna<4,>=2.5 in /usr/local/lib/python3.11/dist-packages (from requests<3,>=2.21.0->tensorflow) (3.10)\n",
            "Requirement already satisfied: urllib3<3,>=1.21.1 in /usr/local/lib/python3.11/dist-packages (from requests<3,>=2.21.0->tensorflow) (2.4.0)\n",
            "Requirement already satisfied: certifi>=2017.4.17 in /usr/local/lib/python3.11/dist-packages (from requests<3,>=2.21.0->tensorflow) (2025.6.15)\n",
            "Requirement already satisfied: markdown>=2.6.8 in /usr/lib/python3/dist-packages (from tensorboard~=2.19.0->tensorflow) (3.3.6)\n",
            "Collecting tensorboard-data-server<0.8.0,>=0.7.0 (from tensorboard~=2.19.0->tensorflow)\n",
            "  Downloading tensorboard_data_server-0.7.2-py3-none-manylinux_2_31_x86_64.whl.metadata (1.1 kB)\n",
            "Collecting werkzeug>=1.0.1 (from tensorboard~=2.19.0->tensorflow)\n",
            "  Downloading werkzeug-3.1.3-py3-none-any.whl.metadata (3.7 kB)\n",
            "Requirement already satisfied: MarkupSafe>=2.1.1 in /usr/local/lib/python3.11/dist-packages (from werkzeug>=1.0.1->tensorboard~=2.19.0->tensorflow) (3.0.2)\n",
            "Requirement already satisfied: markdown-it-py>=2.2.0 in /usr/local/lib/python3.11/dist-packages (from rich->keras>=3.5.0->tensorflow) (3.0.0)\n",
            "Requirement already satisfied: pygments<3.0.0,>=2.13.0 in /usr/local/lib/python3.11/dist-packages (from rich->keras>=3.5.0->tensorflow) (2.19.1)\n",
            "Requirement already satisfied: mdurl~=0.1 in /usr/local/lib/python3.11/dist-packages (from markdown-it-py>=2.2.0->rich->keras>=3.5.0->tensorflow) (0.1.2)\n",
            "Downloading tensorflow-2.19.0-cp311-cp311-manylinux_2_17_x86_64.manylinux2014_x86_64.whl (644.9 MB)\n",
            "\u001b[2K   \u001b[90m━━━━━━━━━━━━━━━━━━━━━━━━━━━━━━━━━━━━━━━━\u001b[0m \u001b[32m644.9/644.9 MB\u001b[0m \u001b[31m1.4 MB/s\u001b[0m eta \u001b[36m0:00:00\u001b[0m\n",
            "\u001b[?25hDownloading astunparse-1.6.3-py2.py3-none-any.whl (12 kB)\n",
            "Downloading flatbuffers-25.2.10-py2.py3-none-any.whl (30 kB)\n",
            "Downloading google_pasta-0.2.0-py3-none-any.whl (57 kB)\n",
            "\u001b[2K   \u001b[90m━━━━━━━━━━━━━━━━━━━━━━━━━━━━━━━━━━━━━━━━\u001b[0m \u001b[32m57.5/57.5 kB\u001b[0m \u001b[31m5.8 MB/s\u001b[0m eta \u001b[36m0:00:00\u001b[0m\n",
            "\u001b[?25hDownloading libclang-18.1.1-py2.py3-none-manylinux2010_x86_64.whl (24.5 MB)\n",
            "\u001b[2K   \u001b[90m━━━━━━━━━━━━━━━━━━━━━━━━━━━━━━━━━━━━━━━━\u001b[0m \u001b[32m24.5/24.5 MB\u001b[0m \u001b[31m51.1 MB/s\u001b[0m eta \u001b[36m0:00:00\u001b[0m\n",
            "\u001b[?25hDownloading tensorboard-2.19.0-py3-none-any.whl (5.5 MB)\n",
            "\u001b[2K   \u001b[90m━━━━━━━━━━━━━━━━━━━━━━━━━━━━━━━━━━━━━━━━\u001b[0m \u001b[32m5.5/5.5 MB\u001b[0m \u001b[31m63.9 MB/s\u001b[0m eta \u001b[36m0:00:00\u001b[0m\n",
            "\u001b[?25hDownloading tensorflow_io_gcs_filesystem-0.37.1-cp311-cp311-manylinux_2_17_x86_64.manylinux2014_x86_64.whl (5.1 MB)\n",
            "\u001b[2K   \u001b[90m━━━━━━━━━━━━━━━━━━━━━━━━━━━━━━━━━━━━━━━━\u001b[0m \u001b[32m5.1/5.1 MB\u001b[0m \u001b[31m61.7 MB/s\u001b[0m eta \u001b[36m0:00:00\u001b[0m\n",
            "\u001b[?25hDownloading tensorboard_data_server-0.7.2-py3-none-manylinux_2_31_x86_64.whl (6.6 MB)\n",
            "\u001b[2K   \u001b[90m━━━━━━━━━━━━━━━━━━━━━━━━━━━━━━━━━━━━━━━━\u001b[0m \u001b[32m6.6/6.6 MB\u001b[0m \u001b[31m66.6 MB/s\u001b[0m eta \u001b[36m0:00:00\u001b[0m\n",
            "\u001b[?25hDownloading werkzeug-3.1.3-py3-none-any.whl (224 kB)\n",
            "\u001b[2K   \u001b[90m━━━━━━━━━━━━━━━━━━━━━━━━━━━━━━━━━━━━━━━━\u001b[0m \u001b[32m224.5/224.5 kB\u001b[0m \u001b[31m18.9 MB/s\u001b[0m eta \u001b[36m0:00:00\u001b[0m\n",
            "\u001b[?25hDownloading wheel-0.45.1-py3-none-any.whl (72 kB)\n",
            "\u001b[2K   \u001b[90m━━━━━━━━━━━━━━━━━━━━━━━━━━━━━━━━━━━━━━━━\u001b[0m \u001b[32m72.5/72.5 kB\u001b[0m \u001b[31m7.3 MB/s\u001b[0m eta \u001b[36m0:00:00\u001b[0m\n",
            "\u001b[?25hInstalling collected packages: libclang, flatbuffers, wheel, werkzeug, tensorflow-io-gcs-filesystem, tensorboard-data-server, google-pasta, tensorboard, astunparse, tensorflow\n",
            "Successfully installed astunparse-1.6.3 flatbuffers-25.2.10 google-pasta-0.2.0 libclang-18.1.1 tensorboard-2.19.0 tensorboard-data-server-0.7.2 tensorflow-2.19.0 tensorflow-io-gcs-filesystem-0.37.1 werkzeug-3.1.3 wheel-0.45.1\n"
          ]
        }
      ]
    },
    {
      "cell_type": "markdown",
      "source": [
        "#Two input CNN modelto process both hit and vibration spectrograms"
      ],
      "metadata": {
        "id": "GhdeiA05Klnk"
      }
    },
    {
      "cell_type": "markdown",
      "source": [
        "*🔧 1. Imports and Setup*"
      ],
      "metadata": {
        "id": "2q9-7HsoK-U1"
      }
    },
    {
      "cell_type": "code",
      "source": [
        "import os\n",
        "import numpy as np\n",
        "from PIL import Image\n",
        "import tensorflow as tf\n",
        "from tensorflow.keras import layers, models, Input, Model\n",
        "from sklearn.model_selection import train_test_split\n",
        "from sklearn.metrics import classification_report, confusion_matrix\n",
        "import matplotlib.pyplot as plt\n"
      ],
      "metadata": {
        "id": "KAF0ZtLDKz71"
      },
      "execution_count": null,
      "outputs": []
    },
    {
      "cell_type": "markdown",
      "source": [
        "*📂 2. Define Paths and Helper Function*"
      ],
      "metadata": {
        "id": "MdXHKL_CLLLO"
      }
    },
    {
      "cell_type": "code",
      "source": [
        "import os\n",
        "import numpy as np\n",
        "from PIL import Image\n",
        "\n",
        "base_dir = '/content/drive/MyDrive/Hammering_Test/spectrograms'\n",
        "img_size = (128, 128)\n",
        "\n",
        "# Mapping for folders\n",
        "folders = {\n",
        "    'G': 0,  # Good\n",
        "    'B': 1   # Bad\n",
        "}\n",
        "\n",
        "# Load paired data (hit + vibration) and label\n",
        "def load_paired_data():\n",
        "    hit_images, vib_images, labels = [], [], []\n",
        "\n",
        "    for label_name, label_val in folders.items():\n",
        "        hit_folder = os.path.join(base_dir, f'{label_name}_hit')\n",
        "        vib_folder = os.path.join(base_dir, f'{label_name}_vib')\n",
        "\n",
        "        # Normalize and remove _hit/_vib suffixes to match\n",
        "        hit_files = {f.replace('_hit', '').replace('.png', '').lower(): f for f in os.listdir(hit_folder) if f.endswith('.png')}\n",
        "        vib_files = {f.replace('_vib', '').replace('.png', '').lower(): f for f in os.listdir(vib_folder) if f.endswith('.png')}\n",
        "\n",
        "        common_keys = set(hit_files.keys()) & set(vib_files.keys())\n",
        "        print(f\"[{label_name}] Found {len(common_keys)} matching pairs.\")\n",
        "\n",
        "        for key in common_keys:\n",
        "            hit_path = os.path.join(hit_folder, hit_files[key])\n",
        "            vib_path = os.path.join(vib_folder, vib_files[key])\n",
        "\n",
        "            try:\n",
        "                hit_img = Image.open(hit_path).convert('RGB').resize(img_size)\n",
        "                vib_img = Image.open(vib_path).convert('RGB').resize(img_size)\n",
        "\n",
        "                hit_images.append(np.array(hit_img) / 255.0)\n",
        "                vib_images.append(np.array(vib_img) / 255.0)\n",
        "                labels.append(label_val)\n",
        "\n",
        "            except Exception as e:\n",
        "                print(f\"Skipping {key} due to error:\", e)\n",
        "\n",
        "    return np.array(hit_images), np.array(vib_images), np.array(labels)\n",
        "\n",
        "# Run and inspect output\n",
        "X_hit, X_vib, y = load_paired_data()\n",
        "print(\"Loaded:\", X_hit.shape, X_vib.shape, y.shape)\n",
        "\n"
      ],
      "metadata": {
        "id": "E4xh7I1lLCrz"
      },
      "execution_count": null,
      "outputs": []
    },
    {
      "cell_type": "markdown",
      "source": [
        "*🔀 3. Train-Test Split*"
      ],
      "metadata": {
        "id": "57R08SBULSrs"
      }
    },
    {
      "cell_type": "code",
      "source": [
        "X_hit_train, X_hit_val, X_vib_train, X_vib_val, y_train, y_val = train_test_split(\n",
        "    X_hit, X_vib, y, test_size=0.2, stratify=y, random_state=42)\n"
      ],
      "metadata": {
        "id": "9QCsigwfLPLO"
      },
      "execution_count": null,
      "outputs": []
    },
    {
      "cell_type": "markdown",
      "source": [
        "*🧠 4. Define Dual-Input CNN Model*"
      ],
      "metadata": {
        "id": "I2iIJbulLXwO"
      }
    },
    {
      "cell_type": "code",
      "source": [
        "input_shape = (128, 128, 3)\n",
        "\n",
        "# Input 1: Hit\n",
        "hit_input = Input(shape=input_shape, name='hit_input')\n",
        "x1 = layers.Conv2D(32, (3, 3), activation='relu')(hit_input)\n",
        "x1 = layers.MaxPooling2D((2, 2))(x1)\n",
        "x1 = layers.Conv2D(64, (3, 3), activation='relu')(x1)\n",
        "x1 = layers.MaxPooling2D((2, 2))(x1)\n",
        "x1 = layers.Conv2D(128, (3, 3), activation='relu')(x1)\n",
        "x1 = layers.MaxPooling2D((2, 2))(x1)\n",
        "x1 = layers.Flatten()(x1)\n",
        "\n",
        "# Input 2: Vibration\n",
        "vib_input = Input(shape=input_shape, name='vibration_input')\n",
        "x2 = layers.Conv2D(32, (3, 3), activation='relu')(vib_input)\n",
        "x2 = layers.MaxPooling2D((2, 2))(x2)\n",
        "x2 = layers.Conv2D(64, (3, 3), activation='relu')(x2)\n",
        "x2 = layers.MaxPooling2D((2, 2))(x2)\n",
        "x2 = layers.Conv2D(128, (3, 3), activation='relu')(x2)\n",
        "x2 = layers.MaxPooling2D((2, 2))(x2)\n",
        "x2 = layers.Flatten()(x2)\n",
        "\n",
        "# Combine branches\n",
        "combined = layers.concatenate([x1, x2])\n",
        "dense = layers.Dense(128, activation='relu')(combined)\n",
        "dense = layers.Dropout(0.4)(dense)\n",
        "output = layers.Dense(1, activation='sigmoid')(dense)\n",
        "\n",
        "# Build Model\n",
        "model = Model(inputs=[hit_input, vib_input], outputs=output)\n",
        "\n",
        "model.compile(optimizer='adam',\n",
        "              loss='binary_crossentropy',\n",
        "              metrics=['accuracy'])\n",
        "\n",
        "model.summary()\n"
      ],
      "metadata": {
        "id": "2F9gLYPsLZS8"
      },
      "execution_count": null,
      "outputs": []
    },
    {
      "cell_type": "markdown",
      "source": [
        "*🚂 5. Train the Model*"
      ],
      "metadata": {
        "id": "iVQogKIzLhEo"
      }
    },
    {
      "cell_type": "code",
      "source": [
        "early_stop = tf.keras.callbacks.EarlyStopping(patience=5, restore_best_weights=True)\n",
        "\n",
        "history = model.fit(\n",
        "    {\"hit_input\": X_hit_train, \"vibration_input\": X_vib_train},\n",
        "    y_train,\n",
        "    validation_data=(\n",
        "        {\"hit_input\": X_hit_val, \"vibration_input\": X_vib_val},\n",
        "        y_val\n",
        "    ),\n",
        "    epochs=10,\n",
        "    batch_size=32,\n",
        "    callbacks=[early_stop]\n",
        ")\n"
      ],
      "metadata": {
        "id": "x4CscaBWLj9B"
      },
      "execution_count": null,
      "outputs": []
    },
    {
      "cell_type": "markdown",
      "source": [
        "*📊 6. Evaluate Performance*"
      ],
      "metadata": {
        "id": "E0VyVV5TLquw"
      }
    },
    {
      "cell_type": "code",
      "source": [
        "y_pred_probs = model.predict({\"hit_input\": X_hit_val, \"vibration_input\": X_vib_val}).ravel()\n",
        "y_pred_classes = (y_pred_probs > 0.5).astype(int)\n",
        "\n",
        "print(\"\\nClassification Report:\")\n",
        "print(classification_report(y_val, y_pred_classes, target_names=[\"Good\", \"Bad\"]))\n"
      ],
      "metadata": {
        "colab": {
          "base_uri": "https://localhost:8080/"
        },
        "id": "ptzqRGq8LudB",
        "outputId": "3251c993-4423-4afa-90ec-e4df0da857e4"
      },
      "execution_count": null,
      "outputs": [
        {
          "output_type": "stream",
          "name": "stdout",
          "text": [
            "\u001b[1m40/40\u001b[0m \u001b[32m━━━━━━━━━━━━━━━━━━━━\u001b[0m\u001b[37m\u001b[0m \u001b[1m14s\u001b[0m 359ms/step\n",
            "\n",
            "Classification Report:\n",
            "              precision    recall  f1-score   support\n",
            "\n",
            "        Good       0.97      0.97      0.97       623\n",
            "         Bad       0.97      0.97      0.97       638\n",
            "\n",
            "    accuracy                           0.97      1261\n",
            "   macro avg       0.97      0.97      0.97      1261\n",
            "weighted avg       0.97      0.97      0.97      1261\n",
            "\n"
          ]
        }
      ]
    },
    {
      "cell_type": "markdown",
      "source": [
        "*🔍 7. Confusion Matrix*"
      ],
      "metadata": {
        "id": "_rX1Yg7-MFVZ"
      }
    },
    {
      "cell_type": "code",
      "source": [
        "cm = confusion_matrix(y_val, y_pred_classes)\n",
        "plt.figure(figsize=(4, 4))\n",
        "plt.imshow(cm, cmap='Blues')\n",
        "plt.title(\"Confusion Matrix\")\n",
        "plt.xticks([0, 1], ['Good', 'Bad'])\n",
        "plt.yticks([0, 1], ['Good', 'Bad'])\n",
        "for i in range(2):\n",
        "    for j in range(2):\n",
        "        plt.text(j, i, cm[i, j], ha='center', va='center')\n",
        "plt.show()\n"
      ],
      "metadata": {
        "colab": {
          "base_uri": "https://localhost:8080/",
          "height": 391
        },
        "id": "9cPyTLinMETP",
        "outputId": "a4256e15-3c33-41bc-c7ca-c9e0e3153dc6"
      },
      "execution_count": null,
      "outputs": [
        {
          "output_type": "display_data",
          "data": {
            "text/plain": [
              "<Figure size 400x400 with 1 Axes>"
            ],
            "image/png": "[encoded data removed]"
          },
          "metadata": {}
        }
      ]
    },
    {
      "cell_type": "code",
      "source": [
        "import matplotlib.pyplot as plt\n",
        "\n",
        "# Plot Accuracy\n",
        "plt.figure(figsize=(10, 4))\n",
        "\n",
        "plt.subplot(1, 2, 1)\n",
        "plt.plot(history.history['accuracy'], label='Train Accuracy', marker='o')\n",
        "plt.plot(history.history['val_accuracy'], label='Val Accuracy', marker='x')\n",
        "plt.title('Model Accuracy')\n",
        "plt.xlabel('Epoch')\n",
        "plt.ylabel('Accuracy')\n",
        "plt.legend()\n",
        "plt.grid(True)\n",
        "\n",
        "# Plot Loss\n",
        "plt.subplot(1, 2, 2)\n",
        "plt.plot(history.history['loss'], label='Train Loss', marker='o')\n",
        "plt.plot(history.history['val_loss'], label='Val Loss', marker='x')\n",
        "plt.title('Model Loss')\n",
        "plt.xlabel('Epoch')\n",
        "plt.ylabel('Loss')\n",
        "plt.legend()\n",
        "plt.grid(True)\n",
        "\n",
        "plt.tight_layout()\n",
        "plt.show()\n"
      ],
      "metadata": {
        "colab": {
          "base_uri": "https://localhost:8080/",
          "height": 407
        },
        "id": "L4lTASkzdryw",
        "outputId": "d312dd6b-6420-461d-a230-841b8c245a1a"
      },
      "execution_count": null,
      "outputs": [
        {
          "output_type": "display_data",
          "data": {
            "text/plain": [
              "<Figure size 1000x400 with 2 Axes>"
            ],
            "image/png": "[encoded data removed]"
          },
          "metadata": {}
        }
      ]
    },
    {
      "cell_type": "markdown",
      "source": [
        "*💾 8. Save Model*"
      ],
      "metadata": {
        "id": "7_yk-W0fMLF7"
      }
    },
    {
      "cell_type": "code",
      "source": [
        "model.save('/content/drive/MyDrive/Hammering_Test/dual_input_brick_classifier.h5')\n"
      ],
      "metadata": {
        "colab": {
          "base_uri": "https://localhost:8080/"
        },
        "id": "_F_JJ60-MMJS",
        "outputId": "b44344a0-5f78-40ff-8f9e-c4702167e9f6"
      },
      "execution_count": null,
      "outputs": [
        {
          "output_type": "stream",
          "name": "stderr",
          "text": [
            "WARNING:absl:You are saving your model as an HDF5 file via `model.save()` or `keras.saving.save_model(model)`. This file format is considered legacy. We recommend using instead the native Keras format, e.g. `model.save('my_model.keras')` or `keras.saving.save_model(model, 'my_model.keras')`. \n"
          ]
        }
      ]
    }
  ]
}